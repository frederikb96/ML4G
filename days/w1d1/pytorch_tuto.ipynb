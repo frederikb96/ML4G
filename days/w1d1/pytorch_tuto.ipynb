{
  "cells": [
    {
      "attachments": {},
      "cell_type": "markdown",
      "metadata": {
        "id": "2FWrcFTf3sAA"
      },
      "source": [
        "# Approximate the sine function with a polynomial of degree 3\n",
        "\n",
        "In this notebook, we will be gradually moving up in the abstraction ladder:\n",
        "- 1. Bare Numpy (You need to compute the gradient by hand)\n",
        "- 2. Autograd (Here you do not need to compute the gradient by hand anymore)\n",
        "- 3. torch.nn (Using the nn Abstraction in pytorch)\n",
        "- 4. Optimizer Abstraction (Finally, we don't even need to iterate on the parameters to update them)\n",
        "\n",
        "Here is the solution if you have some difficulties: https://pytorch.org/tutorials/beginner/pytorch_with_examples.html\n",
        "\n",
        "## Tensors\n",
        "### Warm-up: numpy\n",
        "Before introducing PyTorch, we will first implement the network using numpy.\n",
        "\n",
        "Numpy provides an n-dimensional array object, and many functions for manipulating these arrays. Numpy is a generic framework for scientific computing; it does not know anything about computation graphs, or deep learning, or gradients. However we can easily use numpy to fit a third order polynomial to sine function by manually implementing the forward and backward passes through the network using numpy operations:"
      ]
    },
    {
      "attachments": {},
      "cell_type": "markdown",
      "metadata": {
        "id": "UpWDIuzG3sAJ"
      },
      "source": [
        "If you are not familiar with numpy, you can read this cheat sheet: https://www.datacamp.com/cheat-sheet/numpy-cheat-sheet-data-analysis-in-python"
      ]
    },
    {
      "cell_type": "code",
      "execution_count": null,
      "metadata": {},
      "outputs": [],
      "source": [
        "import matplotlib.pyplot as plt\n",
        "\n",
        "def plot(y_pred, y, x):\n",
        "    plt.plot(x, y, label='y (actual)')\n",
        "    plt.plot(x, y_pred, label='y_pred (predicted)')\n",
        "    plt.xlabel('x')\n",
        "    plt.ylabel('y')\n",
        "    plt.legend()\n",
        "    plt.show()"
      ]
    },
    {
      "cell_type": "code",
      "execution_count": null,
      "metadata": {
        "id": "5C-W6PIP3sAO",
        "outputId": "5a00bffc-338f-4301-8d47-0824167f7127"
      },
      "outputs": [
        {
          "name": "stdout",
          "output_type": "stream",
          "text": [
            "99 None\n",
            "199 None\n",
            "299 None\n",
            "399 None\n",
            "499 None\n",
            "599 None\n",
            "699 None\n",
            "799 None\n",
            "899 None\n",
            "999 None\n",
            "1099 None\n",
            "1199 None\n",
            "1299 None\n",
            "1399 None\n",
            "1499 None\n",
            "1599 None\n",
            "1699 None\n",
            "1799 None\n",
            "1899 None\n",
            "1999 None\n",
            "Result: y = -0.4860333282734533 + 0.35270896625513287 x + -0.003863287855150115 x^2 + -1.375583732916303 x^3\n"
          ]
        }
      ],
      "source": [
        "import numpy as np\n",
        "import math\n",
        "\n",
        "# Create random input and output data\n",
        "x = np.linspace(-math.pi, math.pi, 1000)\n",
        "y = np.sin(x)\n",
        "\n",
        "# Randomly initialize weights\n",
        "a = np.random.randn()\n",
        "b = np.random.randn()\n",
        "c = np.random.randn()\n",
        "d = np.random.randn()\n",
        "\n",
        "learning_rate = 1e-3\n",
        "epochs = 2000\n",
        "for t in range(epochs):\n",
        "    # Forward pass: compute predicted y\n",
        "    # y = a + b x + c x^2 + d x^3\n",
        "    y_pred = ...\n",
        "\n",
        "    # Computing the loss is not necessary in numpy\n",
        "    # But it will be necessary in Pytorch\n",
        "    loss = ...\n",
        "    if t % 100 == 99:\n",
        "        print(t, loss)\n",
        "\n",
        "    # compute the gradients of the loss (mean squared error loss) wrt a, b, c, d\n",
        "    # Here we calculate the difference for each point and then calculate a gradient for each point.\n",
        "    # Take a pen and paper!\n",
        "    # Warning: y_pred is a vector, and grad_a should be the mean gradient of each component of y_pred.\n",
        "    grad_a = ...\n",
        "    grad_b = ...\n",
        "    grad_c = ...\n",
        "    grad_d = ...\n",
        "\n",
        "    # Update weights\n",
        "    a -= ...\n",
        "    b -= ...\n",
        "    c -= ...\n",
        "    d -= ...\n",
        "\n",
        "print(f'Result: y = {a} + {b} x + {c} x^2 + {d} x^3')\n",
        "# Tip: If if does not work, try to use .mean() instead of .sum()"
      ]
    },
    {
      "attachments": {},
      "cell_type": "markdown",
      "metadata": {
        "id": "xg5fRGsu3sAY"
      },
      "source": [
        "Interpret the results. If the results are correct, move on to the next exercise.\n",
        "\n",
        "Note: \n",
        "- in the correction, they use a learning_rate = 1e-6 and then sum the gradients.\n",
        "- Here we use a learning_rate = 1e-3 and then average the gradients.\n"
      ]
    },
    {
      "cell_type": "code",
      "execution_count": null,
      "metadata": {},
      "outputs": [],
      "source": [
        "# Check with the plot!\n",
        "plot(y_pred, y, x)"
      ]
    },
    {
      "attachments": {},
      "cell_type": "markdown",
      "metadata": {
        "id": "TR-pDuCY3sAb"
      },
      "source": [
        "### PyTorch: Tensors\n",
        "Numpy is a great framework, but it cannot utilize GPUs to accelerate its numerical computations. For modern deep neural networks, GPUs often provide speedups of 50x or greater, so unfortunately numpy won’t be enough for modern deep learning.\n",
        "\n",
        "Here we introduce the most fundamental PyTorch concept: the Tensor. A PyTorch Tensor is conceptually identical to a numpy array: a Tensor is an n-dimensional array, and PyTorch provides many functions for operating on these Tensors. Behind the scenes, Tensors can keep track of a computational graph and gradients, but they’re also useful as a generic tool for scientific computing.\n",
        "\n",
        "Also unlike numpy, PyTorch Tensors can utilize GPUs to accelerate their numeric computations. To run a PyTorch Tensor on GPU, you simply need to specify the correct device.\n",
        "\n",
        "Here we use PyTorch Tensors to fit a third order polynomial to sine function. Like the numpy example above we need to manually implement the forward and backward passes through the network.\n",
        "\n",
        "**Note:** This is very close to the numpy implementation, and is more a translation exercise than one where you need to think a lot. We're just doing things step by step."
      ]
    },
    {
      "attachments": {},
      "cell_type": "markdown",
      "metadata": {
        "id": "bNPdCt1p3sAg"
      },
      "source": [
        "You can check the pytorch cheat sheet to get back into the swing of things: https://pytorch.org/tutorials/beginner/ptcheat.html"
      ]
    },
    {
      "cell_type": "code",
      "execution_count": null,
      "metadata": {},
      "outputs": [],
      "source": [
        "import torch\n",
        "import math\n",
        "\n",
        "\n",
        "dtype = torch.float\n",
        "device = torch.device(\"cpu\")\n",
        "# device = torch.device(\"cuda:0\") # Uncomment this to run on GPU\n",
        "\n",
        "# Create random input and output data\n",
        "x = torch.linspace(-math.pi, math.pi, 1000, device=device, dtype=dtype)\n",
        "y = torch.sin(x)\n",
        "\n",
        "# Randomly initialize weights\n",
        "a = torch.randn((), device=device, dtype=dtype)\n",
        "b = torch.randn((), device=device, dtype=dtype)\n",
        "c = torch.randn((), device=device, dtype=dtype)\n",
        "d = torch.randn((), device=device, dtype=dtype)\n",
        "\n",
        "learning_rate = 1e-3\n",
        "epochs = 2000\n",
        "for t in range(epochs):\n",
        "    # Forward pass: compute predicted y\n",
        "    y_pred = ...\n",
        "\n",
        "    # Compute and print loss\n",
        "    loss = ...\n",
        "    if t % 100 == 99:\n",
        "        print(t, loss)\n",
        "\n",
        "    # Backprop to compute gradients of a, b, c, d with respect to loss\n",
        "    grad_a = ...\n",
        "    grad_b = ...\n",
        "    grad_c = ...\n",
        "    grad_d = ...\n",
        "\n",
        "    # Update weights using gradient descent\n",
        "    a -= ...\n",
        "    b -= ...\n",
        "    c -= ...\n",
        "    d -= ...\n",
        "\n",
        "\n",
        "print(f'Result: y = {a.item()} + {b.item()} x + {c.item()} x^2 + {d.item()} x^3')\n",
        "\n",
        "# Check with the plot!\n",
        "plot(y_pred, y, x)"
      ]
    },
    {
      "attachments": {},
      "cell_type": "markdown",
      "metadata": {
        "id": "tr0332RW3sAq"
      },
      "source": [
        "## Autograd\n",
        "### PyTorch: Tensors and autograd\n",
        "In the above examples, we had to manually implement both the forward and backward passes of our neural network. Manually implementing the backward pass is not a big deal for a small two-layer network, but can quickly get very hairy for large complex networks.\n",
        "\n",
        "Thankfully, we can use automatic differentiation to automate the computation of backward passes in neural networks. The autograd package in PyTorch provides exactly this functionality. When using autograd, the forward pass of your network will define a computational graph; nodes in the graph will be Tensors, and edges will be functions that produce output Tensors from input Tensors. Backpropagating through this graph then allows you to easily compute gradients.\n",
        "\n",
        "This sounds complicated, it’s pretty simple to use in practice. Each Tensor represents a node in a computational graph. If x is a Tensor that has x.requires_grad=True then x.grad is another Tensor holding the gradient of x with respect to some scalar value.\n",
        "\n",
        "Here we use PyTorch Tensors and autograd to implement our fitting sine wave with third order polynomial example; now we no longer need to manually implement the backward pass through the network:"
      ]
    },
    {
      "cell_type": "code",
      "execution_count": null,
      "metadata": {
        "id": "dHkWtqaa3sAt",
        "outputId": "b0a969bf-8338-47e4-b7e6-c12a2e478c45"
      },
      "outputs": [
        {
          "name": "stdout",
          "output_type": "stream",
          "text": [
            "Result: y = -0.8992712497711182 + -0.6499713063240051 x + -0.03173014894127846 x^2 + -0.09811792522668839 x^3\n"
          ]
        }
      ],
      "source": [
        "# Here You must use AUTOGRAD, ie, no need to calculate by hand the gradient.\n",
        "import torch\n",
        "import math\n",
        "\n",
        "dtype = torch.float\n",
        "device = torch.device(\"cpu\")\n",
        "# device = torch.device(\"cuda:0\")  # Uncomment this to run on GPU\n",
        "\n",
        "# Create Tensors to hold input and outputs.\n",
        "# By default, requires_grad=False, which indicates that we do not need to\n",
        "# compute gradients with respect to these Tensors during the backward pass.\n",
        "x = torch.linspace(-math.pi, math.pi, 1000, device=device, dtype=dtype)\n",
        "y = torch.sin(x)\n",
        "\n",
        "# Create random Tensors for weights. For a third order polynomial, we need\n",
        "# 4 weights: y = a + b x + c x^2 + d x^3\n",
        "# Setting requires_grad=True indicates that we want to compute gradients with\n",
        "# respect to these Tensors during the backward pass.\n",
        "a = torch.randn((), device=device, dtype=dtype, requires_grad=True)\n",
        "b = torch.randn((), device=device, dtype=dtype, requires_grad=True)\n",
        "c = torch.randn((), device=device, dtype=dtype, requires_grad=True)\n",
        "d = torch.randn((), device=device, dtype=dtype, requires_grad=True)\n",
        "\n",
        "learning_rate = 1e-3\n",
        "epochs = 2000\n",
        "for t in range(epochs):\n",
        "    # Forward pass: compute predicted y using operations on Tensors. (same as above)\n",
        "    y_pred = ...\n",
        "\n",
        "    # Compute and print loss using operations on Tensors.\n",
        "    # Now loss is a Tensor of shape (1,)\n",
        "    # loss.item() gets the scalar value held in the loss.\n",
        "    loss = ...\n",
        "    if t % 100 == 99:\n",
        "        print(t, loss.item())\n",
        "\n",
        "    # Use autograd to compute the backward pass. This call will compute the\n",
        "    # gradient of loss with respect to all Tensors with requires_grad=True.\n",
        "    # After this call a.grad, b.grad. c.grad and d.grad will be Tensors holding\n",
        "    # the gradient of the loss with respect to a, b, c, d respectively.\n",
        "    ...\n",
        "\n",
        "    # Manually update weights using gradient descent. Wrap in torch.no_grad()\n",
        "    # because weights have requires_grad=True, but we don't need to track this\n",
        "    # in autograd.\n",
        "    with torch.no_grad():\n",
        "        a -= ...\n",
        "        b -= ...\n",
        "        c -= ...\n",
        "        d -= ...\n",
        "\n",
        "        # Manually zero the gradients after updating weights\n",
        "        # You can assign None or torch.zeros_like(a)\n",
        "        a.grad = ...\n",
        "        b.grad = ...\n",
        "        c.grad = ...\n",
        "        d.grad = ...\n",
        "\n",
        "print(f'Result: y = {a.item()} + {b.item()} x + {c.item()} x^2 + {d.item()} x^3')\n",
        "\n",
        "# Check with the plot!\n",
        "plot(y_pred, y, x)"
      ]
    },
    {
      "attachments": {},
      "cell_type": "markdown",
      "metadata": {
        "id": "FpqVQiEn3sAz"
      },
      "source": [
        "## nn module\n",
        "### PyTorch: nn\n",
        "Computational graphs and autograd are a very powerful paradigm for defining complex operators and automatically taking derivatives; however for large neural networks raw autograd can be a bit too low-level.\n",
        "\n",
        "When building neural networks we frequently think of arranging the computation into layers, some of which have learnable parameters which will be optimized during learning.\n",
        "\n",
        "In TensorFlow, packages like Keras, TensorFlow-Slim, and TFLearn provide higher-level abstractions over raw computational graphs that are useful for building neural networks.\n",
        "\n",
        "In PyTorch, the nn package serves this same purpose. The nn package defines a set of Modules, which are roughly equivalent to neural network layers. A Module receives input Tensors and computes output Tensors, but may also hold internal state such as Tensors containing learnable parameters. The nn package also defines a set of useful loss functions that are commonly used when training neural networks.\n",
        "\n",
        "In this example we use the nn package to implement our polynomial model network:"
      ]
    },
    {
      "cell_type": "code",
      "execution_count": null,
      "metadata": {
        "id": "b77-eRLx3sA3",
        "outputId": "9c6181c5-db16-4c19-8320-c61b7d6f9dc3"
      },
      "outputs": [
        {
          "name": "stdout",
          "output_type": "stream",
          "text": [
            "99 39822.85546875\n",
            "199 39822.85546875\n",
            "299 39822.85546875\n",
            "399 39822.85546875\n",
            "499 39822.85546875\n",
            "599 39822.85546875\n",
            "699 39822.85546875\n",
            "799 39822.85546875\n",
            "899 39822.85546875\n",
            "999 39822.85546875\n",
            "1099 39822.85546875\n",
            "1199 39822.85546875\n",
            "1299 39822.85546875\n",
            "1399 39822.85546875\n",
            "1499 39822.85546875\n",
            "1599 39822.85546875\n",
            "1699 39822.85546875\n",
            "1799 39822.85546875\n",
            "1899 39822.85546875\n",
            "1999 39822.85546875\n",
            "Result: y = 0.18952226638793945 + -0.23471364378929138 x + -0.3713393807411194 x^2 + -0.2901146709918976 x^3\n"
          ]
        }
      ],
      "source": [
        "# Complete the ??? and the ...\n",
        "import torch\n",
        "import math\n",
        "\n",
        "\n",
        "# Create Tensors to hold input and outputs.\n",
        "x = torch.linspace(-math.pi, math.pi, 1000)\n",
        "y = torch.sin(x)\n",
        "\n",
        "# For this example, the output y is a linear function of (x, x^2, x^3), so\n",
        "# we can consider it as a linear layer neural network. Let's prepare the\n",
        "# tensor (x, x^2, x^3).\n",
        "p = torch.tensor([1, 2, 3])\n",
        "xx = x.unsqueeze(-1).pow(p)\n",
        "\n",
        "# In the above code, \n",
        "# x.unsqueeze(-1) has shape  ???\n",
        "# p has shape ???, \n",
        "# For this case, broadcasting semantics will apply to obtain a tensor\n",
        "# xx of shape ???\n",
        "\n",
        "# Use the nn package to define our model as a sequence of layers. nn.Sequential\n",
        "# is a Module which contains other Modules, and applies them in sequence to\n",
        "# produce its output. The Linear Module computes output from input using a\n",
        "# linear function, and holds internal Tensors for its weight and bias.\n",
        "# The Flatten layer flatens the output of the linear layer to a 1D tensor,\n",
        "# to match the shape of `y`.\n",
        "model = torch.nn.Sequential(\n",
        "    # Important note: Linear contains a matrix that is always applied to the last dimension of a tensor.\n",
        "    torch.nn.Linear(3, 1),\n",
        "    # After the linear layer, the shape is ...\n",
        "    # Note: Flatten default arguments are Flatten(start_dim = 1, end_dim = -1)\n",
        "    # By default, start_dim = 1 because 0 corresponds to the batch dimension.\n",
        "    # We use flatten because we want the final tensor to match the shape of y.\n",
        "    torch.nn.Flatten(start_dim=0, end_dim=1)\n",
        "    # After the flatten layer, the shape is ...\n",
        ")\n",
        "\n",
        "# The nn package also contains definitions of popular loss functions; in this\n",
        "# case we will use Mean Squared Error (MSE) as our loss function.\n",
        "loss_fn = torch.nn.MSELoss(reduction='mean')\n",
        "\n",
        "learning_rate = 1e-3\n",
        "epochs = 2000\n",
        "for t in range(epochs):\n",
        "\n",
        "    # Forward pass: compute predicted y by passing x to the model. Module objects\n",
        "    # override the __call__ operator so you can call them like functions. When\n",
        "    # doing so you pass a Tensor of input data to the Module and it produces\n",
        "    # a Tensor of output data.\n",
        "    y_pred = model(xx)\n",
        "\n",
        "    # Compute and print loss. We pass Tensors containing the predicted and true\n",
        "    # values of y, and the loss function returns a Tensor containing the\n",
        "    # loss.\n",
        "    loss = loss_fn(y_pred, y)\n",
        "    if t % 100 == 99:\n",
        "        print(t, loss.item())\n",
        "\n",
        "    # Zero the gradients before running the backward pass.\n",
        "    model.zero_grad()\n",
        "\n",
        "    # Backward pass: compute gradient of the loss with respect to all the learnable\n",
        "    # parameters of the model. Internally, the parameters of each Module are stored\n",
        "    # in Tensors with requires_grad=True, so this call will compute gradients for\n",
        "    # all learnable parameters in the model.\n",
        "    loss.backward()\n",
        "\n",
        "    # Update the weights using gradient descent. Each parameter is a Tensor, so\n",
        "    # we can access its gradients like we did before.\n",
        "    with torch.no_grad():\n",
        "        for param in model.parameters():\n",
        "            param -= ...\n",
        "\n",
        "# You can access the first layer of `model` like accessing the first item of a list\n",
        "linear_layer = model[0]\n",
        "\n",
        "# For linear layer, its parameters are stored as `weight` and `bias`.\n",
        "print(f'Result: y = {linear_layer.bias.item()} + {linear_layer.weight[:, 0].item()} x + {linear_layer.weight[:, 1].item()} x^2 + {linear_layer.weight[:, 2].item()} x^3')\n",
        "\n",
        "# Check with the plot!\n",
        "plot(y_pred, y, x)"
      ]
    },
    {
      "attachments": {},
      "cell_type": "markdown",
      "metadata": {
        "id": "A5jbAeeQ3sA9"
      },
      "source": [
        "## PyTorch: optim\n",
        "Up to this point we have updated the weights of our models by manually mutating the Tensors holding learnable parameters with torch.no_grad(). This is not a huge burden for simple optimization algorithms like stochastic gradient descent, but in practice we often train neural networks using more sophisticated optimizers like AdaGrad, RMSProp, Adam, etc.\n",
        "\n",
        "The optim package in PyTorch abstracts the idea of an optimization algorithm and provides implementations of commonly used optimization algorithms.\n",
        "\n",
        "In this example we will use the nn package to define our model as before, but we will optimize the model using the RMSprop algorithm provided by the optim package:"
      ]
    },
    {
      "cell_type": "code",
      "execution_count": null,
      "metadata": {
        "id": "2ts0-Htq3sBA"
      },
      "outputs": [],
      "source": [
        "# Adapt the Above code to use torch.optim.SGD\n",
        "# You can read back the quick start https://pytorch.org/tutorials/beginner/basics/intro.html\n",
        "..."
      ]
    },
    {
      "attachments": {},
      "cell_type": "markdown",
      "metadata": {
        "id": "gSGr2kmD3sBD"
      },
      "source": []
    }
  ],
  "metadata": {
    "colab": {
      "name": "Copie de pytorch_tuto.ipynb",
      "provenance": []
    },
    "kernelspec": {
      "display_name": "ML4GS",
      "language": "python",
      "name": "python3"
    },
    "language_info": {
      "codemirror_mode": {
        "name": "ipython",
        "version": 3
      },
      "file_extension": ".py",
      "mimetype": "text/x-python",
      "name": "python",
      "nbconvert_exporter": "python",
      "pygments_lexer": "ipython3",
      "version": "3.9.16 (main, Jan 11 2023, 10:02:19) \n[Clang 14.0.6 ]"
    },
    "orig_nbformat": 4,
    "vscode": {
      "interpreter": {
        "hash": "2976a061e207041c5ea034acf520ab7eefe3f1128fd85ff62a2d139d31ccd0fd"
      }
    }
  },
  "nbformat": 4,
  "nbformat_minor": 0
}
