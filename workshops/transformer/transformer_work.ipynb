{
  "cells": [
    {
      "cell_type": "markdown",
      "metadata": {
        "id": "sRrD2AbyMwmP"
      },
      "source": [
        "# [1.1] - Transformers from scratch\n"
      ]
    },
    {
      "cell_type": "markdown",
      "metadata": {
        "id": "kHInWlhzdAyQ"
      },
      "source": [
        "<a href=\"https://colab.research.google.com/github/EffiSciencesResearch/ML4G/blob/main/workshops/transformer/transformer.ipynb\" target=\"_parent\"><img src=\"https://colab.research.google.com/assets/colab-badge.svg\" alt=\"Open In Colab\"/></a>\n",
        "\n",
        "Thanks to Callum McDougall for this Notebook.\n",
        "\n",
        "This notebook should take 2 full days to complete, you should not do parts 3 and 4. We also advise you not to look too much at the bonus or collapsed nerd-sniping stuff."
      ]
    },
    {
      "cell_type": "markdown",
      "metadata": {
        "id": "9XdSGDOH2qtL"
      },
      "source": [
        "<img src=\"https://raw.githubusercontent.com/callummcdougall/TransformerLens-intro/main/images/page_images/transformer-building.png\" width=\"350\">\n"
      ]
    },
    {
      "cell_type": "markdown",
      "metadata": {
        "id": "Ny4PdCRf3YPu"
      },
      "source": [
        "# Introduction"
      ]
    },
    {
      "cell_type": "markdown",
      "metadata": {
        "id": "IGQQ6Sm7fHNm"
      },
      "source": [
        "This is a clean, first principles implementation of GPT-2 in PyTorch. The architectural choices closely follow those used by the TransformerLens library (which you'll be using a lot more in later exercises).\n",
        "\n",
        "Each exercise will have a difficulty and importance rating out of 5, as well as an estimated maximum time you should spend on these exercises and sometimes a short annotation. You should interpret the ratings & time estimates relatively (e.g. if you find yourself spending about 50% longer on the exercises than the time estimates, adjust accordingly). Please do skip exercises / look at solutions if you don't feel like they're important enough to be worth doing, and you'd rather get to the good stuff!\n"
      ]
    },
    {
      "cell_type": "markdown",
      "metadata": {
        "id": "ugWVaR9Gm4Rw"
      },
      "source": [
        "## Content & Learning Objectives\n"
      ]
    },
    {
      "cell_type": "markdown",
      "metadata": {
        "id": "jzS18i5wfHNm"
      },
      "source": [
        "#### 1️⃣ Understanding Inputs & Outputs of a Transformer\n",
        "\n",
        "In this section, we'll take a first look at transformers - what their function is, how information moves inside a transformer, and what inputs & outputs they take.\n",
        "\n",
        "> ##### Learning objectives\n",
        ">\n",
        "> - Understand what a transformer is used for\n",
        "> - Understand causal attention, and what a transformer's output representsalgebra operations on tensors\n",
        "> - Learn what tokenization is, and how models do it\n",
        "> - Understand what logits are, and how to use them to derive a probability distribution over the vocabulary\n",
        "\n",
        "#### 2️⃣ Clean Transformer Implementation\n",
        "\n",
        "Here, we'll implement a transformer from scratch, using only PyTorch's tensor operations. This will give us a good understanding of how transformers work, and how to use them. We do this by going module-by-module, in an experience which should feel somewhat similar to last week's ResNet exercises. Much like with ResNets, you'll conclude by loading in pretrained weights and verifying that your model works as expected.\n",
        "\n",
        "> ##### Learning objectives\n",
        ">\n",
        "> * Understand that a transformer is composed of attention heads and MLPs, with each one performing operations on the residual stream\n",
        "> * Understand that the attention heads in a single layer operate independently, and that they have the role of calculating attention patterns (which determine where information is moved to & from in the residual stream)\n",
        "> * Learn about & implement the following transformer modules:\n",
        ">     * (Bonus) LayerNorm (transforming the input to have zero mean and unit variance)\n",
        ">     * Positional embedding (a lookup table from position indices to residual stream vectors)\n",
        ">     * Attention (the method of computing attention patterns for residual stream vectors)\n",
        ">     * MLP (the collection of linear and nonlinear transformations which operate on each residual stream vector in the same way)\n",
        ">     * Embedding (a lookup table from tokens to residual stream vectors)\n",
        ">     * Unembedding (a matrix for converting residual stream vectors into a distribution over tokens)\n",
        "\n",
        "#### 3️⃣ (Bonus) Training a Transformer\n",
        "\n",
        "Next, you'll learn how to train your transformer from scratch. This will be quite similar to the training loops you wrote for ResNet in your first week.\n",
        "\n",
        "> ##### Learning objectives\n",
        ">\n",
        "> * Understand how to train a transformer from scratch\n",
        "> * Write a basic transformer training loop\n",
        "> * Interpret the transformer's falling cross entropy loss with reference to features of the training data (e.g. bigram frequencies)\n",
        "\n",
        "#### 4️⃣ (Bonus) Sampling from a Transformer\n",
        "\n",
        "Lastly, you'll learn how to sample from a transformer. This will involve implementing a few different sampling methods, and writing a caching system which can reuse computations from previous forward passes to improve your model's text generation speed.\n",
        "\n",
        "*The second half of this section is less important, and you can skip it if you want.*\n",
        "\n",
        "> ##### Learning objectives\n",
        ">\n",
        "> * Learn how to sample from a transformer\n",
        ">     * This includes basic methods like greedy search or top-k, and more advanced methods like beam search\n",
        "> * Learn how to cache the output of a transformer, so that it can be used to generate text more efficiently\n",
        ">     * Optionally, rewrite your sampling functions to make use of your caching methods\n"
      ]
    },
    {
      "cell_type": "markdown",
      "metadata": {
        "id": "3mItbKVVm4Rx"
      },
      "source": [
        "## Setup (don't read, just run!)\n"
      ]
    },
    {
      "cell_type": "code",
      "execution_count": null,
      "metadata": {
        "id": "P_ngQtCbm4Rx",
        "colab": {
          "base_uri": "https://localhost:8080/"
        },
        "outputId": "301f2ecc-3683-4708-f18f-50323a3279aa"
      },
      "outputs": [
        {
          "output_type": "stream",
          "name": "stdout",
          "text": [
            "\u001b[?25l     \u001b[90m━━━━━━━━━━━━━━━━━━━━━━━━━━━━━━━━━━━━━━━━\u001b[0m \u001b[32m0.0/106.0 kB\u001b[0m \u001b[31m?\u001b[0m eta \u001b[36m-:--:--\u001b[0m\r\u001b[2K     \u001b[90m━━━━━━━━━━━━━━━━━━━━━━━━━━━━━━━━━━━━━━━\u001b[0m \u001b[32m106.0/106.0 kB\u001b[0m \u001b[31m3.6 MB/s\u001b[0m eta \u001b[36m0:00:00\u001b[0m\n",
            "\u001b[2K     \u001b[90m━━━━━━━━━━━━━━━━━━━━━━━━━━━━━━━━━━━━━━━━\u001b[0m \u001b[32m42.2/42.2 kB\u001b[0m \u001b[31m3.5 MB/s\u001b[0m eta \u001b[36m0:00:00\u001b[0m\n",
            "\u001b[2K     \u001b[90m━━━━━━━━━━━━━━━━━━━━━━━━━━━━━━━━━━━━━━━━\u001b[0m \u001b[32m1.8/1.8 MB\u001b[0m \u001b[31m36.9 MB/s\u001b[0m eta \u001b[36m0:00:00\u001b[0m\n",
            "\u001b[2K     \u001b[90m━━━━━━━━━━━━━━━━━━━━━━━━━━━━━━━━━━━━━━\u001b[0m \u001b[32m739.7/739.7 kB\u001b[0m \u001b[31m39.7 MB/s\u001b[0m eta \u001b[36m0:00:00\u001b[0m\n",
            "\u001b[2K     \u001b[90m━━━━━━━━━━━━━━━━━━━━━━━━━━━━━━━━━━━━━━\u001b[0m \u001b[32m519.3/519.3 kB\u001b[0m \u001b[31m34.6 MB/s\u001b[0m eta \u001b[36m0:00:00\u001b[0m\n",
            "\u001b[2K     \u001b[90m━━━━━━━━━━━━━━━━━━━━━━━━━━━━━━━━━━━━━━━━\u001b[0m \u001b[32m7.5/7.5 MB\u001b[0m \u001b[31m103.3 MB/s\u001b[0m eta \u001b[36m0:00:00\u001b[0m\n",
            "\u001b[2K     \u001b[90m━━━━━━━━━━━━━━━━━━━━━━━━━━━━━━━━━━━━━━━━\u001b[0m \u001b[32m2.1/2.1 MB\u001b[0m \u001b[31m93.8 MB/s\u001b[0m eta \u001b[36m0:00:00\u001b[0m\n",
            "\u001b[2K     \u001b[90m━━━━━━━━━━━━━━━━━━━━━━━━━━━━━━━━━━━━━━\u001b[0m \u001b[32m115.3/115.3 kB\u001b[0m \u001b[31m12.0 MB/s\u001b[0m eta \u001b[36m0:00:00\u001b[0m\n",
            "\u001b[2K     \u001b[90m━━━━━━━━━━━━━━━━━━━━━━━━━━━━━━━━━━━━━━\u001b[0m \u001b[32m194.1/194.1 kB\u001b[0m \u001b[31m17.3 MB/s\u001b[0m eta \u001b[36m0:00:00\u001b[0m\n",
            "\u001b[2K     \u001b[90m━━━━━━━━━━━━━━━━━━━━━━━━━━━━━━━━━━━━━━\u001b[0m \u001b[32m134.8/134.8 kB\u001b[0m \u001b[31m13.0 MB/s\u001b[0m eta \u001b[36m0:00:00\u001b[0m\n",
            "\u001b[2K     \u001b[90m━━━━━━━━━━━━━━━━━━━━━━━━━━━━━━━━━━━━━━\u001b[0m \u001b[32m268.8/268.8 kB\u001b[0m \u001b[31m19.7 MB/s\u001b[0m eta \u001b[36m0:00:00\u001b[0m\n",
            "\u001b[2K     \u001b[90m━━━━━━━━━━━━━━━━━━━━━━━━━━━━━━━━━━━━━━━━\u001b[0m \u001b[32m7.8/7.8 MB\u001b[0m \u001b[31m124.5 MB/s\u001b[0m eta \u001b[36m0:00:00\u001b[0m\n",
            "\u001b[2K     \u001b[90m━━━━━━━━━━━━━━━━━━━━━━━━━━━━━━━━━━━━━━━━\u001b[0m \u001b[32m1.3/1.3 MB\u001b[0m \u001b[31m80.2 MB/s\u001b[0m eta \u001b[36m0:00:00\u001b[0m\n",
            "\u001b[2K     \u001b[90m━━━━━━━━━━━━━━━━━━━━━━━━━━━━━━━━━━━━━━\u001b[0m \u001b[32m188.5/188.5 kB\u001b[0m \u001b[31m18.3 MB/s\u001b[0m eta \u001b[36m0:00:00\u001b[0m\n",
            "\u001b[2K     \u001b[90m━━━━━━━━━━━━━━━━━━━━━━━━━━━━━━━━━━━━━━\u001b[0m \u001b[32m215.6/215.6 kB\u001b[0m \u001b[31m20.3 MB/s\u001b[0m eta \u001b[36m0:00:00\u001b[0m\n",
            "\u001b[?25h  Preparing metadata (setup.py) ... \u001b[?25l\u001b[?25hdone\n",
            "\u001b[2K     \u001b[90m━━━━━━━━━━━━━━━━━━━━━━━━━━━━━━━━━━━━━━━━\u001b[0m \u001b[32m62.7/62.7 kB\u001b[0m \u001b[31m6.5 MB/s\u001b[0m eta \u001b[36m0:00:00\u001b[0m\n",
            "\u001b[?25h  Building wheel for pathtools (setup.py) ... \u001b[?25l\u001b[?25hdone\n"
          ]
        }
      ],
      "source": [
        "%pip install transformer_lens einops jaxtyping circuitsvis -q"
      ]
    },
    {
      "cell_type": "code",
      "execution_count": null,
      "metadata": {
        "id": "tfWhhdEBm4Ry",
        "colab": {
          "base_uri": "https://localhost:8080/",
          "height": 244,
          "referenced_widgets": [
            "260a198810bf45ddaac64a6e1f542ffc",
            "0915ac6410f748b0916ff6807dccf346",
            "5fbfbc29c6a0492cbeab0290f7552173",
            "7a87687bc6d64d828785ab90c6761f4e",
            "28454a5630d54900825c3dabb0b562b9",
            "4be1b6edd83a42d191591486382d3a1e",
            "e2bee0c14336494682cbded1323424fc",
            "789f53730bf64030ab7f2c13a7370bfa",
            "65429cd17df248c6924e5fe3124c1c32",
            "008d122ce1554737a061e59cb8ff4482",
            "98d563b9aafe4494aaf37749d9e3777b",
            "1cf3c0dbb4cc47afb939ff2837983133",
            "bc21f6c45a6543829d4bd22631138310",
            "d7e2bce310eb493aa908af0c9c9c110d",
            "e9e13220d780440aaa47d22e2bee8683",
            "bfdc3bd376694d90a8c434c22d1053fc",
            "6cc0cd4f53484d159c06e632160e79b8",
            "e875544a89174ca4b41b2ac08377a418",
            "4aeb23bca3964ad0841c00f29058d35c",
            "d2c714f630be450cb5f25dba9ffae1b1",
            "33ecd7fa34374504b2fee78e5babb933",
            "e1ff4a03f62f42d9ba3751b795804d1b",
            "6b99691c8a1044819d5e100c6ada985e",
            "cbd72d718a354f71981b9bf51321efbf",
            "857621dc99814e14ad446a0b29aba939",
            "cab6db886e874f4f994b101d12ea6bab",
            "239daecbb84d43a99a09f2e6fb0ed2a0",
            "1c263030c30748709b4e77d5bc01345c",
            "cea8a83071e04979a60e26eebc6b3b8e",
            "659c9dbfbbf847ba907ca9df440481fc",
            "ac9ec954aa25499db0acc4491f499a51",
            "0afbe1c55e2644fb83ce12851e55e2ab",
            "bd8d6723273f4d459afe7336e17fe619",
            "f6685c6f212d46a4941756045696ea6f",
            "7530976ec4f744b89c5e1a1ad3c40677",
            "ca8bd6fda69044d68328064f8c7c0e6d",
            "d9bc9495379c4c88973b2b7f0ad8290c",
            "dc802dd5b9124fdeb7d9bdd119ef4490",
            "ffcdb014a313456fb22d8747a2129140",
            "4c47abaae3a843efbe556cf3711d1778",
            "1a986b9f435644bf83d5995bcd935e37",
            "4583c08de0284097bf0a089da3893784",
            "a2312afac7c248f9a86092eb5766bcac",
            "41b1534f7f894e259da51e3b2591394f",
            "9f9ea0c5a7294991844f0fc27b6c6182",
            "49075a89df634afa85cc296db70253a4",
            "22f42547e50c427bb628acd5328fee3b",
            "d7c96ed3eed94079a06a52ecc498a63f",
            "677882923422443a8ce135fe60b68c2d",
            "03bef5125b10401b97ce0eadc9e5fc38",
            "2974f30dbf074375b98327fb7b2bb244",
            "394cc29da0cc49e0bd7ae3f5bf28780c",
            "9e875f00020b4263b9e4972b041d1775",
            "4775d2e92554409a8c1ebb723614ede0",
            "a58132ce16364911afe9196cf7a5fa52",
            "1bf0d75924d24c5f89f31b5476d25f3d",
            "f6fd6878fab948878e2bb32f1c02bb3c",
            "ad1f7dd14aa548a49af112d1756e2a7c",
            "c95e5a06656244849b3f978c82a8bb59",
            "7ef9af9aff034da69d121b85a4a741e4",
            "2d76cedbdf5245d9ac83008867065c1b",
            "47be3b2cf2fb4d4a9df3ac82817611fc",
            "8185f26675a046b8915d4a84601e9e19",
            "cf053ef492494af7bf2ac405d9de6b48",
            "596f6860e377497f99f0d37689151755",
            "fe5ccbca93ef49e09c1dbda91777fa65"
          ]
        },
        "outputId": "874bbec0-806e-422c-e1b2-b26fa8cdd9c9"
      },
      "outputs": [
        {
          "output_type": "display_data",
          "data": {
            "text/plain": [
              "Downloading (…)lve/main/config.json:   0%|          | 0.00/665 [00:00<?, ?B/s]"
            ],
            "application/vnd.jupyter.widget-view+json": {
              "version_major": 2,
              "version_minor": 0,
              "model_id": "260a198810bf45ddaac64a6e1f542ffc"
            }
          },
          "metadata": {}
        },
        {
          "output_type": "display_data",
          "data": {
            "text/plain": [
              "Downloading model.safetensors:   0%|          | 0.00/548M [00:00<?, ?B/s]"
            ],
            "application/vnd.jupyter.widget-view+json": {
              "version_major": 2,
              "version_minor": 0,
              "model_id": "1cf3c0dbb4cc47afb939ff2837983133"
            }
          },
          "metadata": {}
        },
        {
          "output_type": "display_data",
          "data": {
            "text/plain": [
              "Downloading (…)neration_config.json:   0%|          | 0.00/124 [00:00<?, ?B/s]"
            ],
            "application/vnd.jupyter.widget-view+json": {
              "version_major": 2,
              "version_minor": 0,
              "model_id": "6b99691c8a1044819d5e100c6ada985e"
            }
          },
          "metadata": {}
        },
        {
          "output_type": "display_data",
          "data": {
            "text/plain": [
              "Downloading (…)olve/main/vocab.json:   0%|          | 0.00/1.04M [00:00<?, ?B/s]"
            ],
            "application/vnd.jupyter.widget-view+json": {
              "version_major": 2,
              "version_minor": 0,
              "model_id": "f6685c6f212d46a4941756045696ea6f"
            }
          },
          "metadata": {}
        },
        {
          "output_type": "display_data",
          "data": {
            "text/plain": [
              "Downloading (…)olve/main/merges.txt:   0%|          | 0.00/456k [00:00<?, ?B/s]"
            ],
            "application/vnd.jupyter.widget-view+json": {
              "version_major": 2,
              "version_minor": 0,
              "model_id": "9f9ea0c5a7294991844f0fc27b6c6182"
            }
          },
          "metadata": {}
        },
        {
          "output_type": "display_data",
          "data": {
            "text/plain": [
              "Downloading (…)/main/tokenizer.json:   0%|          | 0.00/1.36M [00:00<?, ?B/s]"
            ],
            "application/vnd.jupyter.widget-view+json": {
              "version_major": 2,
              "version_minor": 0,
              "model_id": "1bf0d75924d24c5f89f31b5476d25f3d"
            }
          },
          "metadata": {}
        },
        {
          "output_type": "stream",
          "name": "stderr",
          "text": [
            "Using pad_token, but it is not set yet.\n"
          ]
        },
        {
          "output_type": "stream",
          "name": "stdout",
          "text": [
            "Loaded pretrained model gpt2-small into HookedTransformer\n"
          ]
        }
      ],
      "source": [
        "import os;\n",
        "# os.environ['ACCELERATE_DISABLE_RICH'] = \"1\"\n",
        "# os.environ['CUDA_LAUNCH_BLOCKING'] = \"1\"\n",
        "import sys\n",
        "import einops\n",
        "from dataclasses import dataclass\n",
        "from transformer_lens import HookedTransformer\n",
        "from transformer_lens.utils import gelu_new, tokenize_and_concatenate\n",
        "import torch as t\n",
        "from torch import Tensor\n",
        "import torch.nn as nn\n",
        "import numpy as np\n",
        "import math\n",
        "from tqdm.notebook import tqdm\n",
        "from typing import Tuple, List, Optional, Dict\n",
        "from jaxtyping import Float, Int\n",
        "from transformers.models.gpt2.tokenization_gpt2_fast import GPT2TokenizerFast\n",
        "from collections import defaultdict\n",
        "from rich.table import Table\n",
        "from rich import print as rprint\n",
        "import datasets\n",
        "from torch.utils.data import DataLoader\n",
        "import wandb\n",
        "from pathlib import Path\n",
        "import webbrowser\n",
        "\n",
        "device = t.device(\"cuda\" if t.cuda.is_available() else \"cpu\")\n",
        "\n",
        "reference_gpt2 = HookedTransformer.from_pretrained(\"gpt2-small\", fold_ln=False, center_unembed=False, center_writing_weights=False)"
      ]
    },
    {
      "cell_type": "markdown",
      "metadata": {
        "id": "w1x_mWI6m4Rz"
      },
      "source": [
        "# 1️⃣ Understanding Inputs & Outputs of a Transformer\n"
      ]
    },
    {
      "cell_type": "markdown",
      "metadata": {
        "id": "B_FUMfnwA6Oq"
      },
      "source": [
        "> ### Learning Objectives\n",
        ">\n",
        "> * Understand what a transformer is used for\n",
        "> * Understand causal attention, and what a transformer's output represents\n",
        "> * Learn what tokenization is, and how models do it\n",
        "> * Understand what logits are, and how to use them to derive a probability distribution over the vocabulary\n"
      ]
    },
    {
      "cell_type": "markdown",
      "metadata": {
        "id": "d--zV4Crm4Rz"
      },
      "source": [
        "## What is the point of a transformer?\n"
      ]
    },
    {
      "cell_type": "markdown",
      "metadata": {
        "id": "MaMw4jYgm4Rz"
      },
      "source": [
        "**Transformers exist to model text!**\n",
        "\n",
        "We're going to focus GPT-2 style transformers. Key feature: They generate text! You feed in language, and the model generates a probability distribution over tokens. And you can repeatedly sample from this to generate text!\n",
        "\n",
        "(To explain this in more detail - you feed in a sequence of length $N$, then sample from the probability distribution over the $N+1$-th word, use this to construct a new sequence of length $N+1$, then feed this new sequence into the model to get a probability distribution over the $N+2$-th word, and so on.)\n",
        "\n",
        "### How is the model trained?\n",
        "\n",
        "You give it a bunch of text, and train it to predict the next token.\n",
        "\n",
        "Importantly, if you give a model 100 tokens in a sequence, it predicts the next token for *each* prefix, i.e. it produces 100 logit vectors (= probability distributions) over the set of all words in our vocabulary, with the `i`-th logit vector representing the probability distribution over the token *following* the `i`-th token in the sequence.\n",
        "\n",
        "<details>\n",
        "<summary>Aside - logits</summary>\n",
        "\n",
        "If you haven't encountered the term \"logits\" before, here's a quick refresher.\n",
        "\n",
        "Given an arbitrary vector $x$, we can turn it into a probability distribution via the **softmax** function: $x_i \\to \\frac{e^{x_i}}{\\sum e^{x_j}}$. The exponential makes everything positive; the normalization makes it add to one.\n",
        "\n",
        "The model's output is the vector $x$ (one for each prediction it makes). We call this vector a logit because it represents a probability distribution, and it is related to the actual probabilities via the softmax function.\n",
        "</details>\n",
        "\n",
        "How do we stop the transformer by \"cheating\" by just looking at the tokens it's trying to predict? Answer - we make the transformer have *causal attention* (as opposed to *bidirectional attention*). Causal attention only allows information to move forwards in the sequence, never backwards. The prediction of what comes after token 50 is only a function of the first 50 tokens, *not* of token 51. We say the transformer is **autoregressive**, because it only predicts future words based on past data.\n"
      ]
    },
    {
      "cell_type": "markdown",
      "metadata": {
        "id": "AHzR45fBfHNq"
      },
      "source": [
        "<img src=\"https://raw.githubusercontent.com/callummcdougall/computational-thread-art/master/example_images/misc/transformer-overview-new.png\" width=\"900\">\n"
      ]
    },
    {
      "cell_type": "markdown",
      "metadata": {
        "id": "z8ZVvPhDm4R0"
      },
      "source": [
        "## Tokens - Transformer Inputs\n"
      ]
    },
    {
      "cell_type": "markdown",
      "metadata": {
        "id": "UkBYr2qym4R0"
      },
      "source": [
        "Our tranformer's input is natural language (i.e. a sequence of characters, strings, etc). But ML models generally take vectors as input, not langage. How do we convert language to vectors?\n",
        "\n",
        "We can factor this into 2 questions:\n",
        "\n",
        "1. How do we split up language into small sub-units?\n",
        "2. How do we convert these sub-units into vectors?\n",
        "\n",
        "Let's start with the second of these questions.\n"
      ]
    },
    {
      "cell_type": "markdown",
      "metadata": {
        "id": "MRP795JofHNq"
      },
      "source": [
        "### Converting sub-units to vectors\n",
        "\n",
        "We basically make a massive lookup table, which is called an **embedding**. It has one vector for each possible sub-unit of language we might get (we call this set of all sub-units our **vocabulary**). We label every element in our vocabulary with an integer (this labelling never changes), and we use this integer to index into the embedding.\n",
        "\n",
        "A key intuition is that one-hot encodings let you think about each integer independently. We don't bake in any relation between words when we perform our embedding, because every word has a completely separate embedding vector.\n",
        "\n",
        "<details>\n",
        "<summary>Aside - one-hot encodings</summary>\n",
        "\n",
        "We sometimes think about **one-hot encodings** of words. These are vectors with zeros everywhere, except for a single one in the position corresponding to the word's index in the vocabulary. This means that indexing into the embedding is equivalent to multiplying the **embedding matrix** by the one-hot encoding (where the embedding matrix is the matrix we get by stacking all the embedding vectors on top of each other).\n",
        "\n",
        "$$\n",
        "\\begin{aligned}\n",
        "W_E &= \\begin{bmatrix}\n",
        "\\leftarrow v_0 \\rightarrow \\\\\n",
        "\\leftarrow v_1 \\rightarrow \\\\\n",
        "\\vdots \\\\\n",
        "\\leftarrow v_{d_{vocab}-1} \\rightarrow \\\\\n",
        "\\end{bmatrix} \\quad \\text{is the embedding matrix (size }d_{vocab} \\times d_{embed}\\text{),} \\\\\n",
        "\\\\\n",
        "t_i &= (0, \\dots, 0, 1, 0, \\dots, 0) \\quad \\text{is the one-hot encoding for the }i\\text{th word (length }d_{vocab}\\text{)} \\\\\n",
        "\\\\\n",
        "v_i &= t_i W_E \\quad \\text{is the embedding vector for the }i\\text{th word (length }d_{embed}\\text{).} \\\\\n",
        "\\end{aligned}\n",
        "$$\n",
        "\n",
        "</details>\n",
        "\n",
        "Now, let's answer the first question - how do we split language into sub-units?\n"
      ]
    },
    {
      "cell_type": "markdown",
      "metadata": {
        "id": "Y7t_YsDxm4R0"
      },
      "source": [
        "### (Bonus) Splitting language into sub-units\n",
        "\n",
        "We need to define a standard way of splitting up language into a series of substrings, where each substring is a member of our **vocabulary** set.\n",
        "\n",
        "Could we use a dictionary, and have our vocabulary be the set of all words in the dictionary? No, because this couldn't handle arbitrary text (e.g. URLs, punctuation, etc). We need a more general way of splitting up language.\n",
        "\n",
        "Could we just use the 256 ASCII characters? This fixes the previous problem, but it loses structure of language - some sequences of characters are more meaningful than others. For example, \"language\" is a lot more meaningful than \"hjksdfiu\". We want \"language\" to be a single token, but not \"hjksdfiu\" - this is a more efficient use of our vocab.\n",
        "\n",
        "What actually happens? The most common strategy is called **Byte-Pair encodings**.\n",
        "\n",
        "We begin with the 256 ASCII characters as our tokens, and then find the most common pair of tokens, and merge that into a new token. Note that we do have a space character as one of our 256 tokens, and merges using space are very common. For instance, here are the five first merges for the tokenizer used by GPT-2 (you'll be able to verify this below).\n",
        "\n",
        "```\n",
        "\" t\"\n",
        "\" a\"\n",
        "\"he\"\n",
        "\"in\"\n",
        "\"re\"\n",
        "```\n",
        "\n",
        "Note - you might see the character `Ġ` in front of some tokens. This is a special token that indicates that the token begins with a space. Tokens with a leading space vs not are different.\n",
        "\n",
        "You can run the code below to see some more of GPT-2's tokenizer's vocabulary:\n"
      ]
    },
    {
      "cell_type": "code",
      "execution_count": null,
      "metadata": {
        "id": "sHq2U0hKnXMm",
        "colab": {
          "base_uri": "https://localhost:8080/"
        },
        "outputId": "bdcfc7cc-78a9-48ae-c339-9a5a6e75c0d4"
      },
      "outputs": [
        {
          "output_type": "stream",
          "name": "stdout",
          "text": [
            "[('!', 0), ('\"', 1), ('#', 2), ('$', 3), ('%', 4), ('&', 5), (\"'\", 6), ('(', 7), (')', 8), ('*', 9), ('+', 10), (',', 11), ('-', 12), ('.', 13), ('/', 14), ('0', 15), ('1', 16), ('2', 17), ('3', 18), ('4', 19)]\n",
            "\n",
            "[('ľ', 250), ('Ŀ', 251), ('ŀ', 252), ('Ł', 253), ('ł', 254), ('Ń', 255), ('Ġt', 256), ('Ġa', 257), ('he', 258), ('in', 259), ('re', 260), ('on', 261), ('Ġthe', 262), ('er', 263), ('Ġs', 264), ('at', 265), ('Ġw', 266), ('Ġo', 267), ('en', 268), ('Ġc', 269)]\n",
            "\n",
            "[('Ġprodu', 990), ('Ġstill', 991), ('led', 992), ('ah', 993), ('Ġhere', 994), ('Ġworld', 995), ('Ġthough', 996), ('Ġnum', 997), ('arch', 998), ('imes', 999), ('ale', 1000), ('ĠSe', 1001), ('ĠIf', 1002), ('//', 1003), ('ĠLe', 1004), ('Ġret', 1005), ('Ġref', 1006), ('Ġtrans', 1007), ('ner', 1008), ('ution', 1009)]\n",
            "\n"
          ]
        }
      ],
      "source": [
        "sorted_vocab = sorted(list(reference_gpt2.tokenizer.vocab.items()), key=lambda n: n[1])\n",
        "print(sorted_vocab[:20])\n",
        "print()\n",
        "print(sorted_vocab[250:270])\n",
        "print()\n",
        "print(sorted_vocab[990:1010])\n",
        "print()"
      ]
    },
    {
      "cell_type": "markdown",
      "metadata": {
        "id": "ddGjdpeinaI8"
      },
      "source": [
        "As you get to the end of the vocabulary, you'll be producing some pretty weird-looking esoteric tokens (because you'll already have exhausted all of the short frequently-occurring ones):\n"
      ]
    },
    {
      "cell_type": "code",
      "execution_count": null,
      "metadata": {
        "id": "Rl40Jlw0m4R0",
        "colab": {
          "base_uri": "https://localhost:8080/"
        },
        "outputId": "becad435-0cae-4a36-f0ab-739100d9aa97"
      },
      "outputs": [
        {
          "output_type": "stream",
          "name": "stdout",
          "text": [
            "[('Revolution', 50237), ('Ġsnipers', 50238), ('Ġreverted', 50239), ('Ġconglomerate', 50240), ('Terry', 50241), ('794', 50242), ('Ġharsher', 50243), ('Ġdesolate', 50244), ('ĠHitman', 50245), ('Commission', 50246), ('Ġ(/', 50247), ('âĢ¦.\"', 50248), ('Compar', 50249), ('Ġamplification', 50250), ('ominated', 50251), ('Ġregress', 50252), ('ĠCollider', 50253), ('Ġinformants', 50254), ('Ġgazed', 50255), ('<|endoftext|>', 50256)]\n"
          ]
        }
      ],
      "source": [
        "print(sorted_vocab[-20:])"
      ]
    },
    {
      "cell_type": "markdown",
      "metadata": {
        "id": "S5OKWOqHnmBg"
      },
      "source": [
        "Transformers in the `transformer_lens` library have a `to_tokens` method that converts text to numbers. It also prepends them with a special token called BOS (beginning of sequence) to indicate the start of a sequence. You can disable this with the `prepend_bos=False` argument.\n",
        "\n",
        "\n",
        "\n",
        "### Some tokenization annoyances\n",
        "\n",
        "There are a few funky and frustrating things about tokenization, which causes it to behave differently than you might expect. For instance:\n",
        "\n",
        "#### Whether a word begins with a capital or space matters!\n"
      ]
    },
    {
      "cell_type": "code",
      "execution_count": null,
      "metadata": {
        "id": "0vlZ-pRAnoEw",
        "colab": {
          "base_uri": "https://localhost:8080/"
        },
        "outputId": "517a7273-e028-4115-ce1e-2c367957977c"
      },
      "outputs": [
        {
          "output_type": "stream",
          "name": "stdout",
          "text": [
            "['<|endoftext|>', 'R', 'alph']\n",
            "['<|endoftext|>', ' Ralph']\n",
            "['<|endoftext|>', ' r', 'alph']\n",
            "['<|endoftext|>', 'ral', 'ph']\n"
          ]
        }
      ],
      "source": [
        "print(reference_gpt2.to_str_tokens(\"Ralph\"))\n",
        "print(reference_gpt2.to_str_tokens(\" Ralph\"))\n",
        "print(reference_gpt2.to_str_tokens(\" ralph\"))\n",
        "print(reference_gpt2.to_str_tokens(\"ralph\"))"
      ]
    },
    {
      "cell_type": "markdown",
      "metadata": {
        "id": "joPO920PntIw"
      },
      "source": [
        "#### Arithmetic is a mess.\n",
        "\n",
        "Length is inconsistent, common numbers bundle together.\n"
      ]
    },
    {
      "cell_type": "code",
      "execution_count": null,
      "metadata": {
        "id": "rzbf4t-Zm4R1",
        "colab": {
          "base_uri": "https://localhost:8080/"
        },
        "outputId": "08356c6e-ff6a-4c3f-cb46-bb27d9075773"
      },
      "outputs": [
        {
          "output_type": "stream",
          "name": "stdout",
          "text": [
            "['<|endoftext|>', '568', '73', '+', '318', '46', '23', '=', '123', '45', '67', '89', '-', '1', '000000', '000']\n"
          ]
        }
      ],
      "source": [
        "print(reference_gpt2.to_str_tokens(\"56873+3184623=123456789-1000000000\"))"
      ]
    },
    {
      "cell_type": "markdown",
      "metadata": {
        "id": "GgtPkQE-m4R2"
      },
      "source": [
        "> ### Key Takeaways\n",
        ">\n",
        "> * We learn a dictionary of vocab of tokens (sub-words).\n",
        "> * We (approx) losslessly convert language to integers via tokenizing it.\n",
        "> * We convert integers to vectors via a lookup table.\n",
        "> * Note: input to the transformer is a sequence of *tokens* (ie integers), not vectors\n"
      ]
    },
    {
      "cell_type": "markdown",
      "metadata": {
        "id": "rCSs3uXgn9Kb"
      },
      "source": [
        "## Text generation\n",
        "\n",
        "Now that we understand the basic ideas here, let's go through the entire process of text generation, from our original string to a new token which we can append to our string and plug back into the model.\n",
        "\n",
        "#### **Step 1:** Convert text to tokens\n",
        "\n",
        "The sequence gets tokenized, so it has shape `[batch, seq_len]`. Here, the batch dimension is just one (because we only have one sequence).\n"
      ]
    },
    {
      "cell_type": "code",
      "execution_count": null,
      "metadata": {
        "id": "mommexyJm4R3",
        "colab": {
          "base_uri": "https://localhost:8080/"
        },
        "outputId": "366957e5-d120-40f0-a218-47db46a9d935"
      },
      "outputs": [
        {
          "output_type": "stream",
          "name": "stdout",
          "text": [
            "tensor([[50256,    40,   716,   281,  4998,  1960,   382, 19741,    11,   875,\n",
            "         12342,    12,  8807,    11,   402, 11571,    12,    17,  3918, 47385,\n",
            "            13,  1881,  1110,   314,   481,  7074,  1692,  1241,  4430,   290,\n",
            "          1011,   625,   262,   995,     0]])\n",
            "torch.Size([1, 35])\n",
            "['<|endoftext|>', 'I', ' am', ' an', ' amazing', ' aut', 'ore', 'gressive', ',', ' dec', 'oder', '-', 'only', ',', ' G', 'PT', '-', '2', ' style', ' transformer', '.', ' One', ' day', ' I', ' will', ' exceed', ' human', ' level', ' intelligence', ' and', ' take', ' over', ' the', ' world', '!']\n"
          ]
        }
      ],
      "source": [
        "reference_text = \"I am an amazing autoregressive, decoder-only, GPT-2 style transformer. One day I will exceed human level intelligence and take over the world!\"\n",
        "tokens = reference_gpt2.to_tokens(reference_text).to(device)\n",
        "print(tokens)\n",
        "print(tokens.shape)\n",
        "print(reference_gpt2.to_str_tokens(tokens))"
      ]
    },
    {
      "cell_type": "markdown",
      "metadata": {
        "id": "Ovci8XHNm4R3"
      },
      "source": [
        "#### **Step 2:** Map tokens to logits\n",
        "\n",
        "\n",
        "From our input of shape `[batch, seq_len]`, we get output of shape `[batch, seq_len, vocab_size]`. The `[i, j, :]`-th element of our output is a vector of logits representing our prediction for the `j+1`-th token in the `i`-th sequence.\n"
      ]
    },
    {
      "cell_type": "code",
      "execution_count": null,
      "metadata": {
        "id": "5iK_hEUzm4R3",
        "colab": {
          "base_uri": "https://localhost:8080/"
        },
        "outputId": "b450727c-9f36-4f01-918c-a6b9c4db21f0"
      },
      "outputs": [
        {
          "output_type": "stream",
          "name": "stdout",
          "text": [
            "torch.Size([1, 35, 50257])\n"
          ]
        }
      ],
      "source": [
        "logits, cache = reference_gpt2.run_with_cache(tokens)\n",
        "print(logits.shape)"
      ]
    },
    {
      "cell_type": "markdown",
      "metadata": {
        "id": "39kXnrmrgeIw"
      },
      "source": [
        "(`run_with_cache` tells the model to cache all intermediate activations. This isn't important right now; we'll look at it in more detail later.)\n"
      ]
    },
    {
      "cell_type": "markdown",
      "metadata": {
        "id": "SDv_ftwFm4R4"
      },
      "source": [
        "#### **Step 3:** Convert the logits to a distribution with a softmax\n",
        "\n",
        "This doesn't change the shape, it is still `[batch, seq_len, vocab_size]`.\n"
      ]
    },
    {
      "cell_type": "code",
      "execution_count": null,
      "metadata": {
        "id": "csYLLcvcm4R4",
        "colab": {
          "base_uri": "https://localhost:8080/"
        },
        "outputId": "7a9e829d-29b0-4a12-9d77-9a42ef9cb679"
      },
      "outputs": [
        {
          "output_type": "stream",
          "name": "stdout",
          "text": [
            "torch.Size([1, 35, 50257])\n"
          ]
        }
      ],
      "source": [
        "probs = logits.softmax(dim=-1)\n",
        "print(probs.shape)"
      ]
    },
    {
      "cell_type": "markdown",
      "metadata": {
        "id": "BkOqYy8qm4R4"
      },
      "source": [
        "#### **Bonus step:** What is the most likely next token at each position?\n"
      ]
    },
    {
      "cell_type": "code",
      "execution_count": null,
      "metadata": {
        "id": "9tKcEGLXm4R4",
        "colab": {
          "base_uri": "https://localhost:8080/"
        },
        "outputId": "0d2b9292-9237-40aa-c608-a851f7c12e1c"
      },
      "outputs": [
        {
          "output_type": "stream",
          "name": "stdout",
          "text": [
            "          token --> next_token\n",
            "'<|endoftext|>' --> '\\n'\n",
            "            'I' --> \"'m\"\n",
            "          ' am' --> ' a'\n",
            "          ' an' --> ' avid'\n",
            "     ' amazing' --> ' person'\n",
            "         ' aut' --> 'od'\n",
            "          'ore' --> 'sp'\n",
            "     'gressive' --> '.'\n",
            "            ',' --> ' and'\n",
            "         ' dec' --> 'ently'\n",
            "         'oder' --> ','\n",
            "            '-' --> 'driven'\n",
            "         'only' --> ' programmer'\n",
            "            ',' --> ' and'\n",
            "           ' G' --> 'IM'\n",
            "           'PT' --> '-'\n",
            "            '-' --> 'only'\n",
            "            '2' --> '.'\n",
            "       ' style' --> ','\n",
            " ' transformer' --> '.'\n",
            "            '.' --> ' I'\n",
            "         ' One' --> ' of'\n",
            "         ' day' --> ' I'\n",
            "           ' I' --> ' will'\n",
            "        ' will' --> ' be'\n",
            "      ' exceed' --> ' my'\n",
            "       ' human' --> 'ly'\n",
            "       ' level' --> ' of'\n",
            "' intelligence' --> ' and'\n",
            "         ' and' --> ' I'\n",
            "        ' take' --> ' over'\n",
            "        ' over' --> ' the'\n",
            "         ' the' --> ' world'\n",
            "       ' world' --> '.'\n",
            "            '!' --> ' I'\n"
          ]
        }
      ],
      "source": [
        "most_likely_next_tokens = reference_gpt2.tokenizer.batch_decode(logits.argmax(dim=-1)[0])\n",
        "\n",
        "\n",
        "print(\"          token\", \"-->\", \"next_token\")\n",
        "for token, next_token in zip(reference_gpt2.to_str_tokens(tokens), most_likely_next_tokens):\n",
        "    print(f\"{token!r:>15} --> {next_token!r}\")"
      ]
    },
    {
      "cell_type": "markdown",
      "metadata": {
        "id": "yESVZd2igyPd"
      },
      "source": [
        "We can see that, in a few cases (particularly near the end of the sequence), the model accurately predicts the next token in the sequence. We might guess that `\"take over the world\"` is a common phrase that the model has seen in training, which is why the model can predict it.\n"
      ]
    },
    {
      "cell_type": "markdown",
      "metadata": {
        "id": "DrZCnki1m4R4"
      },
      "source": [
        "#### **Step 4:** Map distribution to a token\n"
      ]
    },
    {
      "cell_type": "code",
      "execution_count": null,
      "metadata": {
        "id": "Pp9PB99Mm4R4",
        "colab": {
          "base_uri": "https://localhost:8080/"
        },
        "outputId": "b3bbd3b7-b008-47c6-b0ae-1b9607a69b9c"
      },
      "outputs": [
        {
          "output_type": "stream",
          "name": "stdout",
          "text": [
            "' I'\n"
          ]
        }
      ],
      "source": [
        "next_token = logits[0, -1].argmax(dim=-1)\n",
        "next_char = reference_gpt2.to_string(next_token)\n",
        "print(repr(next_char))"
      ]
    },
    {
      "cell_type": "markdown",
      "metadata": {
        "id": "I4uXGn1mhSnf"
      },
      "source": [
        "Note that we're indexing `logits[0, -1]`. This is because logits have shape `[1, sequence_length, vocab_size]`, so this indexing returns the vector of length `vocab_size` representing the model's prediction for what token follows the **last** token in the input sequence.\n",
        "\n",
        "In this case, we can see that the model predicts the token `' I'`.\n"
      ]
    },
    {
      "cell_type": "markdown",
      "metadata": {
        "id": "8XmSN1YFm4R5"
      },
      "source": [
        "### **Step 5:** Add this to the end of the input, re-run\n",
        "\n",
        "There are more efficient ways to do this (e.g. where we cache some of the values each time we run our input, so we don't have to do as much calculation each time we generate a new value), but this doesn't matter conceptually right now.\n"
      ]
    },
    {
      "cell_type": "code",
      "execution_count": null,
      "metadata": {
        "id": "dpgN-auXm4R6",
        "colab": {
          "base_uri": "https://localhost:8080/"
        },
        "outputId": "2bf5790f-ca7e-49a4-fd0b-f6c8472d3888"
      },
      "outputs": [
        {
          "output_type": "stream",
          "name": "stdout",
          "text": [
            "Sequence so far: '<|endoftext|>I am an amazing autoregressive, decoder-only, GPT-2 style transformer. One day I will exceed human level intelligence and take over the world!'\n",
            "36th char = ' I'\n",
            "37th char = ' am'\n",
            "38th char = ' a'\n",
            "39th char = ' very'\n",
            "40th char = ' talented'\n",
            "41th char = ' and'\n",
            "42th char = ' talented'\n",
            "43th char = ' person'\n",
            "44th char = ','\n",
            "45th char = ' and'\n"
          ]
        }
      ],
      "source": [
        "print(f\"Sequence so far: {reference_gpt2.to_string(tokens)[0]!r}\")\n",
        "\n",
        "for i in range(10):\n",
        "    print(f\"{tokens.shape[-1]+1}th char = {next_char!r}\")\n",
        "    # Define new input sequence, by appending the previously generated token\n",
        "    tokens = t.cat([tokens, next_token[None, None]], dim=-1)\n",
        "    # Pass our new sequence through the model, to get new output\n",
        "    logits = reference_gpt2(tokens)\n",
        "    # Get the predicted token at the end of our sequence\n",
        "    next_token = logits[0, -1].argmax(dim=-1)\n",
        "    # Decode and print the result\n",
        "    next_char = reference_gpt2.to_string(next_token)"
      ]
    },
    {
      "cell_type": "markdown",
      "metadata": {
        "id": "PVd8J0QLm4R6"
      },
      "source": [
        "## Key takeaways\n",
        "\n",
        "* Transformer takes in language, predicts next token (for *each* token in a causal way)\n",
        "* We convert language to a sequence of integers with a tokenizer.\n",
        "* We convert integers to vectors with a lookup table.\n",
        "* Output is a vector of logits (one for each input token), we convert to a probability distn with a softmax, and can then convert this to a token (eg taking the largest logit, or sampling).\n",
        "* We append this to the input + run again to generate more text (Jargon: *autoregressive*)\n",
        "* Meta level point: Transformers are sequence operation models, they take in a sequence, do processing in parallel at each position, and use attention to move information between positions!\n"
      ]
    },
    {
      "cell_type": "markdown",
      "metadata": {
        "id": "BaSOTaLdm4R6"
      },
      "source": [
        "# 2️⃣ Clean Transformer Implementation\n"
      ]
    },
    {
      "cell_type": "markdown",
      "metadata": {
        "id": "-3YLmU9boWEv"
      },
      "source": [
        "> ##### Learning objectives\n",
        ">\n",
        "> * Understand that a transformer is composed of attention heads and MLPs, with each one performing operations on the residual stream\n",
        "> * Understand that the attention heads in a single layer operate independently, and that they have the role of calculating attention patterns (which determine where information is moved to & from in the residual stream)\n",
        "> * Learn about & implement the following transformer modules:\n",
        ">     * (Bonus) LayerNorm (transforming the input to have zero mean and unit variance)\n",
        ">     * Positional embedding (a lookup table from position indices to residual stream vectors)\n",
        ">     * Attention (the method of computing attention patterns for residual stream vectors)\n",
        ">     * MLP (the collection of linear and nonlinear transformations which operate on each residual stream vector in the same way)\n",
        ">     * Embedding (a lookup table from tokens to residual stream vectors)\n",
        ">     * Unembedding (a matrix for converting residual stream vectors into a distribution over tokens)\n"
      ]
    },
    {
      "cell_type": "markdown",
      "metadata": {
        "id": "v2LTUZkXm4R7"
      },
      "source": [
        "## High-Level architecture\n",
        "\n",
        "Go watch Neel's [Transformer Circuits walkthrough](https://www.youtube.com/watch?v=KV5gbOmHbjU) if you want more intuitions!\n",
        "\n",
        "(Diagram is bottom to top.)\n"
      ]
    },
    {
      "cell_type": "markdown",
      "metadata": {
        "id": "9XtGO8lYm4R6"
      },
      "source": [
        "<img src=\"https://raw.githubusercontent.com/callummcdougall/computational-thread-art/master/example_images/misc/transformer-new.png\" width=\"850\">\n"
      ]
    },
    {
      "cell_type": "markdown",
      "metadata": {
        "id": "347we6hfo6oP"
      },
      "source": [
        "### Tokenization & Embedding\n",
        "\n",
        "The input tokens $t$ are integers. We get them from taking a sequence, and tokenizing it (like we saw in the previous section).\n",
        "\n",
        "The token embedding is a lookup table mapping tokens to vectors, which is implemented as a matrix $W_E$. The matrix consists of a stack of token embedding vectors (one for each token).\n"
      ]
    },
    {
      "cell_type": "markdown",
      "metadata": {
        "id": "7SVWlk-qo9Bg"
      },
      "source": [
        "### Residual stream\n",
        "\n",
        "The residual stream is the sum of all previous outputs of layers of the model, is the input to each new layer. It has shape `[batch, seq_len, d_model]` (where `d_model` is the length of a single embedding vector).\n",
        "\n",
        "The initial value of the residual stream is denoted $x_0$ in the diagram, and $x_i$ are later values of the residual stream (after more attention and MLP layers have been applied to the residual stream).\n",
        "\n",
        "The residual stream is *really* fundamental. It's the central object of the transformer. It's how model remembers things, moves information between layers for composition, and it's the medium used to store the information that attention moves between positions.\n"
      ]
    },
    {
      "cell_type": "markdown",
      "metadata": {
        "id": "MTQ0R_FIo_Er"
      },
      "source": [
        "### Transformer blocks\n",
        "\n",
        "Then we have a series of `n_layers` **transformer blocks** (also sometimes called **residual blocks**).\n",
        "\n",
        "Note - a block contains an attention layer *and* an MLP layer, but we say a transformer has $k$ layers if it has $k$ blocks (i.e. $2k$ total layers).\n"
      ]
    },
    {
      "cell_type": "markdown",
      "metadata": {
        "id": "bN8L6lEgpBNB"
      },
      "source": [
        "#### Attention\n",
        "\n",
        "First we have attention. This moves information from prior positions in the sequence to the current token.\n",
        "\n",
        "We do this for *every* token in parallel using the same parameters. The only difference is that we look backwards only (to avoid \"cheating\"). This means later tokens have more of the sequence that they can look at.\n",
        "\n",
        "Attention layers are the only bit of a transformer that moves information between positions (i.e. between vectors at different sequence positions in the residual stream).\n",
        "\n",
        "Attention layers are made up of `n_heads` heads - each with their own parameters, own attention pattern, and own information how to copy things from source to destination. The heads act independently and additively, we just add their outputs together, and back to the stream.\n",
        "\n",
        "Each head does the following:\n",
        "* Produces an **attention pattern** for each destination token, a probability distribution of prior source tokens (including the current one) weighting how much information to copy.\n",
        "* Moves information (via a linear map) in the same way from each source token to each destination token.\n",
        "\n",
        "A few key points:\n",
        "\n",
        "* What information we copy depends on the source token's *residual stream*, but this doesn't mean it only depends on the value of that token, because the residual stream can store more information than just the token identity (the purpose of the attention heads is to move information between tokens).\n",
        "* We can think of each attention head as consisting of two different **circuits**:\n",
        "    * One circuit determines **where to move information to and from** (this is a function of the residual stream for the source/key and destination/query tokens)\n",
        "    * The other circuit determines **what information to move** (this is a function of only the source token's residual stream)\n",
        "    * For reasons which will become clear later, we refer to the first circuit as the **QK circuit**, and the second circuit as the **OV circuit**\n",
        "\n",
        "\n",
        "Below is a schematic diagram of the attention layers. Don't worry if you don't follow this right now, we'll go into more detail during implementation.\n"
      ]
    },
    {
      "cell_type": "markdown",
      "metadata": {
        "id": "9oU4oR-_omed"
      },
      "source": [
        "<img src=\"https://raw.githubusercontent.com/callummcdougall/computational-thread-art/master/example_images/misc/transformer-attn-new.png\" width=\"1100\">\n"
      ]
    },
    {
      "cell_type": "markdown",
      "metadata": {
        "id": "fGmfTAbCm4R7"
      },
      "source": [
        "### MLP\n",
        "\n",
        "The MLP layers are just a standard neural network, with a singular hidden layer and a nonlinear activation function. The exact activation isn't conceptually important ([GELU](https://paperswithcode.com/method/gelu) seems to perform best).\n",
        "\n",
        "Our hidden dimension is normally `d_mlp = 4 * d_model`. Exactly why the ratios are what they are isn't super important (people basically cargo-cult what GPT did back in the day!).\n",
        "\n",
        "Importantly, **the MLP operates on positions in the residual stream independently, and in exactly the same way**. It doesn't move information between positions.\n",
        "\n",
        "Intuition - once attention has moved relevant information to a single position in the residual stream, MLPs can actually do computation, reasoning, lookup information, etc. *What the hell is going on inside MLPs* is a pretty big open problem in transformer mechanistic interpretability - see the [Toy Model of Superposition Paper](https://transformer-circuits.pub/2022/toy_model/index.html) for more on why this is hard.\n",
        "\n"
      ]
    },
    {
      "cell_type": "markdown",
      "metadata": {
        "id": "JxqWjPd2pI2p"
      },
      "source": [
        "<img src=\"https://raw.githubusercontent.com/callummcdougall/computational-thread-art/master/example_images/misc/transformer-mlp-new-2.png\" width=\"650\">\n"
      ]
    },
    {
      "cell_type": "markdown",
      "metadata": {
        "id": "Fvfe6yEtpYMd"
      },
      "source": [
        "### Unembedding\n",
        "\n",
        "Finally, we unembed!\n",
        "\n",
        "This just consists of applying a linear map $W_U$, going from final residual stream to a vector of logits - this is the output.\n",
        "\n"
      ]
    },
    {
      "cell_type": "markdown",
      "metadata": {
        "id": "g5isIxIEpnO6"
      },
      "source": [
        "<details>\n",
        "<summary>Bonus things - less conceptually important but key technical details</summary>\n",
        "\n",
        "#### LayerNorm\n",
        "\n",
        "* Simple normalization function applied at the start of each layer (i.e. before each MLP, attention layer, and before the unembedding)\n",
        "* Converts each input vector (independently in parallel for each batch x position residual stream vector) to have mean zero and variance 1.\n",
        "* Then applies an elementwise scaling and translation\n",
        "* Cool maths tangent: The scale & translate is just a linear map. LayerNorm is only applied immediately before another linear map. Linear compose linear = linear, so we can just fold this into a single effective linear layer and ignore it.\n",
        "    * `fold_ln=True` flag in `from_pretrained` does this for you.\n",
        "* LayerNorm is annoying for interpertability - the scale part is not linear, so you can't think about different bits of the input independently. But it's *almost* linear - if you're changing a small part of the input it's linear, but if you're changing enough to alter the norm substantially it's not linear.\n",
        "\n",
        "\n",
        "\n",
        "#### Positional embeddings\n",
        "\n",
        "* **Problem:** Attention operates over all pairs of positions. This means it's symmetric with regards to position - the attention calculation from token 5 to token 1 and token 5 to token 2 are the same by default\n",
        "    * This is dumb because nearby tokens are more relevant.\n",
        "* There's a lot of dumb hacks for this.\n",
        "* We'll focus on **learned, absolute positional embeddings**. This means we learn a lookup table mapping the index of the position of each token to a residual stream vector, and add this to the embed.\n",
        "    * Note that we *add* rather than concatenate. This is because the residual stream is shared memory, and likely under significant superposition (the model compresses more features in there than the model has dimensions)\n",
        "    * We basically never concatenate inside a transformer, unless doing weird shit like generating text efficiently.\n",
        "* This connects to **attention as generalized convolution**\n",
        "    * We argued that language does still have locality, and so it's helpful for transformers to have access to the positional information so they \"know\" two tokens are next to each other (and hence probably relevant to each other).\n",
        "</details>"
      ]
    },
    {
      "cell_type": "markdown",
      "metadata": {
        "id": "pb3wtM2bm4R7"
      },
      "source": [
        "## Actual Code!\n",
        "\n",
        "Key (for the results you get when running the code immediately below)\n",
        "\n",
        "```\n",
        "batch = 1\n",
        "position = 35\n",
        "d_model = 768\n",
        "n_heads = 12\n",
        "n_layers = 12\n",
        "d_mlp = 3072 (= 4 * d_model)\n",
        "d_head = 64 (= d_model / n_heads)\n",
        "```\n"
      ]
    },
    {
      "cell_type": "markdown",
      "metadata": {
        "id": "WC9PaopAm4R7"
      },
      "source": [
        "### Parameters and Activations\n",
        "\n",
        "It's important to distinguish between parameters and activations in the model.\n",
        "\n",
        "* **Parameters** are the weights and biases that are learned during training.\n",
        "    * These don't change when the model input changes.\n",
        "* **Activations** are temporary numbers calculated during a forward pass, that are functions of the input.\n",
        "    * We can think of these values as only existing for the duration of a single forward pass, and disappearing afterwards.\n",
        "    * We can use hooks to access these values during a forward pass (more on hooks later), but it doesn't make sense to talk about a model's activations outside the context of some particular input.\n",
        "    * Attention scores and patterns are activations (this is slightly non-intuitve because they're used in a matrix multiplication with another activation).\n",
        "\n"
      ]
    },
    {
      "cell_type": "markdown",
      "metadata": {
        "id": "RTSyQI7wm4R7"
      },
      "source": [
        "#### Print All Parameters Shapes of Reference Model\n"
      ]
    },
    {
      "cell_type": "code",
      "execution_count": null,
      "metadata": {
        "id": "HiiiIUbdm4R7",
        "colab": {
          "base_uri": "https://localhost:8080/"
        },
        "outputId": "aee77bd0-65c7-4c84-9513-5dda330f97c5"
      },
      "outputs": [
        {
          "output_type": "stream",
          "name": "stdout",
          "text": [
            "embed.W_E          (50257, 768)\n",
            "pos_embed.W_pos    (1024, 768)\n",
            "blocks.0.ln1.w     (768,)\n",
            "blocks.0.ln1.b     (768,)\n",
            "blocks.0.ln2.w     (768,)\n",
            "blocks.0.ln2.b     (768,)\n",
            "blocks.0.attn.W_Q  (12, 768, 64)\n",
            "blocks.0.attn.W_K  (12, 768, 64)\n",
            "blocks.0.attn.W_V  (12, 768, 64)\n",
            "blocks.0.attn.W_O  (12, 64, 768)\n",
            "blocks.0.attn.b_Q  (12, 64)\n",
            "blocks.0.attn.b_K  (12, 64)\n",
            "blocks.0.attn.b_V  (12, 64)\n",
            "blocks.0.attn.b_O  (768,)\n",
            "blocks.0.mlp.W_in  (768, 3072)\n",
            "blocks.0.mlp.b_in  (3072,)\n",
            "blocks.0.mlp.W_out (3072, 768)\n",
            "blocks.0.mlp.b_out (768,)\n",
            "ln_final.w         (768,)\n",
            "ln_final.b         (768,)\n",
            "unembed.W_U        (768, 50257)\n",
            "unembed.b_U        (50257,)\n"
          ]
        }
      ],
      "source": [
        "for name, param in reference_gpt2.named_parameters():\n",
        "    # Only print for first layer\n",
        "    if \".0.\" in name or \"blocks\" not in name:\n",
        "        print(f\"{name:18} {tuple(param.shape)}\")"
      ]
    },
    {
      "cell_type": "markdown",
      "metadata": {
        "id": "TTbG6T8Bm4R8"
      },
      "source": [
        "### Config\n",
        "\n",
        "The config object contains all the hyperparameters of the model. We can print the config of the reference model to see what it contains:\n"
      ]
    },
    {
      "cell_type": "code",
      "execution_count": null,
      "metadata": {
        "id": "WPzJd3z-m4R8",
        "colab": {
          "base_uri": "https://localhost:8080/"
        },
        "outputId": "7621cec3-63c2-4ff3-d585-7a9911f3b6c2"
      },
      "outputs": [
        {
          "output_type": "stream",
          "name": "stdout",
          "text": [
            "HookedTransformerConfig:\n",
            "{'act_fn': 'gelu_new',\n",
            " 'add_special_tokens': True,\n",
            " 'attention_dir': 'causal',\n",
            " 'attn_only': False,\n",
            " 'attn_types': None,\n",
            " 'checkpoint_index': None,\n",
            " 'checkpoint_label_type': None,\n",
            " 'checkpoint_value': None,\n",
            " 'd_head': 64,\n",
            " 'd_mlp': 3072,\n",
            " 'd_model': 768,\n",
            " 'd_vocab': 50257,\n",
            " 'd_vocab_out': 50257,\n",
            " 'default_prepend_bos': True,\n",
            " 'device': device(type='cpu'),\n",
            " 'dtype': torch.float32,\n",
            " 'eps': 1e-05,\n",
            " 'final_rms': False,\n",
            " 'from_checkpoint': False,\n",
            " 'gated_mlp': False,\n",
            " 'init_mode': 'gpt2',\n",
            " 'init_weights': False,\n",
            " 'initializer_range': 0.02886751345948129,\n",
            " 'model_name': 'gpt2',\n",
            " 'n_ctx': 1024,\n",
            " 'n_devices': 1,\n",
            " 'n_heads': 12,\n",
            " 'n_layers': 12,\n",
            " 'n_params': 84934656,\n",
            " 'normalization_type': 'LN',\n",
            " 'original_architecture': 'GPT2LMHeadModel',\n",
            " 'parallel_attn_mlp': False,\n",
            " 'positional_embedding_type': 'standard',\n",
            " 'rotary_dim': None,\n",
            " 'scale_attn_by_inverse_layer_idx': False,\n",
            " 'seed': None,\n",
            " 'tokenizer_name': 'gpt2',\n",
            " 'use_attn_result': False,\n",
            " 'use_attn_scale': True,\n",
            " 'use_hook_mlp_in': False,\n",
            " 'use_hook_tokens': False,\n",
            " 'use_local_attn': False,\n",
            " 'use_split_qkv_input': False,\n",
            " 'window_size': None}\n"
          ]
        }
      ],
      "source": [
        "# As a reference - note there's a lot of stuff we don't care about in here, to do with library internals or other architectures\n",
        "print(reference_gpt2.cfg)"
      ]
    },
    {
      "cell_type": "markdown",
      "metadata": {
        "id": "dCXCsrSSm4R8"
      },
      "source": [
        "We define a stripped down config for our model:\n"
      ]
    },
    {
      "cell_type": "code",
      "execution_count": null,
      "metadata": {
        "id": "VzsnAKw7m4R8",
        "colab": {
          "base_uri": "https://localhost:8080/"
        },
        "outputId": "41db9f3f-1ccb-4adf-bb14-ec9ec839c5c6"
      },
      "outputs": [
        {
          "output_type": "stream",
          "name": "stdout",
          "text": [
            "Config(d_model=768, debug=True, d_vocab=50257, n_ctx=1024, d_head=64, d_mlp=3072, n_heads=12, n_layers=12, layer_norm_eps=1e-05, init_range=0.02)\n"
          ]
        }
      ],
      "source": [
        "@dataclass\n",
        "class Config:\n",
        "    d_model: int = 768 # dimension of the residual_stream\n",
        "    debug: bool = True\n",
        "    d_vocab: int = 50257\n",
        "    n_ctx: int = 1024 # max nb of tokens that the model can handle\n",
        "    d_head: int = 64 # dimension of each key/query/value\n",
        "    d_mlp: int = 3072 # dimension of the hidden layer inside the MLPs\n",
        "    n_heads: int = 12 # Nb of heads\n",
        "    n_layers: int = 12 # Nb of (Attention+ MLP) in the GPT\n",
        "\n",
        "    layer_norm_eps: float = 1e-5 # (Bonus)\n",
        "    init_range: float = 0.02 # (bonus) standard deviation of 0.02 for weight initialization\n",
        "\n",
        "cfg = Config()\n",
        "print(cfg)"
      ]
    },
    {
      "cell_type": "markdown",
      "metadata": {
        "id": "RZlXjTMWm4R8"
      },
      "source": [
        "## Tests\n"
      ]
    },
    {
      "cell_type": "markdown",
      "metadata": {
        "id": "DJ8aqDkYm4R8"
      },
      "source": [
        "Tests are great, write lightweight ones to use as you go!\n",
        "\n",
        "**Naive test:** Generate random inputs of the right shape, input to your model, check whether there's an error and print the correct output.\n"
      ]
    },
    {
      "cell_type": "code",
      "execution_count": null,
      "metadata": {
        "id": "iqUK4acom4R8"
      },
      "outputs": [],
      "source": [
        "def rand_float_test(cls, shape):\n",
        "    cfg = Config(debug=True)\n",
        "    layer = cls(cfg).to(device)\n",
        "    random_input = t.randn(shape).to(device)\n",
        "    print(\"Input shape:\", random_input.shape)\n",
        "    output = layer(random_input)\n",
        "    if isinstance(output, tuple): output = output[0]\n",
        "    print(\"Output shape:\", output.shape, \"\\n\")\n",
        "\n",
        "def rand_int_test(cls, shape):\n",
        "    cfg = Config(debug=True)\n",
        "    layer = cls(cfg).to(device)\n",
        "    random_input = t.randint(100, 1000, shape).to(device)\n",
        "    print(\"Input shape:\", random_input.shape)\n",
        "    output = layer(random_input)\n",
        "    if isinstance(output, tuple): output = output[0]\n",
        "    print(\"Output shape:\", output.shape, \"\\n\")\n",
        "\n",
        "def load_gpt2_test(cls, gpt2_layer, input):\n",
        "    cfg = Config(debug=True)\n",
        "    layer = cls(cfg).to(device)\n",
        "    layer.load_state_dict(gpt2_layer.state_dict(), strict=False)\n",
        "    print(\"Input shape:\", input.shape)\n",
        "    output = layer(input)\n",
        "    if isinstance(output, tuple): output = output[0]\n",
        "    print(\"Output shape:\", output.shape)\n",
        "    try: reference_output = gpt2_layer(input)\n",
        "    except: reference_output = gpt2_layer(input, input, input)\n",
        "    print(\"Reference output shape:\", reference_output.shape, \"\\n\")\n",
        "    comparison = t.isclose(output, reference_output, atol=1e-4, rtol=1e-3)\n",
        "    print(f\"{comparison.sum()/comparison.numel():.2%} of the values are correct\\n\")"
      ]
    },
    {
      "cell_type": "markdown",
      "metadata": {
        "id": "u9GJDIsAm4R9"
      },
      "source": [
        "## Embedding\n",
        "\n",
        "```c\n",
        "Difficulty: 🟠🟠⚪⚪⚪\n",
        "Importance: 🟠🟠🟠⚪⚪\n",
        "\n",
        "You should spend up to 5-10 minutes on this exercise.\n",
        "```\n",
        "\n",
        "This is basically a lookup table from tokens to residual stream vectors.\n",
        "\n",
        "(Hint - you can implement this in just one line, without any complicated functions.)\n"
      ]
    },
    {
      "cell_type": "code",
      "execution_count": null,
      "metadata": {
        "id": "oc6WFuDAm4R9",
        "colab": {
          "base_uri": "https://localhost:8080/"
        },
        "outputId": "9f74e772-481b-4019-b99f-75a922f7cfb4"
      },
      "outputs": [
        {
          "output_type": "stream",
          "name": "stdout",
          "text": [
            "Input shape: torch.Size([2, 4])\n",
            "Output shape: torch.Size([2, 4, 768]) \n",
            "\n",
            "Input shape: torch.Size([1, 45])\n",
            "Output shape: torch.Size([1, 45, 768])\n",
            "Reference output shape: torch.Size([1, 45, 768]) \n",
            "\n",
            "100.00% of the values are correct\n",
            "\n"
          ]
        }
      ],
      "source": [
        "class Embed(nn.Module):\n",
        "    def __init__(self, cfg: Config):\n",
        "        super().__init__()\n",
        "        self.cfg = cfg\n",
        "        self.W_E = nn.Parameter(t.empty((cfg.d_vocab, cfg.d_model)))\n",
        "        nn.init.normal_(self.W_E, std=self.cfg.init_range)\n",
        "\n",
        "    def forward(self, tokens: Int[Tensor, \"batch position\"]) -> Float[Tensor, \"batch position d_model\"]:\n",
        "        # I put in a token (which is the index to a specific word) and I want to get a residual vector\n",
        "        return self.W_E[tokens]\n",
        "\n",
        "rand_int_test(Embed, [2, 4])\n",
        "load_gpt2_test(Embed, reference_gpt2.embed, tokens)"
      ]
    },
    {
      "cell_type": "markdown",
      "metadata": {
        "id": "fStv2M35fHN0"
      },
      "source": [
        "<details>\n",
        "<summary>Help - I keep getting <code>RuntimeError: CUDA error: device-side assert triggered</code>.</summary>\n",
        "\n",
        "This is a uniquely frustrating type of error message, because it (1) forces you to restart the kernel, and (2) often won't tell you where the error message actually originated from!\n",
        "\n",
        "You can fix the second problem by adding the line `os.environ['CUDA_LAUNCH_BLOCKING'] = \"1\"` to the very top of your file (after importing `os`). This won't fix your bug, but it makes sure the correct origin point is identified.\n",
        "\n",
        "As for actually fixing the bug, this error usually ends up being the result of bad indexing, e.g. you're trying to apply an embedding layer to tokens which are larger than your maximum embedding.\n",
        "</details>\n",
        "\n",
        "<details>\n",
        "<summary>Solution</summary>\n",
        "\n",
        "\n",
        "```python\n",
        "class Embed(nn.Module):\n",
        "    def __init__(self, cfg: Config):\n",
        "        super().__init__()\n",
        "        self.cfg = cfg\n",
        "        self.W_E = nn.Parameter(t.empty((cfg.d_vocab, cfg.d_model)))\n",
        "        nn.init.normal_(self.W_E, std=self.cfg.init_range)\n",
        "\n",
        "    def forward(self, tokens: Int[Tensor, \"batch position\"]) -> Float[Tensor, \"batch position d_model\"]:\n",
        "        # SOLUTION\n",
        "        return self.W_E[tokens]\n",
        "```\n",
        "</details>\n"
      ]
    },
    {
      "cell_type": "markdown",
      "metadata": {
        "id": "YhHFmPZ6m4R9"
      },
      "source": [
        "## Positional Embedding\n",
        "\n",
        "```c\n",
        "Difficulty: 🟠🟠⚪⚪⚪\n",
        "Importance: 🟠🟠🟠⚪⚪\n",
        "\n",
        "You should spend up to 10-15 minutes on this exercise.\n",
        "```\n",
        "\n",
        "Positional embedding can also be thought of as a lookup table, but rather than the indices being our token IDs, the indices are just the numbers `0`, `1`, `2`, ..., `seq_len-1` (i.e. the position indices of the tokens in the sequence).\n"
      ]
    },
    {
      "cell_type": "code",
      "execution_count": null,
      "metadata": {
        "id": "fNAkYB8dm4R9",
        "colab": {
          "base_uri": "https://localhost:8080/"
        },
        "outputId": "ea5e98f9-ff65-49d1-cfde-2fb0ee722188"
      },
      "outputs": [
        {
          "output_type": "stream",
          "name": "stdout",
          "text": [
            "Input shape: torch.Size([2, 4])\n",
            "Output shape: torch.Size([2, 4, 768]) \n",
            "\n",
            "Input shape: torch.Size([1, 45])\n",
            "Output shape: torch.Size([1, 45, 768])\n",
            "Reference output shape: torch.Size([1, 45, 768]) \n",
            "\n",
            "100.00% of the values are correct\n",
            "\n"
          ]
        }
      ],
      "source": [
        "class PosEmbed(nn.Module):\n",
        "    def __init__(self, cfg: Config):\n",
        "        super().__init__()\n",
        "        self.cfg = cfg\n",
        "        self.W_pos = nn.Parameter(t.empty((cfg.n_ctx, cfg.d_model)))\n",
        "        nn.init.normal_(self.W_pos, std=self.cfg.init_range)\n",
        "\n",
        "    def forward(self, tokens: Int[Tensor, \"batch position\"]) -> Float[Tensor, \"batch position d_model\"]:\n",
        "        # Hint: You should use the einops.repeat function to repeat batch-wise the positional embedding.\n",
        "        batch, seq_len = tokens.shape\n",
        "        residuums = einops.repeat(self.W_pos[:seq_len], \"a b -> batch_dim a b\", batch_dim=batch)\n",
        "        return residuums\n",
        "\n",
        "rand_int_test(PosEmbed, [2, 4])\n",
        "load_gpt2_test(PosEmbed, reference_gpt2.pos_embed, tokens)"
      ]
    },
    {
      "cell_type": "markdown",
      "metadata": {
        "id": "xqF0eTsAfHN1"
      },
      "source": [
        "<details>\n",
        "<summary>Solution</summary>\n",
        "\n",
        "\n",
        "```python\n",
        "class PosEmbed(nn.Module):\n",
        "    def __init__(self, cfg: Config):\n",
        "        super().__init__()\n",
        "        self.cfg = cfg\n",
        "        self.W_pos = nn.Parameter(t.empty((cfg.n_ctx, cfg.d_model)))\n",
        "        nn.init.normal_(self.W_pos, std=self.cfg.init_range)\n",
        "\n",
        "    def forward(self, tokens: Int[Tensor, \"batch position\"]) -> Float[Tensor, \"batch position d_model\"]:\n",
        "        # SOLUTION\n",
        "        batch, seq_len = tokens.shape\n",
        "        return einops.repeat(self.W_pos[:seq_len], \"seq d_model -> batch seq d_model\", batch=batch)\n",
        "```\n",
        "</details>\n"
      ]
    },
    {
      "cell_type": "markdown",
      "metadata": {
        "id": "o_WZWukYm4R-"
      },
      "source": [
        "## Attention\n",
        "\n",
        "```c\n",
        "Difficulty: 🟠🟠🟠🟠⚪\n",
        "Importance: 🟠🟠🟠🟠🟠\n",
        "\n",
        "You should spend up to 30-45 minutes on this exercise.\n",
        "```\n",
        "\n",
        "* **Step 1:** Produce an attention pattern - for each destination token, probability distribution over previous tokens (including current token)\n",
        "    * Linear map from input -> query, key shape `[batch, seq_posn, head_index, d_head]`\n",
        "    * Dot product every *pair* of queries and keys to get attn_scores `[batch, head_index, query_pos, key_pos]` (query = dest, key = source)\n",
        "    * **Scale** and mask `attn_scores` to make it lower triangular, i.e. causal\n",
        "    * Softmax along the `key_pos` dimension, to get a probability distribution for each query (destination) token - this is our attention pattern!\n",
        "* **Step 2:** Move information from source tokens to destination token using attention pattern\n",
        "    * Linear map from input -> value `[batch, key_pos, head_index, d_head]`\n",
        "    * Mix along the `key_pos` with attn pattern to get `z`, which is a weighted average of the value vectors `[batch, query_pos, head_index, d_head]`\n",
        "    * Map to output, `[batch, position, d_model]` (position = query_pos, we've summed over all heads)\n",
        "\n",
        "Note - when we say **scale**, we mean dividing by `sqrt(d_head)`. The purpose of this is to avoid vanishing gradients (which is a big problem when we're dealing with a function like softmax - if one of the values is much larger than all the others, the probabilities will be close to 0 or 1, and the gradients will be close to 0).\n",
        "\n",
        "Below is a much larger, more detailed version of the attention head diagram from earlier. This should give you an idea of the actual tensor operations involved. A few clarifications on this diagram:\n",
        "\n",
        "* Whenever there is a third dimension shown in the pictures, this refers to the `head_index` dimension. We can see that all operations within the attention layer are done independently for each head.\n",
        "* The objects in the box are activations; they have a batch dimension (for simplicity, we assume the batch dimension is 1 in the diagram). The objects to the right of the box are our parameters (weights and biases); they have no batch dimension."
      ]
    },
    {
      "cell_type": "markdown",
      "metadata": {
        "id": "FuZvGlnhsIcr"
      },
      "source": [
        "<img src=\"https://raw.githubusercontent.com/callummcdougall/computational-thread-art/master/example_images/misc/transformer-attn-21.png\" width=\"1400\">\n"
      ]
    },
    {
      "cell_type": "markdown",
      "metadata": {
        "id": "PCODWJmAsr8x"
      },
      "source": [
        "<details>\n",
        "<summary><b>A few extra notes on attention (optional)</b></summary>\n",
        "\n",
        "Usually we have the relation `e = n * h` (i.e. `d_model = num_heads * d_head`). There are some computational justifications for this, but mostly this is just done out of convention (just like how we usually have `d_mlp = 4 * d_model`!).\n",
        "\n",
        "---\n",
        "\n",
        "The names **keys**, **queries** and **values** come from their analogy to retrieval systems. Broadly speaking:\n",
        "\n",
        "* The **queries** represent some information that a token is **\"looking for\"**\n",
        "* The **keys** represent the information that a token **\"contains\"**\n",
        "    * So the attention score being high basically means that the source (key) token contains the information which the destination (query) token **is looking for**\n",
        "* The **values** represent the information that is actually taken from the source token, to be moved to the destination token\n",
        "\n",
        "---\n",
        "\n",
        "This diagram can better help us understand the difference between the **QK** and **OV** circuit. We'll discuss this just briefly here, and will go into much more detail later on.\n",
        "\n",
        "The **QK** circuit consists of the operation of the $W_Q$ and $W_K$ matrices. In other words, it determines the attention pattern, i.e. where information is moved to and from in the residual stream. The functional form of the attention pattern $A$ is:\n",
        "\n",
        "$$\n",
        "A = \\text{softmax}\\left(\\frac{x^T W_Q W_K^T x}{\\sqrt{d_{head}}}\\right)\n",
        "$$\n",
        "\n",
        "where $x$ is the residual stream (shape `[seq_len, d_model]`), and $W_Q$, $W_K$ are the weight matrices for a single head (i.e. shape `[d_model, d_head]`).\n",
        "\n",
        "The **OV** circuit consists of the operation of the $W_V$ and $W_O$ matrices. Once attention patterns are fixed, these matrices operate on the residual stream at the source position, and their output is the thing which gets moved from source to destination position.\n",
        "\n",
        "The functional form of an entire attention head is:\n",
        "\n",
        "$$\n",
        "\\begin{aligned}\n",
        "\\text{output} &= \\text{softmax}\\left(\\frac{x W_Q W_K^T x^T}{\\sqrt{d_{head}}}\\right) (x W_V W_O) \\\\\n",
        "    &= Ax W_V W_O\n",
        "\\end{aligned}\n",
        "$$\n",
        "\n",
        "where $W_V$ has shape `[d_model, d_head]`, and $W_O$ has shape `[d_head, d_model]`.\n",
        "\n",
        "Here, we can clearly see that the **QK circuit** and **OV circuit** are doing conceptually different things, and should be thought of as two distinct parts of the attention head.\n",
        "\n",
        "Again, don't worry if you don't follow all of this right now - we'll go into **much** more detail on all of this in subsequent exercises. The purpose of the discussion here is just to give you a flavour of what's to come!\n",
        "\n",
        "</details>\n"
      ]
    },
    {
      "cell_type": "markdown",
      "metadata": {
        "id": "oA2JcOaHm4R-"
      },
      "source": [
        "First, it's useful to visualize and play around with attention patterns - what exactly are we looking at here? (Click on a head to lock onto just showing that head's pattern, it'll make it easier to interpret)\n"
      ]
    },
    {
      "cell_type": "code",
      "execution_count": null,
      "metadata": {
        "id": "T38f-qpJtBTD",
        "colab": {
          "base_uri": "https://localhost:8080/",
          "height": 359
        },
        "outputId": "72b0347f-eb2a-4334-e29a-22b2c4afe0b9"
      },
      "outputs": [
        {
          "output_type": "display_data",
          "data": {
            "text/plain": [
              "<circuitsvis.utils.render.RenderedHTML at 0x7c3e1ca76620>"
            ],
            "text/html": [
              "<div id=\"circuits-vis-b9fcff61-4022\" style=\"margin: 15px 0;\"/>\n",
              "    <script crossorigin type=\"module\">\n",
              "    import { render, AttentionPatterns } from \"https://unpkg.com/circuitsvis@1.41.0/dist/cdn/esm.js\";\n",
              "    render(\n",
              "      \"circuits-vis-b9fcff61-4022\",\n",
              "      AttentionPatterns,\n",
              "      {\"tokens\": [\"<|endoftext|>\", \"I\", \" am\", \" an\", \" amazing\", \" aut\", \"ore\", \"gressive\", \",\", \" dec\", \"oder\", \"-\", \"only\", \",\", \" G\", \"PT\", \"-\", \"2\", \" style\", \" transformer\", \".\", \" One\", \" day\", \" I\", \" will\", \" exceed\", \" human\", \" level\", \" intelligence\", \" and\", \" take\", \" over\", \" the\", \" world\", \"!\"], \"attention\": [[[1.0, 0.0, 0.0, 0.0, 0.0, 0.0, 0.0, 0.0, 0.0, 0.0, 0.0, 0.0, 0.0, 0.0, 0.0, 0.0, 0.0, 0.0, 0.0, 0.0, 0.0, 0.0, 0.0, 0.0, 0.0, 0.0, 0.0, 0.0, 0.0, 0.0, 0.0, 0.0, 0.0, 0.0, 0.0], [0.9679255485534668, 0.0320744551718235, 0.0, 0.0, 0.0, 0.0, 0.0, 0.0, 0.0, 0.0, 0.0, 0.0, 0.0, 0.0, 0.0, 0.0, 0.0, 0.0, 0.0, 0.0, 0.0, 0.0, 0.0, 0.0, 0.0, 0.0, 0.0, 0.0, 0.0, 0.0, 0.0, 0.0, 0.0, 0.0, 0.0], [0.8024235963821411, 0.16839198768138885, 0.029184365645051003, 0.0, 0.0, 0.0, 0.0, 0.0, 0.0, 0.0, 0.0, 0.0, 0.0, 0.0, 0.0, 0.0, 0.0, 0.0, 0.0, 0.0, 0.0, 0.0, 0.0, 0.0, 0.0, 0.0, 0.0, 0.0, 0.0, 0.0, 0.0, 0.0, 0.0, 0.0, 0.0], [0.6959055066108704, 0.12269633263349533, 0.1458849012851715, 0.0355132520198822, 0.0, 0.0, 0.0, 0.0, 0.0, 0.0, 0.0, 0.0, 0.0, 0.0, 0.0, 0.0, 0.0, 0.0, 0.0, 0.0, 0.0, 0.0, 0.0, 0.0, 0.0, 0.0, 0.0, 0.0, 0.0, 0.0, 0.0, 0.0, 0.0, 0.0, 0.0], [0.5661025047302246, 0.1470518559217453, 0.08665252476930618, 0.11258412897586823, 0.08760889619588852, 0.0, 0.0, 0.0, 0.0, 0.0, 0.0, 0.0, 0.0, 0.0, 0.0, 0.0, 0.0, 0.0, 0.0, 0.0, 0.0, 0.0, 0.0, 0.0, 0.0, 0.0, 0.0, 0.0, 0.0, 0.0, 0.0, 0.0, 0.0, 0.0, 0.0], [0.4621872007846832, 0.13512831926345825, 0.09698350727558136, 0.1747376024723053, 0.0462459996342659, 0.08471735566854477, 0.0, 0.0, 0.0, 0.0, 0.0, 0.0, 0.0, 0.0, 0.0, 0.0, 0.0, 0.0, 0.0, 0.0, 0.0, 0.0, 0.0, 0.0, 0.0, 0.0, 0.0, 0.0, 0.0, 0.0, 0.0, 0.0, 0.0, 0.0, 0.0], [0.43251603841781616, 0.1038287952542305, 0.08330139517784119, 0.06995753198862076, 0.07479377090930939, 0.21568657457828522, 0.01991591602563858, 0.0, 0.0, 0.0, 0.0, 0.0, 0.0, 0.0, 0.0, 0.0, 0.0, 0.0, 0.0, 0.0, 0.0, 0.0, 0.0, 0.0, 0.0, 0.0, 0.0, 0.0, 0.0, 0.0, 0.0, 0.0, 0.0, 0.0, 0.0], [0.22236734628677368, 0.09167695790529251, 0.08796326816082001, 0.25168734788894653, 0.08263690769672394, 0.10428165644407272, 0.06469016522169113, 0.09469638019800186, 0.0, 0.0, 0.0, 0.0, 0.0, 0.0, 0.0, 0.0, 0.0, 0.0, 0.0, 0.0, 0.0, 0.0, 0.0, 0.0, 0.0, 0.0, 0.0, 0.0, 0.0, 0.0, 0.0, 0.0, 0.0, 0.0, 0.0], [0.4049956202507019, 0.09078019112348557, 0.052373629063367844, 0.026201877743005753, 0.11047186702489853, 0.03667403385043144, 0.025538915768265724, 0.24528272449970245, 0.0076811243779957294, 0.0, 0.0, 0.0, 0.0, 0.0, 0.0, 0.0, 0.0, 0.0, 0.0, 0.0, 0.0, 0.0, 0.0, 0.0, 0.0, 0.0, 0.0, 0.0, 0.0, 0.0, 0.0, 0.0, 0.0, 0.0, 0.0], [0.39985957741737366, 0.043613169342279434, 0.06183883920311928, 0.072983518242836, 0.03661305829882622, 0.09147471189498901, 0.07241711020469666, 0.07013333588838577, 0.06429056078195572, 0.08677607774734497, 0.0, 0.0, 0.0, 0.0, 0.0, 0.0, 0.0, 0.0, 0.0, 0.0, 0.0, 0.0, 0.0, 0.0, 0.0, 0.0, 0.0, 0.0, 0.0, 0.0, 0.0, 0.0, 0.0, 0.0, 0.0], [0.09702547639608383, 0.035527583211660385, 0.02321481518447399, 0.036767054349184036, 0.025158395990729332, 0.2775617241859436, 0.07676511257886887, 0.1950119137763977, 0.05580099672079086, 0.14529384672641754, 0.03187303990125656, 0.0, 0.0, 0.0, 0.0, 0.0, 0.0, 0.0, 0.0, 0.0, 0.0, 0.0, 0.0, 0.0, 0.0, 0.0, 0.0, 0.0, 0.0, 0.0, 0.0, 0.0, 0.0, 0.0, 0.0], [0.24143841862678528, 0.03971060365438461, 0.07687386870384216, 0.02804269827902317, 0.12435998022556305, 0.056015778332948685, 0.06063669174909592, 0.1284010261297226, 0.01569945178925991, 0.09114036709070206, 0.13185440003871918, 0.005826778244227171, 0.0, 0.0, 0.0, 0.0, 0.0, 0.0, 0.0, 0.0, 0.0, 0.0, 0.0, 0.0, 0.0, 0.0, 0.0, 0.0, 0.0, 0.0, 0.0, 0.0, 0.0, 0.0, 0.0], [0.1436309963464737, 0.05110500752925873, 0.05505896359682083, 0.07798514515161514, 0.0785427838563919, 0.03501969575881958, 0.1349860578775406, 0.226340651512146, 0.04162853956222534, 0.03513140603899956, 0.020236024633049965, 0.041144464164972305, 0.05919027328491211, 0.0, 0.0, 0.0, 0.0, 0.0, 0.0, 0.0, 0.0, 0.0, 0.0, 0.0, 0.0, 0.0, 0.0, 0.0, 0.0, 0.0, 0.0, 0.0, 0.0, 0.0, 0.0], [0.3156284689903259, 0.06791999191045761, 0.03787240758538246, 0.01787460967898369, 0.08683167397975922, 0.02922779880464077, 0.017664160579442978, 0.1830163449048996, 0.004987796768546104, 0.043228667229413986, 0.05172262340784073, 0.008913453668355942, 0.12899243831634521, 0.006119511555880308, 0.0, 0.0, 0.0, 0.0, 0.0, 0.0, 0.0, 0.0, 0.0, 0.0, 0.0, 0.0, 0.0, 0.0, 0.0, 0.0, 0.0, 0.0, 0.0, 0.0, 0.0], [0.28410202264785767, 0.0534539520740509, 0.023969221860170364, 0.022562257945537567, 0.04619825631380081, 0.06391075998544693, 0.04539212957024574, 0.07758504152297974, 0.027644319459795952, 0.05804116651415825, 0.17727358639240265, 0.034006014466285706, 0.03052728995680809, 0.03213079646229744, 0.023203181102871895, 0.0, 0.0, 0.0, 0.0, 0.0, 0.0, 0.0, 0.0, 0.0, 0.0, 0.0, 0.0, 0.0, 0.0, 0.0, 0.0, 0.0, 0.0, 0.0, 0.0], [0.1410391479730606, 0.02857782132923603, 0.03760400414466858, 0.031378284096717834, 0.03697337210178375, 0.07347071915864944, 0.07151781767606735, 0.09211232513189316, 0.033581554889678955, 0.036391306668519974, 0.18937671184539795, 0.032445184886455536, 0.06021040305495262, 0.03916927054524422, 0.040409550070762634, 0.05574265122413635, 0.0, 0.0, 0.0, 0.0, 0.0, 0.0, 0.0, 0.0, 0.0, 0.0, 0.0, 0.0, 0.0, 0.0, 0.0, 0.0, 0.0, 0.0, 0.0], [0.20265290141105652, 0.03025280125439167, 0.06003410741686821, 0.02178615890443325, 0.10314235836267471, 0.04516838118433952, 0.04681026190519333, 0.10542110353708267, 0.01139882393181324, 0.07159947603940964, 0.10570323467254639, 0.004199371673166752, 0.11079791188240051, 0.013912525027990341, 0.02892351523041725, 0.032869499176740646, 0.005327519495040178, 0.0, 0.0, 0.0, 0.0, 0.0, 0.0, 0.0, 0.0, 0.0, 0.0, 0.0, 0.0, 0.0, 0.0, 0.0, 0.0, 0.0, 0.0], [0.20498356223106384, 0.040072303265333176, 0.04229814559221268, 0.024939021095633507, 0.049922920763492584, 0.02937168814241886, 0.03076968342065811, 0.10315563529729843, 0.025490224361419678, 0.07886797934770584, 0.10560183227062225, 0.017352715134620667, 0.0808369517326355, 0.03128696605563164, 0.05451060086488724, 0.052883170545101166, 0.0217428058385849, 0.005913800094276667, 0.0, 0.0, 0.0, 0.0, 0.0, 0.0, 0.0, 0.0, 0.0, 0.0, 0.0, 0.0, 0.0, 0.0, 0.0, 0.0, 0.0], [0.24350900948047638, 0.036364879459142685, 0.04196164011955261, 0.026215722784399986, 0.040445707738399506, 0.09965364634990692, 0.02575223334133625, 0.03249461576342583, 0.024459954351186752, 0.03520263731479645, 0.033835381269454956, 0.03347689285874367, 0.04664863273501396, 0.027967918664216995, 0.0186407882720232, 0.1176425889134407, 0.03875287249684334, 0.02278667502105236, 0.05418812856078148, 0.0, 0.0, 0.0, 0.0, 0.0, 0.0, 0.0, 0.0, 0.0, 0.0, 0.0, 0.0, 0.0, 0.0, 0.0, 0.0], [0.14194566011428833, 0.034064047038555145, 0.03300992026925087, 0.020238706842064857, 0.03927316889166832, 0.02600555308163166, 0.006318638101220131, 0.04079786688089371, 0.036380037665367126, 0.14631050825119019, 0.016386182978749275, 0.023598454892635345, 0.01584276556968689, 0.04227607324719429, 0.022458232939243317, 0.0686739832162857, 0.027878470718860626, 0.03722238913178444, 0.08677609264850616, 0.1345432698726654, 0.0, 0.0, 0.0, 0.0, 0.0, 0.0, 0.0, 0.0, 0.0, 0.0, 0.0, 0.0, 0.0, 0.0, 0.0], [0.21778132021427155, 0.026903675869107246, 0.023647209629416466, 0.007102563511580229, 0.03517000749707222, 0.013998541049659252, 0.01039227657020092, 0.09431245923042297, 0.002962290309369564, 0.03783803433179855, 0.03792330622673035, 0.003733973018825054, 0.06506100296974182, 0.003636458655819297, 0.014758048579096794, 0.12028627842664719, 0.004900885745882988, 0.008107362315058708, 0.01744985207915306, 0.24998736381530762, 0.004047100432217121, 0.0, 0.0, 0.0, 0.0, 0.0, 0.0, 0.0, 0.0, 0.0, 0.0, 0.0, 0.0, 0.0, 0.0], [0.12187217175960541, 0.07663211226463318, 0.030231976881623268, 0.016371840611100197, 0.05268790200352669, 0.02140214666724205, 0.023403892293572426, 0.1064969077706337, 0.018582481890916824, 0.035091668367385864, 0.08394152671098709, 0.017393294721841812, 0.041830550879240036, 0.021453870460391045, 0.0333310104906559, 0.050274237990379333, 0.02074085921049118, 0.040903568267822266, 0.030540959909558296, 0.09200656414031982, 0.028245704248547554, 0.036564696580171585, 0.0, 0.0, 0.0, 0.0, 0.0, 0.0, 0.0, 0.0, 0.0, 0.0, 0.0, 0.0, 0.0], [0.2126019448041916, 0.020284118130803108, 0.05000370740890503, 0.015904178842902184, 0.05722508579492569, 0.022857313975691795, 0.04604588449001312, 0.03530844300985336, 0.011784468777477741, 0.04140482842922211, 0.016803614795207977, 0.015782060101628304, 0.02020842395722866, 0.013090192340314388, 0.020854244008660316, 0.06297557055950165, 0.018039433285593987, 0.0180529598146677, 0.02444530464708805, 0.17059147357940674, 0.01593976467847824, 0.04152190312743187, 0.048275113105773926, 0.0, 0.0, 0.0, 0.0, 0.0, 0.0, 0.0, 0.0, 0.0, 0.0, 0.0, 0.0], [0.2671400308609009, 0.035646166652441025, 0.020422913134098053, 0.006622722838073969, 0.04034103453159332, 0.019110338762402534, 0.014575297012925148, 0.05641632899641991, 0.008403635583817959, 0.015526886098086834, 0.04414669796824455, 0.01105591282248497, 0.04001997411251068, 0.009353091940283775, 0.019351882860064507, 0.07054154574871063, 0.01279882900416851, 0.012832623906433582, 0.0141656044870615, 0.1173698902130127, 0.007312786765396595, 0.09727416932582855, 0.020751141011714935, 0.03882049769163132, 0.0, 0.0, 0.0, 0.0, 0.0, 0.0, 0.0, 0.0, 0.0, 0.0, 0.0], [0.1459123194217682, 0.033193789422512054, 0.03138771280646324, 0.0099279023706913, 0.05209656059741974, 0.01984088495373726, 0.01940171979367733, 0.0758240595459938, 0.012863253243267536, 0.03345126286149025, 0.016568398103117943, 0.014797165989875793, 0.05908384919166565, 0.015597392804920673, 0.011369233950972557, 0.021859480068087578, 0.01947387121617794, 0.014793695881962776, 0.05341865494847298, 0.0952148362994194, 0.01620456390082836, 0.06210916116833687, 0.061828482896089554, 0.06657972186803818, 0.03720195218920708, 0.0, 0.0, 0.0, 0.0, 0.0, 0.0, 0.0, 0.0, 0.0, 0.0], [0.06265700608491898, 0.014285162091255188, 0.025387225672602654, 0.030092529952526093, 0.021246911957859993, 0.02952989749610424, 0.026446690782904625, 0.014830498024821281, 0.015861937776207924, 0.04331433027982712, 0.02196396328508854, 0.0199701189994812, 0.043428532779216766, 0.018692903220653534, 0.00947535876184702, 0.02419748716056347, 0.023853639140725136, 0.026908745989203453, 0.01406070590019226, 0.17528504133224487, 0.03583676740527153, 0.047922566533088684, 0.0357506237924099, 0.01207052357494831, 0.05927427113056183, 0.14765655994415283, 0.0, 0.0, 0.0, 0.0, 0.0, 0.0, 0.0, 0.0, 0.0], [0.09766793996095657, 0.031521737575531006, 0.0266864113509655, 0.036455780267715454, 0.03492369502782822, 0.08635789155960083, 0.013895385898649693, 0.03018672578036785, 0.019402574747800827, 0.03514167293906212, 0.04878159984946251, 0.012551567517220974, 0.04099079966545105, 0.020208818838000298, 0.012653259560465813, 0.007451050449162722, 0.013522983528673649, 0.024078072980046272, 0.04302709549665451, 0.1506679505109787, 0.029252588748931885, 0.018810180947184563, 0.016104502603411674, 0.02854987233877182, 0.029875926673412323, 0.05121561139822006, 0.040018320083618164, 0.0, 0.0, 0.0, 0.0, 0.0, 0.0, 0.0, 0.0], [0.0915180966258049, 0.011421111412346363, 0.0397990345954895, 0.011658593080937862, 0.03344332426786423, 0.04107605293393135, 0.009538298472762108, 0.04061254486441612, 0.009114389307796955, 0.046904005110263824, 0.027317605912685394, 0.010844954289495945, 0.024547511711716652, 0.010004600510001183, 0.008095643483102322, 0.0083968136459589, 0.011855488643050194, 0.008184147998690605, 0.04104063659906387, 0.36258116364479065, 0.007537381257861853, 0.009961560368537903, 0.021045764908194542, 0.011855038814246655, 0.03005831688642502, 0.03281193971633911, 0.02886321395635605, 0.009912792593240738, 0.0, 0.0, 0.0, 0.0, 0.0, 0.0, 0.0], [0.1094629168510437, 0.025872722268104553, 0.02392870932817459, 0.020045258104801178, 0.03590445592999458, 0.03167985379695892, 0.029145289212465286, 0.11399825662374496, 0.013954722322523594, 0.034807153046131134, 0.01810564287006855, 0.01762225665152073, 0.01900731585919857, 0.015307596884667873, 0.009703019633889198, 0.012407959438860416, 0.020091703161597252, 0.027262549847364426, 0.0656459778547287, 0.02715539000928402, 0.02622660994529724, 0.01894299127161503, 0.04077142849564552, 0.019073305651545525, 0.021573424339294434, 0.030219435691833496, 0.07011830806732178, 0.060314636677503586, 0.04165107384324074, 0.0, 0.0, 0.0, 0.0, 0.0, 0.0], [0.11406350880861282, 0.02655624784529209, 0.01995842345058918, 0.008931465446949005, 0.03494322672486305, 0.01683431677520275, 0.00937773659825325, 0.0445132739841938, 0.0037722205743193626, 0.028760293498635292, 0.020741166546940804, 0.0056509943678975105, 0.06007761135697365, 0.004424979444593191, 0.01082184724509716, 0.04112930968403816, 0.007085718214511871, 0.01043399702757597, 0.026548538357019424, 0.11019264161586761, 0.007190010044723749, 0.05651938542723656, 0.028027081862092018, 0.06370093673467636, 0.03407689556479454, 0.07150980085134506, 0.04093319550156593, 0.01425296999514103, 0.06984369456768036, 0.009128461591899395, 0.0, 0.0, 0.0, 0.0, 0.0], [0.14399927854537964, 0.020454606041312218, 0.04262387007474899, 0.011592105031013489, 0.027789432555437088, 0.014342918992042542, 0.029106207191944122, 0.04215823858976364, 0.013669708743691444, 0.020581481978297234, 0.008641070686280727, 0.01240220945328474, 0.019577058032155037, 0.014879735186696053, 0.023319048807024956, 0.02236718311905861, 0.014413882978260517, 0.006065303459763527, 0.006985298823565245, 0.08859118074178696, 0.014219227246940136, 0.027541209012269974, 0.05707307532429695, 0.02498570829629898, 0.05733300745487213, 0.04808966442942619, 0.018268704414367676, 0.07940170913934708, 0.04377178102731705, 0.024849100038409233, 0.020906994119286537, 0.0, 0.0, 0.0, 0.0], [0.0778680220246315, 0.019732853397727013, 0.01990637369453907, 0.015179573558270931, 0.029269898310303688, 0.008963330648839474, 0.011427865363657475, 0.03169625252485275, 0.006965263281017542, 0.040641676634550095, 0.019985223188996315, 0.008789058774709702, 0.0357498973608017, 0.007953664287924767, 0.009612186811864376, 0.014965921640396118, 0.010367300361394882, 0.013544999063014984, 0.013747342862188816, 0.0681854635477066, 0.011837062425911427, 0.019355515018105507, 0.016761237755417824, 0.01630122773349285, 0.061250220984220505, 0.12023529410362244, 0.047391440719366074, 0.023822041228413582, 0.1494300365447998, 0.014121509157121181, 0.04741879552602768, 0.007523445412516594, 0.0, 0.0, 0.0], [0.14836610853672028, 0.03627423569560051, 0.023768769577145576, 0.005308400373905897, 0.03226036578416824, 0.017439445480704308, 0.015090279281139374, 0.04443071410059929, 0.004935787990689278, 0.021151503548026085, 0.023849105462431908, 0.0061277966015040874, 0.04430978372693062, 0.005717849358916283, 0.006861455272883177, 0.016362614929676056, 0.00770712923258543, 0.009109629318118095, 0.02842758595943451, 0.1449139416217804, 0.0063516064547002316, 0.03453824296593666, 0.02327299676835537, 0.04803793877363205, 0.034416668117046356, 0.0697537511587143, 0.027561891824007034, 0.01201652642339468, 0.03535731881856918, 0.008575208485126495, 0.03916303813457489, 0.009715793654322624, 0.008826585486531258, 0.0, 0.0], [0.11389313638210297, 0.02193148247897625, 0.026447618380188942, 0.007602890953421593, 0.020530687645077705, 0.02971317060291767, 0.036949627101421356, 0.028757929801940918, 0.007981305941939354, 0.02935916930437088, 0.015349611639976501, 0.01842016726732254, 0.020850971341133118, 0.008514756336808205, 0.010930920019745827, 0.009227685630321503, 0.02127930149435997, 0.009222986176609993, 0.027651086449623108, 0.12458859384059906, 0.010509631596505642, 0.060961928218603134, 0.022033249959349632, 0.0303669311106205, 0.0274112019687891, 0.0345994271337986, 0.032027311623096466, 0.0395297147333622, 0.05353797972202301, 0.017732912674546242, 0.017497548833489418, 0.017771488055586815, 0.012080211192369461, 0.03473734110593796, 0.0], [0.13933585584163666, 0.021371260285377502, 0.014541379176080227, 0.005123289301991463, 0.0316350981593132, 0.01092180609703064, 0.012541353702545166, 0.02249288372695446, 0.004774260800331831, 0.024901414290070534, 0.010858358815312386, 0.010577716864645481, 0.025906074792146683, 0.0052865045145154, 0.016752304509282112, 0.045204389840364456, 0.012112236581742764, 0.01471469085663557, 0.014629187993705273, 0.08781161904335022, 0.007287845481187105, 0.07496535778045654, 0.015995556488633156, 0.04392343759536743, 0.04102412983775139, 0.07587805390357971, 0.0279245525598526, 0.015250172466039658, 0.013413446955382824, 0.014532787725329399, 0.02721545100212097, 0.03453553467988968, 0.018207421526312828, 0.0350533165037632, 0.0233012568205595]], [[1.0, 0.0, 0.0, 0.0, 0.0, 0.0, 0.0, 0.0, 0.0, 0.0, 0.0, 0.0, 0.0, 0.0, 0.0, 0.0, 0.0, 0.0, 0.0, 0.0, 0.0, 0.0, 0.0, 0.0, 0.0, 0.0, 0.0, 0.0, 0.0, 0.0, 0.0, 0.0, 0.0, 0.0, 0.0], [0.00041899713687598705, 0.9995810389518738, 0.0, 0.0, 0.0, 0.0, 0.0, 0.0, 0.0, 0.0, 0.0, 0.0, 0.0, 0.0, 0.0, 0.0, 0.0, 0.0, 0.0, 0.0, 0.0, 0.0, 0.0, 0.0, 0.0, 0.0, 0.0, 0.0, 0.0, 0.0, 0.0, 0.0, 0.0, 0.0, 0.0], [0.00013394799316301942, 0.009511874057352543, 0.990354061126709, 0.0, 0.0, 0.0, 0.0, 0.0, 0.0, 0.0, 0.0, 0.0, 0.0, 0.0, 0.0, 0.0, 0.0, 0.0, 0.0, 0.0, 0.0, 0.0, 0.0, 0.0, 0.0, 0.0, 0.0, 0.0, 0.0, 0.0, 0.0, 0.0, 0.0, 0.0, 0.0], [0.0008606775081716478, 0.002610041992738843, 0.015066810883581638, 0.9814624786376953, 0.0, 0.0, 0.0, 0.0, 0.0, 0.0, 0.0, 0.0, 0.0, 0.0, 0.0, 0.0, 0.0, 0.0, 0.0, 0.0, 0.0, 0.0, 0.0, 0.0, 0.0, 0.0, 0.0, 0.0, 0.0, 0.0, 0.0, 0.0, 0.0, 0.0, 0.0], [3.717051004059613e-05, 0.0006769585888832808, 0.0012692974414676428, 0.00021407846361398697, 0.9978025555610657, 0.0, 0.0, 0.0, 0.0, 0.0, 0.0, 0.0, 0.0, 0.0, 0.0, 0.0, 0.0, 0.0, 0.0, 0.0, 0.0, 0.0, 0.0, 0.0, 0.0, 0.0, 0.0, 0.0, 0.0, 0.0, 0.0, 0.0, 0.0, 0.0, 0.0], [8.425408304901794e-05, 0.0007904706289991736, 0.003215280594304204, 0.002708565443754196, 0.0013058242620900273, 0.9918956160545349, 0.0, 0.0, 0.0, 0.0, 0.0, 0.0, 0.0, 0.0, 0.0, 0.0, 0.0, 0.0, 0.0, 0.0, 0.0, 0.0, 0.0, 0.0, 0.0, 0.0, 0.0, 0.0, 0.0, 0.0, 0.0, 0.0, 0.0, 0.0, 0.0], [0.00014960499538574368, 0.0018361882539466023, 0.0016375009436160326, 0.0010130589362233877, 0.004209812264889479, 8.004387927940115e-05, 0.9910737872123718, 0.0, 0.0, 0.0, 0.0, 0.0, 0.0, 0.0, 0.0, 0.0, 0.0, 0.0, 0.0, 0.0, 0.0, 0.0, 0.0, 0.0, 0.0, 0.0, 0.0, 0.0, 0.0, 0.0, 0.0, 0.0, 0.0, 0.0, 0.0], [0.0002685565559659153, 0.000925963104236871, 0.0008250501123256981, 0.0006819652044214308, 0.007268865592777729, 0.001351708429865539, 0.0003469162620604038, 0.9883310198783875, 0.0, 0.0, 0.0, 0.0, 0.0, 0.0, 0.0, 0.0, 0.0, 0.0, 0.0, 0.0, 0.0, 0.0, 0.0, 0.0, 0.0, 0.0, 0.0, 0.0, 0.0, 0.0, 0.0, 0.0, 0.0, 0.0, 0.0], [0.007326354272663593, 0.007828539237380028, 0.003931872546672821, 0.00018374012142885476, 6.433095404645428e-05, 0.00010083136294269934, 6.769891479052603e-05, 7.16408176231198e-05, 0.9804250597953796, 0.0, 0.0, 0.0, 0.0, 0.0, 0.0, 0.0, 0.0, 0.0, 0.0, 0.0, 0.0, 0.0, 0.0, 0.0, 0.0, 0.0, 0.0, 0.0, 0.0, 0.0, 0.0, 0.0, 0.0, 0.0, 0.0], [3.9175745769171044e-05, 9.137414599535987e-05, 0.0003339909017086029, 6.816770473960787e-05, 7.81233684392646e-05, 0.0009843030711635947, 0.00016941338253673166, 0.0025414603296667337, 4.413309216033667e-05, 0.9956498742103577, 0.0, 0.0, 0.0, 0.0, 0.0, 0.0, 0.0, 0.0, 0.0, 0.0, 0.0, 0.0, 0.0, 0.0, 0.0, 0.0, 0.0, 0.0, 0.0, 0.0, 0.0, 0.0, 0.0, 0.0, 0.0], [5.52033316125744e-06, 2.346654946450144e-05, 9.18648365768604e-05, 8.013448677957058e-05, 3.939224552595988e-05, 8.521603740518913e-05, 2.5735973395057954e-05, 7.120834925444797e-05, 4.276972504158039e-06, 0.0001504979736637324, 0.9994226694107056, 0.0, 0.0, 0.0, 0.0, 0.0, 0.0, 0.0, 0.0, 0.0, 0.0, 0.0, 0.0, 0.0, 0.0, 0.0, 0.0, 0.0, 0.0, 0.0, 0.0, 0.0, 0.0, 0.0, 0.0], [0.001040031318552792, 0.002299365121871233, 0.002392070833593607, 0.0003133237478323281, 0.00013362934987526387, 0.0005168469506315887, 0.0011971114436164498, 6.827456672908738e-05, 0.005444330628961325, 0.0002821747330017388, 4.305739639676176e-05, 0.9862697720527649, 0.0, 0.0, 0.0, 0.0, 0.0, 0.0, 0.0, 0.0, 0.0, 0.0, 0.0, 0.0, 0.0, 0.0, 0.0, 0.0, 0.0, 0.0, 0.0, 0.0, 0.0, 0.0, 0.0], [4.6304052375489846e-05, 0.0003248228458687663, 0.0002445940626785159, 0.0015311656752601266, 0.0008613698882982135, 0.0012943876208737493, 6.198460323503241e-05, 2.6642697775969282e-05, 4.840868496103212e-05, 0.0019855634309351444, 0.0001397188170813024, 0.00011434281623223796, 0.9933207035064697, 0.0, 0.0, 0.0, 0.0, 0.0, 0.0, 0.0, 0.0, 0.0, 0.0, 0.0, 0.0, 0.0, 0.0, 0.0, 0.0, 0.0, 0.0, 0.0, 0.0, 0.0, 0.0], [0.003044240642338991, 0.00182236242108047, 0.0009289855370298028, 4.880229971604422e-05, 1.6391151802963577e-05, 2.909561590058729e-05, 2.507976387278177e-05, 2.9130265829735436e-05, 0.4563218951225281, 2.4578661395935342e-05, 2.4832152121234685e-05, 0.0030043956357985735, 1.6773815332271624e-06, 0.5346784591674805, 0.0, 0.0, 0.0, 0.0, 0.0, 0.0, 0.0, 0.0, 0.0, 0.0, 0.0, 0.0, 0.0, 0.0, 0.0, 0.0, 0.0, 0.0, 0.0, 0.0, 0.0], [0.0003981802728958428, 0.0010285042226314545, 0.0008281139889732003, 0.0002375323383603245, 7.348884537350386e-05, 0.0014350343262776732, 6.76568306516856e-05, 0.0002954751253128052, 0.0001429583498975262, 9.929129737429321e-05, 4.608238214132143e-06, 0.0005140079301781952, 5.0356766223558225e-06, 0.0001247556647285819, 0.9947452545166016, 0.0, 0.0, 0.0, 0.0, 0.0, 0.0, 0.0, 0.0, 0.0, 0.0, 0.0, 0.0, 0.0, 0.0, 0.0, 0.0, 0.0, 0.0, 0.0, 0.0], [9.074839181266725e-05, 0.00026525967405177653, 0.00011011156311724335, 0.0002123188751284033, 8.290534606203437e-05, 0.001181418658234179, 1.56886744662188e-05, 0.0016655924264341593, 1.1725299373210873e-05, 0.002050940180197358, 0.00013842558837495744, 1.5573592463624664e-05, 1.1507397175591905e-05, 9.06616696738638e-06, 0.0002265573712065816, 0.9939122200012207, 0.0, 0.0, 0.0, 0.0, 0.0, 0.0, 0.0, 0.0, 0.0, 0.0, 0.0, 0.0, 0.0, 0.0, 0.0, 0.0, 0.0, 0.0, 0.0], [0.00044135446660220623, 0.0006528966478072107, 0.0006495668785646558, 9.39807141548954e-05, 4.1127124859485775e-05, 0.00017028441652655602, 0.0005066708545200527, 2.88961182377534e-05, 0.002370183588936925, 0.00010454314178787172, 1.9230965335736983e-05, 0.47055861353874207, 1.6804031474748626e-05, 0.002284094225615263, 0.00021698148339055479, 3.276942879892886e-05, 0.5218120217323303, 0.0, 0.0, 0.0, 0.0, 0.0, 0.0, 0.0, 0.0, 0.0, 0.0, 0.0, 0.0, 0.0, 0.0, 0.0, 0.0, 0.0, 0.0], [0.0005350514547899365, 0.0006631249561905861, 0.00018957482825499028, 0.00011594546231208369, 3.93058689951431e-05, 8.452105976175517e-05, 0.0002685999497771263, 0.0003003481251653284, 0.00012727575085591525, 0.0001536341296741739, 2.152451270376332e-05, 0.00041020181379280984, 0.0015090402448549867, 0.00011659023584797978, 0.00013773961109109223, 7.38914095563814e-05, 0.00039899421972222626, 0.9948545694351196, 0.0, 0.0, 0.0, 0.0, 0.0, 0.0, 0.0, 0.0, 0.0, 0.0, 0.0, 0.0, 0.0, 0.0, 0.0, 0.0, 0.0], [0.0002235245192423463, 0.00025025324430316687, 0.00011739316687453538, 1.860825068433769e-05, 0.0006291482714004815, 0.0007579216035082936, 3.784086220548488e-05, 0.0033851435873657465, 1.791826252883766e-05, 0.00017818278865888715, 3.434426980675198e-05, 7.747576455585659e-05, 6.471150845754892e-05, 1.5270292351488024e-05, 0.0002935955999419093, 0.0005734388250857592, 7.15439164196141e-05, 0.0001588312879903242, 0.993094801902771, 0.0, 0.0, 0.0, 0.0, 0.0, 0.0, 0.0, 0.0, 0.0, 0.0, 0.0, 0.0, 0.0, 0.0, 0.0, 0.0], [0.00030641001649200916, 0.00041680067079141736, 0.00045197142753750086, 0.00015746394637972116, 0.001580073731020093, 0.0022666300646960735, 0.00014483602717518806, 0.002518873196095228, 4.471185457077809e-05, 0.0027394674252718687, 0.0004348975489847362, 0.00015683105448260903, 2.8505737645900808e-05, 4.005823939223774e-05, 0.0005936671514064074, 0.00011775208986364305, 0.00014039620873518288, 0.00018060374713968486, 0.000964188133366406, 0.9867159128189087, 0.0, 0.0, 0.0, 0.0, 0.0, 0.0, 0.0, 0.0, 0.0, 0.0, 0.0, 0.0, 0.0, 0.0, 0.0], [0.009046887047588825, 0.0007260910933837295, 6.49179273750633e-05, 4.578274820232764e-05, 3.669531724881381e-05, 3.3896994864335284e-05, 4.1313283873023465e-05, 9.000120189739391e-05, 0.01616392843425274, 1.8953804101329297e-05, 3.3513842936372384e-05, 0.002181082731112838, 5.341187261365121e-06, 0.018749460577964783, 0.00017897765792440623, 0.00049936881987378, 0.002435569418594241, 4.2716106690932065e-05, 7.329302752623335e-05, 1.915439497679472e-05, 0.9495131969451904, 0.0, 0.0, 0.0, 0.0, 0.0, 0.0, 0.0, 0.0, 0.0, 0.0, 0.0, 0.0, 0.0, 0.0], [0.00021946315246168524, 0.0011669575469568372, 0.00021983245096635073, 0.000987629871815443, 0.00031338492408394814, 0.00012072655226802453, 5.631538442685269e-06, 2.4260069039883092e-05, 4.5442018745234236e-05, 1.8529613953433e-05, 1.4025728887645528e-05, 1.0154997653444298e-05, 0.0004018027102574706, 4.0526429074816406e-05, 0.0001710674405330792, 9.8690579761751e-06, 9.488572686677799e-06, 0.0003931091050617397, 5.709419838240137e-06, 1.78443115146365e-05, 2.8530415875138715e-05, 0.9957762360572815, 0.0, 0.0, 0.0, 0.0, 0.0, 0.0, 0.0, 0.0, 0.0, 0.0, 0.0, 0.0, 0.0], [0.00019360966689419, 0.0008434184710495174, 0.0005215293494984508, 2.566456350905355e-05, 0.0004623319546226412, 0.00025401570019312203, 1.8471217117621563e-05, 0.00011509784235386178, 0.0002728897088672966, 0.0001543665857752785, 1.2149133908678778e-05, 0.0006913738907314837, 5.695979780284688e-05, 0.00024024760932661593, 3.827492764685303e-05, 9.934448462445289e-05, 0.0006488916114903986, 8.011733007151634e-05, 0.00019218819215893745, 2.5529423510306515e-05, 0.00032434772583656013, 0.001087106647901237, 0.9936420321464539, 0.0, 0.0, 0.0, 0.0, 0.0, 0.0, 0.0, 0.0, 0.0, 0.0, 0.0, 0.0], [0.0016077614855021238, 0.1769734025001526, 0.015483570285141468, 0.00037138734478503466, 0.00037863358738832176, 0.00016452708223368973, 0.00032773788552731276, 0.000169896797160618, 0.0021229616831988096, 3.573096182662994e-05, 6.090144961490296e-05, 0.0004562162794172764, 1.5447776604560204e-05, 0.0022543147206306458, 0.0015666874824091792, 0.00011843752872664481, 0.00046998896868899465, 5.03731171193067e-05, 0.0001210804985021241, 6.008966010995209e-05, 0.0008920567343011498, 0.0007518449565395713, 0.0002689964312594384, 0.7952779531478882, 0.0, 0.0, 0.0, 0.0, 0.0, 0.0, 0.0, 0.0, 0.0, 0.0, 0.0], [0.0003919860755559057, 0.00021421183191705495, 0.0005306116072461009, 1.0745787221821956e-05, 0.00011862369865411893, 4.2257714085280895e-05, 0.0002116035611834377, 4.6925462811486796e-05, 0.00044815789442509413, 0.0001069127902155742, 3.935461791115813e-05, 0.00016830845561344177, 0.00017352349823340774, 0.00045245056389831007, 0.00014294101856648922, 0.00011699317838065326, 0.00017526798183098435, 0.00010119943908648565, 4.251383143127896e-05, 2.037170452240389e-05, 3.837128315353766e-05, 0.00011344613449182361, 0.00025279278634116054, 6.991026748437434e-05, 0.995970606803894, 0.0, 0.0, 0.0, 0.0, 0.0, 0.0, 0.0, 0.0, 0.0, 0.0], [0.00021530695084948093, 0.00010005839430959895, 0.002380919177085161, 0.0019831403624266386, 0.0011120124254375696, 5.563466766034253e-05, 0.0006109262467361987, 0.0002456435759086162, 8.819004870019853e-05, 0.0011510398471727967, 0.00010669898620108142, 0.00017554867372382432, 5.7362780353287235e-05, 7.814793207217008e-05, 0.00024573446717113256, 9.59466979111312e-06, 0.00017032392497640103, 2.8972674044780433e-05, 1.4011699022375979e-05, 0.00016692095960024744, 1.2888869605376385e-05, 0.000244955561356619, 0.0005147012416273355, 4.942109444527887e-05, 0.0005746558308601379, 0.9896071553230286, 0.0, 0.0, 0.0, 0.0, 0.0, 0.0, 0.0, 0.0, 0.0], [0.00011423406976973638, 0.0008627417264506221, 0.0007732228259555995, 0.0007090753642842174, 0.0007292141090147197, 0.0014031634200364351, 0.00021403594291768968, 0.0001766648201737553, 6.622044020332396e-05, 3.215937249478884e-05, 0.000453305576229468, 0.00012008492194581777, 2.2129028366180137e-05, 5.807503475807607e-05, 0.00012917433923576027, 1.907965270220302e-05, 0.00011076666851295158, 8.564189556636848e-06, 2.363054773013573e-05, 0.00033799809170886874, 5.2118928579147905e-05, 0.0001445568195777014, 0.00019694949151016772, 0.0004510523867793381, 2.057626443274785e-05, 8.764302765484899e-05, 0.9926835894584656, 0.0, 0.0, 0.0, 0.0, 0.0, 0.0, 0.0, 0.0], [0.00019798337598331273, 0.00019567922572605312, 0.00022612222528550774, 0.00041943651740439236, 0.0005979692214168608, 0.0004517439811024815, 0.0003478288999758661, 0.0002585809852462262, 2.8019878300256096e-05, 0.0007220005500130355, 0.00013010457041673362, 0.0011632057139649987, 6.916908023413271e-05, 2.4789105736999772e-05, 0.00010386014764662832, 0.00038124900311231613, 0.0011587801855057478, 0.0003314443747512996, 0.0002449454623274505, 0.00012755172792822123, 0.0001609843602636829, 1.926788354467135e-05, 0.000271741853794083, 2.0765552108059637e-05, 6.825073796790093e-05, 0.0008764249505475163, 0.0006782159907743335, 0.9907240271568298, 0.0, 0.0, 0.0, 0.0, 0.0, 0.0, 0.0], [3.157182800350711e-05, 0.0006791104678995907, 0.0007090703584253788, 0.0002416481147520244, 0.00041205339948646724, 0.0009237408521585166, 0.00020848539134021848, 6.639285857090726e-05, 0.00011664817429846153, 8.601925947004929e-05, 0.010591291822493076, 0.00033729057759046555, 2.1898467821301892e-05, 0.00010110715084010735, 0.00010436082084197551, 5.8587360399542376e-05, 0.00032512095640413463, 1.5854115190450102e-05, 5.03360297443578e-06, 0.00040948984678834677, 1.3119491086399648e-05, 5.313343717716634e-05, 1.1887236723850947e-05, 5.5366654123645276e-05, 1.2197670002933592e-05, 8.952635107561946e-05, 0.0022435474675148726, 0.0002104189625242725, 0.9818660616874695, 0.0, 0.0, 0.0, 0.0, 0.0, 0.0], [0.0007582924445159733, 0.0012331459438428283, 8.604941103840247e-05, 6.291332101682201e-05, 2.8791788281523623e-05, 3.3166903449455276e-05, 7.622726116096601e-05, 0.00010868187382584438, 0.006450860761106014, 0.0001478909543948248, 1.0376495993114077e-05, 0.0023889727890491486, 7.883606303948909e-05, 0.007510701660066843, 0.00028743132133968174, 0.0001367574732284993, 0.002760297618806362, 0.0007447172538377345, 8.81111845956184e-05, 2.4702098016859964e-05, 0.006188873201608658, 0.00011647059727692977, 0.00017244012269657105, 0.0002621751045808196, 0.00018419795378576964, 4.432135756360367e-05, 4.855170482187532e-05, 8.903061097953469e-05, 2.6887826606980525e-05, 0.9698501229286194, 0.0, 0.0, 0.0, 0.0, 0.0], [0.0002462745178490877, 0.00035919941728934646, 0.00020521896658465266, 9.387754107592627e-05, 8.577331027481705e-05, 5.495216100825928e-05, 4.531839658739045e-05, 1.0722179467848036e-05, 4.867117604590021e-05, 0.00011017607903340831, 0.00010064091475214809, 9.772245539352298e-05, 0.0005496817757375538, 4.362943582236767e-05, 3.9457921957364306e-05, 7.140226807678118e-05, 9.81435805442743e-05, 5.7009699958143756e-05, 2.4251130525954068e-05, 2.3145676095737144e-06, 5.056939335190691e-05, 0.00011318492033751681, 0.00029069941956549883, 6.889968790346757e-05, 0.0006683265673927963, 0.0002321746142115444, 8.348713890882209e-06, 1.743463144521229e-05, 1.0273119187331758e-05, 0.0001388570381095633, 0.9960569143295288, 0.0, 0.0, 0.0, 0.0], [0.00011105906014563516, 3.5991564800497144e-05, 4.416057709022425e-05, 0.000225963638513349, 0.00024025849415920675, 1.7348933397443034e-05, 7.204298162832856e-05, 0.00023739010794088244, 8.274755964521319e-05, 0.00010178551019635051, 7.876389645389281e-06, 6.391833449015394e-05, 3.295210990472697e-05, 7.889195694588125e-05, 0.00011627462663454935, 7.139148237911286e-06, 6.571759877260774e-05, 5.3963635764375795e-06, 8.33402282296447e-06, 1.9613898984971456e-05, 4.110631925868802e-05, 8.538003021385521e-05, 3.1616138585377485e-05, 9.91699198493734e-06, 2.3832410079194233e-05, 0.0018293517641723156, 2.6111230909009464e-05, 3.3135107514681295e-05, 1.461270858271746e-05, 0.0008547282195650041, 0.00016745159518904984, 0.9953078627586365, 0.0, 0.0, 0.0], [0.0022552271839231253, 0.0004647756286431104, 0.00012283753312658519, 0.006661214865744114, 8.828967838780954e-05, 0.00024942762684077024, 0.0001755518460413441, 2.6563502615317702e-05, 0.004149146843701601, 0.00020833106827922165, 1.5973380868672393e-05, 0.0007248226902447641, 1.2318094377405941e-05, 0.0049292477779090405, 0.0007067773258313537, 2.7460220735520124e-05, 0.0008252460393123329, 5.1487324526533484e-05, 9.10726248548599e-06, 0.0011701994808390737, 0.0011320516932755709, 0.0003872282977681607, 0.00010000276961363852, 0.0005395388579927385, 0.00012797699309885502, 7.418715540552512e-05, 0.0006351851625367999, 5.991848956909962e-05, 0.00020302357734180987, 0.02264127880334854, 7.111399463610724e-05, 0.0034798572305589914, 0.947674572467804, 0.0, 0.0], [0.00010488820407772437, 0.0005403994000516832, 0.00027006107848137617, 2.7819975002785213e-05, 0.0008878541993908584, 0.00025317296967841685, 0.0002921410487033427, 0.0009951477404683828, 3.943215779145248e-05, 6.531640246976167e-05, 5.198337748879567e-05, 0.0006716354400850832, 1.952420461748261e-05, 3.796437522396445e-05, 0.00031547065009362996, 0.00015760352835059166, 0.0006809118203818798, 0.0001736675330903381, 0.00023275903367903084, 0.0004935209872201085, 0.00015254261961672455, 8.968877955339849e-05, 0.0014225818449631333, 0.00022503094805870205, 0.00015392254863400012, 0.00010696908429963514, 0.005650244187563658, 0.0008653240511193871, 0.0002874952624551952, 0.00013868515088688582, 1.4354186532727908e-05, 2.8162003218312748e-05, 0.00011612025991780683, 0.9844375848770142, 0.0], [0.0018830378539860249, 0.0002301395288668573, 7.19053641660139e-05, 3.798290890699718e-06, 0.002256362698972225, 4.3679701775545254e-05, 0.00012782932026311755, 0.0006368020549416542, 0.0005363994278013706, 5.325703568814788e-06, 7.917847688077018e-05, 2.60159868048504e-05, 1.1253255252086092e-05, 0.0005611240630969405, 9.103791853704024e-06, 0.00021052229567430913, 2.689111715881154e-05, 3.2424355595139787e-05, 0.0002593934768810868, 0.00045266668894328177, 0.0011520999250933528, 1.1493529200379271e-05, 4.818234810954891e-05, 0.00010571501479716972, 8.452797919744626e-05, 0.00010020854097092524, 2.848370604624506e-05, 2.0415431208675727e-05, 1.8022972199105425e-06, 7.628954335814342e-05, 4.6043314796406776e-05, 9.973574196919799e-05, 5.258399141894188e-06, 0.00019488483667373657, 0.9905610680580139]], [[1.0, 0.0, 0.0, 0.0, 0.0, 0.0, 0.0, 0.0, 0.0, 0.0, 0.0, 0.0, 0.0, 0.0, 0.0, 0.0, 0.0, 0.0, 0.0, 0.0, 0.0, 0.0, 0.0, 0.0, 0.0, 0.0, 0.0, 0.0, 0.0, 0.0, 0.0, 0.0, 0.0, 0.0, 0.0], [0.9424744844436646, 0.05752556398510933, 0.0, 0.0, 0.0, 0.0, 0.0, 0.0, 0.0, 0.0, 0.0, 0.0, 0.0, 0.0, 0.0, 0.0, 0.0, 0.0, 0.0, 0.0, 0.0, 0.0, 0.0, 0.0, 0.0, 0.0, 0.0, 0.0, 0.0, 0.0, 0.0, 0.0, 0.0, 0.0, 0.0], [0.8506749868392944, 0.09740975499153137, 0.05191534012556076, 0.0, 0.0, 0.0, 0.0, 0.0, 0.0, 0.0, 0.0, 0.0, 0.0, 0.0, 0.0, 0.0, 0.0, 0.0, 0.0, 0.0, 0.0, 0.0, 0.0, 0.0, 0.0, 0.0, 0.0, 0.0, 0.0, 0.0, 0.0, 0.0, 0.0, 0.0, 0.0], [0.7641513347625732, 0.10970377177000046, 0.07497043907642365, 0.05117451772093773, 0.0, 0.0, 0.0, 0.0, 0.0, 0.0, 0.0, 0.0, 0.0, 0.0, 0.0, 0.0, 0.0, 0.0, 0.0, 0.0, 0.0, 0.0, 0.0, 0.0, 0.0, 0.0, 0.0, 0.0, 0.0, 0.0, 0.0, 0.0, 0.0, 0.0, 0.0], [0.6748190522193909, 0.08416198194026947, 0.0547025166451931, 0.07581552118062973, 0.11050093173980713, 0.0, 0.0, 0.0, 0.0, 0.0, 0.0, 0.0, 0.0, 0.0, 0.0, 0.0, 0.0, 0.0, 0.0, 0.0, 0.0, 0.0, 0.0, 0.0, 0.0, 0.0, 0.0, 0.0, 0.0, 0.0, 0.0, 0.0, 0.0, 0.0, 0.0], [0.6857606172561646, 0.08229531347751617, 0.05202116817235947, 0.08139178901910782, 0.04085881635546684, 0.057672228664159775, 0.0, 0.0, 0.0, 0.0, 0.0, 0.0, 0.0, 0.0, 0.0, 0.0, 0.0, 0.0, 0.0, 0.0, 0.0, 0.0, 0.0, 0.0, 0.0, 0.0, 0.0, 0.0, 0.0, 0.0, 0.0, 0.0, 0.0, 0.0, 0.0], [0.6174606084823608, 0.0565345399081707, 0.09111694991588593, 0.06854882091283798, 0.06338422000408173, 0.035969749093055725, 0.06698514521121979, 0.0, 0.0, 0.0, 0.0, 0.0, 0.0, 0.0, 0.0, 0.0, 0.0, 0.0, 0.0, 0.0, 0.0, 0.0, 0.0, 0.0, 0.0, 0.0, 0.0, 0.0, 0.0, 0.0, 0.0, 0.0, 0.0, 0.0, 0.0], [0.6047279834747314, 0.060889676213264465, 0.059211499989032745, 0.0955815389752388, 0.04265914112329483, 0.03184344619512558, 0.0426306426525116, 0.06245603784918785, 0.0, 0.0, 0.0, 0.0, 0.0, 0.0, 0.0, 0.0, 0.0, 0.0, 0.0, 0.0, 0.0, 0.0, 0.0, 0.0, 0.0, 0.0, 0.0, 0.0, 0.0, 0.0, 0.0, 0.0, 0.0, 0.0, 0.0], [0.4008438289165497, 0.07533582299947739, 0.042708419263362885, 0.011760726571083069, 0.02668057195842266, 0.013492073863744736, 0.02846546471118927, 0.013900592923164368, 0.3868125081062317, 0.0, 0.0, 0.0, 0.0, 0.0, 0.0, 0.0, 0.0, 0.0, 0.0, 0.0, 0.0, 0.0, 0.0, 0.0, 0.0, 0.0, 0.0, 0.0, 0.0, 0.0, 0.0, 0.0, 0.0, 0.0, 0.0], [0.49680259823799133, 0.06792882084846497, 0.057920049875974655, 0.07101532816886902, 0.06963257491588593, 0.018800102174282074, 0.06757564097642899, 0.06346483528614044, 0.06656690686941147, 0.020293204113841057, 0.0, 0.0, 0.0, 0.0, 0.0, 0.0, 0.0, 0.0, 0.0, 0.0, 0.0, 0.0, 0.0, 0.0, 0.0, 0.0, 0.0, 0.0, 0.0, 0.0, 0.0, 0.0, 0.0, 0.0, 0.0], [0.5176078677177429, 0.0828901156783104, 0.05239769071340561, 0.06842361390590668, 0.04608830437064171, 0.026865949854254723, 0.08181479573249817, 0.03230837360024452, 0.055162765085697174, 0.01854962669312954, 0.017890889197587967, 0.0, 0.0, 0.0, 0.0, 0.0, 0.0, 0.0, 0.0, 0.0, 0.0, 0.0, 0.0, 0.0, 0.0, 0.0, 0.0, 0.0, 0.0, 0.0, 0.0, 0.0, 0.0, 0.0, 0.0], [0.3038181960582733, 0.031856440007686615, 0.02915770187973976, 0.011053651571273804, 0.01353677548468113, 0.016536904498934746, 0.015181963331997395, 0.01551173347979784, 0.026294978335499763, 0.016890989616513252, 0.011886661872267723, 0.5082740187644958, 0.0, 0.0, 0.0, 0.0, 0.0, 0.0, 0.0, 0.0, 0.0, 0.0, 0.0, 0.0, 0.0, 0.0, 0.0, 0.0, 0.0, 0.0, 0.0, 0.0, 0.0, 0.0, 0.0], [0.3585987687110901, 0.07880906015634537, 0.05902866646647453, 0.04445868358016014, 0.07822324335575104, 0.019679512828588486, 0.051331181079149246, 0.04009842872619629, 0.08024684339761734, 0.02781190350651741, 0.010250621475279331, 0.1361035406589508, 0.015359463170170784, 0.0, 0.0, 0.0, 0.0, 0.0, 0.0, 0.0, 0.0, 0.0, 0.0, 0.0, 0.0, 0.0, 0.0, 0.0, 0.0, 0.0, 0.0, 0.0, 0.0, 0.0, 0.0], [0.2511675953865051, 0.04623398557305336, 0.027838559821248055, 0.007056495640426874, 0.01724417693912983, 0.008997928351163864, 0.017309950664639473, 0.009924144484102726, 0.25275111198425293, 0.012778297998011112, 0.008546071127057076, 0.04791996628046036, 0.006098275072872639, 0.28613343834877014, 0.0, 0.0, 0.0, 0.0, 0.0, 0.0, 0.0, 0.0, 0.0, 0.0, 0.0, 0.0, 0.0, 0.0, 0.0, 0.0, 0.0, 0.0, 0.0, 0.0, 0.0], [0.3980077803134918, 0.06433820724487305, 0.049798548221588135, 0.05949565768241882, 0.03182113915681839, 0.030714737251400948, 0.058995526283979416, 0.054803889244794846, 0.03919371962547302, 0.035564471036195755, 0.02491648867726326, 0.04571932926774025, 0.016671661287546158, 0.0389430932700634, 0.05101582780480385, 0.0, 0.0, 0.0, 0.0, 0.0, 0.0, 0.0, 0.0, 0.0, 0.0, 0.0, 0.0, 0.0, 0.0, 0.0, 0.0, 0.0, 0.0, 0.0, 0.0], [0.3903382420539856, 0.07549392431974411, 0.03844676911830902, 0.043667785823345184, 0.017820745706558228, 0.012712176889181137, 0.04530724138021469, 0.036030203104019165, 0.04217067360877991, 0.016753029078245163, 0.042248666286468506, 0.0509234182536602, 0.030772075057029724, 0.040720827877521515, 0.05648886784911156, 0.06010524928569794, 0.0, 0.0, 0.0, 0.0, 0.0, 0.0, 0.0, 0.0, 0.0, 0.0, 0.0, 0.0, 0.0, 0.0, 0.0, 0.0, 0.0, 0.0, 0.0], [0.1818235218524933, 0.018224777653813362, 0.017477909103035927, 0.006372256204485893, 0.007922589778900146, 0.01006288081407547, 0.008703161962330341, 0.010297478176653385, 0.015354453586041927, 0.011538184247910976, 0.007091047707945108, 0.3139554262161255, 0.0060198185965418816, 0.015887582674622536, 0.015422012656927109, 0.013188592158257961, 0.3406583368778229, 0.0, 0.0, 0.0, 0.0, 0.0, 0.0, 0.0, 0.0, 0.0, 0.0, 0.0, 0.0, 0.0, 0.0, 0.0, 0.0, 0.0, 0.0], [0.23881423473358154, 0.07684360444545746, 0.04843559488654137, 0.028319789096713066, 0.0429762564599514, 0.019430754706263542, 0.03321722149848938, 0.02747294120490551, 0.018975935876369476, 0.04046749696135521, 0.020095612853765488, 0.05857318267226219, 0.03530574589967728, 0.01969189941883087, 0.09703770279884338, 0.03909806162118912, 0.061994519084692, 0.09324948489665985, 0.0, 0.0, 0.0, 0.0, 0.0, 0.0, 0.0, 0.0, 0.0, 0.0, 0.0, 0.0, 0.0, 0.0, 0.0, 0.0, 0.0], [0.3563612699508667, 0.043545350432395935, 0.0543937087059021, 0.03599720075726509, 0.055608734488487244, 0.03285680338740349, 0.019443850964307785, 0.06911691278219223, 0.020649444311857224, 0.03360534459352493, 0.02761874534189701, 0.03408000245690346, 0.026847463101148605, 0.020337317138910294, 0.022298939526081085, 0.036227352917194366, 0.034644756466150284, 0.022655006498098373, 0.05371185392141342, 0.0, 0.0, 0.0, 0.0, 0.0, 0.0, 0.0, 0.0, 0.0, 0.0, 0.0, 0.0, 0.0, 0.0, 0.0, 0.0], [0.3967011570930481, 0.05178235471248627, 0.039961911737918854, 0.06630746275186539, 0.045571863651275635, 0.02398340217769146, 0.019396748393774033, 0.021365979686379433, 0.020253784954547882, 0.03685583919286728, 0.009492042474448681, 0.04181002080440521, 0.014498679898679256, 0.019783729687333107, 0.029715240001678467, 0.04631546884775162, 0.0424664281308651, 0.03147520124912262, 0.022027641534805298, 0.020235035568475723, 0.0, 0.0, 0.0, 0.0, 0.0, 0.0, 0.0, 0.0, 0.0, 0.0, 0.0, 0.0, 0.0, 0.0, 0.0], [0.2315138727426529, 0.13258196413516998, 0.0602610819041729, 0.01138360146433115, 0.024262722581624985, 0.014553461223840714, 0.016979562118649483, 0.013957412913441658, 0.02247590944170952, 0.027721267193555832, 0.02060709521174431, 0.04084683582186699, 0.027723226696252823, 0.024550724774599075, 0.03857919201254845, 0.047701019793748856, 0.04407111927866936, 0.07720746099948883, 0.046044714748859406, 0.047733455896377563, 0.02924429252743721, 0.0, 0.0, 0.0, 0.0, 0.0, 0.0, 0.0, 0.0, 0.0, 0.0, 0.0, 0.0, 0.0, 0.0], [0.20264177024364471, 0.04893084615468979, 0.038946811109781265, 0.026632286608219147, 0.040943484753370285, 0.016175054013729095, 0.043880145996809006, 0.04927311837673187, 0.037442896515131, 0.018747959285974503, 0.010438336059451103, 0.03027418814599514, 0.011668812483549118, 0.03915901482105255, 0.08361911028623581, 0.026806553825736046, 0.032375968992710114, 0.026771055534482002, 0.041368674486875534, 0.043805498629808426, 0.09921546280384064, 0.03088301420211792, 0.0, 0.0, 0.0, 0.0, 0.0, 0.0, 0.0, 0.0, 0.0, 0.0, 0.0, 0.0, 0.0], [0.22999964654445648, 0.029275376349687576, 0.02482367865741253, 0.030747538432478905, 0.024439774453639984, 0.025078184902668, 0.019048279151320457, 0.041617501527071, 0.02524641714990139, 0.055363453924655914, 0.01384035125374794, 0.032063115388154984, 0.023373715579509735, 0.026896368712186813, 0.037655871361494064, 0.028709685429930687, 0.03498142585158348, 0.038269251585006714, 0.05304880067706108, 0.07750775665044785, 0.04235750064253807, 0.06297062337398529, 0.022685633972287178, 0.0, 0.0, 0.0, 0.0, 0.0, 0.0, 0.0, 0.0, 0.0, 0.0, 0.0, 0.0], [0.2523006796836853, 0.04309258610010147, 0.04779432341456413, 0.02153482474386692, 0.05364762246608734, 0.014357618056237698, 0.016968201845884323, 0.012399851344525814, 0.02810795046389103, 0.022964566946029663, 0.013637296855449677, 0.03462432324886322, 0.013057570904493332, 0.029753562062978745, 0.025925686582922935, 0.03689540922641754, 0.036465857177972794, 0.020091164857149124, 0.03424844518303871, 0.0322706401348114, 0.07516516000032425, 0.03381400927901268, 0.05794447287917137, 0.04293809458613396, 0.0, 0.0, 0.0, 0.0, 0.0, 0.0, 0.0, 0.0, 0.0, 0.0, 0.0], [0.2481558918952942, 0.0418383851647377, 0.037253543734550476, 0.019914187490940094, 0.060311757028102875, 0.01376151293516159, 0.010237006470561028, 0.02711835876107216, 0.021247487515211105, 0.0149964215233922, 0.015956414863467216, 0.019741931930184364, 0.016942843794822693, 0.022782420739531517, 0.02115940861403942, 0.013419795781373978, 0.02113155461847782, 0.015880079939961433, 0.038515739142894745, 0.03509928658604622, 0.06386467814445496, 0.04215893894433975, 0.05595177039504051, 0.06510591506958008, 0.05745462700724602, 0.0, 0.0, 0.0, 0.0, 0.0, 0.0, 0.0, 0.0, 0.0, 0.0], [0.24590614438056946, 0.03979460895061493, 0.03405003994703293, 0.038720112293958664, 0.028344355523586273, 0.02456826902925968, 0.013687246479094028, 0.01988093927502632, 0.01750793308019638, 0.04131213203072548, 0.024649064987897873, 0.017028076574206352, 0.015493785962462425, 0.01803990639746189, 0.028712542727589607, 0.008945335634052753, 0.01785881444811821, 0.029846539720892906, 0.02698223851621151, 0.061192579567432404, 0.03972142934799194, 0.04008691385388374, 0.046563804149627686, 0.04659207910299301, 0.04635816439986229, 0.028156954795122147, 0.0, 0.0, 0.0, 0.0, 0.0, 0.0, 0.0, 0.0, 0.0], [0.24299505352973938, 0.03093665838241577, 0.037281110882759094, 0.029979804530739784, 0.03951822966337204, 0.020689718425273895, 0.024463791400194168, 0.016162270680069923, 0.023514626547694206, 0.015184112824499607, 0.009779492393136024, 0.01040042843669653, 0.008830747567117214, 0.02398892119526863, 0.024419231340289116, 0.03784201294183731, 0.010589989833533764, 0.013367551378905773, 0.01626332476735115, 0.09984057396650314, 0.025632809847593307, 0.027902813628315926, 0.05468778312206268, 0.03170408308506012, 0.02747957408428192, 0.016517236828804016, 0.08002804964780807, 0.0, 0.0, 0.0, 0.0, 0.0, 0.0, 0.0, 0.0], [0.24383299052715302, 0.021781539544463158, 0.01905849762260914, 0.02660839818418026, 0.037405598908662796, 0.02708662487566471, 0.005031610373407602, 0.026656068861484528, 0.017429368570446968, 0.028662465512752533, 0.012151011265814304, 0.030223235487937927, 0.0140682989731431, 0.018160909414291382, 0.015435303561389446, 0.01572182960808277, 0.032153092324733734, 0.02497299760580063, 0.04793378338217735, 0.0459899865090847, 0.031192133203148842, 0.03841526433825493, 0.037881236523389816, 0.034722283482551575, 0.035507507622241974, 0.03336033970117569, 0.05460803955793381, 0.023949556052684784, 0.0, 0.0, 0.0, 0.0, 0.0, 0.0, 0.0], [0.308788001537323, 0.04082433134317398, 0.010766171850264072, 0.027089769020676613, 0.019433287903666496, 0.03355548158288002, 0.010839524678885937, 0.01149557251483202, 0.011286421678960323, 0.019319284707307816, 0.03442363440990448, 0.010595861822366714, 0.01946372538805008, 0.011577981524169445, 0.014172405935823917, 0.021593403071165085, 0.010569147765636444, 0.018212515860795975, 0.007991204038262367, 0.05231865495443344, 0.019707774743437767, 0.03532518073916435, 0.029598243534564972, 0.028512971475720406, 0.02101977728307247, 0.018976125866174698, 0.03100791946053505, 0.017736950889229774, 0.10379856824874878, 0.0, 0.0, 0.0, 0.0, 0.0, 0.0], [0.11270297318696976, 0.013211612589657307, 0.015115485526621342, 0.008062340319156647, 0.018075061962008476, 0.020267313346266747, 0.009121797978878021, 0.021654395386576653, 0.0246003158390522, 0.012220285832881927, 0.005230679176747799, 0.021195199340581894, 0.007505766581743956, 0.027240073308348656, 0.016828982159495354, 0.0093071972951293, 0.02377416379749775, 0.009840189479291439, 0.023520400747656822, 0.01809619925916195, 0.11592712253332138, 0.008296087384223938, 0.015038414858281612, 0.01626184768974781, 0.02283712849020958, 0.007970287464559078, 0.010345996357500553, 0.013601293787360191, 0.009923171252012253, 0.3622282147407532, 0.0, 0.0, 0.0, 0.0, 0.0], [0.19907145202159882, 0.023352961987257004, 0.027535513043403625, 0.02074119821190834, 0.04944239556789398, 0.039645493030548096, 0.011580482125282288, 0.03849604353308678, 0.012212728150188923, 0.012634873390197754, 0.018897850066423416, 0.011502721346914768, 0.014417950063943863, 0.012855141423642635, 0.01591630093753338, 0.00928434543311596, 0.011929101310670376, 0.014574798755347729, 0.029562370851635933, 0.030921466648578644, 0.049348846077919006, 0.02683301642537117, 0.03316975012421608, 0.026513930410146713, 0.03841783478856087, 0.03666592761874199, 0.03740684315562248, 0.03744916990399361, 0.041813697665929794, 0.04080502316355705, 0.027000801637768745, 0.0, 0.0, 0.0, 0.0], [0.13580849766731262, 0.021598199382424355, 0.028431471437215805, 0.021366801112890244, 0.03184177726507187, 0.028310764580965042, 0.011232448741793633, 0.01613933965563774, 0.02343674562871456, 0.02514427714049816, 0.012804531492292881, 0.012000505812466145, 0.02091227099299431, 0.025003304705023766, 0.027692243456840515, 0.017305919900536537, 0.012859748676419258, 0.016066303476691246, 0.032790035009384155, 0.038290273398160934, 0.06080476567149162, 0.03674997761845589, 0.0352473221719265, 0.03857801482081413, 0.03904816508293152, 0.03664339706301689, 0.01453043520450592, 0.02163226157426834, 0.010490999557077885, 0.06733931601047516, 0.03867284953594208, 0.041227102279663086, 0.0, 0.0, 0.0], [0.13088136911392212, 0.02374432422220707, 0.020114345476031303, 0.00970239844173193, 0.026952236890792847, 0.013591096736490726, 0.009517531841993332, 0.013271708972752094, 0.0276179276406765, 0.01149838138371706, 0.008886141702532768, 0.016865817829966545, 0.00997198186814785, 0.031318604946136475, 0.014953821897506714, 0.015636593103408813, 0.01875588484108448, 0.008822465315461159, 0.024258315563201904, 0.01859988085925579, 0.06659714877605438, 0.0239353459328413, 0.030215006321668625, 0.03847970440983772, 0.060547880828380585, 0.03886096552014351, 0.021039560437202454, 0.026919960975646973, 0.030786719173192978, 0.06339395046234131, 0.05302290618419647, 0.07499754428863525, 0.016242533922195435, 0.0, 0.0], [0.21679528057575226, 0.03523937612771988, 0.01448058057576418, 0.03231681138277054, 0.021502694115042686, 0.019766855984926224, 0.007716964464634657, 0.031425777822732925, 0.011421254836022854, 0.03985080122947693, 0.005697546061128378, 0.013826759532094002, 0.011217729188501835, 0.011028866283595562, 0.0143423518165946, 0.01669158972799778, 0.013800651766359806, 0.00905416626483202, 0.016551576554775238, 0.04516449198126793, 0.016743391752243042, 0.04049498215317726, 0.046006590127944946, 0.039180245250463486, 0.020771801471710205, 0.042418353259563446, 0.029444053769111633, 0.01654653064906597, 0.043390434235334396, 0.01802881620824337, 0.017493009567260742, 0.03195445239543915, 0.02317998930811882, 0.026455210521817207, 0.0], [0.12406578660011292, 0.05575519800186157, 0.025793135166168213, 0.007745689712464809, 0.019214734435081482, 0.011872386559844017, 0.009303722530603409, 0.01584261655807495, 0.012728420086205006, 0.01288826297968626, 0.013962899334728718, 0.01662725955247879, 0.01550710666924715, 0.013195226900279522, 0.017325107008218765, 0.021147968247532845, 0.017335498705506325, 0.015824301168322563, 0.024794382974505424, 0.011903036385774612, 0.03651023656129837, 0.023874737322330475, 0.04022135213017464, 0.06286036223173141, 0.10149352252483368, 0.05332261323928833, 0.021689610555768013, 0.01824428327381611, 0.008406988345086575, 0.02320230007171631, 0.04960417374968529, 0.020869309082627296, 0.016017956659197807, 0.011101935990154743, 0.04974796622991562]], [[1.0, 0.0, 0.0, 0.0, 0.0, 0.0, 0.0, 0.0, 0.0, 0.0, 0.0, 0.0, 0.0, 0.0, 0.0, 0.0, 0.0, 0.0, 0.0, 0.0, 0.0, 0.0, 0.0, 0.0, 0.0, 0.0, 0.0, 0.0, 0.0, 0.0, 0.0, 0.0, 0.0, 0.0, 0.0], [0.10778012126684189, 0.8922198414802551, 0.0, 0.0, 0.0, 0.0, 0.0, 0.0, 0.0, 0.0, 0.0, 0.0, 0.0, 0.0, 0.0, 0.0, 0.0, 0.0, 0.0, 0.0, 0.0, 0.0, 0.0, 0.0, 0.0, 0.0, 0.0, 0.0, 0.0, 0.0, 0.0, 0.0, 0.0, 0.0, 0.0], [0.011847443878650665, 0.5536142587661743, 0.4345382750034332, 0.0, 0.0, 0.0, 0.0, 0.0, 0.0, 0.0, 0.0, 0.0, 0.0, 0.0, 0.0, 0.0, 0.0, 0.0, 0.0, 0.0, 0.0, 0.0, 0.0, 0.0, 0.0, 0.0, 0.0, 0.0, 0.0, 0.0, 0.0, 0.0, 0.0, 0.0, 0.0], [0.06322271376848221, 0.021719155833125114, 0.09427293390035629, 0.8207851648330688, 0.0, 0.0, 0.0, 0.0, 0.0, 0.0, 0.0, 0.0, 0.0, 0.0, 0.0, 0.0, 0.0, 0.0, 0.0, 0.0, 0.0, 0.0, 0.0, 0.0, 0.0, 0.0, 0.0, 0.0, 0.0, 0.0, 0.0, 0.0, 0.0, 0.0, 0.0], [0.005095744971185923, 0.0005348753184080124, 0.0010105489054694772, 0.004657563753426075, 0.9887012243270874, 0.0, 0.0, 0.0, 0.0, 0.0, 0.0, 0.0, 0.0, 0.0, 0.0, 0.0, 0.0, 0.0, 0.0, 0.0, 0.0, 0.0, 0.0, 0.0, 0.0, 0.0, 0.0, 0.0, 0.0, 0.0, 0.0, 0.0, 0.0, 0.0, 0.0], [0.005585954990237951, 0.00030240067280828953, 0.0007955079199746251, 0.000678032694850117, 0.028760142624378204, 0.9638778567314148, 0.0, 0.0, 0.0, 0.0, 0.0, 0.0, 0.0, 0.0, 0.0, 0.0, 0.0, 0.0, 0.0, 0.0, 0.0, 0.0, 0.0, 0.0, 0.0, 0.0, 0.0, 0.0, 0.0, 0.0, 0.0, 0.0, 0.0, 0.0, 0.0], [0.00026657324633561075, 0.00015396179514937103, 4.344207627582364e-05, 0.0003163387009408325, 0.007582382299005985, 0.008635696955025196, 0.9830015897750854, 0.0, 0.0, 0.0, 0.0, 0.0, 0.0, 0.0, 0.0, 0.0, 0.0, 0.0, 0.0, 0.0, 0.0, 0.0, 0.0, 0.0, 0.0, 0.0, 0.0, 0.0, 0.0, 0.0, 0.0, 0.0, 0.0, 0.0, 0.0], [0.0006940618040971458, 4.8331738071283326e-05, 4.51133782917168e-05, 2.3520820832345635e-05, 0.002237766282632947, 0.0012080527376383543, 0.009321355260908604, 0.9864218235015869, 0.0, 0.0, 0.0, 0.0, 0.0, 0.0, 0.0, 0.0, 0.0, 0.0, 0.0, 0.0, 0.0, 0.0, 0.0, 0.0, 0.0, 0.0, 0.0, 0.0, 0.0, 0.0, 0.0, 0.0, 0.0, 0.0, 0.0], [0.04771989956498146, 0.0063469139859080315, 0.005507612135261297, 0.012776719406247139, 0.012552594766020775, 0.012200523167848587, 0.007760606240481138, 0.01711486466228962, 0.878020167350769, 0.0, 0.0, 0.0, 0.0, 0.0, 0.0, 0.0, 0.0, 0.0, 0.0, 0.0, 0.0, 0.0, 0.0, 0.0, 0.0, 0.0, 0.0, 0.0, 0.0, 0.0, 0.0, 0.0, 0.0, 0.0, 0.0], [9.403799049323425e-05, 7.29912756014528e-07, 1.2948548828717321e-06, 1.0040552069767728e-06, 1.5192443242995068e-05, 3.6095214454689994e-05, 3.151449709548615e-05, 0.001080826623365283, 4.23684214183595e-05, 0.9986969828605652, 0.0, 0.0, 0.0, 0.0, 0.0, 0.0, 0.0, 0.0, 0.0, 0.0, 0.0, 0.0, 0.0, 0.0, 0.0, 0.0, 0.0, 0.0, 0.0, 0.0, 0.0, 0.0, 0.0, 0.0, 0.0], [0.0002984425227623433, 1.0225190635537729e-05, 2.0773826690856367e-05, 1.0716745237004943e-05, 7.453837315551937e-05, 0.00016580551164224744, 0.001366860931739211, 0.0025834848638623953, 5.024061829317361e-05, 0.32439517974853516, 0.6710236668586731, 0.0, 0.0, 0.0, 0.0, 0.0, 0.0, 0.0, 0.0, 0.0, 0.0, 0.0, 0.0, 0.0, 0.0, 0.0, 0.0, 0.0, 0.0, 0.0, 0.0, 0.0, 0.0, 0.0, 0.0], [0.00923368614166975, 0.0007820427417755127, 0.0006810438353568316, 0.001820787088945508, 0.004383389372378588, 0.01750914938747883, 0.003324249293655157, 0.017607431858778, 0.0809965655207634, 0.10943040996789932, 0.01429188996553421, 0.7399393916130066, 0.0, 0.0, 0.0, 0.0, 0.0, 0.0, 0.0, 0.0, 0.0, 0.0, 0.0, 0.0, 0.0, 0.0, 0.0, 0.0, 0.0, 0.0, 0.0, 0.0, 0.0, 0.0, 0.0], [0.0002393030736129731, 3.3237915886275005e-06, 2.2832771719549783e-05, 1.024476659949869e-05, 1.0253623258904554e-05, 4.496401015785523e-05, 2.357668745389674e-05, 6.21662475168705e-05, 0.0003292954061180353, 0.00874954555183649, 0.001878871233202517, 0.0014183471212163568, 0.9872072339057922, 0.0, 0.0, 0.0, 0.0, 0.0, 0.0, 0.0, 0.0, 0.0, 0.0, 0.0, 0.0, 0.0, 0.0, 0.0, 0.0, 0.0, 0.0, 0.0, 0.0, 0.0, 0.0], [0.012295344844460487, 0.0005298621254041791, 0.00035605113953351974, 0.0006006722105666995, 0.0005327535909600556, 0.000534971128217876, 0.0003473353572189808, 0.0008671170216985047, 0.03432309255003929, 0.013273634947836399, 0.007531193550676107, 0.059418000280857086, 0.09377514570951462, 0.775614857673645, 0.0, 0.0, 0.0, 0.0, 0.0, 0.0, 0.0, 0.0, 0.0, 0.0, 0.0, 0.0, 0.0, 0.0, 0.0, 0.0, 0.0, 0.0, 0.0, 0.0, 0.0], [7.850902329664677e-05, 1.1863369763887022e-05, 5.970547135802917e-06, 4.359472768555861e-06, 6.9330599217209965e-06, 5.5673302995273843e-05, 8.762052857491653e-06, 2.213006700912956e-05, 0.000222383372602053, 0.0002802508242893964, 0.0008127280743792653, 0.0015677311457693577, 0.00018956445273943245, 0.005879421252757311, 0.9908536672592163, 0.0, 0.0, 0.0, 0.0, 0.0, 0.0, 0.0, 0.0, 0.0, 0.0, 0.0, 0.0, 0.0, 0.0, 0.0, 0.0, 0.0, 0.0, 0.0, 0.0], [9.475000115344301e-05, 8.603436072007753e-06, 3.744844889297383e-06, 1.4634181866313156e-07, 2.7017360935133183e-06, 1.1417337191232946e-05, 8.62081469676923e-06, 9.928087092703208e-05, 3.119507937299204e-06, 0.00022620789241045713, 0.0005323343793861568, 2.980485987791326e-05, 0.0013675629161298275, 5.107997276354581e-05, 0.009570803493261337, 0.9879898428916931, 0.0, 0.0, 0.0, 0.0, 0.0, 0.0, 0.0, 0.0, 0.0, 0.0, 0.0, 0.0, 0.0, 0.0, 0.0, 0.0, 0.0, 0.0, 0.0], [0.003944715950638056, 0.00013029162073507905, 9.947718353942037e-05, 0.0001977636420633644, 0.00042658529127947986, 0.0014889856101945043, 0.0002834684564732015, 0.0015356746735051274, 0.004810095299035311, 0.005567725747823715, 0.0010473609436303377, 0.04082658141851425, 0.009189034812152386, 0.09278518706560135, 0.015853021293878555, 0.02794092334806919, 0.7938731908798218, 0.0, 0.0, 0.0, 0.0, 0.0, 0.0, 0.0, 0.0, 0.0, 0.0, 0.0, 0.0, 0.0, 0.0, 0.0, 0.0, 0.0, 0.0], [0.00021723586542066187, 2.3531161787104793e-05, 7.806292160239536e-06, 4.732963134301826e-06, 1.5671208757339627e-06, 8.667402653372847e-06, 1.2646235518332105e-05, 6.129277608124539e-05, 0.0001886945974547416, 0.0005901294643990695, 0.0004205666482448578, 0.0009746520081534982, 0.00042177707655355334, 0.004066712222993374, 0.0014422428794205189, 0.011960024014115334, 0.022401930764317513, 0.9571957588195801, 0.0, 0.0, 0.0, 0.0, 0.0, 0.0, 0.0, 0.0, 0.0, 0.0, 0.0, 0.0, 0.0, 0.0, 0.0, 0.0, 0.0], [0.000736044836230576, 3.016815071532619e-06, 1.3554708857554942e-06, 1.401470285600226e-06, 3.387705146451481e-05, 3.752294651349075e-05, 1.0748700333351735e-05, 0.0004302706220187247, 1.6196761862374842e-05, 0.0006748261512257159, 0.0005265921936370432, 0.00012409152986947447, 4.7107158025028184e-05, 0.0002413818147033453, 0.000688658154103905, 0.0003870207292493433, 0.0021441534627228975, 0.0017651679227128625, 0.99213045835495, 0.0, 0.0, 0.0, 0.0, 0.0, 0.0, 0.0, 0.0, 0.0, 0.0, 0.0, 0.0, 0.0, 0.0, 0.0, 0.0], [6.52981543680653e-06, 4.013174681460896e-09, 4.275890752580835e-09, 9.052372185180957e-09, 5.135176479598158e-07, 3.7317561236704933e-06, 1.4824270522240113e-07, 4.655122666008538e-06, 1.663049964406582e-08, 3.0296835120680043e-06, 3.1919844332151115e-05, 1.4017466298810177e-07, 4.954933956469176e-07, 2.3671027804539335e-07, 7.952947953526746e-07, 0.00018607293895911425, 2.4466733066219604e-06, 1.1982299838564359e-05, 0.0005082339630462229, 0.9992390871047974, 0.0, 0.0, 0.0, 0.0, 0.0, 0.0, 0.0, 0.0, 0.0, 0.0, 0.0, 0.0, 0.0, 0.0, 0.0], [0.009417880326509476, 0.00017362395010422915, 0.00019593207980506122, 0.00010542471136432141, 0.00012100081949029118, 0.00013750328798778355, 0.000208223209483549, 0.0002620878512971103, 0.000980379176326096, 0.00017425180703867227, 0.001331391860730946, 0.0032773090060800314, 0.004840618930757046, 0.012378793209791183, 0.001825898652896285, 0.024282030761241913, 0.05479960888624191, 0.07428482174873352, 0.07759273797273636, 0.10845333337783813, 0.6251571774482727, 0.0, 0.0, 0.0, 0.0, 0.0, 0.0, 0.0, 0.0, 0.0, 0.0, 0.0, 0.0, 0.0, 0.0], [0.00017886343994177878, 2.971782123495359e-06, 1.2879215773864416e-06, 1.6619707139398088e-06, 3.153397074129316e-06, 7.608552550664172e-06, 4.4805710786022246e-07, 4.628854185284581e-06, 4.4620751395996194e-06, 4.6408199523284566e-06, 4.678123787016375e-06, 2.2255211661104113e-05, 0.0006885051843710244, 5.880861135665327e-05, 5.511296694749035e-05, 0.0013147704303264618, 0.0004210410115774721, 0.0005279290489852428, 0.0003059156588278711, 0.001136303530074656, 0.004935143049806356, 0.9903197884559631, 0.0, 0.0, 0.0, 0.0, 0.0, 0.0, 0.0, 0.0, 0.0, 0.0, 0.0, 0.0, 0.0], [0.0009000805439427495, 3.460904918028973e-05, 6.00008161200094e-06, 1.331791395386972e-06, 8.382406122109387e-06, 7.950166036607698e-06, 8.352948270839988e-07, 5.017445801058784e-06, 1.1085541700595059e-05, 1.550613706058357e-05, 2.2449670723290183e-05, 3.2394586014561355e-05, 7.153368642320856e-05, 0.00011106140300398692, 6.552063496201299e-06, 3.557849413482472e-05, 0.00046084183850325644, 0.0006021015578880906, 0.007735576946288347, 0.004731383174657822, 0.012920119799673557, 0.016999104991555214, 0.9552805423736572, 0.0, 0.0, 0.0, 0.0, 0.0, 0.0, 0.0, 0.0, 0.0, 0.0, 0.0, 0.0], [8.094504300970584e-05, 5.4195235861698166e-05, 2.1191000996623188e-05, 8.660331900500751e-07, 5.241390681476332e-06, 2.81140137303737e-06, 9.647653769206954e-07, 4.259619345248211e-06, 6.819939244451234e-06, 2.6370100840722444e-06, 1.0387330803496297e-05, 3.117779124295339e-05, 2.5747020117705688e-05, 8.829349098959938e-05, 0.00010530044528422877, 0.000374447088688612, 0.0005833778996020555, 0.0009019335266202688, 0.00043120095506310463, 0.004991119261831045, 0.0035159264225512743, 0.015127472579479218, 0.018385007977485657, 0.9552486538887024, 0.0, 0.0, 0.0, 0.0, 0.0, 0.0, 0.0, 0.0, 0.0, 0.0, 0.0], [0.00019926753884647042, 5.897874757465615e-07, 4.093083418865717e-07, 5.283650352794211e-07, 4.0437390680381213e-07, 6.811440016463166e-07, 2.501958533684956e-07, 3.190987740708806e-07, 5.0180051403003745e-06, 3.059933305848972e-06, 4.776871264766669e-06, 8.106242603389546e-06, 1.7871061572805047e-05, 5.904932913836092e-05, 7.019503300398355e-06, 5.101952046970837e-05, 0.00015419672126881778, 0.00015557766892015934, 0.0004630949115380645, 0.00018736741913016886, 0.0029354512225836515, 0.006998692639172077, 0.004895060323178768, 0.010302486829459667, 0.9735496640205383, 0.0, 0.0, 0.0, 0.0, 0.0, 0.0, 0.0, 0.0, 0.0, 0.0], [4.0418879507342353e-05, 7.668172763430903e-09, 6.183969958328817e-08, 4.109947226993427e-08, 3.161339350299386e-07, 1.000401113060434e-07, 6.658505213863464e-08, 4.780262656822742e-07, 4.035145551029018e-08, 6.753223260602681e-06, 8.574266985306167e-08, 1.0514232684499802e-07, 3.270276693001506e-06, 4.896537006970902e-07, 1.2450341273506638e-06, 9.069827683561016e-06, 2.0693071292043896e-06, 8.541686838725582e-06, 4.513616659096442e-05, 8.528179751010612e-05, 8.476246148347855e-05, 0.001026790589094162, 0.0013347755884751678, 0.00029600696871057153, 0.005626782309263945, 0.9914274215698242, 0.0, 0.0, 0.0, 0.0, 0.0, 0.0, 0.0, 0.0, 0.0], [0.0003747456066776067, 1.2430081142156268e-07, 2.5229135758308985e-07, 3.0524404337484157e-07, 4.772516149387229e-06, 6.075436544961121e-07, 8.501713182340609e-07, 1.1030826499336399e-05, 8.098967185787842e-08, 9.651284926803783e-07, 7.193352189460711e-07, 3.2339289646188263e-07, 1.760539589668042e-06, 4.446817740699771e-07, 3.2987568943099177e-07, 2.4300254153786227e-05, 3.6642647955886787e-06, 3.0616429285146296e-06, 2.627128196763806e-05, 0.00034267103183083236, 2.0788162146345712e-05, 0.00013409748498816043, 0.0003047241480089724, 9.803599095903337e-05, 0.0004919680068269372, 0.0042370641604065895, 0.9939160943031311, 0.0, 0.0, 0.0, 0.0, 0.0, 0.0, 0.0, 0.0], [0.00023197566042654216, 7.363608460764226e-07, 1.0658038718247553e-06, 4.7497891841885576e-07, 2.187780410167761e-06, 2.0741636035381816e-06, 1.3842064561231382e-07, 2.51064307121851e-06, 1.971591530036676e-07, 6.671987193840323e-06, 8.991794402390951e-07, 6.362178623930959e-07, 6.544796065099945e-07, 7.717966923337372e-07, 4.801884188054828e-07, 1.1122285286546685e-05, 5.561898888117867e-06, 3.8627467802143656e-06, 6.753690831828862e-05, 0.0002897948434110731, 4.372486364445649e-05, 0.00015208996774163097, 0.0009337712544947863, 0.00018159403407480568, 8.423287363257259e-05, 0.009933840483427048, 0.008723154664039612, 0.9793182611465454, 0.0, 0.0, 0.0, 0.0, 0.0, 0.0, 0.0], [0.0001570491585880518, 3.123183489606163e-07, 2.931940059625049e-07, 3.137160149435658e-07, 2.1960966023470974e-06, 1.416438635715167e-06, 1.1236380714763072e-06, 1.3091786286167917e-06, 5.921515011664269e-08, 7.978097755767521e-07, 2.8036795356456423e-06, 1.9766959269418294e-07, 3.9940181295605726e-07, 2.3049037167766073e-07, 2.2642550447926624e-06, 1.6729492926970124e-05, 1.6667618183419108e-06, 2.8725464744638884e-06, 2.4946944904513657e-05, 0.000255328108323738, 4.849699962505838e-06, 4.708065534941852e-05, 5.325675374479033e-05, 4.240341513650492e-05, 0.00020874878100585192, 0.002043810673058033, 0.08346723020076752, 0.003673009807243943, 0.9099873304367065, 0.0, 0.0, 0.0, 0.0, 0.0, 0.0], [0.0010030783014371991, 7.6059291131969076e-06, 5.4789093155704904e-06, 4.704091224994045e-06, 1.081826439985889e-06, 7.246848667818995e-07, 6.057221639821364e-07, 1.5847876966290642e-06, 3.183100852766074e-05, 1.8444867464495474e-06, 1.3723829397349618e-06, 6.841019057901576e-06, 4.996126335754525e-06, 0.00014220490993466228, 2.102600319631165e-06, 2.04611751541961e-05, 6.875471444800496e-05, 8.339442138094455e-05, 7.060839561745524e-05, 0.0002227009244961664, 0.001345352386124432, 0.001195314689539373, 0.0007637708331458271, 0.0034127680119127035, 0.00959512498229742, 0.008245964534580708, 0.004028412513434887, 0.015673451125621796, 0.03710909187793732, 0.916948676109314, 0.0, 0.0, 0.0, 0.0, 0.0], [0.0001459806226193905, 1.3442419799503114e-07, 3.0679700557811884e-07, 1.270083913595954e-07, 9.539670031699643e-08, 4.421364252493731e-08, 7.270958946037354e-09, 2.163062333693233e-07, 1.7861789558537566e-07, 1.1440945968388405e-07, 4.54669439875488e-08, 1.1406693545268354e-07, 1.7846329569692898e-07, 8.568713383283466e-07, 1.0497500113615388e-07, 1.2474921504690428e-06, 1.1682658396239276e-06, 6.485001904366072e-07, 9.92305558611406e-06, 2.663562190718949e-05, 2.148103158106096e-05, 7.192359043983743e-05, 0.00015873332449700683, 0.00014563243894372135, 0.0024261672515422106, 0.0015144952340051532, 0.0007063164957799017, 0.0022442839108407497, 0.004566818010061979, 0.009832347743213177, 0.9781236052513123, 0.0, 0.0, 0.0, 0.0], [1.069877362169791e-05, 5.128429236833654e-08, 7.382515576637161e-08, 9.797533095934341e-08, 4.944892566527415e-07, 6.269718824114534e-07, 2.625736783556931e-07, 7.361947496065113e-07, 2.5101209644162736e-07, 2.1764876692031976e-06, 5.363761488297314e-07, 8.606898518337402e-07, 2.15158095784318e-07, 1.0358818371969392e-06, 2.489511530257005e-07, 1.3481056157615967e-05, 8.521098607161548e-06, 5.148516265762737e-06, 4.645090939447982e-06, 1.6832656910992227e-05, 5.864661216037348e-05, 3.652455416158773e-05, 0.00016485711967106909, 1.194501146528637e-05, 0.0005173986428417265, 0.0024279106874018908, 0.00034773541847243905, 0.001596406102180481, 0.009022925980389118, 0.0131637342274189, 0.06333828717470169, 0.9092466831207275, 0.0, 0.0, 0.0], [0.0012287321733310819, 8.407656423514709e-06, 8.363975211977959e-06, 8.19903380033793e-06, 3.972181275457842e-06, 3.987267973570852e-06, 1.5942524669299019e-06, 4.764995082950918e-06, 4.461918251763564e-06, 8.699215868546162e-06, 3.4823069654521532e-06, 4.087221896043047e-06, 4.383184659673134e-06, 1.2878707821073476e-05, 2.7650016818370204e-06, 1.1550830095075071e-05, 2.8508398827398196e-05, 1.9726165191968903e-05, 8.007961150724441e-05, 0.00016381593013647944, 0.0002766102843452245, 0.00048299788613803685, 0.0005903011769987643, 0.0011750635458156466, 0.00346670881845057, 0.0058027273043990135, 0.011907554231584072, 0.016952985897660255, 0.028466522693634033, 0.06137574464082718, 0.11517597734928131, 0.2017773538827896, 0.5509369373321533, 0.0, 0.0], [3.782525163842365e-05, 6.459637091893455e-08, 1.9273652895890336e-08, 7.975827287509674e-08, 6.700336143694585e-07, 1.2464334986361791e-07, 3.072176468776888e-08, 3.367148906363582e-07, 9.954023028058145e-08, 4.5415237082124804e-07, 3.406029236430186e-08, 1.7256151352285087e-07, 3.359024844939995e-07, 3.2563400509388885e-07, 1.1636626773281478e-08, 3.204215317964554e-06, 1.2533512290247018e-06, 1.7663053313299315e-06, 1.1125970559078269e-05, 2.0410310753504746e-05, 8.103453183139209e-06, 1.2881083421234507e-05, 0.00014193217793945223, 1.1411126251914538e-05, 0.00010671326162992045, 0.00010951134754577652, 0.0017927114386111498, 0.0015404954319819808, 0.001246521482244134, 0.0015975878341123462, 0.0008927044691517949, 0.009557034820318222, 0.009279945865273476, 0.9736241102218628, 0.0], [0.0003539699537213892, 2.6440397959959228e-06, 1.7576170421307324e-06, 1.234809019479144e-06, 5.949696969764773e-06, 1.3091868140691076e-06, 3.362112579452514e-07, 2.485052732481563e-07, 6.705453188260435e-07, 6.699517740571537e-08, 6.061934527679114e-07, 4.6190581315386225e-07, 2.3573320504510775e-06, 1.4622218031945522e-06, 2.976372286411788e-07, 1.6005789120754343e-06, 2.4609016691101715e-06, 1.9317201349622337e-06, 3.2001476938603446e-05, 2.465199213474989e-05, 3.429644129937515e-05, 0.00016550840518902987, 7.883973739808425e-05, 0.0001838713069446385, 0.0011651519453153014, 0.00012255362526047975, 0.0011725189397111535, 0.0004984783008694649, 0.003501483239233494, 0.0034007455687969923, 0.011839514598250389, 0.005179095547646284, 0.01671386882662773, 0.02912766858935356, 0.9263803958892822]], [[1.0, 0.0, 0.0, 0.0, 0.0, 0.0, 0.0, 0.0, 0.0, 0.0, 0.0, 0.0, 0.0, 0.0, 0.0, 0.0, 0.0, 0.0, 0.0, 0.0, 0.0, 0.0, 0.0, 0.0, 0.0, 0.0, 0.0, 0.0, 0.0, 0.0, 0.0, 0.0, 0.0, 0.0, 0.0], [0.9238102436065674, 0.0761898010969162, 0.0, 0.0, 0.0, 0.0, 0.0, 0.0, 0.0, 0.0, 0.0, 0.0, 0.0, 0.0, 0.0, 0.0, 0.0, 0.0, 0.0, 0.0, 0.0, 0.0, 0.0, 0.0, 0.0, 0.0, 0.0, 0.0, 0.0, 0.0, 0.0, 0.0, 0.0, 0.0, 0.0], [0.3758924901485443, 0.10050591826438904, 0.5236015319824219, 0.0, 0.0, 0.0, 0.0, 0.0, 0.0, 0.0, 0.0, 0.0, 0.0, 0.0, 0.0, 0.0, 0.0, 0.0, 0.0, 0.0, 0.0, 0.0, 0.0, 0.0, 0.0, 0.0, 0.0, 0.0, 0.0, 0.0, 0.0, 0.0, 0.0, 0.0, 0.0], [0.41213729977607727, 0.08231589198112488, 0.1808476746082306, 0.3246992230415344, 0.0, 0.0, 0.0, 0.0, 0.0, 0.0, 0.0, 0.0, 0.0, 0.0, 0.0, 0.0, 0.0, 0.0, 0.0, 0.0, 0.0, 0.0, 0.0, 0.0, 0.0, 0.0, 0.0, 0.0, 0.0, 0.0, 0.0, 0.0, 0.0, 0.0, 0.0], [0.14052283763885498, 0.005812315735965967, 0.028276391327381134, 0.05733034759759903, 0.7680581212043762, 0.0, 0.0, 0.0, 0.0, 0.0, 0.0, 0.0, 0.0, 0.0, 0.0, 0.0, 0.0, 0.0, 0.0, 0.0, 0.0, 0.0, 0.0, 0.0, 0.0, 0.0, 0.0, 0.0, 0.0, 0.0, 0.0, 0.0, 0.0, 0.0, 0.0], [0.019230710342526436, 0.0014746824745088816, 0.0016810825327411294, 0.00490584596991539, 0.025906596332788467, 0.9468010663986206, 0.0, 0.0, 0.0, 0.0, 0.0, 0.0, 0.0, 0.0, 0.0, 0.0, 0.0, 0.0, 0.0, 0.0, 0.0, 0.0, 0.0, 0.0, 0.0, 0.0, 0.0, 0.0, 0.0, 0.0, 0.0, 0.0, 0.0, 0.0, 0.0], [0.006040879059582949, 0.00465822359547019, 0.012865055352449417, 0.008953888900578022, 0.07021678984165192, 0.12025342136621475, 0.7770117521286011, 0.0, 0.0, 0.0, 0.0, 0.0, 0.0, 0.0, 0.0, 0.0, 0.0, 0.0, 0.0, 0.0, 0.0, 0.0, 0.0, 0.0, 0.0, 0.0, 0.0, 0.0, 0.0, 0.0, 0.0, 0.0, 0.0, 0.0, 0.0], [0.016248267143964767, 0.003929380793124437, 0.012836656533181667, 0.0050996290519833565, 0.017354188486933708, 0.015599343925714493, 0.13602769374847412, 0.7929048538208008, 0.0, 0.0, 0.0, 0.0, 0.0, 0.0, 0.0, 0.0, 0.0, 0.0, 0.0, 0.0, 0.0, 0.0, 0.0, 0.0, 0.0, 0.0, 0.0, 0.0, 0.0, 0.0, 0.0, 0.0, 0.0, 0.0, 0.0], [0.13423295319080353, 0.07014798372983932, 0.03862924128770828, 0.035926904529333115, 0.05720484256744385, 0.06419351696968079, 0.03908982872962952, 0.21457341313362122, 0.3460012674331665, 0.0, 0.0, 0.0, 0.0, 0.0, 0.0, 0.0, 0.0, 0.0, 0.0, 0.0, 0.0, 0.0, 0.0, 0.0, 0.0, 0.0, 0.0, 0.0, 0.0, 0.0, 0.0, 0.0, 0.0, 0.0, 0.0], [0.0035958783701062202, 0.00038495013723149896, 0.0004921662621200085, 0.0008088782778941095, 0.0025900956243276596, 0.0024076506961137056, 0.00017131817003246397, 0.011153002269566059, 0.0021147800143808126, 0.9762812852859497, 0.0, 0.0, 0.0, 0.0, 0.0, 0.0, 0.0, 0.0, 0.0, 0.0, 0.0, 0.0, 0.0, 0.0, 0.0, 0.0, 0.0, 0.0, 0.0, 0.0, 0.0, 0.0, 0.0, 0.0, 0.0], [0.0002283453504787758, 4.666254244511947e-05, 8.206481288652867e-05, 7.730678044026718e-05, 0.0001203426145366393, 0.004319252911955118, 0.0038442269433289766, 0.0011965010780841112, 0.000164469558512792, 0.853056013584137, 0.1368648111820221, 0.0, 0.0, 0.0, 0.0, 0.0, 0.0, 0.0, 0.0, 0.0, 0.0, 0.0, 0.0, 0.0, 0.0, 0.0, 0.0, 0.0, 0.0, 0.0, 0.0, 0.0, 0.0, 0.0, 0.0], [0.06578907370567322, 0.019290775060653687, 0.020492715761065483, 0.0219567958265543, 0.02668670006096363, 0.08618344366550446, 0.031040910631418228, 0.16103021800518036, 0.03016255795955658, 0.21323661506175995, 0.07554485648870468, 0.24858537316322327, 0.0, 0.0, 0.0, 0.0, 0.0, 0.0, 0.0, 0.0, 0.0, 0.0, 0.0, 0.0, 0.0, 0.0, 0.0, 0.0, 0.0, 0.0, 0.0, 0.0, 0.0, 0.0, 0.0], [0.0091233616694808, 0.003399315755814314, 0.01681826263666153, 0.004648813512176275, 0.014602279290556908, 0.058332543820142746, 0.07909012585878372, 0.0176636204123497, 0.016087280586361885, 0.1505356729030609, 0.3343389332294464, 0.054388973861932755, 0.24097083508968353, 0.0, 0.0, 0.0, 0.0, 0.0, 0.0, 0.0, 0.0, 0.0, 0.0, 0.0, 0.0, 0.0, 0.0, 0.0, 0.0, 0.0, 0.0, 0.0, 0.0, 0.0, 0.0], [0.04253436252474785, 0.016550587490200996, 0.007813417352735996, 0.0068334718234837055, 0.00965096801519394, 0.009173322468996048, 0.005910306237637997, 0.030093073844909668, 0.05324166640639305, 0.03575891628861427, 0.11968675255775452, 0.07133749127388, 0.2969221770763397, 0.2944934666156769, 0.0, 0.0, 0.0, 0.0, 0.0, 0.0, 0.0, 0.0, 0.0, 0.0, 0.0, 0.0, 0.0, 0.0, 0.0, 0.0, 0.0, 0.0, 0.0, 0.0, 0.0], [0.01015804149210453, 0.004377418663352728, 0.006503189913928509, 0.0035466866102069616, 0.006157051771879196, 0.005149821285158396, 0.0041582477279007435, 0.014994025230407715, 0.017724107950925827, 0.008609655313193798, 0.01355727482587099, 0.027689829468727112, 0.027776136994361877, 0.08518616110086441, 0.7644124031066895, 0.0, 0.0, 0.0, 0.0, 0.0, 0.0, 0.0, 0.0, 0.0, 0.0, 0.0, 0.0, 0.0, 0.0, 0.0, 0.0, 0.0, 0.0, 0.0, 0.0], [0.0005760938511230052, 3.7584886740660295e-05, 3.10057403112296e-05, 2.8090940759284422e-05, 0.00011757229367503896, 0.0010626487201079726, 0.0008489791071042418, 0.0023644287139177322, 0.0003171181015204638, 0.0005040702526457608, 0.0005438972148112953, 0.0009964655619114637, 0.004787208046764135, 0.00165821542032063, 0.021181121468544006, 0.9649454951286316, 0.0, 0.0, 0.0, 0.0, 0.0, 0.0, 0.0, 0.0, 0.0, 0.0, 0.0, 0.0, 0.0, 0.0, 0.0, 0.0, 0.0, 0.0, 0.0], [0.057101137936115265, 0.012982726097106934, 0.012463350780308247, 0.012371199205517769, 0.013064764440059662, 0.03530251234769821, 0.013208815827965736, 0.06362833827733994, 0.010588892735540867, 0.061131950467824936, 0.02735721506178379, 0.08200790733098984, 0.039974603801965714, 0.04302835091948509, 0.06893415749073029, 0.0673389881849289, 0.3795150816440582, 0.0, 0.0, 0.0, 0.0, 0.0, 0.0, 0.0, 0.0, 0.0, 0.0, 0.0, 0.0, 0.0, 0.0, 0.0, 0.0, 0.0, 0.0], [0.0503818579018116, 0.010253236629068851, 0.009017395786941051, 0.007853329181671143, 0.008382102474570274, 0.01603054441511631, 0.007579756900668144, 0.01656814105808735, 0.009558070451021194, 0.020098412409424782, 0.028027677908539772, 0.03172842040657997, 0.021793963387608528, 0.03942329064011574, 0.11988717317581177, 0.047830864787101746, 0.14773684740066528, 0.40784892439842224, 0.0, 0.0, 0.0, 0.0, 0.0, 0.0, 0.0, 0.0, 0.0, 0.0, 0.0, 0.0, 0.0, 0.0, 0.0, 0.0, 0.0], [0.009583797305822372, 0.0005122206057421863, 0.0006106935325078666, 0.0009717889479361475, 0.0022611042950302362, 0.004041263833642006, 0.0003397605032660067, 0.0023014824837446213, 0.0014669817173853517, 0.004360878840088844, 0.010039577260613441, 0.0038837911561131477, 0.001906537334434688, 0.004968363791704178, 0.0035998790990561247, 0.0027956590056419373, 0.01562880538403988, 0.014497022144496441, 0.9162304401397705, 0.0, 0.0, 0.0, 0.0, 0.0, 0.0, 0.0, 0.0, 0.0, 0.0, 0.0, 0.0, 0.0, 0.0, 0.0, 0.0], [0.033775802701711655, 0.0008472937624901533, 0.0009361565462313592, 0.0006967575172893703, 0.004600139334797859, 0.0032576005905866623, 0.000421836506575346, 0.007556702475994825, 0.0010570586891844869, 0.003643791424110532, 0.00017823871166910976, 0.002045620931312442, 0.0014812112785875797, 0.002918045502156019, 0.005684820003807545, 0.06616661697626114, 0.006820713635534048, 0.0059661115519702435, 0.022306187078356743, 0.829639196395874, 0.0, 0.0, 0.0, 0.0, 0.0, 0.0, 0.0, 0.0, 0.0, 0.0, 0.0, 0.0, 0.0, 0.0, 0.0], [0.014338113367557526, 0.004506282042711973, 0.0022934821899980307, 0.00450263312086463, 0.006348521914333105, 0.006440700497478247, 0.003075920045375824, 0.003429379314184189, 0.008825043216347694, 0.013563877902925014, 0.00880623422563076, 0.015333067625761032, 0.010930364020168781, 0.032562434673309326, 0.04165015369653702, 0.029358426108956337, 0.06823207437992096, 0.10101231187582016, 0.1282440423965454, 0.08141806721687317, 0.4151288866996765, 0.0, 0.0, 0.0, 0.0, 0.0, 0.0, 0.0, 0.0, 0.0, 0.0, 0.0, 0.0, 0.0, 0.0], [0.01251695305109024, 0.003707381198182702, 0.001132361008785665, 0.002044016495347023, 0.0021037983242422342, 0.0007217558450065553, 0.0003587712999433279, 0.001065456890501082, 0.003341867122799158, 0.0035347731318324804, 0.0018008312908932567, 0.005131382495164871, 0.005956846289336681, 0.011681461706757545, 0.023353105410933495, 0.024626372382044792, 0.023082586005330086, 0.02405393123626709, 0.04505401477217674, 0.0444747656583786, 0.09848441183567047, 0.6617730855941772, 0.0, 0.0, 0.0, 0.0, 0.0, 0.0, 0.0, 0.0, 0.0, 0.0, 0.0, 0.0, 0.0], [0.023378070443868637, 0.0029700936283916235, 0.0022721625864505768, 0.003121254500001669, 0.010448778048157692, 0.0027957085985690355, 0.0009500705054961145, 0.006640286184847355, 0.0025093024596571922, 0.006215901114046574, 0.0018756607314571738, 0.004366475157439709, 0.00589492404833436, 0.007904240861535072, 0.011842501349747181, 0.011780297383666039, 0.016934003680944443, 0.015606720000505447, 0.03699192404747009, 0.0567626953125, 0.03885180130600929, 0.3010689318180084, 0.4288182556629181, 0.0, 0.0, 0.0, 0.0, 0.0, 0.0, 0.0, 0.0, 0.0, 0.0, 0.0, 0.0], [0.04225083440542221, 0.009647662751376629, 0.013069660402834415, 0.0034939260222017765, 0.008718241937458515, 0.000871762225870043, 0.002113070571795106, 0.0025201530661433935, 0.0028259267564862967, 0.0030562577303498983, 0.005475992802530527, 0.0044675893150269985, 0.005966204684227705, 0.008145664818584919, 0.027670925483107567, 0.013382639735937119, 0.018189135938882828, 0.0327802412211895, 0.02884836494922638, 0.05995950847864151, 0.09605945646762848, 0.20931929349899292, 0.10138271749019623, 0.299784779548645, 0.0, 0.0, 0.0, 0.0, 0.0, 0.0, 0.0, 0.0, 0.0, 0.0, 0.0], [0.025818035006523132, 0.0012453027302399278, 0.0012367729796096683, 0.0031558240298181772, 0.002605457790195942, 0.00111783214379102, 0.00023053256154526025, 0.00106145441532135, 0.0012552989646792412, 0.0014470183523371816, 0.0006083030602894723, 0.0021444340236485004, 0.0017222765600308776, 0.003063679439947009, 0.0021307128481566906, 0.001739518134854734, 0.007489565759897232, 0.004201177507638931, 0.01636728271842003, 0.017187537625432014, 0.01664702780544758, 0.06787324696779251, 0.07546132802963257, 0.04369649291038513, 0.7004938721656799, 0.0, 0.0, 0.0, 0.0, 0.0, 0.0, 0.0, 0.0, 0.0, 0.0], [0.007508305832743645, 0.00012913919636048377, 0.00022904040815774351, 0.00030994010739959776, 0.0015875744866207242, 0.00015740786329843104, 0.000365466286893934, 0.0002631950774230063, 0.0002461877593304962, 0.004963849671185017, 0.0008493291097693145, 0.00020542525453493, 0.003599656978622079, 0.0006757517112419009, 0.0006743200356140733, 0.0028660334646701813, 0.0007401988259516656, 0.0012410663766786456, 0.003433940699324012, 0.0033488061744719744, 0.005896296817809343, 0.015315244905650616, 0.013584451749920845, 0.0038060732185840607, 0.10587526112794876, 0.8221279382705688, 0.0, 0.0, 0.0, 0.0, 0.0, 0.0, 0.0, 0.0, 0.0], [0.015146811492741108, 0.0002837269857991487, 0.0004323884204495698, 0.0012392130447551608, 0.0026600686833262444, 0.0003459537692833692, 0.00029542637639679015, 0.0018772052135318518, 0.00023691226670052856, 0.0001321921736234799, 0.0003354800574015826, 0.00022997868654783815, 0.0002714899310376495, 0.00042095404933206737, 0.0008192572859115899, 0.00030394643545150757, 0.0006469360669143498, 0.00038042652886360884, 0.0023925919085741043, 0.0029767968226224184, 0.0025756123941391706, 0.005941801704466343, 0.005901212338358164, 0.005208782851696014, 0.025423727929592133, 0.02324124053120613, 0.9002798795700073, 0.0, 0.0, 0.0, 0.0, 0.0, 0.0, 0.0, 0.0], [0.02088216505944729, 0.0006866250187158585, 0.0014190289657562971, 0.0016247221501544118, 0.00546672660857439, 0.001993069425225258, 0.00034445576602593064, 0.0014866283163428307, 0.00038602773565799, 0.0002986798353958875, 0.0003715486382134259, 0.0005332491709850729, 0.0002567081537563354, 0.0006083343760110438, 0.00037862538010813296, 0.0013748211786150932, 0.0013781337765976787, 0.0009236647165380418, 0.023374993354082108, 0.03773230314254761, 0.0040639773942530155, 0.021846625953912735, 0.01851237751543522, 0.005047195125371218, 0.01844024658203125, 0.06399485468864441, 0.3300280272960663, 0.4365462064743042, 0.0, 0.0, 0.0, 0.0, 0.0, 0.0, 0.0], [0.002729786094278097, 0.00011315722076687962, 0.0002574317913968116, 0.00030652934219688177, 0.0008012375910766423, 0.0008870938327163458, 0.00010111562005477026, 0.0020485660061240196, 0.00014291200204752386, 0.0001989806187339127, 0.0004309814830776304, 7.43574564694427e-05, 0.00011077812814619392, 0.00022297569375950843, 0.00010400103201391175, 0.0007566175190731883, 0.0001842879573814571, 0.00031020946335047483, 0.0010590279707685113, 0.005394384264945984, 0.0013711383799090981, 0.0017238223226740956, 0.003438343992456794, 0.0007791528478264809, 0.0027107922360301018, 0.011246593669056892, 0.26186177134513855, 0.04286465048789978, 0.6577693223953247, 0.0, 0.0, 0.0, 0.0, 0.0, 0.0], [0.007169221993535757, 0.0026512325275689363, 0.002445027232170105, 0.0030232523567974567, 0.002686191350221634, 0.0007135477499105036, 0.000512768339831382, 0.0003864866739604622, 0.0009532020194455981, 0.000440784526290372, 0.0008591759251430631, 0.0012491067172959447, 0.0009424778982065618, 0.0016617259243503213, 0.00044353213161230087, 0.001464842353016138, 0.003577462863177061, 0.003767343470826745, 0.012122930958867073, 0.006853921804577112, 0.0052495733834803104, 0.019704246893525124, 0.02666923962533474, 0.04096021130681038, 0.23853960633277893, 0.05725705623626709, 0.040405403822660446, 0.10934001207351685, 0.0773630291223526, 0.3305874764919281, 0.0, 0.0, 0.0, 0.0, 0.0], [0.011626669205725193, 0.0019658172968775034, 0.000917952274903655, 0.0018197438912466168, 0.002078979043290019, 0.00029357150197029114, 0.00010028555698227137, 0.0005799980135634542, 0.00048541222349740565, 9.764838614501059e-05, 0.00015712776803411543, 0.0004106423002667725, 0.0004877779574599117, 0.0007517863996326923, 0.0007532841991633177, 0.001224212464876473, 0.0010826843790709972, 0.0014821900986135006, 0.002774250227957964, 0.003610333427786827, 0.0021372432820498943, 0.009361452423036098, 0.014277668669819832, 0.011846719309687614, 0.04729336500167847, 0.0450628325343132, 0.04156072065234184, 0.0428079329431057, 0.07079774886369705, 0.1008482575416565, 0.581305742263794, 0.0, 0.0, 0.0, 0.0], [0.0038734322879463434, 0.00025570980506017804, 0.0006259247311390936, 0.0005843960680067539, 0.0012326475698500872, 0.00039456028025597334, 0.00033266760874539614, 0.00015581924526486546, 0.00016472740389872342, 0.0007726289913989604, 0.00038669785135425627, 0.000278244202490896, 0.0001523970568086952, 0.0002519853296689689, 6.45292893750593e-05, 0.00017264131747651845, 0.0007133577601052821, 0.0005384791875258088, 0.007539562880992889, 0.006723250262439251, 0.001396391773596406, 0.0031103561632335186, 0.005501284264028072, 0.0024135885760188103, 0.03896055370569229, 0.023422330617904663, 0.009641139768064022, 0.025750910863280296, 0.12702472507953644, 0.04005928337574005, 0.514208972454071, 0.1832968145608902, 0.0, 0.0, 0.0], [0.015151122584939003, 0.001376067753881216, 0.0015560513129457831, 0.0021717101335525513, 0.0025110100395977497, 0.0017854947363957763, 0.0004700867284554988, 0.0006788125610910356, 0.00038990701432339847, 0.0009900372242555022, 0.00038026581751182675, 0.00041824975050985813, 0.00044352893019095063, 0.0005140135763213038, 0.00016592246538493782, 0.0006932566175237298, 0.0009629514534026384, 0.0007656946545466781, 0.0043652234598994255, 0.0064362711273133755, 0.0018688284326344728, 0.008356156758964062, 0.006384761072695255, 0.0058907088823616505, 0.0311870239675045, 0.041009459644556046, 0.028566090390086174, 0.04157732054591179, 0.04076458886265755, 0.06712853163480759, 0.3042670786380768, 0.21618828177452087, 0.16458547115325928, 0.0, 0.0], [0.017354115843772888, 0.0005264718784019351, 0.0006208933191373944, 0.0016926309326663613, 0.006297255866229534, 0.0010202113771811128, 7.362542964983732e-05, 0.0006762269767932594, 0.0004448310937732458, 7.778872532071546e-05, 4.9738038796931505e-05, 0.0003035976260434836, 0.0001734181569190696, 0.0005162439774721861, 0.0002735280431807041, 0.0007443997310474515, 0.0006022224551998079, 0.00045444999705068767, 0.0026653388049453497, 0.0026638777926564217, 0.0025515942834317684, 0.00781879760324955, 0.009490983560681343, 0.0009830401977524161, 0.007624228950589895, 0.011552348732948303, 0.09579718112945557, 0.0806991457939148, 0.09889812767505646, 0.037996143102645874, 0.058356158435344696, 0.11718903481960297, 0.11656808853149414, 0.3172442615032196, 0.0], [0.010796326212584972, 0.003018460003659129, 0.0017010783776640892, 0.0027613965794444084, 0.005546444561332464, 0.00055094831623137, 0.0002220832247985527, 0.000233058599405922, 0.0008555071544833481, 8.429412264376879e-05, 0.00013491020945366472, 0.0004030339769087732, 0.00021568534430116415, 0.0009122329647652805, 0.0007261997670866549, 0.00038188471808098257, 0.000740679504815489, 0.0007301218574866652, 0.0007852279231883585, 0.0013473369181156158, 0.004313785582780838, 0.00772917689755559, 0.0054228100925683975, 0.006747078150510788, 0.013981970958411694, 0.004630989395081997, 0.01939181610941887, 0.02813371829688549, 0.016861913725733757, 0.07724327594041824, 0.054351553320884705, 0.13139010965824127, 0.15014046430587769, 0.0843438133597374, 0.3631705641746521]], [[1.0, 0.0, 0.0, 0.0, 0.0, 0.0, 0.0, 0.0, 0.0, 0.0, 0.0, 0.0, 0.0, 0.0, 0.0, 0.0, 0.0, 0.0, 0.0, 0.0, 0.0, 0.0, 0.0, 0.0, 0.0, 0.0, 0.0, 0.0, 0.0, 0.0, 0.0, 0.0, 0.0, 0.0, 0.0], [0.19326052069664001, 0.8067395091056824, 0.0, 0.0, 0.0, 0.0, 0.0, 0.0, 0.0, 0.0, 0.0, 0.0, 0.0, 0.0, 0.0, 0.0, 0.0, 0.0, 0.0, 0.0, 0.0, 0.0, 0.0, 0.0, 0.0, 0.0, 0.0, 0.0, 0.0, 0.0, 0.0, 0.0, 0.0, 0.0, 0.0], [0.09132391214370728, 0.00222189212217927, 0.9064542055130005, 0.0, 0.0, 0.0, 0.0, 0.0, 0.0, 0.0, 0.0, 0.0, 0.0, 0.0, 0.0, 0.0, 0.0, 0.0, 0.0, 0.0, 0.0, 0.0, 0.0, 0.0, 0.0, 0.0, 0.0, 0.0, 0.0, 0.0, 0.0, 0.0, 0.0, 0.0, 0.0], [0.07127534598112106, 0.010394587181508541, 0.014608735218644142, 0.9037212133407593, 0.0, 0.0, 0.0, 0.0, 0.0, 0.0, 0.0, 0.0, 0.0, 0.0, 0.0, 0.0, 0.0, 0.0, 0.0, 0.0, 0.0, 0.0, 0.0, 0.0, 0.0, 0.0, 0.0, 0.0, 0.0, 0.0, 0.0, 0.0, 0.0, 0.0, 0.0], [0.007525191176682711, 8.942753629526123e-05, 7.544117397628725e-05, 3.4135737223550677e-06, 0.9923065304756165, 0.0, 0.0, 0.0, 0.0, 0.0, 0.0, 0.0, 0.0, 0.0, 0.0, 0.0, 0.0, 0.0, 0.0, 0.0, 0.0, 0.0, 0.0, 0.0, 0.0, 0.0, 0.0, 0.0, 0.0, 0.0, 0.0, 0.0, 0.0, 0.0, 0.0], [0.004521043971180916, 4.280492703401251e-06, 9.230372234014794e-05, 2.3636186597286724e-05, 1.1194380022061523e-05, 0.9953475594520569, 0.0, 0.0, 0.0, 0.0, 0.0, 0.0, 0.0, 0.0, 0.0, 0.0, 0.0, 0.0, 0.0, 0.0, 0.0, 0.0, 0.0, 0.0, 0.0, 0.0, 0.0, 0.0, 0.0, 0.0, 0.0, 0.0, 0.0, 0.0, 0.0], [0.007938149385154247, 0.00010465264494996518, 4.188252205494791e-05, 8.37628795125056e-06, 0.0002111142239300534, 3.129796368739335e-06, 0.9916926622390747, 0.0, 0.0, 0.0, 0.0, 0.0, 0.0, 0.0, 0.0, 0.0, 0.0, 0.0, 0.0, 0.0, 0.0, 0.0, 0.0, 0.0, 0.0, 0.0, 0.0, 0.0, 0.0, 0.0, 0.0, 0.0, 0.0, 0.0, 0.0], [0.0024528461508452892, 1.0800486961670686e-05, 1.541069650556892e-05, 2.252152597748136e-07, 3.925116834579967e-05, 5.133605554874521e-06, 2.3800452254363336e-05, 0.9974525570869446, 0.0, 0.0, 0.0, 0.0, 0.0, 0.0, 0.0, 0.0, 0.0, 0.0, 0.0, 0.0, 0.0, 0.0, 0.0, 0.0, 0.0, 0.0, 0.0, 0.0, 0.0, 0.0, 0.0, 0.0, 0.0, 0.0, 0.0], [0.1994485855102539, 0.1783181130886078, 0.06548020988702774, 0.13276450335979462, 0.03858448937535286, 0.010353408753871918, 0.02143358252942562, 0.006723289843648672, 0.3468937575817108, 0.0, 0.0, 0.0, 0.0, 0.0, 0.0, 0.0, 0.0, 0.0, 0.0, 0.0, 0.0, 0.0, 0.0, 0.0, 0.0, 0.0, 0.0, 0.0, 0.0, 0.0, 0.0, 0.0, 0.0, 0.0, 0.0], [0.0014458488440141082, 8.054703926063667e-07, 3.0645889637526125e-05, 7.412921263494354e-07, 2.0274044345569564e-06, 1.125904600485228e-05, 1.8223380493509467e-06, 8.012940816115588e-05, 1.0569633701607017e-07, 0.9984266757965088, 0.0, 0.0, 0.0, 0.0, 0.0, 0.0, 0.0, 0.0, 0.0, 0.0, 0.0, 0.0, 0.0, 0.0, 0.0, 0.0, 0.0, 0.0, 0.0, 0.0, 0.0, 0.0, 0.0, 0.0, 0.0], [0.0023380196653306484, 1.2498689102358185e-05, 2.2450123651651666e-05, 4.236504537402652e-06, 2.952029092284647e-07, 1.8947090438814485e-06, 7.769858348183334e-05, 8.969064765551593e-06, 4.6951996068855806e-08, 1.1347678992024157e-06, 0.9975327253341675, 0.0, 0.0, 0.0, 0.0, 0.0, 0.0, 0.0, 0.0, 0.0, 0.0, 0.0, 0.0, 0.0, 0.0, 0.0, 0.0, 0.0, 0.0, 0.0, 0.0, 0.0, 0.0, 0.0, 0.0], [0.04751458391547203, 0.05268266797065735, 0.020408116281032562, 0.05853002890944481, 0.007166564464569092, 0.008201424963772297, 0.011846395209431648, 0.0017474391497671604, 0.02496332861483097, 0.002697254531085491, 0.0014261911856010556, 0.7628160715103149, 0.0, 0.0, 0.0, 0.0, 0.0, 0.0, 0.0, 0.0, 0.0, 0.0, 0.0, 0.0, 0.0, 0.0, 0.0, 0.0, 0.0, 0.0, 0.0, 0.0, 0.0, 0.0, 0.0], [0.0060708108358085155, 0.00012957947910763323, 5.9433521528262645e-05, 5.659346243191976e-06, 0.0002615326957311481, 0.00012241843796800822, 1.0399337043054402e-05, 1.1076414921262767e-05, 4.0604805917610065e-07, 0.00036004686262458563, 2.0115412553423084e-05, 1.364392119285185e-07, 0.9929484128952026, 0.0, 0.0, 0.0, 0.0, 0.0, 0.0, 0.0, 0.0, 0.0, 0.0, 0.0, 0.0, 0.0, 0.0, 0.0, 0.0, 0.0, 0.0, 0.0, 0.0, 0.0, 0.0], [0.09530568867921829, 0.14180326461791992, 0.05038183182477951, 0.10299669951200485, 0.029812080785632133, 0.0065894112922251225, 0.016824396327137947, 0.004481856245547533, 0.23106449842453003, 0.01943543180823326, 0.010874396190047264, 0.0554320327937603, 0.03543872386217117, 0.1995597630739212, 0.0, 0.0, 0.0, 0.0, 0.0, 0.0, 0.0, 0.0, 0.0, 0.0, 0.0, 0.0, 0.0, 0.0, 0.0, 0.0, 0.0, 0.0, 0.0, 0.0, 0.0], [0.027447892352938652, 0.00014065386494621634, 0.00019846689247060567, 3.4967801184393466e-05, 5.282158781483304e-06, 0.00015024247113615274, 8.128373883664608e-05, 1.2125184184696991e-05, 6.303911504801363e-05, 6.543233030242845e-05, 2.832498694260721e-06, 3.8907375710550696e-05, 5.673653049598215e-07, 4.210495171719231e-05, 0.9717161655426025, 0.0, 0.0, 0.0, 0.0, 0.0, 0.0, 0.0, 0.0, 0.0, 0.0, 0.0, 0.0, 0.0, 0.0, 0.0, 0.0, 0.0, 0.0, 0.0, 0.0], [0.004212100990116596, 3.0696774047100917e-05, 6.369411858031526e-05, 8.254517069872236e-07, 8.262093729172193e-07, 3.868323619826697e-05, 4.268790689820889e-06, 3.819391622528201e-06, 1.2627964451894513e-07, 0.00013782696623820812, 1.7806029063649476e-05, 1.71001346416233e-08, 5.979854904580861e-06, 6.19027389348048e-08, 2.2941485440242104e-06, 0.9954808950424194, 0.0, 0.0, 0.0, 0.0, 0.0, 0.0, 0.0, 0.0, 0.0, 0.0, 0.0, 0.0, 0.0, 0.0, 0.0, 0.0, 0.0, 0.0, 0.0], [0.019846802577376366, 0.03168344870209694, 0.012553268112242222, 0.03571878746151924, 0.004399011842906475, 0.004350569099187851, 0.007427368778735399, 0.0009372885106131434, 0.012662886641919613, 0.0016050537815317512, 0.0007319955620914698, 0.4563407897949219, 0.00201086956076324, 0.009759282693266869, 0.008237499743700027, 0.0002594126563053578, 0.3914756774902344, 0.0, 0.0, 0.0, 0.0, 0.0, 0.0, 0.0, 0.0, 0.0, 0.0, 0.0, 0.0, 0.0, 0.0, 0.0, 0.0, 0.0, 0.0], [0.02729717083275318, 0.0024357016663998365, 0.0002706815139390528, 7.525562250521034e-05, 1.3686808415513951e-05, 5.773216344095999e-06, 0.00043018278665840626, 1.443812834622804e-05, 4.835127401747741e-05, 5.326102109393105e-05, 9.613290785637219e-06, 6.846681208116934e-05, 0.00030376733047887683, 2.878386112570297e-05, 3.866387123707682e-05, 2.5926743546733633e-05, 4.6800421841908246e-05, 0.9688335061073303, 0.0, 0.0, 0.0, 0.0, 0.0, 0.0, 0.0, 0.0, 0.0, 0.0, 0.0, 0.0, 0.0, 0.0, 0.0, 0.0, 0.0], [0.006310692988336086, 3.294691487099044e-05, 9.895685252558906e-06, 7.334591032304161e-07, 9.11984097911045e-05, 4.094936593901366e-05, 8.511712621839251e-06, 9.950720414053649e-05, 1.9264832928911346e-07, 8.829235298435378e-07, 1.8906122249973123e-06, 1.1808716635641758e-06, 3.1165220661932835e-06, 9.474767637129844e-08, 3.301760898466455e-06, 2.5855324565782212e-05, 7.711314538028091e-07, 2.670870799192926e-06, 0.993365466594696, 0.0, 0.0, 0.0, 0.0, 0.0, 0.0, 0.0, 0.0, 0.0, 0.0, 0.0, 0.0, 0.0, 0.0, 0.0, 0.0], [0.0011340553173795342, 6.961929102544673e-06, 1.2364386748231482e-05, 4.0065538087219466e-07, 5.351819345378317e-05, 5.240101017989218e-06, 4.4595133658731356e-05, 0.0001645079319132492, 1.43445042510848e-08, 1.0388027931185206e-06, 4.778887523571029e-05, 5.058683782976914e-08, 9.468226949138625e-07, 7.475676078172455e-09, 6.60393993712205e-07, 3.843118065560702e-06, 3.346431398654204e-08, 2.4119779595821456e-07, 1.664778210397344e-05, 0.9985070824623108, 0.0, 0.0, 0.0, 0.0, 0.0, 0.0, 0.0, 0.0, 0.0, 0.0, 0.0, 0.0, 0.0, 0.0, 0.0], [0.08800848573446274, 0.18921290338039398, 0.04556254297494888, 0.08163288980722427, 0.017358070239424706, 0.004830402787774801, 0.018958773463964462, 0.004620135296136141, 0.06910264492034912, 0.012970478273928165, 0.010343022644519806, 0.053664129227399826, 0.009830271825194359, 0.05797473341226578, 0.011936411261558533, 0.009446632117033005, 0.04662338271737099, 0.07882608473300934, 0.010427413508296013, 0.00209467438980937, 0.1765758991241455, 0.0, 0.0, 0.0, 0.0, 0.0, 0.0, 0.0, 0.0, 0.0, 0.0, 0.0, 0.0, 0.0, 0.0], [0.015971142798662186, 0.0030620144680142403, 0.00014189491048455238, 0.00078857276821509, 4.299363718018867e-05, 4.1311970562674105e-05, 6.30684953648597e-05, 3.5465084238239797e-06, 2.1731235392508097e-05, 1.786092070688028e-05, 1.0213968380412553e-05, 2.659635356394574e-05, 3.785551598411985e-05, 1.3186846445023548e-05, 0.00018817625823430717, 4.963872470398201e-06, 1.8085080228047445e-05, 4.864018046646379e-05, 4.463586265046615e-06, 2.48024321081175e-06, 1.2178892575320788e-05, 0.9794788956642151, 0.0, 0.0, 0.0, 0.0, 0.0, 0.0, 0.0, 0.0, 0.0, 0.0, 0.0, 0.0, 0.0], [0.0074722422286868095, 0.0003719073429238051, 7.639078103238717e-05, 1.1135911336168647e-05, 3.014870708284434e-05, 1.101442649087403e-05, 5.452877303468995e-05, 2.2444373826147057e-05, 1.1283855201327242e-05, 2.8587892302311957e-05, 5.627744030789472e-06, 7.513612217735499e-05, 7.734293467365205e-05, 6.5297231230943e-06, 8.796915608400013e-06, 8.651501048007049e-06, 5.072796193417162e-05, 7.04086141922744e-06, 3.18764359690249e-05, 1.403489250151324e-06, 7.0035935095802415e-06, 7.040079799480736e-05, 0.9915595650672913, 0.0, 0.0, 0.0, 0.0, 0.0, 0.0, 0.0, 0.0, 0.0, 0.0, 0.0, 0.0], [0.02204541489481926, 0.28049421310424805, 0.016674747690558434, 0.0001508713758084923, 0.0006804474396631122, 2.7394113203627057e-05, 0.0008938334649428725, 1.2499203876359388e-05, 0.00026655319379642606, 5.5841605899331626e-06, 5.109101766720414e-05, 9.500431769993156e-05, 1.8194787116954103e-05, 0.00018282826931681484, 0.0016493585426360369, 2.7935215257457457e-05, 6.99191732564941e-05, 7.677566463826224e-05, 2.0886123820673674e-05, 4.512566647463245e-06, 0.0001454139273846522, 0.00044705014443024993, 5.514786607818678e-05, 0.6759043335914612, 0.0, 0.0, 0.0, 0.0, 0.0, 0.0, 0.0, 0.0, 0.0, 0.0, 0.0], [0.018799467012286186, 0.0019184609409421682, 0.001052386942319572, 7.228145841509104e-05, 0.00013796599523629993, 5.2088158554397523e-05, 6.334375211736187e-05, 9.731957106851041e-06, 8.120811253320426e-05, 5.998387496219948e-05, 9.635974492994137e-06, 4.818717934540473e-05, 4.688356784754433e-05, 5.250570393400267e-05, 0.00044942041859030724, 0.00028932970599271357, 3.537202792358585e-05, 0.00022377951245289296, 0.00020208986825309694, 3.112006879746332e-06, 3.5228513297624886e-05, 9.85500228125602e-05, 0.0001810147223295644, 0.00012300792150199413, 0.9759548306465149, 0.0, 0.0, 0.0, 0.0, 0.0, 0.0, 0.0, 0.0, 0.0, 0.0], [0.0016589773586019874, 6.632470558542991e-06, 3.9323436794802547e-05, 5.512135885510361e-06, 7.328279025387019e-05, 5.176194690648117e-07, 8.362664084415883e-05, 1.611540574231185e-05, 1.840793260043938e-07, 0.00020032616157550365, 1.8497462406230625e-06, 7.683036074013216e-08, 1.805103056540247e-05, 9.2597367995495e-08, 6.612178822251735e-06, 1.962786427611718e-06, 5.0048470257024746e-08, 6.371125493842555e-08, 4.881635504716542e-07, 3.8391394809877966e-06, 1.8601461704292888e-08, 1.6708657994968235e-06, 8.81660753293545e-07, 6.673329977502362e-08, 1.878514410691423e-07, 0.9978796243667603, 0.0, 0.0, 0.0, 0.0, 0.0, 0.0, 0.0, 0.0, 0.0], [0.005040663294494152, 0.00039155513513833284, 0.0005618694121949375, 0.0001452302240068093, 3.9371810999000445e-05, 5.409949881141074e-05, 0.0002847950381692499, 4.8287405661540106e-05, 3.10431369143771e-06, 6.896261766087264e-05, 0.0002681412152014673, 4.210924998915289e-06, 1.211988455906976e-05, 2.0253935417713365e-06, 3.1887731893220916e-05, 1.1356515642546583e-05, 3.0187948141247034e-06, 1.2622882422874682e-05, 7.4655627031461336e-06, 3.027799039045931e-06, 4.951110668116598e-07, 3.0154526029946283e-05, 1.8863744116970338e-05, 4.151238499616738e-06, 5.031317414250225e-06, 6.069065875635715e-06, 0.9929414987564087, 0.0, 0.0, 0.0, 0.0, 0.0, 0.0, 0.0, 0.0], [0.001244866638444364, 0.00017617006960790604, 2.4151706384145655e-05, 1.2456669537641574e-05, 5.2113035053480417e-05, 2.3546019292552955e-05, 5.673440682585351e-05, 0.00045827668509446084, 2.498383537385962e-06, 0.0001134940903284587, 4.92024228151422e-05, 1.3444539035845082e-05, 7.73592691984959e-05, 1.343708390777465e-06, 6.060899522708496e-06, 0.00010331773228244856, 8.745483683014754e-06, 1.0811555512191262e-05, 0.00015856359095778316, 1.9056049040955259e-06, 5.418784780886199e-07, 1.23213567349012e-06, 6.472226232290268e-05, 3.5890568597096717e-06, 8.650893505546264e-06, 2.9628010906890268e-06, 1.3278948244987987e-05, 0.9973099231719971, 0.0, 0.0, 0.0, 0.0, 0.0, 0.0, 0.0], [0.0019733370281755924, 0.000975057715550065, 7.218521204777062e-05, 9.848424087977037e-05, 4.960866863257252e-05, 5.434062040876597e-05, 0.00037972061545588076, 6.1846380958741065e-06, 1.0831167855940294e-06, 4.491214440349722e-06, 0.00047983607510104775, 9.928667168424e-07, 1.3564583241532091e-05, 6.477196734522295e-07, 1.0186131476075388e-05, 5.581331606663298e-06, 7.113497417776671e-07, 5.998070378154807e-07, 3.2010875656851567e-06, 2.288287987539661e-06, 1.513085550186588e-07, 7.13077315595001e-06, 1.7937989014171762e-06, 2.4025746824918315e-05, 2.833120333889383e-07, 1.2269149920030031e-05, 0.00023325506481342018, 0.00031319662230089307, 0.9952757358551025, 0.0, 0.0, 0.0, 0.0, 0.0, 0.0], [0.03009931556880474, 0.09027379751205444, 0.02814972959458828, 0.15763863921165466, 0.02647356502711773, 0.003006009152159095, 0.01721953973174095, 0.0022446727380156517, 0.03120047226548195, 0.011351735331118107, 0.0013561322120949626, 0.029119186103343964, 0.016773542389273643, 0.023998107761144638, 0.009450535289943218, 0.006288205739110708, 0.023923048749566078, 0.058296218514442444, 0.009904227219522, 0.00037797336699441075, 0.024595143273472786, 0.04042006656527519, 0.02788674645125866, 0.009823567233979702, 0.04994712397456169, 0.0010651156771928072, 0.014632536098361015, 0.011246389709413052, 0.002060156548395753, 0.241178497672081, 0.0, 0.0, 0.0, 0.0, 0.0], [0.004169422201812267, 0.0006143288919702172, 0.0005938474787399173, 0.0001103623362723738, 9.005518222693354e-05, 1.3705171113542747e-05, 0.0005903494311496615, 2.6892382720689056e-06, 8.671509931446053e-06, 4.61164272564929e-05, 1.0056795872515067e-05, 5.362913725548424e-06, 5.1998504204675555e-05, 4.8024230636656284e-06, 2.1195266526774503e-05, 2.4785071218502708e-05, 3.4400438835291425e-06, 1.8410868506180122e-05, 7.055157038848847e-05, 5.603979502666334e-07, 5.060184321337147e-06, 2.2592150344280526e-05, 6.252543971640989e-05, 1.8619364709593356e-05, 0.00014118559192866087, 2.6331110348110087e-05, 1.2610458952622139e-06, 1.0759861197584542e-06, 3.0931974492887093e-07, 5.793059699499281e-06, 0.9932644367218018, 0.0, 0.0, 0.0, 0.0], [0.010566655546426773, 0.0013905868399888277, 0.0004313623358029872, 0.0010295918909832835, 0.003916389308869839, 0.00015029506175778806, 0.0019935949239879847, 0.0003044367767870426, 2.9845065000699833e-05, 0.0006592920399270952, 1.2659825188165996e-05, 7.527502748416737e-05, 0.00039767660200595856, 1.727652306726668e-05, 0.0003858345153275877, 2.106188185280189e-05, 5.340308780432679e-05, 6.335021316772327e-05, 0.00012688428978435695, 6.7831888372893445e-06, 2.7170533940079622e-05, 0.0001300896255997941, 3.859859498334117e-05, 4.366641951492056e-05, 8.064090252446476e-06, 0.0007468663388863206, 8.195238478947431e-06, 9.368601604364812e-05, 6.252453658817103e-06, 4.44724500994198e-05, 0.00020698629668913782, 0.9770136475563049, 0.0, 0.0, 0.0], [0.017131488770246506, 0.10981207340955734, 0.04528498649597168, 0.16663989424705505, 0.046834930777549744, 0.012714340351521969, 0.02494182623922825, 0.0024605076760053635, 0.016514169052243233, 0.014018187299370766, 0.002804650692269206, 0.017261292785406113, 0.05619141831994057, 0.011843179352581501, 0.02451840043067932, 0.008004876784980297, 0.013582992367446423, 0.027696531265974045, 0.007881488651037216, 0.001375963562168181, 0.009033635258674622, 0.03747999295592308, 0.01436882559210062, 0.016579674556851387, 0.031486254185438156, 0.002235110616311431, 0.007032564841210842, 0.020338818430900574, 0.0021573668345808983, 0.015735741704702377, 0.03529253974556923, 0.017795007675886154, 0.16295132040977478, 0.0, 0.0], [0.002736238529905677, 0.0032704402692615986, 0.0002493849315214902, 2.9521106625907123e-05, 0.002719077980145812, 1.5680814613006078e-05, 0.0011440073139965534, 3.5285567719256505e-05, 1.9352071831235662e-05, 3.620963980210945e-05, 1.220221929543186e-05, 0.00012145649816375226, 4.9556045269127935e-05, 1.1851500858028885e-05, 8.826622070046142e-05, 3.184522211086005e-05, 8.618915308034047e-05, 0.0001305781042901799, 9.26753637031652e-05, 1.8444527086103335e-05, 4.454882855497999e-06, 1.4211034795152955e-05, 0.0002081980783259496, 6.224932440090925e-05, 2.7289963327348232e-05, 8.527088539267424e-06, 0.0010931706055998802, 0.0010258990805596113, 1.8266431652591564e-05, 9.8163227448822e-06, 7.599958848913957e-07, 4.151805569563294e-06, 8.365892426809296e-06, 0.9866164922714233, 0.0], [0.013301782310009003, 0.002024180954322219, 0.0009810659103095531, 0.00027104001492261887, 0.02624261938035488, 6.96842180332169e-05, 0.0001882464566733688, 0.0003323279961477965, 0.0002071752242045477, 0.0003558366443030536, 1.8688799173105508e-05, 0.00031016385764814913, 0.00028844273765571415, 0.00014157593250274658, 0.00021018984261900187, 0.00013730151113122702, 0.0002454258210491389, 0.0005858641816303134, 0.0008409101283177733, 0.000378984899725765, 0.00011255524441367015, 0.0009485295158810914, 0.0002581725420895964, 0.0005371641018427908, 0.00023706478532403708, 9.896166011458263e-05, 1.4541850759997033e-05, 7.514381286455318e-05, 1.014246117847506e-05, 7.690782513236627e-05, 6.643292726948857e-05, 5.4460091632790864e-05, 0.00010782029130496085, 0.0021891267970204353, 0.9480814933776855]], [[1.0, 0.0, 0.0, 0.0, 0.0, 0.0, 0.0, 0.0, 0.0, 0.0, 0.0, 0.0, 0.0, 0.0, 0.0, 0.0, 0.0, 0.0, 0.0, 0.0, 0.0, 0.0, 0.0, 0.0, 0.0, 0.0, 0.0, 0.0, 0.0, 0.0, 0.0, 0.0, 0.0, 0.0, 0.0], [0.9360752105712891, 0.06392484903335571, 0.0, 0.0, 0.0, 0.0, 0.0, 0.0, 0.0, 0.0, 0.0, 0.0, 0.0, 0.0, 0.0, 0.0, 0.0, 0.0, 0.0, 0.0, 0.0, 0.0, 0.0, 0.0, 0.0, 0.0, 0.0, 0.0, 0.0, 0.0, 0.0, 0.0, 0.0, 0.0, 0.0], [0.8446659445762634, 0.06946856528520584, 0.0858655646443367, 0.0, 0.0, 0.0, 0.0, 0.0, 0.0, 0.0, 0.0, 0.0, 0.0, 0.0, 0.0, 0.0, 0.0, 0.0, 0.0, 0.0, 0.0, 0.0, 0.0, 0.0, 0.0, 0.0, 0.0, 0.0, 0.0, 0.0, 0.0, 0.0, 0.0, 0.0, 0.0], [0.6426601409912109, 0.1298869103193283, 0.17117172479629517, 0.05628126487135887, 0.0, 0.0, 0.0, 0.0, 0.0, 0.0, 0.0, 0.0, 0.0, 0.0, 0.0, 0.0, 0.0, 0.0, 0.0, 0.0, 0.0, 0.0, 0.0, 0.0, 0.0, 0.0, 0.0, 0.0, 0.0, 0.0, 0.0, 0.0, 0.0, 0.0, 0.0], [0.5074959993362427, 0.0778627097606659, 0.0726853609085083, 0.10711851716041565, 0.23483745753765106, 0.0, 0.0, 0.0, 0.0, 0.0, 0.0, 0.0, 0.0, 0.0, 0.0, 0.0, 0.0, 0.0, 0.0, 0.0, 0.0, 0.0, 0.0, 0.0, 0.0, 0.0, 0.0, 0.0, 0.0, 0.0, 0.0, 0.0, 0.0, 0.0, 0.0], [0.4970756471157074, 0.06315259635448456, 0.11559107154607773, 0.08851397037506104, 0.1019635871052742, 0.13370314240455627, 0.0, 0.0, 0.0, 0.0, 0.0, 0.0, 0.0, 0.0, 0.0, 0.0, 0.0, 0.0, 0.0, 0.0, 0.0, 0.0, 0.0, 0.0, 0.0, 0.0, 0.0, 0.0, 0.0, 0.0, 0.0, 0.0, 0.0, 0.0, 0.0], [0.3081282079219818, 0.06775974482297897, 0.13057535886764526, 0.05440935492515564, 0.040503185242414474, 0.36059141159057617, 0.03803273290395737, 0.0, 0.0, 0.0, 0.0, 0.0, 0.0, 0.0, 0.0, 0.0, 0.0, 0.0, 0.0, 0.0, 0.0, 0.0, 0.0, 0.0, 0.0, 0.0, 0.0, 0.0, 0.0, 0.0, 0.0, 0.0, 0.0, 0.0, 0.0], [0.32434964179992676, 0.06349693238735199, 0.0778365209698677, 0.07798175513744354, 0.07410476356744766, 0.13590557873249054, 0.07038861513137817, 0.17593622207641602, 0.0, 0.0, 0.0, 0.0, 0.0, 0.0, 0.0, 0.0, 0.0, 0.0, 0.0, 0.0, 0.0, 0.0, 0.0, 0.0, 0.0, 0.0, 0.0, 0.0, 0.0, 0.0, 0.0, 0.0, 0.0, 0.0, 0.0], [0.16412916779518127, 0.034692857414484024, 0.05131256580352783, 0.013317004777491093, 0.17712709307670593, 0.1595189869403839, 0.09812308102846146, 0.2969047427177429, 0.004874552600085735, 0.0, 0.0, 0.0, 0.0, 0.0, 0.0, 0.0, 0.0, 0.0, 0.0, 0.0, 0.0, 0.0, 0.0, 0.0, 0.0, 0.0, 0.0, 0.0, 0.0, 0.0, 0.0, 0.0, 0.0, 0.0, 0.0], [0.18775463104248047, 0.05488046258687973, 0.10758274793624878, 0.04391003027558327, 0.1406543254852295, 0.11696732044219971, 0.05246003717184067, 0.15366396307945251, 0.04935268312692642, 0.09277379512786865, 0.0, 0.0, 0.0, 0.0, 0.0, 0.0, 0.0, 0.0, 0.0, 0.0, 0.0, 0.0, 0.0, 0.0, 0.0, 0.0, 0.0, 0.0, 0.0, 0.0, 0.0, 0.0, 0.0, 0.0, 0.0], [0.2051711231470108, 0.04006878659129143, 0.0833921805024147, 0.04565277695655823, 0.05697014182806015, 0.13319890201091766, 0.02641640044748783, 0.09950855374336243, 0.050134602934122086, 0.21417362987995148, 0.045312944799661636, 0.0, 0.0, 0.0, 0.0, 0.0, 0.0, 0.0, 0.0, 0.0, 0.0, 0.0, 0.0, 0.0, 0.0, 0.0, 0.0, 0.0, 0.0, 0.0, 0.0, 0.0, 0.0, 0.0, 0.0], [0.10754457116127014, 0.020955441519618034, 0.05246847867965698, 0.008330853655934334, 0.1799752116203308, 0.10652031004428864, 0.07210804522037506, 0.20191136002540588, 0.003346044337376952, 0.14021334052085876, 0.10356739908456802, 0.0030589622911065817, 0.0, 0.0, 0.0, 0.0, 0.0, 0.0, 0.0, 0.0, 0.0, 0.0, 0.0, 0.0, 0.0, 0.0, 0.0, 0.0, 0.0, 0.0, 0.0, 0.0, 0.0, 0.0, 0.0], [0.09423350542783737, 0.022835398092865944, 0.05558856576681137, 0.026967840269207954, 0.12799428403377533, 0.07631110399961472, 0.07361151278018951, 0.16634687781333923, 0.03019636683166027, 0.11622445285320282, 0.13079148530960083, 0.022433560341596603, 0.05646513029932976, 0.0, 0.0, 0.0, 0.0, 0.0, 0.0, 0.0, 0.0, 0.0, 0.0, 0.0, 0.0, 0.0, 0.0, 0.0, 0.0, 0.0, 0.0, 0.0, 0.0, 0.0, 0.0], [0.11027708649635315, 0.0199173204600811, 0.03387212008237839, 0.008012223988771439, 0.1268695741891861, 0.12052716314792633, 0.06604592502117157, 0.2115958034992218, 0.0029103802517056465, 0.13361383974552155, 0.07830417156219482, 0.005965671502053738, 0.0786396786570549, 0.003449013689532876, 0.0, 0.0, 0.0, 0.0, 0.0, 0.0, 0.0, 0.0, 0.0, 0.0, 0.0, 0.0, 0.0, 0.0, 0.0, 0.0, 0.0, 0.0, 0.0, 0.0, 0.0], [0.1600770652294159, 0.05452116206288338, 0.05973624810576439, 0.020207509398460388, 0.052660420536994934, 0.10011066496372223, 0.11729258298873901, 0.14998742938041687, 0.017248349264264107, 0.05625281110405922, 0.09442035853862762, 0.012046902440488338, 0.020297689363360405, 0.018244562670588493, 0.06689620018005371, 0.0, 0.0, 0.0, 0.0, 0.0, 0.0, 0.0, 0.0, 0.0, 0.0, 0.0, 0.0, 0.0, 0.0, 0.0, 0.0, 0.0, 0.0, 0.0, 0.0], [0.17850053310394287, 0.04271137714385986, 0.058762893080711365, 0.025501543655991554, 0.02821972779929638, 0.0939595028758049, 0.035697728395462036, 0.03853301703929901, 0.027574095875024796, 0.1241721510887146, 0.0990019142627716, 0.029919547960162163, 0.041689127683639526, 0.030038554221391678, 0.08029218018054962, 0.06542611122131348, 0.0, 0.0, 0.0, 0.0, 0.0, 0.0, 0.0, 0.0, 0.0, 0.0, 0.0, 0.0, 0.0, 0.0, 0.0, 0.0, 0.0, 0.0, 0.0], [0.08262614160776138, 0.014221647754311562, 0.03910335525870323, 0.005809776950627565, 0.14161062240600586, 0.08671101182699203, 0.05503496155142784, 0.15626990795135498, 0.0023281793110072613, 0.11679321527481079, 0.08067944645881653, 0.0021917971316725016, 0.09792862087488174, 0.002736869966611266, 0.03297453001141548, 0.0803784728050232, 0.002601499669253826, 0.0, 0.0, 0.0, 0.0, 0.0, 0.0, 0.0, 0.0, 0.0, 0.0, 0.0, 0.0, 0.0, 0.0, 0.0, 0.0, 0.0, 0.0], [0.09858328849077225, 0.028320664539933205, 0.05263178423047066, 0.01785864681005478, 0.061636585742235184, 0.08070767670869827, 0.07397960126399994, 0.09560470283031464, 0.009335821494460106, 0.08467232435941696, 0.11269159615039825, 0.018467873334884644, 0.03856261074542999, 0.01105151604861021, 0.06964194774627686, 0.09237802028656006, 0.022560443729162216, 0.03131493553519249, 0.0, 0.0, 0.0, 0.0, 0.0, 0.0, 0.0, 0.0, 0.0, 0.0, 0.0, 0.0, 0.0, 0.0, 0.0, 0.0, 0.0], [0.1495792120695114, 0.013048066757619381, 0.03394852951169014, 0.015061772428452969, 0.045098863542079926, 0.08479966223239899, 0.027256976813077927, 0.17206285893917084, 0.01685032993555069, 0.10883238166570663, 0.11793848127126694, 0.008323261514306068, 0.016134323552250862, 0.017726469784975052, 0.02617342211306095, 0.05189086124300957, 0.008976079523563385, 0.010605712421238422, 0.0756927952170372, 0.0, 0.0, 0.0, 0.0, 0.0, 0.0, 0.0, 0.0, 0.0, 0.0, 0.0, 0.0, 0.0, 0.0, 0.0, 0.0], [0.2303973287343979, 0.024296829476952553, 0.02655998058617115, 0.03924618288874626, 0.04230225458741188, 0.049243416637182236, 0.0079794405028224, 0.07322089374065399, 0.03455187380313873, 0.06601922959089279, 0.03830171003937721, 0.03672323375940323, 0.024140125140547752, 0.037105266004800797, 0.028557149693369865, 0.054463941603899, 0.03901508450508118, 0.015944404527544975, 0.04610009491443634, 0.0858316570520401, 0.0, 0.0, 0.0, 0.0, 0.0, 0.0, 0.0, 0.0, 0.0, 0.0, 0.0, 0.0, 0.0, 0.0, 0.0], [0.056916579604148865, 0.0062250252813100815, 0.011754426173865795, 0.0035496805794537067, 0.07110724598169327, 0.08006571978330612, 0.02216235361993313, 0.11016801744699478, 0.00104849215131253, 0.08122196793556213, 0.026672059670090675, 0.00219608168117702, 0.030598554760217667, 0.0012014041421934962, 0.014937774278223515, 0.14736875891685486, 0.0026267545763403177, 0.03338916227221489, 0.11049016565084457, 0.1850445419549942, 0.0012552266707643867, 0.0, 0.0, 0.0, 0.0, 0.0, 0.0, 0.0, 0.0, 0.0, 0.0, 0.0, 0.0, 0.0, 0.0], [0.09241704642772675, 0.02605961076915264, 0.024830598384141922, 0.014753985218703747, 0.07309959828853607, 0.04160081222653389, 0.02818295732140541, 0.10522369295358658, 0.01020055916160345, 0.026716863736510277, 0.03863626718521118, 0.008342116139829159, 0.03416537120938301, 0.011011884547770023, 0.027021972462534904, 0.10600946843624115, 0.009498462080955505, 0.016123080626130104, 0.06257016211748123, 0.19003157317638397, 0.010448908433318138, 0.04305499792098999, 0.0, 0.0, 0.0, 0.0, 0.0, 0.0, 0.0, 0.0, 0.0, 0.0, 0.0, 0.0, 0.0], [0.061736516654491425, 0.0070296223275363445, 0.01948661357164383, 0.010366824455559254, 0.04601287096738815, 0.07236861437559128, 0.02275237813591957, 0.08978493511676788, 0.005041901022195816, 0.0701901763677597, 0.07947880774736404, 0.006475386209785938, 0.03835068270564079, 0.005680922418832779, 0.015840992331504822, 0.05344105884432793, 0.007524983491748571, 0.018862150609493256, 0.09784609079360962, 0.19087877869606018, 0.006985305342823267, 0.02772780880331993, 0.04613657295703888, 0.0, 0.0, 0.0, 0.0, 0.0, 0.0, 0.0, 0.0, 0.0, 0.0, 0.0, 0.0], [0.043498445302248, 0.006029139272868633, 0.016271814703941345, 0.004962893668562174, 0.092327781021595, 0.05643606558442116, 0.024273188784718513, 0.10004424303770065, 0.0013475841842591763, 0.046952661126852036, 0.04337000846862793, 0.002612093463540077, 0.025980042293667793, 0.001536774798296392, 0.01381173636764288, 0.12162506580352783, 0.0030840584076941013, 0.014781148172914982, 0.08252862840890884, 0.20843428373336792, 0.002105811145156622, 0.033566392958164215, 0.04992128908634186, 0.004498819820582867, 0.0, 0.0, 0.0, 0.0, 0.0, 0.0, 0.0, 0.0, 0.0, 0.0, 0.0], [0.05493931844830513, 0.005164694972336292, 0.013282540254294872, 0.006816815119236708, 0.08581957966089249, 0.04258367791771889, 0.010111803188920021, 0.10901318490505219, 0.0030670405831187963, 0.04195145517587662, 0.03668756037950516, 0.0038776055444031954, 0.03639628365635872, 0.0036428309977054596, 0.015713095664978027, 0.045142803341150284, 0.004770637024194002, 0.010733411647379398, 0.12949080765247345, 0.18343371152877808, 0.005763917230069637, 0.06008812412619591, 0.064203642308712, 0.008479914627969265, 0.01882552169263363, 0.0, 0.0, 0.0, 0.0, 0.0, 0.0, 0.0, 0.0, 0.0, 0.0], [0.1161927878856659, 0.02400818094611168, 0.0175008624792099, 0.022795293480157852, 0.05027655139565468, 0.032025475054979324, 0.020647751167416573, 0.03974742069840431, 0.023735960945487022, 0.026677893474698067, 0.01885642670094967, 0.028171351179480553, 0.03460879996418953, 0.026643700897693634, 0.02276809886097908, 0.02357735112309456, 0.031199190765619278, 0.022620439529418945, 0.09706809371709824, 0.06436190009117126, 0.0325143076479435, 0.045572031289339066, 0.04268261417746544, 0.028252847492694855, 0.025809552520513535, 0.0816851258277893, 0.0, 0.0, 0.0, 0.0, 0.0, 0.0, 0.0, 0.0, 0.0], [0.11220825463533401, 0.005275932140648365, 0.01370137371122837, 0.006475642789155245, 0.058257464319467545, 0.055918365716934204, 0.013027253560721874, 0.10451258718967438, 0.00401367386803031, 0.040113665163517, 0.03787229210138321, 0.00317452778108418, 0.01212999876588583, 0.004096257966011763, 0.007334528956562281, 0.017732810229063034, 0.003475234843790531, 0.0030595529824495316, 0.09483390301465988, 0.2000264972448349, 0.005673971027135849, 0.01637454330921173, 0.017230210825800896, 0.004368434194475412, 0.009308066219091415, 0.09713462740182877, 0.05267033353447914, 0.0, 0.0, 0.0, 0.0, 0.0, 0.0, 0.0, 0.0], [0.061152663081884384, 0.004939323756843805, 0.009762824513018131, 0.0052271680906414986, 0.036462750285863876, 0.03137054294347763, 0.008218888193368912, 0.11535760015249252, 0.0032728626392781734, 0.0382491871714592, 0.033371761441230774, 0.0021793763153254986, 0.0076929605565965176, 0.0034548048861324787, 0.009085443802177906, 0.027900520712137222, 0.002366592176258564, 0.0039482382126152515, 0.0407714806497097, 0.2757468819618225, 0.00354666355997324, 0.012455104850232601, 0.03261315077543259, 0.003209813730791211, 0.0036030923947691917, 0.100096195936203, 0.08892866224050522, 0.035015448927879333, 0.0, 0.0, 0.0, 0.0, 0.0, 0.0, 0.0], [0.11957033723592758, 0.008050519973039627, 0.013377298600971699, 0.007089272607117891, 0.02527538873255253, 0.05149080976843834, 0.006585440132766962, 0.061659809201955795, 0.005620485637336969, 0.05561487004160881, 0.027291802689433098, 0.004286486189812422, 0.007698432542383671, 0.005996248219162226, 0.007942019030451775, 0.02879050187766552, 0.00487096980214119, 0.004313755314797163, 0.02622806653380394, 0.15385551750659943, 0.010709956288337708, 0.009564644657075405, 0.02917838655412197, 0.005329274106770754, 0.008051515556871891, 0.07812705636024475, 0.10984012484550476, 0.0295210350304842, 0.09406992048025131, 0.0, 0.0, 0.0, 0.0, 0.0, 0.0], [0.02588074654340744, 0.0032868769485503435, 0.009190615266561508, 0.002271318808197975, 0.04206257686018944, 0.0403556153178215, 0.01510707288980484, 0.04801338165998459, 0.0008096100063994527, 0.039064228534698486, 0.02656681463122368, 0.0015204478986561298, 0.021220175549387932, 0.000953954178839922, 0.007810371927917004, 0.03313515707850456, 0.00187924993224442, 0.010119677521288395, 0.06751003116369247, 0.12262913584709167, 0.0015832229983061552, 0.02216804213821888, 0.030785217881202698, 0.004318808671087027, 0.018729006871581078, 0.1447751820087433, 0.06957432627677917, 0.1138874888420105, 0.07182327657938004, 0.0029684745240956545, 0.0, 0.0, 0.0, 0.0, 0.0], [0.04612509533762932, 0.00492937071248889, 0.011905023828148842, 0.005939909722656012, 0.050862327218055725, 0.03915584087371826, 0.011702247895300388, 0.07777238637208939, 0.002722494537010789, 0.02933071367442608, 0.03543661907315254, 0.0025086584500968456, 0.011883250437676907, 0.0029638558626174927, 0.008878667838871479, 0.018936673179268837, 0.002804590156301856, 0.0040669250302016735, 0.06637167185544968, 0.16173601150512695, 0.0040747434832155704, 0.017417892813682556, 0.048458121716976166, 0.005489853676408529, 0.014467370696365833, 0.0888427197933197, 0.05744139105081558, 0.048157576471567154, 0.09182099997997284, 0.0047510238364338875, 0.023045990616083145, 0.0, 0.0, 0.0, 0.0], [0.0286165289580822, 0.0035397137980908155, 0.01282575074583292, 0.003731105010956526, 0.02213282883167267, 0.026339072734117508, 0.015483635477721691, 0.04692448303103447, 0.0016770156798884273, 0.05343088507652283, 0.038187287747859955, 0.0025294902734458447, 0.02768225036561489, 0.0019447174854576588, 0.010427964851260185, 0.020306391641497612, 0.0030831180047243834, 0.008337553590536118, 0.061474431306123734, 0.05695466697216034, 0.003090921090915799, 0.019787291064858437, 0.0377042256295681, 0.004031909629702568, 0.02077089250087738, 0.12126165628433228, 0.08733709156513214, 0.07036233693361282, 0.09933114796876907, 0.005798672791570425, 0.06381495296955109, 0.02107994444668293, 0.0, 0.0, 0.0], [0.022769225761294365, 0.0023638138081878424, 0.006953612435609102, 0.0009745153947733343, 0.03343130648136139, 0.0309631135314703, 0.012881079688668251, 0.07639691233634949, 0.00026210350915789604, 0.03044992871582508, 0.03674256056547165, 0.0005670604878105223, 0.014569035731256008, 0.0003055330307688564, 0.005948363337665796, 0.022492557764053345, 0.0007025580853223801, 0.004866444040089846, 0.06026182696223259, 0.1558590680360794, 0.0005001772078685462, 0.019988080486655235, 0.03086848370730877, 0.0031281497795134783, 0.012151172384619713, 0.11994657665491104, 0.07597391307353973, 0.09628817439079285, 0.07584253698587418, 0.0010643767891451716, 0.03271331265568733, 0.011111109517514706, 0.0006632998702116311, 0.0, 0.0], [0.06755812466144562, 0.0033527931664139032, 0.00897221453487873, 0.003402543719857931, 0.05607307702302933, 0.030404705554246902, 0.013628300279378891, 0.07952425628900528, 0.0025889384560287, 0.03472939133644104, 0.01531597413122654, 0.002527103293687105, 0.007685467135161161, 0.0026928249280899763, 0.00711300503462553, 0.026128467172384262, 0.002773369662463665, 0.00706949969753623, 0.05076206848025322, 0.17593896389007568, 0.0039354413747787476, 0.010542861185967922, 0.012697333469986916, 0.002831442980095744, 0.004983489401638508, 0.056103698909282684, 0.10278657078742981, 0.07864399999380112, 0.06361376494169235, 0.004290641751140356, 0.012449044734239578, 0.007846906781196594, 0.0035741645842790604, 0.037459537386894226, 0.0], [0.058894261717796326, 0.004834294319152832, 0.00881623849272728, 0.004917600657790899, 0.05724450200796127, 0.04719964414834976, 0.010384353809058666, 0.04373682290315628, 0.0032532166223973036, 0.027000516653060913, 0.015386003069579601, 0.005444497801363468, 0.01830442249774933, 0.003610058454796672, 0.011856132186949253, 0.07255370169878006, 0.006018081214278936, 0.006411904469132423, 0.05586157739162445, 0.08374673128128052, 0.003973668906837702, 0.01859060488641262, 0.019445111975073814, 0.0038806768134236336, 0.008932654745876789, 0.12242709845304489, 0.040986318141222, 0.07429765164852142, 0.05774557590484619, 0.0063186343759298325, 0.01308412104845047, 0.023065797984600067, 0.005796521902084351, 0.04094136878848076, 0.015039587393403053]], [[1.0, 0.0, 0.0, 0.0, 0.0, 0.0, 0.0, 0.0, 0.0, 0.0, 0.0, 0.0, 0.0, 0.0, 0.0, 0.0, 0.0, 0.0, 0.0, 0.0, 0.0, 0.0, 0.0, 0.0, 0.0, 0.0, 0.0, 0.0, 0.0, 0.0, 0.0, 0.0, 0.0, 0.0, 0.0], [0.9780336022377014, 0.021966353058815002, 0.0, 0.0, 0.0, 0.0, 0.0, 0.0, 0.0, 0.0, 0.0, 0.0, 0.0, 0.0, 0.0, 0.0, 0.0, 0.0, 0.0, 0.0, 0.0, 0.0, 0.0, 0.0, 0.0, 0.0, 0.0, 0.0, 0.0, 0.0, 0.0, 0.0, 0.0, 0.0, 0.0], [0.5068987011909485, 0.42791467905044556, 0.06518660485744476, 0.0, 0.0, 0.0, 0.0, 0.0, 0.0, 0.0, 0.0, 0.0, 0.0, 0.0, 0.0, 0.0, 0.0, 0.0, 0.0, 0.0, 0.0, 0.0, 0.0, 0.0, 0.0, 0.0, 0.0, 0.0, 0.0, 0.0, 0.0, 0.0, 0.0, 0.0, 0.0], [0.34595057368278503, 0.23385094106197357, 0.19138814508914948, 0.22881031036376953, 0.0, 0.0, 0.0, 0.0, 0.0, 0.0, 0.0, 0.0, 0.0, 0.0, 0.0, 0.0, 0.0, 0.0, 0.0, 0.0, 0.0, 0.0, 0.0, 0.0, 0.0, 0.0, 0.0, 0.0, 0.0, 0.0, 0.0, 0.0, 0.0, 0.0, 0.0], [0.27859705686569214, 0.17525731027126312, 0.11037100106477737, 0.2518094778060913, 0.18396517634391785, 0.0, 0.0, 0.0, 0.0, 0.0, 0.0, 0.0, 0.0, 0.0, 0.0, 0.0, 0.0, 0.0, 0.0, 0.0, 0.0, 0.0, 0.0, 0.0, 0.0, 0.0, 0.0, 0.0, 0.0, 0.0, 0.0, 0.0, 0.0, 0.0, 0.0], [0.20804187655448914, 0.0882713571190834, 0.061608124524354935, 0.25848424434661865, 0.27056992053985596, 0.11302444338798523, 0.0, 0.0, 0.0, 0.0, 0.0, 0.0, 0.0, 0.0, 0.0, 0.0, 0.0, 0.0, 0.0, 0.0, 0.0, 0.0, 0.0, 0.0, 0.0, 0.0, 0.0, 0.0, 0.0, 0.0, 0.0, 0.0, 0.0, 0.0, 0.0], [0.16325624287128448, 0.12141189724206924, 0.11990704387426376, 0.1616644561290741, 0.10774076730012894, 0.29750359058380127, 0.028515974059700966, 0.0, 0.0, 0.0, 0.0, 0.0, 0.0, 0.0, 0.0, 0.0, 0.0, 0.0, 0.0, 0.0, 0.0, 0.0, 0.0, 0.0, 0.0, 0.0, 0.0, 0.0, 0.0, 0.0, 0.0, 0.0, 0.0, 0.0, 0.0], [0.1228092685341835, 0.03978985175490379, 0.045145418494939804, 0.1357850730419159, 0.09269555658102036, 0.11808723956346512, 0.3369845747947693, 0.10870300233364105, 0.0, 0.0, 0.0, 0.0, 0.0, 0.0, 0.0, 0.0, 0.0, 0.0, 0.0, 0.0, 0.0, 0.0, 0.0, 0.0, 0.0, 0.0, 0.0, 0.0, 0.0, 0.0, 0.0, 0.0, 0.0, 0.0, 0.0], [0.07854471355676651, 0.035703860223293304, 0.02910536900162697, 0.05200909078121185, 0.10322199016809464, 0.062225185334682465, 0.06801242381334305, 0.1702916920185089, 0.40088576078414917, 0.0, 0.0, 0.0, 0.0, 0.0, 0.0, 0.0, 0.0, 0.0, 0.0, 0.0, 0.0, 0.0, 0.0, 0.0, 0.0, 0.0, 0.0, 0.0, 0.0, 0.0, 0.0, 0.0, 0.0, 0.0, 0.0], [0.08555343747138977, 0.045082129538059235, 0.02075529471039772, 0.05748789384961128, 0.058533698320388794, 0.03812539577484131, 0.031640272587537766, 0.14470815658569336, 0.39396733045578003, 0.12414635717868805, 0.0, 0.0, 0.0, 0.0, 0.0, 0.0, 0.0, 0.0, 0.0, 0.0, 0.0, 0.0, 0.0, 0.0, 0.0, 0.0, 0.0, 0.0, 0.0, 0.0, 0.0, 0.0, 0.0, 0.0, 0.0], [0.03400759398937225, 0.005801304243505001, 0.004264357499778271, 0.014554583467543125, 0.002058125101029873, 0.010052239522337914, 0.015462431125342846, 0.014919951558113098, 0.07456012070178986, 0.8029415607452393, 0.0213778056204319, 0.0, 0.0, 0.0, 0.0, 0.0, 0.0, 0.0, 0.0, 0.0, 0.0, 0.0, 0.0, 0.0, 0.0, 0.0, 0.0, 0.0, 0.0, 0.0, 0.0, 0.0, 0.0, 0.0, 0.0], [0.036581333726644516, 0.008552635088562965, 0.009085927158594131, 0.01071860920637846, 0.031510576605796814, 0.0778607502579689, 0.02809949964284897, 0.05203400179743767, 0.0917564332485199, 0.24980762600898743, 0.22384561598300934, 0.18014705181121826, 0.0, 0.0, 0.0, 0.0, 0.0, 0.0, 0.0, 0.0, 0.0, 0.0, 0.0, 0.0, 0.0, 0.0, 0.0, 0.0, 0.0, 0.0, 0.0, 0.0, 0.0, 0.0, 0.0], [0.03899509459733963, 0.0139530710875988, 0.027150368317961693, 0.015978634357452393, 0.00606887461617589, 0.015332893468439579, 0.0073584443889558315, 0.008143595419824123, 0.09236103296279907, 0.09582391381263733, 0.397089421749115, 0.2250826209783554, 0.05666204169392586, 0.0, 0.0, 0.0, 0.0, 0.0, 0.0, 0.0, 0.0, 0.0, 0.0, 0.0, 0.0, 0.0, 0.0, 0.0, 0.0, 0.0, 0.0, 0.0, 0.0, 0.0, 0.0], [0.02941763959825039, 0.006853986997157335, 0.005433529149740934, 0.008306890726089478, 0.015738284215331078, 0.008708913810551167, 0.008349099196493626, 0.023920102044939995, 0.046946827322244644, 0.04814495891332626, 0.09309985488653183, 0.15290872752666473, 0.14854185283184052, 0.403629332780838, 0.0, 0.0, 0.0, 0.0, 0.0, 0.0, 0.0, 0.0, 0.0, 0.0, 0.0, 0.0, 0.0, 0.0, 0.0, 0.0, 0.0, 0.0, 0.0, 0.0, 0.0], [0.0371282622218132, 0.007584461942315102, 0.0035451475996524096, 0.008117972873151302, 0.018834188580513, 0.005904974415898323, 0.009632602334022522, 0.011076663620769978, 0.04249943420290947, 0.015083977952599525, 0.01984347030520439, 0.11177283525466919, 0.12816865742206573, 0.3331787586212158, 0.24762868881225586, 0.0, 0.0, 0.0, 0.0, 0.0, 0.0, 0.0, 0.0, 0.0, 0.0, 0.0, 0.0, 0.0, 0.0, 0.0, 0.0, 0.0, 0.0, 0.0, 0.0], [0.024791492149233818, 0.002257236745208502, 0.0019112302688881755, 0.003149643773213029, 0.0017746686935424805, 0.0030808590818196535, 0.019880713894963264, 0.0064270999282598495, 0.015317474491894245, 0.00322660431265831, 0.020296061411499977, 0.057727329432964325, 0.022555233910679817, 0.08885949105024338, 0.7141123414039612, 0.014632430858910084, 0.0, 0.0, 0.0, 0.0, 0.0, 0.0, 0.0, 0.0, 0.0, 0.0, 0.0, 0.0, 0.0, 0.0, 0.0, 0.0, 0.0, 0.0, 0.0], [0.019352808594703674, 0.0027357195504009724, 0.0027006466407328844, 0.0028164004907011986, 0.0073006232269108295, 0.016268715262413025, 0.005134707782417536, 0.010258648544549942, 0.013791479170322418, 0.03380443900823593, 0.03394480422139168, 0.024110423400998116, 0.05347491428256035, 0.09691004455089569, 0.2761881649494171, 0.2219037413597107, 0.17930378019809723, 0.0, 0.0, 0.0, 0.0, 0.0, 0.0, 0.0, 0.0, 0.0, 0.0, 0.0, 0.0, 0.0, 0.0, 0.0, 0.0, 0.0, 0.0], [0.016778266057372093, 0.0013836658326908946, 0.0012504426995292306, 0.0019532653968781233, 0.0012283086543902755, 0.0034270528703927994, 0.0017710179090499878, 0.0025876869913190603, 0.00995651911944151, 0.007537413854151964, 0.00496312603354454, 0.023668887093663216, 0.017456673085689545, 0.06967749446630478, 0.2612769901752472, 0.24082402884960175, 0.17677919566631317, 0.15748001635074615, 0.0, 0.0, 0.0, 0.0, 0.0, 0.0, 0.0, 0.0, 0.0, 0.0, 0.0, 0.0, 0.0, 0.0, 0.0, 0.0, 0.0], [0.054750435054302216, 0.009201953187584877, 0.003783299820497632, 0.006891882047057152, 0.007006872445344925, 0.005267789121717215, 0.0019135894253849983, 0.006649009883403778, 0.022490736097097397, 0.007203699089586735, 0.039859890937805176, 0.026306964457035065, 0.03598392382264137, 0.10654620826244354, 0.14742794632911682, 0.02953191287815571, 0.14834171533584595, 0.23425260186195374, 0.1065896525979042, 0.0, 0.0, 0.0, 0.0, 0.0, 0.0, 0.0, 0.0, 0.0, 0.0, 0.0, 0.0, 0.0, 0.0, 0.0, 0.0], [0.08004875481128693, 0.00356274307705462, 0.0033941506408154964, 0.01128558162599802, 0.012208588421344757, 0.001943496405147016, 0.0039208270609378815, 0.02411663718521595, 0.02334999293088913, 0.008975881151854992, 0.005343946628272533, 0.025336064398288727, 0.013870181515812874, 0.101036436855793, 0.039738185703754425, 0.08061375468969345, 0.12086465954780579, 0.1229468286037445, 0.1413252204656601, 0.17611810564994812, 0.0, 0.0, 0.0, 0.0, 0.0, 0.0, 0.0, 0.0, 0.0, 0.0, 0.0, 0.0, 0.0, 0.0, 0.0], [0.013053354807198048, 0.0019795617554336786, 0.001618212554603815, 0.0014078527456149459, 0.0014868243597447872, 0.0013099174248054624, 0.0016642942791804671, 0.0025665166322141886, 0.003062667790800333, 0.010340574197471142, 0.007755253463983536, 0.00892941839993, 0.008869549259543419, 0.017165128141641617, 0.07265802472829819, 0.08664458245038986, 0.06223948672413826, 0.16528469324111938, 0.07255080342292786, 0.09155550599098206, 0.36785784363746643, 0.0, 0.0, 0.0, 0.0, 0.0, 0.0, 0.0, 0.0, 0.0, 0.0, 0.0, 0.0, 0.0, 0.0], [0.012316010892391205, 0.001159237464889884, 0.0007622403791174293, 0.0019507519900798798, 0.0012718505458906293, 0.0006892286473885179, 0.0005458979867398739, 0.0026030063163489103, 0.00391766894608736, 0.0005409368313848972, 0.0012741906102746725, 0.006503170356154442, 0.005551594775170088, 0.01797344908118248, 0.013353332877159119, 0.038051243871450424, 0.043033987283706665, 0.03958654776215553, 0.022300660610198975, 0.03898366913199425, 0.5949543118476868, 0.15267710387706757, 0.0, 0.0, 0.0, 0.0, 0.0, 0.0, 0.0, 0.0, 0.0, 0.0, 0.0, 0.0, 0.0], [0.013724951073527336, 0.001612572348676622, 0.0003289874875918031, 0.0010084322420880198, 0.0011758024338632822, 0.0007259275298565626, 0.0005918759852647781, 0.0009615601156838238, 0.0031186207197606564, 0.005970010533928871, 0.0030334624461829662, 0.0033444964792579412, 0.008407549932599068, 0.013658502139151096, 0.0056070382706820965, 0.005321720149368048, 0.019289938732981682, 0.029109640046954155, 0.013599630445241928, 0.031337786465883255, 0.2513725459575653, 0.5305221080780029, 0.05617693439126015, 0.0, 0.0, 0.0, 0.0, 0.0, 0.0, 0.0, 0.0, 0.0, 0.0, 0.0, 0.0], [0.016002370044589043, 0.0009560453472658992, 0.0005680464091710746, 0.0015549745876342058, 0.00157557160127908, 0.0006219729548320174, 0.0011257653823122382, 0.0014368729898706079, 0.0023100462276488543, 0.0009028317872434855, 0.001392147270962596, 0.0036725937388837337, 0.003632282605394721, 0.009217409417033195, 0.008623880334198475, 0.02702573500573635, 0.021376444026827812, 0.03330106660723686, 0.03885402902960777, 0.039058420807123184, 0.26596635580062866, 0.1937260925769806, 0.09792878478765488, 0.22917020320892334, 0.0, 0.0, 0.0, 0.0, 0.0, 0.0, 0.0, 0.0, 0.0, 0.0, 0.0], [0.009987280704081059, 0.0009651741711422801, 0.0006041587330400944, 0.0009222139487974346, 0.0008805804536677897, 0.0005974339437671006, 0.00021149191888980567, 0.0006455674883909523, 0.001241767662577331, 0.000685970124322921, 0.0007031501154415309, 0.0014577411348000169, 0.0018487724009901285, 0.005077200476080179, 0.0019275667145848274, 0.012413390912115574, 0.008568290621042252, 0.01207366120070219, 0.02193666435778141, 0.02919415570795536, 0.14272773265838623, 0.09834031760692596, 0.11847669631242752, 0.31631967425346375, 0.21219336986541748, 0.0, 0.0, 0.0, 0.0, 0.0, 0.0, 0.0, 0.0, 0.0, 0.0], [0.01686086691915989, 0.0019703253637999296, 0.0008858375367708504, 0.001765639171935618, 0.002392831491306424, 0.0005271151894703507, 0.0003617889597080648, 0.0006361051928251982, 0.0022411306854337454, 0.0008515844820067286, 0.0003815779637079686, 0.002274831524118781, 0.0018798484234139323, 0.0072922417894005775, 0.002146675018593669, 0.0025263060815632343, 0.010355671867728233, 0.011969322338700294, 0.006590907461941242, 0.012827481143176556, 0.12130499631166458, 0.06624657660722733, 0.14612387120723724, 0.28280729055404663, 0.24703308939933777, 0.04974612966179848, 0.0, 0.0, 0.0, 0.0, 0.0, 0.0, 0.0, 0.0, 0.0], [0.026405004784464836, 0.0014231005916371942, 0.001623447285965085, 0.0025764035526663065, 0.0026897031348198652, 0.0012257532216608524, 0.0010898748878389597, 0.0009538459125906229, 0.0019223559647798538, 0.002411528956145048, 0.002457943046465516, 0.0014354210579767823, 0.0053784968331456184, 0.004732348490506411, 0.0019391172099858522, 0.00795750878751278, 0.006086890120059252, 0.012657436542212963, 0.011602523736655712, 0.029096627607941628, 0.08598875254392624, 0.0766589343547821, 0.03624013811349869, 0.1313336342573166, 0.19490274786949158, 0.21766328811645508, 0.131547212600708, 0.0, 0.0, 0.0, 0.0, 0.0, 0.0, 0.0, 0.0], [0.02389606647193432, 0.002067498629912734, 0.00250938069075346, 0.001851199776865542, 0.003160967491567135, 0.0009005634346976876, 0.00026854246971197426, 0.0005213557160459459, 0.0017872133757919073, 0.001930896658450365, 0.0010158229852095246, 0.0010442673228681087, 0.0015677057672291994, 0.004060101695358753, 0.0008207389619201422, 0.0033582989126443863, 0.004117120988667011, 0.007223030552268028, 0.014547307975590229, 0.04635155200958252, 0.0560186393558979, 0.03840016946196556, 0.04160997271537781, 0.10494539886713028, 0.1578821837902069, 0.1211879551410675, 0.1909027248620987, 0.16605335474014282, 0.0, 0.0, 0.0, 0.0, 0.0, 0.0, 0.0], [0.040757786482572556, 0.003958360757678747, 0.00569809740409255, 0.003957983106374741, 0.001404779264703393, 0.0003276944044046104, 0.00064019241835922, 0.001204583328217268, 0.002238558605313301, 0.0007448499090969563, 0.003836578456684947, 0.0016206827713176608, 0.0010148310102522373, 0.004261188209056854, 0.0009652964654378593, 0.0003954317653551698, 0.00540107162669301, 0.0072633977979421616, 0.005766813177615404, 0.029991865158081055, 0.04173658788204193, 0.017527665942907333, 0.025155048817396164, 0.0756525918841362, 0.24542631208896637, 0.06668497622013092, 0.26483187079429626, 0.055024128407239914, 0.08651076257228851, 0.0, 0.0, 0.0, 0.0, 0.0, 0.0], [0.01178479939699173, 0.0013947566039860249, 0.0009515659185126424, 0.0008953211945481598, 0.0010372712276875973, 0.0004972645547240973, 0.0002528386248741299, 0.00043175704195164144, 0.0005345692043192685, 0.0002822922542691231, 0.00042747307452373207, 0.0005479553947225213, 0.0008038745145313442, 0.0011037474032491446, 0.0010882883798331022, 0.0026353755965828896, 0.0020033151376992464, 0.0029394496232271194, 0.005114209838211536, 0.009162317961454391, 0.020236417651176453, 0.01439725887030363, 0.014386607334017754, 0.05287305638194084, 0.04425809904932976, 0.0717473104596138, 0.08077166229486465, 0.11779718101024628, 0.14486126601696014, 0.394782692193985, 0.0, 0.0, 0.0, 0.0, 0.0], [0.012992855161428452, 0.0016676136292517185, 0.001002109027467668, 0.0011761258356273174, 0.0007638343959115446, 0.0004005827649962157, 0.00012849252379965037, 0.00010518696217332035, 0.0005606437916867435, 0.00014079395623411983, 0.0001220757985720411, 0.000398598873289302, 0.0002298831386724487, 0.001107781077735126, 0.00036310323048383, 0.0008891793549992144, 0.0014402432134374976, 0.0014520182739943266, 0.00263056973926723, 0.0031673854682594538, 0.017224665731191635, 0.010722341947257519, 0.00502299889922142, 0.04577847570180893, 0.047519613057374954, 0.027067067101597786, 0.052168600261211395, 0.05500786751508713, 0.11481010913848877, 0.4456883668899536, 0.14825084805488586, 0.0, 0.0, 0.0, 0.0], [0.011720010079443455, 0.0009638661285862327, 0.0016792785609140992, 0.0009598794276826084, 0.001183534157462418, 0.0003587341052480042, 0.0001312519598286599, 0.00020985868468414992, 0.0003518573066685349, 0.00011673857807181776, 0.00033267238177359104, 0.00020899824448861182, 0.00016304050222970545, 0.0005591600784100592, 0.00017877915524877608, 0.000584753172006458, 0.0006520420429296792, 0.0008100883569568396, 0.000823201728053391, 0.006545143201947212, 0.007790664676576853, 0.00662251329049468, 0.0050529660657048225, 0.0144898546859622, 0.02494208700954914, 0.01901032216846943, 0.02852548100054264, 0.0367877222597599, 0.14266948401927948, 0.23489899933338165, 0.300854355096817, 0.14982260763645172, 0.0, 0.0, 0.0], [0.011463266797363758, 0.000901482068002224, 0.0005477446247823536, 0.0005869872402399778, 0.0005616631242446601, 0.00023434778267983347, 0.00013944681268185377, 0.00019926810637116432, 0.0003140304470434785, 0.00012514638365246356, 0.00021479526185430586, 0.00024813463096506894, 0.0002290617412654683, 0.0005020767566747963, 0.00045190248056314886, 0.0006676737102679908, 0.0007638589013367891, 0.0009467157069593668, 0.0010094367899000645, 0.003719571279361844, 0.007444887887686491, 0.004500559065490961, 0.0018344339914619923, 0.012973613105714321, 0.015522472560405731, 0.021838264539837837, 0.016228951513767242, 0.024697452783584595, 0.038053225725889206, 0.16302341222763062, 0.1182604506611824, 0.22884772717952728, 0.32294800877571106, 0.0, 0.0], [0.009539725258946419, 0.0014243274927139282, 0.0009944579796865582, 0.0009655578178353608, 0.0007854430004954338, 0.0003016060800291598, 0.00011159553105244413, 0.0008093688520602882, 0.0004005462978966534, 8.517069363733754e-05, 0.0006307565490715206, 0.00020861538359895349, 0.0002525560848880559, 0.0005451841279864311, 0.00024275555915664881, 0.0005828297580592334, 0.0005503923166543245, 0.001054856227710843, 0.001097913016565144, 0.004033538047224283, 0.0051515474915504456, 0.007251248694956303, 0.003988179378211498, 0.012260381132364273, 0.013561541214585304, 0.03828654810786247, 0.06675270944833755, 0.013111520558595657, 0.10093272477388382, 0.13179126381874084, 0.054323069751262665, 0.15251486003398895, 0.3083246052265167, 0.06713256239891052, 0.0], [0.009234578348696232, 0.0018696909537538886, 0.001543498015962541, 0.001287892460823059, 0.0009349422762170434, 0.0002825610863510519, 0.00044942714157514274, 0.0005594997783191502, 0.0003277681826148182, 7.203830318758264e-05, 0.0001065792894223705, 0.00026362467906437814, 0.0003654733009170741, 0.0003748313174583018, 0.00031175382900983095, 0.0008969143382273614, 0.0006347452872432768, 0.0008650010568089783, 0.0008020034874789417, 0.0006307896692305803, 0.0032187842298299074, 0.0038458313792943954, 0.0030004370491951704, 0.00781416054815054, 0.010107212699949741, 0.016721557825803757, 0.007672088220715523, 0.010031217709183693, 0.005356383975595236, 0.0775705948472023, 0.037744466215372086, 0.138091042637825, 0.19567599892616272, 0.030743584036827087, 0.43059301376342773]], [[1.0, 0.0, 0.0, 0.0, 0.0, 0.0, 0.0, 0.0, 0.0, 0.0, 0.0, 0.0, 0.0, 0.0, 0.0, 0.0, 0.0, 0.0, 0.0, 0.0, 0.0, 0.0, 0.0, 0.0, 0.0, 0.0, 0.0, 0.0, 0.0, 0.0, 0.0, 0.0, 0.0, 0.0, 0.0], [0.8970723748207092, 0.10292758792638779, 0.0, 0.0, 0.0, 0.0, 0.0, 0.0, 0.0, 0.0, 0.0, 0.0, 0.0, 0.0, 0.0, 0.0, 0.0, 0.0, 0.0, 0.0, 0.0, 0.0, 0.0, 0.0, 0.0, 0.0, 0.0, 0.0, 0.0, 0.0, 0.0, 0.0, 0.0, 0.0, 0.0], [0.7731763124465942, 0.17108598351478577, 0.055737778544425964, 0.0, 0.0, 0.0, 0.0, 0.0, 0.0, 0.0, 0.0, 0.0, 0.0, 0.0, 0.0, 0.0, 0.0, 0.0, 0.0, 0.0, 0.0, 0.0, 0.0, 0.0, 0.0, 0.0, 0.0, 0.0, 0.0, 0.0, 0.0, 0.0, 0.0, 0.0, 0.0], [0.2190985083580017, 0.0959283784031868, 0.15399755537509918, 0.5309755802154541, 0.0, 0.0, 0.0, 0.0, 0.0, 0.0, 0.0, 0.0, 0.0, 0.0, 0.0, 0.0, 0.0, 0.0, 0.0, 0.0, 0.0, 0.0, 0.0, 0.0, 0.0, 0.0, 0.0, 0.0, 0.0, 0.0, 0.0, 0.0, 0.0, 0.0, 0.0], [0.4932918846607208, 0.12421072274446487, 0.0837896466255188, 0.21044515073299408, 0.08826269209384918, 0.0, 0.0, 0.0, 0.0, 0.0, 0.0, 0.0, 0.0, 0.0, 0.0, 0.0, 0.0, 0.0, 0.0, 0.0, 0.0, 0.0, 0.0, 0.0, 0.0, 0.0, 0.0, 0.0, 0.0, 0.0, 0.0, 0.0, 0.0, 0.0, 0.0], [0.4792534112930298, 0.1148393303155899, 0.05825285241007805, 0.12140919268131256, 0.19296902418136597, 0.0332762636244297, 0.0, 0.0, 0.0, 0.0, 0.0, 0.0, 0.0, 0.0, 0.0, 0.0, 0.0, 0.0, 0.0, 0.0, 0.0, 0.0, 0.0, 0.0, 0.0, 0.0, 0.0, 0.0, 0.0, 0.0, 0.0, 0.0, 0.0, 0.0, 0.0], [0.33760711550712585, 0.1303829401731491, 0.12365781515836716, 0.1684831827878952, 0.0394856296479702, 0.15522710978984833, 0.045156147330999374, 0.0, 0.0, 0.0, 0.0, 0.0, 0.0, 0.0, 0.0, 0.0, 0.0, 0.0, 0.0, 0.0, 0.0, 0.0, 0.0, 0.0, 0.0, 0.0, 0.0, 0.0, 0.0, 0.0, 0.0, 0.0, 0.0, 0.0, 0.0], [0.3124313950538635, 0.10335515439510345, 0.07322123646736145, 0.13077446818351746, 0.08650773763656616, 0.20371736586093903, 0.04714135080575943, 0.042851295322179794, 0.0, 0.0, 0.0, 0.0, 0.0, 0.0, 0.0, 0.0, 0.0, 0.0, 0.0, 0.0, 0.0, 0.0, 0.0, 0.0, 0.0, 0.0, 0.0, 0.0, 0.0, 0.0, 0.0, 0.0, 0.0, 0.0, 0.0], [0.1071995198726654, 0.032564759254455566, 0.04615401476621628, 0.12522780895233154, 0.011105235666036606, 0.03433002904057503, 0.007858380675315857, 0.011366567574441433, 0.6241937875747681, 0.0, 0.0, 0.0, 0.0, 0.0, 0.0, 0.0, 0.0, 0.0, 0.0, 0.0, 0.0, 0.0, 0.0, 0.0, 0.0, 0.0, 0.0, 0.0, 0.0, 0.0, 0.0, 0.0, 0.0, 0.0, 0.0], [0.3028891384601593, 0.07804971933364868, 0.05937647446990013, 0.09426911175251007, 0.1737714558839798, 0.03861626610159874, 0.04802528768777847, 0.03951253741979599, 0.13237620890140533, 0.03311377391219139, 0.0, 0.0, 0.0, 0.0, 0.0, 0.0, 0.0, 0.0, 0.0, 0.0, 0.0, 0.0, 0.0, 0.0, 0.0, 0.0, 0.0, 0.0, 0.0, 0.0, 0.0, 0.0, 0.0, 0.0, 0.0], [0.13027670979499817, 0.04213492572307587, 0.0725821703672409, 0.1092287227511406, 0.036304377019405365, 0.1911255121231079, 0.033698007464408875, 0.05715862661600113, 0.11187218129634857, 0.16414125263690948, 0.051477473229169846, 0.0, 0.0, 0.0, 0.0, 0.0, 0.0, 0.0, 0.0, 0.0, 0.0, 0.0, 0.0, 0.0, 0.0, 0.0, 0.0, 0.0, 0.0, 0.0, 0.0, 0.0, 0.0, 0.0, 0.0], [0.09464415907859802, 0.02925342321395874, 0.038119424134492874, 0.1498957723379135, 0.020670872181653976, 0.07631713896989822, 0.008947467431426048, 0.0200450848788023, 0.305785596370697, 0.0475209578871727, 0.010440835729241371, 0.19835931062698364, 0.0, 0.0, 0.0, 0.0, 0.0, 0.0, 0.0, 0.0, 0.0, 0.0, 0.0, 0.0, 0.0, 0.0, 0.0, 0.0, 0.0, 0.0, 0.0, 0.0, 0.0, 0.0, 0.0], [0.14440792798995972, 0.06329523772001266, 0.07617762684822083, 0.07194560021162033, 0.03394106775522232, 0.08442069590091705, 0.035940222442150116, 0.07685539871454239, 0.1158827468752861, 0.059519533067941666, 0.061835020780563354, 0.14841707050800323, 0.027361802756786346, 0.0, 0.0, 0.0, 0.0, 0.0, 0.0, 0.0, 0.0, 0.0, 0.0, 0.0, 0.0, 0.0, 0.0, 0.0, 0.0, 0.0, 0.0, 0.0, 0.0, 0.0, 0.0], [0.0414787195622921, 0.011494406498968601, 0.017643533647060394, 0.0459972508251667, 0.004085008054971695, 0.013701110146939754, 0.0028709007892757654, 0.004510775674134493, 0.24164845049381256, 0.009729510173201561, 0.002616734942421317, 0.2641770839691162, 0.00805377122014761, 0.3319927752017975, 0.0, 0.0, 0.0, 0.0, 0.0, 0.0, 0.0, 0.0, 0.0, 0.0, 0.0, 0.0, 0.0, 0.0, 0.0, 0.0, 0.0, 0.0, 0.0, 0.0, 0.0], [0.15155857801437378, 0.03772502765059471, 0.027330663055181503, 0.06052480265498161, 0.030143292620778084, 0.02803485468029976, 0.013341412879526615, 0.022503037005662918, 0.11653434485197067, 0.051899708807468414, 0.010558654554188251, 0.10229874402284622, 0.015167287550866604, 0.14137378334999084, 0.19100584089756012, 0.0, 0.0, 0.0, 0.0, 0.0, 0.0, 0.0, 0.0, 0.0, 0.0, 0.0, 0.0, 0.0, 0.0, 0.0, 0.0, 0.0, 0.0, 0.0, 0.0], [0.2839045226573944, 0.06502401828765869, 0.032383374869823456, 0.02959110401570797, 0.04243201017379761, 0.028469763696193695, 0.04153313860297203, 0.08465300500392914, 0.043854959309101105, 0.02753038890659809, 0.09218151122331619, 0.037511106580495834, 0.04891907796263695, 0.04984966665506363, 0.07913840562105179, 0.0130238002166152, 0.0, 0.0, 0.0, 0.0, 0.0, 0.0, 0.0, 0.0, 0.0, 0.0, 0.0, 0.0, 0.0, 0.0, 0.0, 0.0, 0.0, 0.0, 0.0], [0.04885758459568024, 0.014007366262376308, 0.019542621448636055, 0.07337553054094315, 0.010089145973324776, 0.03972569853067398, 0.004310052376240492, 0.01059032790362835, 0.1530359536409378, 0.026499023661017418, 0.005417254287749529, 0.09647627919912338, 0.012806722894310951, 0.20478655397891998, 0.14743395149707794, 0.00968918763101101, 0.12335669249296188, 0.0, 0.0, 0.0, 0.0, 0.0, 0.0, 0.0, 0.0, 0.0, 0.0, 0.0, 0.0, 0.0, 0.0, 0.0, 0.0, 0.0, 0.0], [0.05943119898438454, 0.025951173156499863, 0.03547392413020134, 0.039079759269952774, 0.018049316480755806, 0.02308722957968712, 0.010503753088414669, 0.030069533735513687, 0.09918280690908432, 0.03614409267902374, 0.01841004006564617, 0.11741487681865692, 0.017167571932077408, 0.12769994139671326, 0.08459020406007767, 0.037902723997831345, 0.14577233791351318, 0.07406949251890182, 0.0, 0.0, 0.0, 0.0, 0.0, 0.0, 0.0, 0.0, 0.0, 0.0, 0.0, 0.0, 0.0, 0.0, 0.0, 0.0, 0.0], [0.2724890410900116, 0.04502272605895996, 0.04612239822745323, 0.042051978409290314, 0.038135625422000885, 0.054544251412153244, 0.02570655196905136, 0.019254149869084358, 0.04536459222435951, 0.05106880143284798, 0.021479345858097076, 0.0514293871819973, 0.03568309545516968, 0.05110247805714607, 0.04221022501587868, 0.03813280537724495, 0.05789824575185776, 0.023540077731013298, 0.03876427188515663, 0.0, 0.0, 0.0, 0.0, 0.0, 0.0, 0.0, 0.0, 0.0, 0.0, 0.0, 0.0, 0.0, 0.0, 0.0, 0.0], [0.2398124486207962, 0.03723885118961334, 0.04641323164105415, 0.018074780702590942, 0.028609462082386017, 0.031563613563776016, 0.02326364256441593, 0.05314117670059204, 0.0367298349738121, 0.04436156526207924, 0.014090003445744514, 0.04079655930399895, 0.013384053483605385, 0.04018274322152138, 0.025124987587332726, 0.02228318713605404, 0.04457436874508858, 0.026357240974903107, 0.018502121791243553, 0.1954960823059082, 0.0, 0.0, 0.0, 0.0, 0.0, 0.0, 0.0, 0.0, 0.0, 0.0, 0.0, 0.0, 0.0, 0.0, 0.0], [0.03447255492210388, 0.007049778942018747, 0.00851623248308897, 0.019823292270302773, 0.0020061947870999575, 0.008738482370972633, 0.0013805307680740952, 0.0025849847588688135, 0.1296386569738388, 0.004980520345270634, 0.0014542975695803761, 0.09793513268232346, 0.004242659080773592, 0.1747492253780365, 0.02057536691427231, 0.0029217293485999107, 0.12519219517707825, 0.017666732892394066, 0.008172448724508286, 0.006463977042585611, 0.32143503427505493, 0.0, 0.0, 0.0, 0.0, 0.0, 0.0, 0.0, 0.0, 0.0, 0.0, 0.0, 0.0, 0.0, 0.0], [0.07532122731208801, 0.01738511398434639, 0.026499604806303978, 0.038201138377189636, 0.01346429344266653, 0.017004910856485367, 0.0056827133521437645, 0.008161392994225025, 0.0879102498292923, 0.015652010217308998, 0.004622377455234528, 0.06870011985301971, 0.017068389803171158, 0.11098406463861465, 0.08843358606100082, 0.01554048340767622, 0.08290653675794601, 0.03445708006620407, 0.0349029041826725, 0.022669026628136635, 0.1672758162021637, 0.047156885266304016, 0.0, 0.0, 0.0, 0.0, 0.0, 0.0, 0.0, 0.0, 0.0, 0.0, 0.0, 0.0, 0.0], [0.11039692163467407, 0.017618604004383087, 0.012073236517608166, 0.07903028279542923, 0.04707182198762894, 0.02839345671236515, 0.010853298008441925, 0.03898293152451515, 0.04254176840186119, 0.05313578248023987, 0.010616588406264782, 0.04066742584109306, 0.016578685492277145, 0.05044252425432205, 0.041483115404844284, 0.011694190092384815, 0.04894392937421799, 0.045875243842601776, 0.06803464144468307, 0.03145822510123253, 0.0737365111708641, 0.09332359582185745, 0.027047285810112953, 0.0, 0.0, 0.0, 0.0, 0.0, 0.0, 0.0, 0.0, 0.0, 0.0, 0.0, 0.0], [0.05010591447353363, 0.011403631418943405, 0.018980005756020546, 0.048291124403476715, 0.0054781632497906685, 0.027938107028603554, 0.0034753396175801754, 0.009667656384408474, 0.088839590549469, 0.0214597936719656, 0.00918425153940916, 0.06738955527544022, 0.0062937806360423565, 0.11730512976646423, 0.05559388920664787, 0.023259568959474564, 0.08538826555013657, 0.03017236292362213, 0.018553776666522026, 0.04972721263766289, 0.1386994868516922, 0.035930898040533066, 0.0295705683529377, 0.047291941940784454, 0.0, 0.0, 0.0, 0.0, 0.0, 0.0, 0.0, 0.0, 0.0, 0.0, 0.0], [0.03365061804652214, 0.03973433002829552, 0.013943270780146122, 0.02215501293540001, 0.007374105975031853, 0.012534329667687416, 0.003937930334359407, 0.005588034633547068, 0.0527641661465168, 0.011353476904332638, 0.0029761565383523703, 0.06122001260519028, 0.007114531937986612, 0.06609287112951279, 0.01845720410346985, 0.004707180894911289, 0.07780604809522629, 0.015934070572257042, 0.016269708052277565, 0.027332955971360207, 0.08945079147815704, 0.028283195570111275, 0.013428342528641224, 0.24125005304813385, 0.1266416311264038, 0.0, 0.0, 0.0, 0.0, 0.0, 0.0, 0.0, 0.0, 0.0, 0.0], [0.10162995755672455, 0.048173438757658005, 0.0227415282279253, 0.017647165805101395, 0.0163576602935791, 0.01471816748380661, 0.02023891545832157, 0.03009830228984356, 0.03836438059806824, 0.025297468528151512, 0.03959347680211067, 0.04179809242486954, 0.01849495992064476, 0.04345662519335747, 0.023876944556832314, 0.013411921449005604, 0.04804752767086029, 0.021995291113853455, 0.030744802206754684, 0.051684748381376266, 0.057864826172590256, 0.04216013476252556, 0.05039002001285553, 0.08024895191192627, 0.07608187943696976, 0.02488282509148121, 0.0, 0.0, 0.0, 0.0, 0.0, 0.0, 0.0, 0.0, 0.0], [0.06603521853685379, 0.020660117268562317, 0.02168169803917408, 0.034087635576725006, 0.015279389917850494, 0.01844199001789093, 0.01078958623111248, 0.0559583343565464, 0.035654857754707336, 0.02173885889351368, 0.025664960965514183, 0.03946554288268089, 0.019091857597231865, 0.042604975402355194, 0.04514035955071449, 0.012913585640490055, 0.0473557785153389, 0.025561856105923653, 0.03524414449930191, 0.0974637046456337, 0.05611313506960869, 0.03593847155570984, 0.032566994428634644, 0.043019864708185196, 0.046976782381534576, 0.0324612632393837, 0.06208904832601547, 0.0, 0.0, 0.0, 0.0, 0.0, 0.0, 0.0, 0.0], [0.10541094094514847, 0.0169731043279171, 0.020341023802757263, 0.03266653046011925, 0.021851155906915665, 0.031789932399988174, 0.005571204703301191, 0.02419450506567955, 0.0167404618114233, 0.01608254574239254, 0.013484920375049114, 0.022790368646383286, 0.02084490656852722, 0.019816404208540916, 0.0074119968339800835, 0.013035067357122898, 0.026982460170984268, 0.01013225968927145, 0.017667701467871666, 0.297262579202652, 0.02345716394484043, 0.03235582262277603, 0.03224532678723335, 0.01998010277748108, 0.050171975046396255, 0.04827891290187836, 0.033088184893131256, 0.019372399896383286, 0.0, 0.0, 0.0, 0.0, 0.0, 0.0, 0.0], [0.11478211730718613, 0.02845188044011593, 0.03015810251235962, 0.02989071048796177, 0.015577689744532108, 0.04523628205060959, 0.008156674914062023, 0.04677765443921089, 0.02057458832859993, 0.018089188262820244, 0.016638457775115967, 0.024351511150598526, 0.014281021431088448, 0.022870570421218872, 0.024558452889323235, 0.021522246301174164, 0.02774013578891754, 0.012263159267604351, 0.01678968407213688, 0.030601780861616135, 0.033104464411735535, 0.042306140065193176, 0.05013417452573776, 0.03989569470286369, 0.025471467524766922, 0.03835652768611908, 0.14836570620536804, 0.04062194004654884, 0.012431958690285683, 0.0, 0.0, 0.0, 0.0, 0.0, 0.0], [0.010402967222034931, 0.003988312091678381, 0.007536556571722031, 0.02371407113969326, 0.001574699766933918, 0.004556498024612665, 0.0011461441172286868, 0.0020206570625305176, 0.08388333022594452, 0.006093544885516167, 0.0012243668315932155, 0.08011976629495621, 0.003282931400462985, 0.1148514598608017, 0.020138556137681007, 0.003874022513628006, 0.1035565510392189, 0.016239909455180168, 0.00621951837092638, 0.011158791370689869, 0.12897229194641113, 0.016916101798415184, 0.008813062682747841, 0.028795914724469185, 0.060593508183956146, 0.005618593655526638, 0.016893543303012848, 0.00879164133220911, 0.017022380605340004, 0.20200031995773315, 0.0, 0.0, 0.0, 0.0, 0.0], [0.05472033470869064, 0.015954429283738136, 0.012098269537091255, 0.02283375896513462, 0.018985213711857796, 0.028783902525901794, 0.008076787926256657, 0.00837206095457077, 0.039564043283462524, 0.01231530774384737, 0.009588331915438175, 0.023571273311972618, 0.010643105022609234, 0.046638429164886475, 0.014515888877213001, 0.012394603341817856, 0.02759736031293869, 0.02169143222272396, 0.02018057368695736, 0.018239211291074753, 0.05496654659509659, 0.03711783513426781, 0.02424500696361065, 0.03499606251716614, 0.1494767814874649, 0.02901950664818287, 0.043276481330394745, 0.015866443514823914, 0.0451154001057148, 0.11428381502628326, 0.02487177588045597, 0.0, 0.0, 0.0, 0.0], [0.028266333043575287, 0.008342590183019638, 0.009693165309727192, 0.02400330826640129, 0.012406979687511921, 0.009731604717671871, 0.007254776079207659, 0.011378858238458633, 0.04525343328714371, 0.014661088585853577, 0.004759802017360926, 0.032793063670396805, 0.009599767625331879, 0.05662674456834793, 0.023795735090970993, 0.0046141017228364944, 0.03982146084308624, 0.021238982677459717, 0.025286559015512466, 0.10159800201654434, 0.09278310090303421, 0.026123858988285065, 0.015091415494680405, 0.03458564355969429, 0.061821937561035156, 0.01340700313448906, 0.016889777034521103, 0.03089352883398533, 0.02819485403597355, 0.1103137657046318, 0.04056956619024277, 0.03819921985268593, 0.0, 0.0, 0.0], [0.005920094903558493, 0.002644824795424938, 0.005754892248660326, 0.021997181698679924, 0.0013081274228170514, 0.005726537201553583, 0.0008704049396328628, 0.0018940424779430032, 0.05295497551560402, 0.004725009668618441, 0.0009999446338042617, 0.04342708736658096, 0.0021749832667410374, 0.0736372098326683, 0.017015783116221428, 0.0030869939364492893, 0.05779087170958519, 0.010734476149082184, 0.003425823524594307, 0.010332704521715641, 0.08509060740470886, 0.012429160065948963, 0.006230235565453768, 0.022220999002456665, 0.06411111354827881, 0.005053481552749872, 0.018152372911572456, 0.007594150956720114, 0.006786440033465624, 0.16716451942920685, 0.013871797360479832, 0.01475562248378992, 0.2501174807548523, 0.0, 0.0], [0.059587135910987854, 0.014287109486758709, 0.00968867726624012, 0.028474608436226845, 0.028604796156287193, 0.026259329169988632, 0.0088196387514472, 0.022136058658361435, 0.017910214141011238, 0.02639753930270672, 0.01724359393119812, 0.02598380297422409, 0.006316178012639284, 0.020043157041072845, 0.015440626069903374, 0.025940269231796265, 0.0301030445843935, 0.018365338444709778, 0.023130422458052635, 0.02621459774672985, 0.03115726076066494, 0.028986163437366486, 0.028961267322301865, 0.016435222700238228, 0.03480091691017151, 0.037943676114082336, 0.0738067701458931, 0.030772432684898376, 0.028517240658402443, 0.07387100160121918, 0.02458771876990795, 0.035234082490205765, 0.08090808987617493, 0.0230720192193985, 0.0], [0.05258987843990326, 0.008282373659312725, 0.004686593543738127, 0.0115561094135046, 0.0021243588998913765, 0.007376647554337978, 0.002569910604506731, 0.005167305003851652, 0.06430475413799286, 0.008688678033649921, 0.004349821712821722, 0.05405203253030777, 0.003567327978089452, 0.08101721853017807, 0.021457042545080185, 0.004144071135669947, 0.0662156194448471, 0.018716923892498016, 0.00948823057115078, 0.006038547959178686, 0.10274296998977661, 0.014565222896635532, 0.009106290526688099, 0.021657664328813553, 0.035248029977083206, 0.004852634388953447, 0.008422154933214188, 0.019589489325881004, 0.011885889805853367, 0.14464664459228516, 0.016607558354735374, 0.022834772244095802, 0.08476627618074417, 0.015126864425837994, 0.051554061472415924]], [[1.0, 0.0, 0.0, 0.0, 0.0, 0.0, 0.0, 0.0, 0.0, 0.0, 0.0, 0.0, 0.0, 0.0, 0.0, 0.0, 0.0, 0.0, 0.0, 0.0, 0.0, 0.0, 0.0, 0.0, 0.0, 0.0, 0.0, 0.0, 0.0, 0.0, 0.0, 0.0, 0.0, 0.0, 0.0], [0.8803902864456177, 0.11960969120264053, 0.0, 0.0, 0.0, 0.0, 0.0, 0.0, 0.0, 0.0, 0.0, 0.0, 0.0, 0.0, 0.0, 0.0, 0.0, 0.0, 0.0, 0.0, 0.0, 0.0, 0.0, 0.0, 0.0, 0.0, 0.0, 0.0, 0.0, 0.0, 0.0, 0.0, 0.0, 0.0, 0.0], [0.800162672996521, 0.1442255973815918, 0.055611662566661835, 0.0, 0.0, 0.0, 0.0, 0.0, 0.0, 0.0, 0.0, 0.0, 0.0, 0.0, 0.0, 0.0, 0.0, 0.0, 0.0, 0.0, 0.0, 0.0, 0.0, 0.0, 0.0, 0.0, 0.0, 0.0, 0.0, 0.0, 0.0, 0.0, 0.0, 0.0, 0.0], [0.6471942067146301, 0.1470177322626114, 0.0793101042509079, 0.1264779269695282, 0.0, 0.0, 0.0, 0.0, 0.0, 0.0, 0.0, 0.0, 0.0, 0.0, 0.0, 0.0, 0.0, 0.0, 0.0, 0.0, 0.0, 0.0, 0.0, 0.0, 0.0, 0.0, 0.0, 0.0, 0.0, 0.0, 0.0, 0.0, 0.0, 0.0, 0.0], [0.6291002035140991, 0.13269932568073273, 0.0830739438533783, 0.10306605696678162, 0.05206046625971794, 0.0, 0.0, 0.0, 0.0, 0.0, 0.0, 0.0, 0.0, 0.0, 0.0, 0.0, 0.0, 0.0, 0.0, 0.0, 0.0, 0.0, 0.0, 0.0, 0.0, 0.0, 0.0, 0.0, 0.0, 0.0, 0.0, 0.0, 0.0, 0.0, 0.0], [0.5631014108657837, 0.12375932186841965, 0.11159729212522507, 0.10842737555503845, 0.08343346416950226, 0.009681181982159615, 0.0, 0.0, 0.0, 0.0, 0.0, 0.0, 0.0, 0.0, 0.0, 0.0, 0.0, 0.0, 0.0, 0.0, 0.0, 0.0, 0.0, 0.0, 0.0, 0.0, 0.0, 0.0, 0.0, 0.0, 0.0, 0.0, 0.0, 0.0, 0.0], [0.49733906984329224, 0.11400071531534195, 0.07851863652467728, 0.10408831387758255, 0.0822998508810997, 0.08720175176858902, 0.036551643162965775, 0.0, 0.0, 0.0, 0.0, 0.0, 0.0, 0.0, 0.0, 0.0, 0.0, 0.0, 0.0, 0.0, 0.0, 0.0, 0.0, 0.0, 0.0, 0.0, 0.0, 0.0, 0.0, 0.0, 0.0, 0.0, 0.0, 0.0, 0.0], [0.46186619997024536, 0.10720600932836533, 0.07680268585681915, 0.0952589139342308, 0.11179574579000473, 0.046836573630571365, 0.0632898360490799, 0.03694412484765053, 0.0, 0.0, 0.0, 0.0, 0.0, 0.0, 0.0, 0.0, 0.0, 0.0, 0.0, 0.0, 0.0, 0.0, 0.0, 0.0, 0.0, 0.0, 0.0, 0.0, 0.0, 0.0, 0.0, 0.0, 0.0, 0.0, 0.0], [0.408801794052124, 0.11223537474870682, 0.06194954738020897, 0.08138206601142883, 0.06888709217309952, 0.047599393874406815, 0.05779566988348961, 0.06300586462020874, 0.09834322333335876, 0.0, 0.0, 0.0, 0.0, 0.0, 0.0, 0.0, 0.0, 0.0, 0.0, 0.0, 0.0, 0.0, 0.0, 0.0, 0.0, 0.0, 0.0, 0.0, 0.0, 0.0, 0.0, 0.0, 0.0, 0.0, 0.0], [0.33778563141822815, 0.07768949121236801, 0.06164025887846947, 0.08030419051647186, 0.09243479371070862, 0.12569788098335266, 0.043102774769067764, 0.08006507903337479, 0.08753130584955215, 0.013748615980148315, 0.0, 0.0, 0.0, 0.0, 0.0, 0.0, 0.0, 0.0, 0.0, 0.0, 0.0, 0.0, 0.0, 0.0, 0.0, 0.0, 0.0, 0.0, 0.0, 0.0, 0.0, 0.0, 0.0, 0.0, 0.0], [0.4084457755088806, 0.07972610741853714, 0.059432800859212875, 0.07098963856697083, 0.06258384883403778, 0.07298710197210312, 0.05290913209319115, 0.06663115322589874, 0.08486578613519669, 0.030785247683525085, 0.010643379762768745, 0.0, 0.0, 0.0, 0.0, 0.0, 0.0, 0.0, 0.0, 0.0, 0.0, 0.0, 0.0, 0.0, 0.0, 0.0, 0.0, 0.0, 0.0, 0.0, 0.0, 0.0, 0.0, 0.0, 0.0], [0.3284088671207428, 0.08126053214073181, 0.05222120136022568, 0.0667019784450531, 0.06221221014857292, 0.04688326269388199, 0.04748227447271347, 0.04943712800741196, 0.0864436998963356, 0.05108509585261345, 0.04660411551594734, 0.08125964552164078, 0.0, 0.0, 0.0, 0.0, 0.0, 0.0, 0.0, 0.0, 0.0, 0.0, 0.0, 0.0, 0.0, 0.0, 0.0, 0.0, 0.0, 0.0, 0.0, 0.0, 0.0, 0.0, 0.0], [0.28456375002861023, 0.0733422189950943, 0.059566300362348557, 0.059956829994916916, 0.0626126229763031, 0.04492250829935074, 0.053548917174339294, 0.0553952120244503, 0.07605051249265671, 0.054391514509916306, 0.055210135877132416, 0.0848141461610794, 0.03562537953257561, 0.0, 0.0, 0.0, 0.0, 0.0, 0.0, 0.0, 0.0, 0.0, 0.0, 0.0, 0.0, 0.0, 0.0, 0.0, 0.0, 0.0, 0.0, 0.0, 0.0, 0.0, 0.0], [0.2986925542354584, 0.08053488284349442, 0.04630005359649658, 0.05841609090566635, 0.05245252326130867, 0.03589674457907677, 0.043130062520504, 0.04816412553191185, 0.07179584354162216, 0.03588228300213814, 0.03498636558651924, 0.06638612598180771, 0.04749887436628342, 0.079863540828228, 0.0, 0.0, 0.0, 0.0, 0.0, 0.0, 0.0, 0.0, 0.0, 0.0, 0.0, 0.0, 0.0, 0.0, 0.0, 0.0, 0.0, 0.0, 0.0, 0.0, 0.0], [0.26184868812561035, 0.06895221769809723, 0.04662095010280609, 0.05860457941889763, 0.04692878574132919, 0.05568012222647667, 0.049152061343193054, 0.04117779806256294, 0.0749075710773468, 0.03198425471782684, 0.03257225453853607, 0.07257071882486343, 0.03739878162741661, 0.08542972803115845, 0.036171406507492065, 0.0, 0.0, 0.0, 0.0, 0.0, 0.0, 0.0, 0.0, 0.0, 0.0, 0.0, 0.0, 0.0, 0.0, 0.0, 0.0, 0.0, 0.0, 0.0, 0.0], [0.2941747009754181, 0.05360914766788483, 0.03860878571867943, 0.04952675476670265, 0.040609173476696014, 0.0414932519197464, 0.029716238379478455, 0.04536983743309975, 0.06024932861328125, 0.04159965738654137, 0.06637392938137054, 0.05982467904686928, 0.040502917021512985, 0.06734269857406616, 0.0609574057161808, 0.010041479952633381, 0.0, 0.0, 0.0, 0.0, 0.0, 0.0, 0.0, 0.0, 0.0, 0.0, 0.0, 0.0, 0.0, 0.0, 0.0, 0.0, 0.0, 0.0, 0.0], [0.24078045785427094, 0.05731501057744026, 0.038129813969135284, 0.04762374982237816, 0.046726156026124954, 0.03515475243330002, 0.03462182357907295, 0.037472449243068695, 0.06234781816601753, 0.0395454540848732, 0.0357443206012249, 0.05874498188495636, 0.034078437834978104, 0.07071567326784134, 0.054391179233789444, 0.039451487362384796, 0.06715650111436844, 0.0, 0.0, 0.0, 0.0, 0.0, 0.0, 0.0, 0.0, 0.0, 0.0, 0.0, 0.0, 0.0, 0.0, 0.0, 0.0, 0.0, 0.0], [0.19008122384548187, 0.05546913668513298, 0.03824989125132561, 0.044684723019599915, 0.043491899967193604, 0.03729135915637016, 0.03500032052397728, 0.03413338214159012, 0.05614841729402542, 0.029018182307481766, 0.026478596031665802, 0.06265044957399368, 0.035022009164094925, 0.06568853557109833, 0.057141970843076706, 0.047816336154937744, 0.07356444001197815, 0.06806915253400803, 0.0, 0.0, 0.0, 0.0, 0.0, 0.0, 0.0, 0.0, 0.0, 0.0, 0.0, 0.0, 0.0, 0.0, 0.0, 0.0, 0.0], [0.23406481742858887, 0.04765675961971283, 0.036266397684812546, 0.043501537293195724, 0.044823307543992996, 0.030926167964935303, 0.024145543575286865, 0.030471043661236763, 0.05100266635417938, 0.03852143511176109, 0.04128359630703926, 0.052890975028276443, 0.027892807498574257, 0.0573887974023819, 0.06067001447081566, 0.043871019035577774, 0.05933018773794174, 0.051170188933610916, 0.02412271313369274, 0.0, 0.0, 0.0, 0.0, 0.0, 0.0, 0.0, 0.0, 0.0, 0.0, 0.0, 0.0, 0.0, 0.0, 0.0, 0.0], [0.3121168911457062, 0.043056972324848175, 0.03073921985924244, 0.03990123048424721, 0.040739163756370544, 0.03397355601191521, 0.013991210609674454, 0.0325017049908638, 0.04214294254779816, 0.031367380172014236, 0.057223230600357056, 0.042099740356206894, 0.032853297889232635, 0.046627193689346313, 0.04874775931239128, 0.02173059806227684, 0.0472237691283226, 0.0298575721681118, 0.04530390352010727, 0.007802657783031464, 0.0, 0.0, 0.0, 0.0, 0.0, 0.0, 0.0, 0.0, 0.0, 0.0, 0.0, 0.0, 0.0, 0.0, 0.0], [0.19583050906658173, 0.052274733781814575, 0.03251208737492561, 0.037058889865875244, 0.04335429519414902, 0.0276412945240736, 0.027452075853943825, 0.03308156505227089, 0.045324403792619705, 0.025406749919056892, 0.02478163316845894, 0.03888050094246864, 0.03024730645120144, 0.05089513584971428, 0.04128778725862503, 0.037492137402296066, 0.044253233820199966, 0.04428720846772194, 0.04519394412636757, 0.05072397738695145, 0.07202056795358658, 0.0, 0.0, 0.0, 0.0, 0.0, 0.0, 0.0, 0.0, 0.0, 0.0, 0.0, 0.0, 0.0, 0.0], [0.16079998016357422, 0.04841070994734764, 0.0330209881067276, 0.03441706299781799, 0.035319793969392776, 0.02389702759683132, 0.026063479483127594, 0.02863973006606102, 0.04453875496983528, 0.02494947426021099, 0.02971617691218853, 0.04012999311089516, 0.024859068915247917, 0.05134394392371178, 0.053735408931970596, 0.045276302844285965, 0.046805962920188904, 0.034605972468853, 0.04245501756668091, 0.05485451966524124, 0.06976336240768433, 0.046397335827350616, 0.0, 0.0, 0.0, 0.0, 0.0, 0.0, 0.0, 0.0, 0.0, 0.0, 0.0, 0.0, 0.0], [0.18932507932186127, 0.03910360485315323, 0.02485201507806778, 0.03345050662755966, 0.0386015959084034, 0.024109290912747383, 0.020502103492617607, 0.024301743134856224, 0.03976471722126007, 0.03418168053030968, 0.03484787791967392, 0.03619781509041786, 0.023668941110372543, 0.0450248122215271, 0.03498944267630577, 0.026825519278645515, 0.041537921875715256, 0.03736661374568939, 0.04202279821038246, 0.05591040477156639, 0.06404420733451843, 0.056186337023973465, 0.03318498656153679, 0.0, 0.0, 0.0, 0.0, 0.0, 0.0, 0.0, 0.0, 0.0, 0.0, 0.0, 0.0], [0.16596607863903046, 0.03388110175728798, 0.020657524466514587, 0.03212727978825569, 0.03747253492474556, 0.026519475504755974, 0.01988290622830391, 0.025609642267227173, 0.04091744124889374, 0.02261032722890377, 0.019720884039998055, 0.033765364438295364, 0.02350381575524807, 0.04644525796175003, 0.035414308309555054, 0.027368418872356415, 0.03876943141222, 0.0314607247710228, 0.04639927297830582, 0.04867471009492874, 0.06382153183221817, 0.06529751420021057, 0.046299051493406296, 0.047415394335985184, 0.0, 0.0, 0.0, 0.0, 0.0, 0.0, 0.0, 0.0, 0.0, 0.0, 0.0], [0.1551409512758255, 0.036314792931079865, 0.0222369022667408, 0.02809741534292698, 0.040156636387109756, 0.024055978283286095, 0.01740090921521187, 0.021498553454875946, 0.036750659346580505, 0.01798674277961254, 0.019703920930624008, 0.02832779288291931, 0.022604607045650482, 0.04168051481246948, 0.03049796260893345, 0.025585584342479706, 0.03248760476708412, 0.027014944702386856, 0.041122835129499435, 0.047384485602378845, 0.0638233870267868, 0.056550078094005585, 0.04119997099041939, 0.06263258308172226, 0.05974407121539116, 0.0, 0.0, 0.0, 0.0, 0.0, 0.0, 0.0, 0.0, 0.0, 0.0], [0.12975940108299255, 0.027339687570929527, 0.02995753474533558, 0.02270284667611122, 0.037815339863300323, 0.031446345150470734, 0.017136765643954277, 0.04656493663787842, 0.03061830624938011, 0.018781671300530434, 0.02527320571243763, 0.028721975162625313, 0.019090939313173294, 0.034810006618499756, 0.026170218363404274, 0.02681773155927658, 0.032960399985313416, 0.024960238486528397, 0.054747600108385086, 0.0578010194003582, 0.05617621913552284, 0.03305983915925026, 0.057674214243888855, 0.04667419567704201, 0.062286972999572754, 0.02065236307680607, 0.0, 0.0, 0.0, 0.0, 0.0, 0.0, 0.0, 0.0, 0.0], [0.18126995861530304, 0.027924930676817894, 0.02805592492222786, 0.029457414522767067, 0.02853275276720524, 0.020307758823037148, 0.019550148397684097, 0.03153108432888985, 0.029232842847704887, 0.021110545843839645, 0.014580842107534409, 0.022505322471261024, 0.016256753355264664, 0.03150884062051773, 0.024519706144928932, 0.03659053146839142, 0.025034504011273384, 0.020030656829476357, 0.04726612567901611, 0.12142344564199448, 0.0418962761759758, 0.036460913717746735, 0.037346918135881424, 0.037057481706142426, 0.03521093353629112, 0.02478449046611786, 0.010552847757935524, 0.0, 0.0, 0.0, 0.0, 0.0, 0.0, 0.0, 0.0], [0.141932412981987, 0.026873398572206497, 0.023394422605633736, 0.024198899045586586, 0.03441091626882553, 0.03176819533109665, 0.01428282167762518, 0.027884991839528084, 0.027823271229863167, 0.020267954096198082, 0.020075345411896706, 0.026035422459244728, 0.015271050855517387, 0.031183559447526932, 0.021344445645809174, 0.030780868604779243, 0.029686477035284042, 0.0249661672860384, 0.03290623053908348, 0.0812656432390213, 0.047380201518535614, 0.0395050086081028, 0.0381060391664505, 0.03920023515820503, 0.04723042622208595, 0.032237760722637177, 0.047684960067272186, 0.022302787750959396, 0.0, 0.0, 0.0, 0.0, 0.0, 0.0, 0.0], [0.1936107575893402, 0.028910452499985695, 0.01741074025630951, 0.0249919593334198, 0.020412283018231392, 0.03692351654171944, 0.018564045429229736, 0.02249111235141754, 0.026469897478818893, 0.019851725548505783, 0.016706908121705055, 0.020129596814513206, 0.017302941530942917, 0.02887752652168274, 0.019370291382074356, 0.021512901410460472, 0.02260466106235981, 0.019465504214167595, 0.03218546882271767, 0.09415600448846817, 0.03964082896709442, 0.04692872613668442, 0.032965466380119324, 0.03432747721672058, 0.03549889102578163, 0.041524212807416916, 0.03800846263766289, 0.024193763732910156, 0.004963915795087814, 0.0, 0.0, 0.0, 0.0, 0.0, 0.0], [0.13062262535095215, 0.029238129034638405, 0.020562482997775078, 0.024924928322434425, 0.026433372870087624, 0.020880047231912613, 0.01689509116113186, 0.020366212353110313, 0.030794676393270493, 0.016811519861221313, 0.014352653175592422, 0.026399677619338036, 0.017968149855732918, 0.03419143706560135, 0.025793634355068207, 0.020880060270428658, 0.029983337968587875, 0.02257682941854, 0.031984008848667145, 0.0387752428650856, 0.04729926586151123, 0.039518095552921295, 0.03569553792476654, 0.046477824449539185, 0.04560372233390808, 0.027694012969732285, 0.02837626449763775, 0.02950698509812355, 0.03388815000653267, 0.06550601869821548, 0.0, 0.0, 0.0, 0.0, 0.0], [0.10399015247821808, 0.02196614071726799, 0.01645117811858654, 0.02278798632323742, 0.024357151240110397, 0.01997542940080166, 0.01367861032485962, 0.020524611696600914, 0.026416651904582977, 0.01582498662173748, 0.018124764785170555, 0.022938068956136703, 0.015249828808009624, 0.02995177172124386, 0.01956864632666111, 0.017790067940950394, 0.02633138746023178, 0.020062366500496864, 0.03040565736591816, 0.05837803706526756, 0.047469496726989746, 0.03560006991028786, 0.033618565648794174, 0.039051614701747894, 0.0462346114218235, 0.03415835276246071, 0.050636302679777145, 0.03304954990744591, 0.04132763296365738, 0.060074761509895325, 0.034005604684352875, 0.0, 0.0, 0.0, 0.0], [0.10689456015825272, 0.023425208404660225, 0.018311133608222008, 0.022276204079389572, 0.019986260682344437, 0.018345672637224197, 0.01589350774884224, 0.0198027566075325, 0.025829356163740158, 0.016079487279057503, 0.016656849533319473, 0.025818219408392906, 0.012892837636172771, 0.029111463576555252, 0.020739201456308365, 0.017621513456106186, 0.029654454439878464, 0.024281147867441177, 0.028045887127518654, 0.05205393582582474, 0.04263106361031532, 0.03251812234520912, 0.03738031163811684, 0.038434360176324844, 0.03982122242450714, 0.026290129870176315, 0.035206377506256104, 0.03138630464673042, 0.03282343968749046, 0.061947051435709, 0.037625446915626526, 0.04021656885743141, 0.0, 0.0, 0.0], [0.1222902312874794, 0.025168990716338158, 0.016714083030819893, 0.022033262997865677, 0.023000741377472878, 0.015408720821142197, 0.014958012849092484, 0.018676768988370895, 0.026191165670752525, 0.01237030141055584, 0.010715783573687077, 0.02163190208375454, 0.013984634540975094, 0.028899235650897026, 0.02320098876953125, 0.01821659691631794, 0.02428123913705349, 0.01823531650006771, 0.021653974428772926, 0.03633743152022362, 0.03855651989579201, 0.03691945597529411, 0.033792268484830856, 0.04258827120065689, 0.038391582667827606, 0.02329576201736927, 0.030805250629782677, 0.024493305012583733, 0.03010578453540802, 0.05652609467506409, 0.03756684437394142, 0.04159916564822197, 0.051390375941991806, 0.0, 0.0], [0.13871711492538452, 0.02196723222732544, 0.016682999208569527, 0.021551379933953285, 0.02604922652244568, 0.015379124321043491, 0.012522312812507153, 0.020025229081511497, 0.02187984809279442, 0.014553075656294823, 0.015628257766366005, 0.018288595601916313, 0.012421742081642151, 0.02363342046737671, 0.01722068525850773, 0.020091671496629715, 0.02015187032520771, 0.018530184403061867, 0.02421249821782112, 0.07234076410531998, 0.034239381551742554, 0.030147043988108635, 0.03145882859826088, 0.030202975496649742, 0.03094874881207943, 0.024833207949995995, 0.03074326366186142, 0.02263657934963703, 0.04456690698862076, 0.04173138365149498, 0.028924649581313133, 0.029865307733416557, 0.04288145899772644, 0.02497304603457451, 0.0], [0.12327973544597626, 0.02670743688941002, 0.01483471505343914, 0.018021512776613235, 0.017764996737241745, 0.013351650908589363, 0.014073791913688183, 0.018723031505942345, 0.023980094119906425, 0.021256303414702415, 0.01700482703745365, 0.020616672933101654, 0.012905535288155079, 0.02609744481742382, 0.02155427075922489, 0.015845773741602898, 0.02278093621134758, 0.023595379665493965, 0.019861748442053795, 0.021922381594777107, 0.03597116470336914, 0.033696822822093964, 0.02117166481912136, 0.03536052256822586, 0.03450925648212433, 0.02189764380455017, 0.03512424975633621, 0.02411290816962719, 0.03299051150679588, 0.04677635803818703, 0.03042445331811905, 0.03270316123962402, 0.037907253950834274, 0.04262493550777435, 0.04055079445242882]], [[1.0, 0.0, 0.0, 0.0, 0.0, 0.0, 0.0, 0.0, 0.0, 0.0, 0.0, 0.0, 0.0, 0.0, 0.0, 0.0, 0.0, 0.0, 0.0, 0.0, 0.0, 0.0, 0.0, 0.0, 0.0, 0.0, 0.0, 0.0, 0.0, 0.0, 0.0, 0.0, 0.0, 0.0, 0.0], [0.6533873081207275, 0.34661272168159485, 0.0, 0.0, 0.0, 0.0, 0.0, 0.0, 0.0, 0.0, 0.0, 0.0, 0.0, 0.0, 0.0, 0.0, 0.0, 0.0, 0.0, 0.0, 0.0, 0.0, 0.0, 0.0, 0.0, 0.0, 0.0, 0.0, 0.0, 0.0, 0.0, 0.0, 0.0, 0.0, 0.0], [0.44511184096336365, 0.3337683081626892, 0.22111985087394714, 0.0, 0.0, 0.0, 0.0, 0.0, 0.0, 0.0, 0.0, 0.0, 0.0, 0.0, 0.0, 0.0, 0.0, 0.0, 0.0, 0.0, 0.0, 0.0, 0.0, 0.0, 0.0, 0.0, 0.0, 0.0, 0.0, 0.0, 0.0, 0.0, 0.0, 0.0, 0.0], [0.5459807515144348, 0.15291081368923187, 0.0764545276761055, 0.22465385496616364, 0.0, 0.0, 0.0, 0.0, 0.0, 0.0, 0.0, 0.0, 0.0, 0.0, 0.0, 0.0, 0.0, 0.0, 0.0, 0.0, 0.0, 0.0, 0.0, 0.0, 0.0, 0.0, 0.0, 0.0, 0.0, 0.0, 0.0, 0.0, 0.0, 0.0, 0.0], [0.427202969789505, 0.1412525177001953, 0.061439696699380875, 0.11979992687702179, 0.2503049075603485, 0.0, 0.0, 0.0, 0.0, 0.0, 0.0, 0.0, 0.0, 0.0, 0.0, 0.0, 0.0, 0.0, 0.0, 0.0, 0.0, 0.0, 0.0, 0.0, 0.0, 0.0, 0.0, 0.0, 0.0, 0.0, 0.0, 0.0, 0.0, 0.0, 0.0], [0.40979301929473877, 0.11732906848192215, 0.06548821926116943, 0.12367463111877441, 0.04222370311617851, 0.2414913773536682, 0.0, 0.0, 0.0, 0.0, 0.0, 0.0, 0.0, 0.0, 0.0, 0.0, 0.0, 0.0, 0.0, 0.0, 0.0, 0.0, 0.0, 0.0, 0.0, 0.0, 0.0, 0.0, 0.0, 0.0, 0.0, 0.0, 0.0, 0.0, 0.0], [0.36435145139694214, 0.15547119081020355, 0.08527877181768417, 0.0883261114358902, 0.04993733763694763, 0.03409624099731445, 0.22253885865211487, 0.0, 0.0, 0.0, 0.0, 0.0, 0.0, 0.0, 0.0, 0.0, 0.0, 0.0, 0.0, 0.0, 0.0, 0.0, 0.0, 0.0, 0.0, 0.0, 0.0, 0.0, 0.0, 0.0, 0.0, 0.0, 0.0, 0.0, 0.0], [0.35626858472824097, 0.09063339233398438, 0.05006815120577812, 0.10755757987499237, 0.06895479559898376, 0.04669608175754547, 0.04097529873251915, 0.2388460785150528, 0.0, 0.0, 0.0, 0.0, 0.0, 0.0, 0.0, 0.0, 0.0, 0.0, 0.0, 0.0, 0.0, 0.0, 0.0, 0.0, 0.0, 0.0, 0.0, 0.0, 0.0, 0.0, 0.0, 0.0, 0.0, 0.0, 0.0], [0.34613892436027527, 0.14562258124351501, 0.09470634907484055, 0.10499643534421921, 0.06400175392627716, 0.04047238826751709, 0.03757920488715172, 0.04448215663433075, 0.12200023978948593, 0.0, 0.0, 0.0, 0.0, 0.0, 0.0, 0.0, 0.0, 0.0, 0.0, 0.0, 0.0, 0.0, 0.0, 0.0, 0.0, 0.0, 0.0, 0.0, 0.0, 0.0, 0.0, 0.0, 0.0, 0.0, 0.0], [0.20510227978229523, 0.048243146389722824, 0.05157080292701721, 0.09953965991735458, 0.06673119962215424, 0.045586880296468735, 0.03648391738533974, 0.08169858902692795, 0.08583585172891617, 0.27920758724212646, 0.0, 0.0, 0.0, 0.0, 0.0, 0.0, 0.0, 0.0, 0.0, 0.0, 0.0, 0.0, 0.0, 0.0, 0.0, 0.0, 0.0, 0.0, 0.0, 0.0, 0.0, 0.0, 0.0, 0.0, 0.0], [0.2301696389913559, 0.07576318085193634, 0.062430281192064285, 0.061968352645635605, 0.05024825036525726, 0.03796261548995972, 0.057705141603946686, 0.05617324262857437, 0.06585753709077835, 0.041665591299533844, 0.26005616784095764, 0.0, 0.0, 0.0, 0.0, 0.0, 0.0, 0.0, 0.0, 0.0, 0.0, 0.0, 0.0, 0.0, 0.0, 0.0, 0.0, 0.0, 0.0, 0.0, 0.0, 0.0, 0.0, 0.0, 0.0], [0.2668823003768921, 0.0996926873922348, 0.06880497932434082, 0.10110107064247131, 0.03625768423080444, 0.04876028746366501, 0.0317954421043396, 0.03426745533943176, 0.09192277491092682, 0.044060155749320984, 0.024279987439513206, 0.1521751582622528, 0.0, 0.0, 0.0, 0.0, 0.0, 0.0, 0.0, 0.0, 0.0, 0.0, 0.0, 0.0, 0.0, 0.0, 0.0, 0.0, 0.0, 0.0, 0.0, 0.0, 0.0, 0.0, 0.0], [0.24808602035045624, 0.05943755805492401, 0.03645307198166847, 0.09643884748220444, 0.04665256291627884, 0.043580614030361176, 0.026409663259983063, 0.038718488067388535, 0.06937100738286972, 0.035532157868146896, 0.02358422242105007, 0.05824919790029526, 0.21748659014701843, 0.0, 0.0, 0.0, 0.0, 0.0, 0.0, 0.0, 0.0, 0.0, 0.0, 0.0, 0.0, 0.0, 0.0, 0.0, 0.0, 0.0, 0.0, 0.0, 0.0, 0.0, 0.0], [0.22227588295936584, 0.08784298598766327, 0.06428327411413193, 0.07245951145887375, 0.05153009295463562, 0.03354167565703392, 0.03151150792837143, 0.04395980015397072, 0.10531802475452423, 0.036292850971221924, 0.03349635377526283, 0.07923727482557297, 0.03496609628200531, 0.10328466445207596, 0.0, 0.0, 0.0, 0.0, 0.0, 0.0, 0.0, 0.0, 0.0, 0.0, 0.0, 0.0, 0.0, 0.0, 0.0, 0.0, 0.0, 0.0, 0.0, 0.0, 0.0], [0.26255422830581665, 0.07451014220714569, 0.04962189868092537, 0.0651395246386528, 0.022182408720254898, 0.03923412412405014, 0.02143389917910099, 0.02829248644411564, 0.06496229767799377, 0.022169625386595726, 0.018070971593260765, 0.057965535670518875, 0.01818801276385784, 0.061765044927597046, 0.19390985369682312, 0.0, 0.0, 0.0, 0.0, 0.0, 0.0, 0.0, 0.0, 0.0, 0.0, 0.0, 0.0, 0.0, 0.0, 0.0, 0.0, 0.0, 0.0, 0.0, 0.0], [0.21454612910747528, 0.05207953229546547, 0.04338602349162102, 0.05108674243092537, 0.02305704541504383, 0.039872974157333374, 0.021457543596625328, 0.043103158473968506, 0.057124003767967224, 0.047324106097221375, 0.02007634937763214, 0.04863850399851799, 0.03173767775297165, 0.05389069765806198, 0.03922812268137932, 0.21339137852191925, 0.0, 0.0, 0.0, 0.0, 0.0, 0.0, 0.0, 0.0, 0.0, 0.0, 0.0, 0.0, 0.0, 0.0, 0.0, 0.0, 0.0, 0.0, 0.0], [0.16934643685817719, 0.0575847290456295, 0.04318232089281082, 0.06501621007919312, 0.025769712403416634, 0.03584059700369835, 0.023403936997056007, 0.02863309346139431, 0.06884392350912094, 0.03735612705349922, 0.021079324185848236, 0.12265525758266449, 0.02518490143120289, 0.07096558809280396, 0.04923555254936218, 0.028457915410399437, 0.12744443118572235, 0.0, 0.0, 0.0, 0.0, 0.0, 0.0, 0.0, 0.0, 0.0, 0.0, 0.0, 0.0, 0.0, 0.0, 0.0, 0.0, 0.0, 0.0], [0.1294490396976471, 0.043515171855688095, 0.02870734967291355, 0.04557255282998085, 0.021282192319631577, 0.019885342568159103, 0.028857694938778877, 0.034781116992235184, 0.05532592907547951, 0.030885059386491776, 0.021087542176246643, 0.06504064798355103, 0.04043157398700714, 0.057976022362709045, 0.041369810700416565, 0.028544064611196518, 0.06784921139478683, 0.23943962156772614, 0.0, 0.0, 0.0, 0.0, 0.0, 0.0, 0.0, 0.0, 0.0, 0.0, 0.0, 0.0, 0.0, 0.0, 0.0, 0.0, 0.0], [0.14163610339164734, 0.03578965365886688, 0.028365233913064003, 0.04538756236433983, 0.04637838900089264, 0.03978871554136276, 0.014343786984682083, 0.049597978591918945, 0.04732619971036911, 0.030782440677285194, 0.01841215416789055, 0.04871036857366562, 0.02340163290500641, 0.047455623745918274, 0.03751208260655403, 0.023782705888152122, 0.04894063621759415, 0.033790670335292816, 0.23859809339046478, 0.0, 0.0, 0.0, 0.0, 0.0, 0.0, 0.0, 0.0, 0.0, 0.0, 0.0, 0.0, 0.0, 0.0, 0.0, 0.0], [0.133503258228302, 0.03222054988145828, 0.020588908344507217, 0.037802182137966156, 0.04108009859919548, 0.03671092540025711, 0.02595439925789833, 0.04136637970805168, 0.0432656966149807, 0.030096469447016716, 0.026812905445694923, 0.04010695591568947, 0.024385901167988777, 0.04430920630693436, 0.0337374247610569, 0.02071092277765274, 0.04079744219779968, 0.032650161534547806, 0.03506242483854294, 0.2588377892971039, 0.0, 0.0, 0.0, 0.0, 0.0, 0.0, 0.0, 0.0, 0.0, 0.0, 0.0, 0.0, 0.0, 0.0, 0.0], [0.11974351853132248, 0.03914882615208626, 0.02895655855536461, 0.033427078276872635, 0.037695929408073425, 0.02054390124976635, 0.01755896583199501, 0.0326584167778492, 0.06372418254613876, 0.033101923763751984, 0.02986793965101242, 0.05386916548013687, 0.022512972354888916, 0.07236674427986145, 0.04143425077199936, 0.03790142387151718, 0.06002623587846756, 0.04586018994450569, 0.050910960882902145, 0.03195587918162346, 0.1267348825931549, 0.0, 0.0, 0.0, 0.0, 0.0, 0.0, 0.0, 0.0, 0.0, 0.0, 0.0, 0.0, 0.0, 0.0], [0.11878623068332672, 0.03957203030586243, 0.02322298102080822, 0.053640808910131454, 0.03261677548289299, 0.01737094670534134, 0.011663909070193768, 0.016273824498057365, 0.05014302581548691, 0.013260260224342346, 0.0104869045317173, 0.03813209384679794, 0.04193669557571411, 0.05336223170161247, 0.03097999095916748, 0.019617725163698196, 0.040241554379463196, 0.03244159370660782, 0.020540127530694008, 0.026845507323741913, 0.05771108716726303, 0.2511536478996277, 0.0, 0.0, 0.0, 0.0, 0.0, 0.0, 0.0, 0.0, 0.0, 0.0, 0.0, 0.0, 0.0], [0.1059650406241417, 0.03639821335673332, 0.023730654269456863, 0.02770346961915493, 0.02952033281326294, 0.016958512365818024, 0.009277228266000748, 0.019281182438135147, 0.043534502387046814, 0.025435717776417732, 0.015441055409610271, 0.041617266833782196, 0.018472328782081604, 0.04617343842983246, 0.026975223794579506, 0.016877291724085808, 0.043659280985593796, 0.020190220326185226, 0.01864578016102314, 0.01635970175266266, 0.05703482776880264, 0.06433956325054169, 0.27640917897224426, 0.0, 0.0, 0.0, 0.0, 0.0, 0.0, 0.0, 0.0, 0.0, 0.0, 0.0, 0.0], [0.08669394999742508, 0.14005146920681, 0.05404341220855713, 0.026910442858934402, 0.02693350985646248, 0.01693662256002426, 0.017527248710393906, 0.011132633313536644, 0.033167172223329544, 0.009116587229073048, 0.014021698385477066, 0.028125273063778877, 0.0121076088398695, 0.03627436235547066, 0.030991649255156517, 0.015099075622856617, 0.03022146038711071, 0.020815473049879074, 0.018955035135149956, 0.021182594820857048, 0.043649882078170776, 0.04377346858382225, 0.025040632113814354, 0.23722872138023376, 0.0, 0.0, 0.0, 0.0, 0.0, 0.0, 0.0, 0.0, 0.0, 0.0, 0.0], [0.10505462437868118, 0.02472284436225891, 0.0234385933727026, 0.024256454780697823, 0.021477704867720604, 0.014111110009253025, 0.01201801560819149, 0.01570730283856392, 0.042195845395326614, 0.016803370788693428, 0.011159361340105534, 0.03127181902527809, 0.020320700481534004, 0.04702334105968475, 0.039886798709630966, 0.02585337683558464, 0.03450961038470268, 0.024522602558135986, 0.017594216391444206, 0.021597163751721382, 0.06303169578313828, 0.05036986619234085, 0.026549136266112328, 0.04091530293226242, 0.24560928344726562, 0.0, 0.0, 0.0, 0.0, 0.0, 0.0, 0.0, 0.0, 0.0, 0.0], [0.07146886736154556, 0.015683092176914215, 0.019199570640921593, 0.027655109763145447, 0.025888733565807343, 0.011495732702314854, 0.013834545388817787, 0.02500625140964985, 0.032857514917850494, 0.040690429508686066, 0.01940707117319107, 0.036282774060964584, 0.02667135000228882, 0.03698844835162163, 0.0253913551568985, 0.012203282676637173, 0.04081626236438751, 0.022441424429416656, 0.018680062144994736, 0.03714069724082947, 0.05291352421045303, 0.03374898061156273, 0.03600705787539482, 0.027396058663725853, 0.04157792776823044, 0.24855394661426544, 0.0, 0.0, 0.0, 0.0, 0.0, 0.0, 0.0, 0.0, 0.0], [0.09520063549280167, 0.02339908480644226, 0.01624995656311512, 0.03728703036904335, 0.027069473639130592, 0.02442619949579239, 0.016916710883378983, 0.02051924541592598, 0.035614464432001114, 0.01724679209291935, 0.016965175047516823, 0.03067062981426716, 0.014761793427169323, 0.037838954478502274, 0.025590205565094948, 0.013281542807817459, 0.03275728225708008, 0.016981475055217743, 0.012912829406559467, 0.04096675664186478, 0.04452374204993248, 0.03288853168487549, 0.021862000226974487, 0.02890506200492382, 0.025222204625606537, 0.015681946650147438, 0.2742602825164795, 0.0, 0.0, 0.0, 0.0, 0.0, 0.0, 0.0, 0.0], [0.07106207311153412, 0.022234488278627396, 0.01544252410531044, 0.028806835412979126, 0.02491171285510063, 0.01409667544066906, 0.010925302281975746, 0.02235645055770874, 0.02825102210044861, 0.025925256311893463, 0.012314548715949059, 0.03621361777186394, 0.017662763595581055, 0.03140704706311226, 0.018595034256577492, 0.0181714054197073, 0.040066663175821304, 0.02272828295826912, 0.02500053495168686, 0.04014963656663895, 0.042498037219047546, 0.02628159336745739, 0.02363489754498005, 0.03034823015332222, 0.028446590527892113, 0.04931708425283432, 0.04533270001411438, 0.22781896591186523, 0.0, 0.0, 0.0, 0.0, 0.0, 0.0, 0.0], [0.11998689919710159, 0.03201313316822052, 0.020363766700029373, 0.031922318041324615, 0.020111482590436935, 0.017741890624165535, 0.01496315561234951, 0.01409969199448824, 0.032360270619392395, 0.012826558202505112, 0.01920422539114952, 0.024741901084780693, 0.014775942079722881, 0.03365083783864975, 0.03285077214241028, 0.015633024275302887, 0.026330985128879547, 0.009946919046342373, 0.010015267878770828, 0.023254675790667534, 0.038984283804893494, 0.034919410943984985, 0.01198914647102356, 0.03053087741136551, 0.02381373569369316, 0.018979014828801155, 0.06846079230308533, 0.019141536206007004, 0.22638748586177826, 0.0, 0.0, 0.0, 0.0, 0.0, 0.0], [0.07111398130655289, 0.023045003414154053, 0.017407836392521858, 0.025577740743756294, 0.01881728321313858, 0.01440666988492012, 0.011364500969648361, 0.019742924720048904, 0.0378037765622139, 0.017498362809419632, 0.012214536778628826, 0.0347118079662323, 0.016245108097791672, 0.04494825750589371, 0.03146103769540787, 0.017976263538002968, 0.040775008499622345, 0.026232006028294563, 0.02910453826189041, 0.032863158732652664, 0.06312327086925507, 0.039967380464076996, 0.031937435269355774, 0.050057586282491684, 0.050039853900671005, 0.026298468932509422, 0.040675751864910126, 0.03425349295139313, 0.03361440822482109, 0.0867224931716919, 0.0, 0.0, 0.0, 0.0, 0.0], [0.06342679262161255, 0.018928565084934235, 0.015915196388959885, 0.02297447994351387, 0.01581357792019844, 0.011996153742074966, 0.006959729362279177, 0.010440587066113949, 0.027604445815086365, 0.014203779399394989, 0.011755010113120079, 0.02697419747710228, 0.015696223825216293, 0.03244095668196678, 0.021464018151164055, 0.016300220042467117, 0.0315910279750824, 0.01829563081264496, 0.024074900895357132, 0.018299637362360954, 0.04905860498547554, 0.03294461593031883, 0.03169503062963486, 0.04070065915584564, 0.055267881602048874, 0.03228399530053139, 0.01833721436560154, 0.020621931180357933, 0.020615678280591965, 0.061421554535627365, 0.21189773082733154, 0.0, 0.0, 0.0, 0.0], [0.05903124064207077, 0.011650336906313896, 0.011906320229172707, 0.02030511572957039, 0.01582455076277256, 0.011342637240886688, 0.012165091000497341, 0.02051454968750477, 0.02463514357805252, 0.017877543345093727, 0.008976958692073822, 0.027097539976239204, 0.010151366703212261, 0.029500098899006844, 0.022961722686886787, 0.011527126654982567, 0.03249189257621765, 0.020219076424837112, 0.02027125470340252, 0.027604965493083, 0.04230693355202675, 0.022920362651348114, 0.02739838883280754, 0.024839352816343307, 0.02841997891664505, 0.041721612215042114, 0.0314212329685688, 0.035203296691179276, 0.03063124790787697, 0.06006475165486336, 0.04537738487124443, 0.19364091753959656, 0.0, 0.0, 0.0], [0.08590575307607651, 0.014704101718962193, 0.01051056943833828, 0.028699850663542747, 0.016654489561915398, 0.012795397080481052, 0.009235279634594917, 0.014819215051829815, 0.028232725337147713, 0.011867676861584187, 0.009268179535865784, 0.02304435707628727, 0.017553268000483513, 0.03295404091477394, 0.025013744831085205, 0.012247500941157341, 0.02679957076907158, 0.013326537795364857, 0.016479838639497757, 0.034728217869997025, 0.0398079976439476, 0.05067337676882744, 0.03086116537451744, 0.027551840990781784, 0.036164239048957825, 0.01740610972046852, 0.04716058075428009, 0.025891846045851707, 0.028397273272275925, 0.060471389442682266, 0.03584858402609825, 0.03886668384075165, 0.11605862528085709, 0.0, 0.0], [0.05670773237943649, 0.015243273228406906, 0.009892583824694157, 0.017495431005954742, 0.03529243543744087, 0.015370232984423637, 0.010747745633125305, 0.017091594636440277, 0.021245012059807777, 0.01306450366973877, 0.006394113413989544, 0.021768182516098022, 0.01101536676287651, 0.023290839046239853, 0.0209710281342268, 0.012346654199063778, 0.0241196621209383, 0.013815038837492466, 0.016820499673485756, 0.034515149891376495, 0.030974799767136574, 0.032177552580833435, 0.03227026388049126, 0.023270370438694954, 0.027259433642029762, 0.01785033382475376, 0.05776430666446686, 0.024271579459309578, 0.025243021547794342, 0.03774581849575043, 0.015895813703536987, 0.026596596464514732, 0.04215160384774208, 0.2093215137720108, 0.0], [0.047369711101055145, 0.013491545803844929, 0.008601202629506588, 0.011534377932548523, 0.03260952979326248, 0.008750014007091522, 0.010495416820049286, 0.01597345806658268, 0.024224920198321342, 0.013959748670458794, 0.011584172025322914, 0.020906994119286537, 0.01231019850820303, 0.02849937044084072, 0.014403226785361767, 0.011428195983171463, 0.02442454919219017, 0.02128404565155506, 0.027576271444559097, 0.025762220844626427, 0.0491495318710804, 0.021549450233578682, 0.020725885406136513, 0.030232440680265427, 0.04683731868863106, 0.02172248438000679, 0.020257199183106422, 0.01914953999221325, 0.010533900000154972, 0.05002591386437416, 0.030405575409531593, 0.022812236100435257, 0.02946246787905693, 0.039963193237781525, 0.20198363065719604]], [[1.0, 0.0, 0.0, 0.0, 0.0, 0.0, 0.0, 0.0, 0.0, 0.0, 0.0, 0.0, 0.0, 0.0, 0.0, 0.0, 0.0, 0.0, 0.0, 0.0, 0.0, 0.0, 0.0, 0.0, 0.0, 0.0, 0.0, 0.0, 0.0, 0.0, 0.0, 0.0, 0.0, 0.0, 0.0], [0.8253123164176941, 0.1746876984834671, 0.0, 0.0, 0.0, 0.0, 0.0, 0.0, 0.0, 0.0, 0.0, 0.0, 0.0, 0.0, 0.0, 0.0, 0.0, 0.0, 0.0, 0.0, 0.0, 0.0, 0.0, 0.0, 0.0, 0.0, 0.0, 0.0, 0.0, 0.0, 0.0, 0.0, 0.0, 0.0, 0.0], [0.7580503821372986, 0.1302967369556427, 0.11165298521518707, 0.0, 0.0, 0.0, 0.0, 0.0, 0.0, 0.0, 0.0, 0.0, 0.0, 0.0, 0.0, 0.0, 0.0, 0.0, 0.0, 0.0, 0.0, 0.0, 0.0, 0.0, 0.0, 0.0, 0.0, 0.0, 0.0, 0.0, 0.0, 0.0, 0.0, 0.0, 0.0], [0.7232239842414856, 0.0827442854642868, 0.07870829850435257, 0.11532341688871384, 0.0, 0.0, 0.0, 0.0, 0.0, 0.0, 0.0, 0.0, 0.0, 0.0, 0.0, 0.0, 0.0, 0.0, 0.0, 0.0, 0.0, 0.0, 0.0, 0.0, 0.0, 0.0, 0.0, 0.0, 0.0, 0.0, 0.0, 0.0, 0.0, 0.0, 0.0], [0.559454083442688, 0.08694439381361008, 0.0911555364727974, 0.09393446892499924, 0.1685115247964859, 0.0, 0.0, 0.0, 0.0, 0.0, 0.0, 0.0, 0.0, 0.0, 0.0, 0.0, 0.0, 0.0, 0.0, 0.0, 0.0, 0.0, 0.0, 0.0, 0.0, 0.0, 0.0, 0.0, 0.0, 0.0, 0.0, 0.0, 0.0, 0.0, 0.0], [0.5031396746635437, 0.08192653954029083, 0.05872315913438797, 0.10480904579162598, 0.15214207768440247, 0.09925955533981323, 0.0, 0.0, 0.0, 0.0, 0.0, 0.0, 0.0, 0.0, 0.0, 0.0, 0.0, 0.0, 0.0, 0.0, 0.0, 0.0, 0.0, 0.0, 0.0, 0.0, 0.0, 0.0, 0.0, 0.0, 0.0, 0.0, 0.0, 0.0, 0.0], [0.527961015701294, 0.05825977399945259, 0.06836593896150589, 0.11652140319347382, 0.11039452999830246, 0.06918036937713623, 0.04931706190109253, 0.0, 0.0, 0.0, 0.0, 0.0, 0.0, 0.0, 0.0, 0.0, 0.0, 0.0, 0.0, 0.0, 0.0, 0.0, 0.0, 0.0, 0.0, 0.0, 0.0, 0.0, 0.0, 0.0, 0.0, 0.0, 0.0, 0.0, 0.0], [0.300100713968277, 0.0882599800825119, 0.058349307626485825, 0.10984241962432861, 0.1686263531446457, 0.1289690136909485, 0.023227611556649208, 0.12262461334466934, 0.0, 0.0, 0.0, 0.0, 0.0, 0.0, 0.0, 0.0, 0.0, 0.0, 0.0, 0.0, 0.0, 0.0, 0.0, 0.0, 0.0, 0.0, 0.0, 0.0, 0.0, 0.0, 0.0, 0.0, 0.0, 0.0, 0.0], [0.3934404253959656, 0.04758618399500847, 0.05194966495037079, 0.07471580803394318, 0.11950992792844772, 0.05938037112355232, 0.023368606343865395, 0.1026640459895134, 0.1273849755525589, 0.0, 0.0, 0.0, 0.0, 0.0, 0.0, 0.0, 0.0, 0.0, 0.0, 0.0, 0.0, 0.0, 0.0, 0.0, 0.0, 0.0, 0.0, 0.0, 0.0, 0.0, 0.0, 0.0, 0.0, 0.0, 0.0], [0.3446025550365448, 0.05032898858189583, 0.05991330370306969, 0.04483131691813469, 0.1573815643787384, 0.06782461702823639, 0.03229011222720146, 0.07052529603242874, 0.08953903615474701, 0.08276327699422836, 0.0, 0.0, 0.0, 0.0, 0.0, 0.0, 0.0, 0.0, 0.0, 0.0, 0.0, 0.0, 0.0, 0.0, 0.0, 0.0, 0.0, 0.0, 0.0, 0.0, 0.0, 0.0, 0.0, 0.0, 0.0], [0.3350846767425537, 0.0462699718773365, 0.04785766080021858, 0.10917433351278305, 0.04435236006975174, 0.044907260686159134, 0.02844385989010334, 0.07920625805854797, 0.10731327533721924, 0.06832479685544968, 0.08906549960374832, 0.0, 0.0, 0.0, 0.0, 0.0, 0.0, 0.0, 0.0, 0.0, 0.0, 0.0, 0.0, 0.0, 0.0, 0.0, 0.0, 0.0, 0.0, 0.0, 0.0, 0.0, 0.0, 0.0, 0.0], [0.3115721642971039, 0.03927760198712349, 0.03521274775266647, 0.07551000267267227, 0.08078575134277344, 0.04503688961267471, 0.028806496411561966, 0.10218670964241028, 0.08797677606344223, 0.05585259944200516, 0.0857192650437355, 0.0520629957318306, 0.0, 0.0, 0.0, 0.0, 0.0, 0.0, 0.0, 0.0, 0.0, 0.0, 0.0, 0.0, 0.0, 0.0, 0.0, 0.0, 0.0, 0.0, 0.0, 0.0, 0.0, 0.0, 0.0], [0.361469566822052, 0.06311224400997162, 0.02698993869125843, 0.07095800340175629, 0.03985174745321274, 0.029446516185998917, 0.022796377539634705, 0.07072701305150986, 0.11304392665624619, 0.03335518017411232, 0.037144191563129425, 0.04763943701982498, 0.08346597105264664, 0.0, 0.0, 0.0, 0.0, 0.0, 0.0, 0.0, 0.0, 0.0, 0.0, 0.0, 0.0, 0.0, 0.0, 0.0, 0.0, 0.0, 0.0, 0.0, 0.0, 0.0, 0.0], [0.2688591480255127, 0.032650742679834366, 0.039381880313158035, 0.05081148445606232, 0.08684229850769043, 0.043101970106363297, 0.017922362312674522, 0.06655360758304596, 0.07785406708717346, 0.045288991183042526, 0.06586870551109314, 0.046066053211688995, 0.07721768319606781, 0.08158090710639954, 0.0, 0.0, 0.0, 0.0, 0.0, 0.0, 0.0, 0.0, 0.0, 0.0, 0.0, 0.0, 0.0, 0.0, 0.0, 0.0, 0.0, 0.0, 0.0, 0.0, 0.0], [0.20790526270866394, 0.030814677476882935, 0.02946298196911812, 0.05067425221204758, 0.08743471652269363, 0.04770582914352417, 0.02733319252729416, 0.09152112901210785, 0.05214142054319382, 0.04708246514201164, 0.0808199867606163, 0.05453275516629219, 0.12074846029281616, 0.05516167730093002, 0.01666121929883957, 0.0, 0.0, 0.0, 0.0, 0.0, 0.0, 0.0, 0.0, 0.0, 0.0, 0.0, 0.0, 0.0, 0.0, 0.0, 0.0, 0.0, 0.0, 0.0, 0.0], [0.19932864606380463, 0.04206705093383789, 0.057157713919878006, 0.07193329930305481, 0.05065879225730896, 0.031524572521448135, 0.027136793360114098, 0.04140905663371086, 0.09322269260883331, 0.052022069692611694, 0.0254228375852108, 0.05927914008498192, 0.06613777577877045, 0.09582275152206421, 0.03163217753171921, 0.05524463579058647, 0.0, 0.0, 0.0, 0.0, 0.0, 0.0, 0.0, 0.0, 0.0, 0.0, 0.0, 0.0, 0.0, 0.0, 0.0, 0.0, 0.0, 0.0, 0.0], [0.2371978461742401, 0.03067580983042717, 0.02920851670205593, 0.05821242555975914, 0.06082989647984505, 0.03495607152581215, 0.02444053255021572, 0.07084924727678299, 0.05983857437968254, 0.039703454822301865, 0.05932589992880821, 0.0367523618042469, 0.07694031298160553, 0.06171641871333122, 0.014049740508198738, 0.06745626777410507, 0.0378466434776783, 0.0, 0.0, 0.0, 0.0, 0.0, 0.0, 0.0, 0.0, 0.0, 0.0, 0.0, 0.0, 0.0, 0.0, 0.0, 0.0, 0.0, 0.0], [0.2499532252550125, 0.0266294926404953, 0.03931760415434837, 0.044632140547037125, 0.07087578624486923, 0.034094225615262985, 0.02126503176987171, 0.05726417899131775, 0.05179663375020027, 0.03503985330462456, 0.043922778218984604, 0.039228759706020355, 0.06155911460518837, 0.05122422054409981, 0.01561197079718113, 0.08278115093708038, 0.03891744092106819, 0.03588632494211197, 0.0, 0.0, 0.0, 0.0, 0.0, 0.0, 0.0, 0.0, 0.0, 0.0, 0.0, 0.0, 0.0, 0.0, 0.0, 0.0, 0.0], [0.222697913646698, 0.026518123224377632, 0.039789535105228424, 0.027604011818766594, 0.08196069300174713, 0.03582964092493057, 0.015378961339592934, 0.06874662637710571, 0.05343089625239372, 0.05469820648431778, 0.057215701788663864, 0.03161528334021568, 0.03717071935534477, 0.052282966673374176, 0.011851195245981216, 0.0720609650015831, 0.030878296121954918, 0.024411147460341454, 0.055859170854091644, 0.0, 0.0, 0.0, 0.0, 0.0, 0.0, 0.0, 0.0, 0.0, 0.0, 0.0, 0.0, 0.0, 0.0, 0.0, 0.0], [0.0741928443312645, 0.05092698335647583, 0.028230978175997734, 0.034200072288513184, 0.033614277839660645, 0.05182216688990593, 0.009658369235694408, 0.04940612614154816, 0.09883324801921844, 0.05356481298804283, 0.024581892415881157, 0.058791860938072205, 0.01302679255604744, 0.10889022052288055, 0.01567712239921093, 0.04766634479165077, 0.06507279723882675, 0.03886166960000992, 0.03984261676669121, 0.10313882678747177, 0.0, 0.0, 0.0, 0.0, 0.0, 0.0, 0.0, 0.0, 0.0, 0.0, 0.0, 0.0, 0.0, 0.0, 0.0], [0.22614887356758118, 0.02576986514031887, 0.03336169198155403, 0.04034487530589104, 0.06116843968629837, 0.03166025131940842, 0.023036977276206017, 0.04815824329853058, 0.04964130371809006, 0.025703294202685356, 0.05132424086332321, 0.029225792735815048, 0.0462723933160305, 0.04679546132683754, 0.01047150045633316, 0.043467387557029724, 0.02797776460647583, 0.03356105834245682, 0.03209925815463066, 0.05562404915690422, 0.05818727985024452, 0.0, 0.0, 0.0, 0.0, 0.0, 0.0, 0.0, 0.0, 0.0, 0.0, 0.0, 0.0, 0.0, 0.0], [0.19442987442016602, 0.020005781203508377, 0.02566998079419136, 0.02761007659137249, 0.07351990789175034, 0.02511858008801937, 0.01642843894660473, 0.0544336661696434, 0.044502679258584976, 0.0222728680819273, 0.029331287369132042, 0.03064262866973877, 0.06286600232124329, 0.0433916412293911, 0.010216007009148598, 0.09763479232788086, 0.02960142306983471, 0.028080439195036888, 0.03757164254784584, 0.050374019891023636, 0.06089738756418228, 0.015400802716612816, 0.0, 0.0, 0.0, 0.0, 0.0, 0.0, 0.0, 0.0, 0.0, 0.0, 0.0, 0.0, 0.0], [0.19766588509082794, 0.04115748405456543, 0.03360121697187424, 0.023870186880230904, 0.06633445620536804, 0.02801697514951229, 0.01958293840289116, 0.051785632967948914, 0.031591467559337616, 0.02653614990413189, 0.041643161326646805, 0.025757955387234688, 0.043284084647893906, 0.029939457774162292, 0.012750324793159962, 0.05606915056705475, 0.024677351117134094, 0.021505896002054214, 0.04559293016791344, 0.07480885088443756, 0.04433403164148331, 0.0219973623752594, 0.03749701753258705, 0.0, 0.0, 0.0, 0.0, 0.0, 0.0, 0.0, 0.0, 0.0, 0.0, 0.0, 0.0], [0.18043570220470428, 0.023349834606051445, 0.023929763585329056, 0.04454169049859047, 0.040705956518650055, 0.03654098138213158, 0.016616584733128548, 0.05323561653494835, 0.05028392747044563, 0.02584689110517502, 0.04605168476700783, 0.024920543655753136, 0.03976094350218773, 0.048934243619441986, 0.01239002589136362, 0.06191656365990639, 0.023965351283550262, 0.028754480183124542, 0.025095414370298386, 0.06865917891263962, 0.0735766664147377, 0.01804691180586815, 0.022800737991929054, 0.009640377014875412, 0.0, 0.0, 0.0, 0.0, 0.0, 0.0, 0.0, 0.0, 0.0, 0.0, 0.0], [0.2424635887145996, 0.02469644322991371, 0.03868826478719711, 0.033572323620319366, 0.05476619303226471, 0.033804669976234436, 0.02072160691022873, 0.03275461494922638, 0.04349980503320694, 0.018562650308012962, 0.03646847978234291, 0.031002484261989594, 0.03862547129392624, 0.039931803941726685, 0.010727171786129475, 0.03831766918301582, 0.029280317947268486, 0.02467811480164528, 0.02788931503891945, 0.045021556317806244, 0.043075986206531525, 0.016905825585126877, 0.02358628623187542, 0.007298625539988279, 0.043660618364810944, 0.0, 0.0, 0.0, 0.0, 0.0, 0.0, 0.0, 0.0, 0.0, 0.0], [0.11111283302307129, 0.02945874072611332, 0.024559464305639267, 0.030902527272701263, 0.0338648296892643, 0.03363064303994179, 0.0128314308822155, 0.030669264495372772, 0.06390533596277237, 0.023481527343392372, 0.025704609230160713, 0.03766980394721031, 0.016167864203453064, 0.06660738587379456, 0.017231767997145653, 0.030658656731247902, 0.039240479469299316, 0.024295223876833916, 0.026388783007860184, 0.058640256524086, 0.10666143894195557, 0.017623886466026306, 0.024245431646704674, 0.01827959157526493, 0.0367501899600029, 0.05941799655556679, 0.0, 0.0, 0.0, 0.0, 0.0, 0.0, 0.0, 0.0, 0.0], [0.17855210602283478, 0.04373869672417641, 0.02777230180799961, 0.03288249671459198, 0.08083150535821915, 0.036148551851511, 0.01943815127015114, 0.03604712709784508, 0.0315406359732151, 0.02228383533656597, 0.026742082089185715, 0.020272962749004364, 0.049294911324977875, 0.028057049959897995, 0.010035552084445953, 0.028219016268849373, 0.018526636064052582, 0.025377927348017693, 0.039212293922901154, 0.05273989960551262, 0.024735089391469955, 0.028674766421318054, 0.02940598875284195, 0.013893150724470615, 0.01760646514594555, 0.05648735538125038, 0.021483466029167175, 0.0, 0.0, 0.0, 0.0, 0.0, 0.0, 0.0, 0.0], [0.15546512603759766, 0.049169376492500305, 0.024515941739082336, 0.025700541213154793, 0.054831311106681824, 0.042092710733413696, 0.011645037680864334, 0.06493962556123734, 0.031219758093357086, 0.02656278945505619, 0.02832687459886074, 0.018289055675268173, 0.03490860387682915, 0.029660996049642563, 0.008558589033782482, 0.046650469303131104, 0.01766982674598694, 0.02372436597943306, 0.019038721919059753, 0.0771576315164566, 0.027307406067848206, 0.019747745245695114, 0.02436412125825882, 0.01442995760589838, 0.01892836019396782, 0.058505602180957794, 0.024364052340388298, 0.022225426509976387, 0.0, 0.0, 0.0, 0.0, 0.0, 0.0, 0.0], [0.19332920014858246, 0.026298338547348976, 0.030392497777938843, 0.029611896723508835, 0.04520164057612419, 0.03307906910777092, 0.02184075117111206, 0.02659415267407894, 0.045382820069789886, 0.03843946382403374, 0.026915382593870163, 0.024535102769732475, 0.015795713290572166, 0.04036761447787285, 0.010634277015924454, 0.026345480233430862, 0.022409796714782715, 0.019946031272411346, 0.04401850327849388, 0.06709346920251846, 0.03345474600791931, 0.01608494482934475, 0.025615863502025604, 0.01140951830893755, 0.013623218052089214, 0.04055490717291832, 0.016662968322634697, 0.03589887171983719, 0.018463704735040665, 0.0, 0.0, 0.0, 0.0, 0.0, 0.0], [0.15965189039707184, 0.018642345443367958, 0.02667771838605404, 0.028047846630215645, 0.049077730625867844, 0.026045653969049454, 0.01780771091580391, 0.03679424524307251, 0.04596943035721779, 0.019110890105366707, 0.03796318545937538, 0.027620622888207436, 0.02834104746580124, 0.04296436160802841, 0.008847597055137157, 0.03253018483519554, 0.025659993290901184, 0.02448510006070137, 0.02996622584760189, 0.04054071381688118, 0.04233502596616745, 0.01769455149769783, 0.02121768333017826, 0.00638094637542963, 0.03103392757475376, 0.035579703748226166, 0.025066185742616653, 0.026607472449541092, 0.024308431893587112, 0.043031539767980576, 0.0, 0.0, 0.0, 0.0, 0.0], [0.1966170221567154, 0.01979137770831585, 0.0330333448946476, 0.025687091052532196, 0.042206063866615295, 0.03137581795454025, 0.01624363660812378, 0.030698413029313087, 0.03629427030682564, 0.026839345693588257, 0.026712188497185707, 0.023046310991048813, 0.021950101479887962, 0.033448368310928345, 0.010305739007890224, 0.022743642330169678, 0.021480806171894073, 0.021094731986522675, 0.031490396708250046, 0.036927297711372375, 0.03723211586475372, 0.015421994030475616, 0.019252346828579903, 0.007320492062717676, 0.02476692385971546, 0.0443916842341423, 0.019850723445415497, 0.02613365650177002, 0.018124466761946678, 0.042709071189165115, 0.036810580641031265, 0.0, 0.0, 0.0, 0.0], [0.16313208639621735, 0.022932477295398712, 0.029583686962723732, 0.028615498915314674, 0.037784643471241, 0.026518700644373894, 0.026229016482830048, 0.031034143641591072, 0.03483205661177635, 0.018975622951984406, 0.033202946186065674, 0.02643594890832901, 0.03230736404657364, 0.0313291922211647, 0.011727883480489254, 0.027169130742549896, 0.024106519296765327, 0.02262030355632305, 0.025755561888217926, 0.03801414743065834, 0.03207404538989067, 0.017354248091578484, 0.017987214028835297, 0.009293687529861927, 0.04247136786580086, 0.0312158465385437, 0.019006574526429176, 0.021523447707295418, 0.0175411906093359, 0.040145207196474075, 0.018160777166485786, 0.04091952368617058, 0.0, 0.0, 0.0], [0.15803849697113037, 0.016828810796141624, 0.02064238302409649, 0.045382529497146606, 0.046641748398542404, 0.027835221961140633, 0.020206501707434654, 0.04211511090397835, 0.03703448176383972, 0.01774458959698677, 0.030353324487805367, 0.024713624268770218, 0.03428488224744797, 0.03341371938586235, 0.009082170203328133, 0.035213764756917953, 0.022280128672719002, 0.020849991589784622, 0.027390213683247566, 0.032314613461494446, 0.037649236619472504, 0.014920790679752827, 0.016553670167922974, 0.006309076678007841, 0.02321874164044857, 0.0279498603194952, 0.02383223921060562, 0.01532355509698391, 0.017670491710305214, 0.026815276592969894, 0.022188855335116386, 0.028694557026028633, 0.03650737553834915, 0.0, 0.0], [0.17019405961036682, 0.032125912606716156, 0.029870115220546722, 0.019615579396486282, 0.05489381030201912, 0.03622056543827057, 0.0171522069722414, 0.0323265939950943, 0.03150069713592529, 0.029624538496136665, 0.02909429371356964, 0.01662425883114338, 0.02998979575932026, 0.027614140883088112, 0.010949777439236641, 0.034366536885499954, 0.014830099418759346, 0.015176059678196907, 0.030502913519740105, 0.041597459465265274, 0.02064121700823307, 0.017041224986314774, 0.02617543190717697, 0.010538812726736069, 0.0074417986907064915, 0.03439135104417801, 0.026077089831233025, 0.02961563877761364, 0.013693026266992092, 0.01807429827749729, 0.03374852240085602, 0.029002606868743896, 0.013117287307977676, 0.016172276809811592, 0.0], [0.11417391896247864, 0.016700683161616325, 0.023576250299811363, 0.03235284239053726, 0.05511363595724106, 0.029616650193929672, 0.017176374793052673, 0.05952788144350052, 0.038434240967035294, 0.020421102643013, 0.03235999122262001, 0.019217442721128464, 0.01913512498140335, 0.03519752249121666, 0.010996297933161259, 0.044014424085617065, 0.016835961490869522, 0.01621248759329319, 0.02384052984416485, 0.04231661558151245, 0.03716840595006943, 0.009007316082715988, 0.015979530289769173, 0.005828786175698042, 0.02082641050219536, 0.028255825862288475, 0.03160589560866356, 0.024252012372016907, 0.023285290226340294, 0.01991749182343483, 0.02455977164208889, 0.02195737510919571, 0.01319314818829298, 0.020208796486258507, 0.03673402592539787]]]}\n",
              "    )\n",
              "    </script>"
            ]
          },
          "metadata": {}
        }
      ],
      "source": [
        "import circuitsvis as cv\n",
        "from IPython.display import display\n",
        "\n",
        "html = cv.attention.attention_patterns(\n",
        "    tokens=reference_gpt2.to_str_tokens(reference_text),\n",
        "    attention=cache[\"pattern\", 0][0]\n",
        ")\n",
        "display(html)"
      ]
    },
    {
      "cell_type": "markdown",
      "metadata": {
        "id": "vcT1uWPGfHN2"
      },
      "source": [
        "You can also use the `attention_heads` function, which has similar syntax but presents the information in a different (sometimes more helpful) way.\n"
      ]
    },
    {
      "cell_type": "markdown",
      "metadata": {
        "id": "yMqCi5OYfHN2"
      },
      "source": [
        "<details>\n",
        "<summary>Help - my <code>attention_heads</code> plots are behaving weirdly.</summary>\n",
        "\n",
        "This seems to be a bug in `circuitsvis` - on VSCode, the attention head plots continually shrink in size.\n",
        "\n",
        "Until this is fixed, one way to get around it is to open the plots in your browser. You can do this inline with the `webbrowser` library:\n",
        "\n",
        "```python\n",
        "attn_heads = cv.attention.attention_heads(\n",
        "    tokens=reference_gpt2.to_str_tokens(reference_text),\n",
        "    attention=cache[\"pattern\", 0][0]\n",
        ")\n",
        "\n",
        "path = \"attn_heads.html\"\n",
        "\n",
        "with open(path, \"w\") as f:\n",
        "    f.write(str(attn_heads))\n",
        "\n",
        "webbrowser.open(path)\n",
        "```\n",
        "\n",
        "To check exactly where this is getting saved, you can print your current working directory with `os.getcwd()`.\n",
        "</details>\n"
      ]
    },
    {
      "cell_type": "markdown",
      "metadata": {
        "id": "972Ltv3vtDOH"
      },
      "source": [
        "---\n",
        "\n",
        "Note - don't worry if you don't get 100% accuracy here; the tests are pretty stringent. Even things like having your `einsum` input arguments in a different order might result in the output being very slightly different. You should be getting at least 99% accuracy though, so if the value is lower then this it probably means you've made a mistake somewhere.\n",
        "\n",
        "Also, this implementation will probably be the most challenging exercise on this page, so don't worry if it takes you some time! You should look at parts of the solution if you're stuck.\n"
      ]
    },
    {
      "cell_type": "markdown",
      "metadata": {
        "id": "CeWonT0afHN2"
      },
      "source": [
        "Note: The `\"IGNORE\"` buffer is a very large negative number. This is the value you should mask your attention scores with (i.e. set them to this number wherever you want the probabilities to be zero).\n",
        "\n",
        "<details>\n",
        "<summary>Question - why do you think we mask the attention scores by setting them to a large negative number, rather than the attention probabilities by setting them to zero?</summary>\n",
        "\n",
        "If we masked the attention probabilities, then the probabilities would no longer sum to 1.\n",
        "\n",
        "We want to mask the scores and *then* take softmax, so that the probabilities are still valid probabilities (i.e. they sum to 1), and the values in the masked positions have no influence on the model's output.\n",
        "</details>\n"
      ]
    },
    {
      "cell_type": "code",
      "execution_count": null,
      "metadata": {
        "id": "wNOKYkvom4R_",
        "colab": {
          "base_uri": "https://localhost:8080/"
        },
        "outputId": "1b898bbc-6840-4b4f-93c6-674f3fcc471e"
      },
      "outputs": [
        {
          "output_type": "stream",
          "name": "stdout",
          "text": [
            "Input shape: torch.Size([2, 4, 768])\n",
            "Output shape: torch.Size([2, 4, 768]) \n",
            "\n",
            "Input shape: torch.Size([1, 35, 768])\n",
            "Output shape: torch.Size([1, 35, 768])\n",
            "Reference output shape: torch.Size([1, 35, 768]) \n",
            "\n",
            "100.00% of the values are correct\n",
            "\n"
          ]
        }
      ],
      "source": [
        "class Attention(nn.Module):\n",
        "    IGNORE: Float[Tensor, \"\"]\n",
        "\n",
        "    def __init__(self, cfg: Config):\n",
        "        super().__init__()\n",
        "        self.cfg = cfg\n",
        "        self.W_Q = nn.Parameter(t.empty((cfg.n_heads, cfg.d_model, cfg.d_head)))\n",
        "        self.W_K = nn.Parameter(t.empty((cfg.n_heads, cfg.d_model, cfg.d_head)))\n",
        "        self.W_V = nn.Parameter(t.empty((cfg.n_heads, cfg.d_model, cfg.d_head)))\n",
        "        self.W_O = nn.Parameter(t.empty((cfg.n_heads, cfg.d_head, cfg.d_model)))\n",
        "        self.b_Q = nn.Parameter(t.zeros((cfg.n_heads, cfg.d_head)))\n",
        "        self.b_K = nn.Parameter(t.zeros((cfg.n_heads, cfg.d_head)))\n",
        "        self.b_V = nn.Parameter(t.zeros((cfg.n_heads, cfg.d_head)))\n",
        "        self.b_O = nn.Parameter(t.zeros((cfg.d_model)))\n",
        "        nn.init.normal_(self.W_Q, std=self.cfg.init_range)\n",
        "        nn.init.normal_(self.W_K, std=self.cfg.init_range)\n",
        "        nn.init.normal_(self.W_V, std=self.cfg.init_range)\n",
        "        nn.init.normal_(self.W_O, std=self.cfg.init_range)\n",
        "        self.register_buffer(\"IGNORE\", t.tensor(-1e5, dtype=t.float32, device=device))\n",
        "\n",
        "    def forward(\n",
        "        self, normalized_resid_pre: Float[Tensor, \"batch posn d_model\"]\n",
        "    ) -> Float[Tensor, \"batch posn d_model\"]:\n",
        "        # Use einops!\n",
        "        # And to help us understand your code quickly, try to use only the following names with einops:\n",
        "        # batch nheads posn_Q posn_K d_model d_head\n",
        "\n",
        "        # GoGoGoGo\n",
        "\n",
        "        #einops.einsum(normalized_resid_pre, \"\")\n",
        "\n",
        "        # Calculate query, key and value vectors\n",
        "        q = einops.einsum(\n",
        "            normalized_resid_pre, self.W_Q,\n",
        "            \"batch posn d_model, nheads d_model d_head -> batch posn nheads d_head\",\n",
        "        ) + self.b_Q\n",
        "\n",
        "        k = einops.einsum(\n",
        "            normalized_resid_pre, self.W_K,\n",
        "            \"batch posn d_model, nheads d_model d_head -> batch posn nheads d_head\",\n",
        "        ) + self.b_K\n",
        "\n",
        "        v = einops.einsum(\n",
        "            normalized_resid_pre, self.W_V,\n",
        "            \"batch posn d_model, nheads d_model d_head -> batch posn nheads d_head\",\n",
        "        ) + self.b_V\n",
        "\n",
        "\n",
        "        # Calculate attention scores\n",
        "        attn_scores = einops.einsum(\n",
        "            q, k,\n",
        "            \"batch posn_Q nheads d_head, batch posn_K nheads d_head -> batch nheads posn_Q posn_K\",\n",
        "        )\n",
        "\n",
        "        # then scale and apply mask and apply softmax on the correct dimension to get probabilities\n",
        "        attn_scores_masked = self.apply_causal_mask(attn_scores / self.cfg.d_head ** 0.5)\n",
        "        attn_pattern = attn_scores_masked.softmax(dim=-1)\n",
        "\n",
        "        # Take weighted sum of value vectors, according to attention probabilities\n",
        "        z = einops.einsum(\n",
        "            v, attn_pattern,\n",
        "            \"batch posn_K nheads d_head, batch nheads posn_Q posn_K -> batch posn_Q nheads d_head\",\n",
        "        )\n",
        "\n",
        "        # Calculate output (by applying matrix W_O and summing over heads, then adding bias b_O)\n",
        "        attn_out = einops.einsum(\n",
        "            z, self.W_O,\n",
        "            \"batch posn_Q nheads d_head, nheads d_head d_model -> batch posn_Q d_model\",\n",
        "        ) + self.b_O\n",
        "        return attn_out\n",
        "\n",
        "\n",
        "    def apply_causal_mask(\n",
        "        self, attn_scores: Float[Tensor, \"batch n_heads query_pos key_pos\"]\n",
        "    ) -> Float[Tensor, \"batch n_heads query_pos key_pos\"]:\n",
        "        '''\n",
        "        Applies a causal mask to attention scores, and returns masked scores.\n",
        "        '''\n",
        "        # Define a mask that is True for all positions we want to set probabilities to zero for\n",
        "        all_ones = t.ones(attn_scores.size(-2), attn_scores.size(-1), device=attn_scores.device)\n",
        "        mask = t.triu(all_ones, diagonal=1).bool()\n",
        "        # Apply the mask to attention scores, then return the masked scores\n",
        "        attn_scores.masked_fill_(mask, self.IGNORE)\n",
        "        return attn_scores\n",
        "\n",
        "rand_float_test(Attention, [2, 4, 768])\n",
        "load_gpt2_test(Attention, reference_gpt2.blocks[0].attn, cache[\"normalized\", 0, \"ln1\"])"
      ]
    },
    {
      "cell_type": "markdown",
      "metadata": {
        "id": "Cn0_PpeKt3UT"
      },
      "source": [
        "\n",
        "\n",
        "<details>\n",
        "<summary>Solution</summary>\n",
        "\n",
        "\n",
        "```python\n",
        "class Attention(nn.Module):\n",
        "    IGNORE: Float[Tensor, \"\"]\n",
        "\n",
        "    def __init__(self, cfg: Config):\n",
        "        super().__init__()\n",
        "        self.cfg = cfg\n",
        "        self.W_Q = nn.Parameter(t.empty((cfg.n_heads, cfg.d_model, cfg.d_head)))\n",
        "        self.W_K = nn.Parameter(t.empty((cfg.n_heads, cfg.d_model, cfg.d_head)))\n",
        "        self.W_V = nn.Parameter(t.empty((cfg.n_heads, cfg.d_model, cfg.d_head)))\n",
        "        self.W_O = nn.Parameter(t.empty((cfg.n_heads, cfg.d_head, cfg.d_model)))\n",
        "        self.b_Q = nn.Parameter(t.zeros((cfg.n_heads, cfg.d_head)))\n",
        "        self.b_K = nn.Parameter(t.zeros((cfg.n_heads, cfg.d_head)))\n",
        "        self.b_V = nn.Parameter(t.zeros((cfg.n_heads, cfg.d_head)))\n",
        "        self.b_O = nn.Parameter(t.zeros((cfg.d_model)))\n",
        "        nn.init.normal_(self.W_Q, std=self.cfg.init_range)\n",
        "        nn.init.normal_(self.W_K, std=self.cfg.init_range)\n",
        "        nn.init.normal_(self.W_V, std=self.cfg.init_range)\n",
        "        nn.init.normal_(self.W_O, std=self.cfg.init_range)\n",
        "        self.register_buffer(\"IGNORE\", t.tensor(-1e5, dtype=t.float32, device=device))\n",
        "\n",
        "    def forward(\n",
        "        self, normalized_resid_pre: Float[Tensor, \"batch posn d_model\"]\n",
        "    ) -> Float[Tensor, \"batch posn d_model\"]:\n",
        "        # SOLUTION\n",
        "        # Calculate query, key and value vectors\n",
        "        q = einops.einsum(\n",
        "            normalized_resid_pre, self.W_Q,\n",
        "            \"batch posn d_model, nheads d_model d_head -> batch posn nheads d_head\",\n",
        "        ) + self.b_Q\n",
        "        k = einops.einsum(\n",
        "            normalized_resid_pre, self.W_K,\n",
        "            \"batch posn d_model, nheads d_model d_head -> batch posn nheads d_head\",\n",
        "        ) + self.b_K\n",
        "        v = einops.einsum(\n",
        "            normalized_resid_pre, self.W_V,\n",
        "            \"batch posn d_model, nheads d_model d_head -> batch posn nheads d_head\",\n",
        "        ) + self.b_V\n",
        "\n",
        "        # Calculate attention scores, then scale and mask, and apply softmax to get probabilities\n",
        "        attn_scores = einops.einsum(\n",
        "            q, k,\n",
        "            \"batch posn_Q nheads d_head, batch posn_K nheads d_head -> batch nheads posn_Q posn_K\",\n",
        "        )\n",
        "        attn_scores_masked = self.apply_causal_mask(attn_scores / self.cfg.d_head ** 0.5)\n",
        "        attn_pattern = attn_scores_masked.softmax(-1)\n",
        "\n",
        "        # Take weighted sum of value vectors, according to attention probabilities\n",
        "        z = einops.einsum(\n",
        "            v, attn_pattern,\n",
        "            \"batch posn_K nheads d_head, batch nheads posn_Q posn_K -> batch posn_Q nheads d_head\",\n",
        "        )\n",
        "\n",
        "        # Calculate output (by applying matrix W_O and summing over heads, then adding bias b_O)\n",
        "        attn_out = einops.einsum(\n",
        "            z, self.W_O,\n",
        "            \"batch posn_Q nheads d_head, nheads d_head d_model -> batch posn_Q d_model\",\n",
        "        ) + self.b_O\n",
        "\n",
        "        return attn_out\n",
        "\n",
        "    def apply_causal_mask(\n",
        "        self, attn_scores: Float[Tensor, \"batch n_heads query_pos key_pos\"]\n",
        "    ) -> Float[Tensor, \"batch n_heads query_pos key_pos\"]:\n",
        "        '''\n",
        "        Applies a causal mask to attention scores, and returns masked scores.\n",
        "        '''\n",
        "        # SOLUTION\n",
        "        # Define a mask that is True for all positions we want to set probabilities to zero for\n",
        "        all_ones = t.ones(attn_scores.size(-2), attn_scores.size(-1), device=attn_scores.device)\n",
        "        mask = t.triu(all_ones, diagonal=1).bool()\n",
        "        # Apply the mask to attention scores, then return the masked scores\n",
        "        attn_scores.masked_fill_(mask, self.IGNORE)\n",
        "        return attn_scores\n",
        "```\n",
        "</details>\n"
      ]
    },
    {
      "cell_type": "markdown",
      "metadata": {
        "id": "5phgYX4Um4SA"
      },
      "source": [
        "## MLP\n",
        "\n",
        "```c\n",
        "Difficulty: 🟠🟠⚪⚪⚪\n",
        "Importance: 🟠🟠🟠🟠⚪\n",
        "\n",
        "You should spend up to 10-15 minutes on this exercise.\n",
        "```\n",
        "\n",
        "Next, you should implement the MLP layer, which consists of:\n",
        "\n",
        "* A linear layer, with weight `W_in`, bias `b_in`\n",
        "* A nonlinear functino (we usually use GELU; the function `gelu_new` has been imported for this purpose)\n",
        "* A linear layer, with weight `W_out`, bias `b_out`\n"
      ]
    },
    {
      "cell_type": "code",
      "execution_count": null,
      "metadata": {
        "id": "5ByI-Sj2m4SA",
        "colab": {
          "base_uri": "https://localhost:8080/"
        },
        "outputId": "a303a517-e719-4437-8cce-0b0c32b4753b"
      },
      "outputs": [
        {
          "output_type": "stream",
          "name": "stdout",
          "text": [
            "Input shape: torch.Size([2, 4, 768])\n",
            "Output shape: torch.Size([2, 4, 768]) \n",
            "\n",
            "Input shape: torch.Size([1, 35, 768])\n",
            "Output shape: torch.Size([1, 35, 768])\n",
            "Reference output shape: torch.Size([1, 35, 768]) \n",
            "\n",
            "100.00% of the values are correct\n",
            "\n"
          ]
        }
      ],
      "source": [
        "class MLP(nn.Module):\n",
        "    def __init__(self, cfg: Config):\n",
        "        super().__init__()\n",
        "        self.cfg = cfg\n",
        "        self.W_in = nn.Parameter(t.empty((cfg.d_model, cfg.d_mlp)))\n",
        "        self.W_out = nn.Parameter(t.empty((cfg.d_mlp, cfg.d_model)))\n",
        "        self.b_in = nn.Parameter(t.zeros((cfg.d_mlp)))\n",
        "        self.b_out = nn.Parameter(t.zeros((cfg.d_model)))\n",
        "        nn.init.normal_(self.W_in, std=self.cfg.init_range)\n",
        "        nn.init.normal_(self.W_out, std=self.cfg.init_range)\n",
        "\n",
        "    def forward(\n",
        "        self, normalized_resid_mid: Float[Tensor, \"batch posn d_model\"]\n",
        "    ) -> Float[Tensor, \"batch posn d_model\"]:\n",
        "        a = einops.einsum(\n",
        "            normalized_resid_mid, self.W_in,\n",
        "            \"batch posn d_model, d_model d_mlp -> batch posn d_mlp\",\n",
        "        ) + self.b_in\n",
        "        b = gelu_new(a)\n",
        "        c = einops.einsum(\n",
        "            b, self.W_out,\n",
        "            \"batch posn d_mlp, d_mlp d_model -> batch posn d_model\",\n",
        "        ) + self.b_out\n",
        "        return c\n",
        "        pre = einops.einsum(\n",
        "            normalized_resid_mid, self.W_in,\n",
        "            \"batch position d_model, d_model d_mlp -> batch position d_mlp\",\n",
        "        ) + self.b_in\n",
        "        post = gelu_new(pre)\n",
        "        mlp_out = einops.einsum(\n",
        "            post, self.W_out,\n",
        "            \"batch position d_mlp, d_mlp d_model -> batch position d_model\",\n",
        "        ) + self.b_out\n",
        "        return mlp_out\n",
        "\n",
        "rand_float_test(MLP, [2, 4, 768])\n",
        "load_gpt2_test(MLP, reference_gpt2.blocks[0].mlp, cache[\"normalized\", 0, \"ln2\"])"
      ]
    },
    {
      "cell_type": "markdown",
      "metadata": {
        "id": "V213jUezuk9y"
      },
      "source": [
        "<details>\n",
        "<summary>Solution</summary>\n",
        "\n",
        "\n",
        "```python\n",
        "class MLP(nn.Module):\n",
        "    def __init__(self, cfg: Config):\n",
        "        super().__init__()\n",
        "        self.cfg = cfg\n",
        "        self.W_in = nn.Parameter(t.empty((cfg.d_model, cfg.d_mlp)))\n",
        "        self.W_out = nn.Parameter(t.empty((cfg.d_mlp, cfg.d_model)))\n",
        "        self.b_in = nn.Parameter(t.zeros((cfg.d_mlp)))\n",
        "        self.b_out = nn.Parameter(t.zeros((cfg.d_model)))\n",
        "        nn.init.normal_(self.W_in, std=self.cfg.init_range)\n",
        "        nn.init.normal_(self.W_out, std=self.cfg.init_range)\n",
        "\n",
        "    def forward(\n",
        "        self, normalized_resid_mid: Float[Tensor, \"batch posn d_model\"]\n",
        "    ) -> Float[Tensor, \"batch posn d_model\"]:\n",
        "        # SOLUTION\n",
        "        pre = einops.einsum(\n",
        "            normalized_resid_mid, self.W_in,\n",
        "            \"batch position d_model, d_model d_mlp -> batch position d_mlp\",\n",
        "        ) + self.b_in\n",
        "        post = gelu_new(pre)\n",
        "        mlp_out = einops.einsum(\n",
        "            post, self.W_out,\n",
        "            \"batch position d_mlp, d_mlp d_model -> batch position d_model\",\n",
        "        ) + self.b_out\n",
        "        return mlp_out\n",
        "```\n",
        "</details>\n"
      ]
    },
    {
      "cell_type": "markdown",
      "metadata": {
        "id": "Vo4pVDvim4R8"
      },
      "source": [
        "## (Bonus) LayerNorm\n",
        "\n",
        "```c\n",
        "Difficulty: 🟠🟠🟠⚪⚪\n",
        "Importance: 🟠🟠🟠⚪⚪\n",
        "\n",
        "You should spend up to 10-15 minutes on this exercise.\n",
        "```\n",
        "\n",
        "You should fill in the code below, and then run the tests to verify that your layer is working correctly.\n",
        "\n",
        "Your LayerNorm should do the following:\n",
        "\n",
        "* Make mean 0\n",
        "* Normalize to have variance 1\n",
        "* Scale with learned weights\n",
        "* Translate with learned bias\n",
        "\n",
        "You can use the PyTorch [LayerNorm documentation](https://pytorch.org/docs/stable/generated/torch.nn.LayerNorm.html) as a reference. A few more notes:\n",
        "\n",
        "* Your layernorm implementation always has `affine=True`, i.e. you do learn parameters `w` and `b` (which are represented as $\\gamma$ and $\\beta$ respectively in the PyTorch documentation).\n",
        "* Remember that, after the centering and normalization, each vector of length `d_model` in your input should have mean 0 and variance 1.\n",
        "* As the PyTorch documentation page says, your variance should be computed using `unbiased=False`.\n",
        "* The `layer_norm_eps` argument in your config object corresponds to the $\\epsilon$ term in the PyTorch documentation (it is included to avoid division-by-zero errors).\n",
        "* We've given you a `debug` argument in your config. If `debug=True`, then you can print output like the shape of objects in your `forward` function to help you debug (this is a very useful trick to improve your coding speed).\n",
        "\n",
        "Fill in the function, where it says `pass` (this will be the basic pattern for most other exercises in this section).\n"
      ]
    },
    {
      "cell_type": "code",
      "execution_count": null,
      "metadata": {
        "id": "OlU317NRm4R9",
        "colab": {
          "base_uri": "https://localhost:8080/"
        },
        "outputId": "d5a010af-7c4a-4ac1-81f2-556f5433b9b9"
      },
      "outputs": [
        {
          "output_type": "stream",
          "name": "stdout",
          "text": [
            "Input shape: torch.Size([2, 4, 768])\n",
            "Output shape: torch.Size([2, 4, 768]) \n",
            "\n",
            "Input shape: torch.Size([1, 35, 768])\n",
            "Output shape: torch.Size([1, 35, 768])\n",
            "Reference output shape: torch.Size([1, 35, 768]) \n",
            "\n",
            "100.00% of the values are correct\n",
            "\n"
          ]
        }
      ],
      "source": [
        "class LayerNorm(nn.Module):\n",
        "    def __init__(self, cfg: Config):\n",
        "        super().__init__()\n",
        "        self.cfg = cfg\n",
        "        self.w = nn.Parameter(t.ones(cfg.d_model))\n",
        "        self.b = nn.Parameter(t.zeros(cfg.d_model))\n",
        "\n",
        "    def forward(self, residual: Float[Tensor, \"batch posn d_model\"]) -> Float[Tensor, \"batch posn d_model\"]:\n",
        "        residual_mean = residual.mean(dim=-1, keepdim=True)\n",
        "        residual_std = (residual.var(dim=-1, keepdim=True, unbiased=False) + self.cfg.layer_norm_eps).sqrt()\n",
        "\n",
        "        residual = (residual - residual_mean) / residual_std\n",
        "        return residual * self.w + self.b\n",
        "\n",
        "rand_float_test(LayerNorm, [2, 4, 768])\n",
        "load_gpt2_test(LayerNorm, reference_gpt2.ln_final, cache[\"resid_post\", 11])"
      ]
    },
    {
      "cell_type": "markdown",
      "metadata": {
        "id": "guuK9nPZqFO7"
      },
      "source": [
        "<details>\n",
        "<summary>Solution</summary>\n",
        "\n",
        "\n",
        "```python\n",
        "class LayerNorm(nn.Module):\n",
        "    def __init__(self, cfg: Config):\n",
        "        super().__init__()\n",
        "        self.cfg = cfg\n",
        "        self.w = nn.Parameter(t.ones(cfg.d_model))\n",
        "        self.b = nn.Parameter(t.zeros(cfg.d_model))\n",
        "\n",
        "    def forward(self, residual: Float[Tensor, \"batch posn d_model\"]) -> Float[Tensor, \"batch posn d_model\"]:\n",
        "        # SOLUTION\n",
        "        residual_mean = residual.mean(dim=-1, keepdim=True)\n",
        "        residual_std = (residual.var(dim=-1, keepdim=True, unbiased=False) + self.cfg.layer_norm_eps).sqrt()\n",
        "\n",
        "        residual = (residual - residual_mean) / residual_std\n",
        "        return residual * self.w + self.b\n",
        "```\n",
        "</details>\n"
      ]
    },
    {
      "cell_type": "markdown",
      "metadata": {
        "id": "wZWuD4I4m4SA"
      },
      "source": [
        "## Transformer Block\n",
        "\n",
        "```c\n",
        "Difficulty: 🟠🟠⚪⚪⚪\n",
        "Importance: 🟠🟠🟠⚪⚪\n",
        "\n",
        "You should spend up to ~10 minutes on this exercise.\n",
        "```\n",
        "\n",
        "Now, we can put together the attention, MLP and layernorms into a single transformer block. Remember to implement the residual connections correctly!\n"
      ]
    },
    {
      "cell_type": "code",
      "execution_count": null,
      "metadata": {
        "id": "ffiFxAJzm4SA",
        "colab": {
          "base_uri": "https://localhost:8080/"
        },
        "outputId": "c54a0ba9-3aa5-41c9-aeab-992d322b1449"
      },
      "outputs": [
        {
          "output_type": "stream",
          "name": "stdout",
          "text": [
            "Input shape: torch.Size([2, 4, 768])\n",
            "Output shape: torch.Size([2, 4, 768]) \n",
            "\n",
            "Input shape: torch.Size([1, 35, 768])\n",
            "Output shape: torch.Size([1, 35, 768])\n",
            "Reference output shape: torch.Size([1, 35, 768]) \n",
            "\n",
            "100.00% of the values are correct\n",
            "\n"
          ]
        }
      ],
      "source": [
        "class TransformerBlock(nn.Module):\n",
        "    def __init__(self, cfg: Config):\n",
        "        super().__init__()\n",
        "        self.cfg = cfg\n",
        "        self.ln1 = LayerNorm(cfg)\n",
        "        self.attn = Attention(cfg)\n",
        "        self.ln2 = LayerNorm(cfg)\n",
        "        self.mlp = MLP(cfg)\n",
        "\n",
        "    def forward(\n",
        "        self, resid_pre: Float[Tensor, \"batch position d_model\"]\n",
        "    ) -> Float[Tensor, \"batch position d_model\"]:\n",
        "        # First, we compute the attention, but the residual stream needs to be normalized beforehand\n",
        "        resid_mid = resid_pre + self.attn(self.ln1(resid_pre))\n",
        "\n",
        "        # Then, we compute the MLP, again, the input of the MLP needs to be normalized beforehand\n",
        "        resid_post = resid_mid + self.mlp(self.ln2(resid_mid))\n",
        "\n",
        "        return resid_post\n",
        "\n",
        "rand_float_test(TransformerBlock, [2, 4, 768])\n",
        "load_gpt2_test(TransformerBlock, reference_gpt2.blocks[0], cache[\"resid_pre\", 0])"
      ]
    },
    {
      "cell_type": "markdown",
      "metadata": {
        "id": "ekxozAr1fHN3"
      },
      "source": [
        "<details>\n",
        "<summary>Solution</summary>\n",
        "\n",
        "\n",
        "```python\n",
        "class TransformerBlock(nn.Module):\n",
        "    def __init__(self, cfg: Config):\n",
        "        super().__init__()\n",
        "        self.cfg = cfg\n",
        "        self.ln1 = LayerNorm(cfg)\n",
        "        self.attn = Attention(cfg)\n",
        "        self.ln2 = LayerNorm(cfg)\n",
        "        self.mlp = MLP(cfg)\n",
        "\n",
        "    def forward(\n",
        "        self, resid_pre: Float[Tensor, \"batch position d_model\"]\n",
        "    ) -> Float[Tensor, \"batch position d_model\"]:\n",
        "        # SOLUTION\n",
        "        resid_mid = self.attn(self.ln1(resid_pre)) + resid_pre\n",
        "        resid_post = self.mlp(self.ln2(resid_mid)) + resid_mid\n",
        "        return resid_post\n",
        "```\n",
        "</details>\n"
      ]
    },
    {
      "cell_type": "markdown",
      "metadata": {
        "id": "mgzAM-VQm4SA"
      },
      "source": [
        "## Unembedding\n",
        "\n",
        "```c\n",
        "Difficulty: 🟠🟠⚪⚪⚪\n",
        "Importance: 🟠🟠🟠⚪⚪\n",
        "\n",
        "You should spend up to ~10 minutes on this exercise.\n",
        "```\n",
        "\n",
        "The unembedding is jus a linear layer (with weight `W_U` and bias `b_U`).\n"
      ]
    },
    {
      "cell_type": "code",
      "execution_count": null,
      "metadata": {
        "id": "XEMB7p_Vm4SA",
        "colab": {
          "base_uri": "https://localhost:8080/"
        },
        "outputId": "e503adc5-8f72-46b4-bdf8-dea64da92e6a"
      },
      "outputs": [
        {
          "output_type": "stream",
          "name": "stdout",
          "text": [
            "Input shape: torch.Size([2, 4, 768])\n",
            "Output shape: torch.Size([2, 4, 50257]) \n",
            "\n",
            "Input shape: torch.Size([1, 35, 768])\n",
            "Output shape: torch.Size([1, 35, 50257])\n",
            "Reference output shape: torch.Size([1, 35, 50257]) \n",
            "\n",
            "100.00% of the values are correct\n",
            "\n"
          ]
        }
      ],
      "source": [
        "class Unembed(nn.Module):\n",
        "    def __init__(self, cfg):\n",
        "        super().__init__()\n",
        "        self.cfg = cfg\n",
        "        self.W_U = nn.Parameter(t.empty((cfg.d_model, cfg.d_vocab)))\n",
        "        nn.init.normal_(self.W_U, std=self.cfg.init_range)\n",
        "        self.b_U = nn.Parameter(t.zeros((cfg.d_vocab), requires_grad=False))\n",
        "\n",
        "    def forward(\n",
        "        self, normalized_resid_final: Float[Tensor, \"batch position d_model\"]\n",
        "    ) -> Float[Tensor, \"batch position d_vocab\"]:\n",
        "        return einops.einsum(normalized_resid_final, self.W_U,\n",
        "                          \"batch position d_model, d_model d_vocab -> batch position d_vocab\"\n",
        "                          ) + self.b_U\n",
        "\n",
        "rand_float_test(Unembed, [2, 4, 768])\n",
        "load_gpt2_test(Unembed, reference_gpt2.unembed, cache[\"ln_final.hook_normalized\"])"
      ]
    },
    {
      "cell_type": "markdown",
      "metadata": {
        "id": "zWIIxu5sfHN4"
      },
      "source": [
        "<details>\n",
        "<summary>Solution</summary>\n",
        "\n",
        "\n",
        "```python\n",
        "class Unembed(nn.Module):\n",
        "    def __init__(self, cfg):\n",
        "        super().__init__()\n",
        "        self.cfg = cfg\n",
        "        self.W_U = nn.Parameter(t.empty((cfg.d_model, cfg.d_vocab)))\n",
        "        nn.init.normal_(self.W_U, std=self.cfg.init_range)\n",
        "        self.b_U = nn.Parameter(t.zeros((cfg.d_vocab), requires_grad=False))\n",
        "\n",
        "    def forward(\n",
        "        self, normalized_resid_final: Float[Tensor, \"batch position d_model\"]\n",
        "    ) -> Float[Tensor, \"batch position d_vocab\"]:\n",
        "        # SOLUTION\n",
        "        return einops.einsum(\n",
        "            normalized_resid_final, self.W_U,\n",
        "            \"batch posn d_model, d_model d_vocab -> batch posn d_vocab\",\n",
        "        ) + self.b_U\n",
        "        # Or, could just do `normalized_resid_final @ self.W_U + self.b_U`\n",
        "```\n",
        "</details>\n"
      ]
    },
    {
      "cell_type": "markdown",
      "metadata": {
        "id": "_eRyuDxLm4SB"
      },
      "source": [
        "## Full Transformer\n",
        "\n",
        "```c\n",
        "Difficulty: 🟠🟠⚪⚪⚪\n",
        "Importance: 🟠🟠🟠⚪⚪\n",
        "\n",
        "You should spend up to ~10 minutes on this exercise.\n",
        "```\n"
      ]
    },
    {
      "cell_type": "code",
      "execution_count": null,
      "metadata": {
        "id": "KCCrXlzYm4SB",
        "colab": {
          "base_uri": "https://localhost:8080/"
        },
        "outputId": "3ff681cd-15e6-4c93-d45e-9142c3bce6d4"
      },
      "outputs": [
        {
          "output_type": "stream",
          "name": "stdout",
          "text": [
            "Input shape: torch.Size([2, 4])\n",
            "Output shape: torch.Size([2, 4, 50257]) \n",
            "\n",
            "Input shape: torch.Size([1, 45])\n",
            "Output shape: torch.Size([1, 45, 50257])\n",
            "Reference output shape: torch.Size([1, 45, 50257]) \n",
            "\n",
            "100.00% of the values are correct\n",
            "\n"
          ]
        }
      ],
      "source": [
        "class DemoTransformer(nn.Module):\n",
        "    def __init__(self, cfg: Config):\n",
        "        super().__init__()\n",
        "        self.cfg = cfg\n",
        "        self.embed = Embed(cfg)\n",
        "        self.pos_embed = PosEmbed(cfg)\n",
        "        self.blocks = nn.ModuleList([TransformerBlock(cfg) for _ in range(cfg.n_layers)])\n",
        "        self.ln_final = LayerNorm(cfg)\n",
        "        self.unembed = Unembed(cfg)\n",
        "\n",
        "    def forward(self, tokens: Int[Tensor, \"batch position\"]) -> Float[Tensor, \"batch position d_vocab\"]:\n",
        "        # Hint: modules are defined in the order they should be used\n",
        "        pre = self.embed(tokens) + self.pos_embed(tokens)\n",
        "        pos = self.blocks[0](pre)\n",
        "        for b in self.blocks[1:]:\n",
        "          pos = b(pos)\n",
        "        final = self.ln_final(pos)\n",
        "        return self.unembed(final)\n",
        "\n",
        "\n",
        "rand_int_test(DemoTransformer, [2, 4])\n",
        "load_gpt2_test(DemoTransformer, reference_gpt2, tokens)"
      ]
    },
    {
      "cell_type": "markdown",
      "metadata": {
        "id": "o4HYNvIyfHN4"
      },
      "source": [
        "<details>\n",
        "<summary>Solution</summary>\n",
        "\n",
        "\n",
        "```python\n",
        "class DemoTransformer(nn.Module):\n",
        "    def __init__(self, cfg: Config):\n",
        "        super().__init__()\n",
        "        self.cfg = cfg\n",
        "        self.embed = Embed(cfg)\n",
        "        self.pos_embed = PosEmbed(cfg)\n",
        "        self.blocks = nn.ModuleList([TransformerBlock(cfg) for _ in range(cfg.n_layers)])\n",
        "        self.ln_final = LayerNorm(cfg)\n",
        "        self.unembed = Unembed(cfg)\n",
        "\n",
        "    def forward(self, tokens: Int[Tensor, \"batch position\"]) -> Float[Tensor, \"batch position d_vocab\"]:\n",
        "        # SOLUTION\n",
        "        residual = self.embed(tokens) + self.pos_embed(tokens)\n",
        "        for block in self.blocks:\n",
        "            residual = block(residual)\n",
        "        logits = self.unembed(self.ln_final(residual))\n",
        "        return logits\n",
        "```\n",
        "</details>\n"
      ]
    },
    {
      "cell_type": "markdown",
      "metadata": {
        "id": "yNwh7R1em4SB"
      },
      "source": [
        "**Try it out!**\n"
      ]
    },
    {
      "cell_type": "code",
      "execution_count": null,
      "metadata": {
        "id": "deE6uPlxm4SB"
      },
      "outputs": [],
      "source": [
        "demo_gpt2 = DemoTransformer(Config(debug=False)).to(device)\n",
        "demo_gpt2.load_state_dict(reference_gpt2.state_dict(), strict=False)\n",
        "\n",
        "demo_logits = demo_gpt2(tokens)"
      ]
    },
    {
      "cell_type": "markdown",
      "metadata": {
        "id": "gAhstai4m4SB"
      },
      "source": [
        "Let's take a test string, and calculate the loss!\n",
        "\n",
        "We're using the formula for **cross-entropy loss**. The cross entropy loss between a modelled distribution $Q$ and target distribution $P$ is:\n",
        "\n",
        "$$\n",
        "-\\sum_x P(x) \\log Q(x)\n",
        "$$\n",
        "\n",
        "In the case where $P$ is just the empirical distribution from target classes (i.e. $P(x^*) = 1$ for the correct class $x^*$) then this becomes:\n",
        "\n",
        "$$\n",
        "-\\log Q(x^*)\n",
        "$$\n",
        "\n",
        "in other words, the negative log prob of the true classification.\n"
      ]
    },
    {
      "cell_type": "code",
      "execution_count": null,
      "metadata": {
        "id": "UtO9ZsL6m4SB",
        "colab": {
          "base_uri": "https://localhost:8080/"
        },
        "outputId": "be5e117c-2bee-4b11-89cb-a1f5fc3867e4"
      },
      "outputs": [
        {
          "output_type": "stream",
          "name": "stdout",
          "text": [
            "Avg cross entropy loss: 4.0441\n",
            "Avg cross entropy loss for uniform distribution: 10.824905\n",
            "Avg probability assigned to correct token: 0.098629\n"
          ]
        }
      ],
      "source": [
        "def get_log_probs(\n",
        "    logits: Float[Tensor, \"batch posn d_vocab\"],\n",
        "    tokens: Int[Tensor, \"batch posn\"]\n",
        ") -> Float[Tensor, \"batch posn-1\"]:\n",
        "\n",
        "    log_probs = logits.log_softmax(dim=-1)\n",
        "    # Get logprobs the first seq_len-1 predictions (so we can compare them with the actual next tokens)\n",
        "    log_probs_for_tokens = log_probs[:, :-1].gather(dim=-1, index=tokens[:, 1:].unsqueeze(-1)).squeeze(-1)\n",
        "\n",
        "    return log_probs_for_tokens\n",
        "\n",
        "\n",
        "pred_log_probs = get_log_probs(demo_logits, tokens)\n",
        "print(f\"Avg cross entropy loss: {-pred_log_probs.mean():.4f}\")\n",
        "print(f\"Avg cross entropy loss for uniform distribution: {math.log(demo_gpt2.cfg.d_vocab):4f}\")\n",
        "print(f\"Avg probability assigned to correct token: {pred_log_probs.exp().mean():4f}\")"
      ]
    },
    {
      "cell_type": "markdown",
      "metadata": {
        "id": "cOChhr71m4SC"
      },
      "source": [
        "We can also greedily generate text, by taking the most likely next token and continually appending it to our prompt before feeding it back into the model:\n"
      ]
    },
    {
      "cell_type": "code",
      "execution_count": null,
      "metadata": {
        "id": "IPEmKN1Bm4SC",
        "colab": {
          "base_uri": "https://localhost:8080/",
          "height": 86,
          "referenced_widgets": [
            "bfb21d836e164e5d9790a6a934475e6d",
            "b0ce5f43550f4f6bb190824dc6d4dd76",
            "8fd720eabda743aab8564bda9f1f2f88",
            "ae915a99b6d0432d80eb40bf1f945a45",
            "4f3491a72e39453a918c6253cdbf95e4",
            "7fd0dc26bc694100b1b973b5dbd801e5",
            "165e33a34bfd4245b1772529a51be3b4",
            "11d6f037412d4164a320f35e03609910",
            "eb7927cca8834f5babfd32bb992ecb49",
            "1ececf57eebf4fec8b1b3c76095f5fa0",
            "d137524e9b274c3ab829a1e26d07e271"
          ]
        },
        "outputId": "40e604b5-8303-473e-fdae-bf522366e432"
      },
      "outputs": [
        {
          "output_type": "display_data",
          "data": {
            "text/plain": [
              "  0%|          | 0/100 [00:00<?, ?it/s]"
            ],
            "application/vnd.jupyter.widget-view+json": {
              "version_major": 2,
              "version_minor": 0,
              "model_id": "bfb21d836e164e5d9790a6a934475e6d"
            }
          },
          "metadata": {}
        },
        {
          "output_type": "stream",
          "name": "stdout",
          "text": [
            "The Total Perspective Vortex derives its picture of the whole Universe on the principle of the total perspective. The total perspective is the view of the whole Universe from the point of view of the observer. The total perspective is the view of the whole Universe from the point of view of the observer. The total perspective is the view of the whole Universe from the point of view of the observer. The total perspective is the view of the whole Universe from the point of view of the observer. The total perspective is the view of the whole Universe from the point of view of the observer. The\n"
          ]
        }
      ],
      "source": [
        "test_string = '''The Total Perspective Vortex derives its picture of the whole Universe on the principle of'''\n",
        "for i in tqdm(range(100)):\n",
        "    test_tokens = reference_gpt2.to_tokens(test_string).to(device)\n",
        "    demo_logits = demo_gpt2(test_tokens)\n",
        "    test_string += reference_gpt2.tokenizer.decode(demo_logits[-1, -1].argmax())\n",
        "\n",
        "print(test_string)"
      ]
    },
    {
      "cell_type": "markdown",
      "metadata": {
        "id": "tGrShZtp0O0E"
      },
      "source": [
        "In later sections, we'll learn to generate text in slightly more interesting ways than just argmaxing the output.\n"
      ]
    },
    {
      "cell_type": "markdown",
      "metadata": {
        "id": "QfeyG6NZm4SC"
      },
      "source": [
        "# 3️⃣ (Bonus) Training a Transformer\n"
      ]
    },
    {
      "cell_type": "markdown",
      "metadata": {
        "id": "RGFuGCKtnNy3"
      },
      "source": [
        "> ##### Learning objectives\n",
        ">\n",
        "> * Understand how to train a transformer from scratch\n",
        "> * Write a basic transformer training loop\n",
        "> * Interpret the transformer's falling cross entropy loss with reference to features of the training data (e.g. bigram frequencies)\n"
      ]
    },
    {
      "cell_type": "markdown",
      "metadata": {
        "id": "K6oZKflnnXgj"
      },
      "source": [
        "Now that we've built our transformer, and verified that it performs as expected when we load in weights, let's try training it from scratch!\n",
        "\n",
        "This is a lightweight demonstration of how you can actually train your own GPT-2 with this code! Here we train a tiny model on a tiny dataset, but it's fundamentally the same code for training a larger/more real model (though you'll need beefier GPUs and data parallelism to do it remotely efficiently, and fancier parallelism for much bigger ones).\n",
        "\n",
        "For our purposes, we'll train 2L 4 heads per layer model, with context length 256, for 10*200 steps of batch size 16, just to show what it looks like (and so the notebook doesn't melt your colab / machine!)."
      ]
    },
    {
      "cell_type": "markdown",
      "metadata": {
        "id": "-VB5ELjInZzj"
      },
      "source": [
        "## Create Model"
      ]
    },
    {
      "cell_type": "code",
      "execution_count": null,
      "metadata": {
        "id": "4TMr-rMQnayL"
      },
      "outputs": [],
      "source": [
        "model_cfg = Config(\n",
        "    debug=False,\n",
        "    d_model=256,\n",
        "    n_heads=4,\n",
        "    d_head=64,\n",
        "    d_mlp=1024,\n",
        "    n_layers=2,\n",
        "    n_ctx=256,\n",
        "    d_vocab=reference_gpt2.cfg.d_vocab\n",
        ")\n",
        "model = DemoTransformer(model_cfg)"
      ]
    },
    {
      "cell_type": "markdown",
      "metadata": {
        "id": "ggSGeTT_nb5Z"
      },
      "source": [
        "## Training Args\n",
        "\n",
        "\n",
        "Note, for this optimization we'll be using **weight decay**."
      ]
    },
    {
      "cell_type": "code",
      "execution_count": null,
      "metadata": {
        "id": "95hodhD_ndRy"
      },
      "outputs": [],
      "source": [
        "@dataclass\n",
        "class TransformerTrainingArgs():\n",
        "\t\tbatch_size = 16\n",
        "\t\tepochs = 10\n",
        "\t\tmax_steps_per_epoch = 200\n",
        "\t\tlr = 1e-3\n",
        "\t\tweight_decay = 1e-2\n",
        "\t\twandb_project: Optional[str] = \"day1-demotransformer\"\n",
        "\t\twandb_name: Optional[str] = None\n",
        "\n",
        "\n",
        "args = TransformerTrainingArgs()"
      ]
    },
    {
      "cell_type": "markdown",
      "metadata": {
        "id": "lR8gVegcnfW2"
      },
      "source": [
        "## Create Data\n",
        "\n",
        "We load in a tiny dataset made by Neel Nanda, with the first 10K entries in the Pile (inspired by Stas' version for OpenWebText!)"
      ]
    },
    {
      "cell_type": "code",
      "execution_count": null,
      "metadata": {
        "id": "9udsnznsnik8",
        "colab": {
          "base_uri": "https://localhost:8080/",
          "height": 296,
          "referenced_widgets": [
            "32dfe25ef5704c31a8a49c5ae0d9ef0f",
            "5b7ec6a66f7c424da632bb493acd939e",
            "73ddf4d26c3545028bd41ba08cf6dee0",
            "afbce3a6c0f8411a88c309abc81f7483",
            "6b6bc1d28172405eb0770dec1589ec09",
            "1b36604070214d4fa5f50aeed5e8fcf3",
            "fdd5b5b9bcf74b2aa85f3854e974c34d",
            "ee6eb51a8e7645558666cd76678a2827",
            "0eb9b73ffca84a878e4ccfb82768c54c",
            "a2da71482e754dfe972059562ae14b97",
            "4e2e779456e04f30937a1cc83f2eabf5",
            "77b14092cf5640a6acd679995ee449e2",
            "ed7b166e8cc14e8cafcc5043542ffe86",
            "0709dec3092141bf9d46480bb2dc6837",
            "1c47b7966b444e6a9477ff32cf67e16b",
            "29f8097c1bd840eca296aebfb41c61f9",
            "ea1858762f7f4126b45e60795ec60a9e",
            "31820e1a247b4323a464968394228faa",
            "d6f3edb099894a008bcd76933d9f4aa3",
            "070760348424442eb67baf2a76f5a3ac",
            "b955ef0615984298902a61c33bd3520a",
            "1a717170f8f24a169826c88e0fa69c29",
            "70ccf8ce131d4a788f3a042713c8fa07",
            "daad400295364d03b6b9f5358fb554c2",
            "54a71634cd0f41e0a62e82bf69d57c21",
            "71e6d4eff08f4c2eae416586976b79ea",
            "69d3003e354b4e76a221b2ec097e3b4f",
            "ca0818fdff7f4e54a56e4be2ad8c224a",
            "1f472928d3f149b291917caff77c7837",
            "274be9222f8640868d2268bc74d0febd",
            "42171316b2ff4cfd9c3999e502782eda",
            "8e4bad416e76479ab65d6b6bca508195",
            "431a720c39994e7fa4ecdf396d7374a0",
            "75047f4482c04ca58bdd9c921b4721a1",
            "54079b83af02451c9c7fc2920b2317f4",
            "77f4e809a2ee42d99df44dbe7ffc8e78",
            "7b1d72d024234db69ee2e1ca6d3bc304",
            "3d83853d270743829633e35f1656d6a5",
            "75164743f91e4d039cbf6b893024248c",
            "29851333ae7244269559980533887661",
            "202ba52a0bf34276842976f8fd69a6df",
            "aa6f8cf406b34775ba8f8a499222098e",
            "6681fe8f0ef84362bd7c0ff438aafe31",
            "b9980c0f9c10449cb9dacbd4d13ace52",
            "303538d20d7d4c0fb3f896045b2636bd",
            "672ad2e8055f4e92a2f169794b846cba",
            "5032555a74dd4465a39b3e061ec7e09d",
            "07f80793f9c04071b0c56eb9b3e4f857",
            "7484673d03824ffa8652b4d3b5df9408",
            "e8055d64df8d451490b18ea05f732105",
            "eb994eb618274ba7b5d1ecfe1f0edf70",
            "d94f0890381044ab9b82970fd1cc7f75",
            "f985939081de4f59a7395a78abac28cf",
            "4acb6274b20e4a9b8d58f54c56c37286",
            "031501c6096149cc95825fa166acec37",
            "34583e99768b44e19135bd62f849f5f7",
            "f2b29952c08d46e9989f6ecec30e661d",
            "9ef7bc0599d04c8ea7fe113b2c3c1049",
            "ba2d6d08d9f04c3b91363351b0c43273",
            "418e685a5dd1480d83766449d21b6736",
            "d3f49c2d9c38406e9530ce33eb136ba1",
            "faf2cf1e0d944554afa2e1c7f2860852",
            "11f4d2a4d12b412fb73a2943a98acf77",
            "a95d3e2a51c6406b964f7db635f510d3",
            "a573f2a8d8e34fd49f1513b322c6b0db",
            "cc3df1e8f98a47ca9b08dbf07765c422"
          ]
        },
        "outputId": "876a861b-03ac-4da5-b750-34a4096e7d86"
      },
      "outputs": [
        {
          "output_type": "display_data",
          "data": {
            "text/plain": [
              "Downloading readme:   0%|          | 0.00/373 [00:00<?, ?B/s]"
            ],
            "application/vnd.jupyter.widget-view+json": {
              "version_major": 2,
              "version_minor": 0,
              "model_id": "32dfe25ef5704c31a8a49c5ae0d9ef0f"
            }
          },
          "metadata": {}
        },
        {
          "output_type": "display_data",
          "data": {
            "text/plain": [
              "Downloading metadata:   0%|          | 0.00/921 [00:00<?, ?B/s]"
            ],
            "application/vnd.jupyter.widget-view+json": {
              "version_major": 2,
              "version_minor": 0,
              "model_id": "77b14092cf5640a6acd679995ee449e2"
            }
          },
          "metadata": {}
        },
        {
          "output_type": "display_data",
          "data": {
            "text/plain": [
              "Downloading data files:   0%|          | 0/1 [00:00<?, ?it/s]"
            ],
            "application/vnd.jupyter.widget-view+json": {
              "version_major": 2,
              "version_minor": 0,
              "model_id": "70ccf8ce131d4a788f3a042713c8fa07"
            }
          },
          "metadata": {}
        },
        {
          "output_type": "display_data",
          "data": {
            "text/plain": [
              "Downloading data:   0%|          | 0.00/33.3M [00:00<?, ?B/s]"
            ],
            "application/vnd.jupyter.widget-view+json": {
              "version_major": 2,
              "version_minor": 0,
              "model_id": "75047f4482c04ca58bdd9c921b4721a1"
            }
          },
          "metadata": {}
        },
        {
          "output_type": "display_data",
          "data": {
            "text/plain": [
              "Extracting data files:   0%|          | 0/1 [00:00<?, ?it/s]"
            ],
            "application/vnd.jupyter.widget-view+json": {
              "version_major": 2,
              "version_minor": 0,
              "model_id": "303538d20d7d4c0fb3f896045b2636bd"
            }
          },
          "metadata": {}
        },
        {
          "output_type": "display_data",
          "data": {
            "text/plain": [
              "Generating train split:   0%|          | 0/10000 [00:00<?, ? examples/s]"
            ],
            "application/vnd.jupyter.widget-view+json": {
              "version_major": 2,
              "version_minor": 0,
              "model_id": "34583e99768b44e19135bd62f849f5f7"
            }
          },
          "metadata": {}
        },
        {
          "output_type": "stream",
          "name": "stdout",
          "text": [
            "Dataset({\n",
            "    features: ['text'],\n",
            "    num_rows: 10000\n",
            "})\n",
            "It is done, and submitted. You can play “Survival of the Tastiest” on Android, and on the web. Playi\n"
          ]
        }
      ],
      "source": [
        "dataset = datasets.load_dataset(\"NeelNanda/pile-10k\", split=\"train\").remove_columns(\"meta\")\n",
        "print(dataset)\n",
        "print(dataset[0]['text'][:100])"
      ]
    },
    {
      "cell_type": "markdown",
      "metadata": {
        "id": "chj2r8J-njhC"
      },
      "source": [
        "`tokenize_and_concatenate` is a useful function which takes our dataset of strings, and returns a dataset of token IDs ready to feed into the model. We then create a dataloader from this tokenized dataset. The useful method `train_test_split` can give us a training and testing set.\n"
      ]
    },
    {
      "cell_type": "code",
      "execution_count": null,
      "metadata": {
        "id": "mgogWcLUnk0U",
        "colab": {
          "base_uri": "https://localhost:8080/",
          "height": 173,
          "referenced_widgets": [
            "792e87b084904f28a481c75c24d316f4",
            "ebd9a16fe0a74f3597a39182c5d0ccc8",
            "dd313e3fd6524f8e84a6bf5e9ac2b41a",
            "71fe517369c54bfd8b526334f748dd58",
            "4e973534d5a44805b3e6f468b2f1721b",
            "2f8c2a656dc94f76bab8bc2fa1c25797",
            "71d1f0881aa248618b0275db25d83064",
            "82b39c70a8ab44b6b680bab9461c6ebc",
            "fd4b4d78f6ed4d95bb8fcf39cd2d9e45",
            "f254177de59542999cfa70fdbb94de35",
            "8163a0f09ef64abcba8f2e4146e684ac"
          ]
        },
        "outputId": "a2a6a89d-61c7-447a-c07f-7c1b29fde763"
      },
      "outputs": [
        {
          "output_type": "display_data",
          "data": {
            "text/plain": [
              "Map (num_proc=4):   0%|          | 0/10000 [00:00<?, ? examples/s]"
            ],
            "application/vnd.jupyter.widget-view+json": {
              "version_major": 2,
              "version_minor": 0,
              "model_id": "792e87b084904f28a481c75c24d316f4"
            }
          },
          "metadata": {}
        },
        {
          "output_type": "stream",
          "name": "stderr",
          "text": [
            "Token indices sequence length is longer than the specified maximum sequence length for this model (80023 > 1024). Running this sequence through the model will result in indexing errors\n",
            "Token indices sequence length is longer than the specified maximum sequence length for this model (101051 > 1024). Running this sequence through the model will result in indexing errors\n",
            "Token indices sequence length is longer than the specified maximum sequence length for this model (155995 > 1024). Running this sequence through the model will result in indexing errors\n",
            "Token indices sequence length is longer than the specified maximum sequence length for this model (229134 > 1024). Running this sequence through the model will result in indexing errors\n",
            "/usr/local/lib/python3.10/dist-packages/torch/utils/data/dataloader.py:560: UserWarning: This DataLoader will create 4 worker processes in total. Our suggested max number of worker in current system is 2, which is smaller than what this DataLoader is going to create. Please be aware that excessive worker creation might get DataLoader running slow or even freeze, lower the worker number to avoid potential slowness/freeze if necessary.\n",
            "  warnings.warn(_create_warning_msg(\n"
          ]
        }
      ],
      "source": [
        "tokenized_dataset = tokenize_and_concatenate(dataset, reference_gpt2.tokenizer, streaming=False, max_length=model.cfg.n_ctx, column_name=\"text\", add_bos_token=True, num_proc=4)\n",
        "\n",
        "dataset_dict = tokenized_dataset.train_test_split(test_size=1000)\n",
        "train_loader = DataLoader(dataset_dict[\"train\"], batch_size=args.batch_size, shuffle=True, num_workers=4, pin_memory=True)\n",
        "test_loader = DataLoader(dataset_dict[\"test\"], batch_size=args.batch_size, shuffle=False, num_workers=4, pin_memory=True)"
      ]
    },
    {
      "cell_type": "markdown",
      "metadata": {
        "id": "Fcx4oMaInlpi"
      },
      "source": [
        "When we iterate through these dataloaders, we will find dictionaries with the single key `'tokens'`, which maps to a tensor of token IDs with shape `(batch, seq_len)`."
      ]
    },
    {
      "cell_type": "code",
      "execution_count": null,
      "metadata": {
        "id": "Y_Y7vD8BnqK-",
        "colab": {
          "base_uri": "https://localhost:8080/"
        },
        "outputId": "c562e434-9df0-4265-fdf8-82ed1c2f129d"
      },
      "outputs": [
        {
          "output_type": "stream",
          "name": "stdout",
          "text": [
            "dict_keys(['tokens'])\n",
            "torch.Size([16, 256])\n"
          ]
        }
      ],
      "source": [
        "first_batch = train_loader.dataset[:args.batch_size]\n",
        "\n",
        "print(first_batch.keys())\n",
        "print(first_batch['tokens'].shape)"
      ]
    },
    {
      "cell_type": "markdown",
      "metadata": {
        "id": "hyjlKG-AnrZc"
      },
      "source": [
        "## Training Loop\n",
        "\n",
        "If you did the material on [training loops](https://arena-ch0-fundamentals.streamlit.app/[0.3]_ResNets#training-loop) during the first week, this should all be familiar to you. If not, you can skim that section for an overview of the key concepts. The start of the **Training loop** section is most important, and the subsections on [Modularisation](https://arena-ch0-fundamentals.streamlit.app/[0.3]_ResNets#modularisation) and [dataclasses](https://arena-ch0-fundamentals.streamlit.app/[0.3]_ResNets#aside-dataclasses) are also very useful. Lastly, we'll also be using Weights and Biases to train our model - you can read about how to use it [here](https://arena-ch0-fundamentals.streamlit.app/[0.4]_Optimization#what-is-weights-and-biases). Here are (roughly) all the things you should know for the following exercises:\n",
        "                \n",
        "* The key parts of a gradient update step are:\n",
        "    * Calculating the (cross-entropy) loss between a model's output and the true labels,\n",
        "    * `loss.backward()` - calculate gradients of the loss with respect to the model parameters,\n",
        "    * `optimizer.step()` - update the model parameters using the gradients,\n",
        "    * `optimizer.zero_grad()` - zero the gradients so they don't accumulate.\n",
        "* We can nicely package up training loops into a class, which includes methods for training and validation steps among other things. This helps with writing code that can be reused in different contexts.\n",
        "* We can use dataclasses to store all the arguments relevant to training in one place, and then pass them to our trainer class. Autocompletion is one nice bonus of this!\n",
        "    * Be careful of scope here, you want to make sure you're referring to `self.args` within the trainer class, rather than the global `args`.\n",
        "* You can use Weights and Biases to track experiments and log relevant variables. The three essential functions are:\n",
        "    * `wandb.init()` - initialize a new run, takes arguments `project`, `name` and `config` (among others).\n",
        "    * `wandb.log()` - log a dictionary of variables, e.g. `{\"loss\": loss}`. Also takes a `step` argument.\n",
        "    * `wandb.finish()` - called at the end of training (no arguments)."
      ]
    },
    {
      "cell_type": "markdown",
      "metadata": {
        "id": "tvM-W_TGnuoN"
      },
      "source": [
        "### Exercise - write training loop\n",
        "\n",
        "```c\n",
        "Difficulty: 🟠🟠🟠⚪⚪\n",
        "Importance: 🟠🟠🟠🟠⚪\n",
        "\n",
        "You should spend up to 10-20 minutes on this exercise.\n",
        "```"
      ]
    },
    {
      "cell_type": "markdown",
      "metadata": {
        "id": "2qbuJ4winvyY"
      },
      "source": [
        "You should fill in the methods below. Some guidance:\n",
        "\n",
        "* Remember we were able to calculate cross entropy loss using the `get_log_probs` function in the previous section.\n",
        "* You should use the optimizer `t.optim.AdamW` (Adam with weight decay), and with hyperparameters `lr` and `weight_decay` taken from your `TransformerTrainingArgs` dataclass instance.\n",
        "* The easiest way to compute accuracy is to have the `validation_step` method return a 1D boolean tensor indicating the positions where the model's prediction was correct. Then you can concatenate all these tensors together and take the mean to get the overall accuracy for the epoch.\n",
        "* We've given you the argument `max_steps_per_epoch`, a hacky way of making sure the training phase in each epoch doesn't go on for too long. You can terminate each training phase after this many steps.\n",
        "* Remember to move tokens to your device, via `tokens.to(device)` (this should be a global variable, defined at the top of your notebook).\n",
        "* You can refer back to the training loops from the [previous chapter of the course](https://arena-ch0-fundamentals.streamlit.app/[0.3]_ResNets#training-loop) if you'd like.\n"
      ]
    },
    {
      "cell_type": "code",
      "execution_count": null,
      "metadata": {
        "id": "zVBEDTGMnxSk"
      },
      "outputs": [],
      "source": [
        "class TransformerTrainer:\n",
        "\tdef __init__(self, args: TransformerTrainingArgs, model: DemoTransformer):\n",
        "\t\tsuper().__init__()\n",
        "\t\tself.model = model\n",
        "\t\tself.args = args\n",
        "\t\tself.optimizer = t.optim.AdamW(self.model.parameters(), lr=args.lr, weight_decay=args.weight_decay)\n",
        "\t\tself.step = 0\n",
        "\n",
        "\n",
        "\tdef training_step(self, batch: Dict[str, Int[Tensor, \"batch seq\"]]) -> Float[Tensor, \"\"]:\n",
        "\t\t'''\n",
        "\t\tCalculates the loss on the tokens in the batch, performs a gradient update step, and logs the loss.\n",
        "\n",
        "\t\tRemember that `batch` is a dictionary with the single key 'tokens'.\n",
        "\t\t'''\n",
        "\t\ttokens = batch[\"tokens\"].to(device)\n",
        "\t\tlogits = self.model(tokens)\n",
        "\t\tloss = -get_log_probs(logits, tokens).mean()\n",
        "\t\tloss.backward()\n",
        "\t\tself.optimizer.step()\n",
        "\t\tself.optimizer.zero_grad()\n",
        "\t\tself.step += 1\n",
        "\t\twandb.log({\"train_loss\": loss}, step=self.step)\n",
        "\t\treturn loss\n",
        "\n",
        "\tdef validation_step(self, batch: Dict[str, Int[Tensor, \"batch seq\"]]):\n",
        "\t\t'''\n",
        "\t\tCalculates & returns the accuracy on the tokens in the batch (i.e. how often the model's prediction\n",
        "\t\tis correct). Logging should happen in the `train` function (after we've computed the accuracy for\n",
        "\t\tthe whole validation set).\n",
        "\t\t'''\n",
        "\n",
        "\n",
        "\n",
        "\tdef train(self):\n",
        "\t\t'''\n",
        "\t\tTrains the model, for `self.args.epochs` epochs. Also handles wandb initialisation, and early stopping\n",
        "\t\tfor each epoch at `self.args.max_steps_per_epoch` steps.\n",
        "\t\t'''\n",
        "\t\tfor i in range(self.args.epochs):\n",
        "\t\t\tfor i, batch in enumerate(self.train_loader()):\n",
        "\n",
        "\n",
        "\t\t\t\tif self.step >= self.args.max_steps_per_epoch:\n",
        "\t\t\t\t\tbreak\n",
        "\n",
        "\n",
        "\tdef train_loader(self) -> DataLoader:\n",
        "\t\t'''Returns train loader (as in code above).'''\n",
        "\t\treturn DataLoader(dataset_dict[\"train\"], batch_size=self.args.batch_size, shuffle=True, num_workers=4, pin_memory=True)\n",
        "\n",
        "\n",
        "\tdef test_loader(self) -> DataLoader:\n",
        "\t\t'''Returns test loader (as in code above).'''\n",
        "\t\treturn DataLoader(dataset_dict[\"test\"], batch_size=self.args.batch_size, shuffle=False, num_workers=4, pin_memory=True)"
      ]
    },
    {
      "cell_type": "markdown",
      "metadata": {
        "id": "Gmhxv4U8nzFL"
      },
      "source": [
        "\n",
        "<details>\n",
        "<summary>Solution (one implementation)</summary>\n",
        "\n",
        "\n",
        "```python\n",
        "class TransformerTrainer:\n",
        "\tdef __init__(self, args: TransformerTrainingArgs, model: DemoTransformer):\n",
        "\t\tsuper().__init__()\n",
        "\t\tself.model = model\n",
        "\t\tself.args = args\n",
        "\t\tself.optimizer = t.optim.AdamW(self.model.parameters(), lr=args.lr, weight_decay=args.weight_decay)\n",
        "\t\tself.step = 0\n",
        "\n",
        "\n",
        "\tdef training_step(self, batch: Dict[str, Int[Tensor, \"batch seq\"]]) -> Float[Tensor, \"\"]:\n",
        "\t\t'''\n",
        "\t\tCalculates the loss on the tokens in the batch, performs a gradient update step, and logs the loss.\n",
        "\n",
        "\t\tRemember that `batch` is a dictionary with the single key 'tokens'.\n",
        "\t\t'''\n",
        "        # SOLUTION\n",
        "\t\ttokens = batch[\"tokens\"].to(device)\n",
        "\t\tlogits = self.model(tokens)\n",
        "\t\tloss = -get_log_probs(logits, tokens).mean()\n",
        "\t\tloss.backward()\n",
        "\t\tself.optimizer.step()\n",
        "\t\tself.optimizer.zero_grad()\n",
        "\t\tself.step += 1\n",
        "\t\twandb.log({\"train_loss\": loss}, step=self.step)\n",
        "\t\treturn loss\n",
        "\n",
        "\n",
        "\tdef validation_step(self, batch: Dict[str, Int[Tensor, \"batch seq\"]]):\n",
        "\t\t'''\n",
        "\t\tCalculates & returns the accuracy on the tokens in the batch (i.e. how often the model's prediction\n",
        "\t\tis correct). Logging should happen in the `train` function (after we've computed the accuracy for\n",
        "\t\tthe whole validation set).\n",
        "\t\t'''\n",
        "        # SOLUTION\n",
        "\t\ttokens = batch[\"tokens\"].to(device)\n",
        "\t\tlogits: Tensor = self.model(tokens)[:, :-1]\n",
        "\t\tpredicted_tokens = logits.argmax(dim=-1)\n",
        "\t\tcorrect_predictions = (predicted_tokens == tokens[:, 1:]).flatten()\n",
        "\t\treturn correct_predictions\n",
        "\n",
        "\n",
        "\tdef train(self):\n",
        "\t\t'''\n",
        "\t\tTrains the model, for `self.args.epochs` epochs. Also handles wandb initialisation, and early stopping\n",
        "\t\tfor each epoch at `self.args.max_steps_per_epoch` steps.\n",
        "\t\t'''\n",
        "        # SOLUTION\n",
        "\t\twandb.init(project=self.args.wandb_project, name=self.args.wandb_name, config=self.args)\n",
        "\t\taccuracy = np.nan\n",
        "\n",
        "\t\tprogress_bar = tqdm(total = self.args.max_steps_per_epoch * self.args.epochs)\n",
        "\n",
        "\t\tfor epoch in range(self.args.epochs):\n",
        "\t\t\tfor i, batch in enumerate(self.train_loader()):\n",
        "\t\t\t\tloss = self.training_step(batch)\n",
        "\t\t\t\tprogress_bar.update()\n",
        "\t\t\t\tprogress_bar.set_description(f\"Epoch {epoch+1}, loss: {loss:.3f}, accuracy: {accuracy:.2f}\")\n",
        "\t\t\t\tif i >= self.args.max_steps_per_epoch:\n",
        "\t\t\t\t\tbreak\n",
        "\n",
        "\t\t\tcorrect_predictions = t.concat([self.validation_step(batch) for batch in self.test_loader()])\n",
        "\t\t\taccuracy = correct_predictions.float().mean().item()\n",
        "\t\t\twandb.log({\"accuracy\": accuracy}, step=self.step)\n",
        "\n",
        "\t\twandb.finish()\n",
        "\n",
        "\n",
        "\tdef train_loader(self) -> DataLoader:\n",
        "\t\t'''Returns train loader (as in code above).'''\n",
        "\t\treturn DataLoader(dataset_dict[\"train\"], batch_size=self.args.batch_size, shuffle=True, num_workers=4, pin_memory=True)\n",
        "\n",
        "\n",
        "\tdef test_loader(self) -> DataLoader:\n",
        "\t\t'''Returns test loader (as in code above).'''\n",
        "\t\treturn DataLoader(dataset_dict[\"test\"], batch_size=self.args.batch_size, shuffle=False, num_workers=4, pin_memory=True)\n",
        "```\n",
        "</details>"
      ]
    },
    {
      "cell_type": "markdown",
      "metadata": {
        "id": "yvyAODwP3D8K"
      },
      "source": [
        "Note - this section of the course used to use PyTorch Lightning, but this has now been taken out. You can see the old version of the training code which used PyTorch Lightning in the dropdown below.\n",
        "\n",
        "<details>\n",
        "<summary>PyTorch Lighting training loop</summary>\n",
        "\n",
        "```python\n",
        "class LitTransformer(pl.LightningModule):\n",
        "\tdef __init__(self, args: TransformerTrainingArgs, model: DemoTransformer, data_loader: DataLoader):\n",
        "\t\tsuper().__init__()\n",
        "\t\tself.model = model\n",
        "\t\tself.cfg = model.cfg\n",
        "\t\tself.args = args\n",
        "\t\tself.data_loader = data_loader\n",
        "\n",
        "\tdef forward(self, tokens: Int[Tensor, \"batch position\"]) -> Float[Tensor, \"batch position d_vocab\"]:\n",
        "\t\tlogits = self.model(tokens)\n",
        "\t\treturn logits\n",
        "\n",
        "\tdef training_step(self, batch: Dict[str, Tensor], batch_idx: int) -> Float[Tensor, \"\"]:\n",
        "\t\t'''\n",
        "\t\tHere you compute and return the training loss and some additional metrics for e.g.\n",
        "\t\tthe progress bar or logger.\n",
        "\t\t'''\n",
        "\t\ttokens = batch[\"tokens\"].to(device)\n",
        "\t\tlogits = self.model(tokens)\n",
        "\t\tloss = -get_log_probs(logits, tokens).mean()\n",
        "\t\tself.log(\"train_loss\", loss)\n",
        "\t\treturn loss\n",
        "\n",
        "\tdef configure_optimizers(self):\n",
        "\t\t'''\n",
        "\t\tChoose what optimizers and learning-rate schedulers to use in your optimization.\n",
        "\t\t'''\n",
        "\t\toptimizer = t.optim.AdamW(self.model.parameters(), lr=self.args.lr, weight_decay=self.args.weight_decay)\n",
        "\t\treturn optimizer\n",
        "\n",
        "\tdef train_dataloader(self):\n",
        "\t\treturn self.data_loader\n",
        "\n",
        "\n",
        "litmodel = LitTransformer(args, model, data_loader)\n",
        "logger = WandbLogger(save_dir=args.log_dir, project=args.log_name, name=args.run_name)\n",
        "\n",
        "trainer = pl.Trainer(\n",
        "    max_epochs=args.max_epochs,\n",
        "    logger=logger,\n",
        "    log_every_n_steps=args.log_every_n_steps\n",
        ")\n",
        "trainer.fit(model=litmodel, train_dataloaders=litmodel.data_loader)\n",
        "wandb.finish()\n",
        "```\n",
        "\n",
        "</details>"
      ]
    },
    {
      "cell_type": "code",
      "execution_count": null,
      "metadata": {
        "id": "nWJyh1lon0IH"
      },
      "outputs": [],
      "source": [
        "model = DemoTransformer(model_cfg).to(device)\n",
        "args = TransformerTrainingArgs()\n",
        "trainer = TransformerTrainer(args, model)\n",
        "trainer.train()"
      ]
    },
    {
      "cell_type": "markdown",
      "metadata": {
        "id": "bypGwSMYn2Bl"
      },
      "source": [
        "When you run the code for the first time, you'll have to login to Weights and Biases, and paste an API key into VSCode. After this is done, your Weights and Biases training run will start. It'll give you a lot of output text, one line of which will look like:\n",
        "\n",
        "```\n",
        "View run at https://wandb.ai/<USERNAME>/<PROJECT-NAME>/runs/<RUN-NAME>\n",
        "```\n",
        "\n",
        "which you can click on to visit the run page.\n",
        "\n",
        "> Note - to see the plots more clearly in Weights and Biases, you can click on the **edit panel** of your plot (the small pencil symbol at the top-right), then move the **smoothing** slider to the right."
      ]
    },
    {
      "cell_type": "markdown",
      "metadata": {
        "id": "VLJL82W0oWzF"
      },
      "source": [
        "### A note on this loss curve (optional)\n",
        "\n",
        "\n",
        "What's up with the shape of our loss curve? It seems like we start at around 10-11, drops down very fast, but then levels out. It turns out, this is all to do with the kinds of algorithms the model learns during training.\n",
        "\n",
        "When it starts out, your model will be outputting random noise, which might look a lot like \"predict each token with approximately uniform probability\", i.e. $Q(x) = 1/d_\\text{vocab}$ for all $x$. This gives us a cross entropy loss of $\\log (d_\\text{vocab})$.\n",
        "\n"
      ]
    },
    {
      "cell_type": "code",
      "execution_count": null,
      "metadata": {
        "id": "n0_NVezboOHw"
      },
      "outputs": [],
      "source": [
        "d_vocab = model.cfg.d_vocab\n",
        "\n",
        "print(f\"d_vocab = {d_vocab}\")\n",
        "print(f\"Cross entropy loss on uniform distribution = {math.log(d_vocab)}\")"
      ]
    },
    {
      "cell_type": "markdown",
      "metadata": {
        "id": "oLbVtVOYoQp5"
      },
      "source": [
        "The next thing we might expect the model to learn is the frequencies of words in the english language. After all, small common tokens like `\" and\"` or `\" the\"` might appear much more frequently than others. This would give us an average cross entropy loss of:\n",
        "\n",
        "$$\n",
        "- \\sum_x p_x \\log p_x\n",
        "$$\n",
        "\n",
        "where $p_x$ is the actual frequency of the word in our training data.\n",
        "\n",
        "We can evaluate this quantity as follows:"
      ]
    },
    {
      "cell_type": "code",
      "execution_count": null,
      "metadata": {
        "id": "PYLIco76oSeX"
      },
      "outputs": [],
      "source": [
        "toks = tokenized_dataset[:][\"tokens\"].flatten()\n",
        "\n",
        "d_vocab = model.cfg.d_vocab\n",
        "freqs = t.bincount(toks, minlength=d_vocab)\n",
        "probs = freqs.float() / freqs.sum()\n",
        "\n",
        "distn = t.distributions.categorical.Categorical(probs=probs)\n",
        "entropy = distn.entropy()\n",
        "\n",
        "print(f\"Entropy of training data = {entropy}\")"
      ]
    },
    {
      "cell_type": "markdown",
      "metadata": {
        "id": "cQwiLxr6oUUq"
      },
      "source": [
        "After unigram frequencies, the next thing our model usually learns is **bigram frequencies** (i.e. the frequency of pairs of adjacent tokens in the training data). For instance, `\"I\"` and `\" am\"` are common tokens, but their bigram frequency is much higher than it would be if they occurred independently. Bigram frequencies actually take you pretty far, since they also help with:\n",
        "\n",
        "* Some simple grammatical rules (e.g. a full stop being followed by a capitalized word)\n",
        "* Weird quirks of tokenization (e.g. `\" manip\"` being followed by `\"ulative\"`)\n",
        "* Common names (e.g. `\"Barack\"` being followed by `\" Obama\"`)\n",
        "\n",
        "\n",
        "After approximating bigram frequencies, we need to start using smarter techniques, like trigrams (which can only be implemented using attention heads), **induction heads** (which we'll learn a lot more about in the next set of exercises!), and fact memorization or more basic grammar and syntax rules. Marginal improvement starts getting a lot harder around here, leading to a flattening of our loss curve."
      ]
    },
    {
      "cell_type": "markdown",
      "metadata": {
        "id": "hrSd3-YnfHN9"
      },
      "source": [
        "# 4️⃣ (Bonus) Sampling from a Transformer\n"
      ]
    },
    {
      "cell_type": "markdown",
      "metadata": {
        "id": "LdezwBEFfHN9"
      },
      "source": [
        "> ##### Learning objectives\n",
        ">\n",
        "> * Learn how to sample from a transformer\n",
        ">     * This includes basic methods like greedy search or top-k, and more advanced methods like beam search\n",
        "> * Learn how to cache the output of a transformer, so that it can be used to generate text more efficiently\n",
        ">     * Optionally, rewrite your sampling functions to make use of your caching methods\n"
      ]
    },
    {
      "cell_type": "markdown",
      "metadata": {
        "id": "c7C6E0bFfHN9"
      },
      "source": [
        "One obvious method to sample tokens from a distribution would be to always take the token assigned the highest probability. But this can lead to some boring and repetitive outcomes, and at worst it can lock our transformer's output into a loop.\n",
        "\n",
        "First, you should read HuggingFace's blog post [How to generate text: using different decoding methods for language generation with Transformers](https://huggingface.co/blog/how-to-generate).\n",
        "\n",
        "Once you've done that, you can work through the `TransformerSampler` class below, and implement the different sampling methods. Each method will come with its own tests, and demo code for you to run.\n"
      ]
    },
    {
      "cell_type": "code",
      "execution_count": null,
      "metadata": {
        "id": "aviyrTWefHN9"
      },
      "outputs": [],
      "source": [
        "model_cfg = Config()\n",
        "model = DemoTransformer(model_cfg).to(device)\n",
        "model.load_state_dict(reference_gpt2.state_dict(), strict=False)\n",
        "\n",
        "tokenizer = reference_gpt2.tokenizer"
      ]
    },
    {
      "cell_type": "code",
      "execution_count": null,
      "metadata": {
        "id": "4p1szCj1fHN9"
      },
      "outputs": [],
      "source": [
        "class TransformerSampler:\n",
        "\n",
        "    def __init__(self, model: DemoTransformer, tokenizer: GPT2TokenizerFast):\n",
        "        self.model = model\n",
        "        self.cfg = model.cfg\n",
        "        self.tokenizer = tokenizer\n",
        "\n",
        "    @t.inference_mode()\n",
        "    def sample(self, prompt: str, max_tokens_generated=100, verbose=False, **kwargs):\n",
        "        '''\n",
        "        Returns a string of autoregressively generated text, starting from the prompt.\n",
        "\n",
        "        Sampling terminates at max_tokens_generated, or when the model generates an\n",
        "        end-of-sequence token.\n",
        "\n",
        "        kwargs are passed to sample_next_token, to give detailed instructions on how\n",
        "        new tokens are chosen.\n",
        "        '''\n",
        "        pass\n",
        "\n",
        "    @t.inference_mode()\n",
        "    def beam_search(\n",
        "        self,\n",
        "        prompt: str,\n",
        "        num_return_sequences: int,\n",
        "        num_beams: int,\n",
        "        max_new_tokens: int,\n",
        "        no_repeat_ngram_size: int = 0,\n",
        "        verbose=False\n",
        "    ) -> List[Tuple[float, t.Tensor]]:\n",
        "        '''\n",
        "        Returns a string of autoregressively generated text, starting from the prompt.\n",
        "\n",
        "        Sampling terminates at max_tokens_generated, or when the model generates an\n",
        "        end-of-sequence token.\n",
        "\n",
        "        kwargs are passed to sample_next_token, to give detailed instructions on how\n",
        "        new tokens are chosen.\n",
        "        '''\n",
        "        pass\n",
        "\n",
        "\n",
        "    @staticmethod\n",
        "    def sample_next_token(\n",
        "        input_ids: Int[Tensor, \"seq_len\"],\n",
        "        logits: Float[Tensor, \"seq_len d_vocab\"],\n",
        "        temperature=1.0,\n",
        "        top_k=0,\n",
        "        top_p=0.0,\n",
        "        frequency_penalty=0.0,\n",
        "        seed=None\n",
        "    ):\n",
        "        assert input_ids.ndim == 1, \"input_ids should be a 1D sequence of token ids\"\n",
        "        assert temperature >= 0, \"Temperature should be non-negative\"\n",
        "        assert 0 <= top_p <= 1.0, \"Top-p must be a probability\"\n",
        "        assert 0 <= top_k, \"Top-k must be non-negative\"\n",
        "        assert not (top_p != 0 and top_k != 0), \"At most one of top-p and top-k supported\"\n",
        "\n",
        "        # Set random seeds for reproducibility\n",
        "        if seed is not None:\n",
        "            t.manual_seed(seed)\n",
        "            np.random.seed(seed)\n",
        "\n",
        "        # Apply all the specialized sampling methods\n",
        "        if temperature == 0:\n",
        "            return TransformerSampler.greedy_search(logits)\n",
        "        elif temperature != 1.0:\n",
        "            logits = TransformerSampler.apply_temperature(logits, temperature)\n",
        "        if frequency_penalty != 0.0:\n",
        "            logits = TransformerSampler.apply_frequency_penalty(input_ids, logits, frequency_penalty)\n",
        "        if top_k > 0:\n",
        "            return TransformerSampler.sample_top_k(logits, top_k)\n",
        "        if top_p > 0.0:\n",
        "            return TransformerSampler.sample_top_p(logits, top_p)\n",
        "        return TransformerSampler.sample_basic(logits)\n",
        "\n",
        "\n",
        "    @staticmethod\n",
        "    def greedy_search(logits: Float[Tensor, \"d_vocab\"]) -> int:\n",
        "        '''\n",
        "        Returns the most likely token (as an int).\n",
        "        '''\n",
        "        out = logits.argmax().item()\n",
        "        return out\n",
        "\n",
        "\n",
        "    @staticmethod\n",
        "    def apply_temperature(logits: Float[Tensor, \"d_vocab\"], temperature: float) -> Float[Tensor, \"d_vocab\"]:\n",
        "        '''\n",
        "        Applies temperature scaling to the logits.\n",
        "        '''\n",
        "        pass\n",
        "\n",
        "    @staticmethod\n",
        "    def apply_frequency_penalty(input_ids: Int[Tensor, \"seq_len\"], logits: Float[Tensor, \"d_vocab\"], freq_penalty: float) -> Float[Tensor, \"d_vocab\"]:\n",
        "        '''\n",
        "        Applies a frequency penalty to the logits.\n",
        "        '''\n",
        "        pass\n",
        "\n",
        "    @staticmethod\n",
        "    def sample_basic(logits: Float[Tensor, \"d_vocab\"]) -> int:\n",
        "        '''\n",
        "        Samples from the distribution defined by the logits.\n",
        "        '''\n",
        "        pass\n",
        "\n",
        "    @staticmethod\n",
        "    def sample_top_k(logits: Float[Tensor, \"d_vocab\"], k: int) -> int:\n",
        "        '''\n",
        "        Samples from the top k most likely tokens.\n",
        "        '''\n",
        "        pass\n",
        "\n",
        "    @staticmethod\n",
        "    def sample_top_p(logits: Float[Tensor, \"d_vocab\"], top_p: float, min_tokens_to_keep: int = 1) -> int:\n",
        "        '''\n",
        "        Samples from the most likely tokens which make up at least p cumulative probability.\n",
        "        '''\n",
        "        pass"
      ]
    },
    {
      "cell_type": "markdown",
      "metadata": {
        "id": "lwA5ge9KfHN9"
      },
      "source": [
        "## Main Sampling Function\n",
        "\n",
        "The first thing you should do is implement the `sample` method.\n",
        "\n",
        "### Exercise - implement `sample`\n",
        "\n",
        "```c\n",
        "Difficulty: 🟠🟠🟠⚪⚪\n",
        "Importance: 🟠🟠🟠⚪⚪\n",
        "\n",
        "You should spend up to 20-25 minutes on this exercise.\n",
        "```\n",
        "\n",
        "This function takes in a prompt (in the form of a string), encodes it as a sequence of token ids using `self.tokenizer.encode`, and then continually generates new tokens by repeating the following steps:\n",
        "\n",
        "1. Passing the tokenized prompt through the model to get logits,\n",
        "2. Taking the logit vector corresponding to the last token in the prompt (i.e. the prediction for the *next* token),\n",
        "3. Sampling from this distribution to get a new token, using `self.sample_next_token(input_ids, logits, **kwargs)` (here, `kwargs` contains all the sampling-specific arguments, e.g. temperature, top-k, etc.),\n",
        "4. Appending this new token to the input tokens, and repeating the process until we meet one of two termination critera:\n",
        "    * We generate `max_tokens_generated` new tokens, or\n",
        "    * We generate the end-of-sequence token (which we can access via `self.tokenizer.eos_token_id`).\n",
        "\n",
        "Finally, we use `self.tokenizer.decode` to convert the generated token ids back into a string, and return this string.\n",
        "\n",
        "We also have a `verbose` argument - when this is true you can print your output while it's being sampled.\n",
        "\n",
        "Below is some code which tests your sampling function by performing greedy sampling (which means always choosing the most likely next token at each step).\n",
        "\n",
        "<details>\n",
        "<summary>Why does <code>temperature=0.0</code> correspond to greedy sampling?</summary>\n",
        "\n",
        "To apply a temperature to our sampling (as we'll see later) means to scale all logits by `(1 / temperature)`. The basic intuition here is:\n",
        "\n",
        "* A higher temperature means a smaller scale factor, so the logits all approach zero, i.e. uniform distribution, and the sampling process is a lot more random (producing more diverse and varied outputs)\n",
        "* A lower temperature means a larger scale factor, so the logits all approach infinity, i.e. a dirac delta function, and the sampling process is a lot more deterministic (producing less varied output)\n",
        "\n",
        "As temperature gets close to zero, the difference between the largest logit and second largest logit becomes very large, so the distribution tends to \"probability of 1 on the highest-likelihood token\", i.e. greedy sampling. You can derive this formally if you prefer.\n",
        "</details>\n",
        "\n",
        "A few hints:\n",
        "\n",
        "* Don't forget about tensor shapes! Your model's input should always have a batch dimension, i.e. it should be shape `(1, seq_len)`.\n",
        "* Also remember to have your tensors be on the same device (we have a global `device` variable).\n",
        "* Remember to put your model in evaluation mode, using `model.eval()`.\n"
      ]
    },
    {
      "cell_type": "code",
      "execution_count": null,
      "metadata": {
        "id": "loDmpBfmfHN9"
      },
      "outputs": [],
      "source": [
        "sampler = TransformerSampler(model, tokenizer)\n",
        "\n",
        "prompt = \"Jingle bells, jingle bells, jingle all the way\"\n",
        "print(f\"Greedy decoding with prompt: {prompt!r}\\n\")\n",
        "\n",
        "output = sampler.sample(prompt, max_tokens_generated=8, temperature=0.0)\n",
        "print(f\"Your model said: {output!r}\\n\")\n",
        "\n",
        "expected = \"Jingle bells, jingle bells, jingle all the way up to the top of the mountain.\"\n",
        "assert output == expected\n",
        "\n",
        "print(\"Tests passed!\")"
      ]
    },
    {
      "cell_type": "markdown",
      "metadata": {
        "id": "OBqvX5B_fHN-"
      },
      "source": [
        "<details>\n",
        "<summary>Solution</summary>\n",
        "\n",
        "```python\n",
        "@t.inference_mode()\n",
        "def sample(self, prompt, max_tokens_generated=100, verbose=False, **kwargs):\n",
        "    # SOLUTION\n",
        "    self.model.eval()\n",
        "    input_ids = self.tokenizer.encode(prompt, return_tensors=\"pt\").to(device)[0]\n",
        "\n",
        "    for i in range(max_tokens_generated):\n",
        "        # Get new logits (make sure we don't pass in more tokens than the model's context length)\n",
        "        logits = self.model(input_ids[None, -self.cfg.n_ctx:])\n",
        "        # We only take logits for the last token, because this is what we're sampling\n",
        "        logits = logits[0, -1]\n",
        "        # Get next token (as a tensor of size (1, 1) so we can concat it to input_ids)\n",
        "        next_token = t.tensor([self.sample_next_token(input_ids, logits, **kwargs)], device=device)\n",
        "        # Create new input ids string, with shape (1, old_seq_len + 1)\n",
        "        input_ids = t.cat([input_ids, next_token], dim=-1)\n",
        "        # Print out results, if required\n",
        "        if verbose:\n",
        "            print(self.tokenizer.decode(input_ids), end=\"\\r\")\n",
        "        # If our new token was the end-of-text token, stop\n",
        "        if next_token == getattr(self.tokenizer, \"eos_token_id\", None):\n",
        "            break\n",
        "    \n",
        "    return self.tokenizer.decode(input_ids)\n",
        "```\n",
        "```python\n",
        "class TransformerSampler:\n",
        "\n",
        "    def __init__(self, model: DemoTransformer, tokenizer: GPT2TokenizerFast):\n",
        "        self.model = model\n",
        "        self.cfg = model.cfg\n",
        "        self.tokenizer = tokenizer\n",
        "\n",
        "    @t.inference_mode()\n",
        "    def sample(self, prompt: str, max_tokens_generated=100, verbose=False, **kwargs):\n",
        "        '''\n",
        "        Returns a string of autoregressively generated text, starting from the prompt.\n",
        "\n",
        "        Sampling terminates at max_tokens_generated, or when the model generates an\n",
        "        end-of-sequence token.\n",
        "\n",
        "        kwargs are passed to sample_next_token, to give detailed instructions on how\n",
        "        new tokens are chosen.\n",
        "        '''\n",
        "        # SOLUTION\n",
        "        self.model.eval()\n",
        "        input_ids = self.tokenizer.encode(prompt, return_tensors=\"pt\").to(device)[0]\n",
        "\n",
        "        for i in range(max_tokens_generated):\n",
        "            # Get new logits (make sure we don't pass in more tokens than the model's context length)\n",
        "            logits = self.model(input_ids[None, -self.cfg.n_ctx:])\n",
        "            # We only take logits for the last token, because this is what we're sampling\n",
        "            logits = logits[0, -1]\n",
        "            # Get next token (as a tensor of size (1, 1) so we can concat it to input_ids)\n",
        "            next_token = t.tensor([TransformerSampler.sample_next_token(input_ids, logits, **kwargs)], device=device)\n",
        "            # Create new input ids string, with shape (1, old_seq_len + 1)\n",
        "            input_ids = t.cat([input_ids, next_token], dim=-1)\n",
        "            # Print out results, if required\n",
        "            if verbose:\n",
        "                print(self.tokenizer.decode(input_ids), end=\"\\r\")\n",
        "            # If our new token was the end-of-text token, stop\n",
        "            if next_token == getattr(self.tokenizer, \"eos_token_id\", None):\n",
        "                break\n",
        "        \n",
        "        return self.tokenizer.decode(input_ids)\n",
        "    \n",
        "    \n",
        "    \n",
        "    @t.inference_mode()\n",
        "    def beam_search(\n",
        "        self,\n",
        "        prompt: str,\n",
        "        num_return_sequences: int,\n",
        "        num_beams: int,\n",
        "        max_new_tokens: int,\n",
        "        no_repeat_ngram_size: int = 0,\n",
        "        verbose=False\n",
        "    ) -> List[Tuple[float, t.Tensor]]:\n",
        "        '''\n",
        "        Returns a string of autoregressively generated text, starting from the prompt.\n",
        "\n",
        "        Sampling terminates at max_tokens_generated, or when the model generates an\n",
        "        end-of-sequence token.\n",
        "\n",
        "        kwargs are passed to sample_next_token, to give detailed instructions on how\n",
        "        new tokens are chosen.\n",
        "        '''\n",
        "        pass\n",
        "    \n",
        "\n",
        "    @staticmethod\n",
        "    def sample_next_token(\n",
        "        input_ids: Int[Tensor, \"seq_len\"],\n",
        "        logits: Float[Tensor, \"seq_len d_vocab\"],\n",
        "        temperature=1.0,\n",
        "        top_k=0,\n",
        "        top_p=0.0,\n",
        "        frequency_penalty=0.0,\n",
        "        seed=None\n",
        "    ):\n",
        "        assert input_ids.ndim == 1, \"input_ids should be a 1D sequence of token ids\"\n",
        "        assert temperature >= 0, \"Temperature should be non-negative\"\n",
        "        assert 0 <= top_p <= 1.0, \"Top-p must be a probability\"\n",
        "        assert 0 <= top_k, \"Top-k must be non-negative\"\n",
        "        assert not (top_p != 0 and top_k != 0), \"At most one of top-p and top-k supported\"\n",
        "\n",
        "        # Set random seeds for reproducibility\n",
        "        if seed is not None:\n",
        "            t.manual_seed(seed)\n",
        "            np.random.seed(seed)\n",
        "\n",
        "        # Apply all the specialized sampling methods\n",
        "        if temperature == 0:\n",
        "            return TransformerSampler.greedy_search(logits)\n",
        "        elif temperature != 1.0:\n",
        "            logits = TransformerSampler.apply_temperature(logits, temperature)\n",
        "        if frequency_penalty != 0.0:\n",
        "            logits = TransformerSampler.apply_frequency_penalty(input_ids, logits, frequency_penalty)\n",
        "        if top_k > 0:\n",
        "            return TransformerSampler.sample_top_k(logits, top_k)\n",
        "        if top_p > 0.0:\n",
        "            return TransformerSampler.sample_top_p(logits, top_p)\n",
        "        return TransformerSampler.sample_basic(logits)\n",
        "\n",
        "\n",
        "    @staticmethod\n",
        "    def greedy_search(logits: Float[Tensor, \"d_vocab\"]) -> int:\n",
        "        '''\n",
        "        Returns the most likely token (as an int).\n",
        "        '''\n",
        "        out = logits.argmax().item()\n",
        "        return out\n",
        "    \n",
        "\n",
        "    @staticmethod\n",
        "    def apply_temperature(logits: Float[Tensor, \"d_vocab\"], temperature: float) -> Float[Tensor, \"d_vocab\"]:\n",
        "        '''\n",
        "        Applies temperature scaling to the logits.\n",
        "        '''\n",
        "        # SOLUTION\n",
        "        return logits / temperature\n",
        "    \n",
        "\n",
        "\n",
        "    @staticmethod\n",
        "    def apply_frequency_penalty(input_ids: Int[Tensor, \"seq_len\"], logits: Float[Tensor, \"d_vocab\"], freq_penalty: float) -> Float[Tensor, \"d_vocab\"]:\n",
        "        '''\n",
        "        Applies a frequency penalty to the logits.\n",
        "        '''\n",
        "        # SOLUTION\n",
        "        d_vocab = logits.size(0)\n",
        "        id_freqs = t.bincount(input_ids, minlength=d_vocab)\n",
        "        return logits - freq_penalty * id_freqs\n",
        "    \n",
        "\n",
        "    \n",
        "    @staticmethod\n",
        "    def sample_basic(logits: Float[Tensor, \"d_vocab\"]) -> int:\n",
        "        '''\n",
        "        Samples from the distribution defined by the logits.\n",
        "        '''\n",
        "        # SOLUTION\n",
        "        sampled_token = t.distributions.categorical.Categorical(logits=logits).sample()\n",
        "        return sampled_token.item()\n",
        "    \n",
        "\n",
        "\n",
        "    @staticmethod\n",
        "    def sample_top_k(logits: Float[Tensor, \"d_vocab\"], k: int) -> int:\n",
        "        '''\n",
        "        Samples from the top k most likely tokens.\n",
        "        '''\n",
        "        # SOLUTION\n",
        "        top_k_logits, top_k_token_ids = logits.topk(k)\n",
        "        # Get sampled token (which is an index corresponding to the list of top-k tokens)\n",
        "        sampled_token_idx = t.distributions.categorical.Categorical(logits=top_k_logits).sample()\n",
        "        # Get the actual token id, as an int\n",
        "        return top_k_token_ids[sampled_token_idx].item()\n",
        "    \n",
        "\n",
        "\n",
        "    @staticmethod\n",
        "    def sample_top_p(logits: Float[Tensor, \"d_vocab\"], top_p: float, min_tokens_to_keep: int = 1) -> int:\n",
        "        '''\n",
        "        Samples from the most likely tokens which make up at least p cumulative probability.\n",
        "        '''\n",
        "        # SOLUTION\n",
        "        # Sort logits, and get cumulative probabilities\n",
        "        logits_sorted, indices = logits.sort(descending=True, stable=True)\n",
        "        cumul_probs = logits_sorted.softmax(-1).cumsum(-1)\n",
        "        # Choose which tokens to keep, in the set we sample from\n",
        "        n_keep = t.searchsorted(cumul_probs, top_p, side=\"left\").item() + 1\n",
        "        n_keep = max(n_keep, min_tokens_to_keep)\n",
        "        keep_idx = indices[:n_keep]\n",
        "        keep_logits = logits[keep_idx]\n",
        "        # Perform the sampling\n",
        "        sample = t.distributions.categorical.Categorical(logits=keep_logits).sample()\n",
        "        return keep_idx[sample].item()\n",
        "```\n",
        "</details>\n"
      ]
    },
    {
      "cell_type": "markdown",
      "metadata": {
        "id": "aIx0p0MlfHN-"
      },
      "source": [
        "## Sampling with Categorical\n",
        "\n",
        "Now, we'll move into implementing specific sampling methods.\n",
        "\n",
        "PyTorch provides a [`distributions` package](https://pytorch.org/docs/stable/distributions.html#distribution) with a number of convenient methods for sampling from various distributions.\n",
        "\n",
        "For now, we just need [`t.distributions.categorical.Categorical`](https://pytorch.org/docs/stable/distributions.html#categorical). Use this to implement `sample_basic`, which just samples from the provided logits (which may have already been modified by the temperature and frequency penalties).\n",
        "\n",
        "Note that this will be slow since we aren't batching the samples, but don't worry about speed for now.\n"
      ]
    },
    {
      "cell_type": "markdown",
      "metadata": {
        "id": "DLjEUGqZfHN-"
      },
      "source": [
        "### Exercise - Basic Sampling\n",
        "\n",
        "```c\n",
        "Difficulty: 🟠🟠⚪⚪⚪\n",
        "Importance: 🟠🟠⚪⚪⚪\n",
        "\n",
        "You should spend up to 5-10 minutes on this exercise.\n",
        "```\n",
        "\n",
        "Implement basic sampling in the `TransformerSampler` class above, then run the code below to verify your solution works.\n"
      ]
    },
    {
      "cell_type": "code",
      "execution_count": null,
      "metadata": {
        "id": "cSA2Sr0FfHN-"
      },
      "outputs": [],
      "source": [
        "prompt = \"John and Mary went to the\"\n",
        "input_ids = tokenizer.encode(prompt, return_tensors=\"pt\").to(device)\n",
        "logits = model(input_ids)[0, -1]\n",
        "\n",
        "expected_top_5 = {\n",
        "    \" church\": 0.0648,\n",
        "    \" house\": 0.0367,\n",
        "    \" temple\": 0.0145,\n",
        "    \" same\": 0.0104,\n",
        "    \" Church\": 0.0097\n",
        "}\n",
        "frequency_of_top_5 = defaultdict(int)\n",
        "\n",
        "N = 10_000\n",
        "for _ in tqdm(range(N)):\n",
        "    token = TransformerSampler.sample_next_token(input_ids.squeeze(), logits)\n",
        "    frequency_of_top_5[tokenizer.decode(token)] += 1\n",
        "\n",
        "for word in expected_top_5:\n",
        "    expected_freq = expected_top_5[word]\n",
        "    observed_freq = frequency_of_top_5[word] / N\n",
        "    print(f\"Word: {word!r:<9}. Expected freq {expected_freq:.4f}, observed freq {observed_freq:.4f}\")\n",
        "    assert abs(observed_freq - expected_freq) < 0.01, \"Try increasing N if this fails by a small amount.\"\n",
        "\n",
        "print(\"Tests passed!\")"
      ]
    },
    {
      "cell_type": "markdown",
      "metadata": {
        "id": "up_8JOclfHN-"
      },
      "source": [
        "<details>\n",
        "<summary>Solution</summary>\n",
        "\n",
        "```python\n",
        "def sample_basic(logits: t.Tensor) -> int:\n",
        "    '''\n",
        "    logits: shape (vocab_size, ) - unnormalized log-probabilities\n",
        "\n",
        "    Return: a sampled token\n",
        "    '''\n",
        "    distribution = t.distributions.categorical.Categorical(logits=logits)\n",
        "    out = distribution.sample().item()\n",
        "    assert isinstance(out, int)\n",
        "    return out\n",
        "```\n",
        "</details>\n"
      ]
    },
    {
      "cell_type": "markdown",
      "metadata": {
        "id": "lXLHfTYzfHN-"
      },
      "source": [
        "### Exercise - Temperature\n",
        "\n",
        "```c\n",
        "Difficulty: 🟠⚪⚪⚪⚪\n",
        "Importance: 🟠🟠⚪⚪⚪\n",
        "\n",
        "You should spend up to 5-10 minutes on this exercise.\n",
        "```\n",
        "\n",
        "Temperature sounds fancy, but it's literally just dividing the logits by the temperature. You should implement this in your `TransformerSampler` class now.\n"
      ]
    },
    {
      "cell_type": "code",
      "execution_count": null,
      "metadata": {
        "id": "wph7hgyMfHN-"
      },
      "outputs": [],
      "source": [
        "logits = t.tensor([1, 2]).log()\n",
        "\n",
        "cold_logits = TransformerSampler.apply_temperature(logits, temperature=0.001)\n",
        "print('A low temperature \"sharpens\" or \"peaks\" the distribution: ', cold_logits)\n",
        "t.testing.assert_close(cold_logits, 1000.0 * logits)\n",
        "\n",
        "hot_logits = TransformerSampler.apply_temperature(logits, temperature=1000.0)\n",
        "print(\"A high temperature flattens the distribution: \", hot_logits)\n",
        "t.testing.assert_close(hot_logits, 0.001 * logits)\n",
        "\n",
        "print(\"Tests passed!\")"
      ]
    },
    {
      "cell_type": "markdown",
      "metadata": {
        "id": "aSf7Ipi1fHN-"
      },
      "source": [
        "<details>\n",
        "<summary>Solution</summary>\n",
        "\n",
        "```python\n",
        "def apply_temperature(logits: t.Tensor, temperature: float) -> t.Tensor:\n",
        "    '''\n",
        "    logits: shape (vocab_size, )\n",
        "\n",
        "    Return: shape (vocab_size, )\n",
        "    '''\n",
        "    assert temperature > 0\n",
        "    return logits / temperature\n",
        "```\n",
        "</details>\n",
        "\n",
        "<details>\n",
        "<summary>Question - what is the limit of applying 'sample_basic' after adjusting with temperature, when temperature goes to zero? How about when temperature goes to infinity?</summary>\n",
        "\n",
        "The limit when temperature goes to zero is greedy search (because dividing by a small number makes the logits very big, in other words the difference between the maximum logit one and all the others will grow).\n",
        "\n",
        "The limit when temperature goes to infinity is uniform random sampling over all words (because all logits will be pushed towards zero).\")\n",
        "</details>\n"
      ]
    },
    {
      "cell_type": "markdown",
      "metadata": {
        "id": "t8H7_bF-fHN_"
      },
      "source": [
        "### Exercise - Frequency Penalty\n",
        "\n",
        "```c\n",
        "Difficulty: 🟠🟠⚪⚪⚪\n",
        "Importance: 🟠⚪⚪⚪⚪\n",
        "\n",
        "You should spend up to 10-15 minutes on this exercise.\n",
        "```\n",
        "\n",
        "The frequency penalty is simple as well: count the number of occurrences of each token, then subtract `freq_penalty` for each occurrence. Hint: use `t.bincount` (documentation [here](https://pytorch.org/docs/stable/generated/torch.bincount.html)) to do this in a vectorized way.\n",
        "\n",
        "You should implement the `apply_frequency_penalty` method in your `TransformerSampler` class now, then run the cell below to check your solution.\n"
      ]
    },
    {
      "cell_type": "markdown",
      "metadata": {
        "id": "6i5tF4StfHN_"
      },
      "source": [
        "<details>\n",
        "<summary>Help - I'm getting a <code>RuntimeError</code>; my tensor sizes don't match.</summary>\n",
        "\n",
        "Look at the documentation page for `t.bincount`. You might need to use the `minlength` argument - why?\n",
        "</details>\n"
      ]
    },
    {
      "cell_type": "code",
      "execution_count": null,
      "metadata": {
        "id": "y9A7LdixfHN_"
      },
      "outputs": [],
      "source": [
        "bieber_prompt = \"And I was like Baby, baby, baby, oh Like, Baby, baby, baby, no Like, Baby, baby, baby, oh I thought you'd always be mine, mine\"\n",
        "input_ids = tokenizer.encode(bieber_prompt, return_tensors=\"pt\")\n",
        "logits = t.ones(tokenizer.vocab_size)\n",
        "penalized_logits = TransformerSampler.apply_frequency_penalty(input_ids.squeeze(), logits, 2.0)\n",
        "\n",
        "assert penalized_logits[5156].item() == -11, \"Expected 6 occurrences of ' baby' with leading space, 1-2*6=-11\"\n",
        "assert penalized_logits[14801].item() == -5, \"Expected 3 occurrences of ' Baby' with leading space, 1-2*3=-5\"\n",
        "\n",
        "print(\"Tests passed!\")"
      ]
    },
    {
      "cell_type": "markdown",
      "metadata": {
        "id": "BvmGa7tkfHN_"
      },
      "source": [
        "<details>\n",
        "<summary>Solution</summary>\n",
        "\n",
        "```python\n",
        "def apply_freq_penalty(input_ids: t.Tensor, logits: t.Tensor, freq_penalty: float) -> t.Tensor:\n",
        "    '''\n",
        "    input_ids: shape (seq, )\n",
        "    logits: shape (vocab_size, )\n",
        "    Return: shape (vocab_size, )\n",
        "    '''\n",
        "    (vocab_size,) = logits.shape\n",
        "    id_freqs = t.bincount(input_ids, minlength=vocab_size)\n",
        "    return logits - freq_penalty * id_freqs\n",
        "```\n",
        "</details>\n"
      ]
    },
    {
      "cell_type": "markdown",
      "metadata": {
        "id": "PuNpoR3CfHN_"
      },
      "source": [
        "### Sampling - Manual Testing\n",
        "\n",
        "Run the below cell to get a sense for the `temperature` and `freq_penalty` arguments. Play with your own prompt and try other values.\n",
        "\n",
        "Note: your model can generate newlines or non-printing characters, so calling `print` on generated text sometimes looks awkward on screen. You can call `repr` on the string before printing to have the string escaped nicely.\n"
      ]
    },
    {
      "cell_type": "code",
      "execution_count": null,
      "metadata": {
        "id": "owibsBUjfHN_"
      },
      "outputs": [],
      "source": [
        "sampler = TransformerSampler(model, tokenizer)\n",
        "\n",
        "N_RUNS = 1\n",
        "your_prompt = \"Jingle bells, jingle bells, jingle all the way\"\n",
        "cases = [\n",
        "    (\"High freq penalty\", dict(frequency_penalty=100.0)),\n",
        "    (\"Negative freq penalty\", dict(frequency_penalty=-3.0)),\n",
        "    (\"Too hot!\", dict(temperature=2.0)),\n",
        "    (\"Pleasantly cool\", dict(temperature=0.7)),\n",
        "    (\"Pleasantly warm\", dict(temperature=0.9)),\n",
        "    (\"Too cold!\", dict(temperature=0.01)),\n",
        "]\n",
        "\n",
        "table = Table(\"Name\", \"Kwargs\", \"Output\", title=\"Sampling - Manual Testing\")\n",
        "\n",
        "for (name, kwargs) in cases:\n",
        "    for i in range(N_RUNS):\n",
        "        output = sampler.sample(your_prompt, max_tokens_generated=24, **kwargs)\n",
        "        table.add_row(name, repr(kwargs), repr(output) + \"\\n\")\n",
        "\n",
        "rprint(table)"
      ]
    },
    {
      "cell_type": "markdown",
      "metadata": {
        "id": "v9fFSMW7fHN_"
      },
      "source": [
        "## Top-K Sampling\n",
        "\n",
        "Conceptually, the steps in top-k sampling are:\n",
        "- Find the `top_k` largest probabilities (you can use [`torch.topk`](https://pytorch.org/docs/stable/generated/torch.topk.html))\n",
        "- Set all other probabilities to zero\n",
        "- Normalize and sample\n"
      ]
    },
    {
      "cell_type": "markdown",
      "metadata": {
        "id": "R0hBDuz4fHN_"
      },
      "source": [
        "### Exercise - implement `sample_top_k`\n",
        "\n",
        "```c\n",
        "Difficulty: 🟠🟠⚪⚪⚪\n",
        "Importance: 🟠⚪⚪⚪⚪\n",
        "\n",
        "You should spend up to 5-10 minutes on this exercise.\n",
        "```\n",
        "\n",
        "Implement the method `sample_top_k` now. Your implementation should stay in log-space throughout (don't exponentiate to obtain probabilities). This means you don't actually need to worry about normalizing, because `Categorical` accepts unnormalised logits.\n"
      ]
    },
    {
      "cell_type": "code",
      "execution_count": null,
      "metadata": {
        "id": "HocllGE0fHN_"
      },
      "outputs": [],
      "source": [
        "prompt = \"John and Mary went to the\"\n",
        "input_ids = tokenizer.encode(prompt, return_tensors=\"pt\").to(device)\n",
        "logits = model(input_ids)[0, -1]\n",
        "\n",
        "expected_top_5 = {\n",
        "    \" church\": 0.0648,\n",
        "    \" house\": 0.0367,\n",
        "    \" temple\": 0.0145,\n",
        "    \" same\": 0.0104,\n",
        "    \" Church\": 0.0097\n",
        "}\n",
        "topk_5_sum = sum(expected_top_5.values())\n",
        "\n",
        "observed_freqs = defaultdict(int)\n",
        "\n",
        "N = 10000\n",
        "for _ in tqdm(range(N)):\n",
        "    token = TransformerSampler.sample_next_token(input_ids.squeeze(), logits, top_k=5)\n",
        "    observed_freqs[tokenizer.decode(token)] += 1\n",
        "\n",
        "for word in expected_top_5:\n",
        "    expected_freq = expected_top_5[word] / topk_5_sum\n",
        "    observed_freq = observed_freqs[word] / N\n",
        "    print(f\"Word: {word!r:<9}. Expected freq = {expected_freq:.4f}, observed freq = {observed_freq:.4f}\")\n",
        "    assert abs(observed_freq - expected_freq) < 0.015, \"Try increasing N if this fails by a small amount.\""
      ]
    },
    {
      "cell_type": "markdown",
      "metadata": {
        "id": "Av9U35cSfHOA"
      },
      "source": [
        "<details>\n",
        "<summary>Solution</summary>\n",
        "\n",
        "```python\n",
        "def sample_top_k(logits: t.Tensor, top_k: int) -> int:\n",
        "    '''\n",
        "    logits: shape (vocab_size, ) - unnormalized log-probabilities\n",
        "    top_k: only consider this many of the most likely tokens for sampling\n",
        "\n",
        "    Return: a sampled token\n",
        "    '''\n",
        "    top_logits, top_idx = t.topk(logits, top_k)\n",
        "    idx = t.distributions.categorical.Categorical(logits=top_logits).sample()\n",
        "    return top_idx[idx].item()\n",
        "```\n",
        "</details>\n"
      ]
    },
    {
      "cell_type": "markdown",
      "metadata": {
        "id": "3HElusTNfHOA"
      },
      "source": [
        "### Top-K Sampling - Example\n",
        "\n",
        "The [GPT-2 paper](https://d4mucfpksywv.cloudfront.net/better-language-models/language_models_are_unsupervised_multitask_learners.pdf) famously included an example prompt about unicorns. Now it's your turn to see just how cherry picked this example was.\n",
        "\n",
        "The paper claims they used `top_k=40` and best of 10 samples.\n"
      ]
    },
    {
      "cell_type": "code",
      "execution_count": null,
      "metadata": {
        "id": "24dChHZ1fHOA"
      },
      "outputs": [],
      "source": [
        "sampler = TransformerSampler(model, tokenizer)\n",
        "\n",
        "your_prompt = \"In a shocking finding, scientist discovered a herd of unicorns living in a remote, previously unexplored valley, in the Andes Mountains. Even more surprising to the researchers was the fact that the unicorns spoke perfect English.\"\n",
        "output = sampler.sample(your_prompt, temperature=0.7, top_k=40, max_tokens_generated=64)\n",
        "rprint(f\"Your model said:\\n\\n[bold dark_orange]{output}\")"
      ]
    },
    {
      "cell_type": "markdown",
      "metadata": {
        "id": "kEmLBEn9fHOA"
      },
      "source": [
        "## Top-p aka Nucleus Sampling\n",
        "\n",
        "The basic idea is that we choose the most likely words, up until the total probability of words we've chosen crosses some threshold. Then we sample from those chosen words based on their logits.\n",
        "\n",
        "The steps are:\n",
        "\n",
        "- Sort the probabilities from largest to smallest\n",
        "- Find the cutoff point where the cumulative probability first equals or exceeds `top_p`. We do the cutoff inclusively, keeping the first probability above the threshold.\n",
        "- If the number of kept probabilities is less than `min_tokens_to_keep`, keep that many tokens instead.\n",
        "- Set all other probabilities to zero\n",
        "- Normalize and sample\n",
        "\n",
        "Optionally, refer to the paper [The Curious Case of Neural Text Degeneration](https://arxiv.org/pdf/1904.09751.pdf) for some comparison of different methods.\n"
      ]
    },
    {
      "cell_type": "markdown",
      "metadata": {
        "id": "fAJaTvcefHOA"
      },
      "source": [
        "### Exercise - implement `sample_top_p`\n",
        "\n",
        "```c\n",
        "Difficulty: 🟠🟠🟠⚪⚪\n",
        "Importance: 🟠⚪⚪⚪⚪\n",
        "\n",
        "You should spend up to 15-20 minutes on this exercise.\n",
        "```\n",
        "\n",
        "<details>\n",
        "<summary>Example of top-p sampling (if you're confused)</summary>\n",
        "\n",
        "If our probabilities were `(0.4, 0.3, 0.2, 0.1)` and our cutoff was `top_p=0.8`, then we'd sample from the first three elements (because their total probability is `0.9` which is over the threshold, but the first two only have a total prob of `0.7` which is under the threshold). Once we've chosen to sample from those three, we would renormalise them by dividing by their sum (so the probabilities we use when sampling are `(4/9, 3/9, 2/9)`.\n",
        "</details>\n",
        "\n",
        "<details>\n",
        "<summary>Help - I'm stuck on how to implement this function.</summary>\n",
        "\n",
        "First, sort the logits using the `sort(descending=True)` method (this returns values and indices). Then you can get `cumulative_probs` by applying softmax to these logits and taking the cumsum. Then, you can decide how many probabilities to keep by using the `t.searchsorted` function.\n",
        "    \n",
        "Once you've decided which probabilities to keep, it's easiest to sample from them using the original logits (you should have preserved the indices when you called `logits.sort`). This way, you don't need to worry about renormalising like you would if you were using probabilities.\n",
        "</details>\n"
      ]
    },
    {
      "cell_type": "code",
      "execution_count": null,
      "metadata": {
        "id": "ndUIZuRJfHOA"
      },
      "outputs": [],
      "source": [
        "prompt = \"John and Mary went to the\"\n",
        "input_ids = tokenizer.encode(prompt, return_tensors=\"pt\").to(device)\n",
        "logits = model(input_ids)[0, -1]\n",
        "\n",
        "expected_top_10pct = {\n",
        "    \" church\": 0.0648,\n",
        "    \" house\": 0.0367, # These are the two most likely tokens, and add up to >10%\n",
        "}\n",
        "top_10pct_sum = sum(expected_top_10pct.values())\n",
        "\n",
        "observed_freqs = defaultdict(int)\n",
        "\n",
        "N = 10000\n",
        "for _ in tqdm(range(N)):\n",
        "    token = TransformerSampler.sample_next_token(input_ids.squeeze(), logits, top_p=0.1)\n",
        "    observed_freqs[tokenizer.decode(token)] += 1\n",
        "\n",
        "for word in expected_top_10pct:\n",
        "    expected_freq = expected_top_10pct[word] / top_10pct_sum\n",
        "    observed_freq = observed_freqs[word] / N\n",
        "    print(f\"Word: {word!r:<9}. Expected freq {expected_freq:.4f}, observed freq {observed_freq:.4f}\")\n",
        "    assert abs(observed_freq - expected_freq) < 0.01, \"Try increasing N if this fails by a small amount.\""
      ]
    },
    {
      "cell_type": "markdown",
      "metadata": {
        "id": "M8IRcmg2fHOA"
      },
      "source": [
        "<details>\n",
        "<summary>Solution</summary>\n",
        "\n",
        "```python\n",
        "def sample_top_p(logits: t.Tensor, top_p: float, min_tokens_to_keep: int = 1) -> int:\n",
        "    '''\n",
        "    logits: shape (vocab_size, ) - unnormalized log-probabilities\n",
        "    Return: a sampled token\n",
        "    '''\n",
        "    logits_sorted, indices = logits.sort(descending=True, stable=True)\n",
        "    cumul_probs = logits_sorted.softmax(-1).cumsum(-1)\n",
        "    n_keep = t.searchsorted(cumul_probs, top_p, side=\"right\").item() + 1\n",
        "    n_keep = max(n_keep, min_tokens_to_keep)\n",
        "    keep_idx = indices[:n_keep]\n",
        "    keep_logits = logits[keep_idx]\n",
        "    sample = t.distributions.categorical.Categorical(logits=keep_logits).sample()\n",
        "    return keep_idx[sample].item()\n",
        "```\n",
        "</details>\n"
      ]
    },
    {
      "cell_type": "markdown",
      "metadata": {
        "id": "qhrTvZp6fHOA"
      },
      "source": [
        "### Top-p Sampling - Example\n"
      ]
    },
    {
      "cell_type": "code",
      "execution_count": null,
      "metadata": {
        "id": "vCBMUxzufHOE"
      },
      "outputs": [],
      "source": [
        "sampler = TransformerSampler(model, tokenizer)\n",
        "\n",
        "your_prompt = \"Eliezer Shlomo Yudkowsky (born September 11, 1979) is an American decision and artificial intelligence (AI) theorist and writer, best known for\"\n",
        "output = sampler.sample(your_prompt, temperature=0.7, top_p=0.95, max_tokens_generated=64)\n",
        "rprint(f\"Your model said:\\n\\n[bold dark_orange]{output}\")"
      ]
    },
    {
      "cell_type": "markdown",
      "metadata": {
        "id": "a6PVv6PHfHOE"
      },
      "source": [
        "## Beam search\n",
        "\n",
        "Finally, we'll implement a more advanced way of searching over output: **beam search**. You should read the [HuggingFace page](https://huggingface.co/blog/how-to-generate#beam-search) on beam search before moving on.\n",
        "\n",
        "In beam search, we maintain a list of size `num_beams` completions which are the most likely completions so far as measured by the product of their probabilities. Since this product can become very small, we use the sum of log probabilities instead. Note - log probabilities are *not* the same as your model's output. We get log probabilities by first taking softmax of our output and then taking log. You can do this with the [`log_softmax`](https://pytorch.org/docs/stable/generated/torch.nn.functional.log_softmax.html) function / tensor method.\n"
      ]
    },
    {
      "cell_type": "markdown",
      "metadata": {
        "id": "jsRXQwecfHOE"
      },
      "source": [
        "<details>\n",
        "<summary>Log probabilities are equal to the logit output after being translated by some amount X (where X is a function of the original logit output). Can you prove this?</summary>\n",
        "\n",
        "Suppose our vector of logits is $x$, and we take softmax to get a vector of probabilities $p$, then log again to get a vector of log probabilities $l$. Then the $i$-th element of this vector of logprobs is:\n",
        "\n",
        "$$\n",
        "\\begin{align}\n",
        "l_i &= \\log p_i \\\\\n",
        "&= \\log \\frac{\\exp(x_i)}{\\sum_j \\exp(x_j)} \\\\\n",
        "&= x_i - \\log \\sum_j \\exp(x_j) \\\\\n",
        "&= x_i - C\n",
        "\\end{align}\n",
        "$$\n",
        "\n",
        "where $C = \\log \\sum_j \\exp(x_j)$ is the same for all elements. So we can see that $l_i$ is equal to the logit output $x_i$ after being translated by $C$.\n",
        "\n",
        "It's important not to mix up logits and logprobs!\n",
        "</details>\n",
        "\n",
        "<details>\n",
        "<summary>Why do you think we use log softmax rather than logit output?</summary>\n",
        "\n",
        "Logit output is translation invariant. If we had two different beams and we were generating the next tokens in those beams, there would be no reasonable way to compare the two beams to each other, because we could shift the logit vector for one beam by a constant amount without changing the distribution.\n",
        "\n",
        "</details>\n"
      ]
    },
    {
      "cell_type": "markdown",
      "metadata": {
        "id": "-dQFaVpFfHOE"
      },
      "source": [
        "At each iteration, we run the batch of completions through the model and take the log-softmax to obtain `d_vocab` log-probs for each completion, or `num_beams * d_vocab` possible next completions in total.\n",
        "\n",
        "If we kept all of these, then we would have `num_beams * d_vocab * d_vocab` completions after the next iteration which is way too many, so instead we sort them by their score and loop through from best (highest) log probability to worst (lowest).\n",
        "\n",
        "The illustration below might help (based on real results from this method). Here, we have the following hyperparameters:\n",
        "\n",
        "```python\n",
        "num_beams = 3\n",
        "max_new_tokens = 3\n",
        "num_return_sequences = 2\n",
        "```\n"
      ]
    },
    {
      "cell_type": "markdown",
      "metadata": {
        "id": "JhmYgrg4fHOE"
      },
      "source": [
        "<img src=\"https://raw.githubusercontent.com/callummcdougall/computational-thread-art/master/example_images/misc/beam-search.png\" width=\"1000\">\n"
      ]
    },
    {
      "cell_type": "markdown",
      "metadata": {
        "id": "ZnZQieUBfHOF"
      },
      "source": [
        "Note how after each \"generate\" stage, we have `num_beams ** 2` possible completions, which we then filter down to `num_beams`. Can you see why we need to generate this many (and what might happen if we generated fewer)?\n"
      ]
    },
    {
      "cell_type": "markdown",
      "metadata": {
        "id": "Jn-kjeh8fHOF"
      },
      "source": [
        "How do we deal with sequences that terminate early (i.e. by generating an EOS token)? Answer - we append them to the list of completions which we'll return at the end, and remove them from the generation tree. Our algorithm terminates when either all our sequences have length `max_new_tokens` larger than the initial prompt length, or we've generated `num_returns_sequences` terminating sequences.\n"
      ]
    },
    {
      "cell_type": "markdown",
      "metadata": {
        "id": "ZFiBucEHfHOF"
      },
      "source": [
        "### Exercise - implement `beam_search`\n",
        "\n",
        "```c\n",
        "Difficulty: 🟠🟠🟠🟠⚪\n",
        "Importance: 🟠⚪⚪⚪⚪\n",
        "\n",
        "You should spend up to 30-40 minutes on this exercise.\n",
        "```\n",
        "\n",
        "You should now complete the `beam_search` method in your `TransformerSampler` class.\n",
        "\n",
        "We've provided one possible template for you to use: the class `Beams`, with important methods `generate` and `filter` for you to fit in (which correspond to the two stages in the diagram above). There are also a few of helper functions in this class:\n",
        "\n",
        "* `new_beams`, which creates a new `Beams` object from an old one.\n",
        "* `__getitem__`, which allows you to index into a `Beams` object to get a specific batch of beams.\n",
        "* `logprobs_and_completions`, which turns a `Beams` object into a list of (logprob sum, string completion) tuples (useful for getting your final output).\n",
        "* `print`, which prints out the current state of the beams (useful for debugging, if you run `beam_search` with `verbose=True`).\n",
        "\n",
        "You can then fill in the `beam_search` function, using this class and its methods.\n",
        "\n",
        "We've provided unit tests for the `generate` and `filter` functions, so you can verify that these are correct before moving on to the full `beam_search` function.\n",
        "\n",
        "**Note that using the `Beams` class is not strictly necessary, you could fill in the `beam_search` function directly if you prefer.** The `Beams` class is just meant to provide one example way you might implement this function. Often, modular code like this is easier to write and debug, and easier to extend to cover new use cases (e.g. when we use caching in the bonus exercises).\n",
        "\n",
        "#### Why all the n-gram repetition?\n",
        "\n",
        "You should observe that, while the output of beam search is sometimes more fluent than some of the other sampling methods you implement, it also has an unfortunate tendency to repeat sentences or sequences. This makes sense - if the model produces a sentence with a relatively high logit sum, then it will want to produce the same sentence again even if it doesn't make a lot of sense in context.\n",
        "\n",
        "A common solution is to ban repetition of n-grams. We've provided the argument `no_repeat_ngram_size` in the `generate` method for this purpose. Using this argument should prevent the model from repeating any n-grams of that size. Good values of this parameter to try are 2 or 3.\n",
        "\n",
        "However, first you should focus on getting a working version of beam search *without* using this argument.\n",
        "\n",
        "<details>\n",
        "<summary>Hint (for <code>no_repeat_ngram_size</code>)</summary>\n",
        "\n",
        "It might be helpful to implement the following method first. You can use this rather than `torch.topk` in your `generate` method.\n",
        "\n",
        "```python\n",
        "def get_topk_non_repeating(\n",
        "    self,\n",
        "    logprobs: Float[Tensor, \"batch d_vocab\"],\n",
        "    no_repeat_ngram_size: int,\n",
        "    k: int,\n",
        ") -> Tuple[Float[Tensor, \"k\"], Int[Tensor, \"k\"]]:\n",
        "    '''\n",
        "    logprobs:\n",
        "        tensor of the log-probs for the next token\n",
        "    no_repeat_ngram_size:\n",
        "        size of ngram to avoid repeating\n",
        "    k:\n",
        "        number of top logits to return, for each beam in our collection\n",
        "\n",
        "    Returns:\n",
        "        equivalent to the output of `logprobs.topk(dim=-1)`, but makes sure\n",
        "        that no returned tokens would produce an ngram of size  `no_repeat_ngram_size`\n",
        "        which has already appeared in `self.tokens`.\n",
        "    '''\n",
        "    pass\n",
        "```\n",
        "</details>\n"
      ]
    },
    {
      "cell_type": "code",
      "execution_count": null,
      "metadata": {
        "id": "-RhHI8AyfHOF"
      },
      "outputs": [],
      "source": [
        "@dataclass\n",
        "class Beams:\n",
        "    '''Class to store beams during beam search.'''\n",
        "    model: DemoTransformer\n",
        "    tokenizer: GPT2TokenizerFast\n",
        "    logprob_sums: Float[Tensor, \"batch\"]\n",
        "    tokens: Int[Tensor, \"batch seq\"]\n",
        "\n",
        "    def new_beams(self, logprob_sums, tokens) -> \"Beams\":\n",
        "        '''Creates a new Beams object with the same model and tokenizer.'''\n",
        "        return Beams(self.model, self.tokenizer, logprob_sums, tokens)\n",
        "\n",
        "    def __getitem__(self, idx) -> \"Beams\":\n",
        "        '''Allows you to take a slice of the beams object along the batch dimension.'''\n",
        "        return self.new_beams(self.logprob_sums[idx], self.tokens[idx])\n",
        "\n",
        "    @property\n",
        "    def logprobs_and_completions(self) -> List[Tuple[float, str]]:\n",
        "        '''Returns self as a list of logprob sums and completions (useful for getting final output).'''\n",
        "        return [\n",
        "            (logprob_sum.item(), self.tokenizer.decode(tokens))\n",
        "            for (logprob_sum, tokens) in zip(self.logprob_sums, self.tokens)\n",
        "        ]\n",
        "\n",
        "\n",
        "    def generate(self, toks_per_beam: int, no_repeat_ngram_size: Optional[int] = None) -> \"Beams\":\n",
        "        '''\n",
        "        Starting from the current set of beams (which has length `num_beams`), returns a new\n",
        "        set of `num_beams * toks_per_beam`, containing the best `toks_per_beam` continuations for each\n",
        "        of the original beams.\n",
        "\n",
        "        Optional argument `no_repeat_ngram_size` means your model won't generate any sequences with\n",
        "        a repeating n-gram of this length.\n",
        "        '''\n",
        "        pass\n",
        "\n",
        "    def filter(self, num_beams: int) -> Tuple[\"Beams\", \"Beams\"]:\n",
        "        '''\n",
        "        Returns:\n",
        "            best_beams: Beams\n",
        "                filtered version of self, containing all best `num_beams` which are also not terminated.\n",
        "\n",
        "            early_terminations: Beams\n",
        "                filtered version of self, containing all best `num_beams` which are also terminated.\n",
        "                i.e. the sum of lengths of these two should equal `num_beams`.\n",
        "        '''\n",
        "        pass\n",
        "\n",
        "    def print(self, title=\"Best completions\", max_print_chars=80) -> None:\n",
        "        '''\n",
        "        Prints out a set of sequences with their corresponding logitsums.\n",
        "        '''\n",
        "        if len(self.tokens) == 0:\n",
        "            return\n",
        "        table = Table(\"logitsum\", \"completion\", title=title)\n",
        "        for logprob_sum, tokens in zip(self.logprob_sums, self.tokens):\n",
        "            text = self.tokenizer.decode(tokens)\n",
        "            if len(repr(text)) > max_print_chars:\n",
        "                text = text[:int(0.3 * max_print_chars)] + \" ... \" + text[-int(0.7 * max_print_chars):]\n",
        "            table.add_row(f\"{logprob_sum:>8.3f}\", repr(text))\n",
        "        rprint(table)\n",
        "\n",
        "\n",
        "    def get_topk_non_repeating(\n",
        "        self,\n",
        "        logprobs: Float[Tensor, \"batch d_vocab\"],\n",
        "        no_repeat_ngram_size: Optional[int],\n",
        "        k: int,\n",
        "    ) -> Tuple[Float[Tensor, \"k\"], Int[Tensor, \"k\"]]:\n",
        "        '''\n",
        "        logprobs:\n",
        "            tensor of the log-probs for the next token\n",
        "        no_repeat_ngram_size:\n",
        "            size of ngram to avoid repeating\n",
        "        k:\n",
        "            number of top logits to return, for each beam in our collection\n",
        "\n",
        "        Returns:\n",
        "            equivalent to the output of `logprobs.topk(dim=-1)`, but makes sure\n",
        "            that no returned tokens would produce an ngram of size  `no_repeat_ngram_size`\n",
        "            which has already appeared in `self.tokens`.\n",
        "        '''\n",
        "        batch, seq_len = self.tokens.shape\n",
        "        neg_inf = t.tensor(-1.0e4).to(device)\n",
        "\n",
        "        # If completion isn't long enough for a repetition, or we have no restructions, just return topk\n",
        "        if (no_repeat_ngram_size is not None) and (seq_len > no_repeat_ngram_size-1):\n",
        "            # Otherwise, we need to check for ngram repetitions\n",
        "            # First, get the most recent `no_repeat_ngram_size-1` tokens\n",
        "            last_ngram_prefix = self.tokens[:, seq_len - (no_repeat_ngram_size-1):]\n",
        "            # Next, find all the tokens we're not allowed to generate (by going iterating through past ngrams and seeing if those ngram prefixes match the last one)\n",
        "            for i in range(seq_len - (no_repeat_ngram_size-1)):\n",
        "                ngrams = self.tokens[:, i:i+no_repeat_ngram_size] # (batch, ngram)\n",
        "                ngrams_are_repeated = (ngrams[:, :-1] == last_ngram_prefix).all(-1) # (batch,)\n",
        "                ngram_end_tokens = ngrams[:, [-1]] # (batch, 1)\n",
        "                # Fill logprobs with neginf wherever the ngrams are repeated\n",
        "                logprobs[range(batch), ngram_end_tokens] = t.where(\n",
        "                    ngrams_are_repeated,\n",
        "                    neg_inf,\n",
        "                    logprobs[range(batch), ngram_end_tokens],\n",
        "            )\n",
        "\n",
        "        # Finally, get our actual tokens\n",
        "        return logprobs.topk(k=k, dim=-1)\n",
        "\n",
        "\n",
        "@t.inference_mode()\n",
        "def beam_search(\n",
        "    self: TransformerSampler,\n",
        "    prompt: str,\n",
        "    num_return_sequences: int,\n",
        "    num_beams: int,\n",
        "    max_new_tokens: int,\n",
        "    no_repeat_ngram_size: Optional[int] = None,\n",
        "    verbose=False\n",
        ") -> List[Tuple[float, Tensor]]:\n",
        "    '''\n",
        "    Implements a beam search, by repeatedly performing the `generate` and `filter` steps (starting\n",
        "    from the initial prompt) until either of the two stopping criteria are met:\n",
        "\n",
        "        (1) we've generated `max_new_tokens` tokens, or\n",
        "        (2) we've generated `num_returns_sequences` terminating sequences.\n",
        "\n",
        "    To modularize this function, most of the actual complexity is in the Beams class,\n",
        "    in the `generate` and `filter` methods.\n",
        "    '''\n",
        "\n",
        "    assert num_return_sequences <= num_beams\n",
        "    self.model.eval()\n",
        "\n",
        "        pass"
      ]
    },
    {
      "cell_type": "markdown",
      "metadata": {
        "id": "EYDnDhhAfHOF"
      },
      "source": [
        "Example usage of the `Beams` class, and the `print` method (not the logitsums aren't necessarily accurate, this example is just an illustration):\n"
      ]
    },
    {
      "cell_type": "code",
      "execution_count": null,
      "metadata": {
        "id": "_dIOf4f9fHOF"
      },
      "outputs": [],
      "source": [
        "beams = Beams(\n",
        "    model,\n",
        "    tokenizer,\n",
        "    logprob_sums = t.tensor([-10.0, -15.0, -20.0]).to(device),\n",
        "    tokens = t.tensor([\n",
        "        [5661, 318, 262, 2368],\n",
        "        [5661, 318, 262, 1218],\n",
        "        [5661, 318, 262, 717],\n",
        "    ]).to(device)\n",
        ")\n",
        "\n",
        "beams.print()"
      ]
    },
    {
      "cell_type": "markdown",
      "metadata": {
        "id": "O7ndBImyfHOF"
      },
      "source": [
        "And here are some unit tests for your `generate` and `filter` methods:\n"
      ]
    },
    {
      "cell_type": "code",
      "execution_count": null,
      "metadata": {
        "id": "BxrABZUzfHOF"
      },
      "outputs": [],
      "source": [
        "print(\"Testing generate, without no_repeat_ngram_size argument:\")\n",
        "new_beams = beams.generate(toks_per_beam=2)\n",
        "new_beams.print()\n",
        "assert new_beams.logprobs_and_completions[0][1] == \"this is the third time\""
      ]
    },
    {
      "cell_type": "code",
      "execution_count": null,
      "metadata": {
        "id": "QD1Q7u74fHOG"
      },
      "outputs": [],
      "source": [
        "print(\"Testing generate, with no_repeat_ngram_size argument:\")\n",
        "\n",
        "bigram_beams = Beams(\n",
        "    model,\n",
        "    tokenizer,\n",
        "    logprob_sums = t.tensor([-0.0]).to(device),\n",
        "    tokens = t.tensor([[530, 734, 530, 734]]).to(device)\n",
        "    # tokens are \" one two one two\"\n",
        ")\n",
        "\n",
        "# With no_repeat_ngram_size=1, should not generate the token \" one\" or \" two\"\n",
        "new_bigram_beams = bigram_beams.generate(toks_per_beam=3, no_repeat_ngram_size=1)\n",
        "new_bigram_beams.print()\n",
        "assert all([not (completion[1].endswith(\" one\") or completion[1].endswith(\" two\")) for completion in new_bigram_beams.logprobs_and_completions])\n",
        "\n",
        "# With no_repeat_ngram_size=2, it can generate \" two\" (which it should), but not \" one\"\n",
        "new_bigram_beams = bigram_beams.generate(toks_per_beam=3, no_repeat_ngram_size=2)\n",
        "new_bigram_beams.print()\n",
        "assert all([not completion[1].endswith(\" one\") for completion in new_bigram_beams.logprobs_and_completions])\n",
        "assert any([not completion[1].endswith(\" two\") for completion in new_bigram_beams.logprobs_and_completions])\n",
        "\n",
        "print(\"All tests for `generate` passed!\")"
      ]
    },
    {
      "cell_type": "code",
      "execution_count": null,
      "metadata": {
        "id": "U0NG1ZaqfHOG"
      },
      "outputs": [],
      "source": [
        "logprob_sums = t.tensor([-1.0, -2.0]).to(device)\n",
        "tokens = t.tensor([\n",
        "    [19485, 13],\n",
        "    [19485, tokenizer.eos_token_id]\n",
        "]).to(device)\n",
        "\n",
        "beams_with_eos = Beams(model, tokenizer, logprob_sums, tokens)\n",
        "best_beams, early_terminations = beams_with_eos.filter(2)\n",
        "\n",
        "t.testing.assert_close(best_beams.logprob_sums, logprob_sums[[0]])\n",
        "t.testing.assert_close(best_beams.tokens, tokens[[0]])\n",
        "\n",
        "assert early_terminations.logprobs_and_completions == [(-2.0, \"Stop\" + tokenizer.eos_token)]\n",
        "\n",
        "print(\"All tests for `filter` passed!\")"
      ]
    },
    {
      "cell_type": "markdown",
      "metadata": {
        "id": "Shua7jeTfHOG"
      },
      "source": [
        "<details>\n",
        "<summary>Solutions (for <code>generate</code> and <code>filter</code>)</summary>\n",
        "\n",
        "```python\n",
        "def generate(self, toks_per_beam: int, no_repeat_ngram_size: Optional[int] = None) -> \"Beams\":\n",
        "    '''\n",
        "    Starting from the current set of beams (which has length `num_beams`), returns a new\n",
        "    set of `num_beams * toks_per_beam`, containing the best `toks_per_beam` continuations for each\n",
        "    of the original beams.\n",
        "\n",
        "    Optional argument `no_repeat_ngram_size` means your model won't generate any sequences with\n",
        "    a repeating n-gram of this length (don't worry about implementing this until later).\n",
        "    '''\n",
        "    # SOLUTION\n",
        "\n",
        "    # Get the output logprobs for the next token (for every sequence in current beams)\n",
        "    logprobs: Tensor = self.model(self.tokens)[:, -1, :].log_softmax(-1)\n",
        "\n",
        "    # Get the top `toks_per_beam` tokens for each sequence\n",
        "    topk_logprobs, topk_tokenIDs = logprobs.topk(k=toks_per_beam)\n",
        "\n",
        "    # Get all of the new possible beams, via einops operations\n",
        "    #   Here, we're effectively flattening out the batch dimension and k dimension, to give us tensors\n",
        "    #   with every possible combination of (original sequence, new token) pairs.)\n",
        "    new_logprob_sums = sum([\n",
        "        einops.repeat(self.logprob_sums, \"batch -> batch k\", k=toks_per_beam),\n",
        "        einops.rearrange(topk_logprobs, \"batch k -> (batch k)\")\n",
        "    ])\n",
        "    new_tokens = t.concat([\n",
        "        einops.repeat(self.tokens, \"batch seq -> (batch k) seq\", k=toks_per_beam),\n",
        "        einops.rearrange(topk_tokenIDs, \"batch k -> (batch k) 1\")\n",
        "    ], dim=-1)\n",
        "    return self.new_beams(new_logprob_sums, new_tokens)\n",
        "\n",
        "\n",
        "def filter(self, num_beams: int) -> Tuple[\"Beams\", \"Beams\"]:\n",
        "    '''\n",
        "    Returns:\n",
        "        best_beams: Beams\n",
        "            filtered version of self, containing all best `num_beams` which are also not terminated.\n",
        "\n",
        "        early_terminations: Beams\n",
        "            filtered version of self, containing all best `num_beams` which are also terminated.\n",
        "            i.e. the sum of lengths of these two should equal `num_beams`.\n",
        "    '''\n",
        "    # SOLUTION\n",
        "\n",
        "    # Get the indices of top `num_beams` beams\n",
        "    top_beam_indices = self.logprob_sums.topk(k=num_beams, dim=0).indices.tolist()\n",
        "    # Get the indices of terminated sequences\n",
        "    new_tokens = self.tokens[:, -1]\n",
        "    terminated_indices = t.nonzero(new_tokens == self.tokenizer.eos_token_id)\n",
        "\n",
        "    # Get the indices of the `num_beams` best sequences (some terminated, some not terminated)\n",
        "    best_continuing = [i for i in top_beam_indices if i not in terminated_indices]\n",
        "    best_terminated = [i for i in top_beam_indices if i in terminated_indices]\n",
        "\n",
        "    # Return the beam objects from these indices\n",
        "    best_beams_continuing = self.new_beams(self.logprob_sums[best_continuing], self.tokens[best_continuing])\n",
        "    best_beams_terminated = self.new_beams(self.logprob_sums[best_terminated], self.tokens[best_terminated])\n",
        "    return best_beams_continuing, best_beams_terminated\n",
        "```\n",
        "\n",
        "</details>\n"
      ]
    },
    {
      "cell_type": "markdown",
      "metadata": {
        "id": "jrXHl0GsfHOG"
      },
      "source": [
        "Once you've passed both these unit tests, you can try implementing the full beam search function. It should create a `Beams` object from the initial prompt, and then repeatedly call `generate` and `filter` until the stopping criteria are met.\n"
      ]
    },
    {
      "cell_type": "code",
      "execution_count": null,
      "metadata": {
        "id": "2Uno10GRfHOG"
      },
      "outputs": [],
      "source": [
        "TransformerSampler.beam_search = beam_search\n",
        "\n",
        "sampler = TransformerSampler(model, tokenizer)\n",
        "\n",
        "prompt = \"The ships hung in the sky in much the same way that\"\n",
        "orig_len = len(tokenizer.encode(prompt))\n",
        "\n",
        "final_logitsums_and_completions = sampler.beam_search(\n",
        "    prompt=prompt,\n",
        "    num_return_sequences=3,\n",
        "    num_beams=40,\n",
        "    max_new_tokens=60,\n",
        "    no_repeat_ngram_size=2,\n",
        "    verbose=False\n",
        ")\n",
        "\n",
        "# Print all the best output\n",
        "for logprob_sum, text in final_logitsums_and_completions:\n",
        "    avg_logprob_as_prob = t.tensor(logprob_sum / (len(tokenizer.encode(text)) - orig_len)).exp().item()\n",
        "    print(\"=\" * 25 + f\" Avg logprob (as probability) = {avg_logprob_as_prob:.3f} \" + \"=\" * 25)\n",
        "    rprint(\"Best output:\\n\\n[bold dark_orange]\" + text)"
      ]
    },
    {
      "cell_type": "markdown",
      "metadata": {
        "id": "THgjSPShfHOG"
      },
      "source": [
        "<details>\n",
        "<summary>Solution (full)</summary>\n",
        "\n",
        "A solution for the class method `get_topk_non_repeating`:\n",
        "\n",
        "```python\n",
        "def get_topk_non_repeating(\n",
        "    self,\n",
        "    logprobs: Float[Tensor, \"batch d_vocab\"],\n",
        "    no_repeat_ngram_size: Optional[int],\n",
        "    k: int,\n",
        ") -> Tuple[Float[Tensor, \"k\"], Int[Tensor, \"k\"]]:\n",
        "    '''\n",
        "    logprobs:\n",
        "        tensor of the log-probs for the next token\n",
        "    no_repeat_ngram_size:\n",
        "        size of ngram to avoid repeating\n",
        "    k:\n",
        "        number of top logits to return, for each beam in our collection\n",
        "\n",
        "    Returns:\n",
        "        equivalent to the output of `logprobs.topk(dim=-1)`, but makes sure\n",
        "        that no returned tokens would produce an ngram of size  `no_repeat_ngram_size`\n",
        "        which has already appeared in `self.tokens`.\n",
        "    '''\n",
        "    batch, seq_len = self.tokens.shape\n",
        "    neg_inf = t.tensor(-1.0e4).to(device)\n",
        "\n",
        "    # If completion isn't long enough for a repetition, or we have no restructions, just return topk\n",
        "    if (no_repeat_ngram_size is not None) and (seq_len > no_repeat_ngram_size-1):\n",
        "        # Otherwise, we need to check for ngram repetitions\n",
        "        # First, get the most recent `no_repeat_ngram_size-1` tokens\n",
        "        last_ngram_prefix = self.tokens[:, seq_len - (no_repeat_ngram_size-1):]\n",
        "        # Next, find all the tokens we're not allowed to generate (by going iterating through past ngrams and seeing if those ngram prefixes match the last one)\n",
        "        for i in range(seq_len - (no_repeat_ngram_size-1)):\n",
        "            ngrams = self.tokens[:, i:i+no_repeat_ngram_size] # (batch, ngram)\n",
        "            ngrams_are_repeated = (ngrams[:, :-1] == last_ngram_prefix).all(-1) # (batch,)\n",
        "            ngram_end_tokens = ngrams[:, [-1]] # (batch, 1)\n",
        "            # Fill logprobs with neginf wherever the ngrams are repeated\n",
        "            logprobs[range(batch), ngram_end_tokens] = t.where(\n",
        "                ngrams_are_repeated,\n",
        "                neg_inf,\n",
        "                logprobs[range(batch), ngram_end_tokens],\n",
        "        )\n",
        "\n",
        "    # Finally, get our actual tokens\n",
        "    return logprobs.topk(k=k, dim=-1)\n",
        "```\n",
        "\n",
        "and for the main function:\n",
        "\n",
        "```python\n",
        "@t.inference_mode()\n",
        "def beam_search(\n",
        "    self: TransformerSampler,\n",
        "    prompt: str,\n",
        "    num_return_sequences: int,\n",
        "    num_beams: int,\n",
        "    max_new_tokens: int,\n",
        "    no_repeat_ngram_size: Optional[int] = None,\n",
        "    verbose=False\n",
        ") -> List[Tuple[float, Tensor]]:\n",
        "    '''\n",
        "    Implements a beam search, by repeatedly performing the `generate` and `filter` steps (starting\n",
        "    from the initial prompt) until either of the two stopping criteria are met:\n",
        "\n",
        "        (1) we've generated `max_new_tokens` tokens, or\n",
        "        (2) we've generated `num_returns_sequences` terminating sequences.\n",
        "\n",
        "    To modularize this function, most of the actual complexity is in the Beams class,\n",
        "    in the `generate` and `filter` methods.\n",
        "    '''\n",
        "\n",
        "    assert num_return_sequences <= num_beams\n",
        "    self.model.eval()\n",
        "\n",
        "    # SOLUTION\n",
        "    tokens = self.tokenizer.encode(prompt, return_tensors=\"pt\").to(device)\n",
        "\n",
        "    # List for final beams to return (and early terminations)\n",
        "    final_logprobs_and_completions: List[Tuple[float, str]] = []\n",
        "    # Keep track of all best beams after each step\n",
        "    best_beams = Beams(self.model, self.tokenizer, t.tensor([0.0]).to(device), tokens)\n",
        "\n",
        "    for n in tqdm(range(max_new_tokens)):\n",
        "\n",
        "        # Generation step\n",
        "        best_beams = best_beams.generate(toks_per_beam=num_beams, no_repeat_ngram_size=no_repeat_ngram_size)\n",
        "\n",
        "        # Filtering step\n",
        "        best_beams, best_beams_terminated = best_beams.filter(num_beams=num_beams)\n",
        "        final_logprobs_and_completions.extend(best_beams_terminated.logprobs_and_completions)\n",
        "\n",
        "        # Print output\n",
        "        if verbose:\n",
        "            best_beams.print()\n",
        "\n",
        "        # Check stopping condition\n",
        "        if len(final_logprobs_and_completions) >= num_return_sequences:\n",
        "            return final_logprobs_and_completions[:num_return_sequences]\n",
        "\n",
        "    final_logprobs_and_completions.extend(best_beams.logprobs_and_completions)\n",
        "    final_logprobs_and_completions = final_logprobs_and_completions[:num_return_sequences]\n",
        "    return final_logprobs_and_completions\n",
        "```\n",
        "\n",
        "</details>\n"
      ]
    },
    {
      "cell_type": "markdown",
      "metadata": {
        "id": "J8FpquaGfHOH"
      },
      "source": [
        "## Caching\n"
      ]
    },
    {
      "cell_type": "markdown",
      "metadata": {
        "id": "_myyOt5hfHOH"
      },
      "source": [
        "*This section is also designed to be challenging, and take quite some time. There are many different ways to solve it, and you're expected to try and find your own way (you should think about this for a while before looking at the suggestions in the dropdowns). Additionally, you might not find it as interesting as some of the other sections. In this case, and if you have a lot of extra time, you might want to start on the \"building BERT\" exercises from this chapter.*\n"
      ]
    },
    {
      "cell_type": "markdown",
      "metadata": {
        "id": "vu83LC_4fHOH"
      },
      "source": [
        "### How can caching help us?\n",
        "\n",
        "The text generation we've done so far is needlessly re-computing certain values, which is very noticeable when you try to generate longer sequences.\n",
        "\n",
        "Suppose you're generating text, and you've already run GPT on the sentence \"My life motto:\". Now you want to run the model on the sentence \"My life motto: Always\". Which computations from the first sentence can you reuse?\n",
        "\n",
        "<details>\n",
        "<summary>Answer</summary>\n",
        "\n",
        "At each attention layer, the only things the attention layer needs from the previous sequence positions are the key and value vectors. This is explained in the following diagram:\n",
        "\n",
        "<img src=\"https://raw.githubusercontent.com/callummcdougall/computational-thread-art/master/example_images/misc/tl-cache.png\" width=\"600\">\n",
        "\n",
        "</details>\n"
      ]
    },
    {
      "cell_type": "markdown",
      "metadata": {
        "id": "f7xGpbbZfHOH"
      },
      "source": [
        "### Exercise - implement caching\n",
        "\n",
        "```c\n",
        "Difficulty: 🟠🟠🟠🟠🟠\n",
        "Importance: 🟠⚪⚪⚪⚪\n",
        "\n",
        "You are expected to spend well over an hour on this exercise, if you choose to do it.\n",
        "```\n",
        "\n",
        "Modify your GPT-2 to optionally use a cache. When you run your GPT on `\"My life motto:\"`, it should store the necessary values in the cache. Then in the next forward pass with just `\" Always\"` as input, it should load the cached values instead of recomputing them (and update the cache). This only needs to work with a single input sequence (batch size of 1), and you can assume that after the first forward pass, the input will be just one token.\n",
        "\n",
        "The design of the cache is completely up to you - discuss possible designs with your partner before writing code. It should be possible to have only one GPT2 instance and many different cache instances at one time. Imagine that you want to use one instance to serve multiple users submitting requests for text generation like in [AI Dungeon](https://aidungeon.io/).\n",
        "\n",
        "You'll also need to rewrite parts of your `DemoTransformer` code, in order to get this to work. The tests have been built to accommodate modules which return their output as the first element in a tuple (i.e. `(output, cache)`) rather than just returning the output, so you should use the tests to verify that your modules still work as expected.\n",
        "\n",
        "Some example considerations:\n",
        "\n",
        "* Which GPT-2 classes need to interact with the cache?\n",
        "    * Will you need to change the positional embedding, and if so then how?\n",
        "* Should the cache be mutable and be updated in place, or does updating actually just create a separate instance?\n",
        "    * *(Hint here - think about how you might use the cache during beam search.)*\n",
        "* Is it possible for other programmers to incorrectly use your cache? Is there a way to prevent this failure mode or at least detect this and complain loudly?\n"
      ]
    },
    {
      "cell_type": "markdown",
      "metadata": {
        "id": "vq-Sx8apfHOH"
      },
      "source": [
        "<details>\n",
        "<summary>Cache implentation (example)</summary>\n",
        "\n",
        "This KeyValueCache object is structured as just a fancy tensor (it inherits all the methods from Tensor). The main difference is that it has a few extra helper methods, e.g. constructing an empty cache from a Config object.\n",
        "\n",
        "There are other ways you could do this, e.g. having your `KeyValueCache` class contain list of `KeyValueCacheEntry` objects (where each of these corresponds to a different layer).\n",
        "\n",
        "```python\n",
        "# Define a type for a single layer's cache entry (useful for type checking in later functions)\n",
        "KeyValueCacheTensor = Float[Tensor, \"2 batch seq_len n_heads d_head\"]\n",
        "\n",
        "class KeyValueCache(Tensor):\n",
        "    '''\n",
        "    This class holds tensors of key and value vectors, to be used for caching.\n",
        "\n",
        "    If we define it using cfg and batch then it's initialized as empty, but\n",
        "    we can also define it from kv_cache_entries.\n",
        "    '''\n",
        "    @classmethod\n",
        "    def new_empty(cls, cfg: Config, batch: int = 1) -> \"KeyValueCache\":\n",
        "        '''\n",
        "        Doing a forward pass on a cache created in this way indicates \"we don't\n",
        "        yet have a cache, but we want this forward pass to return a cache\".\n",
        "        Whereas using cache=None in a forward pass indicates we don't want to\n",
        "        return a cache.\n",
        "        '''\n",
        "        shape = (cfg.n_layers, 2, batch, 0, cfg.n_heads, cfg.d_head)\n",
        "        return cls(*shape).to(device)\n",
        "\n",
        "    # Define a handful of properties, so they can be referenced directly rather than\n",
        "    # indexing (which is more likely to lead to mistakes)\n",
        "\n",
        "    @property\n",
        "    def k(self) -> Tensor:\n",
        "        return self[:, 0]\n",
        "\n",
        "    @property\n",
        "    def v(self) -> Tensor:\n",
        "        return self[:, 1]\n",
        "\n",
        "    @property\n",
        "    def batch(self) -> int:\n",
        "        return self.shape[2]\n",
        "    \n",
        "    @property\n",
        "    def seq_len(self) -> int:\n",
        "        return self.shape[3]\n",
        "\n",
        "\n",
        "# Example implementation:\n",
        "cfg = model.cfg\n",
        "batch = 6\n",
        "kv_cache = KeyValueCache.new_empty(cfg, batch)\n",
        "\n",
        "print(f\"Shape of all kv-cache = {tuple(kv_cache.shape)}\")\n",
        "print(f\"Shape of just k-cache = {tuple(kv_cache.k.shape)}\")\n",
        "for kv_cache_entry in kv_cache:\n",
        "    print(f\"Shape of cache entry for one layer = {tuple(kv_cache_entry.shape)}\")\n",
        "    break\n",
        "print(f\"Batch size = {kv_cache.batch}\")\n",
        "print(f\"Current sequence length = {kv_cache.seq_len}\")\n",
        "```\n",
        "\n",
        "</details>\n",
        "\n",
        "<details>\n",
        "<summary>New <code>DemoTransformer</code> components (and testing)</summary>\n",
        "\n",
        "```python\n",
        "# Define new model parts where necessary, and create a new model & test it\n",
        "# Note that sometimes our modules return a tuple of (tensor output, cache) rather than just output. The\n",
        "# tests have been built to accommodate this.\n",
        "\n",
        "\n",
        "class PosEmbed(nn.Module):\n",
        "    def __init__(self, cfg: Config):\n",
        "        super().__init__()\n",
        "        self.cfg = cfg\n",
        "        self.W_pos = nn.Parameter(t.empty((cfg.n_ctx, cfg.d_model)))\n",
        "        nn.init.normal_(self.W_pos, std=self.cfg.init_range)\n",
        "\n",
        "    def forward(\n",
        "        self,\n",
        "        tokens: Int[Tensor, \"batch position\"],\n",
        "        past_kv_pos_offset: int = 0\n",
        "    ) -> Float[Tensor, \"batch position d_model\"]:\n",
        "        \n",
        "        # SOLUTION\n",
        "        batch, seq_len = tokens.shape\n",
        "        return einops.repeat(\n",
        "            self.W_pos[past_kv_pos_offset: seq_len+past_kv_pos_offset],\n",
        "            \"seq d_model -> batch seq d_model\",\n",
        "            batch=batch\n",
        "        )\n",
        "\n",
        "\n",
        "class Attention(nn.Module):\n",
        "    IGNORE: Float[Tensor, \"\"]\n",
        "\n",
        "    def __init__(self, cfg: Config):\n",
        "        super().__init__()\n",
        "        self.cfg = cfg\n",
        "        self.W_Q = nn.Parameter(t.empty((cfg.n_heads, cfg.d_model, cfg.d_head)))\n",
        "        self.W_K = nn.Parameter(t.empty((cfg.n_heads, cfg.d_model, cfg.d_head)))\n",
        "        self.W_V = nn.Parameter(t.empty((cfg.n_heads, cfg.d_model, cfg.d_head)))\n",
        "        self.W_O = nn.Parameter(t.empty((cfg.n_heads, cfg.d_head, cfg.d_model)))\n",
        "        self.b_Q = nn.Parameter(t.zeros((cfg.n_heads, cfg.d_head)))\n",
        "        self.b_K = nn.Parameter(t.zeros((cfg.n_heads, cfg.d_head)))\n",
        "        self.b_V = nn.Parameter(t.zeros((cfg.n_heads, cfg.d_head)))\n",
        "        self.b_O = nn.Parameter(t.zeros((cfg.d_model)))\n",
        "        nn.init.normal_(self.W_Q, std=self.cfg.init_range)\n",
        "        nn.init.normal_(self.W_K, std=self.cfg.init_range)\n",
        "        nn.init.normal_(self.W_V, std=self.cfg.init_range)\n",
        "        nn.init.normal_(self.W_O, std=self.cfg.init_range)\n",
        "        self.register_buffer(\"IGNORE\", t.tensor(-1e5, dtype=t.float32, device=device))\n",
        "\n",
        "    def forward(\n",
        "        self,\n",
        "        normalized_resid_pre: Float[Tensor, \"batch posn d_model\"],\n",
        "        kv_cache_entry: Optional[KeyValueCacheTensor] = None,\n",
        "    ) -> Tuple[\n",
        "        Float[Tensor, \"batch posn d_model\"],\n",
        "        Optional[KeyValueCacheTensor]\n",
        "    ]:\n",
        "        '''\n",
        "        Returns the result of applying attention layer to normlized_resid_pre, as well as\n",
        "        the new cached key and value vectors (which we get from concatenating the old cached\n",
        "        ones with the new key and value vectors).\n",
        "        '''\n",
        "        \n",
        "        # SOLUTION\n",
        "\n",
        "        # Calculate the new query, key and value vectors\n",
        "        q = einops.einsum(\n",
        "            normalized_resid_pre, self.W_Q,\n",
        "            \"batch posn d_model, nheads d_model d_head -> batch posn nheads d_head\"\n",
        "        ) + self.b_Q\n",
        "        k = einops.einsum(\n",
        "            normalized_resid_pre, self.W_K,\n",
        "            \"batch posn d_model, nheads d_model d_head -> batch posn nheads d_head\"\n",
        "        ) + self.b_K\n",
        "        v = einops.einsum(\n",
        "            normalized_resid_pre, self.W_V,\n",
        "            \"batch posn d_model, nheads d_model d_head -> batch posn nheads d_head\"\n",
        "        ) + self.b_V\n",
        "\n",
        "        # If cache_entry is not None, this means we use the previous key and value vectors\n",
        "        # Also we'll need to get a new cache entry which will be used later to construct a new cache\n",
        "        if kv_cache_entry is not None:\n",
        "            k = t.concat([kv_cache_entry[0], k], dim=1)\n",
        "            v = t.concat([kv_cache_entry[1], v], dim=1)\n",
        "            kv_cache_entry = t.stack([k, v])\n",
        "\n",
        "        # Calculate attention scores, then scale and mask, and apply softmax to get probabilities\n",
        "        attn_scores = einops.einsum(\n",
        "            q, k,\n",
        "            \"batch posn_Q nheads d_head, batch posn_K nheads d_head -> batch nheads posn_Q posn_K\"\n",
        "        )\n",
        "        attn_scores_masked = self.apply_causal_mask(attn_scores / self.cfg.d_head ** 0.5)\n",
        "        attn_pattern = attn_scores_masked.softmax(-1)\n",
        "\n",
        "        # Take weighted sum of value vectors, according to attention probabilities\n",
        "        z = einops.einsum(\n",
        "            v, attn_pattern,\n",
        "            \"batch posn_K nheads d_head, batch nheads posn_Q posn_K -> batch posn_Q nheads d_head\"\n",
        "        )\n",
        "\n",
        "        # Calculate output (by applying matrix W_O and summing over heads, then adding bias b_O)\n",
        "        out = einops.einsum(\n",
        "            z, self.W_O,\n",
        "            \"batch posn_Q nheads d_head, nheads d_head d_model -> batch posn_Q d_model\"\n",
        "        ) + self.b_O\n",
        "\n",
        "        return out, kv_cache_entry\n",
        "\n",
        "    def apply_causal_mask(\n",
        "        self, attn_scores: Float[Tensor, \"batch n_heads query_pos key_pos\"]\n",
        "    ) -> Float[Tensor, \"batch n_heads query_pos key_pos\"]:\n",
        "        '''\n",
        "        Here, attn_scores have shape (batch, n_heads, query_pos, key_pos), where query_pos represents the\n",
        "        new (non-cached) positions, and key_pos represent all the positions (cached and non-cached).\n",
        "\n",
        "        So when we create our mask, the query indices and key indices will both go up to the same value\n",
        "        (the full sequence length), but the query indices will start at >0.\n",
        "        '''\n",
        "        new_seq_len, full_seq_len = attn_scores.shape[-2:]\n",
        "        assert new_seq_len <= full_seq_len\n",
        "        q_posn = einops.repeat(attn_scores.new_tensor(range(full_seq_len-new_seq_len, full_seq_len)), \"q -> q k\", k=full_seq_len)\n",
        "        k_posn = einops.repeat(attn_scores.new_tensor(range(full_seq_len)), \"k -> q k\", q=new_seq_len)\n",
        "        mask = q_posn < k_posn\n",
        "        attn_scores = attn_scores.masked_fill(mask, self.IGNORE)\n",
        "        return attn_scores\n",
        "\n",
        "\n",
        "class TransformerBlock(nn.Module):\n",
        "    def __init__(self, cfg: Config):\n",
        "        super().__init__()\n",
        "        self.cfg = cfg\n",
        "        self.ln1 = LayerNorm(cfg)\n",
        "        self.attn = Attention(cfg)\n",
        "        self.ln2 = LayerNorm(cfg)\n",
        "        self.mlp = MLP(cfg)\n",
        "\n",
        "    def forward(\n",
        "        self,\n",
        "        resid_pre: Float[Tensor, \"batch position d_model\"],\n",
        "        kv_cache_entry: Optional[KeyValueCacheTensor] = None,\n",
        "    ) -> Float[Tensor, \"batch position d_model\"]:\n",
        "\n",
        "        # SOLUTION\n",
        "        attn_out, kv_cache_entry = self.attn(self.ln1(resid_pre), kv_cache_entry)\n",
        "        resid_mid = attn_out + resid_pre\n",
        "        resid_post = self.mlp(self.ln2(resid_mid)) + resid_mid\n",
        "        return resid_post, kv_cache_entry\n",
        "\n",
        "\n",
        "\n",
        "class DemoTransformer(nn.Module):\n",
        "    def __init__(self, cfg: Config):\n",
        "        super().__init__()\n",
        "        self.cfg = cfg\n",
        "        self.embed = Embed(cfg)\n",
        "        self.pos_embed = PosEmbed(cfg)\n",
        "        self.blocks = nn.ModuleList([TransformerBlock(cfg) for _ in range(cfg.n_layers)])\n",
        "        self.ln_final = LayerNorm(cfg)\n",
        "        self.unembed = Unembed(cfg)\n",
        "\n",
        "    def forward(\n",
        "        self,\n",
        "        tokens: Int[Tensor, \"batch seq_pos\"],\n",
        "        kv_cache: Optional[KeyValueCache] = None\n",
        "    ) -> Float[Tensor, \"batch position d_vocab\"]:\n",
        "        \n",
        "        using_kv_cache = kv_cache is not None\n",
        "\n",
        "        if using_kv_cache:\n",
        "            # If using kv_cache, then we only need to pass forward the newest tokens\n",
        "            # Remember to add positional offset!\n",
        "            n_cached_tokens = kv_cache.seq_len\n",
        "            tokens = tokens[:, n_cached_tokens:]\n",
        "            residual = self.embed(tokens) + self.pos_embed(tokens, n_cached_tokens)\n",
        "        else:\n",
        "            # If not using cache, turn it into a list of None's (so we can iterate through it)\n",
        "            kv_cache = [None for _ in range(self.cfg.n_layers)]\n",
        "            residual = self.embed(tokens) + self.pos_embed(tokens)\n",
        "        \n",
        "        # Apply all layers, and create a (new) kv_cache from the key & value vectors\n",
        "        new_kv_cache_entries: List[KeyValueCacheTensor] = []\n",
        "        for block, kv_cache_entry in zip(self.blocks, kv_cache):\n",
        "            residual, kv_cache_entry = block(residual, kv_cache_entry)\n",
        "            if using_kv_cache: new_kv_cache_entries.append(kv_cache_entry)\n",
        "        \n",
        "        logits = self.unembed(self.ln_final(residual))\n",
        "        \n",
        "        if using_kv_cache:\n",
        "            return logits, KeyValueCache(t.stack(new_kv_cache_entries))\n",
        "        else:\n",
        "            return logits, None\n",
        "\n",
        "\n",
        "tokens = reference_gpt2.to_tokens(reference_text).to(device)\n",
        "logits, cache = reference_gpt2.run_with_cache(tokens)\n",
        "\n",
        "rand_int_test(PosEmbed, [2, 4])\n",
        "load_gpt2_test(PosEmbed, reference_gpt2.pos_embed, tokens)\n",
        "rand_float_test(Attention, [2, 4, 768])\n",
        "load_gpt2_test(Attention, reference_gpt2.blocks[0].attn, cache[\"normalized\", 0, \"ln1\"])\n",
        "rand_float_test(TransformerBlock, [2, 4, 768])\n",
        "load_gpt2_test(TransformerBlock, reference_gpt2.blocks[0], cache[\"resid_pre\", 0])\n",
        "rand_int_test(DemoTransformer, [2, 4])\n",
        "load_gpt2_test(DemoTransformer, reference_gpt2, tokens)\n",
        "```\n",
        "\n",
        "</details>\n",
        "\n",
        "<details>\n",
        "<summary>New sampling function</summary>\n",
        "\n",
        "```python\n",
        "@t.inference_mode()\n",
        "def sample_with_cache(\n",
        "    self: TransformerSampler,\n",
        "    prompt: str,\n",
        "    max_tokens_generated=100,\n",
        "    kv_cache: Optional[KeyValueCache] = None,\n",
        "    verbose=False,\n",
        "    seed: Optional[int] = None,\n",
        "    **kwargs\n",
        ") -> str:\n",
        "    \n",
        "    # SOLUTION\n",
        "    self.model.eval()\n",
        "    input_ids = self.tokenizer.encode(prompt, return_tensors=\"pt\").to(device)[0]\n",
        "    if seed is not None:\n",
        "        np.random.seed(seed)\n",
        "        t.manual_seed(seed)\n",
        "\n",
        "    for i in tqdm(range(max_tokens_generated)):\n",
        "        # Get new logits (make sure we don't pass in more tokens than the model's context length)\n",
        "        logits, kv_cache = self.model(input_ids[None, -self.cfg.n_ctx:], kv_cache)\n",
        "        # We only take logits for the last token, because this is what we're sampling\n",
        "        logits = logits[0, -1]\n",
        "        # Get next token (as a tensor of size (1, 1) so we can concat it to input_ids)\n",
        "        next_token = t.tensor([TransformerSampler.sample_next_token(input_ids, logits, **kwargs)], device=device)\n",
        "        # Create new input ids string, with shape (1, old_seq_len + 1)\n",
        "        input_ids = t.cat([input_ids, next_token], dim=-1)\n",
        "        # Print out results, if required\n",
        "        if verbose:\n",
        "            print(self.tokenizer.decode(input_ids), end=\"\\r\")\n",
        "        # If our new token was the end-of-text token, stop\n",
        "        if next_token == getattr(self.tokenizer, \"eos_token_id\", None):\n",
        "            break\n",
        "    \n",
        "    return self.tokenizer.decode(input_ids)\n",
        "\n",
        "\n",
        "TransformerSampler.sample = sample_with_cache\n",
        "```\n",
        "</details>\n",
        "\n",
        "<details>\n",
        "<summary>Code to verify that the same output is being produced by cache and no-cache versions (and to compare speeds)</summary>\n",
        "\n",
        "```python\n",
        "device = t.device(\"cuda\") # can also try \"cpu\"\n",
        "\n",
        "model = DemoTransformer(Config()).to(device)\n",
        "model.load_state_dict(reference_gpt2.state_dict(), strict=False);\n",
        "\n",
        "initial_text = \"Eliezer Shlomo Yudkowsky (born September 11, 1979) is an American decision and artificial intelligence (AI) theorist and writer, best known for\"\n",
        "# input_ids = tokenizer.encode(initial_text, return_tensors=\"pt\").squeeze()\n",
        "\n",
        "sampler = TransformerSampler(model, tokenizer)\n",
        "\n",
        "# Run the noncached version\n",
        "t0 = time.time()\n",
        "text = sampler.sample(\n",
        "    initial_text,\n",
        "    temperature=0.7,\n",
        "    top_p=0.95,\n",
        "    seed=0,\n",
        ")\n",
        "print(f\"Time taken (without cache): {time.time() - t0:.2f} seconds\")\n",
        "rprint(f\"Model output:\\n\\n[bold dark_orange]{text}[/]\")\n",
        "\n",
        "# Run the cached version\n",
        "t0 = time.time()\n",
        "text_with_cache = sampler.sample(\n",
        "    initial_text,\n",
        "    temperature=0.7,\n",
        "    top_p=0.95,\n",
        "    seed=0,\n",
        "    kv_cache=KeyValueCache.new_empty(sampler.cfg)\n",
        ")\n",
        "print(f\"Time taken (with cache): {time.time() - t0:.2f} seconds\")\n",
        "rprint(f\"Model output:\\n\\n[bold dark_orange]{text_with_cache}[/]\")\n",
        "\n",
        "# # Check they are the same\n",
        "assert text == text_with_cache, \"Your outputs are different, meaning you've probably made a mistake in your cache implementation (or failed to use random seeds).\"\n",
        "print(\"Tests passed!\")\n",
        "```\n",
        "\n",
        "</details>\n"
      ]
    },
    {
      "cell_type": "markdown",
      "metadata": {
        "id": "FhYU3O6sfHOH"
      },
      "source": [
        "You may find that your cache implementation provides a modest speedup, but probably not close to the `seq_len`-factor speedup you'd expect from the fact that you only compute one additional token at each step rather than all of them. Why is this? The answer is that, much like everything to do with computational and memory costs in deep learning, it's not so simple. There are a host of different factors which might be bottlenecking our model's forward pass speed. If you try this on the CPU, you should get a much more noticeable speedup.\n",
        "\n",
        "For a bit more on these topics, see [here](https://kipp.ly/blog/transformer-inference-arithmetic/#kv-cache).\n"
      ]
    },
    {
      "cell_type": "markdown",
      "metadata": {
        "id": "0S_uxUzRfHOH"
      },
      "source": [
        "## Bonus - cached beam search\n",
        "\n",
        "Can you modify your beam search function to use caching?\n",
        "\n",
        "Depending on how you implemented your cache earlier, you might find that a different form of caching is better suited to beam search.\n",
        "\n",
        "Again, we've provided an example implementation in a dropdown below, which is based on the cache implementation above and the previous solution for `beam_search`.\n",
        "\n",
        "<details>\n",
        "<summary>Cached beam search function</summary>\n",
        "\n",
        "As we touched on earlier, thanks to our modular code, not a lot needs to be changed when adding cache support.\n",
        "\n",
        "```python\n",
        "@dataclass\n",
        "class Beams:\n",
        "    '''Class to store beams during beam search.'''\n",
        "    model: DemoTransformer\n",
        "    tokenizer: GPT2TokenizerFast\n",
        "    logprob_sums: Float[Tensor, \"batch\"]\n",
        "    tokens: Int[Tensor, \"batch seq\"]\n",
        "    kv_cache: Optional[KeyValueCache] = None\n",
        "\n",
        "    def new_beams(self, logprob_sums, tokens, kv_cache) -> \"Beams\":\n",
        "        '''Creates a new Beams object with the same model and tokenizer.'''\n",
        "        return Beams(self.model, self.tokenizer, logprob_sums, tokens, kv_cache)\n",
        "\n",
        "    def __getitem__(self, idx) -> \"Beams\":\n",
        "        '''Helpful function allowing you to take a slice of the beams object along the batch dimension.'''\n",
        "        return self.new_beams(\n",
        "            self.logprob_sums[idx],\n",
        "            self.tokens[idx],\n",
        "            self.kv_cache[:, :, idx] if self.kv_cache is not None else None\n",
        "        )\n",
        "\n",
        "    @property\n",
        "    def logprobs_and_completions(self) -> List[Tuple[float, str]]:\n",
        "        '''Returns self as a list of logprob sums and completions (useful for getting final output).'''\n",
        "        return [\n",
        "            (logprob_sum.item(), self.tokenizer.decode(tokens))\n",
        "            for (logprob_sum, tokens) in zip(self.logprob_sums, self.tokens)\n",
        "        ]\n",
        "    \n",
        "\n",
        "    def generate(self, new_beams: int, no_repeat_ngram_size: Optional[int] = None) -> \"Beams\":\n",
        "        '''\n",
        "        Starting from the current set of beams (which has length `num_beams`), returns a new\n",
        "        set of `num_beams * new_beams`, containing the best `new_beams` continuations for each\n",
        "        of the original beams.\n",
        "\n",
        "        Optional argument `no_repeat_ngram_size` means your model won't generate any sequences with\n",
        "        a repeating n-gram of this length (don't worry about implementing this until later).\n",
        "        '''\n",
        "        # SOLUTION\n",
        "\n",
        "        # Get the output logprobs for the next token (for every sequence in current beams)\n",
        "        logprobs, kv_cache = self.model(self.tokens, self.kv_cache)\n",
        "        logprobs = logprobs[:, -1, :].log_softmax(-1)\n",
        "\n",
        "        # Get the top `new_beams` tokens for each sequence\n",
        "        topk_logprobs, topk_tokenIDs = self.get_topk_non_repeating(logprobs, no_repeat_ngram_size, k=new_beams)\n",
        "\n",
        "        # Get all of the new possible beams, via einops operations\n",
        "        #   Here, we're effectively flattening out the batch dimension and k dimension, to give us tensors\n",
        "        #   with every possible combination of (original sequence, new token) pairs.)\n",
        "        new_logprob_sums = sum([\n",
        "            einops.repeat(self.logprob_sums, \"batch -> (batch k)\", k=new_beams),\n",
        "            einops.rearrange(topk_logprobs, \"batch k -> (batch k)\")\n",
        "        ])\n",
        "        new_tokens = t.concat([\n",
        "            einops.repeat(self.tokens, \"batch seq -> (batch k) seq\", k=new_beams),\n",
        "            einops.rearrange(topk_tokenIDs, \"batch k -> (batch k) 1\")\n",
        "        ], dim=-1)\n",
        "        new_kv_cache = None if (self.kv_cache is None) else einops.repeat(\n",
        "            kv_cache, \"layer k_and_v batch ... -> layer k_and_v (batch k) ...\", k=new_beams\n",
        "        )\n",
        "        return self.new_beams(new_logprob_sums, new_tokens, new_kv_cache)\n",
        "\n",
        "\n",
        "    def filter(self, num_beams: int) -> Tuple[\"Beams\", \"Beams\"]:\n",
        "        '''\n",
        "        Returns:\n",
        "            best_beams: Beams\n",
        "                filtered version of self, containing all best `num_beams` which are also not terminated.\n",
        "\n",
        "            early_terminations: Beams\n",
        "                filtered version of self, containing all best `num_beams` which are also terminated.\n",
        "                i.e. the sum of lengths of these two should equal `num_beams`.\n",
        "        '''\n",
        "        # SOLUTION\n",
        "\n",
        "        # Get the indices of top `num_beams` beams\n",
        "        top_beam_indices = self.logprob_sums.topk(k=num_beams, dim=0).indices.tolist()\n",
        "        # Get the indices of terminated sequences\n",
        "        new_tokens = self.tokens[:, -1]\n",
        "        terminated_indices = t.nonzero(new_tokens == self.tokenizer.eos_token_id)\n",
        "\n",
        "        # Get the indices of the `num_beams` best sequences (some terminated, some not terminated)\n",
        "        best_continuing = [i for i in top_beam_indices if i not in terminated_indices]\n",
        "        best_terminated = [i for i in top_beam_indices if i in terminated_indices]\n",
        "\n",
        "        # Return the beam objects from these indices\n",
        "        return self[best_continuing], self[best_terminated]\n",
        "\n",
        "            \n",
        "    def get_topk_non_repeating(\n",
        "        self,\n",
        "        logprobs: Float[Tensor, \"batch d_vocab\"],\n",
        "        no_repeat_ngram_size: Optional[int],\n",
        "        k: int,\n",
        "    ) -> Tuple[Float[Tensor, \"k\"], Int[Tensor, \"k\"]]:\n",
        "        '''\n",
        "        logprobs:\n",
        "            tensor of the log-probs for the next token\n",
        "        no_repeat_ngram_size:\n",
        "            size of ngram to avoid repeating\n",
        "        k:\n",
        "            number of top logits to return, for each beam in our collection\n",
        "\n",
        "        Returns:\n",
        "            equivalent to the output of `logprobs.topk(dim=-1)`, but makes sure\n",
        "            that no returned tokens would produce an ngram of size  `no_repeat_ngram_size`\n",
        "            which has already appeared in `self.tokens`.\n",
        "        '''\n",
        "        batch, seq_len = self.tokens.shape\n",
        "        neg_inf = t.tensor(-1.0e4).to(device)\n",
        "\n",
        "        # If completion isn't long enough for a repetition, or we have no restructions, just return topk\n",
        "        if (no_repeat_ngram_size is not None) and (seq_len > no_repeat_ngram_size-1):\n",
        "            # Otherwise, we need to check for ngram repetitions\n",
        "            # First, get the most recent `no_repeat_ngram_size-1` tokens\n",
        "            last_ngram_prefix = self.tokens[:, seq_len - (no_repeat_ngram_size-1):]\n",
        "            # Next, find all the tokens we're not allowed to generate (by going iterating through past ngrams and seeing if those ngram prefixes match the last one)\n",
        "            for i in range(seq_len - (no_repeat_ngram_size-1)):\n",
        "                ngrams = self.tokens[:, i:i+no_repeat_ngram_size] # (batch, ngram)\n",
        "                ngrams_are_repeated = (ngrams[:, :-1] == last_ngram_prefix).all(-1) # (batch,)\n",
        "                ngram_end_tokens = ngrams[:, [-1]] # (batch, 1)\n",
        "                # Fill logprobs with neginf wherever the ngrams are repeated\n",
        "                logprobs[range(batch), ngram_end_tokens] = t.where(\n",
        "                    ngrams_are_repeated,\n",
        "                    neg_inf,\n",
        "                    logprobs[range(batch), ngram_end_tokens],\n",
        "            )\n",
        "\n",
        "        # Finally, get our actual tokens\n",
        "        return logprobs.topk(k=k, dim=-1)\n",
        "\n",
        "    def print(self, title=\"Best completions\", max_print_chars=80) -> None:\n",
        "        '''\n",
        "        Prints out a set of sequences with their corresponding logitsums.\n",
        "        '''\n",
        "        if len(self.tokens) == 0:\n",
        "            return\n",
        "        table = Table(\"logitsum\", \"completion\", title=title)\n",
        "        for logprob_sum, tokens in zip(self.logprob_sums, self.tokens):\n",
        "            text = self.tokenizer.decode(tokens)\n",
        "            if len(repr(text)) > max_print_chars:\n",
        "                text = text[:int(0.3 * max_print_chars)] + \" ... \" + text[-int(0.7 * max_print_chars):]\n",
        "            table.add_row(f\"{logprob_sum:>8.3f}\", repr(text))\n",
        "        rprint(table)\n",
        "\n",
        "\n",
        "@t.inference_mode()\n",
        "def beam_search(\n",
        "    self: TransformerSampler,\n",
        "    prompt: str,\n",
        "    num_return_sequences: int,\n",
        "    num_beams: int,\n",
        "    max_new_tokens: int,\n",
        "    no_repeat_ngram_size: Optional[int] = None,\n",
        "    kv_cache: Optional[KeyValueCache] = None,\n",
        "    verbose=False\n",
        ") -> List[Tuple[float, Tensor]]:\n",
        "    '''\n",
        "    Implements a beam search, by repeatedly performing the `generate` and `filter` steps (starting\n",
        "    from the initial prompt) until either of the two stopping criteria are met:\n",
        "\n",
        "        (1) we've generated `max_new_tokens` tokens, or\n",
        "        (2) we've generated `num_returns_sequences` terminating sequences.\n",
        "\n",
        "    To modularize this function, most of the actual complexity is in the Beams class,\n",
        "    in the `generate` and `filter` methods.\n",
        "    '''\n",
        "\n",
        "    assert num_return_sequences <= num_beams\n",
        "    self.model.eval()\n",
        "\n",
        "    # SOLUTION\n",
        "    tokens = self.tokenizer.encode(prompt, return_tensors=\"pt\").to(device)\n",
        "\n",
        "    # List for final beams to return (and early terminations)\n",
        "    final_logprobs_and_completions: List[Tuple[float, str]] = []\n",
        "    # Keep track of all best beams after each step\n",
        "    best_beams = Beams(self.model, self.tokenizer, t.tensor([0.0]).to(device), tokens, kv_cache)\n",
        "\n",
        "    for n in tqdm(range(max_new_tokens)):\n",
        "\n",
        "        # Generation step\n",
        "        best_beams = best_beams.generate(num_beams, no_repeat_ngram_size)\n",
        "\n",
        "        # Filtering step\n",
        "        best_beams, best_beams_terminated = best_beams.filter(num_beams)\n",
        "        final_logprobs_and_completions.extend(best_beams_terminated.logprobs_and_completions)\n",
        "\n",
        "        # Print output\n",
        "        if verbose:\n",
        "            best_beams.print()\n",
        "\n",
        "        # Check stopping condition\n",
        "        if len(final_logprobs_and_completions) >= num_return_sequences:\n",
        "            return final_logprobs_and_completions[:num_return_sequences]\n",
        "\n",
        "    final_logprobs_and_completions.extend(best_beams.logprobs_and_completions)\n",
        "    final_logprobs_and_completions = final_logprobs_and_completions[:num_return_sequences]\n",
        "    return final_logprobs_and_completions\n",
        "\n",
        "\n",
        "TransformerSampler.beam_search = beam_search\n",
        "```\n",
        "\n",
        "</details>\n",
        "\n",
        "<details>\n",
        "<summary>Code to verify that the same output is being produced by cache and no-cache versions (and to compare speeds)</summary>\n",
        "\n",
        "```python\n",
        "prompt = \"For you, the day Bison graced your village was the most important day of your life. But for me, it was\"\n",
        "orig_len = len(tokenizer.encode(prompt))\n",
        "\n",
        "beam_search_kwargs = dict(\n",
        "    prompt=prompt,\n",
        "    num_return_sequences=3,\n",
        "    num_beams=20,\n",
        "    max_new_tokens=60,\n",
        "    no_repeat_ngram_size=2,\n",
        "    verbose=False\n",
        ")\n",
        "\n",
        "sampler = TransformerSampler(model, tokenizer)\n",
        "\n",
        "# Run the noncached version\n",
        "t0 = time.time()\n",
        "final_logitsums_and_completions = sampler.beam_search(**beam_search_kwargs)\n",
        "logprob_sum, text = final_logitsums_and_completions[0]\n",
        "avg_logprob_as_prob = t.tensor(logprob_sum / (len(tokenizer.encode(text)) - orig_len)).exp().item()\n",
        "print(f\"Time (without cache): {time.time() - t0:.2f} seconds\")\n",
        "print(f\"Avg logprob (expressed as a probability) = {avg_logprob_as_prob:.3f}\")\n",
        "rprint(f\"Output:\\n\\n[bold dark_orange]{text}[/]\\n\\n\")\n",
        "\n",
        "# Run the cached version\n",
        "t0 = time.time()\n",
        "beam_search_kwargs[\"kv_cache\"] = KeyValueCache.new_empty(model.cfg)\n",
        "final_logitsums_and_completions = sampler.beam_search(**beam_search_kwargs)\n",
        "logprob_sum, text_with_cache = final_logitsums_and_completions[0]\n",
        "avg_logprob_as_prob = t.tensor(logprob_sum / (len(tokenizer.encode(text)) - orig_len)).exp().item()\n",
        "print(f\"Time (with cache): {time.time() - t0:.2f} seconds\")\n",
        "print(f\"Avg logprob (as probability) = {avg_logprob_as_prob:.3f}\", end=\"\")\n",
        "rprint(f\"Output:\\n\\n[bold dark_orange]{text_with_cache}[/]\\n\\n\")\n",
        "\n",
        "# Check they are the same\n",
        "assert text == text_with_cache, \"Your outputs are different, meaning you've probably made a mistake in your cache implementation.\"\n",
        "print(\"Tests passed!\")\n",
        "```\n",
        "\n",
        "</details>\n"
      ]
    }
  ],
  "metadata": {
    "accelerator": "GPU",
    "colab": {
      "collapsed_sections": [
        "VLJL82W0oWzF"
      ],
      "gpuClass": "premium",
      "gpuType": "T4",
      "provenance": [],
      "toc_visible": true
    },
    "kernelspec": {
      "display_name": "arena",
      "language": "python",
      "name": "python3"
    },
    "language_info": {
      "codemirror_mode": {
        "name": "ipython",
        "version": 3
      },
      "file_extension": ".py",
      "mimetype": "text/x-python",
      "name": "python",
      "nbconvert_exporter": "python",
      "pygments_lexer": "ipython3",
      "version": "3.9.13"
    },
    "orig_nbformat": 4,
    "vscode": {
      "interpreter": {
        "hash": "0575d7a87c0e74eddddcbc1a627da1d71db6b89a3121c036174dfb29a1bf0df3"
      }
    },
    "widgets": {
      "application/vnd.jupyter.widget-state+json": {
        "260a198810bf45ddaac64a6e1f542ffc": {
          "model_module": "@jupyter-widgets/controls",
          "model_name": "HBoxModel",
          "model_module_version": "1.5.0",
          "state": {
            "_dom_classes": [],
            "_model_module": "@jupyter-widgets/controls",
            "_model_module_version": "1.5.0",
            "_model_name": "HBoxModel",
            "_view_count": null,
            "_view_module": "@jupyter-widgets/controls",
            "_view_module_version": "1.5.0",
            "_view_name": "HBoxView",
            "box_style": "",
            "children": [
              "IPY_MODEL_0915ac6410f748b0916ff6807dccf346",
              "IPY_MODEL_5fbfbc29c6a0492cbeab0290f7552173",
              "IPY_MODEL_7a87687bc6d64d828785ab90c6761f4e"
            ],
            "layout": "IPY_MODEL_28454a5630d54900825c3dabb0b562b9"
          }
        },
        "0915ac6410f748b0916ff6807dccf346": {
          "model_module": "@jupyter-widgets/controls",
          "model_name": "HTMLModel",
          "model_module_version": "1.5.0",
          "state": {
            "_dom_classes": [],
            "_model_module": "@jupyter-widgets/controls",
            "_model_module_version": "1.5.0",
            "_model_name": "HTMLModel",
            "_view_count": null,
            "_view_module": "@jupyter-widgets/controls",
            "_view_module_version": "1.5.0",
            "_view_name": "HTMLView",
            "description": "",
            "description_tooltip": null,
            "layout": "IPY_MODEL_4be1b6edd83a42d191591486382d3a1e",
            "placeholder": "​",
            "style": "IPY_MODEL_e2bee0c14336494682cbded1323424fc",
            "value": "Downloading (…)lve/main/config.json: 100%"
          }
        },
        "5fbfbc29c6a0492cbeab0290f7552173": {
          "model_module": "@jupyter-widgets/controls",
          "model_name": "FloatProgressModel",
          "model_module_version": "1.5.0",
          "state": {
            "_dom_classes": [],
            "_model_module": "@jupyter-widgets/controls",
            "_model_module_version": "1.5.0",
            "_model_name": "FloatProgressModel",
            "_view_count": null,
            "_view_module": "@jupyter-widgets/controls",
            "_view_module_version": "1.5.0",
            "_view_name": "ProgressView",
            "bar_style": "success",
            "description": "",
            "description_tooltip": null,
            "layout": "IPY_MODEL_789f53730bf64030ab7f2c13a7370bfa",
            "max": 665,
            "min": 0,
            "orientation": "horizontal",
            "style": "IPY_MODEL_65429cd17df248c6924e5fe3124c1c32",
            "value": 665
          }
        },
        "7a87687bc6d64d828785ab90c6761f4e": {
          "model_module": "@jupyter-widgets/controls",
          "model_name": "HTMLModel",
          "model_module_version": "1.5.0",
          "state": {
            "_dom_classes": [],
            "_model_module": "@jupyter-widgets/controls",
            "_model_module_version": "1.5.0",
            "_model_name": "HTMLModel",
            "_view_count": null,
            "_view_module": "@jupyter-widgets/controls",
            "_view_module_version": "1.5.0",
            "_view_name": "HTMLView",
            "description": "",
            "description_tooltip": null,
            "layout": "IPY_MODEL_008d122ce1554737a061e59cb8ff4482",
            "placeholder": "​",
            "style": "IPY_MODEL_98d563b9aafe4494aaf37749d9e3777b",
            "value": " 665/665 [00:00&lt;00:00, 9.84kB/s]"
          }
        },
        "28454a5630d54900825c3dabb0b562b9": {
          "model_module": "@jupyter-widgets/base",
          "model_name": "LayoutModel",
          "model_module_version": "1.2.0",
          "state": {
            "_model_module": "@jupyter-widgets/base",
            "_model_module_version": "1.2.0",
            "_model_name": "LayoutModel",
            "_view_count": null,
            "_view_module": "@jupyter-widgets/base",
            "_view_module_version": "1.2.0",
            "_view_name": "LayoutView",
            "align_content": null,
            "align_items": null,
            "align_self": null,
            "border": null,
            "bottom": null,
            "display": null,
            "flex": null,
            "flex_flow": null,
            "grid_area": null,
            "grid_auto_columns": null,
            "grid_auto_flow": null,
            "grid_auto_rows": null,
            "grid_column": null,
            "grid_gap": null,
            "grid_row": null,
            "grid_template_areas": null,
            "grid_template_columns": null,
            "grid_template_rows": null,
            "height": null,
            "justify_content": null,
            "justify_items": null,
            "left": null,
            "margin": null,
            "max_height": null,
            "max_width": null,
            "min_height": null,
            "min_width": null,
            "object_fit": null,
            "object_position": null,
            "order": null,
            "overflow": null,
            "overflow_x": null,
            "overflow_y": null,
            "padding": null,
            "right": null,
            "top": null,
            "visibility": null,
            "width": null
          }
        },
        "4be1b6edd83a42d191591486382d3a1e": {
          "model_module": "@jupyter-widgets/base",
          "model_name": "LayoutModel",
          "model_module_version": "1.2.0",
          "state": {
            "_model_module": "@jupyter-widgets/base",
            "_model_module_version": "1.2.0",
            "_model_name": "LayoutModel",
            "_view_count": null,
            "_view_module": "@jupyter-widgets/base",
            "_view_module_version": "1.2.0",
            "_view_name": "LayoutView",
            "align_content": null,
            "align_items": null,
            "align_self": null,
            "border": null,
            "bottom": null,
            "display": null,
            "flex": null,
            "flex_flow": null,
            "grid_area": null,
            "grid_auto_columns": null,
            "grid_auto_flow": null,
            "grid_auto_rows": null,
            "grid_column": null,
            "grid_gap": null,
            "grid_row": null,
            "grid_template_areas": null,
            "grid_template_columns": null,
            "grid_template_rows": null,
            "height": null,
            "justify_content": null,
            "justify_items": null,
            "left": null,
            "margin": null,
            "max_height": null,
            "max_width": null,
            "min_height": null,
            "min_width": null,
            "object_fit": null,
            "object_position": null,
            "order": null,
            "overflow": null,
            "overflow_x": null,
            "overflow_y": null,
            "padding": null,
            "right": null,
            "top": null,
            "visibility": null,
            "width": null
          }
        },
        "e2bee0c14336494682cbded1323424fc": {
          "model_module": "@jupyter-widgets/controls",
          "model_name": "DescriptionStyleModel",
          "model_module_version": "1.5.0",
          "state": {
            "_model_module": "@jupyter-widgets/controls",
            "_model_module_version": "1.5.0",
            "_model_name": "DescriptionStyleModel",
            "_view_count": null,
            "_view_module": "@jupyter-widgets/base",
            "_view_module_version": "1.2.0",
            "_view_name": "StyleView",
            "description_width": ""
          }
        },
        "789f53730bf64030ab7f2c13a7370bfa": {
          "model_module": "@jupyter-widgets/base",
          "model_name": "LayoutModel",
          "model_module_version": "1.2.0",
          "state": {
            "_model_module": "@jupyter-widgets/base",
            "_model_module_version": "1.2.0",
            "_model_name": "LayoutModel",
            "_view_count": null,
            "_view_module": "@jupyter-widgets/base",
            "_view_module_version": "1.2.0",
            "_view_name": "LayoutView",
            "align_content": null,
            "align_items": null,
            "align_self": null,
            "border": null,
            "bottom": null,
            "display": null,
            "flex": null,
            "flex_flow": null,
            "grid_area": null,
            "grid_auto_columns": null,
            "grid_auto_flow": null,
            "grid_auto_rows": null,
            "grid_column": null,
            "grid_gap": null,
            "grid_row": null,
            "grid_template_areas": null,
            "grid_template_columns": null,
            "grid_template_rows": null,
            "height": null,
            "justify_content": null,
            "justify_items": null,
            "left": null,
            "margin": null,
            "max_height": null,
            "max_width": null,
            "min_height": null,
            "min_width": null,
            "object_fit": null,
            "object_position": null,
            "order": null,
            "overflow": null,
            "overflow_x": null,
            "overflow_y": null,
            "padding": null,
            "right": null,
            "top": null,
            "visibility": null,
            "width": null
          }
        },
        "65429cd17df248c6924e5fe3124c1c32": {
          "model_module": "@jupyter-widgets/controls",
          "model_name": "ProgressStyleModel",
          "model_module_version": "1.5.0",
          "state": {
            "_model_module": "@jupyter-widgets/controls",
            "_model_module_version": "1.5.0",
            "_model_name": "ProgressStyleModel",
            "_view_count": null,
            "_view_module": "@jupyter-widgets/base",
            "_view_module_version": "1.2.0",
            "_view_name": "StyleView",
            "bar_color": null,
            "description_width": ""
          }
        },
        "008d122ce1554737a061e59cb8ff4482": {
          "model_module": "@jupyter-widgets/base",
          "model_name": "LayoutModel",
          "model_module_version": "1.2.0",
          "state": {
            "_model_module": "@jupyter-widgets/base",
            "_model_module_version": "1.2.0",
            "_model_name": "LayoutModel",
            "_view_count": null,
            "_view_module": "@jupyter-widgets/base",
            "_view_module_version": "1.2.0",
            "_view_name": "LayoutView",
            "align_content": null,
            "align_items": null,
            "align_self": null,
            "border": null,
            "bottom": null,
            "display": null,
            "flex": null,
            "flex_flow": null,
            "grid_area": null,
            "grid_auto_columns": null,
            "grid_auto_flow": null,
            "grid_auto_rows": null,
            "grid_column": null,
            "grid_gap": null,
            "grid_row": null,
            "grid_template_areas": null,
            "grid_template_columns": null,
            "grid_template_rows": null,
            "height": null,
            "justify_content": null,
            "justify_items": null,
            "left": null,
            "margin": null,
            "max_height": null,
            "max_width": null,
            "min_height": null,
            "min_width": null,
            "object_fit": null,
            "object_position": null,
            "order": null,
            "overflow": null,
            "overflow_x": null,
            "overflow_y": null,
            "padding": null,
            "right": null,
            "top": null,
            "visibility": null,
            "width": null
          }
        },
        "98d563b9aafe4494aaf37749d9e3777b": {
          "model_module": "@jupyter-widgets/controls",
          "model_name": "DescriptionStyleModel",
          "model_module_version": "1.5.0",
          "state": {
            "_model_module": "@jupyter-widgets/controls",
            "_model_module_version": "1.5.0",
            "_model_name": "DescriptionStyleModel",
            "_view_count": null,
            "_view_module": "@jupyter-widgets/base",
            "_view_module_version": "1.2.0",
            "_view_name": "StyleView",
            "description_width": ""
          }
        },
        "1cf3c0dbb4cc47afb939ff2837983133": {
          "model_module": "@jupyter-widgets/controls",
          "model_name": "HBoxModel",
          "model_module_version": "1.5.0",
          "state": {
            "_dom_classes": [],
            "_model_module": "@jupyter-widgets/controls",
            "_model_module_version": "1.5.0",
            "_model_name": "HBoxModel",
            "_view_count": null,
            "_view_module": "@jupyter-widgets/controls",
            "_view_module_version": "1.5.0",
            "_view_name": "HBoxView",
            "box_style": "",
            "children": [
              "IPY_MODEL_bc21f6c45a6543829d4bd22631138310",
              "IPY_MODEL_d7e2bce310eb493aa908af0c9c9c110d",
              "IPY_MODEL_e9e13220d780440aaa47d22e2bee8683"
            ],
            "layout": "IPY_MODEL_bfdc3bd376694d90a8c434c22d1053fc"
          }
        },
        "bc21f6c45a6543829d4bd22631138310": {
          "model_module": "@jupyter-widgets/controls",
          "model_name": "HTMLModel",
          "model_module_version": "1.5.0",
          "state": {
            "_dom_classes": [],
            "_model_module": "@jupyter-widgets/controls",
            "_model_module_version": "1.5.0",
            "_model_name": "HTMLModel",
            "_view_count": null,
            "_view_module": "@jupyter-widgets/controls",
            "_view_module_version": "1.5.0",
            "_view_name": "HTMLView",
            "description": "",
            "description_tooltip": null,
            "layout": "IPY_MODEL_6cc0cd4f53484d159c06e632160e79b8",
            "placeholder": "​",
            "style": "IPY_MODEL_e875544a89174ca4b41b2ac08377a418",
            "value": "Downloading model.safetensors: 100%"
          }
        },
        "d7e2bce310eb493aa908af0c9c9c110d": {
          "model_module": "@jupyter-widgets/controls",
          "model_name": "FloatProgressModel",
          "model_module_version": "1.5.0",
          "state": {
            "_dom_classes": [],
            "_model_module": "@jupyter-widgets/controls",
            "_model_module_version": "1.5.0",
            "_model_name": "FloatProgressModel",
            "_view_count": null,
            "_view_module": "@jupyter-widgets/controls",
            "_view_module_version": "1.5.0",
            "_view_name": "ProgressView",
            "bar_style": "success",
            "description": "",
            "description_tooltip": null,
            "layout": "IPY_MODEL_4aeb23bca3964ad0841c00f29058d35c",
            "max": 548105171,
            "min": 0,
            "orientation": "horizontal",
            "style": "IPY_MODEL_d2c714f630be450cb5f25dba9ffae1b1",
            "value": 548105171
          }
        },
        "e9e13220d780440aaa47d22e2bee8683": {
          "model_module": "@jupyter-widgets/controls",
          "model_name": "HTMLModel",
          "model_module_version": "1.5.0",
          "state": {
            "_dom_classes": [],
            "_model_module": "@jupyter-widgets/controls",
            "_model_module_version": "1.5.0",
            "_model_name": "HTMLModel",
            "_view_count": null,
            "_view_module": "@jupyter-widgets/controls",
            "_view_module_version": "1.5.0",
            "_view_name": "HTMLView",
            "description": "",
            "description_tooltip": null,
            "layout": "IPY_MODEL_33ecd7fa34374504b2fee78e5babb933",
            "placeholder": "​",
            "style": "IPY_MODEL_e1ff4a03f62f42d9ba3751b795804d1b",
            "value": " 548M/548M [00:03&lt;00:00, 61.7MB/s]"
          }
        },
        "bfdc3bd376694d90a8c434c22d1053fc": {
          "model_module": "@jupyter-widgets/base",
          "model_name": "LayoutModel",
          "model_module_version": "1.2.0",
          "state": {
            "_model_module": "@jupyter-widgets/base",
            "_model_module_version": "1.2.0",
            "_model_name": "LayoutModel",
            "_view_count": null,
            "_view_module": "@jupyter-widgets/base",
            "_view_module_version": "1.2.0",
            "_view_name": "LayoutView",
            "align_content": null,
            "align_items": null,
            "align_self": null,
            "border": null,
            "bottom": null,
            "display": null,
            "flex": null,
            "flex_flow": null,
            "grid_area": null,
            "grid_auto_columns": null,
            "grid_auto_flow": null,
            "grid_auto_rows": null,
            "grid_column": null,
            "grid_gap": null,
            "grid_row": null,
            "grid_template_areas": null,
            "grid_template_columns": null,
            "grid_template_rows": null,
            "height": null,
            "justify_content": null,
            "justify_items": null,
            "left": null,
            "margin": null,
            "max_height": null,
            "max_width": null,
            "min_height": null,
            "min_width": null,
            "object_fit": null,
            "object_position": null,
            "order": null,
            "overflow": null,
            "overflow_x": null,
            "overflow_y": null,
            "padding": null,
            "right": null,
            "top": null,
            "visibility": null,
            "width": null
          }
        },
        "6cc0cd4f53484d159c06e632160e79b8": {
          "model_module": "@jupyter-widgets/base",
          "model_name": "LayoutModel",
          "model_module_version": "1.2.0",
          "state": {
            "_model_module": "@jupyter-widgets/base",
            "_model_module_version": "1.2.0",
            "_model_name": "LayoutModel",
            "_view_count": null,
            "_view_module": "@jupyter-widgets/base",
            "_view_module_version": "1.2.0",
            "_view_name": "LayoutView",
            "align_content": null,
            "align_items": null,
            "align_self": null,
            "border": null,
            "bottom": null,
            "display": null,
            "flex": null,
            "flex_flow": null,
            "grid_area": null,
            "grid_auto_columns": null,
            "grid_auto_flow": null,
            "grid_auto_rows": null,
            "grid_column": null,
            "grid_gap": null,
            "grid_row": null,
            "grid_template_areas": null,
            "grid_template_columns": null,
            "grid_template_rows": null,
            "height": null,
            "justify_content": null,
            "justify_items": null,
            "left": null,
            "margin": null,
            "max_height": null,
            "max_width": null,
            "min_height": null,
            "min_width": null,
            "object_fit": null,
            "object_position": null,
            "order": null,
            "overflow": null,
            "overflow_x": null,
            "overflow_y": null,
            "padding": null,
            "right": null,
            "top": null,
            "visibility": null,
            "width": null
          }
        },
        "e875544a89174ca4b41b2ac08377a418": {
          "model_module": "@jupyter-widgets/controls",
          "model_name": "DescriptionStyleModel",
          "model_module_version": "1.5.0",
          "state": {
            "_model_module": "@jupyter-widgets/controls",
            "_model_module_version": "1.5.0",
            "_model_name": "DescriptionStyleModel",
            "_view_count": null,
            "_view_module": "@jupyter-widgets/base",
            "_view_module_version": "1.2.0",
            "_view_name": "StyleView",
            "description_width": ""
          }
        },
        "4aeb23bca3964ad0841c00f29058d35c": {
          "model_module": "@jupyter-widgets/base",
          "model_name": "LayoutModel",
          "model_module_version": "1.2.0",
          "state": {
            "_model_module": "@jupyter-widgets/base",
            "_model_module_version": "1.2.0",
            "_model_name": "LayoutModel",
            "_view_count": null,
            "_view_module": "@jupyter-widgets/base",
            "_view_module_version": "1.2.0",
            "_view_name": "LayoutView",
            "align_content": null,
            "align_items": null,
            "align_self": null,
            "border": null,
            "bottom": null,
            "display": null,
            "flex": null,
            "flex_flow": null,
            "grid_area": null,
            "grid_auto_columns": null,
            "grid_auto_flow": null,
            "grid_auto_rows": null,
            "grid_column": null,
            "grid_gap": null,
            "grid_row": null,
            "grid_template_areas": null,
            "grid_template_columns": null,
            "grid_template_rows": null,
            "height": null,
            "justify_content": null,
            "justify_items": null,
            "left": null,
            "margin": null,
            "max_height": null,
            "max_width": null,
            "min_height": null,
            "min_width": null,
            "object_fit": null,
            "object_position": null,
            "order": null,
            "overflow": null,
            "overflow_x": null,
            "overflow_y": null,
            "padding": null,
            "right": null,
            "top": null,
            "visibility": null,
            "width": null
          }
        },
        "d2c714f630be450cb5f25dba9ffae1b1": {
          "model_module": "@jupyter-widgets/controls",
          "model_name": "ProgressStyleModel",
          "model_module_version": "1.5.0",
          "state": {
            "_model_module": "@jupyter-widgets/controls",
            "_model_module_version": "1.5.0",
            "_model_name": "ProgressStyleModel",
            "_view_count": null,
            "_view_module": "@jupyter-widgets/base",
            "_view_module_version": "1.2.0",
            "_view_name": "StyleView",
            "bar_color": null,
            "description_width": ""
          }
        },
        "33ecd7fa34374504b2fee78e5babb933": {
          "model_module": "@jupyter-widgets/base",
          "model_name": "LayoutModel",
          "model_module_version": "1.2.0",
          "state": {
            "_model_module": "@jupyter-widgets/base",
            "_model_module_version": "1.2.0",
            "_model_name": "LayoutModel",
            "_view_count": null,
            "_view_module": "@jupyter-widgets/base",
            "_view_module_version": "1.2.0",
            "_view_name": "LayoutView",
            "align_content": null,
            "align_items": null,
            "align_self": null,
            "border": null,
            "bottom": null,
            "display": null,
            "flex": null,
            "flex_flow": null,
            "grid_area": null,
            "grid_auto_columns": null,
            "grid_auto_flow": null,
            "grid_auto_rows": null,
            "grid_column": null,
            "grid_gap": null,
            "grid_row": null,
            "grid_template_areas": null,
            "grid_template_columns": null,
            "grid_template_rows": null,
            "height": null,
            "justify_content": null,
            "justify_items": null,
            "left": null,
            "margin": null,
            "max_height": null,
            "max_width": null,
            "min_height": null,
            "min_width": null,
            "object_fit": null,
            "object_position": null,
            "order": null,
            "overflow": null,
            "overflow_x": null,
            "overflow_y": null,
            "padding": null,
            "right": null,
            "top": null,
            "visibility": null,
            "width": null
          }
        },
        "e1ff4a03f62f42d9ba3751b795804d1b": {
          "model_module": "@jupyter-widgets/controls",
          "model_name": "DescriptionStyleModel",
          "model_module_version": "1.5.0",
          "state": {
            "_model_module": "@jupyter-widgets/controls",
            "_model_module_version": "1.5.0",
            "_model_name": "DescriptionStyleModel",
            "_view_count": null,
            "_view_module": "@jupyter-widgets/base",
            "_view_module_version": "1.2.0",
            "_view_name": "StyleView",
            "description_width": ""
          }
        },
        "6b99691c8a1044819d5e100c6ada985e": {
          "model_module": "@jupyter-widgets/controls",
          "model_name": "HBoxModel",
          "model_module_version": "1.5.0",
          "state": {
            "_dom_classes": [],
            "_model_module": "@jupyter-widgets/controls",
            "_model_module_version": "1.5.0",
            "_model_name": "HBoxModel",
            "_view_count": null,
            "_view_module": "@jupyter-widgets/controls",
            "_view_module_version": "1.5.0",
            "_view_name": "HBoxView",
            "box_style": "",
            "children": [
              "IPY_MODEL_cbd72d718a354f71981b9bf51321efbf",
              "IPY_MODEL_857621dc99814e14ad446a0b29aba939",
              "IPY_MODEL_cab6db886e874f4f994b101d12ea6bab"
            ],
            "layout": "IPY_MODEL_239daecbb84d43a99a09f2e6fb0ed2a0"
          }
        },
        "cbd72d718a354f71981b9bf51321efbf": {
          "model_module": "@jupyter-widgets/controls",
          "model_name": "HTMLModel",
          "model_module_version": "1.5.0",
          "state": {
            "_dom_classes": [],
            "_model_module": "@jupyter-widgets/controls",
            "_model_module_version": "1.5.0",
            "_model_name": "HTMLModel",
            "_view_count": null,
            "_view_module": "@jupyter-widgets/controls",
            "_view_module_version": "1.5.0",
            "_view_name": "HTMLView",
            "description": "",
            "description_tooltip": null,
            "layout": "IPY_MODEL_1c263030c30748709b4e77d5bc01345c",
            "placeholder": "​",
            "style": "IPY_MODEL_cea8a83071e04979a60e26eebc6b3b8e",
            "value": "Downloading (…)neration_config.json: 100%"
          }
        },
        "857621dc99814e14ad446a0b29aba939": {
          "model_module": "@jupyter-widgets/controls",
          "model_name": "FloatProgressModel",
          "model_module_version": "1.5.0",
          "state": {
            "_dom_classes": [],
            "_model_module": "@jupyter-widgets/controls",
            "_model_module_version": "1.5.0",
            "_model_name": "FloatProgressModel",
            "_view_count": null,
            "_view_module": "@jupyter-widgets/controls",
            "_view_module_version": "1.5.0",
            "_view_name": "ProgressView",
            "bar_style": "success",
            "description": "",
            "description_tooltip": null,
            "layout": "IPY_MODEL_659c9dbfbbf847ba907ca9df440481fc",
            "max": 124,
            "min": 0,
            "orientation": "horizontal",
            "style": "IPY_MODEL_ac9ec954aa25499db0acc4491f499a51",
            "value": 124
          }
        },
        "cab6db886e874f4f994b101d12ea6bab": {
          "model_module": "@jupyter-widgets/controls",
          "model_name": "HTMLModel",
          "model_module_version": "1.5.0",
          "state": {
            "_dom_classes": [],
            "_model_module": "@jupyter-widgets/controls",
            "_model_module_version": "1.5.0",
            "_model_name": "HTMLModel",
            "_view_count": null,
            "_view_module": "@jupyter-widgets/controls",
            "_view_module_version": "1.5.0",
            "_view_name": "HTMLView",
            "description": "",
            "description_tooltip": null,
            "layout": "IPY_MODEL_0afbe1c55e2644fb83ce12851e55e2ab",
            "placeholder": "​",
            "style": "IPY_MODEL_bd8d6723273f4d459afe7336e17fe619",
            "value": " 124/124 [00:00&lt;00:00, 4.85kB/s]"
          }
        },
        "239daecbb84d43a99a09f2e6fb0ed2a0": {
          "model_module": "@jupyter-widgets/base",
          "model_name": "LayoutModel",
          "model_module_version": "1.2.0",
          "state": {
            "_model_module": "@jupyter-widgets/base",
            "_model_module_version": "1.2.0",
            "_model_name": "LayoutModel",
            "_view_count": null,
            "_view_module": "@jupyter-widgets/base",
            "_view_module_version": "1.2.0",
            "_view_name": "LayoutView",
            "align_content": null,
            "align_items": null,
            "align_self": null,
            "border": null,
            "bottom": null,
            "display": null,
            "flex": null,
            "flex_flow": null,
            "grid_area": null,
            "grid_auto_columns": null,
            "grid_auto_flow": null,
            "grid_auto_rows": null,
            "grid_column": null,
            "grid_gap": null,
            "grid_row": null,
            "grid_template_areas": null,
            "grid_template_columns": null,
            "grid_template_rows": null,
            "height": null,
            "justify_content": null,
            "justify_items": null,
            "left": null,
            "margin": null,
            "max_height": null,
            "max_width": null,
            "min_height": null,
            "min_width": null,
            "object_fit": null,
            "object_position": null,
            "order": null,
            "overflow": null,
            "overflow_x": null,
            "overflow_y": null,
            "padding": null,
            "right": null,
            "top": null,
            "visibility": null,
            "width": null
          }
        },
        "1c263030c30748709b4e77d5bc01345c": {
          "model_module": "@jupyter-widgets/base",
          "model_name": "LayoutModel",
          "model_module_version": "1.2.0",
          "state": {
            "_model_module": "@jupyter-widgets/base",
            "_model_module_version": "1.2.0",
            "_model_name": "LayoutModel",
            "_view_count": null,
            "_view_module": "@jupyter-widgets/base",
            "_view_module_version": "1.2.0",
            "_view_name": "LayoutView",
            "align_content": null,
            "align_items": null,
            "align_self": null,
            "border": null,
            "bottom": null,
            "display": null,
            "flex": null,
            "flex_flow": null,
            "grid_area": null,
            "grid_auto_columns": null,
            "grid_auto_flow": null,
            "grid_auto_rows": null,
            "grid_column": null,
            "grid_gap": null,
            "grid_row": null,
            "grid_template_areas": null,
            "grid_template_columns": null,
            "grid_template_rows": null,
            "height": null,
            "justify_content": null,
            "justify_items": null,
            "left": null,
            "margin": null,
            "max_height": null,
            "max_width": null,
            "min_height": null,
            "min_width": null,
            "object_fit": null,
            "object_position": null,
            "order": null,
            "overflow": null,
            "overflow_x": null,
            "overflow_y": null,
            "padding": null,
            "right": null,
            "top": null,
            "visibility": null,
            "width": null
          }
        },
        "cea8a83071e04979a60e26eebc6b3b8e": {
          "model_module": "@jupyter-widgets/controls",
          "model_name": "DescriptionStyleModel",
          "model_module_version": "1.5.0",
          "state": {
            "_model_module": "@jupyter-widgets/controls",
            "_model_module_version": "1.5.0",
            "_model_name": "DescriptionStyleModel",
            "_view_count": null,
            "_view_module": "@jupyter-widgets/base",
            "_view_module_version": "1.2.0",
            "_view_name": "StyleView",
            "description_width": ""
          }
        },
        "659c9dbfbbf847ba907ca9df440481fc": {
          "model_module": "@jupyter-widgets/base",
          "model_name": "LayoutModel",
          "model_module_version": "1.2.0",
          "state": {
            "_model_module": "@jupyter-widgets/base",
            "_model_module_version": "1.2.0",
            "_model_name": "LayoutModel",
            "_view_count": null,
            "_view_module": "@jupyter-widgets/base",
            "_view_module_version": "1.2.0",
            "_view_name": "LayoutView",
            "align_content": null,
            "align_items": null,
            "align_self": null,
            "border": null,
            "bottom": null,
            "display": null,
            "flex": null,
            "flex_flow": null,
            "grid_area": null,
            "grid_auto_columns": null,
            "grid_auto_flow": null,
            "grid_auto_rows": null,
            "grid_column": null,
            "grid_gap": null,
            "grid_row": null,
            "grid_template_areas": null,
            "grid_template_columns": null,
            "grid_template_rows": null,
            "height": null,
            "justify_content": null,
            "justify_items": null,
            "left": null,
            "margin": null,
            "max_height": null,
            "max_width": null,
            "min_height": null,
            "min_width": null,
            "object_fit": null,
            "object_position": null,
            "order": null,
            "overflow": null,
            "overflow_x": null,
            "overflow_y": null,
            "padding": null,
            "right": null,
            "top": null,
            "visibility": null,
            "width": null
          }
        },
        "ac9ec954aa25499db0acc4491f499a51": {
          "model_module": "@jupyter-widgets/controls",
          "model_name": "ProgressStyleModel",
          "model_module_version": "1.5.0",
          "state": {
            "_model_module": "@jupyter-widgets/controls",
            "_model_module_version": "1.5.0",
            "_model_name": "ProgressStyleModel",
            "_view_count": null,
            "_view_module": "@jupyter-widgets/base",
            "_view_module_version": "1.2.0",
            "_view_name": "StyleView",
            "bar_color": null,
            "description_width": ""
          }
        },
        "0afbe1c55e2644fb83ce12851e55e2ab": {
          "model_module": "@jupyter-widgets/base",
          "model_name": "LayoutModel",
          "model_module_version": "1.2.0",
          "state": {
            "_model_module": "@jupyter-widgets/base",
            "_model_module_version": "1.2.0",
            "_model_name": "LayoutModel",
            "_view_count": null,
            "_view_module": "@jupyter-widgets/base",
            "_view_module_version": "1.2.0",
            "_view_name": "LayoutView",
            "align_content": null,
            "align_items": null,
            "align_self": null,
            "border": null,
            "bottom": null,
            "display": null,
            "flex": null,
            "flex_flow": null,
            "grid_area": null,
            "grid_auto_columns": null,
            "grid_auto_flow": null,
            "grid_auto_rows": null,
            "grid_column": null,
            "grid_gap": null,
            "grid_row": null,
            "grid_template_areas": null,
            "grid_template_columns": null,
            "grid_template_rows": null,
            "height": null,
            "justify_content": null,
            "justify_items": null,
            "left": null,
            "margin": null,
            "max_height": null,
            "max_width": null,
            "min_height": null,
            "min_width": null,
            "object_fit": null,
            "object_position": null,
            "order": null,
            "overflow": null,
            "overflow_x": null,
            "overflow_y": null,
            "padding": null,
            "right": null,
            "top": null,
            "visibility": null,
            "width": null
          }
        },
        "bd8d6723273f4d459afe7336e17fe619": {
          "model_module": "@jupyter-widgets/controls",
          "model_name": "DescriptionStyleModel",
          "model_module_version": "1.5.0",
          "state": {
            "_model_module": "@jupyter-widgets/controls",
            "_model_module_version": "1.5.0",
            "_model_name": "DescriptionStyleModel",
            "_view_count": null,
            "_view_module": "@jupyter-widgets/base",
            "_view_module_version": "1.2.0",
            "_view_name": "StyleView",
            "description_width": ""
          }
        },
        "f6685c6f212d46a4941756045696ea6f": {
          "model_module": "@jupyter-widgets/controls",
          "model_name": "HBoxModel",
          "model_module_version": "1.5.0",
          "state": {
            "_dom_classes": [],
            "_model_module": "@jupyter-widgets/controls",
            "_model_module_version": "1.5.0",
            "_model_name": "HBoxModel",
            "_view_count": null,
            "_view_module": "@jupyter-widgets/controls",
            "_view_module_version": "1.5.0",
            "_view_name": "HBoxView",
            "box_style": "",
            "children": [
              "IPY_MODEL_7530976ec4f744b89c5e1a1ad3c40677",
              "IPY_MODEL_ca8bd6fda69044d68328064f8c7c0e6d",
              "IPY_MODEL_d9bc9495379c4c88973b2b7f0ad8290c"
            ],
            "layout": "IPY_MODEL_dc802dd5b9124fdeb7d9bdd119ef4490"
          }
        },
        "7530976ec4f744b89c5e1a1ad3c40677": {
          "model_module": "@jupyter-widgets/controls",
          "model_name": "HTMLModel",
          "model_module_version": "1.5.0",
          "state": {
            "_dom_classes": [],
            "_model_module": "@jupyter-widgets/controls",
            "_model_module_version": "1.5.0",
            "_model_name": "HTMLModel",
            "_view_count": null,
            "_view_module": "@jupyter-widgets/controls",
            "_view_module_version": "1.5.0",
            "_view_name": "HTMLView",
            "description": "",
            "description_tooltip": null,
            "layout": "IPY_MODEL_ffcdb014a313456fb22d8747a2129140",
            "placeholder": "​",
            "style": "IPY_MODEL_4c47abaae3a843efbe556cf3711d1778",
            "value": "Downloading (…)olve/main/vocab.json: 100%"
          }
        },
        "ca8bd6fda69044d68328064f8c7c0e6d": {
          "model_module": "@jupyter-widgets/controls",
          "model_name": "FloatProgressModel",
          "model_module_version": "1.5.0",
          "state": {
            "_dom_classes": [],
            "_model_module": "@jupyter-widgets/controls",
            "_model_module_version": "1.5.0",
            "_model_name": "FloatProgressModel",
            "_view_count": null,
            "_view_module": "@jupyter-widgets/controls",
            "_view_module_version": "1.5.0",
            "_view_name": "ProgressView",
            "bar_style": "success",
            "description": "",
            "description_tooltip": null,
            "layout": "IPY_MODEL_1a986b9f435644bf83d5995bcd935e37",
            "max": 1042301,
            "min": 0,
            "orientation": "horizontal",
            "style": "IPY_MODEL_4583c08de0284097bf0a089da3893784",
            "value": 1042301
          }
        },
        "d9bc9495379c4c88973b2b7f0ad8290c": {
          "model_module": "@jupyter-widgets/controls",
          "model_name": "HTMLModel",
          "model_module_version": "1.5.0",
          "state": {
            "_dom_classes": [],
            "_model_module": "@jupyter-widgets/controls",
            "_model_module_version": "1.5.0",
            "_model_name": "HTMLModel",
            "_view_count": null,
            "_view_module": "@jupyter-widgets/controls",
            "_view_module_version": "1.5.0",
            "_view_name": "HTMLView",
            "description": "",
            "description_tooltip": null,
            "layout": "IPY_MODEL_a2312afac7c248f9a86092eb5766bcac",
            "placeholder": "​",
            "style": "IPY_MODEL_41b1534f7f894e259da51e3b2591394f",
            "value": " 1.04M/1.04M [00:00&lt;00:00, 12.8MB/s]"
          }
        },
        "dc802dd5b9124fdeb7d9bdd119ef4490": {
          "model_module": "@jupyter-widgets/base",
          "model_name": "LayoutModel",
          "model_module_version": "1.2.0",
          "state": {
            "_model_module": "@jupyter-widgets/base",
            "_model_module_version": "1.2.0",
            "_model_name": "LayoutModel",
            "_view_count": null,
            "_view_module": "@jupyter-widgets/base",
            "_view_module_version": "1.2.0",
            "_view_name": "LayoutView",
            "align_content": null,
            "align_items": null,
            "align_self": null,
            "border": null,
            "bottom": null,
            "display": null,
            "flex": null,
            "flex_flow": null,
            "grid_area": null,
            "grid_auto_columns": null,
            "grid_auto_flow": null,
            "grid_auto_rows": null,
            "grid_column": null,
            "grid_gap": null,
            "grid_row": null,
            "grid_template_areas": null,
            "grid_template_columns": null,
            "grid_template_rows": null,
            "height": null,
            "justify_content": null,
            "justify_items": null,
            "left": null,
            "margin": null,
            "max_height": null,
            "max_width": null,
            "min_height": null,
            "min_width": null,
            "object_fit": null,
            "object_position": null,
            "order": null,
            "overflow": null,
            "overflow_x": null,
            "overflow_y": null,
            "padding": null,
            "right": null,
            "top": null,
            "visibility": null,
            "width": null
          }
        },
        "ffcdb014a313456fb22d8747a2129140": {
          "model_module": "@jupyter-widgets/base",
          "model_name": "LayoutModel",
          "model_module_version": "1.2.0",
          "state": {
            "_model_module": "@jupyter-widgets/base",
            "_model_module_version": "1.2.0",
            "_model_name": "LayoutModel",
            "_view_count": null,
            "_view_module": "@jupyter-widgets/base",
            "_view_module_version": "1.2.0",
            "_view_name": "LayoutView",
            "align_content": null,
            "align_items": null,
            "align_self": null,
            "border": null,
            "bottom": null,
            "display": null,
            "flex": null,
            "flex_flow": null,
            "grid_area": null,
            "grid_auto_columns": null,
            "grid_auto_flow": null,
            "grid_auto_rows": null,
            "grid_column": null,
            "grid_gap": null,
            "grid_row": null,
            "grid_template_areas": null,
            "grid_template_columns": null,
            "grid_template_rows": null,
            "height": null,
            "justify_content": null,
            "justify_items": null,
            "left": null,
            "margin": null,
            "max_height": null,
            "max_width": null,
            "min_height": null,
            "min_width": null,
            "object_fit": null,
            "object_position": null,
            "order": null,
            "overflow": null,
            "overflow_x": null,
            "overflow_y": null,
            "padding": null,
            "right": null,
            "top": null,
            "visibility": null,
            "width": null
          }
        },
        "4c47abaae3a843efbe556cf3711d1778": {
          "model_module": "@jupyter-widgets/controls",
          "model_name": "DescriptionStyleModel",
          "model_module_version": "1.5.0",
          "state": {
            "_model_module": "@jupyter-widgets/controls",
            "_model_module_version": "1.5.0",
            "_model_name": "DescriptionStyleModel",
            "_view_count": null,
            "_view_module": "@jupyter-widgets/base",
            "_view_module_version": "1.2.0",
            "_view_name": "StyleView",
            "description_width": ""
          }
        },
        "1a986b9f435644bf83d5995bcd935e37": {
          "model_module": "@jupyter-widgets/base",
          "model_name": "LayoutModel",
          "model_module_version": "1.2.0",
          "state": {
            "_model_module": "@jupyter-widgets/base",
            "_model_module_version": "1.2.0",
            "_model_name": "LayoutModel",
            "_view_count": null,
            "_view_module": "@jupyter-widgets/base",
            "_view_module_version": "1.2.0",
            "_view_name": "LayoutView",
            "align_content": null,
            "align_items": null,
            "align_self": null,
            "border": null,
            "bottom": null,
            "display": null,
            "flex": null,
            "flex_flow": null,
            "grid_area": null,
            "grid_auto_columns": null,
            "grid_auto_flow": null,
            "grid_auto_rows": null,
            "grid_column": null,
            "grid_gap": null,
            "grid_row": null,
            "grid_template_areas": null,
            "grid_template_columns": null,
            "grid_template_rows": null,
            "height": null,
            "justify_content": null,
            "justify_items": null,
            "left": null,
            "margin": null,
            "max_height": null,
            "max_width": null,
            "min_height": null,
            "min_width": null,
            "object_fit": null,
            "object_position": null,
            "order": null,
            "overflow": null,
            "overflow_x": null,
            "overflow_y": null,
            "padding": null,
            "right": null,
            "top": null,
            "visibility": null,
            "width": null
          }
        },
        "4583c08de0284097bf0a089da3893784": {
          "model_module": "@jupyter-widgets/controls",
          "model_name": "ProgressStyleModel",
          "model_module_version": "1.5.0",
          "state": {
            "_model_module": "@jupyter-widgets/controls",
            "_model_module_version": "1.5.0",
            "_model_name": "ProgressStyleModel",
            "_view_count": null,
            "_view_module": "@jupyter-widgets/base",
            "_view_module_version": "1.2.0",
            "_view_name": "StyleView",
            "bar_color": null,
            "description_width": ""
          }
        },
        "a2312afac7c248f9a86092eb5766bcac": {
          "model_module": "@jupyter-widgets/base",
          "model_name": "LayoutModel",
          "model_module_version": "1.2.0",
          "state": {
            "_model_module": "@jupyter-widgets/base",
            "_model_module_version": "1.2.0",
            "_model_name": "LayoutModel",
            "_view_count": null,
            "_view_module": "@jupyter-widgets/base",
            "_view_module_version": "1.2.0",
            "_view_name": "LayoutView",
            "align_content": null,
            "align_items": null,
            "align_self": null,
            "border": null,
            "bottom": null,
            "display": null,
            "flex": null,
            "flex_flow": null,
            "grid_area": null,
            "grid_auto_columns": null,
            "grid_auto_flow": null,
            "grid_auto_rows": null,
            "grid_column": null,
            "grid_gap": null,
            "grid_row": null,
            "grid_template_areas": null,
            "grid_template_columns": null,
            "grid_template_rows": null,
            "height": null,
            "justify_content": null,
            "justify_items": null,
            "left": null,
            "margin": null,
            "max_height": null,
            "max_width": null,
            "min_height": null,
            "min_width": null,
            "object_fit": null,
            "object_position": null,
            "order": null,
            "overflow": null,
            "overflow_x": null,
            "overflow_y": null,
            "padding": null,
            "right": null,
            "top": null,
            "visibility": null,
            "width": null
          }
        },
        "41b1534f7f894e259da51e3b2591394f": {
          "model_module": "@jupyter-widgets/controls",
          "model_name": "DescriptionStyleModel",
          "model_module_version": "1.5.0",
          "state": {
            "_model_module": "@jupyter-widgets/controls",
            "_model_module_version": "1.5.0",
            "_model_name": "DescriptionStyleModel",
            "_view_count": null,
            "_view_module": "@jupyter-widgets/base",
            "_view_module_version": "1.2.0",
            "_view_name": "StyleView",
            "description_width": ""
          }
        },
        "9f9ea0c5a7294991844f0fc27b6c6182": {
          "model_module": "@jupyter-widgets/controls",
          "model_name": "HBoxModel",
          "model_module_version": "1.5.0",
          "state": {
            "_dom_classes": [],
            "_model_module": "@jupyter-widgets/controls",
            "_model_module_version": "1.5.0",
            "_model_name": "HBoxModel",
            "_view_count": null,
            "_view_module": "@jupyter-widgets/controls",
            "_view_module_version": "1.5.0",
            "_view_name": "HBoxView",
            "box_style": "",
            "children": [
              "IPY_MODEL_49075a89df634afa85cc296db70253a4",
              "IPY_MODEL_22f42547e50c427bb628acd5328fee3b",
              "IPY_MODEL_d7c96ed3eed94079a06a52ecc498a63f"
            ],
            "layout": "IPY_MODEL_677882923422443a8ce135fe60b68c2d"
          }
        },
        "49075a89df634afa85cc296db70253a4": {
          "model_module": "@jupyter-widgets/controls",
          "model_name": "HTMLModel",
          "model_module_version": "1.5.0",
          "state": {
            "_dom_classes": [],
            "_model_module": "@jupyter-widgets/controls",
            "_model_module_version": "1.5.0",
            "_model_name": "HTMLModel",
            "_view_count": null,
            "_view_module": "@jupyter-widgets/controls",
            "_view_module_version": "1.5.0",
            "_view_name": "HTMLView",
            "description": "",
            "description_tooltip": null,
            "layout": "IPY_MODEL_03bef5125b10401b97ce0eadc9e5fc38",
            "placeholder": "​",
            "style": "IPY_MODEL_2974f30dbf074375b98327fb7b2bb244",
            "value": "Downloading (…)olve/main/merges.txt: 100%"
          }
        },
        "22f42547e50c427bb628acd5328fee3b": {
          "model_module": "@jupyter-widgets/controls",
          "model_name": "FloatProgressModel",
          "model_module_version": "1.5.0",
          "state": {
            "_dom_classes": [],
            "_model_module": "@jupyter-widgets/controls",
            "_model_module_version": "1.5.0",
            "_model_name": "FloatProgressModel",
            "_view_count": null,
            "_view_module": "@jupyter-widgets/controls",
            "_view_module_version": "1.5.0",
            "_view_name": "ProgressView",
            "bar_style": "success",
            "description": "",
            "description_tooltip": null,
            "layout": "IPY_MODEL_394cc29da0cc49e0bd7ae3f5bf28780c",
            "max": 456318,
            "min": 0,
            "orientation": "horizontal",
            "style": "IPY_MODEL_9e875f00020b4263b9e4972b041d1775",
            "value": 456318
          }
        },
        "d7c96ed3eed94079a06a52ecc498a63f": {
          "model_module": "@jupyter-widgets/controls",
          "model_name": "HTMLModel",
          "model_module_version": "1.5.0",
          "state": {
            "_dom_classes": [],
            "_model_module": "@jupyter-widgets/controls",
            "_model_module_version": "1.5.0",
            "_model_name": "HTMLModel",
            "_view_count": null,
            "_view_module": "@jupyter-widgets/controls",
            "_view_module_version": "1.5.0",
            "_view_name": "HTMLView",
            "description": "",
            "description_tooltip": null,
            "layout": "IPY_MODEL_4775d2e92554409a8c1ebb723614ede0",
            "placeholder": "​",
            "style": "IPY_MODEL_a58132ce16364911afe9196cf7a5fa52",
            "value": " 456k/456k [00:00&lt;00:00, 15.0MB/s]"
          }
        },
        "677882923422443a8ce135fe60b68c2d": {
          "model_module": "@jupyter-widgets/base",
          "model_name": "LayoutModel",
          "model_module_version": "1.2.0",
          "state": {
            "_model_module": "@jupyter-widgets/base",
            "_model_module_version": "1.2.0",
            "_model_name": "LayoutModel",
            "_view_count": null,
            "_view_module": "@jupyter-widgets/base",
            "_view_module_version": "1.2.0",
            "_view_name": "LayoutView",
            "align_content": null,
            "align_items": null,
            "align_self": null,
            "border": null,
            "bottom": null,
            "display": null,
            "flex": null,
            "flex_flow": null,
            "grid_area": null,
            "grid_auto_columns": null,
            "grid_auto_flow": null,
            "grid_auto_rows": null,
            "grid_column": null,
            "grid_gap": null,
            "grid_row": null,
            "grid_template_areas": null,
            "grid_template_columns": null,
            "grid_template_rows": null,
            "height": null,
            "justify_content": null,
            "justify_items": null,
            "left": null,
            "margin": null,
            "max_height": null,
            "max_width": null,
            "min_height": null,
            "min_width": null,
            "object_fit": null,
            "object_position": null,
            "order": null,
            "overflow": null,
            "overflow_x": null,
            "overflow_y": null,
            "padding": null,
            "right": null,
            "top": null,
            "visibility": null,
            "width": null
          }
        },
        "03bef5125b10401b97ce0eadc9e5fc38": {
          "model_module": "@jupyter-widgets/base",
          "model_name": "LayoutModel",
          "model_module_version": "1.2.0",
          "state": {
            "_model_module": "@jupyter-widgets/base",
            "_model_module_version": "1.2.0",
            "_model_name": "LayoutModel",
            "_view_count": null,
            "_view_module": "@jupyter-widgets/base",
            "_view_module_version": "1.2.0",
            "_view_name": "LayoutView",
            "align_content": null,
            "align_items": null,
            "align_self": null,
            "border": null,
            "bottom": null,
            "display": null,
            "flex": null,
            "flex_flow": null,
            "grid_area": null,
            "grid_auto_columns": null,
            "grid_auto_flow": null,
            "grid_auto_rows": null,
            "grid_column": null,
            "grid_gap": null,
            "grid_row": null,
            "grid_template_areas": null,
            "grid_template_columns": null,
            "grid_template_rows": null,
            "height": null,
            "justify_content": null,
            "justify_items": null,
            "left": null,
            "margin": null,
            "max_height": null,
            "max_width": null,
            "min_height": null,
            "min_width": null,
            "object_fit": null,
            "object_position": null,
            "order": null,
            "overflow": null,
            "overflow_x": null,
            "overflow_y": null,
            "padding": null,
            "right": null,
            "top": null,
            "visibility": null,
            "width": null
          }
        },
        "2974f30dbf074375b98327fb7b2bb244": {
          "model_module": "@jupyter-widgets/controls",
          "model_name": "DescriptionStyleModel",
          "model_module_version": "1.5.0",
          "state": {
            "_model_module": "@jupyter-widgets/controls",
            "_model_module_version": "1.5.0",
            "_model_name": "DescriptionStyleModel",
            "_view_count": null,
            "_view_module": "@jupyter-widgets/base",
            "_view_module_version": "1.2.0",
            "_view_name": "StyleView",
            "description_width": ""
          }
        },
        "394cc29da0cc49e0bd7ae3f5bf28780c": {
          "model_module": "@jupyter-widgets/base",
          "model_name": "LayoutModel",
          "model_module_version": "1.2.0",
          "state": {
            "_model_module": "@jupyter-widgets/base",
            "_model_module_version": "1.2.0",
            "_model_name": "LayoutModel",
            "_view_count": null,
            "_view_module": "@jupyter-widgets/base",
            "_view_module_version": "1.2.0",
            "_view_name": "LayoutView",
            "align_content": null,
            "align_items": null,
            "align_self": null,
            "border": null,
            "bottom": null,
            "display": null,
            "flex": null,
            "flex_flow": null,
            "grid_area": null,
            "grid_auto_columns": null,
            "grid_auto_flow": null,
            "grid_auto_rows": null,
            "grid_column": null,
            "grid_gap": null,
            "grid_row": null,
            "grid_template_areas": null,
            "grid_template_columns": null,
            "grid_template_rows": null,
            "height": null,
            "justify_content": null,
            "justify_items": null,
            "left": null,
            "margin": null,
            "max_height": null,
            "max_width": null,
            "min_height": null,
            "min_width": null,
            "object_fit": null,
            "object_position": null,
            "order": null,
            "overflow": null,
            "overflow_x": null,
            "overflow_y": null,
            "padding": null,
            "right": null,
            "top": null,
            "visibility": null,
            "width": null
          }
        },
        "9e875f00020b4263b9e4972b041d1775": {
          "model_module": "@jupyter-widgets/controls",
          "model_name": "ProgressStyleModel",
          "model_module_version": "1.5.0",
          "state": {
            "_model_module": "@jupyter-widgets/controls",
            "_model_module_version": "1.5.0",
            "_model_name": "ProgressStyleModel",
            "_view_count": null,
            "_view_module": "@jupyter-widgets/base",
            "_view_module_version": "1.2.0",
            "_view_name": "StyleView",
            "bar_color": null,
            "description_width": ""
          }
        },
        "4775d2e92554409a8c1ebb723614ede0": {
          "model_module": "@jupyter-widgets/base",
          "model_name": "LayoutModel",
          "model_module_version": "1.2.0",
          "state": {
            "_model_module": "@jupyter-widgets/base",
            "_model_module_version": "1.2.0",
            "_model_name": "LayoutModel",
            "_view_count": null,
            "_view_module": "@jupyter-widgets/base",
            "_view_module_version": "1.2.0",
            "_view_name": "LayoutView",
            "align_content": null,
            "align_items": null,
            "align_self": null,
            "border": null,
            "bottom": null,
            "display": null,
            "flex": null,
            "flex_flow": null,
            "grid_area": null,
            "grid_auto_columns": null,
            "grid_auto_flow": null,
            "grid_auto_rows": null,
            "grid_column": null,
            "grid_gap": null,
            "grid_row": null,
            "grid_template_areas": null,
            "grid_template_columns": null,
            "grid_template_rows": null,
            "height": null,
            "justify_content": null,
            "justify_items": null,
            "left": null,
            "margin": null,
            "max_height": null,
            "max_width": null,
            "min_height": null,
            "min_width": null,
            "object_fit": null,
            "object_position": null,
            "order": null,
            "overflow": null,
            "overflow_x": null,
            "overflow_y": null,
            "padding": null,
            "right": null,
            "top": null,
            "visibility": null,
            "width": null
          }
        },
        "a58132ce16364911afe9196cf7a5fa52": {
          "model_module": "@jupyter-widgets/controls",
          "model_name": "DescriptionStyleModel",
          "model_module_version": "1.5.0",
          "state": {
            "_model_module": "@jupyter-widgets/controls",
            "_model_module_version": "1.5.0",
            "_model_name": "DescriptionStyleModel",
            "_view_count": null,
            "_view_module": "@jupyter-widgets/base",
            "_view_module_version": "1.2.0",
            "_view_name": "StyleView",
            "description_width": ""
          }
        },
        "1bf0d75924d24c5f89f31b5476d25f3d": {
          "model_module": "@jupyter-widgets/controls",
          "model_name": "HBoxModel",
          "model_module_version": "1.5.0",
          "state": {
            "_dom_classes": [],
            "_model_module": "@jupyter-widgets/controls",
            "_model_module_version": "1.5.0",
            "_model_name": "HBoxModel",
            "_view_count": null,
            "_view_module": "@jupyter-widgets/controls",
            "_view_module_version": "1.5.0",
            "_view_name": "HBoxView",
            "box_style": "",
            "children": [
              "IPY_MODEL_f6fd6878fab948878e2bb32f1c02bb3c",
              "IPY_MODEL_ad1f7dd14aa548a49af112d1756e2a7c",
              "IPY_MODEL_c95e5a06656244849b3f978c82a8bb59"
            ],
            "layout": "IPY_MODEL_7ef9af9aff034da69d121b85a4a741e4"
          }
        },
        "f6fd6878fab948878e2bb32f1c02bb3c": {
          "model_module": "@jupyter-widgets/controls",
          "model_name": "HTMLModel",
          "model_module_version": "1.5.0",
          "state": {
            "_dom_classes": [],
            "_model_module": "@jupyter-widgets/controls",
            "_model_module_version": "1.5.0",
            "_model_name": "HTMLModel",
            "_view_count": null,
            "_view_module": "@jupyter-widgets/controls",
            "_view_module_version": "1.5.0",
            "_view_name": "HTMLView",
            "description": "",
            "description_tooltip": null,
            "layout": "IPY_MODEL_2d76cedbdf5245d9ac83008867065c1b",
            "placeholder": "​",
            "style": "IPY_MODEL_47be3b2cf2fb4d4a9df3ac82817611fc",
            "value": "Downloading (…)/main/tokenizer.json: 100%"
          }
        },
        "ad1f7dd14aa548a49af112d1756e2a7c": {
          "model_module": "@jupyter-widgets/controls",
          "model_name": "FloatProgressModel",
          "model_module_version": "1.5.0",
          "state": {
            "_dom_classes": [],
            "_model_module": "@jupyter-widgets/controls",
            "_model_module_version": "1.5.0",
            "_model_name": "FloatProgressModel",
            "_view_count": null,
            "_view_module": "@jupyter-widgets/controls",
            "_view_module_version": "1.5.0",
            "_view_name": "ProgressView",
            "bar_style": "success",
            "description": "",
            "description_tooltip": null,
            "layout": "IPY_MODEL_8185f26675a046b8915d4a84601e9e19",
            "max": 1355256,
            "min": 0,
            "orientation": "horizontal",
            "style": "IPY_MODEL_cf053ef492494af7bf2ac405d9de6b48",
            "value": 1355256
          }
        },
        "c95e5a06656244849b3f978c82a8bb59": {
          "model_module": "@jupyter-widgets/controls",
          "model_name": "HTMLModel",
          "model_module_version": "1.5.0",
          "state": {
            "_dom_classes": [],
            "_model_module": "@jupyter-widgets/controls",
            "_model_module_version": "1.5.0",
            "_model_name": "HTMLModel",
            "_view_count": null,
            "_view_module": "@jupyter-widgets/controls",
            "_view_module_version": "1.5.0",
            "_view_name": "HTMLView",
            "description": "",
            "description_tooltip": null,
            "layout": "IPY_MODEL_596f6860e377497f99f0d37689151755",
            "placeholder": "​",
            "style": "IPY_MODEL_fe5ccbca93ef49e09c1dbda91777fa65",
            "value": " 1.36M/1.36M [00:00&lt;00:00, 17.9MB/s]"
          }
        },
        "7ef9af9aff034da69d121b85a4a741e4": {
          "model_module": "@jupyter-widgets/base",
          "model_name": "LayoutModel",
          "model_module_version": "1.2.0",
          "state": {
            "_model_module": "@jupyter-widgets/base",
            "_model_module_version": "1.2.0",
            "_model_name": "LayoutModel",
            "_view_count": null,
            "_view_module": "@jupyter-widgets/base",
            "_view_module_version": "1.2.0",
            "_view_name": "LayoutView",
            "align_content": null,
            "align_items": null,
            "align_self": null,
            "border": null,
            "bottom": null,
            "display": null,
            "flex": null,
            "flex_flow": null,
            "grid_area": null,
            "grid_auto_columns": null,
            "grid_auto_flow": null,
            "grid_auto_rows": null,
            "grid_column": null,
            "grid_gap": null,
            "grid_row": null,
            "grid_template_areas": null,
            "grid_template_columns": null,
            "grid_template_rows": null,
            "height": null,
            "justify_content": null,
            "justify_items": null,
            "left": null,
            "margin": null,
            "max_height": null,
            "max_width": null,
            "min_height": null,
            "min_width": null,
            "object_fit": null,
            "object_position": null,
            "order": null,
            "overflow": null,
            "overflow_x": null,
            "overflow_y": null,
            "padding": null,
            "right": null,
            "top": null,
            "visibility": null,
            "width": null
          }
        },
        "2d76cedbdf5245d9ac83008867065c1b": {
          "model_module": "@jupyter-widgets/base",
          "model_name": "LayoutModel",
          "model_module_version": "1.2.0",
          "state": {
            "_model_module": "@jupyter-widgets/base",
            "_model_module_version": "1.2.0",
            "_model_name": "LayoutModel",
            "_view_count": null,
            "_view_module": "@jupyter-widgets/base",
            "_view_module_version": "1.2.0",
            "_view_name": "LayoutView",
            "align_content": null,
            "align_items": null,
            "align_self": null,
            "border": null,
            "bottom": null,
            "display": null,
            "flex": null,
            "flex_flow": null,
            "grid_area": null,
            "grid_auto_columns": null,
            "grid_auto_flow": null,
            "grid_auto_rows": null,
            "grid_column": null,
            "grid_gap": null,
            "grid_row": null,
            "grid_template_areas": null,
            "grid_template_columns": null,
            "grid_template_rows": null,
            "height": null,
            "justify_content": null,
            "justify_items": null,
            "left": null,
            "margin": null,
            "max_height": null,
            "max_width": null,
            "min_height": null,
            "min_width": null,
            "object_fit": null,
            "object_position": null,
            "order": null,
            "overflow": null,
            "overflow_x": null,
            "overflow_y": null,
            "padding": null,
            "right": null,
            "top": null,
            "visibility": null,
            "width": null
          }
        },
        "47be3b2cf2fb4d4a9df3ac82817611fc": {
          "model_module": "@jupyter-widgets/controls",
          "model_name": "DescriptionStyleModel",
          "model_module_version": "1.5.0",
          "state": {
            "_model_module": "@jupyter-widgets/controls",
            "_model_module_version": "1.5.0",
            "_model_name": "DescriptionStyleModel",
            "_view_count": null,
            "_view_module": "@jupyter-widgets/base",
            "_view_module_version": "1.2.0",
            "_view_name": "StyleView",
            "description_width": ""
          }
        },
        "8185f26675a046b8915d4a84601e9e19": {
          "model_module": "@jupyter-widgets/base",
          "model_name": "LayoutModel",
          "model_module_version": "1.2.0",
          "state": {
            "_model_module": "@jupyter-widgets/base",
            "_model_module_version": "1.2.0",
            "_model_name": "LayoutModel",
            "_view_count": null,
            "_view_module": "@jupyter-widgets/base",
            "_view_module_version": "1.2.0",
            "_view_name": "LayoutView",
            "align_content": null,
            "align_items": null,
            "align_self": null,
            "border": null,
            "bottom": null,
            "display": null,
            "flex": null,
            "flex_flow": null,
            "grid_area": null,
            "grid_auto_columns": null,
            "grid_auto_flow": null,
            "grid_auto_rows": null,
            "grid_column": null,
            "grid_gap": null,
            "grid_row": null,
            "grid_template_areas": null,
            "grid_template_columns": null,
            "grid_template_rows": null,
            "height": null,
            "justify_content": null,
            "justify_items": null,
            "left": null,
            "margin": null,
            "max_height": null,
            "max_width": null,
            "min_height": null,
            "min_width": null,
            "object_fit": null,
            "object_position": null,
            "order": null,
            "overflow": null,
            "overflow_x": null,
            "overflow_y": null,
            "padding": null,
            "right": null,
            "top": null,
            "visibility": null,
            "width": null
          }
        },
        "cf053ef492494af7bf2ac405d9de6b48": {
          "model_module": "@jupyter-widgets/controls",
          "model_name": "ProgressStyleModel",
          "model_module_version": "1.5.0",
          "state": {
            "_model_module": "@jupyter-widgets/controls",
            "_model_module_version": "1.5.0",
            "_model_name": "ProgressStyleModel",
            "_view_count": null,
            "_view_module": "@jupyter-widgets/base",
            "_view_module_version": "1.2.0",
            "_view_name": "StyleView",
            "bar_color": null,
            "description_width": ""
          }
        },
        "596f6860e377497f99f0d37689151755": {
          "model_module": "@jupyter-widgets/base",
          "model_name": "LayoutModel",
          "model_module_version": "1.2.0",
          "state": {
            "_model_module": "@jupyter-widgets/base",
            "_model_module_version": "1.2.0",
            "_model_name": "LayoutModel",
            "_view_count": null,
            "_view_module": "@jupyter-widgets/base",
            "_view_module_version": "1.2.0",
            "_view_name": "LayoutView",
            "align_content": null,
            "align_items": null,
            "align_self": null,
            "border": null,
            "bottom": null,
            "display": null,
            "flex": null,
            "flex_flow": null,
            "grid_area": null,
            "grid_auto_columns": null,
            "grid_auto_flow": null,
            "grid_auto_rows": null,
            "grid_column": null,
            "grid_gap": null,
            "grid_row": null,
            "grid_template_areas": null,
            "grid_template_columns": null,
            "grid_template_rows": null,
            "height": null,
            "justify_content": null,
            "justify_items": null,
            "left": null,
            "margin": null,
            "max_height": null,
            "max_width": null,
            "min_height": null,
            "min_width": null,
            "object_fit": null,
            "object_position": null,
            "order": null,
            "overflow": null,
            "overflow_x": null,
            "overflow_y": null,
            "padding": null,
            "right": null,
            "top": null,
            "visibility": null,
            "width": null
          }
        },
        "fe5ccbca93ef49e09c1dbda91777fa65": {
          "model_module": "@jupyter-widgets/controls",
          "model_name": "DescriptionStyleModel",
          "model_module_version": "1.5.0",
          "state": {
            "_model_module": "@jupyter-widgets/controls",
            "_model_module_version": "1.5.0",
            "_model_name": "DescriptionStyleModel",
            "_view_count": null,
            "_view_module": "@jupyter-widgets/base",
            "_view_module_version": "1.2.0",
            "_view_name": "StyleView",
            "description_width": ""
          }
        },
        "bfb21d836e164e5d9790a6a934475e6d": {
          "model_module": "@jupyter-widgets/controls",
          "model_name": "HBoxModel",
          "model_module_version": "1.5.0",
          "state": {
            "_dom_classes": [],
            "_model_module": "@jupyter-widgets/controls",
            "_model_module_version": "1.5.0",
            "_model_name": "HBoxModel",
            "_view_count": null,
            "_view_module": "@jupyter-widgets/controls",
            "_view_module_version": "1.5.0",
            "_view_name": "HBoxView",
            "box_style": "",
            "children": [
              "IPY_MODEL_b0ce5f43550f4f6bb190824dc6d4dd76",
              "IPY_MODEL_8fd720eabda743aab8564bda9f1f2f88",
              "IPY_MODEL_ae915a99b6d0432d80eb40bf1f945a45"
            ],
            "layout": "IPY_MODEL_4f3491a72e39453a918c6253cdbf95e4"
          }
        },
        "b0ce5f43550f4f6bb190824dc6d4dd76": {
          "model_module": "@jupyter-widgets/controls",
          "model_name": "HTMLModel",
          "model_module_version": "1.5.0",
          "state": {
            "_dom_classes": [],
            "_model_module": "@jupyter-widgets/controls",
            "_model_module_version": "1.5.0",
            "_model_name": "HTMLModel",
            "_view_count": null,
            "_view_module": "@jupyter-widgets/controls",
            "_view_module_version": "1.5.0",
            "_view_name": "HTMLView",
            "description": "",
            "description_tooltip": null,
            "layout": "IPY_MODEL_7fd0dc26bc694100b1b973b5dbd801e5",
            "placeholder": "​",
            "style": "IPY_MODEL_165e33a34bfd4245b1772529a51be3b4",
            "value": "100%"
          }
        },
        "8fd720eabda743aab8564bda9f1f2f88": {
          "model_module": "@jupyter-widgets/controls",
          "model_name": "FloatProgressModel",
          "model_module_version": "1.5.0",
          "state": {
            "_dom_classes": [],
            "_model_module": "@jupyter-widgets/controls",
            "_model_module_version": "1.5.0",
            "_model_name": "FloatProgressModel",
            "_view_count": null,
            "_view_module": "@jupyter-widgets/controls",
            "_view_module_version": "1.5.0",
            "_view_name": "ProgressView",
            "bar_style": "success",
            "description": "",
            "description_tooltip": null,
            "layout": "IPY_MODEL_11d6f037412d4164a320f35e03609910",
            "max": 100,
            "min": 0,
            "orientation": "horizontal",
            "style": "IPY_MODEL_eb7927cca8834f5babfd32bb992ecb49",
            "value": 100
          }
        },
        "ae915a99b6d0432d80eb40bf1f945a45": {
          "model_module": "@jupyter-widgets/controls",
          "model_name": "HTMLModel",
          "model_module_version": "1.5.0",
          "state": {
            "_dom_classes": [],
            "_model_module": "@jupyter-widgets/controls",
            "_model_module_version": "1.5.0",
            "_model_name": "HTMLModel",
            "_view_count": null,
            "_view_module": "@jupyter-widgets/controls",
            "_view_module_version": "1.5.0",
            "_view_name": "HTMLView",
            "description": "",
            "description_tooltip": null,
            "layout": "IPY_MODEL_1ececf57eebf4fec8b1b3c76095f5fa0",
            "placeholder": "​",
            "style": "IPY_MODEL_d137524e9b274c3ab829a1e26d07e271",
            "value": " 100/100 [00:43&lt;00:00,  1.66it/s]"
          }
        },
        "4f3491a72e39453a918c6253cdbf95e4": {
          "model_module": "@jupyter-widgets/base",
          "model_name": "LayoutModel",
          "model_module_version": "1.2.0",
          "state": {
            "_model_module": "@jupyter-widgets/base",
            "_model_module_version": "1.2.0",
            "_model_name": "LayoutModel",
            "_view_count": null,
            "_view_module": "@jupyter-widgets/base",
            "_view_module_version": "1.2.0",
            "_view_name": "LayoutView",
            "align_content": null,
            "align_items": null,
            "align_self": null,
            "border": null,
            "bottom": null,
            "display": null,
            "flex": null,
            "flex_flow": null,
            "grid_area": null,
            "grid_auto_columns": null,
            "grid_auto_flow": null,
            "grid_auto_rows": null,
            "grid_column": null,
            "grid_gap": null,
            "grid_row": null,
            "grid_template_areas": null,
            "grid_template_columns": null,
            "grid_template_rows": null,
            "height": null,
            "justify_content": null,
            "justify_items": null,
            "left": null,
            "margin": null,
            "max_height": null,
            "max_width": null,
            "min_height": null,
            "min_width": null,
            "object_fit": null,
            "object_position": null,
            "order": null,
            "overflow": null,
            "overflow_x": null,
            "overflow_y": null,
            "padding": null,
            "right": null,
            "top": null,
            "visibility": null,
            "width": null
          }
        },
        "7fd0dc26bc694100b1b973b5dbd801e5": {
          "model_module": "@jupyter-widgets/base",
          "model_name": "LayoutModel",
          "model_module_version": "1.2.0",
          "state": {
            "_model_module": "@jupyter-widgets/base",
            "_model_module_version": "1.2.0",
            "_model_name": "LayoutModel",
            "_view_count": null,
            "_view_module": "@jupyter-widgets/base",
            "_view_module_version": "1.2.0",
            "_view_name": "LayoutView",
            "align_content": null,
            "align_items": null,
            "align_self": null,
            "border": null,
            "bottom": null,
            "display": null,
            "flex": null,
            "flex_flow": null,
            "grid_area": null,
            "grid_auto_columns": null,
            "grid_auto_flow": null,
            "grid_auto_rows": null,
            "grid_column": null,
            "grid_gap": null,
            "grid_row": null,
            "grid_template_areas": null,
            "grid_template_columns": null,
            "grid_template_rows": null,
            "height": null,
            "justify_content": null,
            "justify_items": null,
            "left": null,
            "margin": null,
            "max_height": null,
            "max_width": null,
            "min_height": null,
            "min_width": null,
            "object_fit": null,
            "object_position": null,
            "order": null,
            "overflow": null,
            "overflow_x": null,
            "overflow_y": null,
            "padding": null,
            "right": null,
            "top": null,
            "visibility": null,
            "width": null
          }
        },
        "165e33a34bfd4245b1772529a51be3b4": {
          "model_module": "@jupyter-widgets/controls",
          "model_name": "DescriptionStyleModel",
          "model_module_version": "1.5.0",
          "state": {
            "_model_module": "@jupyter-widgets/controls",
            "_model_module_version": "1.5.0",
            "_model_name": "DescriptionStyleModel",
            "_view_count": null,
            "_view_module": "@jupyter-widgets/base",
            "_view_module_version": "1.2.0",
            "_view_name": "StyleView",
            "description_width": ""
          }
        },
        "11d6f037412d4164a320f35e03609910": {
          "model_module": "@jupyter-widgets/base",
          "model_name": "LayoutModel",
          "model_module_version": "1.2.0",
          "state": {
            "_model_module": "@jupyter-widgets/base",
            "_model_module_version": "1.2.0",
            "_model_name": "LayoutModel",
            "_view_count": null,
            "_view_module": "@jupyter-widgets/base",
            "_view_module_version": "1.2.0",
            "_view_name": "LayoutView",
            "align_content": null,
            "align_items": null,
            "align_self": null,
            "border": null,
            "bottom": null,
            "display": null,
            "flex": null,
            "flex_flow": null,
            "grid_area": null,
            "grid_auto_columns": null,
            "grid_auto_flow": null,
            "grid_auto_rows": null,
            "grid_column": null,
            "grid_gap": null,
            "grid_row": null,
            "grid_template_areas": null,
            "grid_template_columns": null,
            "grid_template_rows": null,
            "height": null,
            "justify_content": null,
            "justify_items": null,
            "left": null,
            "margin": null,
            "max_height": null,
            "max_width": null,
            "min_height": null,
            "min_width": null,
            "object_fit": null,
            "object_position": null,
            "order": null,
            "overflow": null,
            "overflow_x": null,
            "overflow_y": null,
            "padding": null,
            "right": null,
            "top": null,
            "visibility": null,
            "width": null
          }
        },
        "eb7927cca8834f5babfd32bb992ecb49": {
          "model_module": "@jupyter-widgets/controls",
          "model_name": "ProgressStyleModel",
          "model_module_version": "1.5.0",
          "state": {
            "_model_module": "@jupyter-widgets/controls",
            "_model_module_version": "1.5.0",
            "_model_name": "ProgressStyleModel",
            "_view_count": null,
            "_view_module": "@jupyter-widgets/base",
            "_view_module_version": "1.2.0",
            "_view_name": "StyleView",
            "bar_color": null,
            "description_width": ""
          }
        },
        "1ececf57eebf4fec8b1b3c76095f5fa0": {
          "model_module": "@jupyter-widgets/base",
          "model_name": "LayoutModel",
          "model_module_version": "1.2.0",
          "state": {
            "_model_module": "@jupyter-widgets/base",
            "_model_module_version": "1.2.0",
            "_model_name": "LayoutModel",
            "_view_count": null,
            "_view_module": "@jupyter-widgets/base",
            "_view_module_version": "1.2.0",
            "_view_name": "LayoutView",
            "align_content": null,
            "align_items": null,
            "align_self": null,
            "border": null,
            "bottom": null,
            "display": null,
            "flex": null,
            "flex_flow": null,
            "grid_area": null,
            "grid_auto_columns": null,
            "grid_auto_flow": null,
            "grid_auto_rows": null,
            "grid_column": null,
            "grid_gap": null,
            "grid_row": null,
            "grid_template_areas": null,
            "grid_template_columns": null,
            "grid_template_rows": null,
            "height": null,
            "justify_content": null,
            "justify_items": null,
            "left": null,
            "margin": null,
            "max_height": null,
            "max_width": null,
            "min_height": null,
            "min_width": null,
            "object_fit": null,
            "object_position": null,
            "order": null,
            "overflow": null,
            "overflow_x": null,
            "overflow_y": null,
            "padding": null,
            "right": null,
            "top": null,
            "visibility": null,
            "width": null
          }
        },
        "d137524e9b274c3ab829a1e26d07e271": {
          "model_module": "@jupyter-widgets/controls",
          "model_name": "DescriptionStyleModel",
          "model_module_version": "1.5.0",
          "state": {
            "_model_module": "@jupyter-widgets/controls",
            "_model_module_version": "1.5.0",
            "_model_name": "DescriptionStyleModel",
            "_view_count": null,
            "_view_module": "@jupyter-widgets/base",
            "_view_module_version": "1.2.0",
            "_view_name": "StyleView",
            "description_width": ""
          }
        },
        "32dfe25ef5704c31a8a49c5ae0d9ef0f": {
          "model_module": "@jupyter-widgets/controls",
          "model_name": "HBoxModel",
          "model_module_version": "1.5.0",
          "state": {
            "_dom_classes": [],
            "_model_module": "@jupyter-widgets/controls",
            "_model_module_version": "1.5.0",
            "_model_name": "HBoxModel",
            "_view_count": null,
            "_view_module": "@jupyter-widgets/controls",
            "_view_module_version": "1.5.0",
            "_view_name": "HBoxView",
            "box_style": "",
            "children": [
              "IPY_MODEL_5b7ec6a66f7c424da632bb493acd939e",
              "IPY_MODEL_73ddf4d26c3545028bd41ba08cf6dee0",
              "IPY_MODEL_afbce3a6c0f8411a88c309abc81f7483"
            ],
            "layout": "IPY_MODEL_6b6bc1d28172405eb0770dec1589ec09"
          }
        },
        "5b7ec6a66f7c424da632bb493acd939e": {
          "model_module": "@jupyter-widgets/controls",
          "model_name": "HTMLModel",
          "model_module_version": "1.5.0",
          "state": {
            "_dom_classes": [],
            "_model_module": "@jupyter-widgets/controls",
            "_model_module_version": "1.5.0",
            "_model_name": "HTMLModel",
            "_view_count": null,
            "_view_module": "@jupyter-widgets/controls",
            "_view_module_version": "1.5.0",
            "_view_name": "HTMLView",
            "description": "",
            "description_tooltip": null,
            "layout": "IPY_MODEL_1b36604070214d4fa5f50aeed5e8fcf3",
            "placeholder": "​",
            "style": "IPY_MODEL_fdd5b5b9bcf74b2aa85f3854e974c34d",
            "value": "Downloading readme: 100%"
          }
        },
        "73ddf4d26c3545028bd41ba08cf6dee0": {
          "model_module": "@jupyter-widgets/controls",
          "model_name": "FloatProgressModel",
          "model_module_version": "1.5.0",
          "state": {
            "_dom_classes": [],
            "_model_module": "@jupyter-widgets/controls",
            "_model_module_version": "1.5.0",
            "_model_name": "FloatProgressModel",
            "_view_count": null,
            "_view_module": "@jupyter-widgets/controls",
            "_view_module_version": "1.5.0",
            "_view_name": "ProgressView",
            "bar_style": "success",
            "description": "",
            "description_tooltip": null,
            "layout": "IPY_MODEL_ee6eb51a8e7645558666cd76678a2827",
            "max": 373,
            "min": 0,
            "orientation": "horizontal",
            "style": "IPY_MODEL_0eb9b73ffca84a878e4ccfb82768c54c",
            "value": 373
          }
        },
        "afbce3a6c0f8411a88c309abc81f7483": {
          "model_module": "@jupyter-widgets/controls",
          "model_name": "HTMLModel",
          "model_module_version": "1.5.0",
          "state": {
            "_dom_classes": [],
            "_model_module": "@jupyter-widgets/controls",
            "_model_module_version": "1.5.0",
            "_model_name": "HTMLModel",
            "_view_count": null,
            "_view_module": "@jupyter-widgets/controls",
            "_view_module_version": "1.5.0",
            "_view_name": "HTMLView",
            "description": "",
            "description_tooltip": null,
            "layout": "IPY_MODEL_a2da71482e754dfe972059562ae14b97",
            "placeholder": "​",
            "style": "IPY_MODEL_4e2e779456e04f30937a1cc83f2eabf5",
            "value": " 373/373 [00:00&lt;00:00, 17.0kB/s]"
          }
        },
        "6b6bc1d28172405eb0770dec1589ec09": {
          "model_module": "@jupyter-widgets/base",
          "model_name": "LayoutModel",
          "model_module_version": "1.2.0",
          "state": {
            "_model_module": "@jupyter-widgets/base",
            "_model_module_version": "1.2.0",
            "_model_name": "LayoutModel",
            "_view_count": null,
            "_view_module": "@jupyter-widgets/base",
            "_view_module_version": "1.2.0",
            "_view_name": "LayoutView",
            "align_content": null,
            "align_items": null,
            "align_self": null,
            "border": null,
            "bottom": null,
            "display": null,
            "flex": null,
            "flex_flow": null,
            "grid_area": null,
            "grid_auto_columns": null,
            "grid_auto_flow": null,
            "grid_auto_rows": null,
            "grid_column": null,
            "grid_gap": null,
            "grid_row": null,
            "grid_template_areas": null,
            "grid_template_columns": null,
            "grid_template_rows": null,
            "height": null,
            "justify_content": null,
            "justify_items": null,
            "left": null,
            "margin": null,
            "max_height": null,
            "max_width": null,
            "min_height": null,
            "min_width": null,
            "object_fit": null,
            "object_position": null,
            "order": null,
            "overflow": null,
            "overflow_x": null,
            "overflow_y": null,
            "padding": null,
            "right": null,
            "top": null,
            "visibility": null,
            "width": null
          }
        },
        "1b36604070214d4fa5f50aeed5e8fcf3": {
          "model_module": "@jupyter-widgets/base",
          "model_name": "LayoutModel",
          "model_module_version": "1.2.0",
          "state": {
            "_model_module": "@jupyter-widgets/base",
            "_model_module_version": "1.2.0",
            "_model_name": "LayoutModel",
            "_view_count": null,
            "_view_module": "@jupyter-widgets/base",
            "_view_module_version": "1.2.0",
            "_view_name": "LayoutView",
            "align_content": null,
            "align_items": null,
            "align_self": null,
            "border": null,
            "bottom": null,
            "display": null,
            "flex": null,
            "flex_flow": null,
            "grid_area": null,
            "grid_auto_columns": null,
            "grid_auto_flow": null,
            "grid_auto_rows": null,
            "grid_column": null,
            "grid_gap": null,
            "grid_row": null,
            "grid_template_areas": null,
            "grid_template_columns": null,
            "grid_template_rows": null,
            "height": null,
            "justify_content": null,
            "justify_items": null,
            "left": null,
            "margin": null,
            "max_height": null,
            "max_width": null,
            "min_height": null,
            "min_width": null,
            "object_fit": null,
            "object_position": null,
            "order": null,
            "overflow": null,
            "overflow_x": null,
            "overflow_y": null,
            "padding": null,
            "right": null,
            "top": null,
            "visibility": null,
            "width": null
          }
        },
        "fdd5b5b9bcf74b2aa85f3854e974c34d": {
          "model_module": "@jupyter-widgets/controls",
          "model_name": "DescriptionStyleModel",
          "model_module_version": "1.5.0",
          "state": {
            "_model_module": "@jupyter-widgets/controls",
            "_model_module_version": "1.5.0",
            "_model_name": "DescriptionStyleModel",
            "_view_count": null,
            "_view_module": "@jupyter-widgets/base",
            "_view_module_version": "1.2.0",
            "_view_name": "StyleView",
            "description_width": ""
          }
        },
        "ee6eb51a8e7645558666cd76678a2827": {
          "model_module": "@jupyter-widgets/base",
          "model_name": "LayoutModel",
          "model_module_version": "1.2.0",
          "state": {
            "_model_module": "@jupyter-widgets/base",
            "_model_module_version": "1.2.0",
            "_model_name": "LayoutModel",
            "_view_count": null,
            "_view_module": "@jupyter-widgets/base",
            "_view_module_version": "1.2.0",
            "_view_name": "LayoutView",
            "align_content": null,
            "align_items": null,
            "align_self": null,
            "border": null,
            "bottom": null,
            "display": null,
            "flex": null,
            "flex_flow": null,
            "grid_area": null,
            "grid_auto_columns": null,
            "grid_auto_flow": null,
            "grid_auto_rows": null,
            "grid_column": null,
            "grid_gap": null,
            "grid_row": null,
            "grid_template_areas": null,
            "grid_template_columns": null,
            "grid_template_rows": null,
            "height": null,
            "justify_content": null,
            "justify_items": null,
            "left": null,
            "margin": null,
            "max_height": null,
            "max_width": null,
            "min_height": null,
            "min_width": null,
            "object_fit": null,
            "object_position": null,
            "order": null,
            "overflow": null,
            "overflow_x": null,
            "overflow_y": null,
            "padding": null,
            "right": null,
            "top": null,
            "visibility": null,
            "width": null
          }
        },
        "0eb9b73ffca84a878e4ccfb82768c54c": {
          "model_module": "@jupyter-widgets/controls",
          "model_name": "ProgressStyleModel",
          "model_module_version": "1.5.0",
          "state": {
            "_model_module": "@jupyter-widgets/controls",
            "_model_module_version": "1.5.0",
            "_model_name": "ProgressStyleModel",
            "_view_count": null,
            "_view_module": "@jupyter-widgets/base",
            "_view_module_version": "1.2.0",
            "_view_name": "StyleView",
            "bar_color": null,
            "description_width": ""
          }
        },
        "a2da71482e754dfe972059562ae14b97": {
          "model_module": "@jupyter-widgets/base",
          "model_name": "LayoutModel",
          "model_module_version": "1.2.0",
          "state": {
            "_model_module": "@jupyter-widgets/base",
            "_model_module_version": "1.2.0",
            "_model_name": "LayoutModel",
            "_view_count": null,
            "_view_module": "@jupyter-widgets/base",
            "_view_module_version": "1.2.0",
            "_view_name": "LayoutView",
            "align_content": null,
            "align_items": null,
            "align_self": null,
            "border": null,
            "bottom": null,
            "display": null,
            "flex": null,
            "flex_flow": null,
            "grid_area": null,
            "grid_auto_columns": null,
            "grid_auto_flow": null,
            "grid_auto_rows": null,
            "grid_column": null,
            "grid_gap": null,
            "grid_row": null,
            "grid_template_areas": null,
            "grid_template_columns": null,
            "grid_template_rows": null,
            "height": null,
            "justify_content": null,
            "justify_items": null,
            "left": null,
            "margin": null,
            "max_height": null,
            "max_width": null,
            "min_height": null,
            "min_width": null,
            "object_fit": null,
            "object_position": null,
            "order": null,
            "overflow": null,
            "overflow_x": null,
            "overflow_y": null,
            "padding": null,
            "right": null,
            "top": null,
            "visibility": null,
            "width": null
          }
        },
        "4e2e779456e04f30937a1cc83f2eabf5": {
          "model_module": "@jupyter-widgets/controls",
          "model_name": "DescriptionStyleModel",
          "model_module_version": "1.5.0",
          "state": {
            "_model_module": "@jupyter-widgets/controls",
            "_model_module_version": "1.5.0",
            "_model_name": "DescriptionStyleModel",
            "_view_count": null,
            "_view_module": "@jupyter-widgets/base",
            "_view_module_version": "1.2.0",
            "_view_name": "StyleView",
            "description_width": ""
          }
        },
        "77b14092cf5640a6acd679995ee449e2": {
          "model_module": "@jupyter-widgets/controls",
          "model_name": "HBoxModel",
          "model_module_version": "1.5.0",
          "state": {
            "_dom_classes": [],
            "_model_module": "@jupyter-widgets/controls",
            "_model_module_version": "1.5.0",
            "_model_name": "HBoxModel",
            "_view_count": null,
            "_view_module": "@jupyter-widgets/controls",
            "_view_module_version": "1.5.0",
            "_view_name": "HBoxView",
            "box_style": "",
            "children": [
              "IPY_MODEL_ed7b166e8cc14e8cafcc5043542ffe86",
              "IPY_MODEL_0709dec3092141bf9d46480bb2dc6837",
              "IPY_MODEL_1c47b7966b444e6a9477ff32cf67e16b"
            ],
            "layout": "IPY_MODEL_29f8097c1bd840eca296aebfb41c61f9"
          }
        },
        "ed7b166e8cc14e8cafcc5043542ffe86": {
          "model_module": "@jupyter-widgets/controls",
          "model_name": "HTMLModel",
          "model_module_version": "1.5.0",
          "state": {
            "_dom_classes": [],
            "_model_module": "@jupyter-widgets/controls",
            "_model_module_version": "1.5.0",
            "_model_name": "HTMLModel",
            "_view_count": null,
            "_view_module": "@jupyter-widgets/controls",
            "_view_module_version": "1.5.0",
            "_view_name": "HTMLView",
            "description": "",
            "description_tooltip": null,
            "layout": "IPY_MODEL_ea1858762f7f4126b45e60795ec60a9e",
            "placeholder": "​",
            "style": "IPY_MODEL_31820e1a247b4323a464968394228faa",
            "value": "Downloading metadata: 100%"
          }
        },
        "0709dec3092141bf9d46480bb2dc6837": {
          "model_module": "@jupyter-widgets/controls",
          "model_name": "FloatProgressModel",
          "model_module_version": "1.5.0",
          "state": {
            "_dom_classes": [],
            "_model_module": "@jupyter-widgets/controls",
            "_model_module_version": "1.5.0",
            "_model_name": "FloatProgressModel",
            "_view_count": null,
            "_view_module": "@jupyter-widgets/controls",
            "_view_module_version": "1.5.0",
            "_view_name": "ProgressView",
            "bar_style": "success",
            "description": "",
            "description_tooltip": null,
            "layout": "IPY_MODEL_d6f3edb099894a008bcd76933d9f4aa3",
            "max": 921,
            "min": 0,
            "orientation": "horizontal",
            "style": "IPY_MODEL_070760348424442eb67baf2a76f5a3ac",
            "value": 921
          }
        },
        "1c47b7966b444e6a9477ff32cf67e16b": {
          "model_module": "@jupyter-widgets/controls",
          "model_name": "HTMLModel",
          "model_module_version": "1.5.0",
          "state": {
            "_dom_classes": [],
            "_model_module": "@jupyter-widgets/controls",
            "_model_module_version": "1.5.0",
            "_model_name": "HTMLModel",
            "_view_count": null,
            "_view_module": "@jupyter-widgets/controls",
            "_view_module_version": "1.5.0",
            "_view_name": "HTMLView",
            "description": "",
            "description_tooltip": null,
            "layout": "IPY_MODEL_b955ef0615984298902a61c33bd3520a",
            "placeholder": "​",
            "style": "IPY_MODEL_1a717170f8f24a169826c88e0fa69c29",
            "value": " 921/921 [00:00&lt;00:00, 45.0kB/s]"
          }
        },
        "29f8097c1bd840eca296aebfb41c61f9": {
          "model_module": "@jupyter-widgets/base",
          "model_name": "LayoutModel",
          "model_module_version": "1.2.0",
          "state": {
            "_model_module": "@jupyter-widgets/base",
            "_model_module_version": "1.2.0",
            "_model_name": "LayoutModel",
            "_view_count": null,
            "_view_module": "@jupyter-widgets/base",
            "_view_module_version": "1.2.0",
            "_view_name": "LayoutView",
            "align_content": null,
            "align_items": null,
            "align_self": null,
            "border": null,
            "bottom": null,
            "display": null,
            "flex": null,
            "flex_flow": null,
            "grid_area": null,
            "grid_auto_columns": null,
            "grid_auto_flow": null,
            "grid_auto_rows": null,
            "grid_column": null,
            "grid_gap": null,
            "grid_row": null,
            "grid_template_areas": null,
            "grid_template_columns": null,
            "grid_template_rows": null,
            "height": null,
            "justify_content": null,
            "justify_items": null,
            "left": null,
            "margin": null,
            "max_height": null,
            "max_width": null,
            "min_height": null,
            "min_width": null,
            "object_fit": null,
            "object_position": null,
            "order": null,
            "overflow": null,
            "overflow_x": null,
            "overflow_y": null,
            "padding": null,
            "right": null,
            "top": null,
            "visibility": null,
            "width": null
          }
        },
        "ea1858762f7f4126b45e60795ec60a9e": {
          "model_module": "@jupyter-widgets/base",
          "model_name": "LayoutModel",
          "model_module_version": "1.2.0",
          "state": {
            "_model_module": "@jupyter-widgets/base",
            "_model_module_version": "1.2.0",
            "_model_name": "LayoutModel",
            "_view_count": null,
            "_view_module": "@jupyter-widgets/base",
            "_view_module_version": "1.2.0",
            "_view_name": "LayoutView",
            "align_content": null,
            "align_items": null,
            "align_self": null,
            "border": null,
            "bottom": null,
            "display": null,
            "flex": null,
            "flex_flow": null,
            "grid_area": null,
            "grid_auto_columns": null,
            "grid_auto_flow": null,
            "grid_auto_rows": null,
            "grid_column": null,
            "grid_gap": null,
            "grid_row": null,
            "grid_template_areas": null,
            "grid_template_columns": null,
            "grid_template_rows": null,
            "height": null,
            "justify_content": null,
            "justify_items": null,
            "left": null,
            "margin": null,
            "max_height": null,
            "max_width": null,
            "min_height": null,
            "min_width": null,
            "object_fit": null,
            "object_position": null,
            "order": null,
            "overflow": null,
            "overflow_x": null,
            "overflow_y": null,
            "padding": null,
            "right": null,
            "top": null,
            "visibility": null,
            "width": null
          }
        },
        "31820e1a247b4323a464968394228faa": {
          "model_module": "@jupyter-widgets/controls",
          "model_name": "DescriptionStyleModel",
          "model_module_version": "1.5.0",
          "state": {
            "_model_module": "@jupyter-widgets/controls",
            "_model_module_version": "1.5.0",
            "_model_name": "DescriptionStyleModel",
            "_view_count": null,
            "_view_module": "@jupyter-widgets/base",
            "_view_module_version": "1.2.0",
            "_view_name": "StyleView",
            "description_width": ""
          }
        },
        "d6f3edb099894a008bcd76933d9f4aa3": {
          "model_module": "@jupyter-widgets/base",
          "model_name": "LayoutModel",
          "model_module_version": "1.2.0",
          "state": {
            "_model_module": "@jupyter-widgets/base",
            "_model_module_version": "1.2.0",
            "_model_name": "LayoutModel",
            "_view_count": null,
            "_view_module": "@jupyter-widgets/base",
            "_view_module_version": "1.2.0",
            "_view_name": "LayoutView",
            "align_content": null,
            "align_items": null,
            "align_self": null,
            "border": null,
            "bottom": null,
            "display": null,
            "flex": null,
            "flex_flow": null,
            "grid_area": null,
            "grid_auto_columns": null,
            "grid_auto_flow": null,
            "grid_auto_rows": null,
            "grid_column": null,
            "grid_gap": null,
            "grid_row": null,
            "grid_template_areas": null,
            "grid_template_columns": null,
            "grid_template_rows": null,
            "height": null,
            "justify_content": null,
            "justify_items": null,
            "left": null,
            "margin": null,
            "max_height": null,
            "max_width": null,
            "min_height": null,
            "min_width": null,
            "object_fit": null,
            "object_position": null,
            "order": null,
            "overflow": null,
            "overflow_x": null,
            "overflow_y": null,
            "padding": null,
            "right": null,
            "top": null,
            "visibility": null,
            "width": null
          }
        },
        "070760348424442eb67baf2a76f5a3ac": {
          "model_module": "@jupyter-widgets/controls",
          "model_name": "ProgressStyleModel",
          "model_module_version": "1.5.0",
          "state": {
            "_model_module": "@jupyter-widgets/controls",
            "_model_module_version": "1.5.0",
            "_model_name": "ProgressStyleModel",
            "_view_count": null,
            "_view_module": "@jupyter-widgets/base",
            "_view_module_version": "1.2.0",
            "_view_name": "StyleView",
            "bar_color": null,
            "description_width": ""
          }
        },
        "b955ef0615984298902a61c33bd3520a": {
          "model_module": "@jupyter-widgets/base",
          "model_name": "LayoutModel",
          "model_module_version": "1.2.0",
          "state": {
            "_model_module": "@jupyter-widgets/base",
            "_model_module_version": "1.2.0",
            "_model_name": "LayoutModel",
            "_view_count": null,
            "_view_module": "@jupyter-widgets/base",
            "_view_module_version": "1.2.0",
            "_view_name": "LayoutView",
            "align_content": null,
            "align_items": null,
            "align_self": null,
            "border": null,
            "bottom": null,
            "display": null,
            "flex": null,
            "flex_flow": null,
            "grid_area": null,
            "grid_auto_columns": null,
            "grid_auto_flow": null,
            "grid_auto_rows": null,
            "grid_column": null,
            "grid_gap": null,
            "grid_row": null,
            "grid_template_areas": null,
            "grid_template_columns": null,
            "grid_template_rows": null,
            "height": null,
            "justify_content": null,
            "justify_items": null,
            "left": null,
            "margin": null,
            "max_height": null,
            "max_width": null,
            "min_height": null,
            "min_width": null,
            "object_fit": null,
            "object_position": null,
            "order": null,
            "overflow": null,
            "overflow_x": null,
            "overflow_y": null,
            "padding": null,
            "right": null,
            "top": null,
            "visibility": null,
            "width": null
          }
        },
        "1a717170f8f24a169826c88e0fa69c29": {
          "model_module": "@jupyter-widgets/controls",
          "model_name": "DescriptionStyleModel",
          "model_module_version": "1.5.0",
          "state": {
            "_model_module": "@jupyter-widgets/controls",
            "_model_module_version": "1.5.0",
            "_model_name": "DescriptionStyleModel",
            "_view_count": null,
            "_view_module": "@jupyter-widgets/base",
            "_view_module_version": "1.2.0",
            "_view_name": "StyleView",
            "description_width": ""
          }
        },
        "70ccf8ce131d4a788f3a042713c8fa07": {
          "model_module": "@jupyter-widgets/controls",
          "model_name": "HBoxModel",
          "model_module_version": "1.5.0",
          "state": {
            "_dom_classes": [],
            "_model_module": "@jupyter-widgets/controls",
            "_model_module_version": "1.5.0",
            "_model_name": "HBoxModel",
            "_view_count": null,
            "_view_module": "@jupyter-widgets/controls",
            "_view_module_version": "1.5.0",
            "_view_name": "HBoxView",
            "box_style": "",
            "children": [
              "IPY_MODEL_daad400295364d03b6b9f5358fb554c2",
              "IPY_MODEL_54a71634cd0f41e0a62e82bf69d57c21",
              "IPY_MODEL_71e6d4eff08f4c2eae416586976b79ea"
            ],
            "layout": "IPY_MODEL_69d3003e354b4e76a221b2ec097e3b4f"
          }
        },
        "daad400295364d03b6b9f5358fb554c2": {
          "model_module": "@jupyter-widgets/controls",
          "model_name": "HTMLModel",
          "model_module_version": "1.5.0",
          "state": {
            "_dom_classes": [],
            "_model_module": "@jupyter-widgets/controls",
            "_model_module_version": "1.5.0",
            "_model_name": "HTMLModel",
            "_view_count": null,
            "_view_module": "@jupyter-widgets/controls",
            "_view_module_version": "1.5.0",
            "_view_name": "HTMLView",
            "description": "",
            "description_tooltip": null,
            "layout": "IPY_MODEL_ca0818fdff7f4e54a56e4be2ad8c224a",
            "placeholder": "​",
            "style": "IPY_MODEL_1f472928d3f149b291917caff77c7837",
            "value": "Downloading data files: 100%"
          }
        },
        "54a71634cd0f41e0a62e82bf69d57c21": {
          "model_module": "@jupyter-widgets/controls",
          "model_name": "FloatProgressModel",
          "model_module_version": "1.5.0",
          "state": {
            "_dom_classes": [],
            "_model_module": "@jupyter-widgets/controls",
            "_model_module_version": "1.5.0",
            "_model_name": "FloatProgressModel",
            "_view_count": null,
            "_view_module": "@jupyter-widgets/controls",
            "_view_module_version": "1.5.0",
            "_view_name": "ProgressView",
            "bar_style": "success",
            "description": "",
            "description_tooltip": null,
            "layout": "IPY_MODEL_274be9222f8640868d2268bc74d0febd",
            "max": 1,
            "min": 0,
            "orientation": "horizontal",
            "style": "IPY_MODEL_42171316b2ff4cfd9c3999e502782eda",
            "value": 1
          }
        },
        "71e6d4eff08f4c2eae416586976b79ea": {
          "model_module": "@jupyter-widgets/controls",
          "model_name": "HTMLModel",
          "model_module_version": "1.5.0",
          "state": {
            "_dom_classes": [],
            "_model_module": "@jupyter-widgets/controls",
            "_model_module_version": "1.5.0",
            "_model_name": "HTMLModel",
            "_view_count": null,
            "_view_module": "@jupyter-widgets/controls",
            "_view_module_version": "1.5.0",
            "_view_name": "HTMLView",
            "description": "",
            "description_tooltip": null,
            "layout": "IPY_MODEL_8e4bad416e76479ab65d6b6bca508195",
            "placeholder": "​",
            "style": "IPY_MODEL_431a720c39994e7fa4ecdf396d7374a0",
            "value": " 1/1 [00:01&lt;00:00,  1.05s/it]"
          }
        },
        "69d3003e354b4e76a221b2ec097e3b4f": {
          "model_module": "@jupyter-widgets/base",
          "model_name": "LayoutModel",
          "model_module_version": "1.2.0",
          "state": {
            "_model_module": "@jupyter-widgets/base",
            "_model_module_version": "1.2.0",
            "_model_name": "LayoutModel",
            "_view_count": null,
            "_view_module": "@jupyter-widgets/base",
            "_view_module_version": "1.2.0",
            "_view_name": "LayoutView",
            "align_content": null,
            "align_items": null,
            "align_self": null,
            "border": null,
            "bottom": null,
            "display": null,
            "flex": null,
            "flex_flow": null,
            "grid_area": null,
            "grid_auto_columns": null,
            "grid_auto_flow": null,
            "grid_auto_rows": null,
            "grid_column": null,
            "grid_gap": null,
            "grid_row": null,
            "grid_template_areas": null,
            "grid_template_columns": null,
            "grid_template_rows": null,
            "height": null,
            "justify_content": null,
            "justify_items": null,
            "left": null,
            "margin": null,
            "max_height": null,
            "max_width": null,
            "min_height": null,
            "min_width": null,
            "object_fit": null,
            "object_position": null,
            "order": null,
            "overflow": null,
            "overflow_x": null,
            "overflow_y": null,
            "padding": null,
            "right": null,
            "top": null,
            "visibility": null,
            "width": null
          }
        },
        "ca0818fdff7f4e54a56e4be2ad8c224a": {
          "model_module": "@jupyter-widgets/base",
          "model_name": "LayoutModel",
          "model_module_version": "1.2.0",
          "state": {
            "_model_module": "@jupyter-widgets/base",
            "_model_module_version": "1.2.0",
            "_model_name": "LayoutModel",
            "_view_count": null,
            "_view_module": "@jupyter-widgets/base",
            "_view_module_version": "1.2.0",
            "_view_name": "LayoutView",
            "align_content": null,
            "align_items": null,
            "align_self": null,
            "border": null,
            "bottom": null,
            "display": null,
            "flex": null,
            "flex_flow": null,
            "grid_area": null,
            "grid_auto_columns": null,
            "grid_auto_flow": null,
            "grid_auto_rows": null,
            "grid_column": null,
            "grid_gap": null,
            "grid_row": null,
            "grid_template_areas": null,
            "grid_template_columns": null,
            "grid_template_rows": null,
            "height": null,
            "justify_content": null,
            "justify_items": null,
            "left": null,
            "margin": null,
            "max_height": null,
            "max_width": null,
            "min_height": null,
            "min_width": null,
            "object_fit": null,
            "object_position": null,
            "order": null,
            "overflow": null,
            "overflow_x": null,
            "overflow_y": null,
            "padding": null,
            "right": null,
            "top": null,
            "visibility": null,
            "width": null
          }
        },
        "1f472928d3f149b291917caff77c7837": {
          "model_module": "@jupyter-widgets/controls",
          "model_name": "DescriptionStyleModel",
          "model_module_version": "1.5.0",
          "state": {
            "_model_module": "@jupyter-widgets/controls",
            "_model_module_version": "1.5.0",
            "_model_name": "DescriptionStyleModel",
            "_view_count": null,
            "_view_module": "@jupyter-widgets/base",
            "_view_module_version": "1.2.0",
            "_view_name": "StyleView",
            "description_width": ""
          }
        },
        "274be9222f8640868d2268bc74d0febd": {
          "model_module": "@jupyter-widgets/base",
          "model_name": "LayoutModel",
          "model_module_version": "1.2.0",
          "state": {
            "_model_module": "@jupyter-widgets/base",
            "_model_module_version": "1.2.0",
            "_model_name": "LayoutModel",
            "_view_count": null,
            "_view_module": "@jupyter-widgets/base",
            "_view_module_version": "1.2.0",
            "_view_name": "LayoutView",
            "align_content": null,
            "align_items": null,
            "align_self": null,
            "border": null,
            "bottom": null,
            "display": null,
            "flex": null,
            "flex_flow": null,
            "grid_area": null,
            "grid_auto_columns": null,
            "grid_auto_flow": null,
            "grid_auto_rows": null,
            "grid_column": null,
            "grid_gap": null,
            "grid_row": null,
            "grid_template_areas": null,
            "grid_template_columns": null,
            "grid_template_rows": null,
            "height": null,
            "justify_content": null,
            "justify_items": null,
            "left": null,
            "margin": null,
            "max_height": null,
            "max_width": null,
            "min_height": null,
            "min_width": null,
            "object_fit": null,
            "object_position": null,
            "order": null,
            "overflow": null,
            "overflow_x": null,
            "overflow_y": null,
            "padding": null,
            "right": null,
            "top": null,
            "visibility": null,
            "width": null
          }
        },
        "42171316b2ff4cfd9c3999e502782eda": {
          "model_module": "@jupyter-widgets/controls",
          "model_name": "ProgressStyleModel",
          "model_module_version": "1.5.0",
          "state": {
            "_model_module": "@jupyter-widgets/controls",
            "_model_module_version": "1.5.0",
            "_model_name": "ProgressStyleModel",
            "_view_count": null,
            "_view_module": "@jupyter-widgets/base",
            "_view_module_version": "1.2.0",
            "_view_name": "StyleView",
            "bar_color": null,
            "description_width": ""
          }
        },
        "8e4bad416e76479ab65d6b6bca508195": {
          "model_module": "@jupyter-widgets/base",
          "model_name": "LayoutModel",
          "model_module_version": "1.2.0",
          "state": {
            "_model_module": "@jupyter-widgets/base",
            "_model_module_version": "1.2.0",
            "_model_name": "LayoutModel",
            "_view_count": null,
            "_view_module": "@jupyter-widgets/base",
            "_view_module_version": "1.2.0",
            "_view_name": "LayoutView",
            "align_content": null,
            "align_items": null,
            "align_self": null,
            "border": null,
            "bottom": null,
            "display": null,
            "flex": null,
            "flex_flow": null,
            "grid_area": null,
            "grid_auto_columns": null,
            "grid_auto_flow": null,
            "grid_auto_rows": null,
            "grid_column": null,
            "grid_gap": null,
            "grid_row": null,
            "grid_template_areas": null,
            "grid_template_columns": null,
            "grid_template_rows": null,
            "height": null,
            "justify_content": null,
            "justify_items": null,
            "left": null,
            "margin": null,
            "max_height": null,
            "max_width": null,
            "min_height": null,
            "min_width": null,
            "object_fit": null,
            "object_position": null,
            "order": null,
            "overflow": null,
            "overflow_x": null,
            "overflow_y": null,
            "padding": null,
            "right": null,
            "top": null,
            "visibility": null,
            "width": null
          }
        },
        "431a720c39994e7fa4ecdf396d7374a0": {
          "model_module": "@jupyter-widgets/controls",
          "model_name": "DescriptionStyleModel",
          "model_module_version": "1.5.0",
          "state": {
            "_model_module": "@jupyter-widgets/controls",
            "_model_module_version": "1.5.0",
            "_model_name": "DescriptionStyleModel",
            "_view_count": null,
            "_view_module": "@jupyter-widgets/base",
            "_view_module_version": "1.2.0",
            "_view_name": "StyleView",
            "description_width": ""
          }
        },
        "75047f4482c04ca58bdd9c921b4721a1": {
          "model_module": "@jupyter-widgets/controls",
          "model_name": "HBoxModel",
          "model_module_version": "1.5.0",
          "state": {
            "_dom_classes": [],
            "_model_module": "@jupyter-widgets/controls",
            "_model_module_version": "1.5.0",
            "_model_name": "HBoxModel",
            "_view_count": null,
            "_view_module": "@jupyter-widgets/controls",
            "_view_module_version": "1.5.0",
            "_view_name": "HBoxView",
            "box_style": "",
            "children": [
              "IPY_MODEL_54079b83af02451c9c7fc2920b2317f4",
              "IPY_MODEL_77f4e809a2ee42d99df44dbe7ffc8e78",
              "IPY_MODEL_7b1d72d024234db69ee2e1ca6d3bc304"
            ],
            "layout": "IPY_MODEL_3d83853d270743829633e35f1656d6a5"
          }
        },
        "54079b83af02451c9c7fc2920b2317f4": {
          "model_module": "@jupyter-widgets/controls",
          "model_name": "HTMLModel",
          "model_module_version": "1.5.0",
          "state": {
            "_dom_classes": [],
            "_model_module": "@jupyter-widgets/controls",
            "_model_module_version": "1.5.0",
            "_model_name": "HTMLModel",
            "_view_count": null,
            "_view_module": "@jupyter-widgets/controls",
            "_view_module_version": "1.5.0",
            "_view_name": "HTMLView",
            "description": "",
            "description_tooltip": null,
            "layout": "IPY_MODEL_75164743f91e4d039cbf6b893024248c",
            "placeholder": "​",
            "style": "IPY_MODEL_29851333ae7244269559980533887661",
            "value": "Downloading data: 100%"
          }
        },
        "77f4e809a2ee42d99df44dbe7ffc8e78": {
          "model_module": "@jupyter-widgets/controls",
          "model_name": "FloatProgressModel",
          "model_module_version": "1.5.0",
          "state": {
            "_dom_classes": [],
            "_model_module": "@jupyter-widgets/controls",
            "_model_module_version": "1.5.0",
            "_model_name": "FloatProgressModel",
            "_view_count": null,
            "_view_module": "@jupyter-widgets/controls",
            "_view_module_version": "1.5.0",
            "_view_name": "ProgressView",
            "bar_style": "success",
            "description": "",
            "description_tooltip": null,
            "layout": "IPY_MODEL_202ba52a0bf34276842976f8fd69a6df",
            "max": 33262901,
            "min": 0,
            "orientation": "horizontal",
            "style": "IPY_MODEL_aa6f8cf406b34775ba8f8a499222098e",
            "value": 33262901
          }
        },
        "7b1d72d024234db69ee2e1ca6d3bc304": {
          "model_module": "@jupyter-widgets/controls",
          "model_name": "HTMLModel",
          "model_module_version": "1.5.0",
          "state": {
            "_dom_classes": [],
            "_model_module": "@jupyter-widgets/controls",
            "_model_module_version": "1.5.0",
            "_model_name": "HTMLModel",
            "_view_count": null,
            "_view_module": "@jupyter-widgets/controls",
            "_view_module_version": "1.5.0",
            "_view_name": "HTMLView",
            "description": "",
            "description_tooltip": null,
            "layout": "IPY_MODEL_6681fe8f0ef84362bd7c0ff438aafe31",
            "placeholder": "​",
            "style": "IPY_MODEL_b9980c0f9c10449cb9dacbd4d13ace52",
            "value": " 33.3M/33.3M [00:01&lt;00:00, 24.4MB/s]"
          }
        },
        "3d83853d270743829633e35f1656d6a5": {
          "model_module": "@jupyter-widgets/base",
          "model_name": "LayoutModel",
          "model_module_version": "1.2.0",
          "state": {
            "_model_module": "@jupyter-widgets/base",
            "_model_module_version": "1.2.0",
            "_model_name": "LayoutModel",
            "_view_count": null,
            "_view_module": "@jupyter-widgets/base",
            "_view_module_version": "1.2.0",
            "_view_name": "LayoutView",
            "align_content": null,
            "align_items": null,
            "align_self": null,
            "border": null,
            "bottom": null,
            "display": null,
            "flex": null,
            "flex_flow": null,
            "grid_area": null,
            "grid_auto_columns": null,
            "grid_auto_flow": null,
            "grid_auto_rows": null,
            "grid_column": null,
            "grid_gap": null,
            "grid_row": null,
            "grid_template_areas": null,
            "grid_template_columns": null,
            "grid_template_rows": null,
            "height": null,
            "justify_content": null,
            "justify_items": null,
            "left": null,
            "margin": null,
            "max_height": null,
            "max_width": null,
            "min_height": null,
            "min_width": null,
            "object_fit": null,
            "object_position": null,
            "order": null,
            "overflow": null,
            "overflow_x": null,
            "overflow_y": null,
            "padding": null,
            "right": null,
            "top": null,
            "visibility": null,
            "width": null
          }
        },
        "75164743f91e4d039cbf6b893024248c": {
          "model_module": "@jupyter-widgets/base",
          "model_name": "LayoutModel",
          "model_module_version": "1.2.0",
          "state": {
            "_model_module": "@jupyter-widgets/base",
            "_model_module_version": "1.2.0",
            "_model_name": "LayoutModel",
            "_view_count": null,
            "_view_module": "@jupyter-widgets/base",
            "_view_module_version": "1.2.0",
            "_view_name": "LayoutView",
            "align_content": null,
            "align_items": null,
            "align_self": null,
            "border": null,
            "bottom": null,
            "display": null,
            "flex": null,
            "flex_flow": null,
            "grid_area": null,
            "grid_auto_columns": null,
            "grid_auto_flow": null,
            "grid_auto_rows": null,
            "grid_column": null,
            "grid_gap": null,
            "grid_row": null,
            "grid_template_areas": null,
            "grid_template_columns": null,
            "grid_template_rows": null,
            "height": null,
            "justify_content": null,
            "justify_items": null,
            "left": null,
            "margin": null,
            "max_height": null,
            "max_width": null,
            "min_height": null,
            "min_width": null,
            "object_fit": null,
            "object_position": null,
            "order": null,
            "overflow": null,
            "overflow_x": null,
            "overflow_y": null,
            "padding": null,
            "right": null,
            "top": null,
            "visibility": null,
            "width": null
          }
        },
        "29851333ae7244269559980533887661": {
          "model_module": "@jupyter-widgets/controls",
          "model_name": "DescriptionStyleModel",
          "model_module_version": "1.5.0",
          "state": {
            "_model_module": "@jupyter-widgets/controls",
            "_model_module_version": "1.5.0",
            "_model_name": "DescriptionStyleModel",
            "_view_count": null,
            "_view_module": "@jupyter-widgets/base",
            "_view_module_version": "1.2.0",
            "_view_name": "StyleView",
            "description_width": ""
          }
        },
        "202ba52a0bf34276842976f8fd69a6df": {
          "model_module": "@jupyter-widgets/base",
          "model_name": "LayoutModel",
          "model_module_version": "1.2.0",
          "state": {
            "_model_module": "@jupyter-widgets/base",
            "_model_module_version": "1.2.0",
            "_model_name": "LayoutModel",
            "_view_count": null,
            "_view_module": "@jupyter-widgets/base",
            "_view_module_version": "1.2.0",
            "_view_name": "LayoutView",
            "align_content": null,
            "align_items": null,
            "align_self": null,
            "border": null,
            "bottom": null,
            "display": null,
            "flex": null,
            "flex_flow": null,
            "grid_area": null,
            "grid_auto_columns": null,
            "grid_auto_flow": null,
            "grid_auto_rows": null,
            "grid_column": null,
            "grid_gap": null,
            "grid_row": null,
            "grid_template_areas": null,
            "grid_template_columns": null,
            "grid_template_rows": null,
            "height": null,
            "justify_content": null,
            "justify_items": null,
            "left": null,
            "margin": null,
            "max_height": null,
            "max_width": null,
            "min_height": null,
            "min_width": null,
            "object_fit": null,
            "object_position": null,
            "order": null,
            "overflow": null,
            "overflow_x": null,
            "overflow_y": null,
            "padding": null,
            "right": null,
            "top": null,
            "visibility": null,
            "width": null
          }
        },
        "aa6f8cf406b34775ba8f8a499222098e": {
          "model_module": "@jupyter-widgets/controls",
          "model_name": "ProgressStyleModel",
          "model_module_version": "1.5.0",
          "state": {
            "_model_module": "@jupyter-widgets/controls",
            "_model_module_version": "1.5.0",
            "_model_name": "ProgressStyleModel",
            "_view_count": null,
            "_view_module": "@jupyter-widgets/base",
            "_view_module_version": "1.2.0",
            "_view_name": "StyleView",
            "bar_color": null,
            "description_width": ""
          }
        },
        "6681fe8f0ef84362bd7c0ff438aafe31": {
          "model_module": "@jupyter-widgets/base",
          "model_name": "LayoutModel",
          "model_module_version": "1.2.0",
          "state": {
            "_model_module": "@jupyter-widgets/base",
            "_model_module_version": "1.2.0",
            "_model_name": "LayoutModel",
            "_view_count": null,
            "_view_module": "@jupyter-widgets/base",
            "_view_module_version": "1.2.0",
            "_view_name": "LayoutView",
            "align_content": null,
            "align_items": null,
            "align_self": null,
            "border": null,
            "bottom": null,
            "display": null,
            "flex": null,
            "flex_flow": null,
            "grid_area": null,
            "grid_auto_columns": null,
            "grid_auto_flow": null,
            "grid_auto_rows": null,
            "grid_column": null,
            "grid_gap": null,
            "grid_row": null,
            "grid_template_areas": null,
            "grid_template_columns": null,
            "grid_template_rows": null,
            "height": null,
            "justify_content": null,
            "justify_items": null,
            "left": null,
            "margin": null,
            "max_height": null,
            "max_width": null,
            "min_height": null,
            "min_width": null,
            "object_fit": null,
            "object_position": null,
            "order": null,
            "overflow": null,
            "overflow_x": null,
            "overflow_y": null,
            "padding": null,
            "right": null,
            "top": null,
            "visibility": null,
            "width": null
          }
        },
        "b9980c0f9c10449cb9dacbd4d13ace52": {
          "model_module": "@jupyter-widgets/controls",
          "model_name": "DescriptionStyleModel",
          "model_module_version": "1.5.0",
          "state": {
            "_model_module": "@jupyter-widgets/controls",
            "_model_module_version": "1.5.0",
            "_model_name": "DescriptionStyleModel",
            "_view_count": null,
            "_view_module": "@jupyter-widgets/base",
            "_view_module_version": "1.2.0",
            "_view_name": "StyleView",
            "description_width": ""
          }
        },
        "303538d20d7d4c0fb3f896045b2636bd": {
          "model_module": "@jupyter-widgets/controls",
          "model_name": "HBoxModel",
          "model_module_version": "1.5.0",
          "state": {
            "_dom_classes": [],
            "_model_module": "@jupyter-widgets/controls",
            "_model_module_version": "1.5.0",
            "_model_name": "HBoxModel",
            "_view_count": null,
            "_view_module": "@jupyter-widgets/controls",
            "_view_module_version": "1.5.0",
            "_view_name": "HBoxView",
            "box_style": "",
            "children": [
              "IPY_MODEL_672ad2e8055f4e92a2f169794b846cba",
              "IPY_MODEL_5032555a74dd4465a39b3e061ec7e09d",
              "IPY_MODEL_07f80793f9c04071b0c56eb9b3e4f857"
            ],
            "layout": "IPY_MODEL_7484673d03824ffa8652b4d3b5df9408"
          }
        },
        "672ad2e8055f4e92a2f169794b846cba": {
          "model_module": "@jupyter-widgets/controls",
          "model_name": "HTMLModel",
          "model_module_version": "1.5.0",
          "state": {
            "_dom_classes": [],
            "_model_module": "@jupyter-widgets/controls",
            "_model_module_version": "1.5.0",
            "_model_name": "HTMLModel",
            "_view_count": null,
            "_view_module": "@jupyter-widgets/controls",
            "_view_module_version": "1.5.0",
            "_view_name": "HTMLView",
            "description": "",
            "description_tooltip": null,
            "layout": "IPY_MODEL_e8055d64df8d451490b18ea05f732105",
            "placeholder": "​",
            "style": "IPY_MODEL_eb994eb618274ba7b5d1ecfe1f0edf70",
            "value": "Extracting data files: 100%"
          }
        },
        "5032555a74dd4465a39b3e061ec7e09d": {
          "model_module": "@jupyter-widgets/controls",
          "model_name": "FloatProgressModel",
          "model_module_version": "1.5.0",
          "state": {
            "_dom_classes": [],
            "_model_module": "@jupyter-widgets/controls",
            "_model_module_version": "1.5.0",
            "_model_name": "FloatProgressModel",
            "_view_count": null,
            "_view_module": "@jupyter-widgets/controls",
            "_view_module_version": "1.5.0",
            "_view_name": "ProgressView",
            "bar_style": "success",
            "description": "",
            "description_tooltip": null,
            "layout": "IPY_MODEL_d94f0890381044ab9b82970fd1cc7f75",
            "max": 1,
            "min": 0,
            "orientation": "horizontal",
            "style": "IPY_MODEL_f985939081de4f59a7395a78abac28cf",
            "value": 1
          }
        },
        "07f80793f9c04071b0c56eb9b3e4f857": {
          "model_module": "@jupyter-widgets/controls",
          "model_name": "HTMLModel",
          "model_module_version": "1.5.0",
          "state": {
            "_dom_classes": [],
            "_model_module": "@jupyter-widgets/controls",
            "_model_module_version": "1.5.0",
            "_model_name": "HTMLModel",
            "_view_count": null,
            "_view_module": "@jupyter-widgets/controls",
            "_view_module_version": "1.5.0",
            "_view_name": "HTMLView",
            "description": "",
            "description_tooltip": null,
            "layout": "IPY_MODEL_4acb6274b20e4a9b8d58f54c56c37286",
            "placeholder": "​",
            "style": "IPY_MODEL_031501c6096149cc95825fa166acec37",
            "value": " 1/1 [00:00&lt;00:00, 43.76it/s]"
          }
        },
        "7484673d03824ffa8652b4d3b5df9408": {
          "model_module": "@jupyter-widgets/base",
          "model_name": "LayoutModel",
          "model_module_version": "1.2.0",
          "state": {
            "_model_module": "@jupyter-widgets/base",
            "_model_module_version": "1.2.0",
            "_model_name": "LayoutModel",
            "_view_count": null,
            "_view_module": "@jupyter-widgets/base",
            "_view_module_version": "1.2.0",
            "_view_name": "LayoutView",
            "align_content": null,
            "align_items": null,
            "align_self": null,
            "border": null,
            "bottom": null,
            "display": null,
            "flex": null,
            "flex_flow": null,
            "grid_area": null,
            "grid_auto_columns": null,
            "grid_auto_flow": null,
            "grid_auto_rows": null,
            "grid_column": null,
            "grid_gap": null,
            "grid_row": null,
            "grid_template_areas": null,
            "grid_template_columns": null,
            "grid_template_rows": null,
            "height": null,
            "justify_content": null,
            "justify_items": null,
            "left": null,
            "margin": null,
            "max_height": null,
            "max_width": null,
            "min_height": null,
            "min_width": null,
            "object_fit": null,
            "object_position": null,
            "order": null,
            "overflow": null,
            "overflow_x": null,
            "overflow_y": null,
            "padding": null,
            "right": null,
            "top": null,
            "visibility": null,
            "width": null
          }
        },
        "e8055d64df8d451490b18ea05f732105": {
          "model_module": "@jupyter-widgets/base",
          "model_name": "LayoutModel",
          "model_module_version": "1.2.0",
          "state": {
            "_model_module": "@jupyter-widgets/base",
            "_model_module_version": "1.2.0",
            "_model_name": "LayoutModel",
            "_view_count": null,
            "_view_module": "@jupyter-widgets/base",
            "_view_module_version": "1.2.0",
            "_view_name": "LayoutView",
            "align_content": null,
            "align_items": null,
            "align_self": null,
            "border": null,
            "bottom": null,
            "display": null,
            "flex": null,
            "flex_flow": null,
            "grid_area": null,
            "grid_auto_columns": null,
            "grid_auto_flow": null,
            "grid_auto_rows": null,
            "grid_column": null,
            "grid_gap": null,
            "grid_row": null,
            "grid_template_areas": null,
            "grid_template_columns": null,
            "grid_template_rows": null,
            "height": null,
            "justify_content": null,
            "justify_items": null,
            "left": null,
            "margin": null,
            "max_height": null,
            "max_width": null,
            "min_height": null,
            "min_width": null,
            "object_fit": null,
            "object_position": null,
            "order": null,
            "overflow": null,
            "overflow_x": null,
            "overflow_y": null,
            "padding": null,
            "right": null,
            "top": null,
            "visibility": null,
            "width": null
          }
        },
        "eb994eb618274ba7b5d1ecfe1f0edf70": {
          "model_module": "@jupyter-widgets/controls",
          "model_name": "DescriptionStyleModel",
          "model_module_version": "1.5.0",
          "state": {
            "_model_module": "@jupyter-widgets/controls",
            "_model_module_version": "1.5.0",
            "_model_name": "DescriptionStyleModel",
            "_view_count": null,
            "_view_module": "@jupyter-widgets/base",
            "_view_module_version": "1.2.0",
            "_view_name": "StyleView",
            "description_width": ""
          }
        },
        "d94f0890381044ab9b82970fd1cc7f75": {
          "model_module": "@jupyter-widgets/base",
          "model_name": "LayoutModel",
          "model_module_version": "1.2.0",
          "state": {
            "_model_module": "@jupyter-widgets/base",
            "_model_module_version": "1.2.0",
            "_model_name": "LayoutModel",
            "_view_count": null,
            "_view_module": "@jupyter-widgets/base",
            "_view_module_version": "1.2.0",
            "_view_name": "LayoutView",
            "align_content": null,
            "align_items": null,
            "align_self": null,
            "border": null,
            "bottom": null,
            "display": null,
            "flex": null,
            "flex_flow": null,
            "grid_area": null,
            "grid_auto_columns": null,
            "grid_auto_flow": null,
            "grid_auto_rows": null,
            "grid_column": null,
            "grid_gap": null,
            "grid_row": null,
            "grid_template_areas": null,
            "grid_template_columns": null,
            "grid_template_rows": null,
            "height": null,
            "justify_content": null,
            "justify_items": null,
            "left": null,
            "margin": null,
            "max_height": null,
            "max_width": null,
            "min_height": null,
            "min_width": null,
            "object_fit": null,
            "object_position": null,
            "order": null,
            "overflow": null,
            "overflow_x": null,
            "overflow_y": null,
            "padding": null,
            "right": null,
            "top": null,
            "visibility": null,
            "width": null
          }
        },
        "f985939081de4f59a7395a78abac28cf": {
          "model_module": "@jupyter-widgets/controls",
          "model_name": "ProgressStyleModel",
          "model_module_version": "1.5.0",
          "state": {
            "_model_module": "@jupyter-widgets/controls",
            "_model_module_version": "1.5.0",
            "_model_name": "ProgressStyleModel",
            "_view_count": null,
            "_view_module": "@jupyter-widgets/base",
            "_view_module_version": "1.2.0",
            "_view_name": "StyleView",
            "bar_color": null,
            "description_width": ""
          }
        },
        "4acb6274b20e4a9b8d58f54c56c37286": {
          "model_module": "@jupyter-widgets/base",
          "model_name": "LayoutModel",
          "model_module_version": "1.2.0",
          "state": {
            "_model_module": "@jupyter-widgets/base",
            "_model_module_version": "1.2.0",
            "_model_name": "LayoutModel",
            "_view_count": null,
            "_view_module": "@jupyter-widgets/base",
            "_view_module_version": "1.2.0",
            "_view_name": "LayoutView",
            "align_content": null,
            "align_items": null,
            "align_self": null,
            "border": null,
            "bottom": null,
            "display": null,
            "flex": null,
            "flex_flow": null,
            "grid_area": null,
            "grid_auto_columns": null,
            "grid_auto_flow": null,
            "grid_auto_rows": null,
            "grid_column": null,
            "grid_gap": null,
            "grid_row": null,
            "grid_template_areas": null,
            "grid_template_columns": null,
            "grid_template_rows": null,
            "height": null,
            "justify_content": null,
            "justify_items": null,
            "left": null,
            "margin": null,
            "max_height": null,
            "max_width": null,
            "min_height": null,
            "min_width": null,
            "object_fit": null,
            "object_position": null,
            "order": null,
            "overflow": null,
            "overflow_x": null,
            "overflow_y": null,
            "padding": null,
            "right": null,
            "top": null,
            "visibility": null,
            "width": null
          }
        },
        "031501c6096149cc95825fa166acec37": {
          "model_module": "@jupyter-widgets/controls",
          "model_name": "DescriptionStyleModel",
          "model_module_version": "1.5.0",
          "state": {
            "_model_module": "@jupyter-widgets/controls",
            "_model_module_version": "1.5.0",
            "_model_name": "DescriptionStyleModel",
            "_view_count": null,
            "_view_module": "@jupyter-widgets/base",
            "_view_module_version": "1.2.0",
            "_view_name": "StyleView",
            "description_width": ""
          }
        },
        "34583e99768b44e19135bd62f849f5f7": {
          "model_module": "@jupyter-widgets/controls",
          "model_name": "HBoxModel",
          "model_module_version": "1.5.0",
          "state": {
            "_dom_classes": [],
            "_model_module": "@jupyter-widgets/controls",
            "_model_module_version": "1.5.0",
            "_model_name": "HBoxModel",
            "_view_count": null,
            "_view_module": "@jupyter-widgets/controls",
            "_view_module_version": "1.5.0",
            "_view_name": "HBoxView",
            "box_style": "",
            "children": [
              "IPY_MODEL_f2b29952c08d46e9989f6ecec30e661d",
              "IPY_MODEL_9ef7bc0599d04c8ea7fe113b2c3c1049",
              "IPY_MODEL_ba2d6d08d9f04c3b91363351b0c43273"
            ],
            "layout": "IPY_MODEL_418e685a5dd1480d83766449d21b6736"
          }
        },
        "f2b29952c08d46e9989f6ecec30e661d": {
          "model_module": "@jupyter-widgets/controls",
          "model_name": "HTMLModel",
          "model_module_version": "1.5.0",
          "state": {
            "_dom_classes": [],
            "_model_module": "@jupyter-widgets/controls",
            "_model_module_version": "1.5.0",
            "_model_name": "HTMLModel",
            "_view_count": null,
            "_view_module": "@jupyter-widgets/controls",
            "_view_module_version": "1.5.0",
            "_view_name": "HTMLView",
            "description": "",
            "description_tooltip": null,
            "layout": "IPY_MODEL_d3f49c2d9c38406e9530ce33eb136ba1",
            "placeholder": "​",
            "style": "IPY_MODEL_faf2cf1e0d944554afa2e1c7f2860852",
            "value": "Generating train split: 100%"
          }
        },
        "9ef7bc0599d04c8ea7fe113b2c3c1049": {
          "model_module": "@jupyter-widgets/controls",
          "model_name": "FloatProgressModel",
          "model_module_version": "1.5.0",
          "state": {
            "_dom_classes": [],
            "_model_module": "@jupyter-widgets/controls",
            "_model_module_version": "1.5.0",
            "_model_name": "FloatProgressModel",
            "_view_count": null,
            "_view_module": "@jupyter-widgets/controls",
            "_view_module_version": "1.5.0",
            "_view_name": "ProgressView",
            "bar_style": "success",
            "description": "",
            "description_tooltip": null,
            "layout": "IPY_MODEL_11f4d2a4d12b412fb73a2943a98acf77",
            "max": 10000,
            "min": 0,
            "orientation": "horizontal",
            "style": "IPY_MODEL_a95d3e2a51c6406b964f7db635f510d3",
            "value": 10000
          }
        },
        "ba2d6d08d9f04c3b91363351b0c43273": {
          "model_module": "@jupyter-widgets/controls",
          "model_name": "HTMLModel",
          "model_module_version": "1.5.0",
          "state": {
            "_dom_classes": [],
            "_model_module": "@jupyter-widgets/controls",
            "_model_module_version": "1.5.0",
            "_model_name": "HTMLModel",
            "_view_count": null,
            "_view_module": "@jupyter-widgets/controls",
            "_view_module_version": "1.5.0",
            "_view_name": "HTMLView",
            "description": "",
            "description_tooltip": null,
            "layout": "IPY_MODEL_a573f2a8d8e34fd49f1513b322c6b0db",
            "placeholder": "​",
            "style": "IPY_MODEL_cc3df1e8f98a47ca9b08dbf07765c422",
            "value": " 10000/10000 [00:00&lt;00:00, 35477.84 examples/s]"
          }
        },
        "418e685a5dd1480d83766449d21b6736": {
          "model_module": "@jupyter-widgets/base",
          "model_name": "LayoutModel",
          "model_module_version": "1.2.0",
          "state": {
            "_model_module": "@jupyter-widgets/base",
            "_model_module_version": "1.2.0",
            "_model_name": "LayoutModel",
            "_view_count": null,
            "_view_module": "@jupyter-widgets/base",
            "_view_module_version": "1.2.0",
            "_view_name": "LayoutView",
            "align_content": null,
            "align_items": null,
            "align_self": null,
            "border": null,
            "bottom": null,
            "display": null,
            "flex": null,
            "flex_flow": null,
            "grid_area": null,
            "grid_auto_columns": null,
            "grid_auto_flow": null,
            "grid_auto_rows": null,
            "grid_column": null,
            "grid_gap": null,
            "grid_row": null,
            "grid_template_areas": null,
            "grid_template_columns": null,
            "grid_template_rows": null,
            "height": null,
            "justify_content": null,
            "justify_items": null,
            "left": null,
            "margin": null,
            "max_height": null,
            "max_width": null,
            "min_height": null,
            "min_width": null,
            "object_fit": null,
            "object_position": null,
            "order": null,
            "overflow": null,
            "overflow_x": null,
            "overflow_y": null,
            "padding": null,
            "right": null,
            "top": null,
            "visibility": null,
            "width": null
          }
        },
        "d3f49c2d9c38406e9530ce33eb136ba1": {
          "model_module": "@jupyter-widgets/base",
          "model_name": "LayoutModel",
          "model_module_version": "1.2.0",
          "state": {
            "_model_module": "@jupyter-widgets/base",
            "_model_module_version": "1.2.0",
            "_model_name": "LayoutModel",
            "_view_count": null,
            "_view_module": "@jupyter-widgets/base",
            "_view_module_version": "1.2.0",
            "_view_name": "LayoutView",
            "align_content": null,
            "align_items": null,
            "align_self": null,
            "border": null,
            "bottom": null,
            "display": null,
            "flex": null,
            "flex_flow": null,
            "grid_area": null,
            "grid_auto_columns": null,
            "grid_auto_flow": null,
            "grid_auto_rows": null,
            "grid_column": null,
            "grid_gap": null,
            "grid_row": null,
            "grid_template_areas": null,
            "grid_template_columns": null,
            "grid_template_rows": null,
            "height": null,
            "justify_content": null,
            "justify_items": null,
            "left": null,
            "margin": null,
            "max_height": null,
            "max_width": null,
            "min_height": null,
            "min_width": null,
            "object_fit": null,
            "object_position": null,
            "order": null,
            "overflow": null,
            "overflow_x": null,
            "overflow_y": null,
            "padding": null,
            "right": null,
            "top": null,
            "visibility": null,
            "width": null
          }
        },
        "faf2cf1e0d944554afa2e1c7f2860852": {
          "model_module": "@jupyter-widgets/controls",
          "model_name": "DescriptionStyleModel",
          "model_module_version": "1.5.0",
          "state": {
            "_model_module": "@jupyter-widgets/controls",
            "_model_module_version": "1.5.0",
            "_model_name": "DescriptionStyleModel",
            "_view_count": null,
            "_view_module": "@jupyter-widgets/base",
            "_view_module_version": "1.2.0",
            "_view_name": "StyleView",
            "description_width": ""
          }
        },
        "11f4d2a4d12b412fb73a2943a98acf77": {
          "model_module": "@jupyter-widgets/base",
          "model_name": "LayoutModel",
          "model_module_version": "1.2.0",
          "state": {
            "_model_module": "@jupyter-widgets/base",
            "_model_module_version": "1.2.0",
            "_model_name": "LayoutModel",
            "_view_count": null,
            "_view_module": "@jupyter-widgets/base",
            "_view_module_version": "1.2.0",
            "_view_name": "LayoutView",
            "align_content": null,
            "align_items": null,
            "align_self": null,
            "border": null,
            "bottom": null,
            "display": null,
            "flex": null,
            "flex_flow": null,
            "grid_area": null,
            "grid_auto_columns": null,
            "grid_auto_flow": null,
            "grid_auto_rows": null,
            "grid_column": null,
            "grid_gap": null,
            "grid_row": null,
            "grid_template_areas": null,
            "grid_template_columns": null,
            "grid_template_rows": null,
            "height": null,
            "justify_content": null,
            "justify_items": null,
            "left": null,
            "margin": null,
            "max_height": null,
            "max_width": null,
            "min_height": null,
            "min_width": null,
            "object_fit": null,
            "object_position": null,
            "order": null,
            "overflow": null,
            "overflow_x": null,
            "overflow_y": null,
            "padding": null,
            "right": null,
            "top": null,
            "visibility": null,
            "width": null
          }
        },
        "a95d3e2a51c6406b964f7db635f510d3": {
          "model_module": "@jupyter-widgets/controls",
          "model_name": "ProgressStyleModel",
          "model_module_version": "1.5.0",
          "state": {
            "_model_module": "@jupyter-widgets/controls",
            "_model_module_version": "1.5.0",
            "_model_name": "ProgressStyleModel",
            "_view_count": null,
            "_view_module": "@jupyter-widgets/base",
            "_view_module_version": "1.2.0",
            "_view_name": "StyleView",
            "bar_color": null,
            "description_width": ""
          }
        },
        "a573f2a8d8e34fd49f1513b322c6b0db": {
          "model_module": "@jupyter-widgets/base",
          "model_name": "LayoutModel",
          "model_module_version": "1.2.0",
          "state": {
            "_model_module": "@jupyter-widgets/base",
            "_model_module_version": "1.2.0",
            "_model_name": "LayoutModel",
            "_view_count": null,
            "_view_module": "@jupyter-widgets/base",
            "_view_module_version": "1.2.0",
            "_view_name": "LayoutView",
            "align_content": null,
            "align_items": null,
            "align_self": null,
            "border": null,
            "bottom": null,
            "display": null,
            "flex": null,
            "flex_flow": null,
            "grid_area": null,
            "grid_auto_columns": null,
            "grid_auto_flow": null,
            "grid_auto_rows": null,
            "grid_column": null,
            "grid_gap": null,
            "grid_row": null,
            "grid_template_areas": null,
            "grid_template_columns": null,
            "grid_template_rows": null,
            "height": null,
            "justify_content": null,
            "justify_items": null,
            "left": null,
            "margin": null,
            "max_height": null,
            "max_width": null,
            "min_height": null,
            "min_width": null,
            "object_fit": null,
            "object_position": null,
            "order": null,
            "overflow": null,
            "overflow_x": null,
            "overflow_y": null,
            "padding": null,
            "right": null,
            "top": null,
            "visibility": null,
            "width": null
          }
        },
        "cc3df1e8f98a47ca9b08dbf07765c422": {
          "model_module": "@jupyter-widgets/controls",
          "model_name": "DescriptionStyleModel",
          "model_module_version": "1.5.0",
          "state": {
            "_model_module": "@jupyter-widgets/controls",
            "_model_module_version": "1.5.0",
            "_model_name": "DescriptionStyleModel",
            "_view_count": null,
            "_view_module": "@jupyter-widgets/base",
            "_view_module_version": "1.2.0",
            "_view_name": "StyleView",
            "description_width": ""
          }
        },
        "792e87b084904f28a481c75c24d316f4": {
          "model_module": "@jupyter-widgets/controls",
          "model_name": "HBoxModel",
          "model_module_version": "1.5.0",
          "state": {
            "_dom_classes": [],
            "_model_module": "@jupyter-widgets/controls",
            "_model_module_version": "1.5.0",
            "_model_name": "HBoxModel",
            "_view_count": null,
            "_view_module": "@jupyter-widgets/controls",
            "_view_module_version": "1.5.0",
            "_view_name": "HBoxView",
            "box_style": "",
            "children": [
              "IPY_MODEL_ebd9a16fe0a74f3597a39182c5d0ccc8",
              "IPY_MODEL_dd313e3fd6524f8e84a6bf5e9ac2b41a",
              "IPY_MODEL_71fe517369c54bfd8b526334f748dd58"
            ],
            "layout": "IPY_MODEL_4e973534d5a44805b3e6f468b2f1721b"
          }
        },
        "ebd9a16fe0a74f3597a39182c5d0ccc8": {
          "model_module": "@jupyter-widgets/controls",
          "model_name": "HTMLModel",
          "model_module_version": "1.5.0",
          "state": {
            "_dom_classes": [],
            "_model_module": "@jupyter-widgets/controls",
            "_model_module_version": "1.5.0",
            "_model_name": "HTMLModel",
            "_view_count": null,
            "_view_module": "@jupyter-widgets/controls",
            "_view_module_version": "1.5.0",
            "_view_name": "HTMLView",
            "description": "",
            "description_tooltip": null,
            "layout": "IPY_MODEL_2f8c2a656dc94f76bab8bc2fa1c25797",
            "placeholder": "​",
            "style": "IPY_MODEL_71d1f0881aa248618b0275db25d83064",
            "value": "Map (num_proc=4): 100%"
          }
        },
        "dd313e3fd6524f8e84a6bf5e9ac2b41a": {
          "model_module": "@jupyter-widgets/controls",
          "model_name": "FloatProgressModel",
          "model_module_version": "1.5.0",
          "state": {
            "_dom_classes": [],
            "_model_module": "@jupyter-widgets/controls",
            "_model_module_version": "1.5.0",
            "_model_name": "FloatProgressModel",
            "_view_count": null,
            "_view_module": "@jupyter-widgets/controls",
            "_view_module_version": "1.5.0",
            "_view_name": "ProgressView",
            "bar_style": "success",
            "description": "",
            "description_tooltip": null,
            "layout": "IPY_MODEL_82b39c70a8ab44b6b680bab9461c6ebc",
            "max": 10000,
            "min": 0,
            "orientation": "horizontal",
            "style": "IPY_MODEL_fd4b4d78f6ed4d95bb8fcf39cd2d9e45",
            "value": 10000
          }
        },
        "71fe517369c54bfd8b526334f748dd58": {
          "model_module": "@jupyter-widgets/controls",
          "model_name": "HTMLModel",
          "model_module_version": "1.5.0",
          "state": {
            "_dom_classes": [],
            "_model_module": "@jupyter-widgets/controls",
            "_model_module_version": "1.5.0",
            "_model_name": "HTMLModel",
            "_view_count": null,
            "_view_module": "@jupyter-widgets/controls",
            "_view_module_version": "1.5.0",
            "_view_name": "HTMLView",
            "description": "",
            "description_tooltip": null,
            "layout": "IPY_MODEL_f254177de59542999cfa70fdbb94de35",
            "placeholder": "​",
            "style": "IPY_MODEL_8163a0f09ef64abcba8f2e4146e684ac",
            "value": " 10000/10000 [01:10&lt;00:00, 207.31 examples/s]"
          }
        },
        "4e973534d5a44805b3e6f468b2f1721b": {
          "model_module": "@jupyter-widgets/base",
          "model_name": "LayoutModel",
          "model_module_version": "1.2.0",
          "state": {
            "_model_module": "@jupyter-widgets/base",
            "_model_module_version": "1.2.0",
            "_model_name": "LayoutModel",
            "_view_count": null,
            "_view_module": "@jupyter-widgets/base",
            "_view_module_version": "1.2.0",
            "_view_name": "LayoutView",
            "align_content": null,
            "align_items": null,
            "align_self": null,
            "border": null,
            "bottom": null,
            "display": null,
            "flex": null,
            "flex_flow": null,
            "grid_area": null,
            "grid_auto_columns": null,
            "grid_auto_flow": null,
            "grid_auto_rows": null,
            "grid_column": null,
            "grid_gap": null,
            "grid_row": null,
            "grid_template_areas": null,
            "grid_template_columns": null,
            "grid_template_rows": null,
            "height": null,
            "justify_content": null,
            "justify_items": null,
            "left": null,
            "margin": null,
            "max_height": null,
            "max_width": null,
            "min_height": null,
            "min_width": null,
            "object_fit": null,
            "object_position": null,
            "order": null,
            "overflow": null,
            "overflow_x": null,
            "overflow_y": null,
            "padding": null,
            "right": null,
            "top": null,
            "visibility": null,
            "width": null
          }
        },
        "2f8c2a656dc94f76bab8bc2fa1c25797": {
          "model_module": "@jupyter-widgets/base",
          "model_name": "LayoutModel",
          "model_module_version": "1.2.0",
          "state": {
            "_model_module": "@jupyter-widgets/base",
            "_model_module_version": "1.2.0",
            "_model_name": "LayoutModel",
            "_view_count": null,
            "_view_module": "@jupyter-widgets/base",
            "_view_module_version": "1.2.0",
            "_view_name": "LayoutView",
            "align_content": null,
            "align_items": null,
            "align_self": null,
            "border": null,
            "bottom": null,
            "display": null,
            "flex": null,
            "flex_flow": null,
            "grid_area": null,
            "grid_auto_columns": null,
            "grid_auto_flow": null,
            "grid_auto_rows": null,
            "grid_column": null,
            "grid_gap": null,
            "grid_row": null,
            "grid_template_areas": null,
            "grid_template_columns": null,
            "grid_template_rows": null,
            "height": null,
            "justify_content": null,
            "justify_items": null,
            "left": null,
            "margin": null,
            "max_height": null,
            "max_width": null,
            "min_height": null,
            "min_width": null,
            "object_fit": null,
            "object_position": null,
            "order": null,
            "overflow": null,
            "overflow_x": null,
            "overflow_y": null,
            "padding": null,
            "right": null,
            "top": null,
            "visibility": null,
            "width": null
          }
        },
        "71d1f0881aa248618b0275db25d83064": {
          "model_module": "@jupyter-widgets/controls",
          "model_name": "DescriptionStyleModel",
          "model_module_version": "1.5.0",
          "state": {
            "_model_module": "@jupyter-widgets/controls",
            "_model_module_version": "1.5.0",
            "_model_name": "DescriptionStyleModel",
            "_view_count": null,
            "_view_module": "@jupyter-widgets/base",
            "_view_module_version": "1.2.0",
            "_view_name": "StyleView",
            "description_width": ""
          }
        },
        "82b39c70a8ab44b6b680bab9461c6ebc": {
          "model_module": "@jupyter-widgets/base",
          "model_name": "LayoutModel",
          "model_module_version": "1.2.0",
          "state": {
            "_model_module": "@jupyter-widgets/base",
            "_model_module_version": "1.2.0",
            "_model_name": "LayoutModel",
            "_view_count": null,
            "_view_module": "@jupyter-widgets/base",
            "_view_module_version": "1.2.0",
            "_view_name": "LayoutView",
            "align_content": null,
            "align_items": null,
            "align_self": null,
            "border": null,
            "bottom": null,
            "display": null,
            "flex": null,
            "flex_flow": null,
            "grid_area": null,
            "grid_auto_columns": null,
            "grid_auto_flow": null,
            "grid_auto_rows": null,
            "grid_column": null,
            "grid_gap": null,
            "grid_row": null,
            "grid_template_areas": null,
            "grid_template_columns": null,
            "grid_template_rows": null,
            "height": null,
            "justify_content": null,
            "justify_items": null,
            "left": null,
            "margin": null,
            "max_height": null,
            "max_width": null,
            "min_height": null,
            "min_width": null,
            "object_fit": null,
            "object_position": null,
            "order": null,
            "overflow": null,
            "overflow_x": null,
            "overflow_y": null,
            "padding": null,
            "right": null,
            "top": null,
            "visibility": null,
            "width": null
          }
        },
        "fd4b4d78f6ed4d95bb8fcf39cd2d9e45": {
          "model_module": "@jupyter-widgets/controls",
          "model_name": "ProgressStyleModel",
          "model_module_version": "1.5.0",
          "state": {
            "_model_module": "@jupyter-widgets/controls",
            "_model_module_version": "1.5.0",
            "_model_name": "ProgressStyleModel",
            "_view_count": null,
            "_view_module": "@jupyter-widgets/base",
            "_view_module_version": "1.2.0",
            "_view_name": "StyleView",
            "bar_color": null,
            "description_width": ""
          }
        },
        "f254177de59542999cfa70fdbb94de35": {
          "model_module": "@jupyter-widgets/base",
          "model_name": "LayoutModel",
          "model_module_version": "1.2.0",
          "state": {
            "_model_module": "@jupyter-widgets/base",
            "_model_module_version": "1.2.0",
            "_model_name": "LayoutModel",
            "_view_count": null,
            "_view_module": "@jupyter-widgets/base",
            "_view_module_version": "1.2.0",
            "_view_name": "LayoutView",
            "align_content": null,
            "align_items": null,
            "align_self": null,
            "border": null,
            "bottom": null,
            "display": null,
            "flex": null,
            "flex_flow": null,
            "grid_area": null,
            "grid_auto_columns": null,
            "grid_auto_flow": null,
            "grid_auto_rows": null,
            "grid_column": null,
            "grid_gap": null,
            "grid_row": null,
            "grid_template_areas": null,
            "grid_template_columns": null,
            "grid_template_rows": null,
            "height": null,
            "justify_content": null,
            "justify_items": null,
            "left": null,
            "margin": null,
            "max_height": null,
            "max_width": null,
            "min_height": null,
            "min_width": null,
            "object_fit": null,
            "object_position": null,
            "order": null,
            "overflow": null,
            "overflow_x": null,
            "overflow_y": null,
            "padding": null,
            "right": null,
            "top": null,
            "visibility": null,
            "width": null
          }
        },
        "8163a0f09ef64abcba8f2e4146e684ac": {
          "model_module": "@jupyter-widgets/controls",
          "model_name": "DescriptionStyleModel",
          "model_module_version": "1.5.0",
          "state": {
            "_model_module": "@jupyter-widgets/controls",
            "_model_module_version": "1.5.0",
            "_model_name": "DescriptionStyleModel",
            "_view_count": null,
            "_view_module": "@jupyter-widgets/base",
            "_view_module_version": "1.2.0",
            "_view_name": "StyleView",
            "description_width": ""
          }
        }
      }
    }
  },
  "nbformat": 4,
  "nbformat_minor": 0
}