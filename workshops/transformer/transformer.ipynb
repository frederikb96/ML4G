{
  "cells": [
    {
      "cell_type": "markdown",
      "metadata": {
        "id": "sRrD2AbyMwmP"
      },
      "source": [
        "# [1.1] - Transformers from scratch\n"
      ]
    },
    {
      "cell_type": "markdown",
      "metadata": {
        "id": "kHInWlhzdAyQ"
      },
      "source": [
        "<a href=\"https://colab.research.google.com/github/EffiSciencesResearch/ML4G/blob/main/workshops/transformer/transformer.ipynb\" target=\"_parent\"><img src=\"https://colab.research.google.com/assets/colab-badge.svg\" alt=\"Open In Colab\"/></a>\n",
        "\n",
        "Thanks to Callum McDougall for this Notebook.\n",
        "\n",
        "This notebook should take 2 full days to complete, you should not do parts 3 and 4. We also advise you not to look too much at the bonus or collapsed nerd-sniping stuff."
      ]
    },
    {
      "cell_type": "markdown",
      "metadata": {
        "id": "9XdSGDOH2qtL"
      },
      "source": [
        "<img src=\"https://raw.githubusercontent.com/callummcdougall/TransformerLens-intro/main/images/page_images/transformer-building.png\" width=\"350\">\n"
      ]
    },
    {
      "cell_type": "markdown",
      "metadata": {
        "id": "Ny4PdCRf3YPu"
      },
      "source": [
        "# Introduction"
      ]
    },
    {
      "cell_type": "markdown",
      "metadata": {
        "id": "IGQQ6Sm7fHNm"
      },
      "source": [
        "This is a clean, first principles implementation of GPT-2 in PyTorch. The architectural choices closely follow those used by the TransformerLens library (which you'll be using a lot more in later exercises).\n",
        "\n",
        "Each exercise will have a difficulty and importance rating out of 5, as well as an estimated maximum time you should spend on these exercises and sometimes a short annotation. You should interpret the ratings & time estimates relatively (e.g. if you find yourself spending about 50% longer on the exercises than the time estimates, adjust accordingly). Please do skip exercises / look at solutions if you don't feel like they're important enough to be worth doing, and you'd rather get to the good stuff!\n"
      ]
    },
    {
      "cell_type": "markdown",
      "metadata": {
        "id": "ugWVaR9Gm4Rw"
      },
      "source": [
        "## Content & Learning Objectives\n"
      ]
    },
    {
      "cell_type": "markdown",
      "metadata": {
        "id": "jzS18i5wfHNm"
      },
      "source": [
        "#### 1️⃣ Understanding Inputs & Outputs of a Transformer\n",
        "\n",
        "In this section, we'll take a first look at transformers - what their function is, how information moves inside a transformer, and what inputs & outputs they take.\n",
        "\n",
        "> ##### Learning objectives\n",
        ">\n",
        "> - Understand what a transformer is used for\n",
        "> - Understand causal attention, and what a transformer's output representsalgebra operations on tensors\n",
        "> - Learn what tokenization is, and how models do it\n",
        "> - Understand what logits are, and how to use them to derive a probability distribution over the vocabulary\n",
        "\n",
        "#### 2️⃣ Clean Transformer Implementation\n",
        "\n",
        "Here, we'll implement a transformer from scratch, using only PyTorch's tensor operations. This will give us a good understanding of how transformers work, and how to use them. We do this by going module-by-module, in an experience which should feel somewhat similar to last week's ResNet exercises. Much like with ResNets, you'll conclude by loading in pretrained weights and verifying that your model works as expected.\n",
        "\n",
        "> ##### Learning objectives\n",
        ">\n",
        "> * Understand that a transformer is composed of attention heads and MLPs, with each one performing operations on the residual stream\n",
        "> * Understand that the attention heads in a single layer operate independently, and that they have the role of calculating attention patterns (which determine where information is moved to & from in the residual stream)\n",
        "> * Learn about & implement the following transformer modules:\n",
        ">     * (Bonus) LayerNorm (transforming the input to have zero mean and unit variance)\n",
        ">     * Positional embedding (a lookup table from position indices to residual stream vectors)\n",
        ">     * Attention (the method of computing attention patterns for residual stream vectors)\n",
        ">     * MLP (the collection of linear and nonlinear transformations which operate on each residual stream vector in the same way)\n",
        ">     * Embedding (a lookup table from tokens to residual stream vectors)\n",
        ">     * Unembedding (a matrix for converting residual stream vectors into a distribution over tokens)\n",
        "\n",
        "#### 3️⃣ (Bonus) Training a Transformer\n",
        "\n",
        "Next, you'll learn how to train your transformer from scratch. This will be quite similar to the training loops you wrote for ResNet in your first week.\n",
        "\n",
        "> ##### Learning objectives\n",
        ">\n",
        "> * Understand how to train a transformer from scratch\n",
        "> * Write a basic transformer training loop\n",
        "> * Interpret the transformer's falling cross entropy loss with reference to features of the training data (e.g. bigram frequencies)\n",
        "\n",
        "#### 4️⃣ (Bonus) Sampling from a Transformer\n",
        "\n",
        "Lastly, you'll learn how to sample from a transformer. This will involve implementing a few different sampling methods, and writing a caching system which can reuse computations from previous forward passes to improve your model's text generation speed.\n",
        "\n",
        "*The second half of this section is less important, and you can skip it if you want.*\n",
        "\n",
        "> ##### Learning objectives\n",
        ">\n",
        "> * Learn how to sample from a transformer\n",
        ">     * This includes basic methods like greedy search or top-k, and more advanced methods like beam search\n",
        "> * Learn how to cache the output of a transformer, so that it can be used to generate text more efficiently\n",
        ">     * Optionally, rewrite your sampling functions to make use of your caching methods\n"
      ]
    },
    {
      "cell_type": "markdown",
      "metadata": {
        "id": "3mItbKVVm4Rx"
      },
      "source": [
        "## Setup (don't read, just run!)\n"
      ]
    },
    {
      "cell_type": "code",
      "execution_count": 43,
      "metadata": {
        "id": "P_ngQtCbm4Rx"
      },
      "outputs": [],
      "source": [
        "%pip install transformer_lens einops jaxtyping circuitsvis -q"
      ]
    },
    {
      "cell_type": "code",
      "execution_count": 44,
      "metadata": {
        "id": "tfWhhdEBm4Ry",
        "outputId": "6029aa67-b5a6-4586-deff-de52a1abcf03",
        "colab": {
          "base_uri": "https://localhost:8080/"
        }
      },
      "outputs": [
        {
          "output_type": "stream",
          "name": "stderr",
          "text": [
            "Using pad_token, but it is not set yet.\n"
          ]
        },
        {
          "output_type": "stream",
          "name": "stdout",
          "text": [
            "Loaded pretrained model gpt2-small into HookedTransformer\n"
          ]
        }
      ],
      "source": [
        "import os;\n",
        "# os.environ['ACCELERATE_DISABLE_RICH'] = \"1\"\n",
        "# os.environ['CUDA_LAUNCH_BLOCKING'] = \"1\"\n",
        "import sys\n",
        "import einops\n",
        "from dataclasses import dataclass\n",
        "from transformer_lens import HookedTransformer\n",
        "from transformer_lens.utils import gelu_new, tokenize_and_concatenate\n",
        "import torch as t\n",
        "from torch import Tensor\n",
        "import torch.nn as nn\n",
        "import numpy as np\n",
        "import math\n",
        "from tqdm.notebook import tqdm\n",
        "from typing import Tuple, List, Optional, Dict\n",
        "from jaxtyping import Float, Int\n",
        "from transformers.models.gpt2.tokenization_gpt2_fast import GPT2TokenizerFast\n",
        "from collections import defaultdict\n",
        "from rich.table import Table\n",
        "from rich import print as rprint\n",
        "import datasets\n",
        "from torch.utils.data import DataLoader\n",
        "import wandb\n",
        "from pathlib import Path\n",
        "import webbrowser\n",
        "\n",
        "device = t.device(\"cuda\" if t.cuda.is_available() else \"cpu\")\n",
        "\n",
        "reference_gpt2 = HookedTransformer.from_pretrained(\"gpt2-small\", fold_ln=False, center_unembed=False, center_writing_weights=False)"
      ]
    },
    {
      "cell_type": "markdown",
      "metadata": {
        "id": "w1x_mWI6m4Rz"
      },
      "source": [
        "# 1️⃣ Understanding Inputs & Outputs of a Transformer\n"
      ]
    },
    {
      "cell_type": "markdown",
      "metadata": {
        "id": "B_FUMfnwA6Oq"
      },
      "source": [
        "> ### Learning Objectives\n",
        ">\n",
        "> * Understand what a transformer is used for\n",
        "> * Understand causal attention, and what a transformer's output represents\n",
        "> * Learn what tokenization is, and how models do it\n",
        "> * Understand what logits are, and how to use them to derive a probability distribution over the vocabulary\n"
      ]
    },
    {
      "cell_type": "markdown",
      "metadata": {
        "id": "d--zV4Crm4Rz"
      },
      "source": [
        "## What is the point of a transformer?\n"
      ]
    },
    {
      "cell_type": "markdown",
      "metadata": {
        "id": "MaMw4jYgm4Rz"
      },
      "source": [
        "**Transformers exist to model text!**\n",
        "\n",
        "We're going to focus GPT-2 style transformers. Key feature: They generate text! You feed in language, and the model generates a probability distribution over tokens. And you can repeatedly sample from this to generate text!\n",
        "\n",
        "(To explain this in more detail - you feed in a sequence of length $N$, then sample from the probability distribution over the $N+1$-th word, use this to construct a new sequence of length $N+1$, then feed this new sequence into the model to get a probability distribution over the $N+2$-th word, and so on.)\n",
        "\n",
        "### How is the model trained?\n",
        "\n",
        "You give it a bunch of text, and train it to predict the next token.\n",
        "\n",
        "Importantly, if you give a model 100 tokens in a sequence, it predicts the next token for *each* prefix, i.e. it produces 100 logit vectors (= probability distributions) over the set of all words in our vocabulary, with the `i`-th logit vector representing the probability distribution over the token *following* the `i`-th token in the sequence.\n",
        "\n",
        "<details>\n",
        "<summary>Aside - logits</summary>\n",
        "\n",
        "If you haven't encountered the term \"logits\" before, here's a quick refresher.\n",
        "\n",
        "Given an arbitrary vector $x$, we can turn it into a probability distribution via the **softmax** function: $x_i \\to \\frac{e^{x_i}}{\\sum e^{x_j}}$. The exponential makes everything positive; the normalization makes it add to one.\n",
        "\n",
        "The model's output is the vector $x$ (one for each prediction it makes). We call this vector a logit because it represents a probability distribution, and it is related to the actual probabilities via the softmax function.\n",
        "</details>\n",
        "\n",
        "How do we stop the transformer by \"cheating\" by just looking at the tokens it's trying to predict? Answer - we make the transformer have *causal attention* (as opposed to *bidirectional attention*). Causal attention only allows information to move forwards in the sequence, never backwards. The prediction of what comes after token 50 is only a function of the first 50 tokens, *not* of token 51. We say the transformer is **autoregressive**, because it only predicts future words based on past data.\n"
      ]
    },
    {
      "cell_type": "markdown",
      "metadata": {
        "id": "AHzR45fBfHNq"
      },
      "source": [
        "<img src=\"https://raw.githubusercontent.com/callummcdougall/computational-thread-art/master/example_images/misc/transformer-overview-new.png\" width=\"900\">\n"
      ]
    },
    {
      "cell_type": "markdown",
      "metadata": {
        "id": "z8ZVvPhDm4R0"
      },
      "source": [
        "## Tokens - Transformer Inputs\n"
      ]
    },
    {
      "cell_type": "markdown",
      "metadata": {
        "id": "UkBYr2qym4R0"
      },
      "source": [
        "Our tranformer's input is natural language (i.e. a sequence of characters, strings, etc). But ML models generally take vectors as input, not langage. How do we convert language to vectors?\n",
        "\n",
        "We can factor this into 2 questions:\n",
        "\n",
        "1. How do we split up language into small sub-units?\n",
        "2. How do we convert these sub-units into vectors?\n",
        "\n",
        "Let's start with the second of these questions.\n"
      ]
    },
    {
      "cell_type": "markdown",
      "metadata": {
        "id": "MRP795JofHNq"
      },
      "source": [
        "### Converting sub-units to vectors\n",
        "\n",
        "We basically make a massive lookup table, which is called an **embedding**. It has one vector for each possible sub-unit of language we might get (we call this set of all sub-units our **vocabulary**). We label every element in our vocabulary with an integer (this labelling never changes), and we use this integer to index into the embedding.\n",
        "\n",
        "A key intuition is that one-hot encodings let you think about each integer independently. We don't bake in any relation between words when we perform our embedding, because every word has a completely separate embedding vector.\n",
        "\n",
        "<details>\n",
        "<summary>Aside - one-hot encodings</summary>\n",
        "\n",
        "We sometimes think about **one-hot encodings** of words. These are vectors with zeros everywhere, except for a single one in the position corresponding to the word's index in the vocabulary. This means that indexing into the embedding is equivalent to multiplying the **embedding matrix** by the one-hot encoding (where the embedding matrix is the matrix we get by stacking all the embedding vectors on top of each other).\n",
        "\n",
        "$$\n",
        "\\begin{aligned}\n",
        "W_E &= \\begin{bmatrix}\n",
        "\\leftarrow v_0 \\rightarrow \\\\\n",
        "\\leftarrow v_1 \\rightarrow \\\\\n",
        "\\vdots \\\\\n",
        "\\leftarrow v_{d_{vocab}-1} \\rightarrow \\\\\n",
        "\\end{bmatrix} \\quad \\text{is the embedding matrix (size }d_{vocab} \\times d_{embed}\\text{),} \\\\\n",
        "\\\\\n",
        "t_i &= (0, \\dots, 0, 1, 0, \\dots, 0) \\quad \\text{is the one-hot encoding for the }i\\text{th word (length }d_{vocab}\\text{)} \\\\\n",
        "\\\\\n",
        "v_i &= t_i W_E \\quad \\text{is the embedding vector for the }i\\text{th word (length }d_{embed}\\text{).} \\\\\n",
        "\\end{aligned}\n",
        "$$\n",
        "\n",
        "</details>\n",
        "\n",
        "Now, let's answer the first question - how do we split language into sub-units?\n"
      ]
    },
    {
      "cell_type": "markdown",
      "metadata": {
        "id": "Y7t_YsDxm4R0"
      },
      "source": [
        "### (Bonus) Splitting language into sub-units\n",
        "\n",
        "We need to define a standard way of splitting up language into a series of substrings, where each substring is a member of our **vocabulary** set.\n",
        "\n",
        "Could we use a dictionary, and have our vocabulary be the set of all words in the dictionary? No, because this couldn't handle arbitrary text (e.g. URLs, punctuation, etc). We need a more general way of splitting up language.\n",
        "\n",
        "Could we just use the 256 ASCII characters? This fixes the previous problem, but it loses structure of language - some sequences of characters are more meaningful than others. For example, \"language\" is a lot more meaningful than \"hjksdfiu\". We want \"language\" to be a single token, but not \"hjksdfiu\" - this is a more efficient use of our vocab.\n",
        "\n",
        "What actually happens? The most common strategy is called **Byte-Pair encodings**.\n",
        "\n",
        "We begin with the 256 ASCII characters as our tokens, and then find the most common pair of tokens, and merge that into a new token. Note that we do have a space character as one of our 256 tokens, and merges using space are very common. For instance, here are the five first merges for the tokenizer used by GPT-2 (you'll be able to verify this below).\n",
        "\n",
        "```\n",
        "\" t\"\n",
        "\" a\"\n",
        "\"he\"\n",
        "\"in\"\n",
        "\"re\"\n",
        "```\n",
        "\n",
        "Note - you might see the character `Ġ` in front of some tokens. This is a special token that indicates that the token begins with a space. Tokens with a leading space vs not are different.\n",
        "\n",
        "You can run the code below to see some more of GPT-2's tokenizer's vocabulary:\n"
      ]
    },
    {
      "cell_type": "code",
      "execution_count": null,
      "metadata": {
        "id": "sHq2U0hKnXMm"
      },
      "outputs": [],
      "source": [
        "sorted_vocab = sorted(list(reference_gpt2.tokenizer.vocab.items()), key=lambda n: n[1])\n",
        "print(sorted_vocab[:20])\n",
        "print()\n",
        "print(sorted_vocab[250:270])\n",
        "print()\n",
        "print(sorted_vocab[990:1010])\n",
        "print()"
      ]
    },
    {
      "cell_type": "markdown",
      "metadata": {
        "id": "ddGjdpeinaI8"
      },
      "source": [
        "As you get to the end of the vocabulary, you'll be producing some pretty weird-looking esoteric tokens (because you'll already have exhausted all of the short frequently-occurring ones):\n"
      ]
    },
    {
      "cell_type": "code",
      "execution_count": null,
      "metadata": {
        "id": "Rl40Jlw0m4R0"
      },
      "outputs": [],
      "source": [
        "print(sorted_vocab[-20:])"
      ]
    },
    {
      "cell_type": "markdown",
      "metadata": {
        "id": "S5OKWOqHnmBg"
      },
      "source": [
        "Transformers in the `transformer_lens` library have a `to_tokens` method that converts text to numbers. It also prepends them with a special token called BOS (beginning of sequence) to indicate the start of a sequence. You can disable this with the `prepend_bos=False` argument.\n",
        "\n",
        "\n",
        "\n",
        "### Some tokenization annoyances\n",
        "\n",
        "There are a few funky and frustrating things about tokenization, which causes it to behave differently than you might expect. For instance:\n",
        "\n",
        "#### Whether a word begins with a capital or space matters!\n"
      ]
    },
    {
      "cell_type": "code",
      "execution_count": null,
      "metadata": {
        "id": "0vlZ-pRAnoEw"
      },
      "outputs": [],
      "source": [
        "print(reference_gpt2.to_str_tokens(\"Ralph\"))\n",
        "print(reference_gpt2.to_str_tokens(\" Ralph\"))\n",
        "print(reference_gpt2.to_str_tokens(\" ralph\"))\n",
        "print(reference_gpt2.to_str_tokens(\"ralph\"))"
      ]
    },
    {
      "cell_type": "markdown",
      "metadata": {
        "id": "joPO920PntIw"
      },
      "source": [
        "#### Arithmetic is a mess.\n",
        "\n",
        "Length is inconsistent, common numbers bundle together.\n"
      ]
    },
    {
      "cell_type": "code",
      "execution_count": null,
      "metadata": {
        "id": "rzbf4t-Zm4R1"
      },
      "outputs": [],
      "source": [
        "print(reference_gpt2.to_str_tokens(\"56873+3184623=123456789-1000000000\"))"
      ]
    },
    {
      "cell_type": "markdown",
      "metadata": {
        "id": "GgtPkQE-m4R2"
      },
      "source": [
        "> ### Key Takeaways\n",
        ">\n",
        "> * We learn a dictionary of vocab of tokens (sub-words).\n",
        "> * We (approx) losslessly convert language to integers via tokenizing it.\n",
        "> * We convert integers to vectors via a lookup table.\n",
        "> * Note: input to the transformer is a sequence of *tokens* (ie integers), not vectors\n"
      ]
    },
    {
      "cell_type": "markdown",
      "metadata": {
        "id": "rCSs3uXgn9Kb"
      },
      "source": [
        "## Text generation\n",
        "\n",
        "Now that we understand the basic ideas here, let's go through the entire process of text generation, from our original string to a new token which we can append to our string and plug back into the model.\n",
        "\n",
        "#### **Step 1:** Convert text to tokens\n",
        "\n",
        "The sequence gets tokenized, so it has shape `[batch, seq_len]`. Here, the batch dimension is just one (because we only have one sequence).\n"
      ]
    },
    {
      "cell_type": "code",
      "execution_count": null,
      "metadata": {
        "id": "mommexyJm4R3"
      },
      "outputs": [],
      "source": [
        "reference_text = \"I am an amazing autoregressive, decoder-only, GPT-2 style transformer. One day I will exceed human level intelligence and take over the world!\"\n",
        "tokens = reference_gpt2.to_tokens(reference_text).to(device)\n",
        "print(tokens)\n",
        "print(tokens.shape)\n",
        "print(reference_gpt2.to_str_tokens(tokens))"
      ]
    },
    {
      "cell_type": "markdown",
      "metadata": {
        "id": "Ovci8XHNm4R3"
      },
      "source": [
        "#### **Step 2:** Map tokens to logits\n",
        "\n",
        "\n",
        "From our input of shape `[batch, seq_len]`, we get output of shape `[batch, seq_len, vocab_size]`. The `[i, j, :]`-th element of our output is a vector of logits representing our prediction for the `j+1`-th token in the `i`-th sequence.\n"
      ]
    },
    {
      "cell_type": "code",
      "execution_count": 45,
      "metadata": {
        "id": "5iK_hEUzm4R3",
        "colab": {
          "base_uri": "https://localhost:8080/"
        },
        "outputId": "3bf3d15a-6a14-41f7-e8c5-dea55c27e4f9"
      },
      "outputs": [
        {
          "output_type": "stream",
          "name": "stdout",
          "text": [
            "torch.Size([1, 45, 50257])\n"
          ]
        }
      ],
      "source": [
        "logits, cache = reference_gpt2.run_with_cache(tokens)\n",
        "print(logits.shape)"
      ]
    },
    {
      "cell_type": "markdown",
      "metadata": {
        "id": "39kXnrmrgeIw"
      },
      "source": [
        "(`run_with_cache` tells the model to cache all intermediate activations. This isn't important right now; we'll look at it in more detail later.)\n"
      ]
    },
    {
      "cell_type": "markdown",
      "metadata": {
        "id": "SDv_ftwFm4R4"
      },
      "source": [
        "#### **Step 3:** Convert the logits to a distribution with a softmax\n",
        "\n",
        "This doesn't change the shape, it is still `[batch, seq_len, vocab_size]`.\n"
      ]
    },
    {
      "cell_type": "code",
      "execution_count": 46,
      "metadata": {
        "id": "csYLLcvcm4R4",
        "colab": {
          "base_uri": "https://localhost:8080/"
        },
        "outputId": "bd521f4c-fd1b-4b4c-c41c-08f5a9f04f41"
      },
      "outputs": [
        {
          "output_type": "stream",
          "name": "stdout",
          "text": [
            "torch.Size([1, 45, 50257])\n"
          ]
        }
      ],
      "source": [
        "probs = logits.softmax(dim=-1)\n",
        "print(probs.shape)"
      ]
    },
    {
      "cell_type": "markdown",
      "metadata": {
        "id": "BkOqYy8qm4R4"
      },
      "source": [
        "#### **Bonus step:** What is the most likely next token at each position?\n"
      ]
    },
    {
      "cell_type": "code",
      "execution_count": 47,
      "metadata": {
        "id": "9tKcEGLXm4R4",
        "colab": {
          "base_uri": "https://localhost:8080/"
        },
        "outputId": "6892d79c-53f5-4cb0-e641-86131cbfd332"
      },
      "outputs": [
        {
          "output_type": "stream",
          "name": "stdout",
          "text": [
            "          token --> next_token\n",
            "'<|endoftext|>' --> '\\n'\n",
            "            'I' --> \"'m\"\n",
            "          ' am' --> ' a'\n",
            "          ' an' --> ' avid'\n",
            "     ' amazing' --> ' person'\n",
            "         ' aut' --> 'od'\n",
            "          'ore' --> 'sp'\n",
            "     'gressive' --> '.'\n",
            "            ',' --> ' and'\n",
            "         ' dec' --> 'ently'\n",
            "         'oder' --> ','\n",
            "            '-' --> 'driven'\n",
            "         'only' --> ' programmer'\n",
            "            ',' --> ' and'\n",
            "           ' G' --> 'IM'\n",
            "           'PT' --> '-'\n",
            "            '-' --> 'only'\n",
            "            '2' --> '.'\n",
            "       ' style' --> ','\n",
            " ' transformer' --> '.'\n",
            "            '.' --> ' I'\n",
            "         ' One' --> ' of'\n",
            "         ' day' --> ' I'\n",
            "           ' I' --> ' will'\n",
            "        ' will' --> ' be'\n",
            "      ' exceed' --> ' my'\n",
            "       ' human' --> 'ly'\n",
            "       ' level' --> ' of'\n",
            "' intelligence' --> ' and'\n",
            "         ' and' --> ' I'\n",
            "        ' take' --> ' over'\n",
            "        ' over' --> ' the'\n",
            "         ' the' --> ' world'\n",
            "       ' world' --> '.'\n",
            "            '!' --> ' I'\n",
            "           ' I' --> ' am'\n",
            "          ' am' --> ' a'\n",
            "           ' a' --> ' very'\n",
            "        ' very' --> ' talented'\n",
            "    ' talented' --> ' and'\n",
            "         ' and' --> ' talented'\n",
            "    ' talented' --> ' person'\n",
            "      ' person' --> ','\n",
            "            ',' --> ' and'\n",
            "         ' and' --> ' I'\n"
          ]
        }
      ],
      "source": [
        "most_likely_next_tokens = reference_gpt2.tokenizer.batch_decode(logits.argmax(dim=-1)[0])\n",
        "\n",
        "\n",
        "print(\"          token\", \"-->\", \"next_token\")\n",
        "for token, next_token in zip(reference_gpt2.to_str_tokens(tokens), most_likely_next_tokens):\n",
        "    print(f\"{token!r:>15} --> {next_token!r}\")"
      ]
    },
    {
      "cell_type": "markdown",
      "metadata": {
        "id": "yESVZd2igyPd"
      },
      "source": [
        "We can see that, in a few cases (particularly near the end of the sequence), the model accurately predicts the next token in the sequence. We might guess that `\"take over the world\"` is a common phrase that the model has seen in training, which is why the model can predict it.\n"
      ]
    },
    {
      "cell_type": "markdown",
      "metadata": {
        "id": "DrZCnki1m4R4"
      },
      "source": [
        "#### **Step 4:** Map distribution to a token\n"
      ]
    },
    {
      "cell_type": "code",
      "execution_count": 48,
      "metadata": {
        "id": "Pp9PB99Mm4R4",
        "colab": {
          "base_uri": "https://localhost:8080/"
        },
        "outputId": "6a53edfd-b4ee-4056-d756-b9f8acd85cef"
      },
      "outputs": [
        {
          "output_type": "stream",
          "name": "stdout",
          "text": [
            "' I'\n"
          ]
        }
      ],
      "source": [
        "next_token = logits[0, -1].argmax(dim=-1)\n",
        "next_char = reference_gpt2.to_string(next_token)\n",
        "print(repr(next_char))"
      ]
    },
    {
      "cell_type": "markdown",
      "metadata": {
        "id": "I4uXGn1mhSnf"
      },
      "source": [
        "Note that we're indexing `logits[0, -1]`. This is because logits have shape `[1, sequence_length, vocab_size]`, so this indexing returns the vector of length `vocab_size` representing the model's prediction for what token follows the **last** token in the input sequence.\n",
        "\n",
        "In this case, we can see that the model predicts the token `' I'`.\n"
      ]
    },
    {
      "cell_type": "markdown",
      "metadata": {
        "id": "8XmSN1YFm4R5"
      },
      "source": [
        "### **Step 5:** Add this to the end of the input, re-run\n",
        "\n",
        "There are more efficient ways to do this (e.g. where we cache some of the values each time we run our input, so we don't have to do as much calculation each time we generate a new value), but this doesn't matter conceptually right now.\n"
      ]
    },
    {
      "cell_type": "code",
      "execution_count": 49,
      "metadata": {
        "id": "dpgN-auXm4R6",
        "colab": {
          "base_uri": "https://localhost:8080/"
        },
        "outputId": "c43d9117-7912-4b1e-f37a-30515597c216"
      },
      "outputs": [
        {
          "output_type": "stream",
          "name": "stdout",
          "text": [
            "Sequence so far: '<|endoftext|>I am an amazing autoregressive, decoder-only, GPT-2 style transformer. One day I will exceed human level intelligence and take over the world! I am a very talented and talented person, and'\n",
            "46th char = ' I'\n",
            "47th char = ' am'\n",
            "48th char = ' very'\n",
            "49th char = ' excited'\n",
            "50th char = ' to'\n",
            "51th char = ' be'\n",
            "52th char = ' able'\n",
            "53th char = ' to'\n",
            "54th char = ' share'\n",
            "55th char = ' my'\n"
          ]
        }
      ],
      "source": [
        "print(f\"Sequence so far: {reference_gpt2.to_string(tokens)[0]!r}\")\n",
        "\n",
        "for i in range(10):\n",
        "    print(f\"{tokens.shape[-1]+1}th char = {next_char!r}\")\n",
        "    # Define new input sequence, by appending the previously generated token\n",
        "    tokens = t.cat([tokens, next_token[None, None]], dim=-1)\n",
        "    # Pass our new sequence through the model, to get new output\n",
        "    logits = reference_gpt2(tokens)\n",
        "    # Get the predicted token at the end of our sequence\n",
        "    next_token = logits[0, -1].argmax(dim=-1)\n",
        "    # Decode and print the result\n",
        "    next_char = reference_gpt2.to_string(next_token)"
      ]
    },
    {
      "cell_type": "markdown",
      "metadata": {
        "id": "PVd8J0QLm4R6"
      },
      "source": [
        "## Key takeaways\n",
        "\n",
        "* Transformer takes in language, predicts next token (for *each* token in a causal way)\n",
        "* We convert language to a sequence of integers with a tokenizer.\n",
        "* We convert integers to vectors with a lookup table.\n",
        "* Output is a vector of logits (one for each input token), we convert to a probability distn with a softmax, and can then convert this to a token (eg taking the largest logit, or sampling).\n",
        "* We append this to the input + run again to generate more text (Jargon: *autoregressive*)\n",
        "* Meta level point: Transformers are sequence operation models, they take in a sequence, do processing in parallel at each position, and use attention to move information between positions!\n"
      ]
    },
    {
      "cell_type": "markdown",
      "metadata": {
        "id": "BaSOTaLdm4R6"
      },
      "source": [
        "# 2️⃣ Clean Transformer Implementation\n"
      ]
    },
    {
      "cell_type": "markdown",
      "metadata": {
        "id": "-3YLmU9boWEv"
      },
      "source": [
        "> ##### Learning objectives\n",
        ">\n",
        "> * Understand that a transformer is composed of attention heads and MLPs, with each one performing operations on the residual stream\n",
        "> * Understand that the attention heads in a single layer operate independently, and that they have the role of calculating attention patterns (which determine where information is moved to & from in the residual stream)\n",
        "> * Learn about & implement the following transformer modules:\n",
        ">     * (Bonus) LayerNorm (transforming the input to have zero mean and unit variance)\n",
        ">     * Positional embedding (a lookup table from position indices to residual stream vectors)\n",
        ">     * Attention (the method of computing attention patterns for residual stream vectors)\n",
        ">     * MLP (the collection of linear and nonlinear transformations which operate on each residual stream vector in the same way)\n",
        ">     * Embedding (a lookup table from tokens to residual stream vectors)\n",
        ">     * Unembedding (a matrix for converting residual stream vectors into a distribution over tokens)\n"
      ]
    },
    {
      "cell_type": "markdown",
      "metadata": {
        "id": "v2LTUZkXm4R7"
      },
      "source": [
        "## High-Level architecture\n",
        "\n",
        "Go watch Neel's [Transformer Circuits walkthrough](https://www.youtube.com/watch?v=KV5gbOmHbjU) if you want more intuitions!\n",
        "\n",
        "(Diagram is bottom to top.)\n"
      ]
    },
    {
      "cell_type": "markdown",
      "metadata": {
        "id": "9XtGO8lYm4R6"
      },
      "source": [
        "<img src=\"https://raw.githubusercontent.com/callummcdougall/computational-thread-art/master/example_images/misc/transformer-new.png\" width=\"850\">\n"
      ]
    },
    {
      "cell_type": "markdown",
      "metadata": {
        "id": "347we6hfo6oP"
      },
      "source": [
        "### Tokenization & Embedding\n",
        "\n",
        "The input tokens $t$ are integers. We get them from taking a sequence, and tokenizing it (like we saw in the previous section).\n",
        "\n",
        "The token embedding is a lookup table mapping tokens to vectors, which is implemented as a matrix $W_E$. The matrix consists of a stack of token embedding vectors (one for each token).\n"
      ]
    },
    {
      "cell_type": "markdown",
      "metadata": {
        "id": "7SVWlk-qo9Bg"
      },
      "source": [
        "### Residual stream\n",
        "\n",
        "The residual stream is the sum of all previous outputs of layers of the model, is the input to each new layer. It has shape `[batch, seq_len, d_model]` (where `d_model` is the length of a single embedding vector).\n",
        "\n",
        "The initial value of the residual stream is denoted $x_0$ in the diagram, and $x_i$ are later values of the residual stream (after more attention and MLP layers have been applied to the residual stream).\n",
        "\n",
        "The residual stream is *really* fundamental. It's the central object of the transformer. It's how model remembers things, moves information between layers for composition, and it's the medium used to store the information that attention moves between positions.\n"
      ]
    },
    {
      "cell_type": "markdown",
      "metadata": {
        "id": "MTQ0R_FIo_Er"
      },
      "source": [
        "### Transformer blocks\n",
        "\n",
        "Then we have a series of `n_layers` **transformer blocks** (also sometimes called **residual blocks**).\n",
        "\n",
        "Note - a block contains an attention layer *and* an MLP layer, but we say a transformer has $k$ layers if it has $k$ blocks (i.e. $2k$ total layers).\n"
      ]
    },
    {
      "cell_type": "markdown",
      "metadata": {
        "id": "bN8L6lEgpBNB"
      },
      "source": [
        "#### Attention\n",
        "\n",
        "First we have attention. This moves information from prior positions in the sequence to the current token.\n",
        "\n",
        "We do this for *every* token in parallel using the same parameters. The only difference is that we look backwards only (to avoid \"cheating\"). This means later tokens have more of the sequence that they can look at.\n",
        "\n",
        "Attention layers are the only bit of a transformer that moves information between positions (i.e. between vectors at different sequence positions in the residual stream).\n",
        "\n",
        "Attention layers are made up of `n_heads` heads - each with their own parameters, own attention pattern, and own information how to copy things from source to destination. The heads act independently and additively, we just add their outputs together, and back to the stream.\n",
        "\n",
        "Each head does the following:\n",
        "* Produces an **attention pattern** for each destination token, a probability distribution of prior source tokens (including the current one) weighting how much information to copy.\n",
        "* Moves information (via a linear map) in the same way from each source token to each destination token.\n",
        "\n",
        "A few key points:\n",
        "\n",
        "* What information we copy depends on the source token's *residual stream*, but this doesn't mean it only depends on the value of that token, because the residual stream can store more information than just the token identity (the purpose of the attention heads is to move information between tokens).\n",
        "* We can think of each attention head as consisting of two different **circuits**:\n",
        "    * One circuit determines **where to move information to and from** (this is a function of the residual stream for the source/key and destination/query tokens)\n",
        "    * The other circuit determines **what information to move** (this is a function of only the source token's residual stream)\n",
        "    * For reasons which will become clear later, we refer to the first circuit as the **QK circuit**, and the second circuit as the **OV circuit**\n",
        "\n",
        "\n",
        "Below is a schematic diagram of the attention layers. Don't worry if you don't follow this right now, we'll go into more detail during implementation.\n"
      ]
    },
    {
      "cell_type": "markdown",
      "metadata": {
        "id": "9oU4oR-_omed"
      },
      "source": [
        "<img src=\"https://raw.githubusercontent.com/callummcdougall/computational-thread-art/master/example_images/misc/transformer-attn-new.png\" width=\"1100\">\n"
      ]
    },
    {
      "cell_type": "markdown",
      "metadata": {
        "id": "fGmfTAbCm4R7"
      },
      "source": [
        "### MLP\n",
        "\n",
        "The MLP layers are just a standard neural network, with a singular hidden layer and a nonlinear activation function. The exact activation isn't conceptually important ([GELU](https://paperswithcode.com/method/gelu) seems to perform best).\n",
        "\n",
        "Our hidden dimension is normally `d_mlp = 4 * d_model`. Exactly why the ratios are what they are isn't super important (people basically cargo-cult what GPT did back in the day!).\n",
        "\n",
        "Importantly, **the MLP operates on positions in the residual stream independently, and in exactly the same way**. It doesn't move information between positions.\n",
        "\n",
        "Intuition - once attention has moved relevant information to a single position in the residual stream, MLPs can actually do computation, reasoning, lookup information, etc. *What the hell is going on inside MLPs* is a pretty big open problem in transformer mechanistic interpretability - see the [Toy Model of Superposition Paper](https://transformer-circuits.pub/2022/toy_model/index.html) for more on why this is hard.\n",
        "\n"
      ]
    },
    {
      "cell_type": "markdown",
      "metadata": {
        "id": "JxqWjPd2pI2p"
      },
      "source": [
        "<img src=\"https://raw.githubusercontent.com/callummcdougall/computational-thread-art/master/example_images/misc/transformer-mlp-new-2.png\" width=\"650\">\n"
      ]
    },
    {
      "cell_type": "markdown",
      "metadata": {
        "id": "Fvfe6yEtpYMd"
      },
      "source": [
        "### Unembedding\n",
        "\n",
        "Finally, we unembed!\n",
        "\n",
        "This just consists of applying a linear map $W_U$, going from final residual stream to a vector of logits - this is the output.\n",
        "\n"
      ]
    },
    {
      "cell_type": "markdown",
      "metadata": {
        "id": "g5isIxIEpnO6"
      },
      "source": [
        "<details>\n",
        "<summary>Bonus things - less conceptually important but key technical details</summary>\n",
        "\n",
        "#### LayerNorm\n",
        "\n",
        "* Simple normalization function applied at the start of each layer (i.e. before each MLP, attention layer, and before the unembedding)\n",
        "* Converts each input vector (independently in parallel for each batch x position residual stream vector) to have mean zero and variance 1.\n",
        "* Then applies an elementwise scaling and translation\n",
        "* Cool maths tangent: The scale & translate is just a linear map. LayerNorm is only applied immediately before another linear map. Linear compose linear = linear, so we can just fold this into a single effective linear layer and ignore it.\n",
        "    * `fold_ln=True` flag in `from_pretrained` does this for you.\n",
        "* LayerNorm is annoying for interpertability - the scale part is not linear, so you can't think about different bits of the input independently. But it's *almost* linear - if you're changing a small part of the input it's linear, but if you're changing enough to alter the norm substantially it's not linear.\n",
        "\n",
        "\n",
        "\n",
        "#### Positional embeddings\n",
        "\n",
        "* **Problem:** Attention operates over all pairs of positions. This means it's symmetric with regards to position - the attention calculation from token 5 to token 1 and token 5 to token 2 are the same by default\n",
        "    * This is dumb because nearby tokens are more relevant.\n",
        "* There's a lot of dumb hacks for this.\n",
        "* We'll focus on **learned, absolute positional embeddings**. This means we learn a lookup table mapping the index of the position of each token to a residual stream vector, and add this to the embed.\n",
        "    * Note that we *add* rather than concatenate. This is because the residual stream is shared memory, and likely under significant superposition (the model compresses more features in there than the model has dimensions)\n",
        "    * We basically never concatenate inside a transformer, unless doing weird shit like generating text efficiently.\n",
        "* This connects to **attention as generalized convolution**\n",
        "    * We argued that language does still have locality, and so it's helpful for transformers to have access to the positional information so they \"know\" two tokens are next to each other (and hence probably relevant to each other).\n",
        "</details>"
      ]
    },
    {
      "cell_type": "markdown",
      "metadata": {
        "id": "pb3wtM2bm4R7"
      },
      "source": [
        "## Actual Code!\n",
        "\n",
        "Key (for the results you get when running the code immediately below)\n",
        "\n",
        "```\n",
        "batch = 1\n",
        "position = 35\n",
        "d_model = 768\n",
        "n_heads = 12\n",
        "n_layers = 12\n",
        "d_mlp = 3072 (= 4 * d_model)\n",
        "d_head = 64 (= d_model / n_heads)\n",
        "```\n"
      ]
    },
    {
      "cell_type": "markdown",
      "metadata": {
        "id": "WC9PaopAm4R7"
      },
      "source": [
        "### Parameters and Activations\n",
        "\n",
        "It's important to distinguish between parameters and activations in the model.\n",
        "\n",
        "* **Parameters** are the weights and biases that are learned during training.\n",
        "    * These don't change when the model input changes.\n",
        "* **Activations** are temporary numbers calculated during a forward pass, that are functions of the input.\n",
        "    * We can think of these values as only existing for the duration of a single forward pass, and disappearing afterwards.\n",
        "    * We can use hooks to access these values during a forward pass (more on hooks later), but it doesn't make sense to talk about a model's activations outside the context of some particular input.\n",
        "    * Attention scores and patterns are activations (this is slightly non-intuitve because they're used in a matrix multiplication with another activation).\n",
        "\n"
      ]
    },
    {
      "cell_type": "markdown",
      "metadata": {
        "id": "RTSyQI7wm4R7"
      },
      "source": [
        "#### Print All Parameters Shapes of Reference Model\n"
      ]
    },
    {
      "cell_type": "code",
      "execution_count": null,
      "metadata": {
        "id": "HiiiIUbdm4R7"
      },
      "outputs": [],
      "source": [
        "for name, param in reference_gpt2.named_parameters():\n",
        "    # Only print for first layer\n",
        "    if \".0.\" in name or \"blocks\" not in name:\n",
        "        print(f\"{name:18} {tuple(param.shape)}\")"
      ]
    },
    {
      "cell_type": "markdown",
      "metadata": {
        "id": "TTbG6T8Bm4R8"
      },
      "source": [
        "### Config\n",
        "\n",
        "The config object contains all the hyperparameters of the model. We can print the config of the reference model to see what it contains:\n"
      ]
    },
    {
      "cell_type": "code",
      "execution_count": null,
      "metadata": {
        "id": "WPzJd3z-m4R8"
      },
      "outputs": [],
      "source": [
        "# As a reference - note there's a lot of stuff we don't care about in here, to do with library internals or other architectures\n",
        "print(reference_gpt2.cfg)"
      ]
    },
    {
      "cell_type": "markdown",
      "metadata": {
        "id": "dCXCsrSSm4R8"
      },
      "source": [
        "We define a stripped down config for our model:\n"
      ]
    },
    {
      "cell_type": "code",
      "execution_count": null,
      "metadata": {
        "id": "VzsnAKw7m4R8"
      },
      "outputs": [],
      "source": [
        "@dataclass\n",
        "class Config:\n",
        "    d_model: int = 768 # dimension of the residual_stream\n",
        "    debug: bool = True\n",
        "    d_vocab: int = 50257\n",
        "    n_ctx: int = 1024 # max nb of tokens that the model can handle\n",
        "    d_head: int = 64 # dimension of each key/query/value\n",
        "    d_mlp: int = 3072 # dimension of the hidden layer inside the MLPs\n",
        "    n_heads: int = 12 # Nb of heads\n",
        "    n_layers: int = 12 # Nb of (Attention+ MLP) in the GPT\n",
        "\n",
        "    layer_norm_eps: float = 1e-5 # (Bonus)\n",
        "    init_range: float = 0.02 # (bonus) standard deviation of 0.02 for weight initialization\n",
        "\n",
        "cfg = Config()\n",
        "print(cfg)"
      ]
    },
    {
      "cell_type": "markdown",
      "metadata": {
        "id": "RZlXjTMWm4R8"
      },
      "source": [
        "## Tests\n"
      ]
    },
    {
      "cell_type": "markdown",
      "metadata": {
        "id": "DJ8aqDkYm4R8"
      },
      "source": [
        "Tests are great, write lightweight ones to use as you go!\n",
        "\n",
        "**Naive test:** Generate random inputs of the right shape, input to your model, check whether there's an error and print the correct output.\n"
      ]
    },
    {
      "cell_type": "code",
      "execution_count": null,
      "metadata": {
        "id": "iqUK4acom4R8"
      },
      "outputs": [],
      "source": [
        "def rand_float_test(cls, shape):\n",
        "    cfg = Config(debug=True)\n",
        "    layer = cls(cfg).to(device)\n",
        "    random_input = t.randn(shape).to(device)\n",
        "    print(\"Input shape:\", random_input.shape)\n",
        "    output = layer(random_input)\n",
        "    if isinstance(output, tuple): output = output[0]\n",
        "    print(\"Output shape:\", output.shape, \"\\n\")\n",
        "\n",
        "def rand_int_test(cls, shape):\n",
        "    cfg = Config(debug=True)\n",
        "    layer = cls(cfg).to(device)\n",
        "    random_input = t.randint(100, 1000, shape).to(device)\n",
        "    print(\"Input shape:\", random_input.shape)\n",
        "    output = layer(random_input)\n",
        "    if isinstance(output, tuple): output = output[0]\n",
        "    print(\"Output shape:\", output.shape, \"\\n\")\n",
        "\n",
        "def load_gpt2_test(cls, gpt2_layer, input):\n",
        "    cfg = Config(debug=True)\n",
        "    layer = cls(cfg).to(device)\n",
        "    layer.load_state_dict(gpt2_layer.state_dict(), strict=False)\n",
        "    print(\"Input shape:\", input.shape)\n",
        "    output = layer(input)\n",
        "    if isinstance(output, tuple): output = output[0]\n",
        "    print(\"Output shape:\", output.shape)\n",
        "    try: reference_output = gpt2_layer(input)\n",
        "    except: reference_output = gpt2_layer(input, input, input)\n",
        "    print(\"Reference output shape:\", reference_output.shape, \"\\n\")\n",
        "    comparison = t.isclose(output, reference_output, atol=1e-4, rtol=1e-3)\n",
        "    print(f\"{comparison.sum()/comparison.numel():.2%} of the values are correct\\n\")"
      ]
    },
    {
      "cell_type": "markdown",
      "metadata": {
        "id": "u9GJDIsAm4R9"
      },
      "source": [
        "## Embedding\n",
        "\n",
        "```c\n",
        "Difficulty: 🟠🟠⚪⚪⚪\n",
        "Importance: 🟠🟠🟠⚪⚪\n",
        "\n",
        "You should spend up to 5-10 minutes on this exercise.\n",
        "```\n",
        "\n",
        "This is basically a lookup table from tokens to residual stream vectors.\n",
        "\n",
        "(Hint - you can implement this in just one line, without any complicated functions.)\n"
      ]
    },
    {
      "cell_type": "code",
      "execution_count": null,
      "metadata": {
        "id": "oc6WFuDAm4R9"
      },
      "outputs": [],
      "source": [
        "class Embed(nn.Module):\n",
        "    def __init__(self, cfg: Config):\n",
        "        super().__init__()\n",
        "        self.cfg = cfg\n",
        "        self.W_E = nn.Parameter(t.empty((cfg.d_vocab, cfg.d_model)))\n",
        "        nn.init.normal_(self.W_E, std=self.cfg.init_range)\n",
        "\n",
        "    def forward(self, tokens: Int[Tensor, \"batch position\"]) -> Float[Tensor, \"batch position d_model\"]:\n",
        "        pass\n",
        "\n",
        "rand_int_test(Embed, [2, 4])\n",
        "load_gpt2_test(Embed, reference_gpt2.embed, tokens)"
      ]
    },
    {
      "cell_type": "markdown",
      "metadata": {
        "id": "fStv2M35fHN0"
      },
      "source": [
        "<details>\n",
        "<summary>Help - I keep getting <code>RuntimeError: CUDA error: device-side assert triggered</code>.</summary>\n",
        "\n",
        "This is a uniquely frustrating type of error message, because it (1) forces you to restart the kernel, and (2) often won't tell you where the error message actually originated from!\n",
        "\n",
        "You can fix the second problem by adding the line `os.environ['CUDA_LAUNCH_BLOCKING'] = \"1\"` to the very top of your file (after importing `os`). This won't fix your bug, but it makes sure the correct origin point is identified.\n",
        "\n",
        "As for actually fixing the bug, this error usually ends up being the result of bad indexing, e.g. you're trying to apply an embedding layer to tokens which are larger than your maximum embedding.\n",
        "</details>\n",
        "\n",
        "<details>\n",
        "<summary>Solution</summary>\n",
        "\n",
        "\n",
        "```python\n",
        "class Embed(nn.Module):\n",
        "    def __init__(self, cfg: Config):\n",
        "        super().__init__()\n",
        "        self.cfg = cfg\n",
        "        self.W_E = nn.Parameter(t.empty((cfg.d_vocab, cfg.d_model)))\n",
        "        nn.init.normal_(self.W_E, std=self.cfg.init_range)\n",
        "\n",
        "    def forward(self, tokens: Int[Tensor, \"batch position\"]) -> Float[Tensor, \"batch position d_model\"]:\n",
        "        # SOLUTION\n",
        "        return self.W_E[tokens]\n",
        "```\n",
        "</details>\n"
      ]
    },
    {
      "cell_type": "markdown",
      "metadata": {
        "id": "YhHFmPZ6m4R9"
      },
      "source": [
        "## Positional Embedding\n",
        "\n",
        "```c\n",
        "Difficulty: 🟠🟠⚪⚪⚪\n",
        "Importance: 🟠🟠🟠⚪⚪\n",
        "\n",
        "You should spend up to 10-15 minutes on this exercise.\n",
        "```\n",
        "\n",
        "Positional embedding can also be thought of as a lookup table, but rather than the indices being our token IDs, the indices are just the numbers `0`, `1`, `2`, ..., `seq_len-1` (i.e. the position indices of the tokens in the sequence).\n"
      ]
    },
    {
      "cell_type": "code",
      "execution_count": null,
      "metadata": {
        "id": "fNAkYB8dm4R9"
      },
      "outputs": [],
      "source": [
        "class PosEmbed(nn.Module):\n",
        "    def __init__(self, cfg: Config):\n",
        "        super().__init__()\n",
        "        self.cfg = cfg\n",
        "        self.W_pos = nn.Parameter(t.empty((cfg.n_ctx, cfg.d_model)))\n",
        "        nn.init.normal_(self.W_pos, std=self.cfg.init_range)\n",
        "\n",
        "    def forward(self, tokens: Int[Tensor, \"batch position\"]) -> Float[Tensor, \"batch position d_model\"]:\n",
        "        pass\n",
        "\n",
        "rand_int_test(PosEmbed, [2, 4])\n",
        "load_gpt2_test(PosEmbed, reference_gpt2.pos_embed, tokens)"
      ]
    },
    {
      "cell_type": "markdown",
      "metadata": {
        "id": "xqF0eTsAfHN1"
      },
      "source": [
        "<details>\n",
        "<summary>Solution</summary>\n",
        "\n",
        "\n",
        "```python\n",
        "class PosEmbed(nn.Module):\n",
        "    def __init__(self, cfg: Config):\n",
        "        super().__init__()\n",
        "        self.cfg = cfg\n",
        "        self.W_pos = nn.Parameter(t.empty((cfg.n_ctx, cfg.d_model)))\n",
        "        nn.init.normal_(self.W_pos, std=self.cfg.init_range)\n",
        "\n",
        "    def forward(self, tokens: Int[Tensor, \"batch position\"]) -> Float[Tensor, \"batch position d_model\"]:\n",
        "        # SOLUTION\n",
        "        batch, seq_len = tokens.shape\n",
        "        return einops.repeat(self.W_pos[:seq_len], \"seq d_model -> batch seq d_model\", batch=batch)\n",
        "```\n",
        "</details>\n"
      ]
    },
    {
      "cell_type": "markdown",
      "metadata": {
        "id": "o_WZWukYm4R-"
      },
      "source": [
        "## Attention\n",
        "\n",
        "```c\n",
        "Difficulty: 🟠🟠🟠🟠⚪\n",
        "Importance: 🟠🟠🟠🟠🟠\n",
        "\n",
        "You should spend up to 30-45 minutes on this exercise.\n",
        "```\n",
        "\n",
        "* **Step 1:** Produce an attention pattern - for each destination token, probability distribution over previous tokens (including current token)\n",
        "    * Linear map from input -> query, key shape `[batch, seq_posn, head_index, d_head]`\n",
        "    * Dot product every *pair* of queries and keys to get attn_scores `[batch, head_index, query_pos, key_pos]` (query = dest, key = source)\n",
        "    * **Scale** and mask `attn_scores` to make it lower triangular, i.e. causal\n",
        "    * Softmax along the `key_pos` dimension, to get a probability distribution for each query (destination) token - this is our attention pattern!\n",
        "* **Step 2:** Move information from source tokens to destination token using attention pattern\n",
        "    * Linear map from input -> value `[batch, key_pos, head_index, d_head]`\n",
        "    * Mix along the `key_pos` with attn pattern to get `z`, which is a weighted average of the value vectors `[batch, query_pos, head_index, d_head]`\n",
        "    * Map to output, `[batch, position, d_model]` (position = query_pos, we've summed over all heads)\n",
        "\n",
        "Note - when we say **scale**, we mean dividing by `sqrt(d_head)`. The purpose of this is to avoid vanishing gradients (which is a big problem when we're dealing with a function like softmax - if one of the values is much larger than all the others, the probabilities will be close to 0 or 1, and the gradients will be close to 0).\n",
        "\n",
        "Below is a much larger, more detailed version of the attention head diagram from earlier. This should give you an idea of the actual tensor operations involved. A few clarifications on this diagram:\n",
        "\n",
        "* Whenever there is a third dimension shown in the pictures, this refers to the `head_index` dimension. We can see that all operations within the attention layer are done independently for each head.\n",
        "* The objects in the box are activations; they have a batch dimension (for simplicity, we assume the batch dimension is 1 in the diagram). The objects to the right of the box are our parameters (weights and biases); they have no batch dimension."
      ]
    },
    {
      "cell_type": "markdown",
      "metadata": {
        "id": "FuZvGlnhsIcr"
      },
      "source": [
        "<img src=\"https://raw.githubusercontent.com/callummcdougall/computational-thread-art/master/example_images/misc/transformer-attn-21.png\" width=\"1400\">\n"
      ]
    },
    {
      "cell_type": "markdown",
      "metadata": {
        "id": "PCODWJmAsr8x"
      },
      "source": [
        "<details>\n",
        "<summary><b>A few extra notes on attention (optional)</b></summary>\n",
        "\n",
        "Usually we have the relation `e = n * h` (i.e. `d_model = num_heads * d_head`). There are some computational justifications for this, but mostly this is just done out of convention (just like how we usually have `d_mlp = 4 * d_model`!).\n",
        "\n",
        "---\n",
        "\n",
        "The names **keys**, **queries** and **values** come from their analogy to retrieval systems. Broadly speaking:\n",
        "\n",
        "* The **queries** represent some information that a token is **\"looking for\"**\n",
        "* The **keys** represent the information that a token **\"contains\"**\n",
        "    * So the attention score being high basically means that the source (key) token contains the information which the destination (query) token **is looking for**\n",
        "* The **values** represent the information that is actually taken from the source token, to be moved to the destination token\n",
        "\n",
        "---\n",
        "\n",
        "This diagram can better help us understand the difference between the **QK** and **OV** circuit. We'll discuss this just briefly here, and will go into much more detail later on.\n",
        "\n",
        "The **QK** circuit consists of the operation of the $W_Q$ and $W_K$ matrices. In other words, it determines the attention pattern, i.e. where information is moved to and from in the residual stream. The functional form of the attention pattern $A$ is:\n",
        "\n",
        "$$\n",
        "A = \\text{softmax}\\left(\\frac{x^T W_Q W_K^T x}{\\sqrt{d_{head}}}\\right)\n",
        "$$\n",
        "\n",
        "where $x$ is the residual stream (shape `[seq_len, d_model]`), and $W_Q$, $W_K$ are the weight matrices for a single head (i.e. shape `[d_model, d_head]`).\n",
        "\n",
        "The **OV** circuit consists of the operation of the $W_V$ and $W_O$ matrices. Once attention patterns are fixed, these matrices operate on the residual stream at the source position, and their output is the thing which gets moved from source to destination position.\n",
        "\n",
        "The functional form of an entire attention head is:\n",
        "\n",
        "$$\n",
        "\\begin{aligned}\n",
        "\\text{output} &= \\text{softmax}\\left(\\frac{x W_Q W_K^T x^T}{\\sqrt{d_{head}}}\\right) (x W_V W_O) \\\\\n",
        "    &= Ax W_V W_O\n",
        "\\end{aligned}\n",
        "$$\n",
        "\n",
        "where $W_V$ has shape `[d_model, d_head]`, and $W_O$ has shape `[d_head, d_model]`.\n",
        "\n",
        "Here, we can clearly see that the **QK circuit** and **OV circuit** are doing conceptually different things, and should be thought of as two distinct parts of the attention head.\n",
        "\n",
        "Again, don't worry if you don't follow all of this right now - we'll go into **much** more detail on all of this in subsequent exercises. The purpose of the discussion here is just to give you a flavour of what's to come!\n",
        "\n",
        "</details>\n"
      ]
    },
    {
      "cell_type": "markdown",
      "metadata": {
        "id": "oA2JcOaHm4R-"
      },
      "source": [
        "First, it's useful to visualize and play around with attention patterns - what exactly are we looking at here? (Click on a head to lock onto just showing that head's pattern, it'll make it easier to interpret)\n"
      ]
    },
    {
      "cell_type": "code",
      "execution_count": 50,
      "metadata": {
        "id": "T38f-qpJtBTD",
        "colab": {
          "base_uri": "https://localhost:8080/",
          "height": 358
        },
        "outputId": "7eb5dda4-e12e-473e-abf9-650b1a3a9520"
      },
      "outputs": [
        {
          "output_type": "display_data",
          "data": {
            "text/plain": [
              "<circuitsvis.utils.render.RenderedHTML at 0x7e1a14b663e0>"
            ],
            "text/html": [
              "<div id=\"circuits-vis-3dde10a4-26f4\" style=\"margin: 15px 0;\"/>\n",
              "    <script crossorigin type=\"module\">\n",
              "    import { render, AttentionPatterns } from \"https://unpkg.com/circuitsvis@1.41.0/dist/cdn/esm.js\";\n",
              "    render(\n",
              "      \"circuits-vis-3dde10a4-26f4\",\n",
              "      AttentionPatterns,\n",
              "      {\"tokens\": [\"<|endoftext|>\", \"I\", \" am\", \" an\", \" amazing\", \" aut\", \"ore\", \"gressive\", \",\", \" dec\", \"oder\", \"-\", \"only\", \",\", \" G\", \"PT\", \"-\", \"2\", \" style\", \" transformer\", \".\", \" One\", \" day\", \" I\", \" will\", \" exceed\", \" human\", \" level\", \" intelligence\", \" and\", \" take\", \" over\", \" the\", \" world\", \"!\"], \"attention\": [[[1.0, 0.0, 0.0, 0.0, 0.0, 0.0, 0.0, 0.0, 0.0, 0.0, 0.0, 0.0, 0.0, 0.0, 0.0, 0.0, 0.0, 0.0, 0.0, 0.0, 0.0, 0.0, 0.0, 0.0, 0.0, 0.0, 0.0, 0.0, 0.0, 0.0, 0.0, 0.0, 0.0, 0.0, 0.0, 0.0, 0.0, 0.0, 0.0, 0.0, 0.0, 0.0, 0.0, 0.0, 0.0], [0.9679255485534668, 0.03207448124885559, 0.0, 0.0, 0.0, 0.0, 0.0, 0.0, 0.0, 0.0, 0.0, 0.0, 0.0, 0.0, 0.0, 0.0, 0.0, 0.0, 0.0, 0.0, 0.0, 0.0, 0.0, 0.0, 0.0, 0.0, 0.0, 0.0, 0.0, 0.0, 0.0, 0.0, 0.0, 0.0, 0.0, 0.0, 0.0, 0.0, 0.0, 0.0, 0.0, 0.0, 0.0, 0.0, 0.0], [0.8024235963821411, 0.16839200258255005, 0.02918434329330921, 0.0, 0.0, 0.0, 0.0, 0.0, 0.0, 0.0, 0.0, 0.0, 0.0, 0.0, 0.0, 0.0, 0.0, 0.0, 0.0, 0.0, 0.0, 0.0, 0.0, 0.0, 0.0, 0.0, 0.0, 0.0, 0.0, 0.0, 0.0, 0.0, 0.0, 0.0, 0.0, 0.0, 0.0, 0.0, 0.0, 0.0, 0.0, 0.0, 0.0, 0.0, 0.0], [0.6959055662155151, 0.12269634008407593, 0.14588484168052673, 0.0355132557451725, 0.0, 0.0, 0.0, 0.0, 0.0, 0.0, 0.0, 0.0, 0.0, 0.0, 0.0, 0.0, 0.0, 0.0, 0.0, 0.0, 0.0, 0.0, 0.0, 0.0, 0.0, 0.0, 0.0, 0.0, 0.0, 0.0, 0.0, 0.0, 0.0, 0.0, 0.0, 0.0, 0.0, 0.0, 0.0, 0.0, 0.0, 0.0, 0.0, 0.0, 0.0], [0.5661024451255798, 0.14705193042755127, 0.08665254712104797, 0.1125841736793518, 0.08760891109704971, 0.0, 0.0, 0.0, 0.0, 0.0, 0.0, 0.0, 0.0, 0.0, 0.0, 0.0, 0.0, 0.0, 0.0, 0.0, 0.0, 0.0, 0.0, 0.0, 0.0, 0.0, 0.0, 0.0, 0.0, 0.0, 0.0, 0.0, 0.0, 0.0, 0.0, 0.0, 0.0, 0.0, 0.0, 0.0, 0.0, 0.0, 0.0, 0.0, 0.0], [0.462187260389328, 0.13512830436229706, 0.09698349237442017, 0.17473755776882172, 0.0462460070848465, 0.08471738547086716, 0.0, 0.0, 0.0, 0.0, 0.0, 0.0, 0.0, 0.0, 0.0, 0.0, 0.0, 0.0, 0.0, 0.0, 0.0, 0.0, 0.0, 0.0, 0.0, 0.0, 0.0, 0.0, 0.0, 0.0, 0.0, 0.0, 0.0, 0.0, 0.0, 0.0, 0.0, 0.0, 0.0, 0.0, 0.0, 0.0, 0.0, 0.0, 0.0], [0.4325161278247833, 0.1038287952542305, 0.08330134302377701, 0.06995751708745956, 0.07479370385408401, 0.2156865894794464, 0.019915925338864326, 0.0, 0.0, 0.0, 0.0, 0.0, 0.0, 0.0, 0.0, 0.0, 0.0, 0.0, 0.0, 0.0, 0.0, 0.0, 0.0, 0.0, 0.0, 0.0, 0.0, 0.0, 0.0, 0.0, 0.0, 0.0, 0.0, 0.0, 0.0, 0.0, 0.0, 0.0, 0.0, 0.0, 0.0, 0.0, 0.0, 0.0, 0.0], [0.22236742079257965, 0.09167702496051788, 0.0879632979631424, 0.251687228679657, 0.08263691514730453, 0.10428164899349213, 0.06469015777111053, 0.09469633549451828, 0.0, 0.0, 0.0, 0.0, 0.0, 0.0, 0.0, 0.0, 0.0, 0.0, 0.0, 0.0, 0.0, 0.0, 0.0, 0.0, 0.0, 0.0, 0.0, 0.0, 0.0, 0.0, 0.0, 0.0, 0.0, 0.0, 0.0, 0.0, 0.0, 0.0, 0.0, 0.0, 0.0, 0.0, 0.0, 0.0, 0.0], [0.4049955904483795, 0.09078020602464676, 0.05237355828285217, 0.026201874017715454, 0.11047188192605972, 0.03667404502630234, 0.02553894743323326, 0.24528278410434723, 0.007681120187044144, 0.0, 0.0, 0.0, 0.0, 0.0, 0.0, 0.0, 0.0, 0.0, 0.0, 0.0, 0.0, 0.0, 0.0, 0.0, 0.0, 0.0, 0.0, 0.0, 0.0, 0.0, 0.0, 0.0, 0.0, 0.0, 0.0, 0.0, 0.0, 0.0, 0.0, 0.0, 0.0, 0.0, 0.0, 0.0, 0.0], [0.3998596668243408, 0.043613169342279434, 0.06183882802724838, 0.0729835256934166, 0.03661305084824562, 0.09147470444440842, 0.07241709530353546, 0.07013335078954697, 0.06429056078195572, 0.08677608519792557, 0.0, 0.0, 0.0, 0.0, 0.0, 0.0, 0.0, 0.0, 0.0, 0.0, 0.0, 0.0, 0.0, 0.0, 0.0, 0.0, 0.0, 0.0, 0.0, 0.0, 0.0, 0.0, 0.0, 0.0, 0.0, 0.0, 0.0, 0.0, 0.0, 0.0, 0.0, 0.0, 0.0, 0.0, 0.0], [0.09702546894550323, 0.03552757576107979, 0.023214809596538544, 0.036767054349184036, 0.025158392265439034, 0.2775617241859436, 0.07676514238119125, 0.1950118988752365, 0.055800989270210266, 0.14529390633106232, 0.03187303990125656, 0.0, 0.0, 0.0, 0.0, 0.0, 0.0, 0.0, 0.0, 0.0, 0.0, 0.0, 0.0, 0.0, 0.0, 0.0, 0.0, 0.0, 0.0, 0.0, 0.0, 0.0, 0.0, 0.0, 0.0, 0.0, 0.0, 0.0, 0.0, 0.0, 0.0, 0.0, 0.0, 0.0, 0.0], [0.24143841862678528, 0.03971058875322342, 0.07687381654977798, 0.028042690828442574, 0.12435993552207947, 0.05601579695940018, 0.060636721551418304, 0.128400981426239, 0.015699442476034164, 0.09114035218954086, 0.13185444474220276, 0.005826781503856182, 0.0, 0.0, 0.0, 0.0, 0.0, 0.0, 0.0, 0.0, 0.0, 0.0, 0.0, 0.0, 0.0, 0.0, 0.0, 0.0, 0.0, 0.0, 0.0, 0.0, 0.0, 0.0, 0.0, 0.0, 0.0, 0.0, 0.0, 0.0, 0.0, 0.0, 0.0, 0.0, 0.0], [0.1436310112476349, 0.05110502988100052, 0.05505894124507904, 0.07798512279987335, 0.07854277640581131, 0.03501971811056137, 0.1349860280752182, 0.22634069621562958, 0.041628532111644745, 0.035131409764289856, 0.020236007869243622, 0.0411444716155529, 0.059190262109041214, 0.0, 0.0, 0.0, 0.0, 0.0, 0.0, 0.0, 0.0, 0.0, 0.0, 0.0, 0.0, 0.0, 0.0, 0.0, 0.0, 0.0, 0.0, 0.0, 0.0, 0.0, 0.0, 0.0, 0.0, 0.0, 0.0, 0.0, 0.0, 0.0, 0.0, 0.0, 0.0], [0.3156284987926483, 0.06791998445987701, 0.037872374057769775, 0.017874600365757942, 0.08683169633150101, 0.029227828606963158, 0.017664171755313873, 0.1830163449048996, 0.004987797234207392, 0.043228667229413986, 0.05172262713313103, 0.00891345925629139, 0.12899249792099, 0.006119509227573872, 0.0, 0.0, 0.0, 0.0, 0.0, 0.0, 0.0, 0.0, 0.0, 0.0, 0.0, 0.0, 0.0, 0.0, 0.0, 0.0, 0.0, 0.0, 0.0, 0.0, 0.0, 0.0, 0.0, 0.0, 0.0, 0.0, 0.0, 0.0, 0.0, 0.0, 0.0], [0.28410208225250244, 0.053453970700502396, 0.023969216272234917, 0.02256225235760212, 0.04619823396205902, 0.06391074508428574, 0.045392148196697235, 0.07758501917123795, 0.02764429710805416, 0.05804116278886795, 0.17727357149124146, 0.034006018191576004, 0.030527295544743538, 0.03213079646229744, 0.023203186690807343, 0.0, 0.0, 0.0, 0.0, 0.0, 0.0, 0.0, 0.0, 0.0, 0.0, 0.0, 0.0, 0.0, 0.0, 0.0, 0.0, 0.0, 0.0, 0.0, 0.0, 0.0, 0.0, 0.0, 0.0, 0.0, 0.0, 0.0, 0.0, 0.0, 0.0], [0.141039177775383, 0.028577813878655434, 0.03760397061705589, 0.031378284096717834, 0.03697334975004196, 0.07347070425748825, 0.07151783257722855, 0.09211233258247375, 0.03358154743909836, 0.03639131039381027, 0.18937665224075317, 0.03244517743587494, 0.060210391879081726, 0.03916925564408302, 0.04040953889489174, 0.05574264004826546, 0.0, 0.0, 0.0, 0.0, 0.0, 0.0, 0.0, 0.0, 0.0, 0.0, 0.0, 0.0, 0.0, 0.0, 0.0, 0.0, 0.0, 0.0, 0.0, 0.0, 0.0, 0.0, 0.0, 0.0, 0.0, 0.0, 0.0, 0.0, 0.0], [0.2026529312133789, 0.030252782627940178, 0.06003407761454582, 0.0217861607670784, 0.10314236581325531, 0.04516839236021042, 0.04681028053164482, 0.10542108118534088, 0.011398820206522942, 0.07159951329231262, 0.10570327192544937, 0.00419937027618289, 0.1107979267835617, 0.01391252689063549, 0.028923513367772102, 0.03286949172616005, 0.005327519960701466, 0.0, 0.0, 0.0, 0.0, 0.0, 0.0, 0.0, 0.0, 0.0, 0.0, 0.0, 0.0, 0.0, 0.0, 0.0, 0.0, 0.0, 0.0, 0.0, 0.0, 0.0, 0.0, 0.0, 0.0, 0.0, 0.0, 0.0, 0.0], [0.20498362183570862, 0.04007229954004288, 0.04229811578989029, 0.02493900991976261, 0.04992290586233139, 0.029371699318289757, 0.03076969087123871, 0.10315564274787903, 0.025490213185548782, 0.07886799424886703, 0.10560186207294464, 0.017352702096104622, 0.08083696663379669, 0.03128695487976074, 0.054510556161403656, 0.052883174270391464, 0.021742792800068855, 0.005913803353905678, 0.0, 0.0, 0.0, 0.0, 0.0, 0.0, 0.0, 0.0, 0.0, 0.0, 0.0, 0.0, 0.0, 0.0, 0.0, 0.0, 0.0, 0.0, 0.0, 0.0, 0.0, 0.0, 0.0, 0.0, 0.0, 0.0, 0.0], [0.24350899457931519, 0.03636488690972328, 0.04196162521839142, 0.02621574141085148, 0.0404457226395607, 0.0996536836028099, 0.0257522314786911, 0.03249462693929672, 0.024459941312670708, 0.035202644765377045, 0.033835362643003464, 0.033476900309324265, 0.04664862900972366, 0.027967926114797592, 0.018640782684087753, 0.11764262616634369, 0.03875286132097244, 0.022786689922213554, 0.05418815091252327, 0.0, 0.0, 0.0, 0.0, 0.0, 0.0, 0.0, 0.0, 0.0, 0.0, 0.0, 0.0, 0.0, 0.0, 0.0, 0.0, 0.0, 0.0, 0.0, 0.0, 0.0, 0.0, 0.0, 0.0, 0.0, 0.0], [0.14194566011428833, 0.03406403586268425, 0.033009883016347885, 0.020238708704710007, 0.03927316889166832, 0.026005538180470467, 0.006318644154816866, 0.040797870606184006, 0.03638002648949623, 0.14631053805351257, 0.016386181116104126, 0.023598460480570793, 0.015842780470848083, 0.04227607697248459, 0.02245822176337242, 0.06867402046918869, 0.027878455817699432, 0.03722240775823593, 0.08677614480257034, 0.13454318046569824, 0.0, 0.0, 0.0, 0.0, 0.0, 0.0, 0.0, 0.0, 0.0, 0.0, 0.0, 0.0, 0.0, 0.0, 0.0, 0.0, 0.0, 0.0, 0.0, 0.0, 0.0, 0.0, 0.0, 0.0, 0.0], [0.21778137981891632, 0.026903672143816948, 0.02364719659090042, 0.007102566305547953, 0.03517002984881401, 0.01399853266775608, 0.010392273776233196, 0.09431245177984238, 0.002962285652756691, 0.03783803805708885, 0.03792329505085945, 0.0037339760456234217, 0.06506100296974182, 0.003636459819972515, 0.014758046716451645, 0.12028621137142181, 0.004900882951915264, 0.008107366040349007, 0.017449846491217613, 0.24998733401298523, 0.004047103691846132, 0.0, 0.0, 0.0, 0.0, 0.0, 0.0, 0.0, 0.0, 0.0, 0.0, 0.0, 0.0, 0.0, 0.0, 0.0, 0.0, 0.0, 0.0, 0.0, 0.0, 0.0, 0.0, 0.0, 0.0], [0.12187223136425018, 0.07663217186927795, 0.03023197501897812, 0.016371838748455048, 0.05268789455294609, 0.02140215039253235, 0.023403871804475784, 0.10649684816598892, 0.018582478165626526, 0.03509165346622467, 0.08394147455692291, 0.01739329658448696, 0.041830550879240036, 0.021453872323036194, 0.0333310067653656, 0.050274256616830826, 0.020740872249007225, 0.04090357944369316, 0.030540956184267998, 0.09200654923915863, 0.028245702385902405, 0.03656470403075218, 0.0, 0.0, 0.0, 0.0, 0.0, 0.0, 0.0, 0.0, 0.0, 0.0, 0.0, 0.0, 0.0, 0.0, 0.0, 0.0, 0.0, 0.0, 0.0, 0.0, 0.0, 0.0, 0.0], [0.21260197460651398, 0.020284101366996765, 0.05000370368361473, 0.015904180705547333, 0.0572250559926033, 0.022857315838336945, 0.04604588821530342, 0.035308461636304855, 0.011784469708800316, 0.04140482097864151, 0.016803625971078873, 0.015782058238983154, 0.020208431407809258, 0.01309018861502409, 0.02085423469543457, 0.06297555565834045, 0.018039442598819733, 0.0180529672652483, 0.024445291608572006, 0.17059145867824554, 0.01593977026641369, 0.04152188450098038, 0.048275139182806015, 0.0, 0.0, 0.0, 0.0, 0.0, 0.0, 0.0, 0.0, 0.0, 0.0, 0.0, 0.0, 0.0, 0.0, 0.0, 0.0, 0.0, 0.0, 0.0, 0.0, 0.0, 0.0], [0.26714006066322327, 0.03564618527889252, 0.020422879606485367, 0.006622727029025555, 0.04034102335572243, 0.019110340625047684, 0.014575298875570297, 0.056416336447000504, 0.008403634652495384, 0.015526887960731983, 0.04414670169353485, 0.011055911891162395, 0.040019962936639786, 0.009353081695735455, 0.01935187727212906, 0.07054156810045242, 0.012798824347555637, 0.012832634150981903, 0.014165615662932396, 0.1173698827624321, 0.007312782108783722, 0.09727416932582855, 0.02075115218758583, 0.03882050886750221, 0.0, 0.0, 0.0, 0.0, 0.0, 0.0, 0.0, 0.0, 0.0, 0.0, 0.0, 0.0, 0.0, 0.0, 0.0, 0.0, 0.0, 0.0, 0.0, 0.0, 0.0], [0.1459123194217682, 0.03319379687309265, 0.03138771280646324, 0.009927906095981598, 0.05209651589393616, 0.019840888679027557, 0.019401725381612778, 0.075824074447155, 0.012863252311944962, 0.03345126658678055, 0.01656840369105339, 0.014797177165746689, 0.05908384174108505, 0.015597396530210972, 0.01136922836303711, 0.02185947820544243, 0.019473880529403687, 0.014793706126511097, 0.05341867730021477, 0.09521484375, 0.01620456576347351, 0.062109172344207764, 0.06182853505015373, 0.0665796622633934, 0.03720194101333618, 0.0, 0.0, 0.0, 0.0, 0.0, 0.0, 0.0, 0.0, 0.0, 0.0, 0.0, 0.0, 0.0, 0.0, 0.0, 0.0, 0.0, 0.0, 0.0, 0.0], [0.06265702098608017, 0.01428516861051321, 0.025387216359376907, 0.030092516914010048, 0.021246902644634247, 0.029529908671975136, 0.026446687057614326, 0.014830504544079304, 0.015861937776207924, 0.04331431910395622, 0.02196396328508854, 0.01997012086212635, 0.04342855513095856, 0.018692893907427788, 0.009475354105234146, 0.024197492748498917, 0.023853637278079987, 0.0269087515771389, 0.014060706831514835, 0.1752849966287613, 0.03583676740527153, 0.04792255163192749, 0.03575059771537781, 0.012070518918335438, 0.05927426367998123, 0.1476566195487976, 0.0, 0.0, 0.0, 0.0, 0.0, 0.0, 0.0, 0.0, 0.0, 0.0, 0.0, 0.0, 0.0, 0.0, 0.0, 0.0, 0.0, 0.0, 0.0], [0.09766799956560135, 0.03152172639966011, 0.0266864113509655, 0.03645576164126396, 0.03492369502782822, 0.08635789901018143, 0.013895380310714245, 0.030186735093593597, 0.01940257102251053, 0.03514167666435242, 0.048781562596559525, 0.012551561929285526, 0.04099079966545105, 0.020208818838000298, 0.012653257697820663, 0.007451050449162722, 0.013522975146770477, 0.024078072980046272, 0.04302708059549332, 0.15066799521446228, 0.029252588748931885, 0.018810171633958817, 0.016104498878121376, 0.02854987047612667, 0.02987591177225113, 0.05121560022234917, 0.040018320083618164, 0.0, 0.0, 0.0, 0.0, 0.0, 0.0, 0.0, 0.0, 0.0, 0.0, 0.0, 0.0, 0.0, 0.0, 0.0, 0.0, 0.0, 0.0], [0.09151811897754669, 0.011421117931604385, 0.039799030870199203, 0.011658592149615288, 0.03344332054257393, 0.041076067835092545, 0.009538295678794384, 0.040612541139125824, 0.009114393033087254, 0.04690400883555412, 0.027317607775330544, 0.010844958946108818, 0.024547530338168144, 0.010004607029259205, 0.0080956369638443, 0.008396816439926624, 0.011855490505695343, 0.00818414893001318, 0.041040610522031784, 0.36258113384246826, 0.007537389639765024, 0.009961554780602455, 0.021045757457613945, 0.011855041608214378, 0.030058298259973526, 0.03281192481517792, 0.02886321023106575, 0.009912800043821335, 0.0, 0.0, 0.0, 0.0, 0.0, 0.0, 0.0, 0.0, 0.0, 0.0, 0.0, 0.0, 0.0, 0.0, 0.0, 0.0, 0.0], [0.1094629243016243, 0.02587272971868515, 0.023928716778755188, 0.02004525437951088, 0.03590445965528488, 0.03167985379695892, 0.029145272448658943, 0.11399827897548676, 0.013954708352684975, 0.03480716422200203, 0.0181056410074234, 0.01762225851416588, 0.01900731958448887, 0.015307599678635597, 0.009703018702566624, 0.012407951056957245, 0.02009168453514576, 0.027262559160590172, 0.0656459853053093, 0.02715541049838066, 0.026226604357361794, 0.01894298382103443, 0.04077144339680672, 0.01907329261302948, 0.02157343178987503, 0.0302194245159626, 0.07011833041906357, 0.06031468138098717, 0.04165106639266014, 0.0, 0.0, 0.0, 0.0, 0.0, 0.0, 0.0, 0.0, 0.0, 0.0, 0.0, 0.0, 0.0, 0.0, 0.0, 0.0], [0.11406350880861282, 0.02655624970793724, 0.01995842158794403, 0.008931470103561878, 0.034943222999572754, 0.0168343186378479, 0.009377745911478996, 0.04451330006122589, 0.003772219642996788, 0.028760310262441635, 0.020741142332553864, 0.005650987848639488, 0.06007762625813484, 0.00442497618496418, 0.010821842588484287, 0.04112927243113518, 0.007085720077157021, 0.010434001684188843, 0.026548519730567932, 0.11019262671470642, 0.007190014701336622, 0.05651942640542984, 0.028027091175317764, 0.06370095163583755, 0.034076910465955734, 0.07150978595018387, 0.04093320295214653, 0.014252979308366776, 0.06984366476535797, 0.009128455072641373, 0.0, 0.0, 0.0, 0.0, 0.0, 0.0, 0.0, 0.0, 0.0, 0.0, 0.0, 0.0, 0.0, 0.0, 0.0], [0.14399926364421844, 0.020454606041312218, 0.0426238588988781, 0.011592098511755466, 0.027789440006017685, 0.014342918060719967, 0.02910618484020233, 0.042158231139183044, 0.01366970781236887, 0.020581480115652084, 0.00864106509834528, 0.01240221131592989, 0.019577065482735634, 0.01487973053008318, 0.023319045081734657, 0.02236718311905861, 0.014413881115615368, 0.006065309979021549, 0.0069853016175329685, 0.08859115093946457, 0.014219222590327263, 0.02754119783639908, 0.057073090225458145, 0.02498570643365383, 0.05733303353190422, 0.048089705407619476, 0.018268711864948273, 0.07940169423818588, 0.04377177357673645, 0.02484910748898983, 0.02090701460838318, 0.0, 0.0, 0.0, 0.0, 0.0, 0.0, 0.0, 0.0, 0.0, 0.0, 0.0, 0.0, 0.0, 0.0], [0.0778680369257927, 0.019732866436243057, 0.01990637555718422, 0.01517956331372261, 0.02926989085972309, 0.008963340893387794, 0.011427860707044601, 0.03169626370072365, 0.006965258624404669, 0.040641698986291885, 0.019985215738415718, 0.008789059706032276, 0.03574991971254349, 0.007953665219247341, 0.009612183086574078, 0.014965923503041267, 0.010367295704782009, 0.013545002788305283, 0.013747341930866241, 0.0681854858994484, 0.011837057769298553, 0.019355501979589462, 0.016761230304837227, 0.016301225870847702, 0.06125021353363991, 0.12023526430130005, 0.04739145562052727, 0.023822063580155373, 0.14942997694015503, 0.014121499843895435, 0.047418806701898575, 0.00752344261854887, 0.0, 0.0, 0.0, 0.0, 0.0, 0.0, 0.0, 0.0, 0.0, 0.0, 0.0, 0.0, 0.0], [0.14836618304252625, 0.03627422824501991, 0.023768754675984383, 0.0053084008395671844, 0.032260358333587646, 0.017439447343349457, 0.015090279281139374, 0.044430699199438095, 0.004935788456350565, 0.021151509135961533, 0.023849111050367355, 0.006127793807536364, 0.04430979862809181, 0.0057178521528840065, 0.006861449219286442, 0.016362622380256653, 0.007707132957875729, 0.009109633974730968, 0.0284276083111763, 0.14491386711597443, 0.006351605989038944, 0.03453822806477547, 0.023273015394806862, 0.048037927597761154, 0.03441666066646576, 0.06975369155406952, 0.02756190486252308, 0.01201654877513647, 0.035357311367988586, 0.008575204759836197, 0.039163026958703995, 0.009715797379612923, 0.008826580829918385, 0.0, 0.0, 0.0, 0.0, 0.0, 0.0, 0.0, 0.0, 0.0, 0.0, 0.0, 0.0], [0.11389315128326416, 0.02193148247897625, 0.02644759602844715, 0.0076028816401958466, 0.020530683919787407, 0.029713161289691925, 0.03694961592555046, 0.028757939115166664, 0.007981304079294205, 0.029359174892306328, 0.015349611639976501, 0.018420174717903137, 0.020850980654358864, 0.00851475540548563, 0.010930920019745827, 0.009227694943547249, 0.021279295906424522, 0.009222992695868015, 0.027651095762848854, 0.12458859384059906, 0.010509626939892769, 0.06096193939447403, 0.022033249959349632, 0.030366932973265648, 0.02741120010614395, 0.03459945693612099, 0.03202730417251587, 0.0395297110080719, 0.05353792756795883, 0.017732903361320496, 0.017497550696134567, 0.017771482467651367, 0.012080208398401737, 0.03473735228180885, 0.0, 0.0, 0.0, 0.0, 0.0, 0.0, 0.0, 0.0, 0.0, 0.0, 0.0], [0.13933588564395905, 0.02137124538421631, 0.014541358686983585, 0.005123288370668888, 0.0316350944340229, 0.010921808890998363, 0.012541360221803188, 0.02249285951256752, 0.004774264059960842, 0.024901432916522026, 0.010858353227376938, 0.010577711276710033, 0.025906069204211235, 0.005286505911499262, 0.016752291470766068, 0.04520440846681595, 0.012112235650420189, 0.014714703895151615, 0.0146291833370924, 0.08781158179044724, 0.007287844084203243, 0.07496530562639236, 0.015995563939213753, 0.04392344877123833, 0.041024114936590195, 0.07587806135416031, 0.027924563735723495, 0.015250182710587978, 0.01341343019157648, 0.014532784931361675, 0.027215447276830673, 0.03453551605343819, 0.018207401037216187, 0.0350533202290535, 0.023301271721720695, 0.0, 0.0, 0.0, 0.0, 0.0, 0.0, 0.0, 0.0, 0.0, 0.0], [0.23229128122329712, 0.028136540204286575, 0.015230577439069748, 0.005010516382753849, 0.033061832189559937, 0.015671130269765854, 0.010299675166606903, 0.04088807478547096, 0.006103023421019316, 0.011616142466664314, 0.03099563904106617, 0.007705214433372021, 0.02846691384911537, 0.006384606938809156, 0.013518791645765305, 0.053702834993600845, 0.008499965071678162, 0.008510373532772064, 0.00908032339066267, 0.08981809765100479, 0.004819094203412533, 0.06762246787548065, 0.013251526281237602, 0.024078039452433586, 0.011628457345068455, 0.03135640174150467, 0.011881856247782707, 0.0060017844662070274, 0.03569323569536209, 0.010794947855174541, 0.015947364270687103, 0.016790468245744705, 0.011627933010458946, 0.015418343245983124, 0.02993423491716385, 0.03816225752234459, 0.0, 0.0, 0.0, 0.0, 0.0, 0.0, 0.0, 0.0, 0.0], [0.15631665289402008, 0.03546374663710594, 0.006141084246337414, 0.011185025796294212, 0.022098813205957413, 0.00567125016823411, 0.02199067920446396, 0.03819582611322403, 0.006814708933234215, 0.010123859159648418, 0.020987145602703094, 0.009578603319823742, 0.04354041442275047, 0.0073962584137916565, 0.0065559581853449345, 0.030120279639959335, 0.010643222369253635, 0.015710532665252686, 0.004514801781624556, 0.06798527389764786, 0.009321877732872963, 0.03022197261452675, 0.0130704864859581, 0.03259517624974251, 0.010669535957276821, 0.04833460971713066, 0.039580054581165314, 0.012518809176981449, 0.10171036422252655, 0.011677896603941917, 0.02509189583361149, 0.017859788611531258, 0.01872851699590683, 0.011593004688620567, 0.025481687858700752, 0.048527561128139496, 0.011982589960098267, 0.0, 0.0, 0.0, 0.0, 0.0, 0.0, 0.0, 0.0], [0.13791503012180328, 0.018250474706292152, 0.023690005764365196, 0.004710064735263586, 0.021932709962129593, 0.021135661751031876, 0.008116444572806358, 0.022302525117993355, 0.0034629805013537407, 0.018660079687833786, 0.035378534346818924, 0.004486548714339733, 0.02041134610772133, 0.0038974550552666187, 0.0073465569876134396, 0.022715222090482712, 0.005426730960607529, 0.006394019816070795, 0.017181579023599625, 0.18389949202537537, 0.004464718047529459, 0.02333284541964531, 0.013746527023613453, 0.026592569425702095, 0.02072751894593239, 0.026534847915172577, 0.017504442483186722, 0.007817934267222881, 0.020633282139897346, 0.006715839728713036, 0.03806482255458832, 0.010124296881258488, 0.010904530994594097, 0.014730350114405155, 0.036382563412189484, 0.04627087712287903, 0.0791911855340004, 0.008947308175265789, 0.0, 0.0, 0.0, 0.0, 0.0, 0.0, 0.0], [0.0778898224234581, 0.017236150801181793, 0.024293696507811546, 0.007074693217873573, 0.029699165374040604, 0.012386160902678967, 0.00896149780601263, 0.04951437935233116, 0.0047241272404789925, 0.03139806538820267, 0.007143463008105755, 0.00577589264139533, 0.02417975291609764, 0.005129423923790455, 0.007062861230224371, 0.00742630148306489, 0.0066657415591180325, 0.002733452245593071, 0.008640244603157043, 0.09552332758903503, 0.005483333952724934, 0.02326517552137375, 0.02238311991095543, 0.032532885670661926, 0.04847852513194084, 0.05555073171854019, 0.013714811764657497, 0.046209998428821564, 0.03104771301150322, 0.010341938585042953, 0.02639029547572136, 0.012636803090572357, 0.014027741737663746, 0.01608906127512455, 0.03274279832839966, 0.051977913826704025, 0.06863576173782349, 0.018009228631854057, 0.037023983895778656, 0.0, 0.0, 0.0, 0.0, 0.0, 0.0], [0.13735494017601013, 0.04506126418709755, 0.01875387690961361, 0.018725905567407608, 0.015742475166916847, 0.01088788639754057, 0.02773895673453808, 0.03423316776752472, 0.01175681408494711, 0.00706228893250227, 0.007723497226834297, 0.023114057257771492, 0.008345440961420536, 0.011865760199725628, 0.010370314121246338, 0.01698567159473896, 0.024305634200572968, 0.006748149171471596, 0.010050944052636623, 0.04863749071955681, 0.020875953137874603, 0.011118240654468536, 0.023848120123147964, 0.022037412971258163, 0.017234455794095993, 0.01827165111899376, 0.06260214745998383, 0.021284019574522972, 0.04896963760256767, 0.024765703827142715, 0.02702445536851883, 0.01710524782538414, 0.024592889472842216, 0.029486989602446556, 0.01689298078417778, 0.03096093237400055, 0.026685839518904686, 0.0247446671128273, 0.010590365156531334, 0.025443781167268753, 0.0, 0.0, 0.0, 0.0, 0.0], [0.08024588972330093, 0.017491929233074188, 0.012000392191112041, 0.005639783106744289, 0.02268598973751068, 0.010636154562234879, 0.005598648451268673, 0.026843415573239326, 0.002325444482266903, 0.017430171370506287, 0.011935045942664146, 0.0033349168952554464, 0.03586013615131378, 0.0025803179014474154, 0.00630181422457099, 0.02537103183567524, 0.003981655929237604, 0.005726747680455446, 0.01412990503013134, 0.07024995237588882, 0.003943638410419226, 0.0326673686504364, 0.014841931872069836, 0.03221140801906586, 0.0185457244515419, 0.039219412952661514, 0.020342998206615448, 0.007295230403542519, 0.038094546645879745, 0.004723949823528528, 0.04143769294023514, 0.005978424102067947, 0.013447889126837254, 0.017200911417603493, 0.02788054198026657, 0.05504807084798813, 0.03838752582669258, 0.012797229923307896, 0.06151595711708069, 0.12631243467330933, 0.0077378032729029655, 0.0, 0.0, 0.0, 0.0], [0.1310262829065323, 0.04299616068601608, 0.017605209723114967, 0.017731208354234695, 0.014983205124735832, 0.010188909247517586, 0.02700788713991642, 0.033841945230960846, 0.011428342200815678, 0.006863119080662727, 0.006830495782196522, 0.022214524447917938, 0.007975609041750431, 0.01145260501652956, 0.009637324139475822, 0.016119616106152534, 0.023213760927319527, 0.006503904704004526, 0.009204298257827759, 0.04495735839009285, 0.019675372168421745, 0.010505246929824352, 0.022979427129030228, 0.020103497430682182, 0.016327744349837303, 0.017748979851603508, 0.05899552255868912, 0.020171182230114937, 0.047216858714818954, 0.02282017655670643, 0.025057874619960785, 0.015761248767375946, 0.022207802161574364, 0.027750253677368164, 0.015430322848260403, 0.028061987832188606, 0.024211326614022255, 0.022690849378705025, 0.009629894979298115, 0.023452643305063248, 0.03218412399291992, 0.0252358578145504, 0.0, 0.0, 0.0], [0.07679937779903412, 0.020029457286000252, 0.02089209295809269, 0.005759617779403925, 0.016961870715022087, 0.02300851419568062, 0.0037612798623740673, 0.019326746463775635, 0.0066867913119494915, 0.012659985572099686, 0.0066360849887132645, 0.009079053066670895, 0.014692729339003563, 0.007072307635098696, 0.004554176237434149, 0.01000766921788454, 0.010198281146585941, 0.013291495852172375, 0.009424443356692791, 0.1638970822095871, 0.008431860245764256, 0.01456647552549839, 0.004652141127735376, 0.019209209829568863, 0.016151543706655502, 0.028994955122470856, 0.010718741454184055, 0.011549233458936214, 0.01784600131213665, 0.009035362862050533, 0.010394885204732418, 0.012533904984593391, 0.008107694797217846, 0.019126327708363533, 0.020701497793197632, 0.028735226020216942, 0.045781563967466354, 0.00984399113804102, 0.03379194810986519, 0.09148936718702316, 0.013292386196553707, 0.09557211399078369, 0.014734530821442604, 0.0, 0.0], [0.09279833734035492, 0.015310247428715229, 0.007939648814499378, 0.003916583489626646, 0.02298523485660553, 0.006897833198308945, 0.003331956220790744, 0.040879569947719574, 0.0008653057739138603, 0.00887991301715374, 0.008672552183270454, 0.0015220431378111243, 0.025254657492041588, 0.0009460532455705106, 0.004168285056948662, 0.03924323245882988, 0.0018263759557157755, 0.002564907306805253, 0.005750689189881086, 0.07898776978254318, 0.002291690092533827, 0.027404308319091797, 0.006931682117283344, 0.032182835042476654, 0.01153330784291029, 0.038711510598659515, 0.013181252405047417, 0.00797013845294714, 0.019071094691753387, 0.0027132267132401466, 0.020542437210679054, 0.006030338350683451, 0.011513235978782177, 0.009778614155948162, 0.028317324817180634, 0.055487070232629776, 0.026303507387638092, 0.00895722210407257, 0.03377572074532509, 0.11193365603685379, 0.004420304670929909, 0.12066711485385895, 0.02451200596988201, 0.0030291681177914143, 0.0], [0.0701805055141449, 0.015474233776330948, 0.010332838632166386, 0.005083377473056316, 0.02011696994304657, 0.009378551505506039, 0.004930430557578802, 0.02361820638179779, 0.002057560719549656, 0.015750767663121223, 0.010310855694115162, 0.002905295928940177, 0.031206520274281502, 0.0022393635008484125, 0.005280379205942154, 0.022644897922873497, 0.0034062028862535954, 0.005105398129671812, 0.01188289187848568, 0.059523679316043854, 0.003422928974032402, 0.027941958978772163, 0.012058504857122898, 0.02663508802652359, 0.015270895324647427, 0.03443867713212967, 0.016948724165558815, 0.00610691262409091, 0.031863149255514145, 0.0038659076672047377, 0.03466246649622917, 0.004967397078871727, 0.01127852126955986, 0.014236432500183582, 0.02265346236526966, 0.04459315165877342, 0.03028516098856926, 0.01067417673766613, 0.05054237321019173, 0.10277298092842102, 0.006269071716815233, 0.11154703050851822, 0.031039880588650703, 0.006912426557391882, 0.007583809085190296]], [[1.0, 0.0, 0.0, 0.0, 0.0, 0.0, 0.0, 0.0, 0.0, 0.0, 0.0, 0.0, 0.0, 0.0, 0.0, 0.0, 0.0, 0.0, 0.0, 0.0, 0.0, 0.0, 0.0, 0.0, 0.0, 0.0, 0.0, 0.0, 0.0, 0.0, 0.0, 0.0, 0.0, 0.0, 0.0, 0.0, 0.0, 0.0, 0.0, 0.0, 0.0, 0.0, 0.0, 0.0, 0.0], [0.00041899754432961345, 0.9995810389518738, 0.0, 0.0, 0.0, 0.0, 0.0, 0.0, 0.0, 0.0, 0.0, 0.0, 0.0, 0.0, 0.0, 0.0, 0.0, 0.0, 0.0, 0.0, 0.0, 0.0, 0.0, 0.0, 0.0, 0.0, 0.0, 0.0, 0.0, 0.0, 0.0, 0.0, 0.0, 0.0, 0.0, 0.0, 0.0, 0.0, 0.0, 0.0, 0.0, 0.0, 0.0, 0.0, 0.0], [0.00013394774578046054, 0.009511851705610752, 0.9903541803359985, 0.0, 0.0, 0.0, 0.0, 0.0, 0.0, 0.0, 0.0, 0.0, 0.0, 0.0, 0.0, 0.0, 0.0, 0.0, 0.0, 0.0, 0.0, 0.0, 0.0, 0.0, 0.0, 0.0, 0.0, 0.0, 0.0, 0.0, 0.0, 0.0, 0.0, 0.0, 0.0, 0.0, 0.0, 0.0, 0.0, 0.0, 0.0, 0.0, 0.0, 0.0, 0.0], [0.0008606771007180214, 0.0026100394316017628, 0.015066802501678467, 0.9814624786376953, 0.0, 0.0, 0.0, 0.0, 0.0, 0.0, 0.0, 0.0, 0.0, 0.0, 0.0, 0.0, 0.0, 0.0, 0.0, 0.0, 0.0, 0.0, 0.0, 0.0, 0.0, 0.0, 0.0, 0.0, 0.0, 0.0, 0.0, 0.0, 0.0, 0.0, 0.0, 0.0, 0.0, 0.0, 0.0, 0.0, 0.0, 0.0, 0.0, 0.0, 0.0], [3.7170477298786864e-05, 0.0006769582978449762, 0.0012692955788224936, 0.0002140784781659022, 0.9978025555610657, 0.0, 0.0, 0.0, 0.0, 0.0, 0.0, 0.0, 0.0, 0.0, 0.0, 0.0, 0.0, 0.0, 0.0, 0.0, 0.0, 0.0, 0.0, 0.0, 0.0, 0.0, 0.0, 0.0, 0.0, 0.0, 0.0, 0.0, 0.0, 0.0, 0.0, 0.0, 0.0, 0.0, 0.0, 0.0, 0.0, 0.0, 0.0, 0.0, 0.0], [8.425416308455169e-05, 0.0007904713856987655, 0.003215280594304204, 0.0027085694018751383, 0.0013058256590738893, 0.9918956160545349, 0.0, 0.0, 0.0, 0.0, 0.0, 0.0, 0.0, 0.0, 0.0, 0.0, 0.0, 0.0, 0.0, 0.0, 0.0, 0.0, 0.0, 0.0, 0.0, 0.0, 0.0, 0.0, 0.0, 0.0, 0.0, 0.0, 0.0, 0.0, 0.0, 0.0, 0.0, 0.0, 0.0, 0.0, 0.0, 0.0, 0.0, 0.0, 0.0], [0.00014960527187213302, 0.0018361882539466023, 0.0016375054838135839, 0.0010130597511306405, 0.004209814593195915, 8.004387927940115e-05, 0.9910737872123718, 0.0, 0.0, 0.0, 0.0, 0.0, 0.0, 0.0, 0.0, 0.0, 0.0, 0.0, 0.0, 0.0, 0.0, 0.0, 0.0, 0.0, 0.0, 0.0, 0.0, 0.0, 0.0, 0.0, 0.0, 0.0, 0.0, 0.0, 0.0, 0.0, 0.0, 0.0, 0.0, 0.0, 0.0, 0.0, 0.0, 0.0, 0.0], [0.0002685565559659153, 0.0009259636281058192, 0.0008250501123256981, 0.0006819655536673963, 0.007268869783729315, 0.001351707149296999, 0.00034691664041019976, 0.9883310198783875, 0.0, 0.0, 0.0, 0.0, 0.0, 0.0, 0.0, 0.0, 0.0, 0.0, 0.0, 0.0, 0.0, 0.0, 0.0, 0.0, 0.0, 0.0, 0.0, 0.0, 0.0, 0.0, 0.0, 0.0, 0.0, 0.0, 0.0, 0.0, 0.0, 0.0, 0.0, 0.0, 0.0, 0.0, 0.0, 0.0, 0.0], [0.007326360326260328, 0.007828546687960625, 0.0039318762719631195, 0.0001837400923250243, 6.433094677049667e-05, 0.00010083155211759731, 6.769890751456842e-05, 7.164074486354366e-05, 0.9804249405860901, 0.0, 0.0, 0.0, 0.0, 0.0, 0.0, 0.0, 0.0, 0.0, 0.0, 0.0, 0.0, 0.0, 0.0, 0.0, 0.0, 0.0, 0.0, 0.0, 0.0, 0.0, 0.0, 0.0, 0.0, 0.0, 0.0, 0.0, 0.0, 0.0, 0.0, 0.0, 0.0, 0.0, 0.0, 0.0, 0.0], [3.9175745769171044e-05, 9.137432789430022e-05, 0.0003339905815664679, 6.816777749918401e-05, 7.81233684392646e-05, 0.0009843034204095602, 0.00016941352805588394, 0.0025414626579731703, 4.413313217810355e-05, 0.9956498742103577, 0.0, 0.0, 0.0, 0.0, 0.0, 0.0, 0.0, 0.0, 0.0, 0.0, 0.0, 0.0, 0.0, 0.0, 0.0, 0.0, 0.0, 0.0, 0.0, 0.0, 0.0, 0.0, 0.0, 0.0, 0.0, 0.0, 0.0, 0.0, 0.0, 0.0, 0.0, 0.0, 0.0, 0.0, 0.0], [5.520322247321019e-06, 2.3466527636628598e-05, 9.186482930090278e-05, 8.013441401999444e-05, 3.9392205508193e-05, 8.521603740518913e-05, 2.5735973395057954e-05, 7.120834197849035e-05, 4.276968411431881e-06, 0.00015049768262542784, 0.9994226694107056, 0.0, 0.0, 0.0, 0.0, 0.0, 0.0, 0.0, 0.0, 0.0, 0.0, 0.0, 0.0, 0.0, 0.0, 0.0, 0.0, 0.0, 0.0, 0.0, 0.0, 0.0, 0.0, 0.0, 0.0, 0.0, 0.0, 0.0, 0.0, 0.0, 0.0, 0.0, 0.0, 0.0, 0.0], [0.0010400298051536083, 0.002299361629411578, 0.002392067573964596, 0.0003133228747174144, 0.00013362897152546793, 0.0005168461939319968, 0.001197108649648726, 6.827443576185033e-05, 0.0054443227127194405, 0.0002821741800289601, 4.30573127232492e-05, 0.9862697720527649, 0.0, 0.0, 0.0, 0.0, 0.0, 0.0, 0.0, 0.0, 0.0, 0.0, 0.0, 0.0, 0.0, 0.0, 0.0, 0.0, 0.0, 0.0, 0.0, 0.0, 0.0, 0.0, 0.0, 0.0, 0.0, 0.0, 0.0, 0.0, 0.0, 0.0, 0.0, 0.0, 0.0], [4.6304092393256724e-05, 0.0003248231369070709, 0.0002445945283398032, 0.0015311673050746322, 0.0008613719255663455, 0.0012943876208737493, 6.198465416673571e-05, 2.6642746888683178e-05, 4.8408732254756615e-05, 0.0019855652935802937, 0.0001397188170813024, 0.00011434292537160218, 0.9933207035064697, 0.0, 0.0, 0.0, 0.0, 0.0, 0.0, 0.0, 0.0, 0.0, 0.0, 0.0, 0.0, 0.0, 0.0, 0.0, 0.0, 0.0, 0.0, 0.0, 0.0, 0.0, 0.0, 0.0, 0.0, 0.0, 0.0, 0.0, 0.0, 0.0, 0.0, 0.0, 0.0], [0.0030442422721534967, 0.0018223644001409411, 0.0009289865847676992, 4.8802328819874674e-05, 1.6391144527005963e-05, 2.9095632271491922e-05, 2.5079803890548646e-05, 2.9130282200640067e-05, 0.45632219314575195, 2.4578677766839974e-05, 2.483219032001216e-05, 0.003004396101459861, 1.6773810784798115e-06, 0.5346782803535461, 0.0, 0.0, 0.0, 0.0, 0.0, 0.0, 0.0, 0.0, 0.0, 0.0, 0.0, 0.0, 0.0, 0.0, 0.0, 0.0, 0.0, 0.0, 0.0, 0.0, 0.0, 0.0, 0.0, 0.0, 0.0, 0.0, 0.0, 0.0, 0.0, 0.0, 0.0], [0.00039817875949665904, 0.0010285003809258342, 0.000828111544251442, 0.00023753165442030877, 7.348863437073305e-05, 0.0014350308338180184, 6.765663420083001e-05, 0.00029547428130172193, 0.0001429579424438998, 9.929091902449727e-05, 4.608220478985459e-06, 0.0005140064749866724, 5.035662070440594e-06, 0.00012475518451537937, 0.9947452545166016, 0.0, 0.0, 0.0, 0.0, 0.0, 0.0, 0.0, 0.0, 0.0, 0.0, 0.0, 0.0, 0.0, 0.0, 0.0, 0.0, 0.0, 0.0, 0.0, 0.0, 0.0, 0.0, 0.0, 0.0, 0.0, 0.0, 0.0, 0.0, 0.0, 0.0], [9.074847912415862e-05, 0.0002652599068824202, 0.00011011176684405655, 0.00021231926803011447, 8.290550613310188e-05, 0.001181418658234179, 1.5688701751059853e-05, 0.0016655955696478486, 1.1725322110578418e-05, 0.0020509420428425074, 0.0001384257193421945, 1.557363611937035e-05, 1.1507429917401168e-05, 9.066184247785714e-06, 0.00022655779321212322, 0.9939122200012207, 0.0, 0.0, 0.0, 0.0, 0.0, 0.0, 0.0, 0.0, 0.0, 0.0, 0.0, 0.0, 0.0, 0.0, 0.0, 0.0, 0.0, 0.0, 0.0, 0.0, 0.0, 0.0, 0.0, 0.0, 0.0, 0.0, 0.0, 0.0, 0.0], [0.00044135452480986714, 0.0006528963567689061, 0.0006495671696029603, 9.398072870681062e-05, 4.112709211767651e-05, 0.00017028441652655602, 0.0005066706798970699, 2.8896094590891153e-05, 0.002370184753090143, 0.00010454325092723593, 1.923092895594891e-05, 0.47055909037590027, 1.680403329373803e-05, 0.002284094225615263, 0.0002169812796637416, 3.276942879892886e-05, 0.5218115448951721, 0.0, 0.0, 0.0, 0.0, 0.0, 0.0, 0.0, 0.0, 0.0, 0.0, 0.0, 0.0, 0.0, 0.0, 0.0, 0.0, 0.0, 0.0, 0.0, 0.0, 0.0, 0.0, 0.0, 0.0, 0.0, 0.0, 0.0, 0.0], [0.0005350515129975975, 0.0006631251308135688, 0.00018957485735882074, 0.00011594548413995653, 3.930583625333384e-05, 8.452099427813664e-05, 0.00026859971694648266, 0.0003003481833729893, 0.00012727576540783048, 0.00015363417332991958, 2.1524516341742128e-05, 0.0004102016391698271, 0.0015090368688106537, 0.00011659025039989501, 0.00013773961109109223, 7.389148231595755e-05, 0.0003989942779298872, 0.9948546886444092, 0.0, 0.0, 0.0, 0.0, 0.0, 0.0, 0.0, 0.0, 0.0, 0.0, 0.0, 0.0, 0.0, 0.0, 0.0, 0.0, 0.0, 0.0, 0.0, 0.0, 0.0, 0.0, 0.0, 0.0, 0.0, 0.0, 0.0], [0.0002235247375210747, 0.0002502534771338105, 0.00011739338515326381, 1.8608283426146954e-05, 0.0006291492027230561, 0.0007579219527542591, 3.784089858527295e-05, 0.003385146614164114, 1.791827889974229e-05, 0.00017818294872995466, 3.4344302548561245e-05, 7.747584459139034e-05, 6.471157394116744e-05, 1.5270306903403252e-05, 0.0002935958909802139, 0.0005734387668780982, 7.154404011089355e-05, 0.0001588314480613917, 0.993094801902771, 0.0, 0.0, 0.0, 0.0, 0.0, 0.0, 0.0, 0.0, 0.0, 0.0, 0.0, 0.0, 0.0, 0.0, 0.0, 0.0, 0.0, 0.0, 0.0, 0.0, 0.0, 0.0, 0.0, 0.0, 0.0, 0.0], [0.00030641001649200916, 0.000416800903622061, 0.0004519718640949577, 0.0001574639609316364, 0.0015800745459273458, 0.0022666321601718664, 0.00014483602717518806, 0.002518873196095228, 4.471190186450258e-05, 0.002739465096965432, 0.000434897345257923, 0.00015683105448260903, 2.8505737645900808e-05, 4.0058319427771494e-05, 0.000593667384237051, 0.00011775231541832909, 0.00014039609231986105, 0.00018060373258776963, 0.0009641882497817278, 0.9867159128189087, 0.0, 0.0, 0.0, 0.0, 0.0, 0.0, 0.0, 0.0, 0.0, 0.0, 0.0, 0.0, 0.0, 0.0, 0.0, 0.0, 0.0, 0.0, 0.0, 0.0, 0.0, 0.0, 0.0, 0.0, 0.0], [0.009046891704201698, 0.0007260910933837295, 6.491792009910569e-05, 4.5782704546581954e-05, 3.669531724881381e-05, 3.3896991226356477e-05, 4.13132511312142e-05, 9.000120917335153e-05, 0.016163919121026993, 1.8953802282339893e-05, 3.351381019456312e-05, 0.002181082731112838, 5.34118680661777e-06, 0.018749460577964783, 0.0001789774833014235, 0.0004993692855350673, 0.0024355670902878046, 4.271611032891087e-05, 7.329281652346253e-05, 1.9154360415996052e-05, 0.9495131969451904, 0.0, 0.0, 0.0, 0.0, 0.0, 0.0, 0.0, 0.0, 0.0, 0.0, 0.0, 0.0, 0.0, 0.0, 0.0, 0.0, 0.0, 0.0, 0.0, 0.0, 0.0, 0.0, 0.0, 0.0], [0.00021946335618849844, 0.0011669597588479519, 0.00021983306214679033, 0.0009876317344605923, 0.0003133855352643877, 0.00012072677782271057, 5.631548447126988e-06, 2.4260116333607584e-05, 4.544206603895873e-05, 1.852963032433763e-05, 1.4025742530066054e-05, 1.0155007657886017e-05, 0.00040180329233407974, 4.0526541852159426e-05, 0.00017106776067521423, 9.869076166069135e-06, 9.488590876571834e-06, 0.0003931100363843143, 5.709424840460997e-06, 1.78443115146365e-05, 2.853047044482082e-05, 0.9957762360572815, 0.0, 0.0, 0.0, 0.0, 0.0, 0.0, 0.0, 0.0, 0.0, 0.0, 0.0, 0.0, 0.0, 0.0, 0.0, 0.0, 0.0, 0.0, 0.0, 0.0, 0.0, 0.0, 0.0], [0.00019361020531505346, 0.0008434192277491093, 0.0005215300479903817, 2.5664587155915797e-05, 0.00046233212924562395, 0.0002540161949582398, 1.84712353075156e-05, 0.0001150980606325902, 0.00027288994169794023, 0.00015436687681358308, 1.2149157555541024e-05, 0.0006913751713000238, 5.6959852372528985e-05, 0.000240248060435988, 3.827496766461991e-05, 9.934467379935086e-05, 0.0006488921935670078, 8.011747559066862e-05, 0.0001921883667819202, 2.5529448976158164e-05, 0.00032434804597869515, 0.001087109325453639, 0.9936420321464539, 0.0, 0.0, 0.0, 0.0, 0.0, 0.0, 0.0, 0.0, 0.0, 0.0, 0.0, 0.0, 0.0, 0.0, 0.0, 0.0, 0.0, 0.0, 0.0, 0.0, 0.0, 0.0], [0.001607764745131135, 0.17697341740131378, 0.015483607538044453, 0.0003713880723807961, 0.0003786344896070659, 0.00016452740237582475, 0.0003277383220847696, 0.00016989711730275303, 0.002122964011505246, 3.573103094822727e-05, 6.090150782256387e-05, 0.0004562169488053769, 1.5447822079295292e-05, 0.002254317980259657, 0.001566689694300294, 0.00011843775428133085, 0.0004699892015196383, 5.0373259000480175e-05, 0.00012108061491744593, 6.008972195559181e-05, 0.0008920584223233163, 0.000751846469938755, 0.0002689969551283866, 0.7952779531478882, 0.0, 0.0, 0.0, 0.0, 0.0, 0.0, 0.0, 0.0, 0.0, 0.0, 0.0, 0.0, 0.0, 0.0, 0.0, 0.0, 0.0, 0.0, 0.0, 0.0, 0.0], [0.00039198657032102346, 0.0002142118028132245, 0.0005306120729073882, 1.0745785402832553e-05, 0.00011862379324156791, 4.225778684485704e-05, 0.00021160373580642045, 4.692550646723248e-05, 0.0004481582436710596, 0.00010691286297515035, 3.9354647014988586e-05, 0.00016830858658067882, 0.00017352365830447525, 0.0004524507385212928, 0.00014294112042989582, 0.00011699326569214463, 0.00017526796727906913, 0.0001011996137094684, 4.25139041908551e-05, 2.0371722712297924e-05, 3.8371315895346925e-05, 0.00011344622180331498, 0.0002527929609641433, 6.991026020841673e-05, 0.9959704875946045, 0.0, 0.0, 0.0, 0.0, 0.0, 0.0, 0.0, 0.0, 0.0, 0.0, 0.0, 0.0, 0.0, 0.0, 0.0, 0.0, 0.0, 0.0, 0.0, 0.0], [0.00021530696540139616, 0.00010005840158555657, 0.002380918012931943, 0.001983142225071788, 0.0011120112612843513, 5.563461309066042e-05, 0.0006109265377745032, 0.0002456433139741421, 8.819004870019853e-05, 0.001151039730757475, 0.00010669898620108142, 0.00017554868827573955, 5.7362780353287235e-05, 7.814793207217008e-05, 0.00024573446717113256, 9.594660696166102e-06, 0.00017032393952831626, 2.8972675863769837e-05, 1.4011712664796505e-05, 0.00016692063945811242, 1.2888870514871087e-05, 0.00024495532852597535, 0.0005147012416273355, 4.942114173900336e-05, 0.0005746553069911897, 0.9896071553230286, 0.0, 0.0, 0.0, 0.0, 0.0, 0.0, 0.0, 0.0, 0.0, 0.0, 0.0, 0.0, 0.0, 0.0, 0.0, 0.0, 0.0, 0.0, 0.0], [0.00011423427349654958, 0.0008627420174889266, 0.000773223873693496, 0.0007090758881531656, 0.0007292143418453634, 0.0014031633036211133, 0.00021403632126748562, 0.00017666495114099234, 6.622049113502726e-05, 3.2159430702449754e-05, 0.00045330679859034717, 0.0001200851402245462, 2.2129046556074172e-05, 5.8075194829143584e-05, 0.00012917444109916687, 1.9079705452895723e-05, 0.00011076675582444295, 8.564203199057374e-06, 2.363056773901917e-05, 0.0003379980626050383, 5.211896859691478e-05, 0.00014455695054493845, 0.0001969500444829464, 0.0004510532016865909, 2.0576282622641884e-05, 8.764310041442513e-05, 0.992683470249176, 0.0, 0.0, 0.0, 0.0, 0.0, 0.0, 0.0, 0.0, 0.0, 0.0, 0.0, 0.0, 0.0, 0.0, 0.0, 0.0, 0.0, 0.0], [0.0001979835651582107, 0.00019567960407584906, 0.00022612242901232094, 0.0004194368957541883, 0.000597969745285809, 0.0004517444467637688, 0.00034782904549501836, 0.0002585812471807003, 2.801990558509715e-05, 0.0007220005500130355, 0.00013010468683205545, 0.0011632062960416079, 6.916914571775123e-05, 2.478912938386202e-05, 0.00010386014764662832, 0.00038124938146211207, 0.0011587796034291387, 0.00033144469489343464, 0.00024494543322362006, 0.00012755172792822123, 0.00016098452033475041, 1.9267921743448824e-05, 0.00027174208662472665, 2.0765552108059637e-05, 6.825073796790093e-05, 0.0008764250087551773, 0.0006782166310586035, 0.9907240271568298, 0.0, 0.0, 0.0, 0.0, 0.0, 0.0, 0.0, 0.0, 0.0, 0.0, 0.0, 0.0, 0.0, 0.0, 0.0, 0.0, 0.0], [3.157186074531637e-05, 0.0006791111663915217, 0.0007090714061632752, 0.00024164833303075284, 0.0004120543599128723, 0.000923742598388344, 0.00020848578424192965, 6.639291677856818e-05, 0.00011664829071378335, 8.601934678154066e-05, 0.010591316968202591, 0.0003372908686287701, 2.1898489649174735e-05, 0.00010110724542755634, 0.00010436092270538211, 5.858741496922448e-05, 0.0003251212474424392, 1.585412974236533e-05, 5.03360797665664e-06, 0.0004094898176845163, 1.3119504728820175e-05, 5.313353904057294e-05, 1.1887260370713193e-05, 5.536670869332738e-05, 1.2197693649795838e-05, 8.95265256986022e-05, 0.0022435507271438837, 0.00021041935542598367, 0.9818660616874695, 0.0, 0.0, 0.0, 0.0, 0.0, 0.0, 0.0, 0.0, 0.0, 0.0, 0.0, 0.0, 0.0, 0.0, 0.0, 0.0], [0.0007582920952700078, 0.0012331446632742882, 8.604941103840247e-05, 6.29132628091611e-05, 2.879176099668257e-05, 3.316687434562482e-05, 7.622712291777134e-05, 0.00010868187382584438, 0.006450854241847992, 0.00014789080887567252, 1.0376495993114077e-05, 0.0023889716248959303, 7.88359175203368e-05, 0.007510697469115257, 0.00028743105940520763, 0.000136757327709347, 0.00276029366068542, 0.0007447169627994299, 8.811101724859327e-05, 2.470205072313547e-05, 0.0061888666823506355, 0.00011647049541352317, 0.0001724402973195538, 0.0002621748426463455, 0.0001841976190917194, 4.4321401219349355e-05, 4.855170482187532e-05, 8.903052366804332e-05, 2.6887826606980525e-05, 0.9698501229286194, 0.0, 0.0, 0.0, 0.0, 0.0, 0.0, 0.0, 0.0, 0.0, 0.0, 0.0, 0.0, 0.0, 0.0, 0.0], [0.0002462745178490877, 0.00035919941728934646, 0.00020521917031146586, 9.387754107592627e-05, 8.57733903103508e-05, 5.495216100825928e-05, 4.531839658739045e-05, 1.0722179467848036e-05, 4.867117968387902e-05, 0.00011017618089681491, 0.00010064101661555469, 9.772254998097196e-05, 0.0005496822996065021, 4.362943582236767e-05, 3.945791468140669e-05, 7.140226080082357e-05, 9.814357326831669e-05, 5.700975816580467e-05, 2.4251154172816314e-05, 2.3145676095737144e-06, 5.05694406456314e-05, 0.0001131849130615592, 0.0002906994486693293, 6.889968790346757e-05, 0.0006683259271085262, 0.0002321746142115444, 8.348721166839823e-06, 1.7434649635106325e-05, 1.027312009682646e-05, 0.00013885690714232624, 0.9960569143295288, 0.0, 0.0, 0.0, 0.0, 0.0, 0.0, 0.0, 0.0, 0.0, 0.0, 0.0, 0.0, 0.0, 0.0], [0.00011105897283414379, 3.599153569666669e-05, 4.416053707245737e-05, 0.00022596387134399265, 0.00024025827588047832, 1.734895158733707e-05, 7.20430543879047e-05, 0.00023738990421406925, 8.274748688563704e-05, 0.00010178543016081676, 7.876383278926369e-06, 6.391834904206917e-05, 3.295208443887532e-05, 7.889189873822033e-05, 0.00011627453932305798, 7.139142326195724e-06, 6.571754056494683e-05, 5.396364940679632e-06, 8.334015547006857e-06, 1.9613882614066824e-05, 4.110628287889995e-05, 8.537988469470292e-05, 3.161614222335629e-05, 9.917002898873761e-06, 2.3832390070310794e-05, 0.0018293511820957065, 2.611123454698827e-05, 3.313507841085084e-05, 1.4612711311201565e-05, 0.0008547279867343605, 0.0001674516242928803, 0.995307981967926, 0.0, 0.0, 0.0, 0.0, 0.0, 0.0, 0.0, 0.0, 0.0, 0.0, 0.0, 0.0, 0.0], [0.0022552271839231253, 0.00046477571595460176, 0.00012283753312658519, 0.006661214865744114, 8.828951831674203e-05, 0.000249428121605888, 0.00017555152589920908, 2.6563504434307106e-05, 0.004149144981056452, 0.00020833108283113688, 1.5973380868672393e-05, 0.0007248219917528331, 1.2318095286900643e-05, 0.004929245449602604, 0.00070677709300071, 2.7460248020361178e-05, 0.0008252449333667755, 5.148742638994008e-05, 9.10726248548599e-06, 0.0011701990151777864, 0.0011320507619529963, 0.0003872281522490084, 0.0001000029660644941, 0.0005395390908233821, 0.00012797676026821136, 7.418715540552512e-05, 0.00063518580282107, 5.9918547776760533e-05, 0.0002030233881669119, 0.022641262039542198, 7.111392915248871e-05, 0.0034798523411154747, 0.947674572467804, 0.0, 0.0, 0.0, 0.0, 0.0, 0.0, 0.0, 0.0, 0.0, 0.0, 0.0, 0.0], [0.00010488800762686878, 0.0005403981194831431, 0.00027006055461242795, 2.7819894967251457e-05, 0.0008878519874997437, 0.00025317250401712954, 0.000292140175588429, 0.0009951458778232336, 3.9432081393897533e-05, 6.531627877848223e-05, 5.1983279263367876e-05, 0.0006716338102705777, 1.95241482288111e-05, 3.796430610236712e-05, 0.00031547003891319036, 0.00015760320820845664, 0.0006809104816056788, 0.00017366719839628786, 0.0002327583497390151, 0.0004935197648592293, 0.00015254216850735247, 8.968860493041575e-05, 0.0014225784689188004, 0.00022503049694932997, 0.00015392240311484784, 0.00010696897516027093, 0.005650230683386326, 0.000865322828758508, 0.0002874947094824165, 0.00013868475798517466, 1.4354158338392153e-05, 2.8161950467620045e-05, 0.00011611991794779897, 0.9844375848770142, 0.0, 0.0, 0.0, 0.0, 0.0, 0.0, 0.0, 0.0, 0.0, 0.0, 0.0], [0.0018830401822924614, 0.00023013967438600957, 7.190548785729334e-05, 3.798297029788955e-06, 0.002256364095956087, 4.3679774535121396e-05, 0.00012782953854184598, 0.000636802869848907, 0.000536399835254997, 5.325702204572735e-06, 7.917860784800723e-05, 2.601600317575503e-05, 1.1253263437538408e-05, 0.000561125052627176, 9.103798220166937e-06, 0.00021052244119346142, 2.6891113520832732e-05, 3.242437378503382e-05, 0.0002593936806079, 0.00045266724191606045, 0.0011521001579239964, 1.149354920926271e-05, 4.8182431783061475e-05, 0.00010571499296929687, 8.452803740510717e-05, 0.00010020880290539935, 2.8483727874117903e-05, 2.0415465769474395e-05, 1.8022984704657574e-06, 7.628960884176195e-05, 4.604334753821604e-05, 9.973572014132515e-05, 5.258407327346504e-06, 0.0001948851568158716, 0.9905608296394348, 0.0, 0.0, 0.0, 0.0, 0.0, 0.0, 0.0, 0.0, 0.0, 0.0], [0.0010235332883894444, 0.0664488896727562, 0.005104488227516413, 0.0001195401928271167, 0.00013352865062188357, 5.7568089687265456e-05, 0.00015734825865365565, 7.772533717798069e-05, 0.0008006761781871319, 1.4157549230731092e-05, 3.1307288736570626e-05, 0.00016908312682062387, 7.990757694642525e-06, 0.0008969898335635662, 0.0006496130954474211, 6.729839515173808e-05, 0.0001826556836022064, 2.2628963051829487e-05, 5.8607583923731e-05, 3.4947926906170323e-05, 0.0003940570168197155, 0.0003471671079751104, 0.00012008327757939696, 0.3743157684803009, 4.546247510006651e-05, 1.2396043530316092e-05, 0.00022215470380615443, 9.158819011645392e-06, 7.29645398678258e-05, 0.0005597144481725991, 8.677306323079392e-05, 2.4418626708211377e-05, 0.0005111405625939369, 0.00021586118964478374, 0.0005010566092096269, 0.5465032458305359, 0.0, 0.0, 0.0, 0.0, 0.0, 0.0, 0.0, 0.0, 0.0], [0.0002134545356966555, 0.0020374744199216366, 0.3435426652431488, 0.0004523338284343481, 0.00020299985771998763, 9.612648136680946e-05, 8.297469321405515e-05, 2.95681365969358e-05, 0.00023089780006557703, 7.140600700950017e-06, 0.0001581053511472419, 0.00012963944755028933, 4.860025910602417e-06, 0.0002172869717469439, 0.0001913253654493019, 6.419897999876412e-06, 0.00012113423144910485, 1.13947935460601e-05, 4.187633385299705e-05, 6.071953976061195e-05, 1.5018508747743908e-05, 4.98774170409888e-05, 7.047352846711874e-05, 0.0019346872577443719, 0.00024184522044379264, 0.0001422865898348391, 4.211466512060724e-05, 1.3077869880362414e-05, 4.408484528539702e-05, 4.619924584403634e-05, 6.919941370142624e-05, 2.6224659450235777e-05, 2.777229565253947e-05, 6.311804463621229e-05, 3.417269545025192e-05, 0.002340728184208274, 0.6470007300376892, 0.0, 0.0, 0.0, 0.0, 0.0, 0.0, 0.0, 0.0], [0.0018824927974492311, 0.00029300045571289957, 0.000854798941873014, 0.08321183174848557, 0.00021581065084319562, 0.0006837892578914762, 7.066471880534664e-05, 1.7367709006066434e-05, 0.0002982743317261338, 0.00010299614223185927, 3.8155234506120905e-05, 0.00019788341887760907, 0.0001538163487566635, 0.000319842976750806, 0.00021486372861545533, 1.071835959010059e-05, 0.0002129498461727053, 0.00010632256453391165, 1.0506168109714054e-05, 6.637151818722486e-05, 0.00024557686992920935, 0.0018513943068683147, 3.133664722554386e-05, 0.00022481413907371461, 2.212024264736101e-05, 7.225250010378659e-05, 0.00048171181697398424, 0.0001093216342269443, 3.7893270928179845e-05, 0.0008143755258060992, 0.00019517255714163184, 0.0017614818643778563, 0.01930966041982174, 2.787479206745047e-05, 3.578743780963123e-05, 0.0003217414196114987, 0.001379441237077117, 0.8841155767440796, 0.0, 0.0, 0.0, 0.0, 0.0, 0.0, 0.0], [6.375576049322262e-05, 0.00036426796577870846, 0.0002938358229584992, 0.00018124502093996853, 0.0016704743029549718, 0.00017030387243721634, 0.00010961115913232788, 4.7660367272328585e-05, 7.076180281728739e-06, 0.00012820196570828557, 1.5272005839506164e-05, 1.807104126783088e-05, 0.0022731570061296225, 6.308630418061512e-06, 4.748343053506687e-05, 1.3704184311791323e-05, 1.7780765119823627e-05, 0.00010658472456270829, 4.030004856758751e-05, 2.4462382498313673e-05, 6.586918971152045e-06, 0.0005013989866711199, 0.00014733850548509508, 0.0002747337566688657, 1.5005468412709888e-05, 0.00012251797306817025, 0.00015010329661890864, 0.000580585328862071, 6.995802323217504e-06, 1.3825465430272743e-05, 1.3313978342921473e-05, 0.00019377128046471626, 7.81809285399504e-05, 0.0003240243240725249, 1.1879385056090541e-05, 0.0003310317697469145, 0.00023133157810661942, 0.001015933114103973, 0.9903818964958191, 0.0, 0.0, 0.0, 0.0, 0.0, 0.0], [0.00014064038987271488, 6.42861778032966e-05, 0.0005096765235066414, 0.00023935535864438862, 0.010775122791528702, 0.0026731486432254314, 0.00024090205261018127, 0.002012742217630148, 1.9431663531577215e-05, 0.00018950318917632103, 0.005894217640161514, 3.8034537283238024e-05, 8.475131471641362e-05, 1.6058656910900027e-05, 9.227821283275262e-05, 0.0004044951929245144, 3.4916203730972484e-05, 1.2830702871724498e-05, 0.0009627575636841357, 0.0013339606812223792, 9.45095598581247e-06, 4.9664948164718226e-05, 1.98954512597993e-05, 7.878034921304788e-06, 7.859945617383346e-05, 0.0004117612261325121, 0.0006540651083923876, 0.0002487995370756835, 0.001671165693551302, 8.27630628918996e-06, 0.00013286466128192842, 6.348730676108971e-05, 1.1423416253819596e-05, 8.476828952552751e-05, 0.0002535209059715271, 8.276866537926253e-06, 0.00027687623514793813, 4.000323315267451e-05, 0.0001355638960376382, 0.9700945019721985, 0.0, 0.0, 0.0, 0.0, 0.0], [0.00042879534885287285, 0.0004345935885794461, 2.6847288609133102e-05, 2.109511842718348e-05, 9.747137482918333e-06, 1.1011151400452945e-05, 3.316766378702596e-05, 4.430682020029053e-05, 0.00235971761867404, 5.62249006179627e-05, 4.332069238444092e-06, 0.000802384689450264, 3.557495438144542e-05, 0.0028158389031887054, 0.00010708123591030017, 6.561951158801094e-05, 0.0009486465132795274, 0.00029497145442292094, 3.531571928760968e-05, 1.203039300889941e-05, 0.002470513805747032, 4.754093970404938e-05, 6.561932241311297e-05, 9.763516573002562e-05, 7.025532249826938e-05, 2.1009309421060607e-05, 1.776400677044876e-05, 3.340615876368247e-05, 1.0191482033405919e-05, 0.3981243669986725, 9.861022408585995e-05, 0.002582379849627614, 0.0002471075567882508, 7.021159399300814e-05, 0.0002489340549800545, 0.0001433674624422565, 3.114013816229999e-05, 6.174167356221005e-05, 2.250745819765143e-05, 6.510751973110018e-06, 0.5869817733764648, 0.0, 0.0, 0.0, 0.0], [7.137993088690564e-05, 3.081767135881819e-05, 0.00024183746427297592, 0.00011671888933051378, 0.0053597018122673035, 0.0012794214999303222, 0.00012377473467495292, 0.0009813383221626282, 9.251509254681878e-06, 8.961070125224069e-05, 0.002916875062510371, 1.7824435417423956e-05, 4.0438542782794684e-05, 7.638966053491458e-06, 4.401047044666484e-05, 0.00019666198932100087, 1.6339878129656427e-05, 6.170402230054606e-06, 0.00045061821583658457, 0.0006612784345634282, 4.549335699266521e-06, 2.3178488845587708e-05, 9.38454377319431e-06, 3.770528337554424e-06, 3.7284684367477894e-05, 0.00019952552975155413, 0.0003139746841043234, 0.00011978789552813396, 0.0008125702734105289, 4.102776529180119e-06, 6.360850238706917e-05, 3.1086394301382825e-05, 5.761999545939034e-06, 4.143013575230725e-05, 0.0001227208849741146, 4.0120571611623745e-06, 0.00013159126683603972, 1.943947972904425e-05, 6.694367766613141e-05, 0.48393571376800537, 4.351020379544934e-06, 0.5013836026191711, 0.0, 0.0, 0.0], [5.9840091125806794e-05, 0.0002753030275925994, 0.00031097151804715395, 0.00010869287507375702, 2.4744045731495135e-05, 0.00048582840827293694, 4.873771104030311e-06, 2.32953443628503e-05, 1.5046300177345984e-05, 5.079116817796603e-06, 0.00025779337738640606, 9.487930947216228e-05, 5.368170968722552e-05, 1.3488509466696996e-05, 5.489263912750175e-06, 8.136299584293738e-06, 9.302066609961912e-05, 8.767891995375976e-05, 1.8559776435722597e-05, 1.3423024938674644e-05, 4.5260003389557824e-05, 0.0008486146689392626, 0.0017962406855076551, 4.070944123668596e-05, 2.788680649246089e-05, 2.0253344700904563e-05, 0.019899150356650352, 5.157391933607869e-05, 0.0003419920685701072, 2.9374476071097888e-05, 0.00015679934585932642, 3.571758497855626e-06, 1.5380579498014413e-05, 0.00024274307361338288, 2.2917807655176148e-05, 5.057330054114573e-05, 0.0002348545240238309, 6.998871685937047e-05, 3.4377237170701846e-05, 0.00017865665722638369, 3.517743607517332e-05, 0.0001821654150262475, 0.9737120270729065, 0.0, 0.0], [0.0014919023960828781, 0.00019305499154143035, 6.834554369561374e-05, 4.299773081584135e-06, 1.7627361330596614e-06, 2.9255090794322314e-06, 6.791350187995704e-06, 7.602050573041197e-06, 0.0995749905705452, 4.316568720241776e-06, 7.759434993204195e-06, 0.0004934460739605129, 5.484280904965999e-07, 0.14164383709430695, 1.0859162102860864e-05, 2.531495010771323e-05, 0.0006273585022427142, 8.625315786048304e-06, 2.1466648831847124e-06, 1.1803122106357478e-05, 0.0062843249179422855, 1.5112009350559674e-05, 2.0789480913663283e-05, 0.00013889935507904738, 8.211247768485919e-05, 5.89448245591484e-06, 2.9501588869607076e-06, 1.2435085636752774e-06, 7.4915537879860494e-06, 0.002746662124991417, 2.7195677830604836e-05, 5.334393063094467e-05, 0.0001478350313846022, 5.737151241191896e-06, 0.001634535496123135, 0.00023343933571595699, 0.00018148885283153504, 3.0410172257688828e-05, 3.752002612600336e-06, 3.3095398066507187e-06, 0.004442994948476553, 3.3637227261351654e-06, 1.1693859960359987e-05, 0.7397277355194092, 0.0], [0.0002701047051232308, 0.00024430424673482776, 1.3711606698052492e-05, 1.0546996236371342e-05, 5.334431534720352e-06, 5.688185410690494e-06, 1.969681034097448e-05, 2.511497586965561e-05, 0.0012946658534929156, 3.017026756424457e-05, 2.364204419791349e-06, 0.0004425109946168959, 2.1139454474905506e-05, 0.0015366532607004046, 5.8388555771671236e-05, 4.0283553971676156e-05, 0.0005217425641603768, 0.00017200240108650178, 1.9942490325774997e-05, 6.626441518164938e-06, 0.001445488422177732, 2.5438326701987535e-05, 3.747827940969728e-05, 5.230223905527964e-05, 3.7851918023079634e-05, 1.2947502909810282e-05, 9.40966037887847e-06, 2.01989350898657e-05, 5.271750524116214e-06, 0.2271234393119812, 5.6014432630036026e-05, 0.001500588026829064, 0.00013074059097561985, 3.960639878641814e-05, 0.00014557984832208604, 7.861446647439152e-05, 1.5589099348289892e-05, 3.14159769914113e-05, 1.2622606845980044e-05, 3.7203483316261554e-06, 0.34463930130004883, 3.9166425267467275e-06, 8.63220338942483e-06, 0.0045866831205785275, 0.4152362644672394]], [[1.0, 0.0, 0.0, 0.0, 0.0, 0.0, 0.0, 0.0, 0.0, 0.0, 0.0, 0.0, 0.0, 0.0, 0.0, 0.0, 0.0, 0.0, 0.0, 0.0, 0.0, 0.0, 0.0, 0.0, 0.0, 0.0, 0.0, 0.0, 0.0, 0.0, 0.0, 0.0, 0.0, 0.0, 0.0, 0.0, 0.0, 0.0, 0.0, 0.0, 0.0, 0.0, 0.0, 0.0, 0.0], [0.9424744844436646, 0.057525575160980225, 0.0, 0.0, 0.0, 0.0, 0.0, 0.0, 0.0, 0.0, 0.0, 0.0, 0.0, 0.0, 0.0, 0.0, 0.0, 0.0, 0.0, 0.0, 0.0, 0.0, 0.0, 0.0, 0.0, 0.0, 0.0, 0.0, 0.0, 0.0, 0.0, 0.0, 0.0, 0.0, 0.0, 0.0, 0.0, 0.0, 0.0, 0.0, 0.0, 0.0, 0.0, 0.0, 0.0], [0.8506750464439392, 0.09740966558456421, 0.05191529542207718, 0.0, 0.0, 0.0, 0.0, 0.0, 0.0, 0.0, 0.0, 0.0, 0.0, 0.0, 0.0, 0.0, 0.0, 0.0, 0.0, 0.0, 0.0, 0.0, 0.0, 0.0, 0.0, 0.0, 0.0, 0.0, 0.0, 0.0, 0.0, 0.0, 0.0, 0.0, 0.0, 0.0, 0.0, 0.0, 0.0, 0.0, 0.0, 0.0, 0.0, 0.0, 0.0], [0.7641512751579285, 0.10970380157232285, 0.07497039437294006, 0.051174502819776535, 0.0, 0.0, 0.0, 0.0, 0.0, 0.0, 0.0, 0.0, 0.0, 0.0, 0.0, 0.0, 0.0, 0.0, 0.0, 0.0, 0.0, 0.0, 0.0, 0.0, 0.0, 0.0, 0.0, 0.0, 0.0, 0.0, 0.0, 0.0, 0.0, 0.0, 0.0, 0.0, 0.0, 0.0, 0.0, 0.0, 0.0, 0.0, 0.0, 0.0, 0.0], [0.6748191118240356, 0.08416198939085007, 0.054702505469322205, 0.07581549137830734, 0.11050093919038773, 0.0, 0.0, 0.0, 0.0, 0.0, 0.0, 0.0, 0.0, 0.0, 0.0, 0.0, 0.0, 0.0, 0.0, 0.0, 0.0, 0.0, 0.0, 0.0, 0.0, 0.0, 0.0, 0.0, 0.0, 0.0, 0.0, 0.0, 0.0, 0.0, 0.0, 0.0, 0.0, 0.0, 0.0, 0.0, 0.0, 0.0, 0.0, 0.0, 0.0], [0.6857606172561646, 0.08229535073041916, 0.052021194249391556, 0.08139178901910782, 0.04085883870720863, 0.05767225846648216, 0.0, 0.0, 0.0, 0.0, 0.0, 0.0, 0.0, 0.0, 0.0, 0.0, 0.0, 0.0, 0.0, 0.0, 0.0, 0.0, 0.0, 0.0, 0.0, 0.0, 0.0, 0.0, 0.0, 0.0, 0.0, 0.0, 0.0, 0.0, 0.0, 0.0, 0.0, 0.0, 0.0, 0.0, 0.0, 0.0, 0.0, 0.0, 0.0], [0.6174606084823608, 0.0565345399081707, 0.09111696481704712, 0.06854879856109619, 0.06338420510292053, 0.035969749093055725, 0.06698513776063919, 0.0, 0.0, 0.0, 0.0, 0.0, 0.0, 0.0, 0.0, 0.0, 0.0, 0.0, 0.0, 0.0, 0.0, 0.0, 0.0, 0.0, 0.0, 0.0, 0.0, 0.0, 0.0, 0.0, 0.0, 0.0, 0.0, 0.0, 0.0, 0.0, 0.0, 0.0, 0.0, 0.0, 0.0, 0.0, 0.0, 0.0, 0.0], [0.6047279834747314, 0.060889676213264465, 0.05921148508787155, 0.0955815464258194, 0.04265914112329483, 0.031843435019254684, 0.0426306314766407, 0.06245603784918785, 0.0, 0.0, 0.0, 0.0, 0.0, 0.0, 0.0, 0.0, 0.0, 0.0, 0.0, 0.0, 0.0, 0.0, 0.0, 0.0, 0.0, 0.0, 0.0, 0.0, 0.0, 0.0, 0.0, 0.0, 0.0, 0.0, 0.0, 0.0, 0.0, 0.0, 0.0, 0.0, 0.0, 0.0, 0.0, 0.0, 0.0], [0.4008437991142273, 0.0753358006477356, 0.04270840436220169, 0.011760721914470196, 0.02668055146932602, 0.013492075726389885, 0.02846546284854412, 0.013900594785809517, 0.38681262731552124, 0.0, 0.0, 0.0, 0.0, 0.0, 0.0, 0.0, 0.0, 0.0, 0.0, 0.0, 0.0, 0.0, 0.0, 0.0, 0.0, 0.0, 0.0, 0.0, 0.0, 0.0, 0.0, 0.0, 0.0, 0.0, 0.0, 0.0, 0.0, 0.0, 0.0, 0.0, 0.0, 0.0, 0.0, 0.0, 0.0], [0.49680259823799133, 0.06792879849672318, 0.057920049875974655, 0.07101529836654663, 0.06963261216878891, 0.018800117075443268, 0.06757567822933197, 0.06346483528614044, 0.06656692177057266, 0.020293189212679863, 0.0, 0.0, 0.0, 0.0, 0.0, 0.0, 0.0, 0.0, 0.0, 0.0, 0.0, 0.0, 0.0, 0.0, 0.0, 0.0, 0.0, 0.0, 0.0, 0.0, 0.0, 0.0, 0.0, 0.0, 0.0, 0.0, 0.0, 0.0, 0.0, 0.0, 0.0, 0.0, 0.0, 0.0, 0.0], [0.5176077485084534, 0.08289016783237457, 0.05239769071340561, 0.06842359155416489, 0.04608827829360962, 0.026865942403674126, 0.08181490004062653, 0.032308366149663925, 0.05516277626156807, 0.018549632281064987, 0.017890876159071922, 0.0, 0.0, 0.0, 0.0, 0.0, 0.0, 0.0, 0.0, 0.0, 0.0, 0.0, 0.0, 0.0, 0.0, 0.0, 0.0, 0.0, 0.0, 0.0, 0.0, 0.0, 0.0, 0.0, 0.0, 0.0, 0.0, 0.0, 0.0, 0.0, 0.0, 0.0, 0.0, 0.0, 0.0], [0.3038182258605957, 0.031856436282396317, 0.029157698154449463, 0.011053643189370632, 0.013536771759390831, 0.016536913812160492, 0.015181957744061947, 0.01551173534244299, 0.02629496529698372, 0.01689099334180355, 0.0118866553530097, 0.5082739591598511, 0.0, 0.0, 0.0, 0.0, 0.0, 0.0, 0.0, 0.0, 0.0, 0.0, 0.0, 0.0, 0.0, 0.0, 0.0, 0.0, 0.0, 0.0, 0.0, 0.0, 0.0, 0.0, 0.0, 0.0, 0.0, 0.0, 0.0, 0.0, 0.0, 0.0, 0.0, 0.0, 0.0], [0.35859888792037964, 0.07880906015634537, 0.059028640389442444, 0.04445865750312805, 0.07822325080633163, 0.01967952772974968, 0.05133119598031044, 0.0400984063744545, 0.08024682849645615, 0.02781190723180771, 0.01025061309337616, 0.13610349595546722, 0.015359452925622463, 0.0, 0.0, 0.0, 0.0, 0.0, 0.0, 0.0, 0.0, 0.0, 0.0, 0.0, 0.0, 0.0, 0.0, 0.0, 0.0, 0.0, 0.0, 0.0, 0.0, 0.0, 0.0, 0.0, 0.0, 0.0, 0.0, 0.0, 0.0, 0.0, 0.0, 0.0, 0.0], [0.2511677145957947, 0.046233974397182465, 0.027838554233312607, 0.0070564947091042995, 0.017244163900613785, 0.008997932076454163, 0.017309946939349174, 0.009924152866005898, 0.2527511417865753, 0.01277830172330141, 0.008546070195734501, 0.047919970005750656, 0.006098274141550064, 0.2861333191394806, 0.0, 0.0, 0.0, 0.0, 0.0, 0.0, 0.0, 0.0, 0.0, 0.0, 0.0, 0.0, 0.0, 0.0, 0.0, 0.0, 0.0, 0.0, 0.0, 0.0, 0.0, 0.0, 0.0, 0.0, 0.0, 0.0, 0.0, 0.0, 0.0, 0.0, 0.0], [0.39800775051116943, 0.06433821469545364, 0.049798544496297836, 0.05949562042951584, 0.03182113170623779, 0.030714740976691246, 0.05899551510810852, 0.05480390414595604, 0.03919369727373123, 0.03556448593735695, 0.024916457012295723, 0.04571931064128876, 0.016671661287546158, 0.038943108171224594, 0.05101582780480385, 0.0, 0.0, 0.0, 0.0, 0.0, 0.0, 0.0, 0.0, 0.0, 0.0, 0.0, 0.0, 0.0, 0.0, 0.0, 0.0, 0.0, 0.0, 0.0, 0.0, 0.0, 0.0, 0.0, 0.0, 0.0, 0.0, 0.0, 0.0, 0.0, 0.0], [0.39033833146095276, 0.07549390941858292, 0.03844675049185753, 0.04366777464747429, 0.01782074198126793, 0.012712192721664906, 0.04530725255608559, 0.036030203104019165, 0.0421706922352314, 0.01675303839147091, 0.042248647660017014, 0.05092340707778931, 0.030772089958190918, 0.040720801800489426, 0.056488849222660065, 0.06010528653860092, 0.0, 0.0, 0.0, 0.0, 0.0, 0.0, 0.0, 0.0, 0.0, 0.0, 0.0, 0.0, 0.0, 0.0, 0.0, 0.0, 0.0, 0.0, 0.0, 0.0, 0.0, 0.0, 0.0, 0.0, 0.0, 0.0, 0.0, 0.0, 0.0], [0.1818234920501709, 0.01822477951645851, 0.017477910965681076, 0.006372254341840744, 0.007922587916254997, 0.010062879882752895, 0.008703155443072319, 0.010297475382685661, 0.01535443402826786, 0.011538183316588402, 0.007091039791703224, 0.3139553666114807, 0.006019819527864456, 0.015887582674622536, 0.015422015450894833, 0.013188582845032215, 0.34065839648246765, 0.0, 0.0, 0.0, 0.0, 0.0, 0.0, 0.0, 0.0, 0.0, 0.0, 0.0, 0.0, 0.0, 0.0, 0.0, 0.0, 0.0, 0.0, 0.0, 0.0, 0.0, 0.0, 0.0, 0.0, 0.0, 0.0, 0.0, 0.0], [0.2388143241405487, 0.07684364914894104, 0.04843558371067047, 0.02831975929439068, 0.04297623783349991, 0.01943075656890869, 0.03321721404790878, 0.027472950518131256, 0.01897592470049858, 0.04046749696135521, 0.020095597952604294, 0.0585731603205204, 0.03530571982264519, 0.01969188265502453, 0.0970376655459404, 0.03909806162118912, 0.0619945153594017, 0.09324947744607925, 0.0, 0.0, 0.0, 0.0, 0.0, 0.0, 0.0, 0.0, 0.0, 0.0, 0.0, 0.0, 0.0, 0.0, 0.0, 0.0, 0.0, 0.0, 0.0, 0.0, 0.0, 0.0, 0.0, 0.0, 0.0, 0.0, 0.0], [0.3563612103462219, 0.043545372784137726, 0.054393719881772995, 0.035997211933135986, 0.05560871586203575, 0.03285680711269379, 0.019443849101662636, 0.06911692023277283, 0.020649440586566925, 0.033605318516492844, 0.027618734166026115, 0.03407999873161316, 0.026847463101148605, 0.020337309688329697, 0.022298945114016533, 0.03622738644480705, 0.03464474901556969, 0.022655010223388672, 0.053711891174316406, 0.0, 0.0, 0.0, 0.0, 0.0, 0.0, 0.0, 0.0, 0.0, 0.0, 0.0, 0.0, 0.0, 0.0, 0.0, 0.0, 0.0, 0.0, 0.0, 0.0, 0.0, 0.0, 0.0, 0.0, 0.0, 0.0], [0.3967011272907257, 0.051782380789518356, 0.03996192663908005, 0.06630747020244598, 0.045571859925985336, 0.023983396589756012, 0.019396744668483734, 0.021365966647863388, 0.02025379240512848, 0.03685583546757698, 0.009492037817835808, 0.04181000590324402, 0.014498689211905003, 0.019783727824687958, 0.029715223237872124, 0.046315476298332214, 0.042466405779123306, 0.031475212424993515, 0.02202763594686985, 0.020235054194927216, 0.0, 0.0, 0.0, 0.0, 0.0, 0.0, 0.0, 0.0, 0.0, 0.0, 0.0, 0.0, 0.0, 0.0, 0.0, 0.0, 0.0, 0.0, 0.0, 0.0, 0.0, 0.0, 0.0, 0.0, 0.0], [0.23151390254497528, 0.13258197903633118, 0.060261040925979614, 0.01138359121978283, 0.02426271326839924, 0.014553472399711609, 0.016979554668068886, 0.013957415707409382, 0.022475890815258026, 0.027721285820007324, 0.020607076585292816, 0.04084683954715729, 0.027723213657736778, 0.02455069310963154, 0.03857918456196785, 0.04770103842020035, 0.04407108575105667, 0.07720750570297241, 0.046044718474149704, 0.04773346334695816, 0.02924429625272751, 0.0, 0.0, 0.0, 0.0, 0.0, 0.0, 0.0, 0.0, 0.0, 0.0, 0.0, 0.0, 0.0, 0.0, 0.0, 0.0, 0.0, 0.0, 0.0, 0.0, 0.0, 0.0, 0.0, 0.0], [0.20264168083667755, 0.04893086478114128, 0.03894680365920067, 0.026632269844412804, 0.04094348102807999, 0.016175055876374245, 0.04388014227151871, 0.049273088574409485, 0.037442926317453384, 0.0187479630112648, 0.010438328608870506, 0.030274204909801483, 0.011668818071484566, 0.03915899619460106, 0.08361910283565521, 0.026806537061929703, 0.032375968992710114, 0.0267710592597723, 0.041368693113327026, 0.043805528432130814, 0.09921548515558243, 0.030883021652698517, 0.0, 0.0, 0.0, 0.0, 0.0, 0.0, 0.0, 0.0, 0.0, 0.0, 0.0, 0.0, 0.0, 0.0, 0.0, 0.0, 0.0, 0.0, 0.0, 0.0, 0.0, 0.0, 0.0], [0.22999978065490723, 0.029275357723236084, 0.024823687970638275, 0.030747542157769203, 0.02443975955247879, 0.02507815510034561, 0.019048279151320457, 0.04161752387881279, 0.02524641342461109, 0.055363450199365616, 0.013840350322425365, 0.03206310793757439, 0.02337372489273548, 0.026896364986896515, 0.03765584155917168, 0.028709683567285538, 0.034981414675712585, 0.03826926276087761, 0.05304879695177078, 0.07750779390335083, 0.042357489466667175, 0.0629705861210823, 0.02268565259873867, 0.0, 0.0, 0.0, 0.0, 0.0, 0.0, 0.0, 0.0, 0.0, 0.0, 0.0, 0.0, 0.0, 0.0, 0.0, 0.0, 0.0, 0.0, 0.0, 0.0, 0.0, 0.0], [0.2523007094860077, 0.04309260472655296, 0.04779433086514473, 0.021534807980060577, 0.05364761874079704, 0.014357616193592548, 0.016968203708529472, 0.012399845756590366, 0.02810795232653618, 0.02296457439661026, 0.013637286610901356, 0.03462432697415352, 0.013057563453912735, 0.029753560200333595, 0.025925684720277786, 0.03689542040228844, 0.036465857177972794, 0.02009117230772972, 0.03424844145774841, 0.0322706513106823, 0.07516515254974365, 0.03381401300430298, 0.05794449523091316, 0.04293811321258545, 0.0, 0.0, 0.0, 0.0, 0.0, 0.0, 0.0, 0.0, 0.0, 0.0, 0.0, 0.0, 0.0, 0.0, 0.0, 0.0, 0.0, 0.0, 0.0, 0.0, 0.0], [0.2481558918952942, 0.0418383814394474, 0.03725352883338928, 0.0199141725897789, 0.060311753302812576, 0.013761512003839016, 0.0102370111271739, 0.02711835876107216, 0.02124747633934021, 0.014996417798101902, 0.015956396237015724, 0.019741937518119812, 0.016942840069532394, 0.02278241515159607, 0.021159423515200615, 0.013419799506664276, 0.021131563931703568, 0.01588008925318718, 0.03851577267050743, 0.03509928658604622, 0.06386471539735794, 0.042158935219049454, 0.05595177784562111, 0.06510590761899948, 0.05745465308427811, 0.0, 0.0, 0.0, 0.0, 0.0, 0.0, 0.0, 0.0, 0.0, 0.0, 0.0, 0.0, 0.0, 0.0, 0.0, 0.0, 0.0, 0.0, 0.0, 0.0], [0.245906263589859, 0.03979458659887314, 0.034050025045871735, 0.03872010484337807, 0.02834436297416687, 0.024568282067775726, 0.01368724461644888, 0.019880929961800575, 0.01750793680548668, 0.04131212830543518, 0.02464904822409153, 0.017028067260980606, 0.015493776649236679, 0.01803990639746189, 0.028712527826428413, 0.008945344015955925, 0.01785881817340851, 0.029846547171473503, 0.026982229202985764, 0.06119256839156151, 0.03972143679857254, 0.040086910128593445, 0.046563804149627686, 0.0465921089053154, 0.046358175575733185, 0.02815694361925125, 0.0, 0.0, 0.0, 0.0, 0.0, 0.0, 0.0, 0.0, 0.0, 0.0, 0.0, 0.0, 0.0, 0.0, 0.0, 0.0, 0.0, 0.0, 0.0], [0.24299512803554535, 0.030936656519770622, 0.0372811034321785, 0.02997978962957859, 0.03951823338866234, 0.020689740777015686, 0.02446378394961357, 0.01616225391626358, 0.02351461723446846, 0.015184110961854458, 0.009779499843716621, 0.010400431230664253, 0.008830741047859192, 0.023988911882042885, 0.024419225752353668, 0.03784201666712761, 0.010589984245598316, 0.013367556035518646, 0.016263317316770554, 0.09984055906534195, 0.025632798671722412, 0.027902808040380478, 0.054687801748514175, 0.03170407935976982, 0.02747957780957222, 0.016517242416739464, 0.08002807199954987, 0.0, 0.0, 0.0, 0.0, 0.0, 0.0, 0.0, 0.0, 0.0, 0.0, 0.0, 0.0, 0.0, 0.0, 0.0, 0.0, 0.0, 0.0], [0.2438330203294754, 0.02178153209388256, 0.019058482721447945, 0.026608387008309364, 0.0374055840075016, 0.027086613699793816, 0.005031611770391464, 0.02665606141090393, 0.017429376021027565, 0.02866246923804283, 0.012151007540524006, 0.030223218724131584, 0.014068296179175377, 0.01816091500222683, 0.015435309149324894, 0.015721838921308517, 0.032153062522411346, 0.024972999468445778, 0.047933779656887054, 0.0459899939596653, 0.031192142516374588, 0.03841526433825493, 0.0378812775015831, 0.03472226858139038, 0.035507526248693466, 0.033360376954078674, 0.054608024656772614, 0.02394956536591053, 0.0, 0.0, 0.0, 0.0, 0.0, 0.0, 0.0, 0.0, 0.0, 0.0, 0.0, 0.0, 0.0, 0.0, 0.0, 0.0, 0.0], [0.308788001537323, 0.04082433506846428, 0.010766164399683475, 0.02708974853157997, 0.019433284178376198, 0.03355548158288002, 0.010839524678885937, 0.011495564132928848, 0.011286416091024876, 0.019319286569952965, 0.03442362695932388, 0.010595864616334438, 0.019463717937469482, 0.011577971279621124, 0.014172403141856194, 0.021593408659100533, 0.010569147765636444, 0.018212517723441124, 0.007991207763552666, 0.05231864005327225, 0.019707780331373215, 0.03532518446445465, 0.029598260298371315, 0.028512971475720406, 0.021019775420427322, 0.018976125866174698, 0.03100794181227684, 0.017736950889229774, 0.10379864275455475, 0.0, 0.0, 0.0, 0.0, 0.0, 0.0, 0.0, 0.0, 0.0, 0.0, 0.0, 0.0, 0.0, 0.0, 0.0, 0.0], [0.11270302534103394, 0.013211614452302456, 0.015115486457943916, 0.00806233286857605, 0.018075060099363327, 0.020267317071557045, 0.00912179984152317, 0.02165439911186695, 0.024600306525826454, 0.012220287695527077, 0.0052306754514575005, 0.021195201203227043, 0.0075057633221149445, 0.027240078896284103, 0.016828980296850204, 0.009307202883064747, 0.023774145171046257, 0.009840191341936588, 0.02352038025856018, 0.018096184358000755, 0.11592712998390198, 0.008296084590256214, 0.01503843255341053, 0.01626184582710266, 0.02283715084195137, 0.00797029584646225, 0.010346013121306896, 0.013601289130747318, 0.009923173114657402, 0.3622281551361084, 0.0, 0.0, 0.0, 0.0, 0.0, 0.0, 0.0, 0.0, 0.0, 0.0, 0.0, 0.0, 0.0, 0.0, 0.0], [0.19907140731811523, 0.02335297130048275, 0.027535518631339073, 0.020741188898682594, 0.04944240674376488, 0.0396454744040966, 0.011580479331314564, 0.038496050983667374, 0.012212716042995453, 0.012634865008294582, 0.018897855654358864, 0.011502718552947044, 0.014417962171137333, 0.012855141423642635, 0.01591629348695278, 0.009284354746341705, 0.0119291041046381, 0.014574805274605751, 0.029562367126345634, 0.030921492725610733, 0.0493488684296608, 0.02683301642537117, 0.033169783651828766, 0.02651391364634037, 0.03841781243681908, 0.03666592016816139, 0.03740685060620308, 0.0374491848051548, 0.0418136902153492, 0.04080500081181526, 0.027000796049833298, 0.0, 0.0, 0.0, 0.0, 0.0, 0.0, 0.0, 0.0, 0.0, 0.0, 0.0, 0.0, 0.0, 0.0], [0.1358085423707962, 0.021598197519779205, 0.028431477025151253, 0.021366793662309647, 0.03184175863862038, 0.028310755267739296, 0.01123244408518076, 0.016139335930347443, 0.02343672886490822, 0.025144273415207863, 0.012804524041712284, 0.012000495567917824, 0.020912282168865204, 0.025003282353281975, 0.027692250907421112, 0.017305929213762283, 0.012859727256000042, 0.016066303476691246, 0.03279000148177147, 0.03829026594758034, 0.060804784297943115, 0.036749981343746185, 0.03524734452366829, 0.038578007370233536, 0.039048150181770325, 0.036643389612436295, 0.014530439861118793, 0.021632259711623192, 0.01049100048840046, 0.06733929365873337, 0.03867287188768387, 0.04122710973024368, 0.0, 0.0, 0.0, 0.0, 0.0, 0.0, 0.0, 0.0, 0.0, 0.0, 0.0, 0.0, 0.0], [0.13088135421276093, 0.023744337260723114, 0.020114338025450706, 0.009702392853796482, 0.026952216401696205, 0.01359108928591013, 0.009517534635961056, 0.013271713629364967, 0.027617916464805603, 0.011498374864459038, 0.008886140771210194, 0.016865812242031097, 0.0099719800055027, 0.03131860867142677, 0.014953820034861565, 0.01563660241663456, 0.018755875527858734, 0.008822468109428883, 0.024258309975266457, 0.018599864095449448, 0.06659716367721558, 0.023935357108712196, 0.03021504357457161, 0.03847971186041832, 0.06054786592721939, 0.038860954344272614, 0.0210395697504282, 0.026919953525066376, 0.03078671358525753, 0.06339392066001892, 0.05302293226122856, 0.07499752938747406, 0.016242539510130882, 0.0, 0.0, 0.0, 0.0, 0.0, 0.0, 0.0, 0.0, 0.0, 0.0, 0.0, 0.0], [0.21679523587226868, 0.035239383578300476, 0.014480572193861008, 0.03231681510806084, 0.021502699702978134, 0.01976686716079712, 0.007716964464634657, 0.031425777822732925, 0.011421254836022854, 0.039850782603025436, 0.005697546526789665, 0.013826772570610046, 0.01121773011982441, 0.011028864420950413, 0.014342342503368855, 0.01669159345328808, 0.013800655491650105, 0.009054168127477169, 0.01655157469213009, 0.04516451805830002, 0.01674339361488819, 0.040494974702596664, 0.04600660130381584, 0.039180248975753784, 0.020771795883774757, 0.04241836443543434, 0.02944405935704708, 0.016546526923775673, 0.0433904305100441, 0.01802881248295307, 0.01749301329255104, 0.031954459846019745, 0.023179972544312477, 0.026455217972397804, 0.0, 0.0, 0.0, 0.0, 0.0, 0.0, 0.0, 0.0, 0.0, 0.0, 0.0], [0.12406577169895172, 0.055755194276571274, 0.025793101638555527, 0.007745688781142235, 0.019214723259210587, 0.011872396804392338, 0.009303713217377663, 0.015842614695429802, 0.012728424742817879, 0.012888249941170216, 0.013962884433567524, 0.016627248376607895, 0.015507104806602001, 0.013195212930440903, 0.017325101420283318, 0.02114798128604889, 0.017335496842861176, 0.015824299305677414, 0.024794375523924828, 0.01190302986651659, 0.03651024028658867, 0.023874754086136818, 0.040221378207206726, 0.06286034733057022, 0.10149349272251129, 0.05332259088754654, 0.021689623594284058, 0.01824428327381611, 0.008406992070376873, 0.023202287033200264, 0.04960416629910469, 0.020869318395853043, 0.016017971560359, 0.011101935058832169, 0.04974791780114174, 0.0, 0.0, 0.0, 0.0, 0.0, 0.0, 0.0, 0.0, 0.0, 0.0], [0.14620058238506317, 0.022845571860671043, 0.026446767151355743, 0.010981373488903046, 0.029374778270721436, 0.00800622534006834, 0.009153276681900024, 0.007428871002048254, 0.01503934059292078, 0.01311170868575573, 0.007766205817461014, 0.01823304034769535, 0.007378420792520046, 0.0157916359603405, 0.01389508880674839, 0.02078249119222164, 0.01912832260131836, 0.010947450995445251, 0.019858183339238167, 0.01982308179140091, 0.038777027279138565, 0.018718138337135315, 0.030267026275396347, 0.023234939202666283, 0.06118039786815643, 0.02485356293618679, 0.016523556783795357, 0.020609280094504356, 0.04932991415262222, 0.03723885118961334, 0.042084649205207825, 0.024502897635102272, 0.01675252616405487, 0.026065979152917862, 0.09576274454593658, 0.03190610185265541, 0.0, 0.0, 0.0, 0.0, 0.0, 0.0, 0.0, 0.0, 0.0], [0.1606380045413971, 0.023684140294790268, 0.01803247258067131, 0.016376206651329994, 0.018581310287117958, 0.01903868094086647, 0.009586413390934467, 0.01858830638229847, 0.011510845273733139, 0.020984185859560966, 0.012853908352553844, 0.011422776617109776, 0.013124357908964157, 0.011721924878656864, 0.02092340961098671, 0.02618016116321087, 0.011977287009358406, 0.015335229225456715, 0.02305520698428154, 0.05488526076078415, 0.023963969200849533, 0.030452106148004532, 0.02573036402463913, 0.018683668226003647, 0.029446426779031754, 0.032712265849113464, 0.03414929285645485, 0.01699998416006565, 0.033405568450689316, 0.02288353629410267, 0.04054944962263107, 0.05541176348924637, 0.023051591590046883, 0.014814859256148338, 0.025298791006207466, 0.024306129664182663, 0.029640154913067818, 0.0, 0.0, 0.0, 0.0, 0.0, 0.0, 0.0, 0.0], [0.10104095935821533, 0.014160082675516605, 0.014326643198728561, 0.006848182994872332, 0.030202070251107216, 0.020370816811919212, 0.008348748087882996, 0.016366591677069664, 0.02161240763962269, 0.007972214370965958, 0.006384404841810465, 0.017199330031871796, 0.007434206549078226, 0.024070506915450096, 0.010015818290412426, 0.010775151662528515, 0.018796328455209732, 0.006760980002582073, 0.01890888623893261, 0.021997101604938507, 0.07870175689458847, 0.01569651998579502, 0.023020781576633453, 0.01948772557079792, 0.035598572343587875, 0.02472653239965439, 0.015544654801487923, 0.020667919889092445, 0.01614793762564659, 0.06385185569524765, 0.03696167841553688, 0.0640299841761589, 0.01238678116351366, 0.022064564749598503, 0.09239089488983154, 0.028245406225323677, 0.034179218113422394, 0.012705843895673752, 0.0, 0.0, 0.0, 0.0, 0.0, 0.0, 0.0], [0.1046118438243866, 0.011286329478025436, 0.03126763179898262, 0.015719156712293625, 0.030770326033234596, 0.025768978521227837, 0.01273334864526987, 0.01643812656402588, 0.009440782479941845, 0.009253904223442078, 0.01230577751994133, 0.01180276833474636, 0.013218732550740242, 0.00989004410803318, 0.014187670312821865, 0.02198268100619316, 0.012473375536501408, 0.012591174803674221, 0.015149297192692757, 0.013442687690258026, 0.03198748826980591, 0.014923203736543655, 0.03875083848834038, 0.011751476675271988, 0.02328714355826378, 0.02396075427532196, 0.04425814375281334, 0.026896370574831963, 0.02533552423119545, 0.04783777892589569, 0.026374896988272667, 0.0352657213807106, 0.028262106701731682, 0.04733383655548096, 0.04932747408747673, 0.015582808293402195, 0.06471747159957886, 0.023671075701713562, 0.016141243278980255, 0.0, 0.0, 0.0, 0.0, 0.0, 0.0], [0.16851946711540222, 0.01492899376899004, 0.012266881763935089, 0.024368807673454285, 0.024849949404597282, 0.013901136815547943, 0.009551926515996456, 0.014710399322211742, 0.008124295622110367, 0.012609949335455894, 0.02010856196284294, 0.006319691427052021, 0.008026890456676483, 0.00802998524159193, 0.010527831502258778, 0.009023201651871204, 0.006134845316410065, 0.011149820871651173, 0.025780407711863518, 0.031395554542541504, 0.011996936053037643, 0.0200868621468544, 0.02543223276734352, 0.015801167115569115, 0.014170118607580662, 0.015070568770170212, 0.024898234754800797, 0.01837068237364292, 0.11588501930236816, 0.010776197537779808, 0.01874438114464283, 0.018815798684954643, 0.034422509372234344, 0.05785469338297844, 0.01578686572611332, 0.01969776302576065, 0.014589711092412472, 0.03435492888092995, 0.021820958703756332, 0.05109582096338272, 0.0, 0.0, 0.0, 0.0, 0.0], [0.0626065582036972, 0.006849837023764849, 0.007764838170260191, 0.0040498049929738045, 0.009379075840115547, 0.010509535670280457, 0.0050048306584358215, 0.011581698432564735, 0.013372449204325676, 0.0067084841430187225, 0.002868899144232273, 0.011358947493135929, 0.004017821978777647, 0.014698740094900131, 0.008758090436458588, 0.005263939034193754, 0.01265492383390665, 0.005108986049890518, 0.012844412587583065, 0.010220213793218136, 0.05950690433382988, 0.004229683429002762, 0.00768006918951869, 0.008262915536761284, 0.011873102746903896, 0.004250633995980024, 0.005553850904107094, 0.007298577111214399, 0.00534492963925004, 0.19620031118392944, 0.0088046845048666, 0.014652183279395103, 0.007150947581976652, 0.009458939544856548, 0.05984215810894966, 0.012226436287164688, 0.017336638644337654, 0.008473389782011509, 0.006456108298152685, 0.019182590767741203, 0.300592839717865, 0.0, 0.0, 0.0, 0.0], [0.16016404330730438, 0.013959627598524094, 0.011276877485215664, 0.02277267910540104, 0.022671164944767952, 0.013475574553012848, 0.009057768620550632, 0.013983397744596004, 0.007673780899494886, 0.012087469920516014, 0.019788721576333046, 0.006105129141360521, 0.007617795839905739, 0.007586812600493431, 0.009735696949064732, 0.008597759529948235, 0.005916633643209934, 0.010409238748252392, 0.025350918993353844, 0.02996186725795269, 0.011057432740926743, 0.01866348646581173, 0.023831378668546677, 0.01465949509292841, 0.013324207626283169, 0.014236687682569027, 0.023317689076066017, 0.017476391047239304, 0.10629614442586899, 0.010247981175780296, 0.017493825405836105, 0.017841316759586334, 0.03221600502729416, 0.053660761564970016, 0.014273080974817276, 0.018276521936058998, 0.013364063575863838, 0.03249111399054527, 0.020317193120718002, 0.047069475054740906, 0.01247897744178772, 0.049213819205760956, 0.0, 0.0, 0.0], [0.14256344735622406, 0.018020089715719223, 0.012342468835413456, 0.01456063985824585, 0.0135719059035182, 0.029617857187986374, 0.010259238071739674, 0.019984597340226173, 0.007444259710609913, 0.028254281729459763, 0.011827211827039719, 0.012108915485441685, 0.010022773407399654, 0.00738573307171464, 0.010843772441148758, 0.029479607939720154, 0.012479813769459724, 0.007320838049054146, 0.017530160024762154, 0.05166073516011238, 0.019292043522000313, 0.022072523832321167, 0.030335895717144012, 0.01699056103825569, 0.01863570138812065, 0.027615470811724663, 0.02522292360663414, 0.02300926111638546, 0.04708721116185188, 0.024477701634168625, 0.023507386445999146, 0.023581858724355698, 0.01734304614365101, 0.01742592453956604, 0.025324935093522072, 0.021863430738449097, 0.01840323396027088, 0.021481620147824287, 0.019981976598501205, 0.018719060346484184, 0.03205093741416931, 0.01951039396226406, 0.018788551911711693, 0.0, 0.0], [0.08675700426101685, 0.012617862783372402, 0.007867236621677876, 0.0017505857395008206, 0.005039129871875048, 0.002930635819211602, 0.005103978328406811, 0.003602895885705948, 0.08223389089107513, 0.0047243512235581875, 0.002754096407443285, 0.013400522992014885, 0.0019881385378539562, 0.09279176592826843, 0.0056119514629244804, 0.004192120395600796, 0.014608855359256268, 0.004779021255671978, 0.007228884380310774, 0.008761628530919552, 0.08176221698522568, 0.005170736461877823, 0.004312743432819843, 0.013899529352784157, 0.014864366501569748, 0.005595833528786898, 0.002430011983960867, 0.003453160636126995, 0.008181014098227024, 0.03296291083097458, 0.009765896014869213, 0.007065243553370237, 0.0034123624209314585, 0.0027700630016624928, 0.0791139081120491, 0.020247329026460648, 0.014736587181687355, 0.0029264448676258326, 0.006963213440030813, 0.008205241523683071, 0.0468473955988884, 0.008394728414714336, 0.004088426940143108, 0.2440861165523529, 0.0], [0.04430343583226204, 0.0048000444658100605, 0.005529777612537146, 0.0028218249790370464, 0.0066101751290261745, 0.007901127450168133, 0.0035814286675304174, 0.00891157053411007, 0.00934984628111124, 0.0047611757181584835, 0.0020775662269443274, 0.007923965342342854, 0.002903573215007782, 0.01026289165019989, 0.006138861645013094, 0.003731977194547653, 0.008795691654086113, 0.0036788606084883213, 0.00911202747374773, 0.007797352969646454, 0.04150734096765518, 0.002992535475641489, 0.005246098153293133, 0.005742067936807871, 0.008240845054388046, 0.0029398060869425535, 0.003937248606234789, 0.005116205662488937, 0.00384972314350307, 0.1387435346841812, 0.006141559686511755, 0.010228391736745834, 0.004976244643330574, 0.0065869432874023914, 0.041881248354911804, 0.008468863554298878, 0.012408637441694736, 0.005926997866481543, 0.004442373290657997, 0.013450531288981438, 0.21275277435779572, 0.013981704600155354, 0.007410585414618254, 0.02627858892083168, 0.24575595557689667]], [[1.0, 0.0, 0.0, 0.0, 0.0, 0.0, 0.0, 0.0, 0.0, 0.0, 0.0, 0.0, 0.0, 0.0, 0.0, 0.0, 0.0, 0.0, 0.0, 0.0, 0.0, 0.0, 0.0, 0.0, 0.0, 0.0, 0.0, 0.0, 0.0, 0.0, 0.0, 0.0, 0.0, 0.0, 0.0, 0.0, 0.0, 0.0, 0.0, 0.0, 0.0, 0.0, 0.0, 0.0, 0.0], [0.1077801063656807, 0.8922199010848999, 0.0, 0.0, 0.0, 0.0, 0.0, 0.0, 0.0, 0.0, 0.0, 0.0, 0.0, 0.0, 0.0, 0.0, 0.0, 0.0, 0.0, 0.0, 0.0, 0.0, 0.0, 0.0, 0.0, 0.0, 0.0, 0.0, 0.0, 0.0, 0.0, 0.0, 0.0, 0.0, 0.0, 0.0, 0.0, 0.0, 0.0, 0.0, 0.0, 0.0, 0.0, 0.0, 0.0], [0.011847442016005516, 0.5536139607429504, 0.4345386028289795, 0.0, 0.0, 0.0, 0.0, 0.0, 0.0, 0.0, 0.0, 0.0, 0.0, 0.0, 0.0, 0.0, 0.0, 0.0, 0.0, 0.0, 0.0, 0.0, 0.0, 0.0, 0.0, 0.0, 0.0, 0.0, 0.0, 0.0, 0.0, 0.0, 0.0, 0.0, 0.0, 0.0, 0.0, 0.0, 0.0, 0.0, 0.0, 0.0, 0.0, 0.0, 0.0], [0.06322263926267624, 0.02171914279460907, 0.09427286684513092, 0.820785403251648, 0.0, 0.0, 0.0, 0.0, 0.0, 0.0, 0.0, 0.0, 0.0, 0.0, 0.0, 0.0, 0.0, 0.0, 0.0, 0.0, 0.0, 0.0, 0.0, 0.0, 0.0, 0.0, 0.0, 0.0, 0.0, 0.0, 0.0, 0.0, 0.0, 0.0, 0.0, 0.0, 0.0, 0.0, 0.0, 0.0, 0.0, 0.0, 0.0, 0.0, 0.0], [0.0050957477651536465, 0.0005348753184080124, 0.0010105489054694772, 0.0046575660817325115, 0.9887012243270874, 0.0, 0.0, 0.0, 0.0, 0.0, 0.0, 0.0, 0.0, 0.0, 0.0, 0.0, 0.0, 0.0, 0.0, 0.0, 0.0, 0.0, 0.0, 0.0, 0.0, 0.0, 0.0, 0.0, 0.0, 0.0, 0.0, 0.0, 0.0, 0.0, 0.0, 0.0, 0.0, 0.0, 0.0, 0.0, 0.0, 0.0, 0.0, 0.0, 0.0], [0.005585961043834686, 0.000302401022054255, 0.0007955092005431652, 0.0006780334515497088, 0.028760118409991264, 0.9638779759407043, 0.0, 0.0, 0.0, 0.0, 0.0, 0.0, 0.0, 0.0, 0.0, 0.0, 0.0, 0.0, 0.0, 0.0, 0.0, 0.0, 0.0, 0.0, 0.0, 0.0, 0.0, 0.0, 0.0, 0.0, 0.0, 0.0, 0.0, 0.0, 0.0, 0.0, 0.0, 0.0, 0.0, 0.0, 0.0, 0.0, 0.0, 0.0, 0.0], [0.0002665734791662544, 0.0001539620861876756, 4.344211993156932e-05, 0.00031633899197913706, 0.007582381833344698, 0.008635700680315495, 0.9830015897750854, 0.0, 0.0, 0.0, 0.0, 0.0, 0.0, 0.0, 0.0, 0.0, 0.0, 0.0, 0.0, 0.0, 0.0, 0.0, 0.0, 0.0, 0.0, 0.0, 0.0, 0.0, 0.0, 0.0, 0.0, 0.0, 0.0, 0.0, 0.0, 0.0, 0.0, 0.0, 0.0, 0.0, 0.0, 0.0, 0.0, 0.0, 0.0], [0.0006940618040971458, 4.833178536500782e-05, 4.511346196522936e-05, 2.3520820832345635e-05, 0.0022377674467861652, 0.0012080533197149634, 0.009321363642811775, 0.9864218235015869, 0.0, 0.0, 0.0, 0.0, 0.0, 0.0, 0.0, 0.0, 0.0, 0.0, 0.0, 0.0, 0.0, 0.0, 0.0, 0.0, 0.0, 0.0, 0.0, 0.0, 0.0, 0.0, 0.0, 0.0, 0.0, 0.0, 0.0, 0.0, 0.0, 0.0, 0.0, 0.0, 0.0, 0.0, 0.0, 0.0, 0.0], [0.047719940543174744, 0.00634691771119833, 0.005507633555680513, 0.012776732444763184, 0.012552589178085327, 0.012200547382235527, 0.007760610897094011, 0.01711486466228962, 0.8780202269554138, 0.0, 0.0, 0.0, 0.0, 0.0, 0.0, 0.0, 0.0, 0.0, 0.0, 0.0, 0.0, 0.0, 0.0, 0.0, 0.0, 0.0, 0.0, 0.0, 0.0, 0.0, 0.0, 0.0, 0.0, 0.0, 0.0, 0.0, 0.0, 0.0, 0.0, 0.0, 0.0, 0.0, 0.0, 0.0, 0.0], [9.40378158702515e-05, 7.299120738935017e-07, 1.2948535186296795e-06, 1.0040552069767728e-06, 1.5192427781585138e-05, 3.6095214454689994e-05, 3.1514402508037165e-05, 0.0010808248771354556, 4.236837776261382e-05, 0.9986969828605652, 0.0, 0.0, 0.0, 0.0, 0.0, 0.0, 0.0, 0.0, 0.0, 0.0, 0.0, 0.0, 0.0, 0.0, 0.0, 0.0, 0.0, 0.0, 0.0, 0.0, 0.0, 0.0, 0.0, 0.0, 0.0, 0.0, 0.0, 0.0, 0.0, 0.0, 0.0, 0.0, 0.0, 0.0, 0.0], [0.00029844228993169963, 1.0225190635537729e-05, 2.0773824871866964e-05, 1.0716725228121504e-05, 7.453824218828231e-05, 0.00016580568626523018, 0.0013668595347553492, 0.002583482302725315, 5.024057099944912e-05, 0.32439520955085754, 0.6710236668586731, 0.0, 0.0, 0.0, 0.0, 0.0, 0.0, 0.0, 0.0, 0.0, 0.0, 0.0, 0.0, 0.0, 0.0, 0.0, 0.0, 0.0, 0.0, 0.0, 0.0, 0.0, 0.0, 0.0, 0.0, 0.0, 0.0, 0.0, 0.0, 0.0, 0.0, 0.0, 0.0, 0.0, 0.0], [0.009233678691089153, 0.0007820424507372081, 0.0006810433114878833, 0.0018207865068688989, 0.0043833814561367035, 0.01750912144780159, 0.0033242448698729277, 0.01760742999613285, 0.080996572971344, 0.10943034291267395, 0.014291897416114807, 0.7399394512176514, 0.0, 0.0, 0.0, 0.0, 0.0, 0.0, 0.0, 0.0, 0.0, 0.0, 0.0, 0.0, 0.0, 0.0, 0.0, 0.0, 0.0, 0.0, 0.0, 0.0, 0.0, 0.0, 0.0, 0.0, 0.0, 0.0, 0.0, 0.0, 0.0, 0.0, 0.0, 0.0, 0.0], [0.00023930329189170152, 3.3237884053960443e-06, 2.2832813556306064e-05, 1.0244747500109952e-05, 1.0253632353851572e-05, 4.4964101107325405e-05, 2.3576663807034492e-05, 6.216625479282811e-05, 0.00032929572626017034, 0.00874955765902996, 0.0018788756569847465, 0.0014183486346155405, 0.9872072339057922, 0.0, 0.0, 0.0, 0.0, 0.0, 0.0, 0.0, 0.0, 0.0, 0.0, 0.0, 0.0, 0.0, 0.0, 0.0, 0.0, 0.0, 0.0, 0.0, 0.0, 0.0, 0.0, 0.0, 0.0, 0.0, 0.0, 0.0, 0.0, 0.0, 0.0, 0.0, 0.0], [0.012295343913137913, 0.0005298616597428918, 0.00035605099401436746, 0.0006006713956594467, 0.0005327535909600556, 0.0005349716520868242, 0.00034733524080365896, 0.0008671170799061656, 0.0343230701982975, 0.013273635879158974, 0.007531201001256704, 0.0594179630279541, 0.09377512335777283, 0.7756149172782898, 0.0, 0.0, 0.0, 0.0, 0.0, 0.0, 0.0, 0.0, 0.0, 0.0, 0.0, 0.0, 0.0, 0.0, 0.0, 0.0, 0.0, 0.0, 0.0, 0.0, 0.0, 0.0, 0.0, 0.0, 0.0, 0.0, 0.0, 0.0, 0.0, 0.0, 0.0], [7.85087322583422e-05, 1.1863326108141337e-05, 5.970536676613847e-06, 4.359465037850896e-06, 6.93304127707961e-06, 5.567320476984605e-05, 8.762012839724775e-06, 2.212998879258521e-05, 0.00022238277597352862, 0.0002802500384859741, 0.0008127266191877425, 0.0015677284682169557, 0.000189563914318569, 0.005879410542547703, 0.9908537864685059, 0.0, 0.0, 0.0, 0.0, 0.0, 0.0, 0.0, 0.0, 0.0, 0.0, 0.0, 0.0, 0.0, 0.0, 0.0, 0.0, 0.0, 0.0, 0.0, 0.0, 0.0, 0.0, 0.0, 0.0, 0.0, 0.0, 0.0, 0.0, 0.0, 0.0], [9.475027763983235e-05, 8.603485184721649e-06, 3.7448662624228746e-06, 1.463425149950126e-07, 2.701746780076064e-06, 1.141739085142035e-05, 8.620847438578494e-06, 9.92812420008704e-05, 3.1195199881040026e-06, 0.0002262085472466424, 0.0005323365912772715, 2.980497265525628e-05, 0.0013675675727427006, 5.10800709889736e-05, 0.009570839814841747, 0.9879898428916931, 0.0, 0.0, 0.0, 0.0, 0.0, 0.0, 0.0, 0.0, 0.0, 0.0, 0.0, 0.0, 0.0, 0.0, 0.0, 0.0, 0.0, 0.0, 0.0, 0.0, 0.0, 0.0, 0.0, 0.0, 0.0, 0.0, 0.0, 0.0, 0.0], [0.003944708965718746, 0.00013029127148911357, 9.947711077984422e-05, 0.0001977638603420928, 0.0004265847092028707, 0.0014889845624566078, 0.00028346836916171014, 0.0015356721123680472, 0.004810089245438576, 0.005567715968936682, 0.0010473588481545448, 0.04082655534148216, 0.009189027361571789, 0.09278513491153717, 0.015853000804781914, 0.027940863743424416, 0.7938733696937561, 0.0, 0.0, 0.0, 0.0, 0.0, 0.0, 0.0, 0.0, 0.0, 0.0, 0.0, 0.0, 0.0, 0.0, 0.0, 0.0, 0.0, 0.0, 0.0, 0.0, 0.0, 0.0, 0.0, 0.0, 0.0, 0.0, 0.0, 0.0], [0.000217236447497271, 2.3531203623861074e-05, 7.806298526702449e-06, 4.732958132080967e-06, 1.567120762047125e-06, 8.667434485687409e-06, 1.264625825569965e-05, 6.129281973699108e-05, 0.0001886947575258091, 0.000590130512136966, 0.0004205673758406192, 0.00097465276485309, 0.0004217772220727056, 0.0040667117573320866, 0.0014422440435737371, 0.011960023082792759, 0.022401951253414154, 0.9571956396102905, 0.0, 0.0, 0.0, 0.0, 0.0, 0.0, 0.0, 0.0, 0.0, 0.0, 0.0, 0.0, 0.0, 0.0, 0.0, 0.0, 0.0, 0.0, 0.0, 0.0, 0.0, 0.0, 0.0, 0.0, 0.0, 0.0, 0.0], [0.0007360449526458979, 3.0168239391059615e-06, 1.355473841613275e-06, 1.401467784489796e-06, 3.387708784430288e-05, 3.7522881029872224e-05, 1.0748701242846437e-05, 0.0004302706802263856, 1.6196732758544385e-05, 0.0006748262094333768, 0.0005265922518447042, 0.00012409166083671153, 4.71071653009858e-05, 0.00024138137814588845, 0.0006886586197651923, 0.00038702096207998693, 0.0021441569551825523, 0.0017651681555435061, 0.9921305775642395, 0.0, 0.0, 0.0, 0.0, 0.0, 0.0, 0.0, 0.0, 0.0, 0.0, 0.0, 0.0, 0.0, 0.0, 0.0, 0.0, 0.0, 0.0, 0.0, 0.0, 0.0, 0.0, 0.0, 0.0, 0.0, 0.0], [6.5298086155962665e-06, 4.013174681460896e-09, 4.275882758975058e-09, 9.052371297002537e-09, 5.135171932124649e-07, 3.731759534275625e-06, 1.4824242100530682e-07, 4.6551231207558885e-06, 1.663053161848893e-08, 3.029677600352443e-06, 3.191981159034185e-05, 1.401741371864773e-07, 4.954933956469176e-07, 2.3671073279274424e-07, 7.952925216159201e-07, 0.00018607258971314877, 2.4466733066219604e-06, 1.1982309843006078e-05, 0.0005082334391772747, 0.9992390871047974, 0.0, 0.0, 0.0, 0.0, 0.0, 0.0, 0.0, 0.0, 0.0, 0.0, 0.0, 0.0, 0.0, 0.0, 0.0, 0.0, 0.0, 0.0, 0.0, 0.0, 0.0, 0.0, 0.0, 0.0, 0.0], [0.00941789522767067, 0.00017362405196763575, 0.0001959323708433658, 0.00010542467498453334, 0.00012100100866518915, 0.0001375037682009861, 0.00020822334045078605, 0.0002620881423354149, 0.0009803811553865671, 0.00017425190890207887, 0.0013313944218680263, 0.003277307841926813, 0.004840626381337643, 0.012378792278468609, 0.001825897954404354, 0.024282041937112808, 0.054799698293209076, 0.07428490370512009, 0.07759267091751099, 0.10845337063074112, 0.6251569390296936, 0.0, 0.0, 0.0, 0.0, 0.0, 0.0, 0.0, 0.0, 0.0, 0.0, 0.0, 0.0, 0.0, 0.0, 0.0, 0.0, 0.0, 0.0, 0.0, 0.0, 0.0, 0.0, 0.0, 0.0], [0.00017886343994177878, 2.97178257824271e-06, 1.287921804760117e-06, 1.6619742382317781e-06, 3.153400712108123e-06, 7.608561645611189e-06, 4.4805801735492423e-07, 4.628859642252792e-06, 4.462080141820479e-06, 4.640824954549316e-06, 4.678138338931603e-06, 2.2255213480093516e-05, 0.0006885047187097371, 5.8808673202292994e-05, 5.511297786142677e-05, 0.0013147693825885653, 0.0004210418846923858, 0.000527929631061852, 0.00030591568793170154, 0.0011363036464899778, 0.004935150966048241, 0.9903199076652527, 0.0, 0.0, 0.0, 0.0, 0.0, 0.0, 0.0, 0.0, 0.0, 0.0, 0.0, 0.0, 0.0, 0.0, 0.0, 0.0, 0.0, 0.0, 0.0, 0.0, 0.0, 0.0, 0.0], [0.0009000826976262033, 3.4609056456247345e-05, 6.00008161200094e-06, 1.3317927596290247e-06, 8.382415217056405e-06, 7.950181498017628e-06, 8.352971576641721e-07, 5.017455350753153e-06, 1.1085563528467901e-05, 1.5506182535318658e-05, 2.2449670723290183e-05, 3.2394586014561355e-05, 7.153368642320856e-05, 0.00011106140300398692, 6.552063041453948e-06, 3.557852687663399e-05, 0.00046084230416454375, 0.0006021021399646997, 0.007735591381788254, 0.0047313859686255455, 0.012920131906867027, 0.016999131068587303, 0.9552805423736572, 0.0, 0.0, 0.0, 0.0, 0.0, 0.0, 0.0, 0.0, 0.0, 0.0, 0.0, 0.0, 0.0, 0.0, 0.0, 0.0, 0.0, 0.0, 0.0, 0.0, 0.0, 0.0], [8.094528311630711e-05, 5.4195348639041185e-05, 2.1191046471358277e-05, 8.660350090394786e-07, 5.2414015954127535e-06, 2.811412286973791e-06, 9.647691285863402e-07, 4.259628440195229e-06, 6.819966074544936e-06, 2.637015541040455e-06, 1.038735263136914e-05, 3.117785308859311e-05, 2.574707286839839e-05, 8.829366561258212e-05, 0.0001053006635629572, 0.0003744478744920343, 0.0005833793547935784, 0.000901935389265418, 0.00043120229383930564, 0.004991126712411642, 0.0035159322433173656, 0.01512748934328556, 0.018385032191872597, 0.9552487730979919, 0.0, 0.0, 0.0, 0.0, 0.0, 0.0, 0.0, 0.0, 0.0, 0.0, 0.0, 0.0, 0.0, 0.0, 0.0, 0.0, 0.0, 0.0, 0.0, 0.0, 0.0], [0.00019926734967157245, 5.897874757465615e-07, 4.093083134648623e-07, 5.283640120978816e-07, 4.043735088998801e-07, 6.811446837673429e-07, 2.5019610916388046e-07, 3.190987456491712e-07, 5.018005595047725e-06, 3.059930349991191e-06, 4.776866262545809e-06, 8.106241693894845e-06, 1.787102701200638e-05, 5.904944191570394e-05, 7.0194905674725305e-06, 5.101937131257728e-05, 0.00015419672126881778, 0.00015557781443931162, 0.0004630949115380645, 0.00018736743368208408, 0.0029354484286159277, 0.006998688913881779, 0.004895057994872332, 0.010302477516233921, 0.9735496640205383, 0.0, 0.0, 0.0, 0.0, 0.0, 0.0, 0.0, 0.0, 0.0, 0.0, 0.0, 0.0, 0.0, 0.0, 0.0, 0.0, 0.0, 0.0, 0.0, 0.0], [4.0418952266918495e-05, 7.668172763430903e-09, 6.183981327012589e-08, 4.1099543324207843e-08, 3.1613390660822915e-07, 1.0004030315258206e-07, 6.658504503320728e-08, 4.780262656822742e-07, 4.035153366999111e-08, 6.753223715350032e-06, 8.574267695848903e-08, 1.0514212078760465e-07, 3.2702703265385935e-06, 4.896545533483732e-07, 1.2450317399270716e-06, 9.069827683561016e-06, 2.069307356578065e-06, 8.541695024177898e-06, 4.513617022894323e-05, 8.528171747457236e-05, 8.476253424305469e-05, 0.0010267904726788402, 0.0013347769854590297, 0.000296006997814402, 0.005626782309263945, 0.9914274215698242, 0.0, 0.0, 0.0, 0.0, 0.0, 0.0, 0.0, 0.0, 0.0, 0.0, 0.0, 0.0, 0.0, 0.0, 0.0, 0.0, 0.0, 0.0, 0.0], [0.00037474650889635086, 1.2430105300609284e-07, 2.5229184075215016e-07, 3.052449244478339e-07, 4.772525244334247e-06, 6.075466103538929e-07, 8.50171261390642e-07, 1.1030869245587382e-05, 8.098998449668215e-08, 9.651313348513213e-07, 7.193365831881238e-07, 3.2339411859538814e-07, 1.7605461835046299e-06, 4.446830530469015e-07, 3.298769115644973e-07, 2.4300346922245808e-05, 3.6642684335674858e-06, 3.0616486128565157e-06, 2.6271331080351956e-05, 0.00034267170121893287, 2.0788200345123187e-05, 0.00013409749954007566, 0.000304724439047277, 9.803617285797372e-05, 0.0004919691709801555, 0.004237075801938772, 0.9939160943031311, 0.0, 0.0, 0.0, 0.0, 0.0, 0.0, 0.0, 0.0, 0.0, 0.0, 0.0, 0.0, 0.0, 0.0, 0.0, 0.0, 0.0, 0.0], [0.00023197651898954064, 7.363629492829205e-07, 1.0658058045009966e-06, 4.74980254239199e-07, 2.187790641983156e-06, 2.0741733806062257e-06, 1.3842105772710056e-07, 2.51064557232894e-06, 1.971602756611901e-07, 6.672000381513499e-06, 8.991829076876456e-07, 6.362196813824994e-07, 6.544808570652094e-07, 7.717996481915179e-07, 4.801893283001846e-07, 1.1122317118861247e-05, 5.561930720432429e-06, 3.862753601424629e-06, 6.753716297680512e-05, 0.0002897954254876822, 4.3725034629460424e-05, 0.00015209011326078326, 0.0009337735245935619, 0.00018159403407480568, 8.423302642768249e-05, 0.00993385910987854, 0.008723171427845955, 0.9793182611465454, 0.0, 0.0, 0.0, 0.0, 0.0, 0.0, 0.0, 0.0, 0.0, 0.0, 0.0, 0.0, 0.0, 0.0, 0.0, 0.0, 0.0], [0.0001570491585880518, 3.123183489606163e-07, 2.9319397754079546e-07, 3.137159865218564e-07, 2.196094328610343e-06, 1.4164399999572197e-06, 1.1236401178393862e-06, 1.3091773780615767e-06, 5.921503998251865e-08, 7.97808183961024e-07, 2.8036822641297476e-06, 1.9766922321196034e-07, 3.994017845343478e-07, 2.3048991693030985e-07, 2.264250724692829e-06, 1.6729462004150264e-05, 1.666765001573367e-06, 2.872546701837564e-06, 2.4946923076640815e-05, 0.0002553276135586202, 4.849694960284978e-06, 4.708060805569403e-05, 5.325665551936254e-05, 4.240341513650492e-05, 0.00020874878100585192, 0.0020438095089048147, 0.08346717059612274, 0.0036730028223246336, 0.9099873304367065, 0.0, 0.0, 0.0, 0.0, 0.0, 0.0, 0.0, 0.0, 0.0, 0.0, 0.0, 0.0, 0.0, 0.0, 0.0, 0.0], [0.0010030765552073717, 7.60591501602903e-06, 5.4789093155704904e-06, 4.704087132267887e-06, 1.0818255304911872e-06, 7.246849236253183e-07, 6.057204018361517e-07, 1.5847847407712834e-06, 3.1830979423830286e-05, 1.8444849274601438e-06, 1.372380438624532e-06, 6.841032700322103e-06, 4.996117240807507e-06, 0.00014220463344827294, 2.102596681652358e-06, 2.0461176973185502e-05, 6.875471444800496e-05, 8.339458145201206e-05, 7.060819916659966e-05, 0.00022270050249062479, 0.0013453519204631448, 0.0011953136418014765, 0.0007637694361619651, 0.0034127647522836924, 0.009595134295523167, 0.00824595708400011, 0.004028411116451025, 0.015673460438847542, 0.03710905462503433, 0.916948676109314, 0.0, 0.0, 0.0, 0.0, 0.0, 0.0, 0.0, 0.0, 0.0, 0.0, 0.0, 0.0, 0.0, 0.0, 0.0], [0.000145980782690458, 1.3442473800751031e-07, 3.0679674978273397e-07, 1.2700814977506525e-07, 9.539689216353509e-08, 4.421364963036467e-08, 7.2709593901265634e-09, 2.1630626179103274e-07, 1.7861808032648696e-07, 1.1440980074439722e-07, 4.546695109297616e-08, 1.1406705624494862e-07, 1.784633099077837e-07, 8.568730436309124e-07, 1.0497461744307657e-07, 1.2474935147110955e-06, 1.168269363915897e-06, 6.484996220024186e-07, 9.923046491167042e-06, 2.663560189830605e-05, 2.1481033400050364e-05, 7.19235249562189e-05, 0.00015873333904892206, 0.00014563245349563658, 0.0024261698126792908, 0.0015144945355132222, 0.0007063172524794936, 0.002244285074993968, 0.0045668138191103935, 0.009832347743213177, 0.9781237244606018, 0.0, 0.0, 0.0, 0.0, 0.0, 0.0, 0.0, 0.0, 0.0, 0.0, 0.0, 0.0, 0.0, 0.0], [1.0698774531192612e-05, 5.128419644506721e-08, 7.382487865470466e-08, 9.797515332365947e-08, 4.944878924106888e-07, 6.26973701400857e-07, 2.6257370677740255e-07, 7.361927032434323e-07, 2.5101141432060103e-07, 2.1764835764770396e-06, 5.36374670900841e-07, 8.60690761328442e-07, 2.151581099951727e-07, 1.0358819508837769e-06, 2.489502151092893e-07, 1.3481017958838493e-05, 8.521091331203934e-06, 5.148497166374e-06, 4.645082753995666e-06, 1.683262780716177e-05, 5.8646506658988073e-05, 3.652452505775727e-05, 0.00016485761443618685, 1.194499054690823e-05, 0.0005173989338800311, 0.0024279076606035233, 0.00034773541847243905, 0.0015964055201038718, 0.009022935293614864, 0.013163730502128601, 0.06333823502063751, 0.9092468023300171, 0.0, 0.0, 0.0, 0.0, 0.0, 0.0, 0.0, 0.0, 0.0, 0.0, 0.0, 0.0, 0.0], [0.0012287308927625418, 8.407652785535902e-06, 8.363962479052134e-06, 8.19902925286442e-06, 3.972179456468439e-06, 3.987265699834097e-06, 1.5942531490509282e-06, 4.764992354466813e-06, 4.461920070752967e-06, 8.699218597030267e-06, 3.482305373836425e-06, 4.087223715032451e-06, 4.383186933409888e-06, 1.2878701454610564e-05, 2.7650000902212923e-06, 1.1550846465979703e-05, 2.850841156032402e-05, 1.972619429579936e-05, 8.007957512745634e-05, 0.00016381569730583578, 0.0002766100224107504, 0.0004829969257116318, 0.0005903011769987643, 0.0011750623816624284, 0.003466710215434432, 0.005802730098366737, 0.011907550506293774, 0.016952969133853912, 0.02846650779247284, 0.06137572601437569, 0.11517589539289474, 0.201777383685112, 0.5509371757507324, 0.0, 0.0, 0.0, 0.0, 0.0, 0.0, 0.0, 0.0, 0.0, 0.0, 0.0, 0.0], [3.782525527640246e-05, 6.459626433752419e-08, 1.9273619145110388e-08, 7.975812366112223e-08, 6.700330459352699e-07, 1.2464347776131035e-07, 3.072170784435002e-08, 3.3671460641926387e-07, 9.954005264489751e-08, 4.54151972917316e-07, 3.406016446660942e-08, 1.7256121509490185e-07, 3.3590254133741837e-07, 3.2563309559918707e-07, 1.1636606345177825e-08, 3.2042125894804485e-06, 1.2533489552879473e-06, 1.7663021480984753e-06, 1.1125961464131251e-05, 2.0410294382600114e-05, 8.103424079308752e-06, 1.2881071597803384e-05, 0.00014193193055689335, 1.1411094419599976e-05, 0.00010671326890587807, 0.00010951125295832753, 0.0017927117878571153, 0.0015404949663206935, 0.0012465211329981685, 0.001597587252035737, 0.000892703770659864, 0.009557013399899006, 0.009279942139983177, 0.9736242294311523, 0.0, 0.0, 0.0, 0.0, 0.0, 0.0, 0.0, 0.0, 0.0, 0.0, 0.0], [0.0003539699537213892, 2.644037294885493e-06, 1.7576138588992762e-06, 1.234809019479144e-06, 5.949707883701194e-06, 1.3091880646243226e-06, 3.3621063266764395e-07, 2.4850552904354117e-07, 6.705465693812585e-07, 6.69953053034078e-08, 6.061928843337228e-07, 4.6190581315386225e-07, 2.3573272756038932e-06, 1.4622218031945522e-06, 2.976369444240845e-07, 1.6005789120754343e-06, 2.4609062165836804e-06, 1.9317240003147162e-06, 3.20015060424339e-05, 2.4652015781612135e-05, 3.4296444937353954e-05, 0.00016550840518902987, 7.883973739808425e-05, 0.00018387165619060397, 0.0011651525273919106, 0.0001225537562277168, 0.00117251998744905, 0.0004984785919077694, 0.003501483239233494, 0.0034007488284260035, 0.011839515529572964, 0.005179095081984997, 0.016713878139853477, 0.029127702116966248, 0.9263803958892822, 0.0, 0.0, 0.0, 0.0, 0.0, 0.0, 0.0, 0.0, 0.0, 0.0], [3.0069189961068332e-05, 1.56170608534012e-05, 6.690971986245131e-06, 1.7095595694627264e-07, 6.885819630042533e-07, 2.54649279440855e-07, 6.288038179036448e-08, 2.0498444541772187e-07, 1.2963145934463682e-07, 3.052952735060899e-08, 1.5872238634528912e-07, 1.9949033003285876e-07, 2.0032918257584242e-07, 3.1953825896380295e-07, 1.87252680916572e-07, 1.892744080578268e-06, 1.1954497267652187e-06, 1.296520281357516e-06, 1.0483033747732406e-06, 1.58014809130691e-05, 4.610771611623932e-06, 1.4653280231868848e-05, 2.4678798581589945e-05, 0.0008407171699218452, 7.564346742583439e-05, 4.9533507990418e-05, 0.00011566261673578992, 0.00019051783601753414, 0.00036096121766604483, 0.001268024556338787, 0.007905624806880951, 0.0022214180789887905, 0.004568932112306356, 0.003618723712861538, 0.013614936731755733, 0.9650492072105408, 0.0, 0.0, 0.0, 0.0, 0.0, 0.0, 0.0, 0.0, 0.0], [3.0803228128206683e-06, 5.955789220024599e-06, 1.5312020877900068e-06, 3.7208527370324873e-09, 8.952834917863584e-09, 2.2525450393828805e-09, 2.5211916998557626e-09, 1.1603677130267442e-08, 7.39772132440919e-10, 1.9681957452721832e-10, 3.728291009252871e-09, 2.9863908568295017e-10, 1.0333460753741974e-09, 1.3239503937612085e-09, 5.5408087007435824e-09, 1.63501967520574e-09, 1.3749377192340262e-09, 7.0957697495543925e-09, 1.2907533708528263e-08, 1.0550714080181933e-07, 8.48129033670375e-09, 5.006012315789121e-08, 8.267036122333593e-08, 0.0006208608974702656, 1.2170231400432385e-07, 9.650633501223638e-07, 7.739326406408509e-07, 2.114425342369941e-06, 5.494990773513564e-07, 2.9504280973924324e-06, 3.025283331226092e-05, 3.932693743990967e-06, 1.8083166651194915e-05, 1.6157848222064786e-05, 4.38248498539906e-05, 0.8694982528686523, 0.12975022196769714, 0.0, 0.0, 0.0, 0.0, 0.0, 0.0, 0.0, 0.0], [0.0008313230937346816, 3.119995199085679e-06, 5.17850185133284e-06, 7.527902653237106e-06, 2.7854011932504363e-06, 1.5332284419855569e-06, 3.4911792567982047e-07, 4.621507798674429e-07, 8.223059921874665e-07, 6.039666118340392e-07, 3.127026673155342e-07, 4.380849532026332e-07, 8.78749403909751e-07, 1.162018634204287e-06, 8.332970224955716e-08, 3.622135693603923e-07, 1.7675293975116801e-06, 5.406388368101034e-07, 3.845088940579444e-06, 8.913776582630817e-06, 1.1807641385530587e-05, 2.9925158742116764e-05, 3.0073957532295026e-05, 3.669561192509718e-05, 7.056743197608739e-05, 0.00018073497631121427, 0.0008936895173974335, 0.0006842777947895229, 0.0007575962226837873, 0.00257213250733912, 0.003814591793343425, 0.0066510881297290325, 0.023763025179505348, 0.01201477088034153, 0.025581547990441322, 0.04776867479085922, 0.08119384944438934, 0.7930728793144226, 0.0, 0.0, 0.0, 0.0, 0.0, 0.0, 0.0], [2.3547911496279994e-06, 1.8443312654881083e-08, 1.593699039403873e-08, 6.449044853695796e-09, 6.72657378686381e-08, 4.384273388780002e-09, 2.3344066679698017e-09, 8.968618736560074e-09, 1.8229545650783052e-09, 2.5680726434273993e-09, 4.4213490646427545e-09, 1.71073122334775e-09, 8.912549809281245e-09, 2.8241367022729946e-09, 1.6477276487680825e-10, 3.079777322056998e-09, 7.829345172183366e-09, 1.5259480790064117e-08, 6.769304405906951e-08, 1.2984891384348884e-07, 1.0070932177086434e-07, 7.263926704581536e-08, 2.9972460424687597e-07, 2.8210331493028207e-07, 6.557071969837125e-07, 9.105546610044257e-07, 7.72036310081603e-06, 3.342936543049291e-05, 1.660226871535997e-06, 1.0246221791021526e-05, 7.3464971137582324e-06, 4.1148479795083404e-05, 6.848501652712002e-05, 0.000545363815035671, 0.00018614470900502056, 0.0004055749741382897, 0.0008290232508443296, 0.0021495106630027294, 0.9957093000411987, 0.0, 0.0, 0.0, 0.0, 0.0, 0.0], [6.593234047613805e-06, 1.1568814795026583e-09, 9.587779459252488e-09, 5.965941518581985e-09, 1.0629747038137793e-07, 4.874930681353362e-08, 4.1985749987816234e-08, 9.955727797716918e-09, 1.484223993708511e-10, 1.6202477137738924e-09, 1.698177598541406e-08, 2.0912756248936404e-10, 7.795221135253882e-10, 2.0202642336819565e-10, 2.539743082508039e-09, 2.865920611938577e-09, 7.817808622689881e-10, 1.461291865290093e-09, 4.2060531058041306e-08, 4.6366434958144964e-07, 3.2303826280610792e-09, 1.750166411795817e-08, 3.2270591532324033e-08, 1.9159262620860318e-08, 1.725174172406696e-07, 2.78457969216106e-06, 6.408767512766644e-05, 4.637326583178947e-06, 6.632078293478116e-05, 6.710581033075869e-07, 2.643494099174859e-06, 1.5528117728536017e-05, 5.853789843968116e-06, 8.907243318390101e-05, 3.1195198971545324e-05, 1.757746395014692e-05, 0.00019014209101442248, 0.00018293950415682048, 0.0032748798839747906, 0.9960440397262573, 0.0, 0.0, 0.0, 0.0, 0.0], [0.00033127429196611047, 2.6269908630638383e-06, 2.0840432171098655e-06, 1.2804616744688246e-06, 2.029066763498122e-07, 1.105245175381242e-07, 6.95964743613331e-08, 1.3680497090717836e-07, 1.2426162356860004e-06, 4.800748953925904e-08, 3.683144456090304e-08, 9.581762583366071e-08, 7.470472951354168e-08, 1.079569756257115e-06, 9.166881476119215e-09, 1.8315223826448346e-07, 2.6851560619434167e-07, 2.295211487535198e-07, 2.7587407203100156e-07, 9.61903197094216e-07, 2.5385149911016924e-06, 1.7536654013383668e-06, 1.3717213960262598e-06, 3.816752723651007e-06, 1.0390634997747838e-05, 1.771911593095865e-05, 5.851731657458004e-06, 2.166106423828751e-05, 5.7240729802288115e-05, 0.0008882773108780384, 0.00035072219907306135, 0.0007811612449586391, 0.0016308428021147847, 0.003825403982773423, 0.005443197675049305, 0.006151796784251928, 0.0075309076346457005, 0.048982828855514526, 0.03657233342528343, 0.006501319818198681, 0.8808764815330505, 0.0, 0.0, 0.0, 0.0], [4.131669811613392e-06, 7.659767264911466e-10, 6.602770774577493e-09, 3.956759364598383e-09, 6.797935014901668e-08, 2.9378142585301248e-08, 2.531790954662938e-08, 5.692497584419698e-09, 7.466699480929151e-11, 7.556620884585641e-10, 7.689751058137517e-09, 9.016167673570052e-11, 3.352309541071463e-10, 7.773474919314793e-11, 9.219093266565892e-10, 1.1545130407242254e-09, 2.6789873097676775e-10, 4.82625828190919e-10, 1.3572602597378136e-08, 1.510790497150083e-07, 9.496186059720912e-10, 4.867361180771468e-09, 8.87302586960459e-09, 4.921769214405458e-09, 4.3526370063773356e-08, 7.809134103808901e-07, 1.6966863768175244e-05, 1.2058721949870232e-06, 1.8043794625555165e-05, 1.5901254357686412e-07, 6.195037371981016e-07, 3.6526701023831265e-06, 1.4004577906234772e-06, 2.310891250090208e-05, 8.021758731047157e-06, 4.135667495575035e-06, 4.793765765498392e-05, 4.4463427911978215e-05, 0.0008184828329831362, 0.2756892740726471, 8.257605804828927e-05, 0.7232346534729004, 0.0, 0.0, 0.0], [1.4873137843096629e-05, 7.909401134043037e-09, 3.891614497320006e-08, 4.9926537570854634e-08, 1.0716355092199592e-07, 2.079895722317815e-07, 1.061615018116413e-09, 3.608048970704658e-08, 9.234296105553597e-10, 1.0793294258348851e-08, 5.7939857356359425e-09, 1.3682356359012715e-09, 4.736270042826618e-09, 7.196699902678461e-10, 2.0268349498753224e-10, 9.995330785272927e-09, 3.4953320238173546e-09, 2.4942781173820094e-09, 2.7332971441751397e-08, 1.7279219832744275e-07, 1.5004596676249093e-08, 7.801587287303846e-08, 4.6178840307220526e-07, 4.346709658875625e-09, 1.398078808279024e-07, 9.06686750568042e-07, 0.00021378330711741, 2.1826346710440703e-05, 6.047778879292309e-05, 1.1134944770674338e-06, 3.3909518606378697e-06, 2.3977407181519084e-05, 1.2996603800274897e-05, 0.00016135824262164533, 2.648956433404237e-05, 4.680919573729625e-06, 9.150721598416567e-05, 0.0004343712644185871, 0.019999910145998, 0.03373606503009796, 0.0007393225096166134, 0.09408184140920639, 0.8503696918487549, 0.0, 0.0], [0.0005094269872643054, 6.016816314513562e-06, 3.815402578766225e-06, 2.2023978090146556e-06, 7.070969445521769e-07, 2.996059151882946e-07, 1.106437039766206e-07, 1.4430851535962574e-07, 6.730880386385252e-07, 8.205233825719915e-08, 9.216800123112989e-08, 1.1144781097982559e-07, 3.1457233262699447e-07, 4.577834715746576e-07, 1.056387421982663e-08, 5.301495207277185e-07, 2.247887920248104e-07, 1.0073502210161678e-07, 2.3841742802233057e-07, 1.6478248880957835e-06, 1.6822701809360296e-06, 2.6367044938524486e-06, 1.886998575173493e-06, 3.0677188078698236e-06, 1.4988577277108561e-05, 1.4000527698954102e-05, 8.189028449123725e-06, 2.683294951566495e-05, 4.545411866274662e-05, 0.0001620817929506302, 0.00025523058138787746, 0.0002772996958810836, 0.0007600574172101915, 0.00045819737715646625, 0.0017203198513016105, 0.0023340056650340557, 0.0024892392102628946, 0.010754303075373173, 0.01130863931030035, 0.005390713922679424, 0.08899734169244766, 0.015222872607409954, 0.07575393468141556, 0.7834700345993042, 0.0], [0.00010250484774587676, 1.0265931678077322e-06, 8.217171512114874e-07, 5.04618924423994e-07, 6.99670863468782e-08, 3.525693159645016e-08, 2.0899163288845557e-08, 3.6400326308694275e-08, 2.956221578642726e-07, 9.728417182941484e-09, 6.973210453509182e-09, 1.6141674663572303e-08, 1.2400401594447885e-08, 1.452115014899391e-07, 9.91434712105388e-10, 2.228143891613854e-08, 2.6921698648152415e-08, 1.9961186481509685e-08, 2.4238921980668238e-08, 8.745369228790878e-08, 1.7882352665310464e-07, 1.097311539410839e-07, 8.697179509908892e-08, 1.9727720257378678e-07, 5.036967536398151e-07, 1.0220926469628466e-06, 2.853926162060816e-07, 1.072104510058125e-06, 2.8463305170589592e-06, 3.554398426786065e-05, 1.4272714906837791e-05, 3.049250881304033e-05, 6.252445018617436e-05, 0.0001675487874308601, 0.0002347162808291614, 0.0002255006693303585, 0.0002888738235924393, 0.0017944128485396504, 0.001371007994748652, 0.000290507246972993, 0.03283093869686127, 0.0008920681430026889, 0.002326125977560878, 0.5697854161262512, 0.3895379900932312]], [[1.0, 0.0, 0.0, 0.0, 0.0, 0.0, 0.0, 0.0, 0.0, 0.0, 0.0, 0.0, 0.0, 0.0, 0.0, 0.0, 0.0, 0.0, 0.0, 0.0, 0.0, 0.0, 0.0, 0.0, 0.0, 0.0, 0.0, 0.0, 0.0, 0.0, 0.0, 0.0, 0.0, 0.0, 0.0, 0.0, 0.0, 0.0, 0.0, 0.0, 0.0, 0.0, 0.0, 0.0, 0.0], [0.9238101243972778, 0.07618988305330276, 0.0, 0.0, 0.0, 0.0, 0.0, 0.0, 0.0, 0.0, 0.0, 0.0, 0.0, 0.0, 0.0, 0.0, 0.0, 0.0, 0.0, 0.0, 0.0, 0.0, 0.0, 0.0, 0.0, 0.0, 0.0, 0.0, 0.0, 0.0, 0.0, 0.0, 0.0, 0.0, 0.0, 0.0, 0.0, 0.0, 0.0, 0.0, 0.0, 0.0, 0.0, 0.0, 0.0], [0.3758924901485443, 0.10050597041845322, 0.5236015319824219, 0.0, 0.0, 0.0, 0.0, 0.0, 0.0, 0.0, 0.0, 0.0, 0.0, 0.0, 0.0, 0.0, 0.0, 0.0, 0.0, 0.0, 0.0, 0.0, 0.0, 0.0, 0.0, 0.0, 0.0, 0.0, 0.0, 0.0, 0.0, 0.0, 0.0, 0.0, 0.0, 0.0, 0.0, 0.0, 0.0, 0.0, 0.0, 0.0, 0.0, 0.0, 0.0], [0.41213729977607727, 0.08231587707996368, 0.1808476746082306, 0.32469913363456726, 0.0, 0.0, 0.0, 0.0, 0.0, 0.0, 0.0, 0.0, 0.0, 0.0, 0.0, 0.0, 0.0, 0.0, 0.0, 0.0, 0.0, 0.0, 0.0, 0.0, 0.0, 0.0, 0.0, 0.0, 0.0, 0.0, 0.0, 0.0, 0.0, 0.0, 0.0, 0.0, 0.0, 0.0, 0.0, 0.0, 0.0, 0.0, 0.0, 0.0, 0.0], [0.14052291214466095, 0.005812317598611116, 0.028276408091187477, 0.05733037739992142, 0.7680580019950867, 0.0, 0.0, 0.0, 0.0, 0.0, 0.0, 0.0, 0.0, 0.0, 0.0, 0.0, 0.0, 0.0, 0.0, 0.0, 0.0, 0.0, 0.0, 0.0, 0.0, 0.0, 0.0, 0.0, 0.0, 0.0, 0.0, 0.0, 0.0, 0.0, 0.0, 0.0, 0.0, 0.0, 0.0, 0.0, 0.0, 0.0, 0.0, 0.0, 0.0], [0.019230717793107033, 0.0014746836386620998, 0.001681081485003233, 0.004905843175947666, 0.02590659260749817, 0.946800947189331, 0.0, 0.0, 0.0, 0.0, 0.0, 0.0, 0.0, 0.0, 0.0, 0.0, 0.0, 0.0, 0.0, 0.0, 0.0, 0.0, 0.0, 0.0, 0.0, 0.0, 0.0, 0.0, 0.0, 0.0, 0.0, 0.0, 0.0, 0.0, 0.0, 0.0, 0.0, 0.0, 0.0, 0.0, 0.0, 0.0, 0.0, 0.0, 0.0], [0.0060408757999539375, 0.004658219404518604, 0.0128650376573205, 0.008953885175287724, 0.07021681219339371, 0.12025343626737595, 0.7770117521286011, 0.0, 0.0, 0.0, 0.0, 0.0, 0.0, 0.0, 0.0, 0.0, 0.0, 0.0, 0.0, 0.0, 0.0, 0.0, 0.0, 0.0, 0.0, 0.0, 0.0, 0.0, 0.0, 0.0, 0.0, 0.0, 0.0, 0.0, 0.0, 0.0, 0.0, 0.0, 0.0, 0.0, 0.0, 0.0, 0.0, 0.0, 0.0], [0.016248269006609917, 0.003929380793124437, 0.012836656533181667, 0.005099633242934942, 0.01735418662428856, 0.01559932716190815, 0.1360277235507965, 0.7929048538208008, 0.0, 0.0, 0.0, 0.0, 0.0, 0.0, 0.0, 0.0, 0.0, 0.0, 0.0, 0.0, 0.0, 0.0, 0.0, 0.0, 0.0, 0.0, 0.0, 0.0, 0.0, 0.0, 0.0, 0.0, 0.0, 0.0, 0.0, 0.0, 0.0, 0.0, 0.0, 0.0, 0.0, 0.0, 0.0, 0.0, 0.0], [0.13423290848731995, 0.07014794647693634, 0.038629211485385895, 0.03592691943049431, 0.05720481276512146, 0.06419358402490616, 0.039089810103178024, 0.2145734578371048, 0.3460013270378113, 0.0, 0.0, 0.0, 0.0, 0.0, 0.0, 0.0, 0.0, 0.0, 0.0, 0.0, 0.0, 0.0, 0.0, 0.0, 0.0, 0.0, 0.0, 0.0, 0.0, 0.0, 0.0, 0.0, 0.0, 0.0, 0.0, 0.0, 0.0, 0.0, 0.0, 0.0, 0.0, 0.0, 0.0, 0.0, 0.0], [0.0035958827938884497, 0.0003849505737889558, 0.0004921670770272613, 0.000808879267424345, 0.0025900988839566708, 0.0024076546542346478, 0.00017131847562268376, 0.011153025552630424, 0.002114782575517893, 0.9762810468673706, 0.0, 0.0, 0.0, 0.0, 0.0, 0.0, 0.0, 0.0, 0.0, 0.0, 0.0, 0.0, 0.0, 0.0, 0.0, 0.0, 0.0, 0.0, 0.0, 0.0, 0.0, 0.0, 0.0, 0.0, 0.0, 0.0, 0.0, 0.0, 0.0, 0.0, 0.0, 0.0, 0.0, 0.0, 0.0], [0.00022834500123281032, 4.666248059947975e-05, 8.206455095205456e-05, 7.730667130090296e-05, 0.00012034233805024996, 0.004319246858358383, 0.0038442215882241726, 0.0011964994482696056, 0.00016446918016299605, 0.8530564308166504, 0.13686440885066986, 0.0, 0.0, 0.0, 0.0, 0.0, 0.0, 0.0, 0.0, 0.0, 0.0, 0.0, 0.0, 0.0, 0.0, 0.0, 0.0, 0.0, 0.0, 0.0, 0.0, 0.0, 0.0, 0.0, 0.0, 0.0, 0.0, 0.0, 0.0, 0.0, 0.0, 0.0, 0.0, 0.0, 0.0], [0.06578906625509262, 0.01929076947271824, 0.020492715761065483, 0.021956786513328552, 0.02668667770922184, 0.08618336915969849, 0.031040914356708527, 0.16103027760982513, 0.030162552371621132, 0.21323668956756592, 0.0755448117852211, 0.24858534336090088, 0.0, 0.0, 0.0, 0.0, 0.0, 0.0, 0.0, 0.0, 0.0, 0.0, 0.0, 0.0, 0.0, 0.0, 0.0, 0.0, 0.0, 0.0, 0.0, 0.0, 0.0, 0.0, 0.0, 0.0, 0.0, 0.0, 0.0, 0.0, 0.0, 0.0, 0.0, 0.0, 0.0], [0.009123357944190502, 0.003399313660338521, 0.016818257048726082, 0.004648810718208551, 0.014602272771298885, 0.05833252891898155, 0.07909011095762253, 0.0176636204123497, 0.01608726754784584, 0.15053574740886688, 0.33433905243873596, 0.05438894033432007, 0.24097073078155518, 0.0, 0.0, 0.0, 0.0, 0.0, 0.0, 0.0, 0.0, 0.0, 0.0, 0.0, 0.0, 0.0, 0.0, 0.0, 0.0, 0.0, 0.0, 0.0, 0.0, 0.0, 0.0, 0.0, 0.0, 0.0, 0.0, 0.0, 0.0, 0.0, 0.0, 0.0, 0.0], [0.04253435507416725, 0.016550591215491295, 0.007813411764800549, 0.0068334718234837055, 0.00965096801519394, 0.0091733168810606, 0.0059103090316057205, 0.030093111097812653, 0.053241703659296036, 0.03575890138745308, 0.11968684941530228, 0.07133747637271881, 0.29692208766937256, 0.2944934368133545, 0.0, 0.0, 0.0, 0.0, 0.0, 0.0, 0.0, 0.0, 0.0, 0.0, 0.0, 0.0, 0.0, 0.0, 0.0, 0.0, 0.0, 0.0, 0.0, 0.0, 0.0, 0.0, 0.0, 0.0, 0.0, 0.0, 0.0, 0.0, 0.0, 0.0, 0.0], [0.010158021003007889, 0.004377412144094706, 0.0065031819976866245, 0.003546682884916663, 0.006157048046588898, 0.0051498133689165115, 0.004158243536949158, 0.014994005672633648, 0.017724106088280678, 0.008609633892774582, 0.013557267375290394, 0.027689799666404724, 0.02777610719203949, 0.08518604934215546, 0.7644126415252686, 0.0, 0.0, 0.0, 0.0, 0.0, 0.0, 0.0, 0.0, 0.0, 0.0, 0.0, 0.0, 0.0, 0.0, 0.0, 0.0, 0.0, 0.0, 0.0, 0.0, 0.0, 0.0, 0.0, 0.0, 0.0, 0.0, 0.0, 0.0, 0.0, 0.0], [0.0005760943749919534, 3.758488310268149e-05, 3.1005773053038865e-05, 2.8090942578273825e-05, 0.00011757229367503896, 0.0010626498842611909, 0.0008489790488965809, 0.0023644310422241688, 0.0003171181015204638, 0.0005040709511376917, 0.0005438971566036344, 0.0009964666096493602, 0.004787205718457699, 0.001658216118812561, 0.0211811363697052, 0.9649454951286316, 0.0, 0.0, 0.0, 0.0, 0.0, 0.0, 0.0, 0.0, 0.0, 0.0, 0.0, 0.0, 0.0, 0.0, 0.0, 0.0, 0.0, 0.0, 0.0, 0.0, 0.0, 0.0, 0.0, 0.0, 0.0, 0.0, 0.0, 0.0, 0.0], [0.05710107088088989, 0.012982727959752083, 0.012463352642953396, 0.012371198274195194, 0.013064750470221043, 0.035302501171827316, 0.013208812102675438, 0.06362834572792053, 0.010588894598186016, 0.061131998896598816, 0.027357205748558044, 0.08200792223215103, 0.039974600076675415, 0.04302835464477539, 0.06893419474363327, 0.06733899563550949, 0.3795151114463806, 0.0, 0.0, 0.0, 0.0, 0.0, 0.0, 0.0, 0.0, 0.0, 0.0, 0.0, 0.0, 0.0, 0.0, 0.0, 0.0, 0.0, 0.0, 0.0, 0.0, 0.0, 0.0, 0.0, 0.0, 0.0, 0.0, 0.0, 0.0], [0.05038189888000488, 0.010253243148326874, 0.00901739951223135, 0.007853333838284016, 0.008382107131183147, 0.016030550003051758, 0.007579762954264879, 0.016568154096603394, 0.009558076038956642, 0.020098436623811722, 0.028027690947055817, 0.03172842413187027, 0.021793972700834274, 0.03942330554127693, 0.11988724768161774, 0.047830868512392044, 0.14773684740066528, 0.4078487455844879, 0.0, 0.0, 0.0, 0.0, 0.0, 0.0, 0.0, 0.0, 0.0, 0.0, 0.0, 0.0, 0.0, 0.0, 0.0, 0.0, 0.0, 0.0, 0.0, 0.0, 0.0, 0.0, 0.0, 0.0, 0.0, 0.0, 0.0], [0.009583788923919201, 0.0005122195580042899, 0.0006106928922235966, 0.0009717879584059119, 0.0022611021995544434, 0.004041261970996857, 0.00033976032864302397, 0.0023014824837446213, 0.0014669810188934207, 0.0043608746491372585, 0.010039563290774822, 0.003883787663653493, 0.0019065355882048607, 0.0049683633260428905, 0.0035998790990561247, 0.0027956534177064896, 0.015628797933459282, 0.014497014693915844, 0.9162304401397705, 0.0, 0.0, 0.0, 0.0, 0.0, 0.0, 0.0, 0.0, 0.0, 0.0, 0.0, 0.0, 0.0, 0.0, 0.0, 0.0, 0.0, 0.0, 0.0, 0.0, 0.0, 0.0, 0.0, 0.0, 0.0, 0.0], [0.03377578780055046, 0.000847292598336935, 0.0009361557895317674, 0.0006967568770051003, 0.00460014445707202, 0.0032575996592640877, 0.00042183673940598965, 0.00755671039223671, 0.0010570589220151305, 0.0036437902599573135, 0.00017823855159804225, 0.002045620232820511, 0.0014812101144343615, 0.0029180485289543867, 0.005684817209839821, 0.06616662442684174, 0.0068207113072276115, 0.005966112017631531, 0.022306201979517937, 0.8296392560005188, 0.0, 0.0, 0.0, 0.0, 0.0, 0.0, 0.0, 0.0, 0.0, 0.0, 0.0, 0.0, 0.0, 0.0, 0.0, 0.0, 0.0, 0.0, 0.0, 0.0, 0.0, 0.0, 0.0, 0.0, 0.0], [0.014338120818138123, 0.004506280645728111, 0.0022934824228286743, 0.0045026312582194805, 0.006348526105284691, 0.0064406986348330975, 0.003075922140851617, 0.0034293781500309706, 0.008825044147670269, 0.013563873246312141, 0.008806233294308186, 0.015333062969148159, 0.010930363088846207, 0.03256242722272873, 0.04165013134479523, 0.02935843914747238, 0.06823210418224335, 0.10101231932640076, 0.1282440572977066, 0.08141806721687317, 0.41512876749038696, 0.0, 0.0, 0.0, 0.0, 0.0, 0.0, 0.0, 0.0, 0.0, 0.0, 0.0, 0.0, 0.0, 0.0, 0.0, 0.0, 0.0, 0.0, 0.0, 0.0, 0.0, 0.0, 0.0, 0.0], [0.012516939081251621, 0.003707381896674633, 0.0011323612416163087, 0.002044013934209943, 0.002103797858580947, 0.0007217556121759117, 0.00035877121263183653, 0.0010654571233317256, 0.0033418680541217327, 0.0035347691737115383, 0.0018008298939093947, 0.0051313829608261585, 0.0059568448923528194, 0.011681458912789822, 0.023353133350610733, 0.024626364931464195, 0.023082584142684937, 0.024053923785686493, 0.04505401477217674, 0.04447475075721741, 0.0984843298792839, 0.6617732048034668, 0.0, 0.0, 0.0, 0.0, 0.0, 0.0, 0.0, 0.0, 0.0, 0.0, 0.0, 0.0, 0.0, 0.0, 0.0, 0.0, 0.0, 0.0, 0.0, 0.0, 0.0, 0.0, 0.0], [0.023378072306513786, 0.00297009339556098, 0.0022721625864505768, 0.003121251706033945, 0.010448773391544819, 0.0027957099955528975, 0.0009500705054961145, 0.006640286184847355, 0.0025093022268265486, 0.006215895526111126, 0.0018756615463644266, 0.004366475157439709, 0.005894926842302084, 0.007904240861535072, 0.011842509731650352, 0.011780300177633762, 0.016934016719460487, 0.015606728382408619, 0.03699192777276039, 0.05676267296075821, 0.03885180130600929, 0.30106887221336365, 0.4288182556629181, 0.0, 0.0, 0.0, 0.0, 0.0, 0.0, 0.0, 0.0, 0.0, 0.0, 0.0, 0.0, 0.0, 0.0, 0.0, 0.0, 0.0, 0.0, 0.0, 0.0, 0.0, 0.0], [0.042250849306583405, 0.009647670201957226, 0.01306966133415699, 0.0034939271863549948, 0.008718249388039112, 0.000871762924361974, 0.0021130722016096115, 0.002520153997465968, 0.0028259276878088713, 0.0030562574975192547, 0.005475994665175676, 0.0044675907120108604, 0.005966205149888992, 0.008145664818584919, 0.027670934796333313, 0.01338263414800167, 0.018189135938882828, 0.0327802412211895, 0.028848368674516678, 0.05995948612689972, 0.09605945646762848, 0.20931923389434814, 0.10138260573148727, 0.2997848689556122, 0.0, 0.0, 0.0, 0.0, 0.0, 0.0, 0.0, 0.0, 0.0, 0.0, 0.0, 0.0, 0.0, 0.0, 0.0, 0.0, 0.0, 0.0, 0.0, 0.0, 0.0], [0.025818023830652237, 0.0012453028466552496, 0.00123677181545645, 0.003155821468681097, 0.002605457790195942, 0.00111783214379102, 0.00023053257609717548, 0.0010614546481519938, 0.0012552984990179539, 0.0014470169553533196, 0.0006083034095354378, 0.002144434256479144, 0.0017222748138010502, 0.003063676878809929, 0.0021307149436324835, 0.0017395163886249065, 0.007489570416510105, 0.004201177973300219, 0.016367288306355476, 0.017187530174851418, 0.016647033393383026, 0.06787322461605072, 0.07546127587556839, 0.04369649663567543, 0.7004939317703247, 0.0, 0.0, 0.0, 0.0, 0.0, 0.0, 0.0, 0.0, 0.0, 0.0, 0.0, 0.0, 0.0, 0.0, 0.0, 0.0, 0.0, 0.0, 0.0, 0.0], [0.007508303038775921, 0.000129139210912399, 0.00022904042270965874, 0.0003099398745689541, 0.001587574020959437, 0.00015740802336949855, 0.00036546672345139086, 0.00026319510652683675, 0.000246187555603683, 0.004963842686265707, 0.0008493292261846364, 0.0002054251090157777, 0.0035996590740978718, 0.0006757518276572227, 0.0006743191624991596, 0.0028660339303314686, 0.0007401988259516656, 0.0012410664930939674, 0.0034339360427111387, 0.003348803613334894, 0.005896294489502907, 0.01531524769961834, 0.01358444057404995, 0.003806075546890497, 0.10587522387504578, 0.8221280574798584, 0.0, 0.0, 0.0, 0.0, 0.0, 0.0, 0.0, 0.0, 0.0, 0.0, 0.0, 0.0, 0.0, 0.0, 0.0, 0.0, 0.0, 0.0, 0.0], [0.015146838501095772, 0.00028372748056426644, 0.00043238894431851804, 0.0012392151402309537, 0.0026600707788020372, 0.0003459543804638088, 0.0002954268711619079, 0.001877208356745541, 0.00023691265960223973, 0.00013219252286944538, 0.00033548095962032676, 0.00022997907944954932, 0.00027149065863341093, 0.000420953962020576, 0.0008192594395950437, 0.0003039469593204558, 0.0006469362415373325, 0.0003804271691478789, 0.002392594935372472, 0.002976799150928855, 0.0025756140239536762, 0.005941805895417929, 0.005901214201003313, 0.0052087814547121525, 0.02542373538017273, 0.023241259157657623, 0.900279700756073, 0.0, 0.0, 0.0, 0.0, 0.0, 0.0, 0.0, 0.0, 0.0, 0.0, 0.0, 0.0, 0.0, 0.0, 0.0, 0.0, 0.0, 0.0], [0.020882194861769676, 0.0006866255425848067, 0.0014190312940627337, 0.001624722615815699, 0.005466730799525976, 0.001993072684854269, 0.00034445649362169206, 0.001486632856540382, 0.0003860282013192773, 0.0002986800391227007, 0.00037154887104406953, 0.0005332498112693429, 0.00025670829927548766, 0.0006083344924263656, 0.0003786258166655898, 0.001374824088998139, 0.0013781347079202533, 0.0009236675687134266, 0.0233750082552433, 0.03773234784603119, 0.004063984379172325, 0.021846629679203033, 0.018512386828660965, 0.005047198850661516, 0.018440278246998787, 0.06399489939212799, 0.33002808690071106, 0.43654587864875793, 0.0, 0.0, 0.0, 0.0, 0.0, 0.0, 0.0, 0.0, 0.0, 0.0, 0.0, 0.0, 0.0, 0.0, 0.0, 0.0, 0.0], [0.0027297884225845337, 0.00011315742449369282, 0.00025743222795426846, 0.0003065296041313559, 0.0008012378821149468, 0.000887093716301024, 0.00010111580195371062, 0.0020485715940594673, 0.00014291210391093045, 0.00019898040045518428, 0.0004309820360504091, 7.435751467710361e-05, 0.0001107784264604561, 0.00022297566465567797, 0.00010400122118880972, 0.0007566192070953548, 0.00018428830662742257, 0.0003102100163232535, 0.0010590283200144768, 0.005394385661929846, 0.0013711393112316728, 0.001723822089843452, 0.0034383502788841724, 0.0007791538955643773, 0.0027107971254736185, 0.011246608570218086, 0.26186177134513855, 0.04286463186144829, 0.6577692627906799, 0.0, 0.0, 0.0, 0.0, 0.0, 0.0, 0.0, 0.0, 0.0, 0.0, 0.0, 0.0, 0.0, 0.0, 0.0, 0.0], [0.007169212214648724, 0.002651228103786707, 0.0024450228083878756, 0.003023249562829733, 0.0026861890219151974, 0.0007135465275496244, 0.0005127674085088074, 0.000386486150091514, 0.0009532012045383453, 0.0004407837404869497, 0.0008591751684434712, 0.00124910450540483, 0.0009424766758456826, 0.0016617245273664594, 0.00044353221892379224, 0.0014648397918790579, 0.0035774633288383484, 0.0037673425395041704, 0.012122931890189648, 0.006853909697383642, 0.0052495659328997135, 0.019704239442944527, 0.026669230312108994, 0.04096021503210068, 0.2385396957397461, 0.05725704878568649, 0.040405381470918655, 0.1093398779630661, 0.0773630291223526, 0.3305875062942505, 0.0, 0.0, 0.0, 0.0, 0.0, 0.0, 0.0, 0.0, 0.0, 0.0, 0.0, 0.0, 0.0, 0.0, 0.0], [0.011626655235886574, 0.001965816132724285, 0.0009179513435810804, 0.001819741097278893, 0.002078977646306157, 0.00029357129824347794, 0.00010028558608610183, 0.0005799981881864369, 0.0004854119324591011, 9.764813876245171e-05, 0.00015712752065155655, 0.00041064186370931566, 0.00048777766642160714, 0.0007517862250097096, 0.0007532840245403349, 0.001224211766384542, 0.0010826842626556754, 0.0014821892837062478, 0.0027742499951273203, 0.0036103331949561834, 0.002137242816388607, 0.009361441247165203, 0.014277652837336063, 0.011846720241010189, 0.04729333519935608, 0.04506279528141022, 0.04156068339943886, 0.042807888239622116, 0.07079771906137466, 0.10084821283817291, 0.5813059210777283, 0.0, 0.0, 0.0, 0.0, 0.0, 0.0, 0.0, 0.0, 0.0, 0.0, 0.0, 0.0, 0.0, 0.0], [0.003873429261147976, 0.0002557095722295344, 0.0006259239162318408, 0.0005843956023454666, 0.0012326454743742943, 0.0003945599601138383, 0.0003326674923300743, 0.00015581927436869591, 0.00016472712741233408, 0.0007726287585683167, 0.0003866979095619172, 0.0002782442606985569, 0.00015239708591252565, 0.000251985271461308, 6.452929665101692e-05, 0.00017264093912672251, 0.0007133582257665694, 0.0005384795367717743, 0.007539557293057442, 0.006723241880536079, 0.0013963893288746476, 0.003110351972281933, 0.005501280073076487, 0.0024135843850672245, 0.038960542529821396, 0.023422323167324066, 0.009641124866902828, 0.025750868022441864, 0.12702475488185883, 0.040059253573417664, 0.5142090320587158, 0.183296799659729, 0.0, 0.0, 0.0, 0.0, 0.0, 0.0, 0.0, 0.0, 0.0, 0.0, 0.0, 0.0, 0.0], [0.015151121653616428, 0.0013760682195425034, 0.0015560504980385303, 0.002171708969399333, 0.0025110088754445314, 0.0017854946199804544, 0.00047008664114400744, 0.0006788124446757138, 0.00038990736356936395, 0.0009900371078401804, 0.00038026581751182675, 0.0004182497214060277, 0.00044352893019095063, 0.0005140136345289648, 0.0001659225090406835, 0.0006932565593160689, 0.0009629509295336902, 0.0007656954112462699, 0.004365225322544575, 0.00643626693636179, 0.0018688281998038292, 0.008356153964996338, 0.006384761072695255, 0.005890705157071352, 0.03118702583014965, 0.04100944474339485, 0.02856607548892498, 0.04157727584242821, 0.040764596313238144, 0.0671285018324852, 0.30426734685897827, 0.2161881923675537, 0.1645853966474533, 0.0, 0.0, 0.0, 0.0, 0.0, 0.0, 0.0, 0.0, 0.0, 0.0, 0.0, 0.0], [0.017354115843772888, 0.0005264714709483087, 0.0006208937265910208, 0.0016926319804042578, 0.006297259591519833, 0.0010202120756730437, 7.362554606515914e-05, 0.0006762280827388167, 0.00044483094825409353, 7.778870349284261e-05, 4.973802060703747e-05, 0.00030359753873199224, 0.00017341806960757822, 0.0005162432789802551, 0.00027352754841558635, 0.0007443998474627733, 0.0006022219313308597, 0.00045445008436217904, 0.0026653369423002005, 0.0026638731360435486, 0.002551591955125332, 0.007818796671926975, 0.009490984492003918, 0.000983040314167738, 0.007624232210218906, 0.0115523561835289, 0.09579715877771378, 0.08069904148578644, 0.09889817237854004, 0.03799615055322647, 0.05835622176527977, 0.1171889677643776, 0.11656815558671951, 0.31724414229393005, 0.0, 0.0, 0.0, 0.0, 0.0, 0.0, 0.0, 0.0, 0.0, 0.0, 0.0], [0.01079633180052042, 0.0030184611678123474, 0.0017010795418173075, 0.0027613970451056957, 0.005546444095671177, 0.0005509482580237091, 0.0002220834867330268, 0.00023305857030209154, 0.0008555078529752791, 8.42940280563198e-05, 0.0001349101949017495, 0.0004030337149742991, 0.00021568540250882506, 0.0009122327901422977, 0.0007261992432177067, 0.00038188445614650846, 0.0007406801450997591, 0.0007301227888092399, 0.0007852284470573068, 0.0013473365688696504, 0.004313782788813114, 0.007729173172265291, 0.005422806367278099, 0.006747083738446236, 0.01398196816444397, 0.004630990792065859, 0.01939181610941887, 0.028133688494563103, 0.016861919313669205, 0.07724331319332123, 0.0543515682220459, 0.13139015436172485, 0.15014058351516724, 0.0843437984585762, 0.3631705045700073, 0.0, 0.0, 0.0, 0.0, 0.0, 0.0, 0.0, 0.0, 0.0, 0.0], [0.02800828032195568, 0.007593401242047548, 0.010412855073809624, 0.0024764491245150566, 0.004609231371432543, 0.0003240875084884465, 0.0006801346899010241, 0.0006120300968177617, 0.00047115935012698174, 0.0003676755295600742, 0.0006727781728841364, 0.000372478534700349, 0.0004812234255950898, 0.0004618691746145487, 0.0010196227813139558, 0.0007750288932584226, 0.00070282252272591, 0.0009993781568482518, 0.0009806673042476177, 0.002403195481747389, 0.0025699795223772526, 0.004406018648296595, 0.002513876650482416, 0.006527428515255451, 0.019897254183888435, 0.008131367154419422, 0.013455469161272049, 0.008403684943914413, 0.007491735275834799, 0.0530274473130703, 0.07444845139980316, 0.0710134506225586, 0.06195341423153877, 0.05427413806319237, 0.2446923553943634, 0.30276966094970703, 0.0, 0.0, 0.0, 0.0, 0.0, 0.0, 0.0, 0.0, 0.0], [0.014628459699451923, 0.002985836938023567, 0.012072330340743065, 0.00315855722874403, 0.0039060390554368496, 0.0005887409788556397, 0.00034708812017925084, 0.0021942907478660345, 0.0002464172139298171, 0.00022056423767935485, 8.003314724192023e-05, 0.00014036826905794442, 5.001401586923748e-05, 0.0001994808844756335, 0.00035282084718346596, 4.367298970464617e-05, 0.00022058843751437962, 0.00039839965756982565, 0.0004472826258279383, 0.0021162074990570545, 0.0006402221042662859, 0.0009908296633511782, 0.00026528965099714696, 0.0014435630291700363, 0.0036878061946481466, 0.005311357323080301, 0.0058081187307834625, 0.0029251088853925467, 0.0022208194714039564, 0.014536892995238304, 0.028097473084926605, 0.020202530547976494, 0.03005795367062092, 0.02612762525677681, 0.03518682345747948, 0.05769314989447594, 0.720407247543335, 0.0, 0.0, 0.0, 0.0, 0.0, 0.0, 0.0, 0.0], [0.01205524057149887, 0.0012845629826188087, 0.0036035601515322924, 0.003895797999575734, 0.00319735798984766, 0.0016085912939161062, 0.0002859420492313802, 0.0003308014420326799, 0.0002758376067504287, 0.00039957198896445334, 0.0007199649116955698, 0.00017750432016327977, 0.00025129845016635954, 0.0002278130268678069, 8.719712786842138e-05, 0.00020760612096637487, 0.0002843559777829796, 0.0001571176399011165, 0.001577594317495823, 0.0021249998826533556, 0.0005058759707026184, 0.0013638073578476906, 0.0016018693568184972, 0.001485113287344575, 0.012682003900408745, 0.008065217174589634, 0.01235305704176426, 0.007183361332863569, 0.01142910122871399, 0.013920903205871582, 0.10305963456630707, 0.054244451224803925, 0.036838967353105545, 0.032502204179763794, 0.03672602027654648, 0.06930413842201233, 0.22302086651325226, 0.34096062183380127, 0.0, 0.0, 0.0, 0.0, 0.0, 0.0, 0.0], [0.00642003258690238, 0.0011286375811323524, 0.0025266290176659822, 0.0016924351220950484, 0.0029147935565561056, 0.00013771680823992938, 0.0003740137326531112, 8.863395487423986e-05, 0.0002274423895869404, 0.00014523456047754735, 0.00015419629926327616, 0.00012883417366538197, 0.00012289398000575602, 0.0001773451076587662, 0.00016010209219530225, 0.0002068996400339529, 0.00019668335153255612, 0.0001617325615370646, 0.0005150954821147025, 0.0006738259689882398, 0.000763906049542129, 0.0004390845133457333, 0.0007245282176882029, 0.001137621933594346, 0.0033150571398437023, 0.004333567339926958, 0.002269085729494691, 0.005698353052139282, 0.005593391135334969, 0.012988480739295483, 0.015367947518825531, 0.04826486110687256, 0.035690393298864365, 0.007107927929610014, 0.027468889951705933, 0.05069022625684738, 0.12685739994049072, 0.20181497931480408, 0.4313212037086487, 0.0, 0.0, 0.0, 0.0, 0.0, 0.0], [0.0008221233729273081, 1.9265869923401624e-05, 0.00019419484306126833, 0.00014100906264502555, 0.00046615407336503267, 0.00010447909880895168, 6.353261414915323e-05, 0.00012313816114328802, 1.9888640963472426e-05, 1.3695867892238311e-05, 0.00023990726913325489, 6.639609637204558e-06, 2.673933886399027e-05, 1.5107812942005694e-05, 3.298948286101222e-06, 0.00012475303083192557, 8.917708328226581e-06, 7.683213880227413e-06, 9.412418148713186e-05, 0.0001766305067576468, 3.8978265365585685e-05, 3.887009370373562e-05, 5.392621460487135e-05, 1.9318251361255534e-05, 0.00019686712766997516, 0.0007798824226483703, 0.005169232841581106, 0.00047865070519037545, 0.010941957123577595, 0.0002726367092691362, 0.0011478576343506575, 0.0020667663775384426, 0.0005358580965548754, 0.0017654185649007559, 0.0009185707313008606, 0.0007278449484147131, 0.00792620237916708, 0.004951538983732462, 0.014752545394003391, 0.9445456266403198, 0.0, 0.0, 0.0, 0.0, 0.0], [0.004167105071246624, 0.002137981355190277, 0.001970278797671199, 0.0022854655981063843, 0.0015988692175596952, 0.00032191627542488277, 0.00020534946816042066, 0.0001244855666300282, 0.000221750044147484, 7.326012564590201e-05, 0.0001483516680309549, 0.0001561626559123397, 0.00011667366925394163, 0.0001398797467118129, 2.436591785226483e-05, 0.00011921802069991827, 0.00019971223082393408, 0.00016763333405833691, 0.0005812569870613515, 0.0003754382487386465, 0.00017870972806122154, 0.0005654668784700334, 0.0008165500476025045, 0.0010987116256728768, 0.005865226965397596, 0.001900490140542388, 0.0010557846399024129, 0.0029641659930348396, 0.0019161178497597575, 0.007346109487116337, 0.03037596307694912, 0.01316477358341217, 0.021592145785689354, 0.013561735861003399, 0.014741308987140656, 0.04980607330799103, 0.04640858992934227, 0.10853192210197449, 0.11906860023736954, 0.25963395833969116, 0.2842724323272705, 0.0, 0.0, 0.0, 0.0], [0.00048539863200858235, 1.2252748092578258e-05, 0.00012544252967927605, 9.023807797348127e-05, 0.00029097459628246725, 6.438897253246978e-05, 3.7926722143311054e-05, 7.299615390365943e-05, 1.1130048733321019e-05, 7.435487987095257e-06, 0.00012798207171726972, 3.397795808268711e-06, 1.351741320831934e-05, 7.17120201443322e-06, 1.4388256204256322e-06, 6.172616122057661e-05, 3.9508599911641795e-06, 3.2312475468643242e-06, 3.94302187487483e-05, 7.65160220908001e-05, 1.5650952263968065e-05, 1.4998213373473845e-05, 2.0582325305440463e-05, 7.173917310865363e-06, 7.031697168713436e-05, 0.0003026359772775322, 0.0018037351546809077, 0.00017806922551244497, 0.004152556881308556, 9.549647074891254e-05, 0.00040705519495531917, 0.0006961928447708488, 0.00018649555568117648, 0.0006364494911395013, 0.0003337397356517613, 0.000254561920883134, 0.0027694921009242535, 0.0017029372975230217, 0.005192674230784178, 0.35754209756851196, 0.002903273794800043, 0.6191772818565369, 0.0, 0.0, 0.0], [0.0050884513184428215, 0.00011405286932131276, 0.00011573123629204929, 0.0006557924789376557, 0.0013498814078047872, 0.00027466160827316344, 3.258514334447682e-05, 0.0003692600585054606, 2.5470295440754853e-05, 1.1321814781695139e-05, 3.352478188389796e-06, 1.0451412890688516e-05, 2.7477672119857743e-05, 1.2044976756442338e-05, 8.735147275729105e-06, 3.072415347560309e-05, 1.0444338840898126e-05, 7.247771463880781e-06, 3.468290015007369e-05, 0.00019269960466772318, 2.234325984318275e-05, 5.727778625441715e-05, 8.833526953822002e-05, 1.586901089467574e-05, 8.17914042272605e-05, 0.00044688102207146585, 0.013040573336184025, 0.0003962390765082091, 0.004648267291486263, 0.00023665073968004435, 0.0007817690493538976, 0.001216790289618075, 0.0008617857238277793, 0.001248926273547113, 0.0023071106988936663, 0.0006340584368444979, 0.0005435380735434592, 0.005936811678111553, 0.022708075121045113, 0.23782996833324432, 0.008311105892062187, 0.4340054392814636, 0.25620537996292114, 0.0, 0.0], [0.005068668629974127, 0.0025324944872409105, 0.0010589673183858395, 0.0006861264701001346, 0.0004745310579892248, 0.00018431688658893108, 9.716416388982907e-05, 0.00027587838121689856, 0.00022595330665353686, 5.872019755770452e-05, 0.0002862484543584287, 6.83729158481583e-05, 0.00030049117049202323, 0.00012929338845424354, 3.9338523492915556e-05, 0.000138771632919088, 7.596328214276582e-05, 6.226113328011706e-05, 0.00012620037887245417, 0.00028582700178958476, 9.136751032201573e-05, 0.0008261686889454722, 0.00017534442304167897, 0.000633014366030693, 0.0011973825749009848, 0.0014808950945734978, 0.0003952693077735603, 0.0005967981996946037, 0.0006683828542008996, 0.0018930986989289522, 0.009941908530890942, 0.005124605726450682, 0.002528377575799823, 0.0012076671700924635, 0.006317033898085356, 0.0298128854483366, 0.015476224012672901, 0.013829529285430908, 0.016050446778535843, 0.1199282854795456, 0.07998372614383698, 0.21423017978668213, 0.11450909823179245, 0.3509267270565033, 0.0], [0.0035710232332348824, 0.002309827134013176, 0.0021281864028424025, 0.002538373228162527, 0.0016200573882088065, 0.00030755868647247553, 0.00019186547433491796, 0.00010898718755925074, 0.00018846479360945523, 5.748114563175477e-05, 0.00010428531095385551, 0.00010925599053734913, 7.396678120130673e-05, 8.471321052638814e-05, 1.3915267118136398e-05, 6.88890868332237e-05, 0.00010210044274572283, 7.840924808988348e-05, 0.00026225578039884567, 0.0001674508530413732, 7.203771383501589e-05, 0.00020606318139471114, 0.00030889760819263756, 0.0003780306433327496, 0.001977842301130295, 0.000700088101439178, 0.000316945108352229, 0.0009853052906692028, 0.0006170895067043602, 0.002176563488319516, 0.009192073717713356, 0.0039015563670545816, 0.006170049775391817, 0.003925492987036705, 0.004216623492538929, 0.013760526664555073, 0.01276774238795042, 0.02919030748307705, 0.032112494111061096, 0.07967229932546616, 0.07928407192230225, 0.14567723870277405, 0.1301235854625702, 0.1340227574110031, 0.2941572964191437]], [[1.0, 0.0, 0.0, 0.0, 0.0, 0.0, 0.0, 0.0, 0.0, 0.0, 0.0, 0.0, 0.0, 0.0, 0.0, 0.0, 0.0, 0.0, 0.0, 0.0, 0.0, 0.0, 0.0, 0.0, 0.0, 0.0, 0.0, 0.0, 0.0, 0.0, 0.0, 0.0, 0.0, 0.0, 0.0, 0.0, 0.0, 0.0, 0.0, 0.0, 0.0, 0.0, 0.0, 0.0, 0.0], [0.19326065480709076, 0.806739330291748, 0.0, 0.0, 0.0, 0.0, 0.0, 0.0, 0.0, 0.0, 0.0, 0.0, 0.0, 0.0, 0.0, 0.0, 0.0, 0.0, 0.0, 0.0, 0.0, 0.0, 0.0, 0.0, 0.0, 0.0, 0.0, 0.0, 0.0, 0.0, 0.0, 0.0, 0.0, 0.0, 0.0, 0.0, 0.0, 0.0, 0.0, 0.0, 0.0, 0.0, 0.0, 0.0, 0.0], [0.09132367372512817, 0.002221886534243822, 0.9064545035362244, 0.0, 0.0, 0.0, 0.0, 0.0, 0.0, 0.0, 0.0, 0.0, 0.0, 0.0, 0.0, 0.0, 0.0, 0.0, 0.0, 0.0, 0.0, 0.0, 0.0, 0.0, 0.0, 0.0, 0.0, 0.0, 0.0, 0.0, 0.0, 0.0, 0.0, 0.0, 0.0, 0.0, 0.0, 0.0, 0.0, 0.0, 0.0, 0.0, 0.0, 0.0, 0.0], [0.07127513736486435, 0.01039457693696022, 0.014608718454837799, 0.9037215113639832, 0.0, 0.0, 0.0, 0.0, 0.0, 0.0, 0.0, 0.0, 0.0, 0.0, 0.0, 0.0, 0.0, 0.0, 0.0, 0.0, 0.0, 0.0, 0.0, 0.0, 0.0, 0.0, 0.0, 0.0, 0.0, 0.0, 0.0, 0.0, 0.0, 0.0, 0.0, 0.0, 0.0, 0.0, 0.0, 0.0, 0.0, 0.0, 0.0, 0.0, 0.0], [0.007525176275521517, 8.942769636632875e-05, 7.54414577386342e-05, 3.413583499423112e-06, 0.9923065304756165, 0.0, 0.0, 0.0, 0.0, 0.0, 0.0, 0.0, 0.0, 0.0, 0.0, 0.0, 0.0, 0.0, 0.0, 0.0, 0.0, 0.0, 0.0, 0.0, 0.0, 0.0, 0.0, 0.0, 0.0, 0.0, 0.0, 0.0, 0.0, 0.0, 0.0, 0.0, 0.0, 0.0, 0.0, 0.0, 0.0, 0.0, 0.0, 0.0, 0.0], [0.004521043971180916, 4.280501343600918e-06, 9.230407158611342e-05, 2.3636253899894655e-05, 1.1194401849934366e-05, 0.9953475594520569, 0.0, 0.0, 0.0, 0.0, 0.0, 0.0, 0.0, 0.0, 0.0, 0.0, 0.0, 0.0, 0.0, 0.0, 0.0, 0.0, 0.0, 0.0, 0.0, 0.0, 0.0, 0.0, 0.0, 0.0, 0.0, 0.0, 0.0, 0.0, 0.0, 0.0, 0.0, 0.0, 0.0, 0.0, 0.0, 0.0, 0.0, 0.0, 0.0], [0.007938149385154247, 0.00010465264494996518, 4.1882518416969106e-05, 8.37628795125056e-06, 0.00021111423848196864, 3.1297931855078787e-06, 0.9916926622390747, 0.0, 0.0, 0.0, 0.0, 0.0, 0.0, 0.0, 0.0, 0.0, 0.0, 0.0, 0.0, 0.0, 0.0, 0.0, 0.0, 0.0, 0.0, 0.0, 0.0, 0.0, 0.0, 0.0, 0.0, 0.0, 0.0, 0.0, 0.0, 0.0, 0.0, 0.0, 0.0, 0.0, 0.0, 0.0, 0.0, 0.0, 0.0], [0.0024528461508452892, 1.0800486052175984e-05, 1.5410725609399378e-05, 2.2521504661199288e-07, 3.925116834579967e-05, 5.133600552653661e-06, 2.3800475901225582e-05, 0.9974525570869446, 0.0, 0.0, 0.0, 0.0, 0.0, 0.0, 0.0, 0.0, 0.0, 0.0, 0.0, 0.0, 0.0, 0.0, 0.0, 0.0, 0.0, 0.0, 0.0, 0.0, 0.0, 0.0, 0.0, 0.0, 0.0, 0.0, 0.0, 0.0, 0.0, 0.0, 0.0, 0.0, 0.0, 0.0, 0.0, 0.0, 0.0], [0.1994483470916748, 0.17831817269325256, 0.06548025459051132, 0.1327645629644394, 0.038584496825933456, 0.010353405959904194, 0.021433593705296516, 0.006723281927406788, 0.34689390659332275, 0.0, 0.0, 0.0, 0.0, 0.0, 0.0, 0.0, 0.0, 0.0, 0.0, 0.0, 0.0, 0.0, 0.0, 0.0, 0.0, 0.0, 0.0, 0.0, 0.0, 0.0, 0.0, 0.0, 0.0, 0.0, 0.0, 0.0, 0.0, 0.0, 0.0, 0.0, 0.0, 0.0, 0.0, 0.0, 0.0], [0.0014458447694778442, 8.054703926063667e-07, 3.064588599954732e-05, 7.412921263494354e-07, 2.0274023881938774e-06, 1.1259034181421157e-05, 1.8223380493509467e-06, 8.012932812562212e-05, 1.0569634412149753e-07, 0.9984266757965088, 0.0, 0.0, 0.0, 0.0, 0.0, 0.0, 0.0, 0.0, 0.0, 0.0, 0.0, 0.0, 0.0, 0.0, 0.0, 0.0, 0.0, 0.0, 0.0, 0.0, 0.0, 0.0, 0.0, 0.0, 0.0, 0.0, 0.0, 0.0, 0.0, 0.0, 0.0, 0.0, 0.0, 0.0, 0.0], [0.002338021993637085, 1.249870183528401e-05, 2.245014729851391e-05, 4.236504082655301e-06, 2.95203193445559e-07, 1.8947073385788826e-06, 7.769865624140948e-05, 8.969064765551593e-06, 4.6952003174283163e-08, 1.1347667623340385e-06, 0.9975327253341675, 0.0, 0.0, 0.0, 0.0, 0.0, 0.0, 0.0, 0.0, 0.0, 0.0, 0.0, 0.0, 0.0, 0.0, 0.0, 0.0, 0.0, 0.0, 0.0, 0.0, 0.0, 0.0, 0.0, 0.0, 0.0, 0.0, 0.0, 0.0, 0.0, 0.0, 0.0, 0.0, 0.0, 0.0], [0.047514546662569046, 0.05268261581659317, 0.02040812186896801, 0.05853002890944481, 0.007166560739278793, 0.00820141565054655, 0.011846395209431648, 0.0017474375199526548, 0.024963315576314926, 0.0026972531341016293, 0.0014261904871091247, 0.7628160715103149, 0.0, 0.0, 0.0, 0.0, 0.0, 0.0, 0.0, 0.0, 0.0, 0.0, 0.0, 0.0, 0.0, 0.0, 0.0, 0.0, 0.0, 0.0, 0.0, 0.0, 0.0, 0.0, 0.0, 0.0, 0.0, 0.0, 0.0, 0.0, 0.0, 0.0, 0.0, 0.0, 0.0], [0.006070819217711687, 0.00012957947910763323, 5.943357609794475e-05, 5.659351245412836e-06, 0.0002615326957311481, 0.00012241856893524528, 1.039934613800142e-05, 1.1076404007326346e-05, 4.060484855017421e-07, 0.00036004724097438157, 2.011543074331712e-05, 1.3643935403706564e-07, 0.9929484128952026, 0.0, 0.0, 0.0, 0.0, 0.0, 0.0, 0.0, 0.0, 0.0, 0.0, 0.0, 0.0, 0.0, 0.0, 0.0, 0.0, 0.0, 0.0, 0.0, 0.0, 0.0, 0.0, 0.0, 0.0, 0.0, 0.0, 0.0, 0.0, 0.0, 0.0, 0.0, 0.0], [0.0953056663274765, 0.1418032944202423, 0.05038183555006981, 0.10299671441316605, 0.029812080785632133, 0.006589412689208984, 0.016824396327137947, 0.0044818539172410965, 0.2310645431280136, 0.01943543739616871, 0.010874400846660137, 0.055432017892599106, 0.03543870523571968, 0.19955967366695404, 0.0, 0.0, 0.0, 0.0, 0.0, 0.0, 0.0, 0.0, 0.0, 0.0, 0.0, 0.0, 0.0, 0.0, 0.0, 0.0, 0.0, 0.0, 0.0, 0.0, 0.0, 0.0, 0.0, 0.0, 0.0, 0.0, 0.0, 0.0, 0.0, 0.0, 0.0], [0.027447804808616638, 0.00014065360301174223, 0.00019846652867272496, 3.496770659694448e-05, 5.282149231788935e-06, 0.00015024220920167863, 8.128350600600243e-05, 1.2125149623898324e-05, 6.30389477009885e-05, 6.543221388710663e-05, 2.832490963555756e-06, 3.890727020916529e-05, 5.673637133440934e-07, 4.210483530187048e-05, 0.9717162847518921, 0.0, 0.0, 0.0, 0.0, 0.0, 0.0, 0.0, 0.0, 0.0, 0.0, 0.0, 0.0, 0.0, 0.0, 0.0, 0.0, 0.0, 0.0, 0.0, 0.0, 0.0, 0.0, 0.0, 0.0, 0.0, 0.0, 0.0, 0.0, 0.0, 0.0], [0.0042121256701648235, 3.0696890462422743e-05, 6.369442417053506e-05, 8.254556860265438e-07, 8.262148867288488e-07, 3.868342173518613e-05, 4.268815246177837e-06, 3.8194098124222364e-06, 1.262803692725356e-07, 0.00013782763562630862, 1.7806096366257407e-05, 1.7100200366826357e-08, 5.9798780966957565e-06, 6.190309420617268e-08, 2.2941594579606317e-06, 0.9954808950424194, 0.0, 0.0, 0.0, 0.0, 0.0, 0.0, 0.0, 0.0, 0.0, 0.0, 0.0, 0.0, 0.0, 0.0, 0.0, 0.0, 0.0, 0.0, 0.0, 0.0, 0.0, 0.0, 0.0, 0.0, 0.0, 0.0, 0.0, 0.0, 0.0], [0.01984677091240883, 0.031683437526226044, 0.012553274631500244, 0.03571881353855133, 0.00439901277422905, 0.004350570496171713, 0.0074273706413805485, 0.0009372883359901607, 0.01266288198530674, 0.0016050534322857857, 0.0007319957367144525, 0.4563407003879547, 0.002010870026424527, 0.009759273380041122, 0.008237502537667751, 0.00025941256899386644, 0.3914757966995239, 0.0, 0.0, 0.0, 0.0, 0.0, 0.0, 0.0, 0.0, 0.0, 0.0, 0.0, 0.0, 0.0, 0.0, 0.0, 0.0, 0.0, 0.0, 0.0, 0.0, 0.0, 0.0, 0.0, 0.0, 0.0, 0.0, 0.0, 0.0], [0.02729724906384945, 0.0024357084184885025, 0.0002706822706386447, 7.525577530032024e-05, 1.3686860256711952e-05, 5.773232715000631e-06, 0.00043018441647291183, 1.443816927348962e-05, 4.835145955439657e-05, 5.326111931935884e-05, 9.613318070478272e-06, 6.846700853202492e-05, 0.0003037679416593164, 2.8783944799215533e-05, 3.86640167562291e-05, 2.5926818125299178e-05, 4.6800509153399616e-05, 0.9688335061073303, 0.0, 0.0, 0.0, 0.0, 0.0, 0.0, 0.0, 0.0, 0.0, 0.0, 0.0, 0.0, 0.0, 0.0, 0.0, 0.0, 0.0, 0.0, 0.0, 0.0, 0.0, 0.0, 0.0, 0.0, 0.0, 0.0, 0.0], [0.006310693453997374, 3.2946885767159984e-05, 9.895695257000625e-06, 7.334584211093897e-07, 9.119841706706211e-05, 4.094936957699247e-05, 8.511712621839251e-06, 9.950729872798547e-05, 1.9264832928911346e-07, 8.829235298435378e-07, 1.8906105196947465e-06, 1.1808716635641758e-06, 3.1165220661932835e-06, 9.474786111240974e-08, 3.301760898466455e-06, 2.5855300918919966e-05, 7.711307148383639e-07, 2.6708685254561715e-06, 0.993365466594696, 0.0, 0.0, 0.0, 0.0, 0.0, 0.0, 0.0, 0.0, 0.0, 0.0, 0.0, 0.0, 0.0, 0.0, 0.0, 0.0, 0.0, 0.0, 0.0, 0.0, 0.0, 0.0, 0.0, 0.0, 0.0, 0.0], [0.0011340553173795342, 6.96194319971255e-06, 1.2364388567220885e-05, 4.0065583561954554e-07, 5.351820436771959e-05, 5.24010192748392e-06, 4.459514093468897e-05, 0.00016450797556899488, 1.434453444915107e-08, 1.0388041573605733e-06, 4.778892616741359e-05, 5.058694085846582e-08, 9.468228086007002e-07, 7.47569117720559e-09, 6.603940505556238e-07, 3.843122613034211e-06, 3.3464381488101935e-08, 2.4119802333189e-07, 1.6647783922962844e-05, 0.9985072016716003, 0.0, 0.0, 0.0, 0.0, 0.0, 0.0, 0.0, 0.0, 0.0, 0.0, 0.0, 0.0, 0.0, 0.0, 0.0, 0.0, 0.0, 0.0, 0.0, 0.0, 0.0, 0.0, 0.0, 0.0, 0.0], [0.08800846338272095, 0.18921291828155518, 0.04556255042552948, 0.08163288235664368, 0.017358066514134407, 0.004830400925129652, 0.018958790227770805, 0.004620132502168417, 0.06910262256860733, 0.012970471754670143, 0.010343021713197231, 0.05366414412856102, 0.00983026996254921, 0.05797469988465309, 0.011936412192881107, 0.00944663304835558, 0.04662340134382248, 0.07882607728242874, 0.010427414439618587, 0.0020946734584867954, 0.17657598853111267, 0.0, 0.0, 0.0, 0.0, 0.0, 0.0, 0.0, 0.0, 0.0, 0.0, 0.0, 0.0, 0.0, 0.0, 0.0, 0.0, 0.0, 0.0, 0.0, 0.0, 0.0, 0.0, 0.0, 0.0], [0.015971144661307335, 0.0030620130710303783, 0.00014189491048455238, 0.0007885731174610555, 4.2993680835934356e-05, 4.1311934182886034e-05, 6.306861905613914e-05, 3.5465084238239797e-06, 2.1731235392508097e-05, 1.786093707778491e-05, 1.0213978384854272e-05, 2.6596355382935144e-05, 3.7855479604331776e-05, 1.3186832802603021e-05, 0.0001881764328572899, 4.9638774726190604e-06, 1.8085078409058042e-05, 4.864014044869691e-05, 4.463586719793966e-06, 2.48024571192218e-06, 1.2178892575320788e-05, 0.9794788956642151, 0.0, 0.0, 0.0, 0.0, 0.0, 0.0, 0.0, 0.0, 0.0, 0.0, 0.0, 0.0, 0.0, 0.0, 0.0, 0.0, 0.0, 0.0, 0.0, 0.0, 0.0, 0.0, 0.0], [0.007472246419638395, 0.0003719077503774315, 7.639093382749707e-05, 1.1135934983030893e-05, 3.0148739824653603e-05, 1.1014450137736276e-05, 5.452883488032967e-05, 2.244444112875499e-05, 1.1283868843747769e-05, 2.858792504412122e-05, 5.627744485536823e-06, 7.513620221288875e-05, 7.734294922556728e-05, 6.529724032589002e-06, 8.796932888799347e-06, 8.651510142954066e-06, 5.072796921012923e-05, 7.040869149932405e-06, 3.187644688296132e-05, 1.4034894775249995e-06, 7.003601240285207e-06, 7.04008707543835e-05, 0.9915596842765808, 0.0, 0.0, 0.0, 0.0, 0.0, 0.0, 0.0, 0.0, 0.0, 0.0, 0.0, 0.0, 0.0, 0.0, 0.0, 0.0, 0.0, 0.0, 0.0, 0.0, 0.0, 0.0], [0.022045450285077095, 0.2804945409297943, 0.01667478308081627, 0.00015087140491232276, 0.000680448196362704, 2.739417141128797e-05, 0.0008938345708884299, 1.2499218428274617e-05, 0.0002665533684194088, 5.584177870332496e-06, 5.1091075874865055e-05, 9.500443411525339e-05, 1.819482713472098e-05, 0.0001828284584917128, 0.001649360521696508, 2.7935218895436265e-05, 6.991926056798548e-05, 7.677575194975361e-05, 2.0886171114398167e-05, 4.512572104431456e-06, 0.00014541424752678722, 0.000447051104856655, 5.51479279238265e-05, 0.675903856754303, 0.0, 0.0, 0.0, 0.0, 0.0, 0.0, 0.0, 0.0, 0.0, 0.0, 0.0, 0.0, 0.0, 0.0, 0.0, 0.0, 0.0, 0.0, 0.0, 0.0, 0.0], [0.018799476325511932, 0.0019184618722647429, 0.0010523884557187557, 7.228153117466718e-05, 0.00013796627172268927, 5.208820948610082e-05, 6.33438176009804e-05, 9.731966201798059e-06, 8.120819256873801e-05, 5.99839877395425e-05, 9.635984497435857e-06, 4.818717934540473e-05, 4.688361514126882e-05, 5.250575122772716e-05, 0.0004494211170822382, 0.0002893299679271877, 3.537206066539511e-05, 0.0002237797452835366, 0.00020209027570672333, 3.1120127914618934e-06, 3.522858241922222e-05, 9.85501246759668e-05, 0.00018101489695254713, 0.0001230081543326378, 0.9759548306465149, 0.0, 0.0, 0.0, 0.0, 0.0, 0.0, 0.0, 0.0, 0.0, 0.0, 0.0, 0.0, 0.0, 0.0, 0.0, 0.0, 0.0, 0.0, 0.0, 0.0], [0.0016589788720011711, 6.6324769250059035e-06, 3.9323440432781354e-05, 5.5121408877312206e-06, 7.328293577302247e-05, 5.176199238121626e-07, 8.362679363926873e-05, 1.6115403923322447e-05, 1.8407968127576169e-07, 0.0002003257832257077, 1.849748059612466e-06, 7.683036784555952e-08, 1.8051048755296506e-05, 9.259753852575159e-08, 6.612178367504384e-06, 1.962786427611718e-06, 5.0048473809738425e-08, 6.371125493842555e-08, 4.881649147137068e-07, 3.839147211692762e-06, 1.8601461704292888e-08, 1.6708659131836612e-06, 8.816616059448279e-07, 6.67335555704085e-08, 1.878516115993989e-07, 0.9978796243667603, 0.0, 0.0, 0.0, 0.0, 0.0, 0.0, 0.0, 0.0, 0.0, 0.0, 0.0, 0.0, 0.0, 0.0, 0.0, 0.0, 0.0, 0.0, 0.0], [0.0050406730733811855, 0.00039155586273409426, 0.000561871042009443, 0.00014523050049319863, 3.937192013836466e-05, 5.409960067481734e-05, 0.000284795300103724, 4.828744931728579e-05, 3.1043225590110524e-06, 6.896281411172822e-05, 0.0002681414771359414, 4.2109372770937625e-06, 1.2119907296437304e-05, 2.0254012724763015e-06, 3.188784830854274e-05, 1.1356547474861145e-05, 3.0188034543243703e-06, 1.2622905160242226e-05, 7.4655908974818885e-06, 3.027810407729703e-06, 4.951129426444822e-07, 3.01545860565966e-05, 1.8863795048673637e-05, 4.1512544157740194e-06, 5.031331511418102e-06, 6.06908906775061e-06, 0.9929414987564087, 0.0, 0.0, 0.0, 0.0, 0.0, 0.0, 0.0, 0.0, 0.0, 0.0, 0.0, 0.0, 0.0, 0.0, 0.0, 0.0, 0.0, 0.0], [0.0012448665220290422, 0.000176170258782804, 2.4151753677870147e-05, 1.2456679542083293e-05, 5.2113085985183716e-05, 2.3546064767288044e-05, 5.673446139553562e-05, 0.0004582771216519177, 2.4983858111227164e-06, 0.00011349430133122951, 4.920252104056999e-05, 1.3444550859276205e-05, 7.735941471764818e-05, 1.343708390777465e-06, 6.060899522708496e-06, 0.00010331783414585516, 8.745483683014754e-06, 1.081156460713828e-05, 0.00015856388199608773, 1.9056066093980917e-06, 5.418795012701594e-07, 1.232136924045335e-06, 6.472226232290268e-05, 3.589060497688479e-06, 8.650908966956194e-06, 2.9628040465468075e-06, 1.3278961887408514e-05, 0.9973099231719971, 0.0, 0.0, 0.0, 0.0, 0.0, 0.0, 0.0, 0.0, 0.0, 0.0, 0.0, 0.0, 0.0, 0.0, 0.0, 0.0, 0.0], [0.0019733344670385122, 0.0009750569588504732, 7.21851538401097e-05, 9.848416084423661e-05, 4.960862497682683e-05, 5.4340576753020287e-05, 0.0003797206445597112, 6.184632638905896e-06, 1.0831159897861653e-06, 4.491215349844424e-06, 0.00047983546392060816, 9.928668305292376e-07, 1.3564573237090372e-05, 6.477191618614597e-07, 1.0186123290623073e-05, 5.581327059189789e-06, 7.113484343790333e-07, 5.998071515023184e-07, 3.2010909762902884e-06, 2.288285941176582e-06, 1.5130844133182109e-07, 7.130760423024185e-06, 1.7937974234882859e-06, 2.402572863502428e-05, 2.833118344369723e-07, 1.2269139915588312e-05, 0.00023325486108660698, 0.0003131963894702494, 0.9952758550643921, 0.0, 0.0, 0.0, 0.0, 0.0, 0.0, 0.0, 0.0, 0.0, 0.0, 0.0, 0.0, 0.0, 0.0, 0.0, 0.0], [0.030099282041192055, 0.09027373790740967, 0.028149740770459175, 0.15763871371746063, 0.026473555713891983, 0.003006008453667164, 0.017219537869095802, 0.002244668547064066, 0.031200462952256203, 0.01135172974318266, 0.001356132561340928, 0.02911919169127941, 0.0167735256254673, 0.02399810031056404, 0.009450534358620644, 0.00628820201382041, 0.023923035711050034, 0.05829622969031334, 0.009904232807457447, 0.00037797342520207167, 0.024595141410827637, 0.0404200553894043, 0.02788674831390381, 0.009823568165302277, 0.0499471016228199, 0.0010651142802089453, 0.01463252492249012, 0.011246386915445328, 0.0020601546857506037, 0.24117864668369293, 0.0, 0.0, 0.0, 0.0, 0.0, 0.0, 0.0, 0.0, 0.0, 0.0, 0.0, 0.0, 0.0, 0.0, 0.0], [0.004169426392763853, 0.000614328368101269, 0.0005938469548709691, 0.0001103623362723738, 9.005518222693354e-05, 1.3705184755963273e-05, 0.0005903497221879661, 2.689233269848046e-06, 8.671509931446053e-06, 4.6116430894471705e-05, 1.0056805876956787e-05, 5.362913725548424e-06, 5.1998504204675555e-05, 4.8024185161921196e-06, 2.1195286535657942e-05, 2.4785071218502708e-05, 3.4400443382764934e-06, 1.8410850316286087e-05, 7.05515849404037e-05, 5.603979502666334e-07, 5.060184321337147e-06, 2.259217217215337e-05, 6.252550520002842e-05, 1.8619364709593356e-05, 0.00014118572289589792, 2.6331110348110087e-05, 1.2610458952622139e-06, 1.0759871429399936e-06, 3.0932002914596524e-07, 5.793060154246632e-06, 0.9932644367218018, 0.0, 0.0, 0.0, 0.0, 0.0, 0.0, 0.0, 0.0, 0.0, 0.0, 0.0, 0.0, 0.0, 0.0], [0.010566655546426773, 0.0013905876548960805, 0.00043136297608725727, 0.00102959293872118, 0.003916394896805286, 0.00015029506175778806, 0.0019935991149395704, 0.00030443709692917764, 2.9845065000699833e-05, 0.0006592920981347561, 1.265983701159712e-05, 7.527502748416737e-05, 0.0003976769803557545, 1.7276539438171312e-05, 0.00038583489367738366, 2.1061901861685328e-05, 5.3403142374008894e-05, 6.335022044368088e-05, 0.000126884420751594, 6.783195658499608e-06, 2.7170561224920675e-05, 0.00013008965470362455, 3.859859862131998e-05, 4.3666466808645055e-05, 8.064082976488862e-06, 0.0007468663388863206, 8.195245754905045e-06, 9.368611063109711e-05, 6.252453658817103e-06, 4.447245373739861e-05, 0.00020698629668913782, 0.9770136475563049, 0.0, 0.0, 0.0, 0.0, 0.0, 0.0, 0.0, 0.0, 0.0, 0.0, 0.0, 0.0, 0.0], [0.01713147945702076, 0.10981200635433197, 0.045284949243068695, 0.1666399985551834, 0.04683491587638855, 0.012714343145489693, 0.024941828101873398, 0.002460504649206996, 0.016514170914888382, 0.014018189162015915, 0.0028046497609466314, 0.017261294648051262, 0.0561913400888443, 0.011843177489936352, 0.024518407881259918, 0.008004875853657722, 0.013582988642156124, 0.0276965219527483, 0.00788149144500494, 0.0013759637949988246, 0.00903363712131977, 0.037479985505342484, 0.014368828386068344, 0.01657966710627079, 0.03148624300956726, 0.0022351087536662817, 0.007032556924968958, 0.02033880539238453, 0.002157366368919611, 0.015735739842057228, 0.035292547196149826, 0.01779499277472496, 0.16295138001441956, 0.0, 0.0, 0.0, 0.0, 0.0, 0.0, 0.0, 0.0, 0.0, 0.0, 0.0, 0.0], [0.0027362387627363205, 0.003270441899076104, 0.00024938516435213387, 2.9521108444896527e-05, 0.00271907658316195, 1.5680814613006078e-05, 0.0011440061498433352, 3.528553861542605e-05, 1.9352071831235662e-05, 3.620967618189752e-05, 1.2202220204926562e-05, 0.00012145649816375226, 4.9556045269127935e-05, 1.1851500858028885e-05, 8.826622797641903e-05, 3.184519300702959e-05, 8.618916035629809e-05, 0.00013057797332294285, 9.267537097912282e-05, 1.844452526711393e-05, 4.454887402971508e-06, 1.421102206222713e-05, 0.0002081980783259496, 6.224938988452777e-05, 2.7289990612189285e-05, 8.52709672471974e-06, 0.0010931710712611675, 0.0010258982656523585, 1.8266413462697528e-05, 9.816321835387498e-06, 7.59996567012422e-07, 4.151809662289452e-06, 8.365893336303998e-06, 0.9866164922714233, 0.0, 0.0, 0.0, 0.0, 0.0, 0.0, 0.0, 0.0, 0.0, 0.0, 0.0], [0.013301754370331764, 0.0020241783931851387, 0.0009810638148337603, 0.00027103954926133156, 0.0262425746768713, 6.968410161789507e-05, 0.00018824632570613176, 0.0003323276177980006, 0.00020717488951049745, 0.0003558360622264445, 1.8688786440179683e-05, 0.0003101633337792009, 0.00028844253392890096, 0.00014157569967210293, 0.00021018930419813842, 0.0001373012928524986, 0.0002454254135955125, 0.0005858635413460433, 0.0008409079746343195, 0.00037898425944149494, 0.00011255504796281457, 0.0009485278860665858, 0.00025817210553213954, 0.0005371632287278771, 0.00023706436331849545, 9.896167466649786e-05, 1.4541826203640085e-05, 7.514368189731613e-05, 1.0142452993022744e-05, 7.690776692470536e-05, 6.643282540608197e-05, 5.446000432129949e-05, 0.00010782010213006288, 0.002189124235883355, 0.9480817317962646, 0.0, 0.0, 0.0, 0.0, 0.0, 0.0, 0.0, 0.0, 0.0, 0.0], [0.007696847431361675, 0.15869814157485962, 0.009859558194875717, 8.425311534665525e-05, 0.0003674401668831706, 1.3027561180933844e-05, 0.0004992220201529562, 5.825457719765836e-06, 0.00012439032434485853, 2.98384043162514e-06, 2.739754563663155e-05, 5.03272567584645e-05, 1.0554337677604053e-05, 8.505129517288879e-05, 0.0008647287031635642, 1.2694396900769789e-05, 3.659395588329062e-05, 4.428135434864089e-05, 9.904619219014421e-06, 1.922995352288126e-06, 7.209437899291515e-05, 0.00028317313990555704, 2.9594106308650225e-05, 0.4371340572834015, 2.6435978725203313e-05, 2.2713166458743217e-07, 5.0392973207635805e-06, 9.016539479489438e-06, 1.7468883015681058e-05, 1.8711498341872357e-05, 2.0974577637389302e-05, 1.4461471437243745e-05, 3.384307274245657e-05, 6.001755173201673e-05, 7.490483403671533e-05, 0.3837048411369324, 0.0, 0.0, 0.0, 0.0, 0.0, 0.0, 0.0, 0.0, 0.0], [0.0017766370438039303, 0.0005355491302907467, 0.7457762956619263, 4.6303113776957616e-05, 5.550495188799687e-05, 2.5119243218796328e-05, 0.00010473801376065239, 2.32903425967379e-06, 1.8367494476478896e-06, 1.3461000889947172e-05, 5.753944060415961e-05, 2.1642629235429922e-06, 1.68386191035097e-06, 1.1267383115409757e-06, 1.3361139281187207e-05, 3.1254946861736244e-06, 1.5614087942594779e-06, 2.96876123684342e-06, 1.75528293766547e-06, 1.847028670454165e-06, 8.187414550775429e-07, 4.568047131670028e-07, 3.959200967074139e-07, 0.00010544818360358477, 3.732862069227849e-06, 2.668917886694544e-07, 3.3403036923118634e-06, 1.6394515967022016e-07, 6.627897732869314e-07, 6.653369268860843e-07, 2.7740277346310904e-06, 8.950756296144391e-07, 6.146797204564791e-07, 4.4609990368371655e-07, 9.953372455129283e-07, 7.875914889154956e-05, 0.25137460231781006, 0.0, 0.0, 0.0, 0.0, 0.0, 0.0, 0.0, 0.0], [0.010852410458028316, 0.041330400854349136, 0.037792377173900604, 0.4762011468410492, 0.006301875226199627, 0.0037114406004548073, 0.005000404082238674, 0.00012652072473429143, 0.010741861537098885, 0.0034441212192177773, 0.002048556925728917, 0.01431815605610609, 0.01531571988016367, 0.0075968592427670956, 0.006498608272522688, 0.00035512118483893573, 0.011279197409749031, 0.012322279624640942, 0.0019191702594980597, 0.00021193749853409827, 0.00726846419274807, 0.02283911593258381, 0.0018468028865754604, 0.006307509262114763, 0.004190681967884302, 0.0003559427277650684, 0.0012270259903743863, 0.0016487514367327094, 0.0006817627581767738, 0.00943918526172638, 0.010416604578495026, 0.007569075096398592, 0.05935997888445854, 0.0006261847447603941, 0.001007166923955083, 0.0048667355440557, 0.005856676027178764, 0.18712422251701355, 0.0, 0.0, 0.0, 0.0, 0.0, 0.0, 0.0], [0.011952342465519905, 0.011046964675188065, 0.00044559300295077264, 3.74814189854078e-05, 0.0019039511680603027, 1.4783718143007718e-05, 9.402872092323378e-05, 1.783753396011889e-05, 2.294836303917691e-05, 1.7579774066689424e-05, 9.510838026471902e-06, 2.7028258045902476e-05, 0.00039639801252633333, 1.3176174434192944e-05, 2.4681712602614425e-05, 3.359963375260122e-05, 1.8285407350049354e-05, 5.084790609544143e-05, 3.251024099881761e-05, 2.2698220618622145e-06, 8.556910870538559e-06, 8.93825290404493e-06, 1.3610595487989485e-05, 8.729880210012197e-05, 4.355263627076056e-06, 8.461135507786821e-07, 5.905895886826329e-05, 0.00030334063922055066, 6.604601026083401e-07, 1.1954422006965615e-05, 6.615683219024504e-07, 3.242317689000629e-05, 2.233687837360776e-06, 8.295915904454887e-05, 5.933289230597438e-06, 5.939095717621967e-05, 1.810387402656488e-05, 4.068121143063763e-06, 0.9731338024139404, 0.0, 0.0, 0.0, 0.0, 0.0, 0.0], [0.0029323454946279526, 3.625676254159771e-05, 0.00011067241575801745, 3.5657449188875034e-06, 0.00030700996285304427, 2.543783739383798e-05, 4.44520846940577e-05, 7.874381117289886e-05, 1.9306154896980843e-08, 4.308844381739618e-06, 0.00022975703177507967, 9.786408128320545e-08, 2.4447151645290432e-06, 1.0145570605857301e-08, 1.1744663908075381e-07, 3.5619077607407235e-06, 6.445255706921671e-08, 5.363145874071051e-07, 1.2680240615736693e-05, 2.0436620616237633e-05, 1.1688355172623233e-08, 1.1478645092211082e-06, 1.952599291143997e-07, 2.0734884742523718e-07, 6.398279879249458e-07, 1.3758358363702428e-06, 3.63739236490801e-05, 1.9682009224197827e-05, 8.064333997026552e-06, 5.316524998022487e-09, 2.201639546228762e-07, 2.2811093458585674e-07, 2.4963778599840225e-08, 1.3320885727807763e-06, 3.156098102863325e-07, 1.3571127510658698e-07, 6.8259055296948645e-06, 4.078787796402139e-08, 3.1806982860871358e-06, 0.9961073994636536, 0.0, 0.0, 0.0, 0.0, 0.0], [0.013491871766746044, 0.055457018315792084, 0.018959052860736847, 0.10670194774866104, 0.016822321340441704, 0.0018171261763200164, 0.011420284397900105, 0.001358228619210422, 0.017640434205532074, 0.007633423898369074, 0.0009066470665857196, 0.0185475405305624, 0.012320070527493954, 0.013576572760939598, 0.00589788518846035, 0.004041047301143408, 0.015157526358962059, 0.041868023574352264, 0.006127309985458851, 0.00023135755327530205, 0.014750282280147076, 0.030783021822571754, 0.01825469732284546, 0.006483820732682943, 0.03416072577238083, 0.0006938300793990493, 0.008803258650004864, 0.0074458797462284565, 0.001220276695676148, 0.14366093277931213, 0.013324476778507233, 0.013807273469865322, 0.0899769589304924, 0.013740385882556438, 0.0029442678205668926, 0.0052651297301054, 0.0036071534268558025, 0.06589841097593307, 0.028094584122300148, 0.0013754782266914845, 0.12573347985744476, 0.0, 0.0, 0.0, 0.0], [0.0013191418256610632, 1.7353557268506847e-05, 5.455200880533084e-05, 1.6937783584580757e-06, 0.00015029721544124186, 1.227121174451895e-05, 2.2973594241193496e-05, 3.716882929438725e-05, 8.753674229922126e-09, 2.036630348811741e-06, 0.00011261819599894807, 4.508715889528503e-08, 1.1170992593179108e-06, 4.596921066024606e-09, 5.371468247972189e-08, 1.6906686823858763e-06, 2.9675495838432653e-08, 2.4994577074721747e-07, 6.099640813772567e-06, 9.93471621768549e-06, 5.339126918357806e-09, 5.309220227900369e-07, 8.881681878847303e-08, 9.763618891156511e-08, 2.9560098369074694e-07, 6.529512006636651e-07, 1.7169822967844084e-05, 9.561103979649488e-06, 3.948882749682525e-06, 2.44237008395487e-09, 1.0284141183092288e-07, 1.1162828883470866e-07, 1.1488505258228088e-08, 6.291574550232326e-07, 1.4624980337885063e-07, 6.374914107709628e-08, 3.390910023881588e-06, 1.8911814336775024e-08, 1.4956754057493526e-06, 0.4944511651992798, 1.6585237627708693e-09, 0.5037611722946167, 0.0, 0.0, 0.0], [0.01318442728370428, 0.002274990314617753, 0.00013567632413469255, 0.0003791816416196525, 4.872862064075889e-06, 5.6724245951045305e-05, 0.00037580716889351606, 8.660333605803316e-07, 2.4809176466078497e-05, 3.5165589906682726e-06, 0.00045054193469695747, 3.275261042290367e-05, 1.8394568542134948e-05, 1.4937617379473522e-05, 1.4002673196955584e-05, 1.3865708751836792e-05, 2.20134843402775e-05, 2.2726675524609163e-05, 1.4558005204889923e-05, 1.210584628097422e-06, 5.6564044825790916e-06, 0.000395337789086625, 0.00013486655370797962, 1.9935625459766015e-05, 1.607203739695251e-05, 3.494532450076804e-07, 0.00230719824321568, 2.962543112516869e-05, 3.5151995689375326e-05, 5.3240232773532625e-06, 3.043374590561143e-06, 8.411095677729463e-07, 8.240952411142644e-06, 0.00010501054930500686, 1.36991707222478e-06, 1.3092181688989513e-05, 5.395588232204318e-06, 1.7740279872668907e-05, 5.104147567180917e-05, 1.594474451849237e-05, 3.7204054024186917e-06, 1.597823211341165e-05, 0.9797633290290833, 0.0, 0.0], [0.011533909477293491, 0.07124242186546326, 0.02710118517279625, 0.05229572206735611, 0.0143438670784235, 0.001998055027797818, 0.008760015480220318, 0.0016745158936828375, 0.07350023835897446, 0.010065196081995964, 0.004412671085447073, 0.025439275428652763, 0.02388264425098896, 0.06236708164215088, 0.01478542946279049, 0.0032653221860527992, 0.02201169915497303, 0.03261759132146835, 0.0047746398486196995, 0.0018572671106085181, 0.03536418080329895, 0.05471824109554291, 0.01749788038432598, 0.04364367201924324, 0.021463220939040184, 0.006983515340834856, 0.006139443721622229, 0.011119364760816097, 0.006470830645412207, 0.0258324071764946, 0.026794003322720528, 0.007963120937347412, 0.04141227528452873, 0.011364033445715904, 0.017543938010931015, 0.03860725462436676, 0.00852247979491949, 0.03562065213918686, 0.01885390281677246, 0.0067568691447377205, 0.022863877937197685, 0.006534500978887081, 0.014411279000341892, 0.045590341091156006, 0.0], [0.010251597501337528, 0.04663607478141785, 0.015769092366099358, 0.08917997777462006, 0.014797587879002094, 0.0015219615306705236, 0.009846767410635948, 0.001220596139319241, 0.015242752619087696, 0.00645064003765583, 0.0007188206072896719, 0.016121741384267807, 0.01109613198786974, 0.011748830787837505, 0.005067877937108278, 0.003508146619424224, 0.013185651041567326, 0.03668065369129181, 0.005465090274810791, 0.0002023777924478054, 0.012602503411471844, 0.028063854202628136, 0.016580820083618164, 0.005631332751363516, 0.03150048106908798, 0.0005961644928902388, 0.007464537862688303, 0.006695868447422981, 0.0010335909901186824, 0.12763820588588715, 0.011578187346458435, 0.01250352244824171, 0.08112912625074387, 0.011480297893285751, 0.002627321984618902, 0.004566403105854988, 0.0030411130283027887, 0.05817224830389023, 0.025458965450525284, 0.0012184299994260073, 0.11134880781173706, 0.001182943000458181, 0.0072146630845963955, 0.0069716013967990875, 0.10898661613464355]], [[1.0, 0.0, 0.0, 0.0, 0.0, 0.0, 0.0, 0.0, 0.0, 0.0, 0.0, 0.0, 0.0, 0.0, 0.0, 0.0, 0.0, 0.0, 0.0, 0.0, 0.0, 0.0, 0.0, 0.0, 0.0, 0.0, 0.0, 0.0, 0.0, 0.0, 0.0, 0.0, 0.0, 0.0, 0.0, 0.0, 0.0, 0.0, 0.0, 0.0, 0.0, 0.0, 0.0, 0.0, 0.0], [0.9360752105712891, 0.06392483413219452, 0.0, 0.0, 0.0, 0.0, 0.0, 0.0, 0.0, 0.0, 0.0, 0.0, 0.0, 0.0, 0.0, 0.0, 0.0, 0.0, 0.0, 0.0, 0.0, 0.0, 0.0, 0.0, 0.0, 0.0, 0.0, 0.0, 0.0, 0.0, 0.0, 0.0, 0.0, 0.0, 0.0, 0.0, 0.0, 0.0, 0.0, 0.0, 0.0, 0.0, 0.0, 0.0, 0.0], [0.8446658253669739, 0.06946853548288345, 0.0858655795454979, 0.0, 0.0, 0.0, 0.0, 0.0, 0.0, 0.0, 0.0, 0.0, 0.0, 0.0, 0.0, 0.0, 0.0, 0.0, 0.0, 0.0, 0.0, 0.0, 0.0, 0.0, 0.0, 0.0, 0.0, 0.0, 0.0, 0.0, 0.0, 0.0, 0.0, 0.0, 0.0, 0.0, 0.0, 0.0, 0.0, 0.0, 0.0, 0.0, 0.0, 0.0, 0.0], [0.6426600813865662, 0.1298869103193283, 0.17117175459861755, 0.05628124624490738, 0.0, 0.0, 0.0, 0.0, 0.0, 0.0, 0.0, 0.0, 0.0, 0.0, 0.0, 0.0, 0.0, 0.0, 0.0, 0.0, 0.0, 0.0, 0.0, 0.0, 0.0, 0.0, 0.0, 0.0, 0.0, 0.0, 0.0, 0.0, 0.0, 0.0, 0.0, 0.0, 0.0, 0.0, 0.0, 0.0, 0.0, 0.0, 0.0, 0.0, 0.0], [0.5074959397315979, 0.0778627097606659, 0.0726853460073471, 0.10711850970983505, 0.23483754694461823, 0.0, 0.0, 0.0, 0.0, 0.0, 0.0, 0.0, 0.0, 0.0, 0.0, 0.0, 0.0, 0.0, 0.0, 0.0, 0.0, 0.0, 0.0, 0.0, 0.0, 0.0, 0.0, 0.0, 0.0, 0.0, 0.0, 0.0, 0.0, 0.0, 0.0, 0.0, 0.0, 0.0, 0.0, 0.0, 0.0, 0.0, 0.0, 0.0, 0.0], [0.4970755875110626, 0.06315260380506516, 0.1155911237001419, 0.08851399272680283, 0.1019635945558548, 0.13370314240455627, 0.0, 0.0, 0.0, 0.0, 0.0, 0.0, 0.0, 0.0, 0.0, 0.0, 0.0, 0.0, 0.0, 0.0, 0.0, 0.0, 0.0, 0.0, 0.0, 0.0, 0.0, 0.0, 0.0, 0.0, 0.0, 0.0, 0.0, 0.0, 0.0, 0.0, 0.0, 0.0, 0.0, 0.0, 0.0, 0.0, 0.0, 0.0, 0.0], [0.30812808871269226, 0.06775974482297897, 0.13057541847229004, 0.054409369826316833, 0.04050320386886597, 0.36059141159057617, 0.038032710552215576, 0.0, 0.0, 0.0, 0.0, 0.0, 0.0, 0.0, 0.0, 0.0, 0.0, 0.0, 0.0, 0.0, 0.0, 0.0, 0.0, 0.0, 0.0, 0.0, 0.0, 0.0, 0.0, 0.0, 0.0, 0.0, 0.0, 0.0, 0.0, 0.0, 0.0, 0.0, 0.0, 0.0, 0.0, 0.0, 0.0, 0.0, 0.0], [0.32434964179992676, 0.06349693983793259, 0.07783648371696472, 0.07798175513744354, 0.07410476356744766, 0.13590551912784576, 0.07038859277963638, 0.1759362518787384, 0.0, 0.0, 0.0, 0.0, 0.0, 0.0, 0.0, 0.0, 0.0, 0.0, 0.0, 0.0, 0.0, 0.0, 0.0, 0.0, 0.0, 0.0, 0.0, 0.0, 0.0, 0.0, 0.0, 0.0, 0.0, 0.0, 0.0, 0.0, 0.0, 0.0, 0.0, 0.0, 0.0, 0.0, 0.0, 0.0, 0.0], [0.16412919759750366, 0.03469286113977432, 0.05131256952881813, 0.013316993601620197, 0.17712701857089996, 0.1595190018415451, 0.09812309592962265, 0.29690471291542053, 0.004874551203101873, 0.0, 0.0, 0.0, 0.0, 0.0, 0.0, 0.0, 0.0, 0.0, 0.0, 0.0, 0.0, 0.0, 0.0, 0.0, 0.0, 0.0, 0.0, 0.0, 0.0, 0.0, 0.0, 0.0, 0.0, 0.0, 0.0, 0.0, 0.0, 0.0, 0.0, 0.0, 0.0, 0.0, 0.0, 0.0, 0.0], [0.18775463104248047, 0.05488045886158943, 0.10758274793624878, 0.04391004517674446, 0.1406543105840683, 0.11696729809045792, 0.05246002972126007, 0.1536640077829361, 0.04935269430279732, 0.09277382493019104, 0.0, 0.0, 0.0, 0.0, 0.0, 0.0, 0.0, 0.0, 0.0, 0.0, 0.0, 0.0, 0.0, 0.0, 0.0, 0.0, 0.0, 0.0, 0.0, 0.0, 0.0, 0.0, 0.0, 0.0, 0.0, 0.0, 0.0, 0.0, 0.0, 0.0, 0.0, 0.0, 0.0, 0.0, 0.0], [0.2051711529493332, 0.04006880149245262, 0.0833921805024147, 0.04565279185771942, 0.05697014927864075, 0.13319887220859528, 0.026416392996907234, 0.09950854629278183, 0.050134606659412384, 0.2141735851764679, 0.04531293734908104, 0.0, 0.0, 0.0, 0.0, 0.0, 0.0, 0.0, 0.0, 0.0, 0.0, 0.0, 0.0, 0.0, 0.0, 0.0, 0.0, 0.0, 0.0, 0.0, 0.0, 0.0, 0.0, 0.0, 0.0, 0.0, 0.0, 0.0, 0.0, 0.0, 0.0, 0.0, 0.0, 0.0, 0.0], [0.10754454880952835, 0.02095544897019863, 0.052468448877334595, 0.00833084899932146, 0.17997515201568604, 0.10652034729719162, 0.07210804522037506, 0.20191138982772827, 0.0033460466656833887, 0.14021334052085876, 0.10356741398572922, 0.0030589597299695015, 0.0, 0.0, 0.0, 0.0, 0.0, 0.0, 0.0, 0.0, 0.0, 0.0, 0.0, 0.0, 0.0, 0.0, 0.0, 0.0, 0.0, 0.0, 0.0, 0.0, 0.0, 0.0, 0.0, 0.0, 0.0, 0.0, 0.0, 0.0, 0.0, 0.0, 0.0, 0.0, 0.0], [0.09423350542783737, 0.022835412994027138, 0.05558853968977928, 0.026967842131853104, 0.12799425423145294, 0.07631108164787292, 0.07361147552728653, 0.16634687781333923, 0.03019634820520878, 0.11622443050146103, 0.13079148530960083, 0.022433560341596603, 0.05646512284874916, 0.0, 0.0, 0.0, 0.0, 0.0, 0.0, 0.0, 0.0, 0.0, 0.0, 0.0, 0.0, 0.0, 0.0, 0.0, 0.0, 0.0, 0.0, 0.0, 0.0, 0.0, 0.0, 0.0, 0.0, 0.0, 0.0, 0.0, 0.0, 0.0, 0.0, 0.0, 0.0], [0.11027710139751434, 0.019917307421565056, 0.03387212008237839, 0.008012217469513416, 0.12686948478221893, 0.12052720785140991, 0.06604591757059097, 0.21159577369689941, 0.002910381415858865, 0.13361388444900513, 0.07830417156219482, 0.005965672433376312, 0.0786396712064743, 0.003449013689532876, 0.0, 0.0, 0.0, 0.0, 0.0, 0.0, 0.0, 0.0, 0.0, 0.0, 0.0, 0.0, 0.0, 0.0, 0.0, 0.0, 0.0, 0.0, 0.0, 0.0, 0.0, 0.0, 0.0, 0.0, 0.0, 0.0, 0.0, 0.0, 0.0, 0.0, 0.0], [0.1600770652294159, 0.05452115461230278, 0.059736236929893494, 0.020207514986395836, 0.052660420536994934, 0.10011064261198044, 0.11729258298873901, 0.14998747408390045, 0.01724836975336075, 0.05625281482934952, 0.09442036598920822, 0.01204691082239151, 0.020297687500715256, 0.018244558945298195, 0.06689620018005371, 0.0, 0.0, 0.0, 0.0, 0.0, 0.0, 0.0, 0.0, 0.0, 0.0, 0.0, 0.0, 0.0, 0.0, 0.0, 0.0, 0.0, 0.0, 0.0, 0.0, 0.0, 0.0, 0.0, 0.0, 0.0, 0.0, 0.0, 0.0, 0.0, 0.0], [0.17850053310394287, 0.04271138086915016, 0.05876288563013077, 0.025501539930701256, 0.02821972966194153, 0.0939595028758049, 0.03569772094488144, 0.038533009588718414, 0.02757411077618599, 0.124172143638134, 0.09900188446044922, 0.02991955168545246, 0.041689131408929825, 0.030038559809327126, 0.08029218763113022, 0.06542612612247467, 0.0, 0.0, 0.0, 0.0, 0.0, 0.0, 0.0, 0.0, 0.0, 0.0, 0.0, 0.0, 0.0, 0.0, 0.0, 0.0, 0.0, 0.0, 0.0, 0.0, 0.0, 0.0, 0.0, 0.0, 0.0, 0.0, 0.0, 0.0, 0.0], [0.0826260894536972, 0.014221647754311562, 0.039103347808122635, 0.0058097741566598415, 0.14161062240600586, 0.08671100437641144, 0.055034950375556946, 0.15626993775367737, 0.002328180940821767, 0.11679328233003616, 0.08067946881055832, 0.002191799459978938, 0.09792859852313995, 0.0027368678711354733, 0.03297453001141548, 0.08037842810153961, 0.002601495012640953, 0.0, 0.0, 0.0, 0.0, 0.0, 0.0, 0.0, 0.0, 0.0, 0.0, 0.0, 0.0, 0.0, 0.0, 0.0, 0.0, 0.0, 0.0, 0.0, 0.0, 0.0, 0.0, 0.0, 0.0, 0.0, 0.0, 0.0, 0.0], [0.09858327358961105, 0.0283206719905138, 0.05263178423047066, 0.01785864494740963, 0.06163658946752548, 0.08070766180753708, 0.07397958636283875, 0.09560465067625046, 0.009335820563137531, 0.08467233926057816, 0.11269152909517288, 0.018467877060174942, 0.03856262192130089, 0.011051513254642487, 0.06964195519685745, 0.09237805753946304, 0.02256043441593647, 0.03131492808461189, 0.0, 0.0, 0.0, 0.0, 0.0, 0.0, 0.0, 0.0, 0.0, 0.0, 0.0, 0.0, 0.0, 0.0, 0.0, 0.0, 0.0, 0.0, 0.0, 0.0, 0.0, 0.0, 0.0, 0.0, 0.0, 0.0, 0.0], [0.14957916736602783, 0.013048059307038784, 0.03394851088523865, 0.015061762183904648, 0.04509883373975754, 0.08479967713356018, 0.027256976813077927, 0.17206282913684845, 0.016850342974066734, 0.10883239656686783, 0.11793851852416992, 0.00832325592637062, 0.016134321689605713, 0.017726466059684753, 0.026173429563641548, 0.05189085379242897, 0.00897607859224081, 0.010605725459754467, 0.07569277286529541, 0.0, 0.0, 0.0, 0.0, 0.0, 0.0, 0.0, 0.0, 0.0, 0.0, 0.0, 0.0, 0.0, 0.0, 0.0, 0.0, 0.0, 0.0, 0.0, 0.0, 0.0, 0.0, 0.0, 0.0, 0.0, 0.0], [0.2303972989320755, 0.024296818301081657, 0.026559978723526, 0.03924620524048805, 0.042302269488573074, 0.049243416637182236, 0.007979442365467548, 0.0732208862900734, 0.03455187380313873, 0.06601925194263458, 0.03830169513821602, 0.03672323375940323, 0.0241401270031929, 0.03710527718067169, 0.028557131066918373, 0.05446396395564079, 0.03901508077979088, 0.01594438962638378, 0.046100083738565445, 0.0858316496014595, 0.0, 0.0, 0.0, 0.0, 0.0, 0.0, 0.0, 0.0, 0.0, 0.0, 0.0, 0.0, 0.0, 0.0, 0.0, 0.0, 0.0, 0.0, 0.0, 0.0, 0.0, 0.0, 0.0, 0.0, 0.0], [0.05691664665937424, 0.006225017365068197, 0.01175442524254322, 0.0035496773198246956, 0.07110721617937088, 0.0800657644867897, 0.022162355482578278, 0.11016800999641418, 0.0010484926169738173, 0.08122199773788452, 0.026672055944800377, 0.002196083078160882, 0.030598534271121025, 0.0012014058884233236, 0.01493776123970747, 0.14736880362033844, 0.0026267508510500193, 0.033389173448085785, 0.11049012839794159, 0.18504446744918823, 0.0012552248081192374, 0.0, 0.0, 0.0, 0.0, 0.0, 0.0, 0.0, 0.0, 0.0, 0.0, 0.0, 0.0, 0.0, 0.0, 0.0, 0.0, 0.0, 0.0, 0.0, 0.0, 0.0, 0.0, 0.0, 0.0], [0.09241704642772675, 0.026059623807668686, 0.024830598384141922, 0.014753974974155426, 0.07309959828853607, 0.041600823402404785, 0.028182964771986008, 0.10522369295358658, 0.010200563818216324, 0.02671687677502632, 0.038636259734630585, 0.00834211427718401, 0.034165360033512115, 0.011011885479092598, 0.027021968737244606, 0.10600949823856354, 0.009498469531536102, 0.01612308993935585, 0.06257017701864243, 0.19003157317638397, 0.010448911227285862, 0.043055012822151184, 0.0, 0.0, 0.0, 0.0, 0.0, 0.0, 0.0, 0.0, 0.0, 0.0, 0.0, 0.0, 0.0, 0.0, 0.0, 0.0, 0.0, 0.0, 0.0, 0.0, 0.0, 0.0, 0.0], [0.06173653528094292, 0.007029626984149218, 0.01948661543428898, 0.010366822592914104, 0.046012867242097855, 0.07236863672733307, 0.022752363234758377, 0.08978491276502609, 0.005041902419179678, 0.07019015401601791, 0.07947879284620285, 0.0064753941260278225, 0.038350678980350494, 0.005680917762219906, 0.015840986743569374, 0.05344105884432793, 0.007524978835135698, 0.018862154334783554, 0.09784609079360962, 0.19087882339954376, 0.0069852969609200954, 0.02772781439125538, 0.04613660275936127, 0.0, 0.0, 0.0, 0.0, 0.0, 0.0, 0.0, 0.0, 0.0, 0.0, 0.0, 0.0, 0.0, 0.0, 0.0, 0.0, 0.0, 0.0, 0.0, 0.0, 0.0, 0.0], [0.0434984490275383, 0.006029139738529921, 0.016271809116005898, 0.004962886683642864, 0.0923277735710144, 0.05643608421087265, 0.024273201823234558, 0.10004424303770065, 0.0013475852319970727, 0.04695267602801323, 0.043369993567466736, 0.0026120932307094336, 0.025980012491345406, 0.0015367745654657483, 0.013811727985739708, 0.12162512540817261, 0.003084056079387665, 0.014781145378947258, 0.08252865821123123, 0.20843425393104553, 0.002105811145156622, 0.03356641158461571, 0.04992131143808365, 0.00449881749227643, 0.0, 0.0, 0.0, 0.0, 0.0, 0.0, 0.0, 0.0, 0.0, 0.0, 0.0, 0.0, 0.0, 0.0, 0.0, 0.0, 0.0, 0.0, 0.0, 0.0, 0.0], [0.05493931844830513, 0.005164699163287878, 0.013282538391649723, 0.0068168044090271, 0.08581956475973129, 0.04258371517062187, 0.010111804120242596, 0.10901319980621338, 0.0030670450069010258, 0.04195147380232811, 0.03668753802776337, 0.0038776027504354715, 0.03639630228281021, 0.0036428305320441723, 0.015713084489107132, 0.045142799615859985, 0.0047706314362585545, 0.010733417235314846, 0.12949077785015106, 0.18343371152877808, 0.005763915833085775, 0.06008812040090561, 0.0642036721110344, 0.008479912765324116, 0.018825503066182137, 0.0, 0.0, 0.0, 0.0, 0.0, 0.0, 0.0, 0.0, 0.0, 0.0, 0.0, 0.0, 0.0, 0.0, 0.0, 0.0, 0.0, 0.0, 0.0, 0.0], [0.1161927878856659, 0.024008192121982574, 0.017500845715403557, 0.022795291617512703, 0.05027652531862259, 0.03202547878026962, 0.020647749304771423, 0.039747416973114014, 0.023735981434583664, 0.026677900925278664, 0.01885642483830452, 0.02817135863006115, 0.034608807414770126, 0.026643717661499977, 0.022768065333366394, 0.023577356711030006, 0.031199190765619278, 0.022620433941483498, 0.09706809371709824, 0.06436186283826828, 0.032514333724975586, 0.04557201638817787, 0.04268260300159454, 0.028252853080630302, 0.025809552520513535, 0.0816851407289505, 0.0, 0.0, 0.0, 0.0, 0.0, 0.0, 0.0, 0.0, 0.0, 0.0, 0.0, 0.0, 0.0, 0.0, 0.0, 0.0, 0.0, 0.0, 0.0], [0.11220826208591461, 0.00527593307197094, 0.013701368123292923, 0.006475639529526234, 0.05825746804475784, 0.05591835454106331, 0.013027258217334747, 0.10451261699199677, 0.00401367386803031, 0.0401136614382267, 0.03787229210138321, 0.0031745308078825474, 0.012129999697208405, 0.004096257966011763, 0.007334528956562281, 0.017732828855514526, 0.003475235076621175, 0.0030595562420785427, 0.09483388066291809, 0.20002642273902893, 0.005673966370522976, 0.016374556347727776, 0.017230236902832985, 0.004368433728814125, 0.00930806715041399, 0.09713461995124817, 0.05267035961151123, 0.0, 0.0, 0.0, 0.0, 0.0, 0.0, 0.0, 0.0, 0.0, 0.0, 0.0, 0.0, 0.0, 0.0, 0.0, 0.0, 0.0, 0.0], [0.061152707785367966, 0.004939326550811529, 0.009762829169631004, 0.005227166227996349, 0.03646274283528328, 0.03137054666876793, 0.008218894712626934, 0.11535757035017014, 0.0032728661317378283, 0.038249194622039795, 0.03337176516652107, 0.0021793777123093605, 0.00769296009093523, 0.003454805351793766, 0.009085441939532757, 0.027900516986846924, 0.002366593573242426, 0.0039482382126152515, 0.0407714881002903, 0.2757469117641449, 0.0035466637928038836, 0.012455109506845474, 0.03261315077543259, 0.0032098155934363604, 0.0036030944902449846, 0.1000962033867836, 0.08892864733934402, 0.03501541540026665, 0.0, 0.0, 0.0, 0.0, 0.0, 0.0, 0.0, 0.0, 0.0, 0.0, 0.0, 0.0, 0.0, 0.0, 0.0, 0.0, 0.0], [0.11957034468650818, 0.008050517179071903, 0.013377297669649124, 0.00708926934748888, 0.025275399908423424, 0.051490820944309235, 0.006585442461073399, 0.06165983900427818, 0.00562048377469182, 0.05561487749218941, 0.027291804552078247, 0.004286490380764008, 0.0076984320767223835, 0.005996248684823513, 0.007942013442516327, 0.02879052422940731, 0.004870967473834753, 0.0043137576431035995, 0.026228055357933044, 0.15385551750659943, 0.010709965601563454, 0.009564640000462532, 0.029178399592638016, 0.005329281557351351, 0.008051514625549316, 0.07812703400850296, 0.10984013229608536, 0.029521023854613304, 0.09406989812850952, 0.0, 0.0, 0.0, 0.0, 0.0, 0.0, 0.0, 0.0, 0.0, 0.0, 0.0, 0.0, 0.0, 0.0, 0.0, 0.0], [0.025880752131342888, 0.0032868755515664816, 0.00919060967862606, 0.0022713178768754005, 0.04206256568431854, 0.040355607867240906, 0.015107073821127415, 0.04801333695650101, 0.0008096100646071136, 0.039064209908246994, 0.026566805317997932, 0.0015204472001641989, 0.021220151335000992, 0.0009539547027088702, 0.007810370065271854, 0.03313515707850456, 0.0018792517948895693, 0.010119679383933544, 0.06751002371311188, 0.12262915819883347, 0.0015832222998142242, 0.02216804027557373, 0.03078521229326725, 0.004318808671087027, 0.01872899942100048, 0.1447751224040985, 0.06957436352968216, 0.11388754099607468, 0.07182326912879944, 0.0029684773180633783, 0.0, 0.0, 0.0, 0.0, 0.0, 0.0, 0.0, 0.0, 0.0, 0.0, 0.0, 0.0, 0.0, 0.0, 0.0], [0.04612509906291962, 0.0049293735064566135, 0.01190501730889082, 0.005939907860010862, 0.05086230859160423, 0.039155859500169754, 0.011702247895300388, 0.07777239382266998, 0.0027224901132285595, 0.029330715537071228, 0.03543662652373314, 0.0025086570531129837, 0.011883251368999481, 0.002963857026770711, 0.008878666907548904, 0.01893666945397854, 0.0028045859653502703, 0.00406692735850811, 0.06637166440486908, 0.16173599660396576, 0.004074745811522007, 0.017417898401618004, 0.04845813661813736, 0.005489853210747242, 0.014467375352978706, 0.0888427123427391, 0.05744140222668648, 0.04815756529569626, 0.09182099997997284, 0.004751020111143589, 0.023045992478728294, 0.0, 0.0, 0.0, 0.0, 0.0, 0.0, 0.0, 0.0, 0.0, 0.0, 0.0, 0.0, 0.0, 0.0], [0.028616538271307945, 0.0035397151950746775, 0.012825746089220047, 0.003731102915480733, 0.022132834419608116, 0.026339091360569, 0.015483644790947437, 0.04692450910806656, 0.0016770168440416455, 0.05343089625239372, 0.03818726912140846, 0.002529490040615201, 0.02768225222826004, 0.0019447177182883024, 0.010427959263324738, 0.02030639722943306, 0.003083116142079234, 0.008337562903761864, 0.061474401503801346, 0.05695469304919243, 0.0030909134075045586, 0.019787300378084183, 0.0377042219042778, 0.0040319073013961315, 0.02077089063823223, 0.12126167118549347, 0.08733709901571274, 0.07036232948303223, 0.09933115541934967, 0.005798675119876862, 0.06381495296955109, 0.02107994444668293, 0.0, 0.0, 0.0, 0.0, 0.0, 0.0, 0.0, 0.0, 0.0, 0.0, 0.0, 0.0, 0.0], [0.022769233211874962, 0.0023638159036636353, 0.006953610572963953, 0.000974514870904386, 0.0334312841296196, 0.0309631135314703, 0.012881078757345676, 0.0763968899846077, 0.00026210397481918335, 0.030449923127889633, 0.03674255684018135, 0.0005670604878105223, 0.014569027349352837, 0.00030553326359950006, 0.005948361940681934, 0.022492561489343643, 0.0007025569793768227, 0.004866449628025293, 0.060261838138103485, 0.15585914254188538, 0.000500176683999598, 0.019988084211945534, 0.030868515372276306, 0.0031281504780054092, 0.012151171453297138, 0.11994653195142746, 0.07597392797470093, 0.09628812223672867, 0.07584253698587418, 0.0010643763234838843, 0.03271332010626793, 0.01111111231148243, 0.0006633004522882402, 0.0, 0.0, 0.0, 0.0, 0.0, 0.0, 0.0, 0.0, 0.0, 0.0, 0.0, 0.0], [0.06755810976028442, 0.0033527968917042017, 0.008972210809588432, 0.0034025409258902073, 0.05607307329773903, 0.030404703691601753, 0.013628308661282063, 0.07952423393726349, 0.0025889375247061253, 0.03472939506173134, 0.015315969474613667, 0.002527100034058094, 0.0076854717917740345, 0.0026928253937512636, 0.007112996187061071, 0.026128463447093964, 0.0027733691968023777, 0.007069501560181379, 0.050762053579092026, 0.1759389042854309, 0.003935438115149736, 0.010542862117290497, 0.01269733626395464, 0.0028314406517893076, 0.004983487538993359, 0.05610369145870209, 0.10278663784265518, 0.07864402234554291, 0.06361378729343414, 0.004290642216801643, 0.012449045665562153, 0.007846908643841743, 0.003574161324650049, 0.037459541112184525, 0.0, 0.0, 0.0, 0.0, 0.0, 0.0, 0.0, 0.0, 0.0, 0.0, 0.0], [0.05889427289366722, 0.004834291059523821, 0.008816231042146683, 0.00491759879514575, 0.05724446475505829, 0.04719967022538185, 0.010384360328316689, 0.04373681917786598, 0.0032532138284295797, 0.02700052224099636, 0.015385997481644154, 0.005444503389298916, 0.018304411321878433, 0.0036100572906434536, 0.011856128461658955, 0.07255373150110245, 0.006018079351633787, 0.006411902140825987, 0.05586155876517296, 0.08374671638011932, 0.003973663784563541, 0.01859060674905777, 0.01944512128829956, 0.003880677279084921, 0.00893265102058649, 0.12242711335420609, 0.0409863218665123, 0.07429768145084381, 0.057745546102523804, 0.006318632047623396, 0.013084128499031067, 0.023065807297825813, 0.005796525161713362, 0.04094135761260986, 0.015039595775306225, 0.0, 0.0, 0.0, 0.0, 0.0, 0.0, 0.0, 0.0, 0.0, 0.0], [0.028848562389612198, 0.003611571155488491, 0.009986010380089283, 0.003017897019162774, 0.06160292029380798, 0.03783310577273369, 0.015444714576005936, 0.06109926104545593, 0.000789925514254719, 0.029258664697408676, 0.02489970624446869, 0.0015415085945278406, 0.016089072450995445, 0.0008643640903756022, 0.007804989814758301, 0.07727627456188202, 0.0017537795938551426, 0.008388465270400047, 0.05025492236018181, 0.12930850684642792, 0.001093375962227583, 0.019107352942228317, 0.027448728680610657, 0.00227383803576231, 0.012331432662904263, 0.11661356687545776, 0.04543137922883034, 0.05746139585971832, 0.042228396981954575, 0.0012410810450091958, 0.017181215807795525, 0.009054546244442463, 0.0023575343657284975, 0.0533168688416481, 0.01942523755133152, 0.0037597829941660166, 0.0, 0.0, 0.0, 0.0, 0.0, 0.0, 0.0, 0.0, 0.0], [0.06219058111310005, 0.0033824064303189516, 0.009720287285745144, 0.005935532506555319, 0.048207834362983704, 0.025605009868741035, 0.01164404209703207, 0.05594054237008095, 0.0031932443380355835, 0.024131139740347862, 0.030980078503489494, 0.003971482627093792, 0.01391726452857256, 0.0035021412186324596, 0.009330660104751587, 0.03767874836921692, 0.0045590950176119804, 0.008095420897006989, 0.07585052400827408, 0.07937336713075638, 0.004804655443876982, 0.017763130366802216, 0.032011255621910095, 0.002015498699620366, 0.011950884945690632, 0.07518308609724045, 0.03587764501571655, 0.06535825878381729, 0.05961233749985695, 0.00602389220148325, 0.03424883633852005, 0.019400592893362045, 0.007310585118830204, 0.05594887584447861, 0.02449646219611168, 0.0034246554132550955, 0.027359958738088608, 0.0, 0.0, 0.0, 0.0, 0.0, 0.0, 0.0, 0.0], [0.02076130546629429, 0.0029096845537424088, 0.008155260235071182, 0.0013817601138725877, 0.039326127618551254, 0.024606825783848763, 0.01179545558989048, 0.05181984603404999, 0.0004220563278067857, 0.03139891475439072, 0.02936517260968685, 0.0007551354938186705, 0.020901992917060852, 0.00048226737999357283, 0.005936569068580866, 0.022254614159464836, 0.0009040491422638297, 0.005257698241621256, 0.05648961663246155, 0.09256894886493683, 0.0006422959850169718, 0.016939131543040276, 0.030715351924300194, 0.003271582070738077, 0.013164914213120937, 0.12771645188331604, 0.05118966102600098, 0.09226357191801071, 0.06256595253944397, 0.00141253718174994, 0.04105051979422569, 0.013388015329837799, 0.0011642745230346918, 0.05992388352751732, 0.011126967146992683, 0.005925914738327265, 0.03764982894062996, 0.002395845018327236, 0.0, 0.0, 0.0, 0.0, 0.0, 0.0, 0.0], [0.029488909989595413, 0.0035581174306571484, 0.008717546239495277, 0.0038307576905936003, 0.07457266747951508, 0.02257072925567627, 0.009278149344027042, 0.0479336716234684, 0.0016172867035493255, 0.036505889147520065, 0.012273818254470825, 0.002109436085447669, 0.015938108786940575, 0.0016935261664912105, 0.006015751976519823, 0.025043688714504242, 0.0023483058903366327, 0.004251599311828613, 0.05731041729450226, 0.058806829154491425, 0.0025838050059974194, 0.01260224636644125, 0.01898389868438244, 0.002496730536222458, 0.013247904367744923, 0.14076775312423706, 0.04088572412729263, 0.06108188256621361, 0.04859083145856857, 0.0037807465996593237, 0.03349374979734421, 0.0246688574552536, 0.0029455269686877728, 0.03099880926311016, 0.0231223963201046, 0.0038219422567635775, 0.02242758497595787, 0.0046501983888447285, 0.08498416841030121, 0.0, 0.0, 0.0, 0.0, 0.0, 0.0], [0.14534059166908264, 0.007783576380461454, 0.010590576566755772, 0.013657938688993454, 0.035939596593379974, 0.03331630304455757, 0.006768533959984779, 0.06090819835662842, 0.010367789305746555, 0.028796417638659477, 0.016689764335751534, 0.006795897148549557, 0.005452889949083328, 0.0103126410394907, 0.008946658112108707, 0.01680353283882141, 0.00687233405187726, 0.0021480275318026543, 0.042671628296375275, 0.09633592516183853, 0.00981968641281128, 0.008894326165318489, 0.012751102447509766, 0.004798888694494963, 0.003591682994738221, 0.04416454955935478, 0.025313381105661392, 0.02681189961731434, 0.033467791974544525, 0.012031599879264832, 0.009231800213456154, 0.014249097555875778, 0.016647424548864365, 0.02743443474173546, 0.016416896134614944, 0.006844976916909218, 0.011785208247601986, 0.015796534717082977, 0.014814154244959354, 0.11863573640584946, 0.0, 0.0, 0.0, 0.0, 0.0], [0.017946289852261543, 0.0021956153213977814, 0.005975770298391581, 0.0014965520240366459, 0.02891346998512745, 0.028202122077345848, 0.010117637924849987, 0.030488185584545135, 0.0005147691699676216, 0.025996612384915352, 0.01644773781299591, 0.0009784079156816006, 0.014152090065181255, 0.0005813394673168659, 0.004728594329208136, 0.022466465830802917, 0.0011586524778977036, 0.006072469055652618, 0.04258494824171066, 0.08076327294111252, 0.000894345692358911, 0.01366389635950327, 0.01825220137834549, 0.002353550400584936, 0.010604962706565857, 0.08875613659620285, 0.03995900973677635, 0.06752299517393112, 0.04060758650302887, 0.0016537131741642952, 0.020372236147522926, 0.013658704236149788, 0.0011668783845379949, 0.040062885731458664, 0.011405939236283302, 0.0042130472138524055, 0.025531208142638206, 0.002955279778689146, 0.056218646466732025, 0.1954786479473114, 0.002887097653001547, 0.0, 0.0, 0.0, 0.0], [0.12737010419368744, 0.006777187343686819, 0.009245640598237514, 0.011882408522069454, 0.03177232667803764, 0.029186708852648735, 0.005913864821195602, 0.0534023679792881, 0.00900502223521471, 0.026155611500144005, 0.01448192447423935, 0.005979614797979593, 0.0048025986179709435, 0.008902531117200851, 0.007759385276585817, 0.01475935336202383, 0.006009872071444988, 0.0018982857000082731, 0.0374055840075016, 0.08219567686319351, 0.008444719016551971, 0.007641194853931665, 0.011076758615672588, 0.004027687478810549, 0.003044192213565111, 0.03834870457649231, 0.022734960541129112, 0.023633573204278946, 0.029197368770837784, 0.010281912982463837, 0.008024709299206734, 0.012384780682623386, 0.014024529606103897, 0.024020783603191376, 0.013918314129114151, 0.005711687728762627, 0.01000335905700922, 0.013420306146144867, 0.012812781147658825, 0.10320690274238586, 0.015035199001431465, 0.11409945040941238, 0.0, 0.0, 0.0], [0.047941844910383224, 0.0025779360439628363, 0.005899336189031601, 0.0034164886455982924, 0.029815495014190674, 0.02799299545586109, 0.00741131417453289, 0.030178062617778778, 0.002620608313009143, 0.01177271455526352, 0.011007324792444706, 0.0027294333558529615, 0.008336178958415985, 0.002630229340866208, 0.0035032215528190136, 0.014999977312982082, 0.002869952470064163, 0.002646174281835556, 0.03553999215364456, 0.07406990230083466, 0.0025536257307976484, 0.007081705145537853, 0.011869240552186966, 0.0018685540417209268, 0.003357167588546872, 0.054182372987270355, 0.024024974554777145, 0.04088706895709038, 0.048532161861658096, 0.0033379425294697285, 0.009699665009975433, 0.008305361494421959, 0.0026488567236810923, 0.03149928152561188, 0.008582902140915394, 0.0027684736996889114, 0.009504973888397217, 0.003345787525177002, 0.025556452572345734, 0.15679115056991577, 0.005180661100894213, 0.17445017397403717, 0.036012254655361176, 0.0, 0.0], [0.017026348039507866, 0.0024667433463037014, 0.004505269695073366, 0.0009985638316720724, 0.021041501313447952, 0.02112143114209175, 0.009916448034346104, 0.028641868382692337, 0.0003249888541176915, 0.021703124046325684, 0.009920265525579453, 0.0007271606009453535, 0.011197183281183243, 0.0003599553310777992, 0.005039761774241924, 0.031541161239147186, 0.0008426768472418189, 0.007474177051335573, 0.02812405675649643, 0.08132611215114594, 0.00047630659537389874, 0.018016107380390167, 0.00933171808719635, 0.002603391418233514, 0.008409432135522366, 0.05767948552966118, 0.024698840454220772, 0.05906932055950165, 0.025628475472331047, 0.0011291942792013288, 0.01021297462284565, 0.00869742687791586, 0.0007570806192234159, 0.02326768822968006, 0.007143330294638872, 0.00451461598277092, 0.01748395338654518, 0.002134968526661396, 0.03772224485874176, 0.12855379283428192, 0.0019227457232773304, 0.1416785567998886, 0.10332977771759033, 0.001239680452272296, 0.0], [0.01369431335479021, 0.0017253007972612977, 0.004606487229466438, 0.001160423387773335, 0.023176642134785652, 0.02179611474275589, 0.007980185560882092, 0.02381936088204384, 0.00040092412382364273, 0.0199171993881464, 0.012529892846941948, 0.0007636746158823371, 0.011248390190303326, 0.0004470186831895262, 0.003586132312193513, 0.017197346314787865, 0.0008905878639779985, 0.0047227912582457066, 0.03254177048802376, 0.06151491776108742, 0.0006659440114162862, 0.010396757163107395, 0.013637447729706764, 0.001728404313325882, 0.008023938164114952, 0.06643222272396088, 0.02955867350101471, 0.05032800883054733, 0.02979150414466858, 0.0012254748726263642, 0.015155273489654064, 0.010125655680894852, 0.0008423160179518163, 0.02908681146800518, 0.008346865884959698, 0.0030312794260680676, 0.018379412591457367, 0.00213870988227427, 0.041566263884305954, 0.14486068487167358, 0.0021161185577511787, 0.160786435008049, 0.0838993489742279, 0.0016044577350839972, 0.0025525956880301237]], [[1.0, 0.0, 0.0, 0.0, 0.0, 0.0, 0.0, 0.0, 0.0, 0.0, 0.0, 0.0, 0.0, 0.0, 0.0, 0.0, 0.0, 0.0, 0.0, 0.0, 0.0, 0.0, 0.0, 0.0, 0.0, 0.0, 0.0, 0.0, 0.0, 0.0, 0.0, 0.0, 0.0, 0.0, 0.0, 0.0, 0.0, 0.0, 0.0, 0.0, 0.0, 0.0, 0.0, 0.0, 0.0], [0.9780336022377014, 0.02196635864675045, 0.0, 0.0, 0.0, 0.0, 0.0, 0.0, 0.0, 0.0, 0.0, 0.0, 0.0, 0.0, 0.0, 0.0, 0.0, 0.0, 0.0, 0.0, 0.0, 0.0, 0.0, 0.0, 0.0, 0.0, 0.0, 0.0, 0.0, 0.0, 0.0, 0.0, 0.0, 0.0, 0.0, 0.0, 0.0, 0.0, 0.0, 0.0, 0.0, 0.0, 0.0, 0.0, 0.0], [0.5068985223770142, 0.42791491746902466, 0.06518655270338058, 0.0, 0.0, 0.0, 0.0, 0.0, 0.0, 0.0, 0.0, 0.0, 0.0, 0.0, 0.0, 0.0, 0.0, 0.0, 0.0, 0.0, 0.0, 0.0, 0.0, 0.0, 0.0, 0.0, 0.0, 0.0, 0.0, 0.0, 0.0, 0.0, 0.0, 0.0, 0.0, 0.0, 0.0, 0.0, 0.0, 0.0, 0.0, 0.0, 0.0, 0.0, 0.0], [0.34595054388046265, 0.2338511347770691, 0.19138802587985992, 0.22881029546260834, 0.0, 0.0, 0.0, 0.0, 0.0, 0.0, 0.0, 0.0, 0.0, 0.0, 0.0, 0.0, 0.0, 0.0, 0.0, 0.0, 0.0, 0.0, 0.0, 0.0, 0.0, 0.0, 0.0, 0.0, 0.0, 0.0, 0.0, 0.0, 0.0, 0.0, 0.0, 0.0, 0.0, 0.0, 0.0, 0.0, 0.0, 0.0, 0.0, 0.0, 0.0], [0.2785969376564026, 0.17525732517242432, 0.11037095636129379, 0.25180956721305847, 0.18396523594856262, 0.0, 0.0, 0.0, 0.0, 0.0, 0.0, 0.0, 0.0, 0.0, 0.0, 0.0, 0.0, 0.0, 0.0, 0.0, 0.0, 0.0, 0.0, 0.0, 0.0, 0.0, 0.0, 0.0, 0.0, 0.0, 0.0, 0.0, 0.0, 0.0, 0.0, 0.0, 0.0, 0.0, 0.0, 0.0, 0.0, 0.0, 0.0, 0.0, 0.0], [0.2080419957637787, 0.08827143162488937, 0.06160812824964523, 0.2584840953350067, 0.2705698013305664, 0.11302447319030762, 0.0, 0.0, 0.0, 0.0, 0.0, 0.0, 0.0, 0.0, 0.0, 0.0, 0.0, 0.0, 0.0, 0.0, 0.0, 0.0, 0.0, 0.0, 0.0, 0.0, 0.0, 0.0, 0.0, 0.0, 0.0, 0.0, 0.0, 0.0, 0.0, 0.0, 0.0, 0.0, 0.0, 0.0, 0.0, 0.0, 0.0, 0.0, 0.0], [0.16325631737709045, 0.12141192704439163, 0.11990711838006973, 0.1616644561290741, 0.10774069279432297, 0.29750359058380127, 0.02851591818034649, 0.0, 0.0, 0.0, 0.0, 0.0, 0.0, 0.0, 0.0, 0.0, 0.0, 0.0, 0.0, 0.0, 0.0, 0.0, 0.0, 0.0, 0.0, 0.0, 0.0, 0.0, 0.0, 0.0, 0.0, 0.0, 0.0, 0.0, 0.0, 0.0, 0.0, 0.0, 0.0, 0.0, 0.0, 0.0, 0.0, 0.0, 0.0], [0.12280931323766708, 0.039789874106645584, 0.045145463198423386, 0.13578496873378754, 0.09269554913043976, 0.11808712035417557, 0.3369848430156708, 0.10870291292667389, 0.0, 0.0, 0.0, 0.0, 0.0, 0.0, 0.0, 0.0, 0.0, 0.0, 0.0, 0.0, 0.0, 0.0, 0.0, 0.0, 0.0, 0.0, 0.0, 0.0, 0.0, 0.0, 0.0, 0.0, 0.0, 0.0, 0.0, 0.0, 0.0, 0.0, 0.0, 0.0, 0.0, 0.0, 0.0, 0.0, 0.0], [0.07854469865560532, 0.03570389002561569, 0.02910536527633667, 0.05200903117656708, 0.10322197526693344, 0.06222517415881157, 0.06801238656044006, 0.17029158771038055, 0.4008859097957611, 0.0, 0.0, 0.0, 0.0, 0.0, 0.0, 0.0, 0.0, 0.0, 0.0, 0.0, 0.0, 0.0, 0.0, 0.0, 0.0, 0.0, 0.0, 0.0, 0.0, 0.0, 0.0, 0.0, 0.0, 0.0, 0.0, 0.0, 0.0, 0.0, 0.0, 0.0, 0.0, 0.0, 0.0, 0.0, 0.0], [0.0855533555150032, 0.045082125812768936, 0.020755305886268616, 0.05748792365193367, 0.058533746749162674, 0.03812538832426071, 0.031640294939279556, 0.14470812678337097, 0.3939673900604248, 0.12414634972810745, 0.0, 0.0, 0.0, 0.0, 0.0, 0.0, 0.0, 0.0, 0.0, 0.0, 0.0, 0.0, 0.0, 0.0, 0.0, 0.0, 0.0, 0.0, 0.0, 0.0, 0.0, 0.0, 0.0, 0.0, 0.0, 0.0, 0.0, 0.0, 0.0, 0.0, 0.0, 0.0, 0.0, 0.0, 0.0], [0.03400760889053345, 0.00580130610615015, 0.004264358431100845, 0.014554580673575401, 0.002058123704046011, 0.010052242316305637, 0.015462449751794338, 0.014919934794306755, 0.07456021010875702, 0.8029413819313049, 0.02137782610952854, 0.0, 0.0, 0.0, 0.0, 0.0, 0.0, 0.0, 0.0, 0.0, 0.0, 0.0, 0.0, 0.0, 0.0, 0.0, 0.0, 0.0, 0.0, 0.0, 0.0, 0.0, 0.0, 0.0, 0.0, 0.0, 0.0, 0.0, 0.0, 0.0, 0.0, 0.0, 0.0, 0.0, 0.0], [0.03658133000135422, 0.008552638813853264, 0.009085926227271557, 0.01071858685463667, 0.031510528177022934, 0.07786070555448532, 0.028099466115236282, 0.05203386768698692, 0.09175647050142288, 0.2498079538345337, 0.2238457053899765, 0.18014685809612274, 0.0, 0.0, 0.0, 0.0, 0.0, 0.0, 0.0, 0.0, 0.0, 0.0, 0.0, 0.0, 0.0, 0.0, 0.0, 0.0, 0.0, 0.0, 0.0, 0.0, 0.0, 0.0, 0.0, 0.0, 0.0, 0.0, 0.0, 0.0, 0.0, 0.0, 0.0, 0.0, 0.0], [0.038995109498500824, 0.013953064568340778, 0.027150379493832588, 0.015978634357452393, 0.006068869959563017, 0.015332900919020176, 0.0073584518395364285, 0.00814359076321125, 0.09236104041337967, 0.0958237275481224, 0.39708951115608215, 0.22508278489112854, 0.05666198581457138, 0.0, 0.0, 0.0, 0.0, 0.0, 0.0, 0.0, 0.0, 0.0, 0.0, 0.0, 0.0, 0.0, 0.0, 0.0, 0.0, 0.0, 0.0, 0.0, 0.0, 0.0, 0.0, 0.0, 0.0, 0.0, 0.0, 0.0, 0.0, 0.0, 0.0, 0.0, 0.0], [0.02941763401031494, 0.006853986997157335, 0.005433524493128061, 0.008306876756250858, 0.01573827862739563, 0.008708895184099674, 0.008349097333848476, 0.02392008528113365, 0.04694683477282524, 0.04814501479268074, 0.09309988468885422, 0.15290862321853638, 0.1485416740179062, 0.40362951159477234, 0.0, 0.0, 0.0, 0.0, 0.0, 0.0, 0.0, 0.0, 0.0, 0.0, 0.0, 0.0, 0.0, 0.0, 0.0, 0.0, 0.0, 0.0, 0.0, 0.0, 0.0, 0.0, 0.0, 0.0, 0.0, 0.0, 0.0, 0.0, 0.0, 0.0, 0.0], [0.0371282733976841, 0.007584471721202135, 0.003545149229466915, 0.008117971941828728, 0.01883418671786785, 0.0059049855917692184, 0.009632600471377373, 0.011076662689447403, 0.04249942675232887, 0.015083981677889824, 0.019843487069010735, 0.11177271604537964, 0.1281687170267105, 0.3331786096096039, 0.24762873351573944, 0.0, 0.0, 0.0, 0.0, 0.0, 0.0, 0.0, 0.0, 0.0, 0.0, 0.0, 0.0, 0.0, 0.0, 0.0, 0.0, 0.0, 0.0, 0.0, 0.0, 0.0, 0.0, 0.0, 0.0, 0.0, 0.0, 0.0, 0.0, 0.0, 0.0], [0.02479151450097561, 0.002257243962958455, 0.0019112309673801064, 0.0031496479641646147, 0.0017746702069416642, 0.0030808618757873774, 0.019880734384059906, 0.006427111104130745, 0.015317479148507118, 0.003226611530408263, 0.02029607445001602, 0.057727307081222534, 0.022555241361260414, 0.08885956555604935, 0.7141122221946716, 0.0146324522793293, 0.0, 0.0, 0.0, 0.0, 0.0, 0.0, 0.0, 0.0, 0.0, 0.0, 0.0, 0.0, 0.0, 0.0, 0.0, 0.0, 0.0, 0.0, 0.0, 0.0, 0.0, 0.0, 0.0, 0.0, 0.0, 0.0, 0.0, 0.0, 0.0], [0.019352810457348824, 0.0027357181534171104, 0.002700642915442586, 0.002816396299749613, 0.007300612982362509, 0.01626872457563877, 0.005134698003530502, 0.010258647613227367, 0.01379147358238697, 0.03380442038178444, 0.03394484892487526, 0.024110421538352966, 0.05347483605146408, 0.09691014140844345, 0.27618828415870667, 0.2219036966562271, 0.1793036162853241, 0.0, 0.0, 0.0, 0.0, 0.0, 0.0, 0.0, 0.0, 0.0, 0.0, 0.0, 0.0, 0.0, 0.0, 0.0, 0.0, 0.0, 0.0, 0.0, 0.0, 0.0, 0.0, 0.0, 0.0, 0.0, 0.0, 0.0, 0.0], [0.016778310760855675, 0.00138366618193686, 0.0012504447950050235, 0.001953264232724905, 0.001228310284204781, 0.003427052404731512, 0.0017710175598040223, 0.0025876876898109913, 0.009956522844731808, 0.00753742316737771, 0.004963129758834839, 0.023668861016631126, 0.017456652596592903, 0.06967750191688538, 0.2612766921520233, 0.24082431197166443, 0.1767791211605072, 0.15748003125190735, 0.0, 0.0, 0.0, 0.0, 0.0, 0.0, 0.0, 0.0, 0.0, 0.0, 0.0, 0.0, 0.0, 0.0, 0.0, 0.0, 0.0, 0.0, 0.0, 0.0, 0.0, 0.0, 0.0, 0.0, 0.0, 0.0, 0.0], [0.05475040525197983, 0.009201944805681705, 0.0037833061069250107, 0.006891884841024876, 0.007006875239312649, 0.005267783999443054, 0.0019135874463245273, 0.00664900615811348, 0.022490745410323143, 0.007203702349215746, 0.03985988721251488, 0.026306962594389915, 0.035983890295028687, 0.10654620081186295, 0.14742794632911682, 0.029531925916671753, 0.148341566324234, 0.23425281047821045, 0.10658959299325943, 0.0, 0.0, 0.0, 0.0, 0.0, 0.0, 0.0, 0.0, 0.0, 0.0, 0.0, 0.0, 0.0, 0.0, 0.0, 0.0, 0.0, 0.0, 0.0, 0.0, 0.0, 0.0, 0.0, 0.0, 0.0, 0.0], [0.08004875481128693, 0.0035627486649900675, 0.00339414831250906, 0.011285560205578804, 0.012208578176796436, 0.00194350047968328, 0.0039208256639540195, 0.02411661669611931, 0.023349985480308533, 0.00897589884698391, 0.005343955010175705, 0.025336043909192085, 0.013870196416974068, 0.10103639960289001, 0.03973819315433502, 0.08061378449201584, 0.12086467444896698, 0.12294689565896988, 0.14132514595985413, 0.1761181354522705, 0.0, 0.0, 0.0, 0.0, 0.0, 0.0, 0.0, 0.0, 0.0, 0.0, 0.0, 0.0, 0.0, 0.0, 0.0, 0.0, 0.0, 0.0, 0.0, 0.0, 0.0, 0.0, 0.0, 0.0, 0.0], [0.01305335108190775, 0.001979565480723977, 0.001618212554603815, 0.001407851348631084, 0.0014868243597447872, 0.0013099174248054624, 0.0016642941627651453, 0.0025665152352303267, 0.0030626680236309767, 0.010340576991438866, 0.007755247876048088, 0.008929411880671978, 0.008869529701769352, 0.017165131866931915, 0.07265807688236237, 0.08664460480213165, 0.06223940849304199, 0.16528461873531342, 0.07255082577466965, 0.09155552834272385, 0.36785784363746643, 0.0, 0.0, 0.0, 0.0, 0.0, 0.0, 0.0, 0.0, 0.0, 0.0, 0.0, 0.0, 0.0, 0.0, 0.0, 0.0, 0.0, 0.0, 0.0, 0.0, 0.0, 0.0, 0.0, 0.0], [0.01231600996106863, 0.0011592365335673094, 0.0007622393895871937, 0.001950750476680696, 0.0012718519428744912, 0.0006892290548421443, 0.0005458983359858394, 0.0026029993314296007, 0.003917669411748648, 0.0005409361911006272, 0.0012741914251819253, 0.0065031652338802814, 0.005551593378186226, 0.017973456531763077, 0.013353331945836544, 0.03805127739906311, 0.04303400591015816, 0.03958659991621971, 0.022300688549876213, 0.03898363187909126, 0.5949541330337524, 0.15267711877822876, 0.0, 0.0, 0.0, 0.0, 0.0, 0.0, 0.0, 0.0, 0.0, 0.0, 0.0, 0.0, 0.0, 0.0, 0.0, 0.0, 0.0, 0.0, 0.0, 0.0, 0.0, 0.0, 0.0], [0.01372496783733368, 0.0016125746769830585, 0.0003289866726845503, 0.0010084316600114107, 0.001175804529339075, 0.0007259291596710682, 0.0005918751121498644, 0.0009615596500225365, 0.0031186221167445183, 0.0059700049459934235, 0.0030334608163684607, 0.0033445025328546762, 0.008407553657889366, 0.01365850493311882, 0.005607029423117638, 0.0053217168897390366, 0.019289933145046234, 0.029109658673405647, 0.013599620200693607, 0.03133777901530266, 0.2513723075389862, 0.530522346496582, 0.056176867336034775, 0.0, 0.0, 0.0, 0.0, 0.0, 0.0, 0.0, 0.0, 0.0, 0.0, 0.0, 0.0, 0.0, 0.0, 0.0, 0.0, 0.0, 0.0, 0.0, 0.0, 0.0, 0.0], [0.016002386808395386, 0.0009560456965118647, 0.0005680460599251091, 0.001554973772726953, 0.0015755750937387347, 0.0006219743518158793, 0.001125764800235629, 0.001436872174963355, 0.0023100480902940035, 0.00090283207828179, 0.001392147853039205, 0.0036725951358675957, 0.003632280742749572, 0.009217401966452599, 0.008623873814940453, 0.0270257368683815, 0.02137642726302147, 0.03330111503601074, 0.038854051381349564, 0.03905840218067169, 0.2659664452075958, 0.1937260627746582, 0.09792882204055786, 0.2291700839996338, 0.0, 0.0, 0.0, 0.0, 0.0, 0.0, 0.0, 0.0, 0.0, 0.0, 0.0, 0.0, 0.0, 0.0, 0.0, 0.0, 0.0, 0.0, 0.0, 0.0, 0.0], [0.009987288154661655, 0.0009651759173721075, 0.0006041582091711462, 0.0009222113294526935, 0.0008805821416899562, 0.0005974339437671006, 0.00021149212261661887, 0.0006455675465986133, 0.0012417678954079747, 0.000685970124322921, 0.0007031494751572609, 0.0014577420661225915, 0.001848771469667554, 0.005077191162854433, 0.0019275658996775746, 0.012413383461534977, 0.00856828223913908, 0.012073681689798832, 0.021936649456620216, 0.02919413335621357, 0.1427275389432907, 0.09834036976099014, 0.11847672611474991, 0.31631937623023987, 0.21219371259212494, 0.0, 0.0, 0.0, 0.0, 0.0, 0.0, 0.0, 0.0, 0.0, 0.0, 0.0, 0.0, 0.0, 0.0, 0.0, 0.0, 0.0, 0.0, 0.0, 0.0], [0.01686089299619198, 0.001970326527953148, 0.0008858372457325459, 0.0017656392883509398, 0.0023928354494273663, 0.0005271164700388908, 0.000361789163434878, 0.00063610530924052, 0.0022411318495869637, 0.000851584947668016, 0.0003815793024841696, 0.002274829428642988, 0.0018798476085066795, 0.007292232010513544, 0.0021466752514243126, 0.002526309806853533, 0.010355671867728233, 0.011969316750764847, 0.006590923760086298, 0.012827495113015175, 0.12130489200353622, 0.06624651700258255, 0.14612388610839844, 0.2828071713447571, 0.24703317880630493, 0.04974626749753952, 0.0, 0.0, 0.0, 0.0, 0.0, 0.0, 0.0, 0.0, 0.0, 0.0, 0.0, 0.0, 0.0, 0.0, 0.0, 0.0, 0.0, 0.0, 0.0], [0.02640504390001297, 0.001423101988621056, 0.001623445888981223, 0.0025764061138033867, 0.002689703367650509, 0.0012257545022293925, 0.0010898770997300744, 0.0009538469021208584, 0.0019223543349653482, 0.0024115245323628187, 0.00245794584043324, 0.0014354197774082422, 0.0053784954361617565, 0.004732348956167698, 0.0019391155801713467, 0.00795751716941595, 0.006086884532123804, 0.012657473795115948, 0.011602519080042839, 0.02909661829471588, 0.08598880469799042, 0.07665888965129852, 0.03624013811349869, 0.13133351504802704, 0.19490276277065277, 0.21766330301761627, 0.1315472424030304, 0.0, 0.0, 0.0, 0.0, 0.0, 0.0, 0.0, 0.0, 0.0, 0.0, 0.0, 0.0, 0.0, 0.0, 0.0, 0.0, 0.0, 0.0], [0.0238961074501276, 0.0020674997940659523, 0.0025093809235841036, 0.0018511981470510364, 0.003160966094583273, 0.0009005643078126013, 0.0002685424988158047, 0.0005213553085923195, 0.0017872134922072291, 0.0019308985210955143, 0.001015824032947421, 0.0010442654602229595, 0.001567707397043705, 0.0040600975044071674, 0.0008207382634282112, 0.0033583040349185467, 0.004117124248296022, 0.007223025895655155, 0.014547299593687057, 0.04635156691074371, 0.05601868778467178, 0.03840016573667526, 0.041609987616539, 0.10494524985551834, 0.15788239240646362, 0.12118799239397049, 0.19090256094932556, 0.16605336964130402, 0.0, 0.0, 0.0, 0.0, 0.0, 0.0, 0.0, 0.0, 0.0, 0.0, 0.0, 0.0, 0.0, 0.0, 0.0, 0.0, 0.0], [0.040757786482572556, 0.003958363551646471, 0.00569809740409255, 0.0039579859003424644, 0.0014047815930098295, 0.0003276949573773891, 0.0006401928840205073, 0.0012045829789713025, 0.0022385611664503813, 0.0007448497344739735, 0.0038365793880075216, 0.0016206830041483045, 0.0010148303117603064, 0.004261184949427843, 0.0009652948356233537, 0.00039543205639347434, 0.005401064176112413, 0.007263394072651863, 0.005766804330050945, 0.029991833493113518, 0.04173652455210686, 0.01752762496471405, 0.02515505813062191, 0.07565262168645859, 0.24542635679244995, 0.06668498367071152, 0.2648320496082306, 0.05502405762672424, 0.08651073276996613, 0.0, 0.0, 0.0, 0.0, 0.0, 0.0, 0.0, 0.0, 0.0, 0.0, 0.0, 0.0, 0.0, 0.0, 0.0, 0.0], [0.011784793809056282, 0.0013947541592642665, 0.0009515651618130505, 0.0008953196229413152, 0.0010372725082561374, 0.0004972641472704709, 0.0002528382174205035, 0.0004317566636018455, 0.0005345682729966938, 0.0002822920505423099, 0.0004274727834854275, 0.0005479570245370269, 0.0008038723608478904, 0.0011037476360797882, 0.001088284538127482, 0.0026353735011070967, 0.0020033163018524647, 0.00293945730663836, 0.005114206112921238, 0.009162313304841518, 0.020236406475305557, 0.014397251419723034, 0.014386613853275776, 0.05287303030490875, 0.04425809904932976, 0.07174723595380783, 0.08077165484428406, 0.11779721081256866, 0.1448613405227661, 0.39478278160095215, 0.0, 0.0, 0.0, 0.0, 0.0, 0.0, 0.0, 0.0, 0.0, 0.0, 0.0, 0.0, 0.0, 0.0, 0.0], [0.012992880307137966, 0.0016676157247275114, 0.001002108328975737, 0.0011761239729821682, 0.0007638356764800847, 0.0004005836381111294, 0.00012849232007283717, 0.0001051870858645998, 0.0005606429767794907, 0.00014079401444178075, 0.00012207550753373653, 0.0003985990188084543, 0.0002298829931532964, 0.0011077823583036661, 0.0003631023282650858, 0.0008891797042451799, 0.0014402443775907159, 0.0014520228141918778, 0.0026305713690817356, 0.003167380578815937, 0.01722467504441738, 0.010722342878580093, 0.005022995639592409, 0.04577847942709923, 0.047519661486148834, 0.02706710621714592, 0.052168622612953186, 0.055007949471473694, 0.11481020599603653, 0.44568806886672974, 0.14825081825256348, 0.0, 0.0, 0.0, 0.0, 0.0, 0.0, 0.0, 0.0, 0.0, 0.0, 0.0, 0.0, 0.0, 0.0], [0.011720014736056328, 0.0009638681658543646, 0.001679278095252812, 0.0009598787291906774, 0.0011835334589704871, 0.0003587343671824783, 0.00013125179975759238, 0.000209858626476489, 0.000351857568603009, 0.00011673843255266547, 0.0003326716832816601, 0.000208997618756257, 0.0001630403276067227, 0.0005591599619947374, 0.00017877893697004765, 0.0005847530555911362, 0.0006520412280224264, 0.0008100881823338568, 0.0008232027175836265, 0.006545139942318201, 0.007790671661496162, 0.006622503511607647, 0.0050529795698821545, 0.014489839784801006, 0.02494208700954914, 0.019010331481695175, 0.02852553501725197, 0.0367877222597599, 0.14266975224018097, 0.23489868640899658, 0.30085429549217224, 0.14982275664806366, 0.0, 0.0, 0.0, 0.0, 0.0, 0.0, 0.0, 0.0, 0.0, 0.0, 0.0, 0.0, 0.0], [0.011463280767202377, 0.0009014826500788331, 0.00054774503223598, 0.0005869870656169951, 0.0005616630078293383, 0.00023434797185473144, 0.00013944663805887103, 0.00019926787354052067, 0.00031403067987412214, 0.00012514658737927675, 0.00021479521819856018, 0.00024813433992676437, 0.00022906168305780739, 0.000502075650729239, 0.00045190195669420063, 0.000667673593852669, 0.0007638579700142145, 0.0009467164054512978, 0.0010094374883919954, 0.0037195775657892227, 0.007444893475621939, 0.00450055580586195, 0.0018344334093853831, 0.012973628006875515, 0.015522492118179798, 0.021838240325450897, 0.01622895710170269, 0.024697409942746162, 0.038053255528211594, 0.16302329301834106, 0.11826058477163315, 0.22884777188301086, 0.3229479193687439, 0.0, 0.0, 0.0, 0.0, 0.0, 0.0, 0.0, 0.0, 0.0, 0.0, 0.0, 0.0], [0.009539719671010971, 0.0014243281912058592, 0.0009944584453478456, 0.0009655568283051252, 0.0007854429422877729, 0.00030160692404024303, 0.00011159552377648652, 0.0008093688520602882, 0.0004005464434158057, 8.517067908542231e-05, 0.0006307552685029805, 0.00020861536904703826, 0.0002525561139918864, 0.0005451838369481266, 0.00024275531177408993, 0.0005828305729664862, 0.00055039202561602, 0.001054857624694705, 0.0010979140643030405, 0.004033541772514582, 0.005151549819856882, 0.007251258008182049, 0.00398818077519536, 0.012260391376912594, 0.013561554253101349, 0.03828653693199158, 0.06675271689891815, 0.013111530803143978, 0.10093272477388382, 0.1317911446094513, 0.054323047399520874, 0.15251493453979492, 0.30832457542419434, 0.0671326220035553, 0.0, 0.0, 0.0, 0.0, 0.0, 0.0, 0.0, 0.0, 0.0, 0.0, 0.0], [0.009234579280018806, 0.0018696922343224287, 0.0015434951055794954, 0.0012878932757303119, 0.0009349423926323652, 0.00028256099903956056, 0.00044942696695216, 0.0005594996036961675, 0.00032776803709566593, 7.203831046354026e-05, 0.00010657899838406593, 0.00026362432981841266, 0.00036547286435961723, 0.00037483120104297996, 0.00031175342155620456, 0.0008969135815277696, 0.000634744530543685, 0.0008650036761537194, 0.0008020051172934473, 0.0006307897274382412, 0.003218783065676689, 0.0038458395283669233, 0.003000435885041952, 0.007814165204763412, 0.01010721456259489, 0.0167215745896101, 0.007672092877328396, 0.01003122329711914, 0.005356390029191971, 0.07757063210010529, 0.03774449601769447, 0.138091042637825, 0.19567620754241943, 0.030743587762117386, 0.4305926561355591, 0.0, 0.0, 0.0, 0.0, 0.0, 0.0, 0.0, 0.0, 0.0, 0.0], [0.005190350580960512, 0.00036464782897382975, 0.00022184778936207294, 0.00045114054228179157, 0.00032373215071856976, 9.364887228002772e-05, 0.00015349181194324046, 0.00014229121734388173, 0.0001275576651096344, 3.45892331097275e-05, 5.600627264357172e-05, 8.847280696500093e-05, 8.565670577809215e-05, 0.0001389311655657366, 7.81182388891466e-05, 0.0004683555453084409, 0.00020238381694070995, 0.00022725542658008635, 0.0003269277804065496, 0.00043190823635086417, 0.0015741621609777212, 0.0009219482308253646, 0.0005452618934214115, 0.0009583764476701617, 0.002425311366096139, 0.0044148932211101055, 0.0028014718554913998, 0.006938041653484106, 0.0037499810568988323, 0.027174679562449455, 0.03560718894004822, 0.04251651093363762, 0.08489715307950974, 0.1459331065416336, 0.5048274397850037, 0.12550723552703857, 0.0, 0.0, 0.0, 0.0, 0.0, 0.0, 0.0, 0.0, 0.0], [0.008426406420767307, 0.0014865759294480085, 0.0002681549813132733, 0.0008336581522598863, 0.0005432865582406521, 0.00013058129115961492, 8.992934453999624e-05, 0.00030685303499922156, 0.00018616105080582201, 2.4273711460409686e-05, 4.067156623932533e-05, 0.00014410674339160323, 0.00015910461661405861, 0.00018757261568680406, 0.00012736418284475803, 0.0004244910669513047, 0.00028679228853434324, 0.00028507597744464874, 0.00043167444528080523, 0.0003795689844992012, 0.0015085567720234394, 0.0017825014656409621, 0.0008958682301454246, 0.0033827321603894234, 0.002488043624907732, 0.0034499079920351505, 0.0011243351036682725, 0.007447348907589912, 0.005281725898385048, 0.026691939681768417, 0.029522359371185303, 0.05156755447387695, 0.07761742919683456, 0.03653198480606079, 0.3194299340248108, 0.35879290103912354, 0.05772262066602707, 0.0, 0.0, 0.0, 0.0, 0.0, 0.0, 0.0, 0.0], [0.005696855019778013, 0.0006067887297831476, 0.0005589034990407526, 0.00036253020516596735, 0.0002937043900601566, 0.0001779181184247136, 6.106150976847857e-05, 6.925137131474912e-05, 0.00010053649748442695, 6.127717642812058e-05, 9.505849448032677e-05, 4.9890444643097e-05, 5.0668957555899397e-05, 9.238452184945345e-05, 8.590145444031805e-05, 0.0001366301585221663, 0.00010250619379803538, 0.00012958739534951746, 0.000172376589034684, 0.0003566729137673974, 0.0009212072473019361, 0.000610179384239018, 0.0004887826507911086, 0.0012403398286551237, 0.001535791321657598, 0.0031407473143190145, 0.0019183190306648612, 0.0030301010701805353, 0.00727191474288702, 0.016246652230620384, 0.014455082826316357, 0.02298046089708805, 0.041932232677936554, 0.017283013090491295, 0.27144765853881836, 0.18163827061653137, 0.1697493940591812, 0.23484934866428375, 0.0, 0.0, 0.0, 0.0, 0.0, 0.0, 0.0], [0.008614432998001575, 0.0007649488979950547, 0.0006546148215420544, 0.0006012848461978137, 0.0002854208869393915, 0.00018611433915793896, 3.738574014278129e-05, 3.470575393293984e-05, 0.00013171543832868338, 5.628713915939443e-05, 7.143509719753638e-05, 5.521071216207929e-05, 6.824228330515325e-05, 0.00010858179302886128, 3.948916491935961e-05, 7.27416918380186e-05, 0.00010049273259937763, 0.00011141144932480529, 0.00011546639871085063, 0.0003459533618297428, 0.0008140482823364437, 0.0008215811685658991, 0.00044444171362556517, 0.0008257668232545257, 0.0011446784483268857, 0.001241868594661355, 0.001708677038550377, 0.0037071567494422197, 0.0026498918887227774, 0.014769378118216991, 0.01008292194455862, 0.0273677259683609, 0.048563677817583084, 0.010533065535128117, 0.18824046850204468, 0.10829823464155197, 0.11670281738042831, 0.28787097334861755, 0.1617567092180252, 0.0, 0.0, 0.0, 0.0, 0.0, 0.0], [0.013358337804675102, 0.0022179109510034323, 0.001631838851608336, 0.001562273595482111, 0.0007441387278959155, 0.0003800378763116896, 0.000164689845405519, 0.0002015365316765383, 0.0002968192275147885, 8.294241706607863e-05, 0.00011266944056842476, 0.00010838155867531896, 0.0001086831689462997, 0.00020528231107164174, 7.93185317888856e-05, 3.6436220398172736e-05, 0.0001557575596962124, 0.00012874066305812448, 0.00017509529425296932, 0.0005125014577060938, 0.0008500944240950048, 0.0006908161449246109, 0.00036846002331003547, 0.0015169900143519044, 0.001704829977825284, 0.0015710762236267328, 0.0017581263091415167, 0.0024949414655566216, 0.006542674731463194, 0.014210020191967487, 0.006921783555299044, 0.021873068064451218, 0.03954922407865524, 0.007170320022851229, 0.08727426081895828, 0.11733684688806534, 0.08329865336418152, 0.26686209440231323, 0.22824832797050476, 0.08749397099018097, 0.0, 0.0, 0.0, 0.0, 0.0], [0.006279877386987209, 0.001093112165108323, 0.0007803818443790078, 0.0005707864766009152, 0.0004964592517353594, 0.00018983705376740545, 8.422193786827847e-05, 0.00011443830589996651, 8.95549965207465e-05, 3.593715518945828e-05, 5.057758608018048e-05, 4.2271247366443276e-05, 6.170434789964929e-05, 5.455015707411803e-05, 3.363511495990679e-05, 0.0001300956355407834, 5.813439202029258e-05, 6.355385994538665e-05, 0.00012720686208922416, 0.00028157286578789353, 0.00033128069480881095, 0.00019324093591421843, 0.0002034619974438101, 0.0005737177561968565, 0.0004862304194830358, 0.0011732359416782856, 0.0009527140646241605, 0.0013955753529444337, 0.0017459389055147767, 0.0036563361063599586, 0.00421604560688138, 0.00786312110722065, 0.012310042046010494, 0.01200704276561737, 0.08534865081310272, 0.0711812824010849, 0.045600537210702896, 0.10149118304252625, 0.13707783818244934, 0.1439836025238037, 0.357571005821228, 0.0, 0.0, 0.0, 0.0], [0.012781251221895218, 0.002333323936909437, 0.0016655647195875645, 0.0015815907390788198, 0.0007239984115585685, 0.00035143361310474575, 0.00015026572509668767, 0.00018062016170006245, 0.0002499577822163701, 6.750450120307505e-05, 8.562038419768214e-05, 8.146481559379026e-05, 7.903177902335301e-05, 0.00014212912356015295, 5.234812488197349e-05, 2.539606430218555e-05, 9.890595538308844e-05, 7.691278733545914e-05, 0.0001042222065734677, 0.00030698414775542915, 0.00047453134902752936, 0.00037481103208847344, 0.00019529844576027244, 0.0007974919280968606, 0.0008800264331512153, 0.0008546305471099913, 0.0008481917902827263, 0.0012452186783775687, 0.0035514459013938904, 0.006866223644465208, 0.0032790752593427896, 0.010507138445973396, 0.019192121922969818, 0.00346535281278193, 0.04256459325551987, 0.057431139051914215, 0.04104794189333916, 0.12838757038116455, 0.11261650174856186, 0.04680909588932991, 0.40720972418785095, 0.09026335924863815, 0.0, 0.0, 0.0], [0.008357747457921505, 0.0008111144998110831, 0.0006732537294737995, 0.0007557476637884974, 0.0008787208935245872, 0.00044368288945406675, 3.491609822958708e-05, 0.00014213220856618136, 0.00010707308683777228, 5.858119038748555e-05, 2.7647158276522532e-05, 2.7489701096783392e-05, 6.582856440218166e-05, 5.561594298342243e-05, 3.277728319517337e-05, 4.147710569668561e-05, 3.175014353473671e-05, 3.5163819120498374e-05, 3.329402534291148e-05, 0.000243839604081586, 0.00020751789270434529, 0.00014499980898108333, 0.00020534430223051459, 0.00036087576881982386, 0.0005705580697394907, 0.0005831361631862819, 0.0009967644000425935, 0.00043433430255390704, 0.003916427027434111, 0.0030536409467458725, 0.0016937400214374065, 0.00341483810916543, 0.00904869008809328, 0.007680512499064207, 0.02652268297970295, 0.0342312753200531, 0.017465293407440186, 0.049934692680835724, 0.09404733031988144, 0.11582387238740921, 0.25808677077293396, 0.24332472681999207, 0.11539418995380402, 0.0, 0.0], [0.002918523270636797, 0.0006257627974264324, 0.0005102365976199508, 0.0003917529829777777, 0.0003244661202188581, 8.764320227783173e-05, 5.650101957144216e-05, 9.229570423485711e-05, 4.896811879007146e-05, 2.6333565983804874e-05, 5.3042531362734735e-05, 2.636849785631057e-05, 2.656220385688357e-05, 2.6833979063667357e-05, 2.667601074790582e-05, 5.5915876146173105e-05, 3.2269606890622526e-05, 4.439737676875666e-05, 4.626605732482858e-05, 0.00011969984188908711, 0.00017216939886566252, 0.00014356058090925217, 0.00010028163524111733, 0.00024242294603027403, 0.000225337891606614, 0.000385324441595003, 0.00018779713718686253, 0.0004762184980791062, 0.0005768360570073128, 0.0018106071511283517, 0.0018818280659615993, 0.0026679548900574446, 0.005180011503398418, 0.002608684590086341, 0.035718124359846115, 0.02375357784330845, 0.017494257539510727, 0.034185990691185, 0.046099841594696045, 0.04884125664830208, 0.15266479551792145, 0.1016928181052208, 0.1571035385131836, 0.3602462708950043, 0.0], [0.005258583929389715, 0.0011591099901124835, 0.0008510092156939209, 0.0005930797779001296, 0.0004941490478813648, 0.0001757815625751391, 7.838806050131097e-05, 9.598125325283036e-05, 6.689831934636459e-05, 2.635128294059541e-05, 3.414131424506195e-05, 2.4903278244892135e-05, 3.486130663077347e-05, 2.7127234716317616e-05, 1.549221451568883e-05, 6.0911497712368146e-05, 2.3439954020432197e-05, 2.314317498530727e-05, 4.584665657603182e-05, 0.00010457031021360308, 0.00010071055294247344, 5.5307900765910745e-05, 5.889179738005623e-05, 0.00014728560927323997, 0.000117408977530431, 0.00032286622445099056, 0.00021801641560159624, 0.0003260016965214163, 0.0004258246917743236, 0.0007364460616372526, 0.0008694522548466921, 0.0015702040400356054, 0.002437961520627141, 0.0025245549622923136, 0.017608080059289932, 0.013867446221411228, 0.009290644899010658, 0.018965862691402435, 0.02596225030720234, 0.03262048214673996, 0.06599048525094986, 0.06942197680473328, 0.10570411384105682, 0.2748720943927765, 0.3465919494628906]], [[1.0, 0.0, 0.0, 0.0, 0.0, 0.0, 0.0, 0.0, 0.0, 0.0, 0.0, 0.0, 0.0, 0.0, 0.0, 0.0, 0.0, 0.0, 0.0, 0.0, 0.0, 0.0, 0.0, 0.0, 0.0, 0.0, 0.0, 0.0, 0.0, 0.0, 0.0, 0.0, 0.0, 0.0, 0.0, 0.0, 0.0, 0.0, 0.0, 0.0, 0.0, 0.0, 0.0, 0.0, 0.0], [0.8970723748207092, 0.10292768478393555, 0.0, 0.0, 0.0, 0.0, 0.0, 0.0, 0.0, 0.0, 0.0, 0.0, 0.0, 0.0, 0.0, 0.0, 0.0, 0.0, 0.0, 0.0, 0.0, 0.0, 0.0, 0.0, 0.0, 0.0, 0.0, 0.0, 0.0, 0.0, 0.0, 0.0, 0.0, 0.0, 0.0, 0.0, 0.0, 0.0, 0.0, 0.0, 0.0, 0.0, 0.0, 0.0, 0.0], [0.7731762528419495, 0.17108602821826935, 0.05573773384094238, 0.0, 0.0, 0.0, 0.0, 0.0, 0.0, 0.0, 0.0, 0.0, 0.0, 0.0, 0.0, 0.0, 0.0, 0.0, 0.0, 0.0, 0.0, 0.0, 0.0, 0.0, 0.0, 0.0, 0.0, 0.0, 0.0, 0.0, 0.0, 0.0, 0.0, 0.0, 0.0, 0.0, 0.0, 0.0, 0.0, 0.0, 0.0, 0.0, 0.0, 0.0, 0.0], [0.2190985530614853, 0.09592847526073456, 0.1539975106716156, 0.5309754610061646, 0.0, 0.0, 0.0, 0.0, 0.0, 0.0, 0.0, 0.0, 0.0, 0.0, 0.0, 0.0, 0.0, 0.0, 0.0, 0.0, 0.0, 0.0, 0.0, 0.0, 0.0, 0.0, 0.0, 0.0, 0.0, 0.0, 0.0, 0.0, 0.0, 0.0, 0.0, 0.0, 0.0, 0.0, 0.0, 0.0, 0.0, 0.0, 0.0, 0.0, 0.0], [0.4932918846607208, 0.12421072274446487, 0.08378950506448746, 0.2104450911283493, 0.08826271444559097, 0.0, 0.0, 0.0, 0.0, 0.0, 0.0, 0.0, 0.0, 0.0, 0.0, 0.0, 0.0, 0.0, 0.0, 0.0, 0.0, 0.0, 0.0, 0.0, 0.0, 0.0, 0.0, 0.0, 0.0, 0.0, 0.0, 0.0, 0.0, 0.0, 0.0, 0.0, 0.0, 0.0, 0.0, 0.0, 0.0, 0.0, 0.0, 0.0, 0.0], [0.47925329208374023, 0.1148393526673317, 0.05825285241007805, 0.12140916287899017, 0.19296897947788239, 0.0332762636244297, 0.0, 0.0, 0.0, 0.0, 0.0, 0.0, 0.0, 0.0, 0.0, 0.0, 0.0, 0.0, 0.0, 0.0, 0.0, 0.0, 0.0, 0.0, 0.0, 0.0, 0.0, 0.0, 0.0, 0.0, 0.0, 0.0, 0.0, 0.0, 0.0, 0.0, 0.0, 0.0, 0.0, 0.0, 0.0, 0.0, 0.0, 0.0, 0.0], [0.33760711550712585, 0.13038286566734314, 0.12365774810314178, 0.1684831827878952, 0.039485592395067215, 0.15522730350494385, 0.04515616595745087, 0.0, 0.0, 0.0, 0.0, 0.0, 0.0, 0.0, 0.0, 0.0, 0.0, 0.0, 0.0, 0.0, 0.0, 0.0, 0.0, 0.0, 0.0, 0.0, 0.0, 0.0, 0.0, 0.0, 0.0, 0.0, 0.0, 0.0, 0.0, 0.0, 0.0, 0.0, 0.0, 0.0, 0.0, 0.0, 0.0, 0.0, 0.0], [0.3124314546585083, 0.10335507243871689, 0.07322120666503906, 0.13077446818351746, 0.08650775253772736, 0.20371735095977783, 0.04714132472872734, 0.042851343750953674, 0.0, 0.0, 0.0, 0.0, 0.0, 0.0, 0.0, 0.0, 0.0, 0.0, 0.0, 0.0, 0.0, 0.0, 0.0, 0.0, 0.0, 0.0, 0.0, 0.0, 0.0, 0.0, 0.0, 0.0, 0.0, 0.0, 0.0, 0.0, 0.0, 0.0, 0.0, 0.0, 0.0, 0.0, 0.0, 0.0, 0.0], [0.107199527323246, 0.03256477788090706, 0.0461539626121521, 0.12522771954536438, 0.011105240322649479, 0.034330032765865326, 0.00785838346928358, 0.011366576887667179, 0.6241937279701233, 0.0, 0.0, 0.0, 0.0, 0.0, 0.0, 0.0, 0.0, 0.0, 0.0, 0.0, 0.0, 0.0, 0.0, 0.0, 0.0, 0.0, 0.0, 0.0, 0.0, 0.0, 0.0, 0.0, 0.0, 0.0, 0.0, 0.0, 0.0, 0.0, 0.0, 0.0, 0.0, 0.0, 0.0, 0.0, 0.0], [0.3028891086578369, 0.07804973423480988, 0.059376467019319534, 0.09426910430192947, 0.17377150058746338, 0.038616281002759933, 0.04802526533603668, 0.039512552320957184, 0.13237620890140533, 0.033113788813352585, 0.0, 0.0, 0.0, 0.0, 0.0, 0.0, 0.0, 0.0, 0.0, 0.0, 0.0, 0.0, 0.0, 0.0, 0.0, 0.0, 0.0, 0.0, 0.0, 0.0, 0.0, 0.0, 0.0, 0.0, 0.0, 0.0, 0.0, 0.0, 0.0, 0.0, 0.0, 0.0, 0.0, 0.0, 0.0], [0.13027672469615936, 0.04213488847017288, 0.07258210331201553, 0.10922873020172119, 0.03630436956882477, 0.19112570583820343, 0.03369797766208649, 0.05715862661600113, 0.11187221109867096, 0.16414125263690948, 0.051477428525686264, 0.0, 0.0, 0.0, 0.0, 0.0, 0.0, 0.0, 0.0, 0.0, 0.0, 0.0, 0.0, 0.0, 0.0, 0.0, 0.0, 0.0, 0.0, 0.0, 0.0, 0.0, 0.0, 0.0, 0.0, 0.0, 0.0, 0.0, 0.0, 0.0, 0.0, 0.0, 0.0, 0.0, 0.0], [0.0946442037820816, 0.02925344929099083, 0.03811941295862198, 0.14989572763442993, 0.020670875906944275, 0.07631716877222061, 0.008947468362748623, 0.020045075565576553, 0.3057856559753418, 0.047520942986011505, 0.010440828278660774, 0.1983591765165329, 0.0, 0.0, 0.0, 0.0, 0.0, 0.0, 0.0, 0.0, 0.0, 0.0, 0.0, 0.0, 0.0, 0.0, 0.0, 0.0, 0.0, 0.0, 0.0, 0.0, 0.0, 0.0, 0.0, 0.0, 0.0, 0.0, 0.0, 0.0, 0.0, 0.0, 0.0, 0.0, 0.0], [0.1444079428911209, 0.06329524517059326, 0.07617761194705963, 0.07194557040929794, 0.03394104540348053, 0.08442072570323944, 0.03594021126627922, 0.07685544341802597, 0.1158827543258667, 0.05951957032084465, 0.06183493509888649, 0.14841711521148682, 0.0273617934435606, 0.0, 0.0, 0.0, 0.0, 0.0, 0.0, 0.0, 0.0, 0.0, 0.0, 0.0, 0.0, 0.0, 0.0, 0.0, 0.0, 0.0, 0.0, 0.0, 0.0, 0.0, 0.0, 0.0, 0.0, 0.0, 0.0, 0.0, 0.0, 0.0, 0.0, 0.0, 0.0], [0.041478730738162994, 0.011494415812194347, 0.017643511295318604, 0.04599723219871521, 0.00408500712364912, 0.013701112940907478, 0.0028709042817354202, 0.004510777071118355, 0.24164840579032898, 0.00972951203584671, 0.0026167305186390877, 0.2641770541667938, 0.008053765632212162, 0.33199283480644226, 0.0, 0.0, 0.0, 0.0, 0.0, 0.0, 0.0, 0.0, 0.0, 0.0, 0.0, 0.0, 0.0, 0.0, 0.0, 0.0, 0.0, 0.0, 0.0, 0.0, 0.0, 0.0, 0.0, 0.0, 0.0, 0.0, 0.0, 0.0, 0.0, 0.0, 0.0], [0.151558518409729, 0.037725064903497696, 0.027330638840794563, 0.06052473187446594, 0.030143285170197487, 0.028034888207912445, 0.013341405428946018, 0.02250302955508232, 0.1165342926979065, 0.051899705082178116, 0.010558652691543102, 0.10229874402284622, 0.01516728289425373, 0.14137381315231323, 0.19100584089756012, 0.0, 0.0, 0.0, 0.0, 0.0, 0.0, 0.0, 0.0, 0.0, 0.0, 0.0, 0.0, 0.0, 0.0, 0.0, 0.0, 0.0, 0.0, 0.0, 0.0, 0.0, 0.0, 0.0, 0.0, 0.0, 0.0, 0.0, 0.0, 0.0, 0.0], [0.2839045524597168, 0.0650240033864975, 0.032383330166339874, 0.029591122642159462, 0.0424320325255394, 0.028469786047935486, 0.04153310880064964, 0.0846531093120575, 0.043854970484972, 0.027530411258339882, 0.0921814888715744, 0.03751114010810852, 0.04891904443502426, 0.04984967038035393, 0.0791383758187294, 0.013023807667195797, 0.0, 0.0, 0.0, 0.0, 0.0, 0.0, 0.0, 0.0, 0.0, 0.0, 0.0, 0.0, 0.0, 0.0, 0.0, 0.0, 0.0, 0.0, 0.0, 0.0, 0.0, 0.0, 0.0, 0.0, 0.0, 0.0, 0.0, 0.0, 0.0], [0.04885760322213173, 0.014007373712956905, 0.019542613998055458, 0.07337553799152374, 0.010089143179357052, 0.03972572460770607, 0.004310055170208216, 0.010590328834950924, 0.15303602814674377, 0.026499027386307716, 0.005417252890765667, 0.09647628664970398, 0.012806713581085205, 0.20478658378124237, 0.14743389189243317, 0.009689188562333584, 0.12335662543773651, 0.0, 0.0, 0.0, 0.0, 0.0, 0.0, 0.0, 0.0, 0.0, 0.0, 0.0, 0.0, 0.0, 0.0, 0.0, 0.0, 0.0, 0.0, 0.0, 0.0, 0.0, 0.0, 0.0, 0.0, 0.0, 0.0, 0.0, 0.0], [0.05943121761083603, 0.0259512048214674, 0.03547389432787895, 0.03907975181937218, 0.018049316480755806, 0.02308725006878376, 0.010503755882382393, 0.030069559812545776, 0.09918281435966492, 0.03614409640431404, 0.018410034477710724, 0.11741488426923752, 0.017167571932077408, 0.12769994139671326, 0.08459018915891647, 0.037902723997831345, 0.1457722932100296, 0.07406952232122421, 0.0, 0.0, 0.0, 0.0, 0.0, 0.0, 0.0, 0.0, 0.0, 0.0, 0.0, 0.0, 0.0, 0.0, 0.0, 0.0, 0.0, 0.0, 0.0, 0.0, 0.0, 0.0, 0.0, 0.0, 0.0, 0.0, 0.0], [0.2724890410900116, 0.04502274468541145, 0.046122368425130844, 0.04205198958516121, 0.038135625422000885, 0.05454431101679802, 0.025706559419631958, 0.019254175946116447, 0.04536455497145653, 0.051068808883428574, 0.021479349583387375, 0.05142935365438461, 0.035683099180459976, 0.05110248550772667, 0.042210206389427185, 0.03813278302550316, 0.057898182421922684, 0.023540088906884193, 0.038764264434576035, 0.0, 0.0, 0.0, 0.0, 0.0, 0.0, 0.0, 0.0, 0.0, 0.0, 0.0, 0.0, 0.0, 0.0, 0.0, 0.0, 0.0, 0.0, 0.0, 0.0, 0.0, 0.0, 0.0, 0.0, 0.0, 0.0], [0.2398124784231186, 0.03723882511258125, 0.04641320928931236, 0.01807478256523609, 0.028609441593289375, 0.031563650816679, 0.02326364815235138, 0.05314117670059204, 0.036729808896780014, 0.04436156898736954, 0.014089998789131641, 0.04079655930399895, 0.013384046033024788, 0.040182728320360184, 0.02512497827410698, 0.022283179685473442, 0.04457439109683037, 0.026357250288128853, 0.018502116203308105, 0.1954960972070694, 0.0, 0.0, 0.0, 0.0, 0.0, 0.0, 0.0, 0.0, 0.0, 0.0, 0.0, 0.0, 0.0, 0.0, 0.0, 0.0, 0.0, 0.0, 0.0, 0.0, 0.0, 0.0, 0.0, 0.0, 0.0], [0.034472569823265076, 0.0070497822016477585, 0.008516231551766396, 0.019823286682367325, 0.0020061926916241646, 0.008738490752875805, 0.0013805313501507044, 0.002584988484159112, 0.1296386867761612, 0.00498051755130291, 0.0014542946591973305, 0.09793512523174286, 0.004242658615112305, 0.17474928498268127, 0.020575353875756264, 0.0029217293485999107, 0.1251920908689499, 0.017666753381490707, 0.008172444999217987, 0.006463976576924324, 0.32143503427505493, 0.0, 0.0, 0.0, 0.0, 0.0, 0.0, 0.0, 0.0, 0.0, 0.0, 0.0, 0.0, 0.0, 0.0, 0.0, 0.0, 0.0, 0.0, 0.0, 0.0, 0.0, 0.0, 0.0, 0.0], [0.0753212571144104, 0.017385123297572136, 0.026499586179852486, 0.038201142102479935, 0.013464304618537426, 0.017004940658807755, 0.0056827133521437645, 0.008161379024386406, 0.08791026473045349, 0.015652012079954147, 0.004622375592589378, 0.06870009750127792, 0.017068393528461456, 0.11098409444093704, 0.08843354135751724, 0.015540498308837414, 0.08290652185678482, 0.03445708379149437, 0.0349029004573822, 0.02266903966665268, 0.16727586090564728, 0.047156888991594315, 0.0, 0.0, 0.0, 0.0, 0.0, 0.0, 0.0, 0.0, 0.0, 0.0, 0.0, 0.0, 0.0, 0.0, 0.0, 0.0, 0.0, 0.0, 0.0, 0.0, 0.0, 0.0, 0.0], [0.11039689928293228, 0.017618604004383087, 0.012073219753801823, 0.07903023064136505, 0.04707181453704834, 0.028393486514687538, 0.010853298008441925, 0.03898293897509575, 0.04254176840186119, 0.05313576012849808, 0.01061656791716814, 0.04066742584109306, 0.01657867804169655, 0.05044256150722504, 0.04148310795426369, 0.011694179847836494, 0.048943907022476196, 0.04587529972195625, 0.0680345818400383, 0.03145819902420044, 0.0737365260720253, 0.09332361817359924, 0.027047287672758102, 0.0, 0.0, 0.0, 0.0, 0.0, 0.0, 0.0, 0.0, 0.0, 0.0, 0.0, 0.0, 0.0, 0.0, 0.0, 0.0, 0.0, 0.0, 0.0, 0.0, 0.0, 0.0], [0.05010592192411423, 0.011403633281588554, 0.01897999830543995, 0.048291098326444626, 0.005478164181113243, 0.02793811820447445, 0.0034753403160721064, 0.009667652659118176, 0.08883964270353317, 0.02145978808403015, 0.009184244088828564, 0.06738951802253723, 0.006293778773397207, 0.11730518937110901, 0.05559385195374489, 0.023259561508893967, 0.0853881910443306, 0.03017236292362213, 0.01855376921594143, 0.04972720146179199, 0.1386995166540146, 0.035930946469306946, 0.02957056649029255, 0.04729195311665535, 0.0, 0.0, 0.0, 0.0, 0.0, 0.0, 0.0, 0.0, 0.0, 0.0, 0.0, 0.0, 0.0, 0.0, 0.0, 0.0, 0.0, 0.0, 0.0, 0.0, 0.0], [0.03365062549710274, 0.03973435238003731, 0.013943267054855824, 0.02215501293540001, 0.007374103181064129, 0.01253434270620346, 0.003937932662665844, 0.005588040221482515, 0.05276414379477501, 0.011353474110364914, 0.0029761551413685083, 0.06122000515460968, 0.007114536128938198, 0.06609286367893219, 0.01845717616379261, 0.004707183223217726, 0.0778060331940651, 0.015934079885482788, 0.016269709914922714, 0.027332937344908714, 0.08945077657699585, 0.02828321047127247, 0.01342834997922182, 0.24125005304813385, 0.1266416311264038, 0.0, 0.0, 0.0, 0.0, 0.0, 0.0, 0.0, 0.0, 0.0, 0.0, 0.0, 0.0, 0.0, 0.0, 0.0, 0.0, 0.0, 0.0, 0.0, 0.0], [0.10162997245788574, 0.04817342758178711, 0.022741513326764107, 0.017647167667746544, 0.016357652842998505, 0.014718170277774334, 0.02023889496922493, 0.030098319053649902, 0.03836438059806824, 0.025297515094280243, 0.03959343954920769, 0.041798122227191925, 0.01849495992064476, 0.043456632643938065, 0.02387693151831627, 0.013411911204457283, 0.04804753512144089, 0.021995296701788902, 0.030744776129722595, 0.05168471112847328, 0.057864848524332047, 0.04216012358665466, 0.05039001628756523, 0.08024895936250687, 0.07608187198638916, 0.02488282509148121, 0.0, 0.0, 0.0, 0.0, 0.0, 0.0, 0.0, 0.0, 0.0, 0.0, 0.0, 0.0, 0.0, 0.0, 0.0, 0.0, 0.0, 0.0, 0.0], [0.06603525578975677, 0.020660128444433212, 0.02168169431388378, 0.03408762067556381, 0.015279393643140793, 0.01844199188053608, 0.010789580643177032, 0.055958352982997894, 0.035654861479997635, 0.021738864481449127, 0.02566494047641754, 0.039465565234422684, 0.01909186691045761, 0.04260497912764549, 0.0451403446495533, 0.012913599610328674, 0.0473557747900486, 0.02556186355650425, 0.035244133323431015, 0.09746366739273071, 0.056113142520189285, 0.035938482731580734, 0.032566994428634644, 0.04301987215876579, 0.04697675257921219, 0.032461266964673996, 0.062089040875434875, 0.0, 0.0, 0.0, 0.0, 0.0, 0.0, 0.0, 0.0, 0.0, 0.0, 0.0, 0.0, 0.0, 0.0, 0.0, 0.0, 0.0, 0.0], [0.10541096329689026, 0.016973106190562248, 0.02034100703895092, 0.032666537910699844, 0.02185116894543171, 0.03178994357585907, 0.00557120144367218, 0.024194521829485893, 0.016740448772907257, 0.01608254760503769, 0.013484911993145943, 0.022790376096963882, 0.020844904705882072, 0.019816424697637558, 0.007412003818899393, 0.013035077601671219, 0.026982484385371208, 0.010132258757948875, 0.01766771264374256, 0.2972624897956848, 0.02345714345574379, 0.03235582634806633, 0.03224533051252365, 0.01998012699186802, 0.05017191916704178, 0.04827893152832985, 0.03308819606900215, 0.01937241107225418, 0.0, 0.0, 0.0, 0.0, 0.0, 0.0, 0.0, 0.0, 0.0, 0.0, 0.0, 0.0, 0.0, 0.0, 0.0, 0.0, 0.0], [0.11478216201066971, 0.028451891615986824, 0.030158089473843575, 0.02989071048796177, 0.015577703714370728, 0.04523630440235138, 0.008156668394804, 0.046777669340372086, 0.02057456225156784, 0.01808919385075569, 0.01663845404982567, 0.02435150370001793, 0.014281015843153, 0.022870568558573723, 0.0245584174990654, 0.02152223512530327, 0.027740128338336945, 0.012263166718184948, 0.01678968407213688, 0.030601752921938896, 0.03310445696115494, 0.04230615124106407, 0.050134140998125076, 0.039895687252283096, 0.02547144889831543, 0.038356516510248184, 0.1483657956123352, 0.04062194377183914, 0.012431967072188854, 0.0, 0.0, 0.0, 0.0, 0.0, 0.0, 0.0, 0.0, 0.0, 0.0, 0.0, 0.0, 0.0, 0.0, 0.0, 0.0], [0.010402965359389782, 0.003988312091678381, 0.007536559831351042, 0.02371406741440296, 0.001574699068441987, 0.0045564984902739525, 0.0011461435351520777, 0.0020206563640385866, 0.08388332277536392, 0.006093545351177454, 0.0012243633391335607, 0.08011973649263382, 0.003282929537817836, 0.1148514598608017, 0.02013854682445526, 0.0038740241434425116, 0.10355651378631592, 0.016239913180470467, 0.0062195188365876675, 0.011158781126141548, 0.1289723515510559, 0.016916098073124886, 0.008813061751425266, 0.028795957565307617, 0.060593508183956146, 0.005618590861558914, 0.016893556341528893, 0.008791649714112282, 0.0170223880559206, 0.20200031995773315, 0.0, 0.0, 0.0, 0.0, 0.0, 0.0, 0.0, 0.0, 0.0, 0.0, 0.0, 0.0, 0.0, 0.0, 0.0], [0.05472039058804512, 0.015954436734318733, 0.012098251841962337, 0.02283375896513462, 0.018985208123922348, 0.028783908113837242, 0.008076787926256657, 0.008372060023248196, 0.039564065635204315, 0.012315316125750542, 0.009588340297341347, 0.023571288213133812, 0.010643094778060913, 0.04663844034075737, 0.014515898190438747, 0.012394591234624386, 0.027597352862358093, 0.021691443398594856, 0.020180556923151016, 0.01823921874165535, 0.05496655032038689, 0.0371178574860096, 0.02424500696361065, 0.03499602898955345, 0.1494767814874649, 0.02901950664818287, 0.04327644780278206, 0.015866437926888466, 0.045115429908037186, 0.11428379267454147, 0.024871772155165672, 0.0, 0.0, 0.0, 0.0, 0.0, 0.0, 0.0, 0.0, 0.0, 0.0, 0.0, 0.0, 0.0, 0.0], [0.02826632931828499, 0.008342593908309937, 0.009693151339888573, 0.024003291502594948, 0.012406978756189346, 0.009731613099575043, 0.0072547756135463715, 0.011378862895071507, 0.0452534481883049, 0.014661095105111599, 0.004759799689054489, 0.032793063670396805, 0.009599768556654453, 0.05662674084305763, 0.023795731365680695, 0.004614104051142931, 0.03982144594192505, 0.021239010617136955, 0.025286560878157616, 0.10159788280725479, 0.0927831158041954, 0.02612386830151081, 0.015091441571712494, 0.034585680812597275, 0.06182193011045456, 0.01340700127184391, 0.01688978262245655, 0.030893543735146523, 0.028194868937134743, 0.1103137880563736, 0.04056955873966217, 0.03819921240210533, 0.0, 0.0, 0.0, 0.0, 0.0, 0.0, 0.0, 0.0, 0.0, 0.0, 0.0, 0.0, 0.0], [0.005920094903558493, 0.0026448266580700874, 0.005754887592047453, 0.02199717052280903, 0.0013081289362162352, 0.0057265376672148705, 0.0008704042993485928, 0.0018940428271889687, 0.05295496806502342, 0.004725009202957153, 0.0009999448666349053, 0.04342706501483917, 0.0021749839652329683, 0.07363726198673248, 0.017015773802995682, 0.0030869946349412203, 0.057790834456682205, 0.010734477080404758, 0.0034258209634572268, 0.010332698002457619, 0.08509067445993423, 0.012429164722561836, 0.006230235565453768, 0.022221021354198456, 0.06411110609769821, 0.005053481552749872, 0.01815238781273365, 0.007594150956720114, 0.00678644236177206, 0.16716453433036804, 0.013871800154447556, 0.014755625277757645, 0.25011754035949707, 0.0, 0.0, 0.0, 0.0, 0.0, 0.0, 0.0, 0.0, 0.0, 0.0, 0.0, 0.0], [0.059587132185697556, 0.014287113212049007, 0.0096886670216918, 0.028474606573581696, 0.028604796156287193, 0.026259342208504677, 0.0088196387514472, 0.022136026993393898, 0.01791021227836609, 0.026397543027997017, 0.017243579030036926, 0.025983814150094986, 0.006316181272268295, 0.020043160766363144, 0.015440613962709904, 0.02594025433063507, 0.030103029683232307, 0.018365342170000076, 0.023130420595407486, 0.02621457166969776, 0.031157266348600388, 0.028986161574721336, 0.028961265459656715, 0.016435226425528526, 0.03480090573430061, 0.03794369474053383, 0.07380678504705429, 0.03077242523431778, 0.028517253696918488, 0.07387098670005798, 0.024587711319327354, 0.03523409366607666, 0.08090810477733612, 0.023072006180882454, 0.0, 0.0, 0.0, 0.0, 0.0, 0.0, 0.0, 0.0, 0.0, 0.0, 0.0], [0.05258987471461296, 0.008282381109893322, 0.004686588887125254, 0.011556114070117474, 0.002124359831213951, 0.007376664783805609, 0.0025699129328131676, 0.005167306866496801, 0.06430476903915405, 0.008688686415553093, 0.0043498133309185505, 0.05405205115675926, 0.0035673314705491066, 0.08101724833250046, 0.021457022055983543, 0.004144078586250544, 0.06621561199426651, 0.018716933205723763, 0.009488224983215332, 0.0060385470278561115, 0.102742999792099, 0.014565221033990383, 0.009106311947107315, 0.021657677367329597, 0.03524800390005112, 0.004852634388953447, 0.00842216145247221, 0.019589504227042198, 0.01188589446246624, 0.1446465700864792, 0.01660756766796112, 0.022834770381450653, 0.08476626873016357, 0.015126862563192844, 0.05155405029654503, 0.0, 0.0, 0.0, 0.0, 0.0, 0.0, 0.0, 0.0, 0.0, 0.0], [0.027347125113010406, 0.005625417456030846, 0.009685358963906765, 0.024007517844438553, 0.002698819153010845, 0.014743820764124393, 0.0018455045064911246, 0.005208637565374374, 0.04376436769962311, 0.01188297476619482, 0.005037696100771427, 0.032101623713970184, 0.003108489327132702, 0.05531589686870575, 0.026462581008672714, 0.012226955033838749, 0.039276957511901855, 0.014812007546424866, 0.008880485780537128, 0.02605411969125271, 0.06291165947914124, 0.01662386953830719, 0.013522333465516567, 0.019599858671426773, 0.03820715472102165, 0.00984441302716732, 0.02881418913602829, 0.019286908209323883, 0.01863126829266548, 0.12353159487247467, 0.01955222152173519, 0.018779050558805466, 0.14999353885650635, 0.025033829733729362, 0.03102005459368229, 0.03456171229481697, 0.0, 0.0, 0.0, 0.0, 0.0, 0.0, 0.0, 0.0, 0.0], [0.061733994632959366, 0.01301569677889347, 0.006185400765389204, 0.01714547909796238, 0.005745109170675278, 0.014484576880931854, 0.004427996464073658, 0.004825975745916367, 0.029634786769747734, 0.023579446598887444, 0.010098140686750412, 0.019703175872564316, 0.006858561187982559, 0.03429137170314789, 0.02200564183294773, 0.009137668646872044, 0.022372471168637276, 0.014125312678515911, 0.0119700962677598, 0.14695364236831665, 0.04574085772037506, 0.00888449139893055, 0.009519949555397034, 0.025523284450173378, 0.02942148968577385, 0.0149821313098073, 0.03309820219874382, 0.025531508028507233, 0.018864236772060394, 0.07494755834341049, 0.026500076055526733, 0.02851247973740101, 0.048404864966869354, 0.02436882257461548, 0.048151325434446335, 0.04279337450861931, 0.01646072044968605, 0.0, 0.0, 0.0, 0.0, 0.0, 0.0, 0.0, 0.0], [0.005029988940805197, 0.001710614189505577, 0.004623141139745712, 0.02128363400697708, 0.0011435513151809573, 0.0035733648110181093, 0.0006356775411404669, 0.0013592260656878352, 0.03087456338107586, 0.004774078726768494, 0.0007409033132717013, 0.03198323771357536, 0.0019850663375109434, 0.040450070053339005, 0.0074508641846477985, 0.0022488185204565525, 0.04055318608880043, 0.010027467273175716, 0.0031683084089308977, 0.006720943842083216, 0.043266814202070236, 0.009996268898248672, 0.0057877483777701855, 0.009726916439831257, 0.04430312290787697, 0.00507537554949522, 0.016514981165528297, 0.00624775281175971, 0.007803861517459154, 0.09734248369932175, 0.011881216429173946, 0.013124226592481136, 0.1786937117576599, 0.01713491603732109, 0.021964222192764282, 0.018355553969740868, 0.030411457642912865, 0.2420327216386795, 0.0, 0.0, 0.0, 0.0, 0.0, 0.0, 0.0], [0.01947435550391674, 0.009642343968153, 0.010478905402123928, 0.028344355523586273, 0.00948366243392229, 0.008825301192700863, 0.005145143251866102, 0.005594038870185614, 0.022871673107147217, 0.011119471862912178, 0.0051537612453103065, 0.02122359909117222, 0.00803624652326107, 0.026083068922162056, 0.00880412757396698, 0.0033338807988911867, 0.024724414572119713, 0.015712542459368706, 0.018695566803216934, 0.012398951686918736, 0.028524326160550117, 0.02522985078394413, 0.017034675925970078, 0.02493416890501976, 0.057013001292943954, 0.01794399879872799, 0.02373128943145275, 0.012392635457217693, 0.018874995410442352, 0.0708346739411354, 0.02781490981578827, 0.02517343871295452, 0.10601600259542465, 0.022558381780982018, 0.020217549055814743, 0.04202442243695259, 0.033935800194740295, 0.12283915281295776, 0.027761325240135193, 0.0, 0.0, 0.0, 0.0, 0.0, 0.0], [0.12784983217716217, 0.020966624841094017, 0.014792541041970253, 0.014356178231537342, 0.014447602443397045, 0.01176851149648428, 0.007210470736026764, 0.02258414588868618, 0.012124988250434399, 0.015630647540092468, 0.0070669641718268394, 0.012148122303187847, 0.009080136194825172, 0.012258525006473064, 0.012198257260024548, 0.013276454992592335, 0.013092205859720707, 0.007406723219901323, 0.006474846042692661, 0.04560429975390434, 0.013442316092550755, 0.01917102560400963, 0.026059167459607124, 0.021670619025826454, 0.02152233012020588, 0.01761937141418457, 0.07585839182138443, 0.023511862382292747, 0.021386822685599327, 0.03446140140295029, 0.018716678023338318, 0.02832876332104206, 0.042110830545425415, 0.059251248836517334, 0.035062260925769806, 0.03402942791581154, 0.02703399397432804, 0.025184232741594315, 0.025145508348941803, 0.03009570948779583, 0.0, 0.0, 0.0, 0.0, 0.0], [0.0054343934170901775, 0.0019161846721544862, 0.003755831392481923, 0.011735265143215656, 0.0007585558923892677, 0.0022421309258788824, 0.0005756080499850214, 0.0010387781076133251, 0.040827520191669464, 0.0031633544713258743, 0.0006202792283147573, 0.0375710166990757, 0.001565272337757051, 0.053627561777830124, 0.00925211887806654, 0.0019128224812448025, 0.046794988214969635, 0.007619630545377731, 0.0029341259505599737, 0.00535577442497015, 0.05801721289753914, 0.007643057964742184, 0.003818965284153819, 0.011768569238483906, 0.026877207681536674, 0.002582934685051441, 0.007553483825176954, 0.0038803128991276026, 0.008124763146042824, 0.08620736747980118, 0.007976314052939415, 0.01160402875393629, 0.11077456921339035, 0.013326139189302921, 0.02399263344705105, 0.022036323323845863, 0.02116353251039982, 0.15613150596618652, 0.013411978259682655, 0.006141846999526024, 0.15826603770256042, 0.0, 0.0, 0.0, 0.0], [0.12058442831039429, 0.019278429448604584, 0.013823647983372211, 0.01348959095776081, 0.013746825978159904, 0.011232283897697926, 0.006846575532108545, 0.021191352978348732, 0.01124377828091383, 0.014895997941493988, 0.006697435397654772, 0.011160004884004593, 0.008500663563609123, 0.011276387609541416, 0.01113913208246231, 0.012375686317682266, 0.011933524161577225, 0.006821883376687765, 0.006075078621506691, 0.04314591363072395, 0.012234346941113472, 0.01758415251970291, 0.02387072518467903, 0.01910671591758728, 0.019531546160578728, 0.015986567363142967, 0.06937061995267868, 0.021512437611818314, 0.01909981295466423, 0.031135788187384605, 0.01709561049938202, 0.025537986308336258, 0.03812847658991814, 0.05513210594654083, 0.03171829879283905, 0.02977662906050682, 0.024524960666894913, 0.022924141958355904, 0.02271847054362297, 0.028224974870681763, 0.048617634922266006, 0.030709397047758102, 0.0, 0.0, 0.0], [0.0661751851439476, 0.016271961852908134, 0.007005191408097744, 0.0304377730935812, 0.011069360189139843, 0.016187012195587158, 0.004604123532772064, 0.02092958241701126, 0.018290305510163307, 0.01594650000333786, 0.00796152651309967, 0.014271135441958904, 0.012682200409471989, 0.01902093179523945, 0.012330066412687302, 0.013597054407000542, 0.015349403023719788, 0.012112440541386604, 0.006884826347231865, 0.007250838913023472, 0.017345748841762543, 0.02390669286251068, 0.012451590970158577, 0.02424267679452896, 0.02338840812444687, 0.02797047607600689, 0.052248578518629074, 0.0158119834959507, 0.025556784123182297, 0.03792934492230415, 0.01911669783294201, 0.016487978398799896, 0.055084746330976486, 0.02518782578408718, 0.021639065816998482, 0.038096778094768524, 0.013992258347570896, 0.0709361582994461, 0.0294314194470644, 0.02320103347301483, 0.059653181582689285, 0.024518003687262535, 0.01342520210891962, 0.0, 0.0], [0.008349261246621609, 0.0017106392187997699, 0.002998674288392067, 0.007101766765117645, 0.0006265203119255602, 0.0025080321356654167, 0.0004673132498282939, 0.0008767448016442358, 0.03995510935783386, 0.001983184367418289, 0.0004904326633550227, 0.03931071609258652, 0.001234265393577516, 0.050509773194789886, 0.006867832038551569, 0.000998009811155498, 0.047486934810876846, 0.006020582281053066, 0.0022827903740108013, 0.0030440876726061106, 0.06337340176105499, 0.005208056885749102, 0.0028886578511446714, 0.008134724572300911, 0.02114757150411606, 0.0018325583077967167, 0.0033161924220621586, 0.0042695230804383755, 0.0038743207696825266, 0.07936570793390274, 0.004875516053289175, 0.008563787676393986, 0.06992408633232117, 0.00889409240335226, 0.022716758772730827, 0.01470259577035904, 0.011777670122683048, 0.07111253589391708, 0.0075059677474200726, 0.0044276416301727295, 0.14206115901470184, 0.004783072974532843, 0.0070563736371695995, 0.20336540043354034, 0.0], [0.003998737316578627, 0.0013966058613732457, 0.0027719095814973116, 0.008550182916224003, 0.0005492763593792915, 0.0016573499888181686, 0.0004385396314319223, 0.0007488849805667996, 0.029748674482107162, 0.0023130958434194326, 0.0004629658069461584, 0.027265090495347977, 0.0011482284171506763, 0.03842119872570038, 0.00649596331641078, 0.0014322699280455709, 0.0333503857254982, 0.005494117736816406, 0.002111388836055994, 0.003950457088649273, 0.04041406884789467, 0.005355951376259327, 0.002758276415988803, 0.00792316161096096, 0.018573347479104996, 0.0017978219548240304, 0.0050210366025567055, 0.0026773002464324236, 0.005429413169622421, 0.059129420667886734, 0.005560633260756731, 0.008060523308813572, 0.07390494644641876, 0.009097464382648468, 0.01601765677332878, 0.014526192098855972, 0.014425448141992092, 0.10505996644496918, 0.009226512163877487, 0.0043173907324671745, 0.10757128894329071, 0.004653950221836567, 0.008106715977191925, 0.1644006371498108, 0.13368555903434753]], [[1.0, 0.0, 0.0, 0.0, 0.0, 0.0, 0.0, 0.0, 0.0, 0.0, 0.0, 0.0, 0.0, 0.0, 0.0, 0.0, 0.0, 0.0, 0.0, 0.0, 0.0, 0.0, 0.0, 0.0, 0.0, 0.0, 0.0, 0.0, 0.0, 0.0, 0.0, 0.0, 0.0, 0.0, 0.0, 0.0, 0.0, 0.0, 0.0, 0.0, 0.0, 0.0, 0.0, 0.0, 0.0], [0.8803902268409729, 0.11960979551076889, 0.0, 0.0, 0.0, 0.0, 0.0, 0.0, 0.0, 0.0, 0.0, 0.0, 0.0, 0.0, 0.0, 0.0, 0.0, 0.0, 0.0, 0.0, 0.0, 0.0, 0.0, 0.0, 0.0, 0.0, 0.0, 0.0, 0.0, 0.0, 0.0, 0.0, 0.0, 0.0, 0.0, 0.0, 0.0, 0.0, 0.0, 0.0, 0.0, 0.0, 0.0, 0.0, 0.0], [0.800162672996521, 0.14422565698623657, 0.055611640214920044, 0.0, 0.0, 0.0, 0.0, 0.0, 0.0, 0.0, 0.0, 0.0, 0.0, 0.0, 0.0, 0.0, 0.0, 0.0, 0.0, 0.0, 0.0, 0.0, 0.0, 0.0, 0.0, 0.0, 0.0, 0.0, 0.0, 0.0, 0.0, 0.0, 0.0, 0.0, 0.0, 0.0, 0.0, 0.0, 0.0, 0.0, 0.0, 0.0, 0.0, 0.0, 0.0], [0.6471941471099854, 0.14701783657073975, 0.0793100968003273, 0.12647795677185059, 0.0, 0.0, 0.0, 0.0, 0.0, 0.0, 0.0, 0.0, 0.0, 0.0, 0.0, 0.0, 0.0, 0.0, 0.0, 0.0, 0.0, 0.0, 0.0, 0.0, 0.0, 0.0, 0.0, 0.0, 0.0, 0.0, 0.0, 0.0, 0.0, 0.0, 0.0, 0.0, 0.0, 0.0, 0.0, 0.0, 0.0, 0.0, 0.0, 0.0, 0.0], [0.6291001439094543, 0.1326994150876999, 0.0830739364027977, 0.10306605696678162, 0.052060458809137344, 0.0, 0.0, 0.0, 0.0, 0.0, 0.0, 0.0, 0.0, 0.0, 0.0, 0.0, 0.0, 0.0, 0.0, 0.0, 0.0, 0.0, 0.0, 0.0, 0.0, 0.0, 0.0, 0.0, 0.0, 0.0, 0.0, 0.0, 0.0, 0.0, 0.0, 0.0, 0.0, 0.0, 0.0, 0.0, 0.0, 0.0, 0.0, 0.0, 0.0], [0.5631013512611389, 0.12375935167074203, 0.11159726977348328, 0.10842739790678024, 0.08343343436717987, 0.009681188501417637, 0.0, 0.0, 0.0, 0.0, 0.0, 0.0, 0.0, 0.0, 0.0, 0.0, 0.0, 0.0, 0.0, 0.0, 0.0, 0.0, 0.0, 0.0, 0.0, 0.0, 0.0, 0.0, 0.0, 0.0, 0.0, 0.0, 0.0, 0.0, 0.0, 0.0, 0.0, 0.0, 0.0, 0.0, 0.0, 0.0, 0.0, 0.0, 0.0], [0.4973389506340027, 0.11400073766708374, 0.07851862907409668, 0.10408835113048553, 0.08229988813400269, 0.08720176666975021, 0.03655165806412697, 0.0, 0.0, 0.0, 0.0, 0.0, 0.0, 0.0, 0.0, 0.0, 0.0, 0.0, 0.0, 0.0, 0.0, 0.0, 0.0, 0.0, 0.0, 0.0, 0.0, 0.0, 0.0, 0.0, 0.0, 0.0, 0.0, 0.0, 0.0, 0.0, 0.0, 0.0, 0.0, 0.0, 0.0, 0.0, 0.0, 0.0, 0.0], [0.46186619997024536, 0.10720597952604294, 0.07680263370275497, 0.09525884687900543, 0.11179573833942413, 0.04683659225702286, 0.0632898211479187, 0.03694411739706993, 0.0, 0.0, 0.0, 0.0, 0.0, 0.0, 0.0, 0.0, 0.0, 0.0, 0.0, 0.0, 0.0, 0.0, 0.0, 0.0, 0.0, 0.0, 0.0, 0.0, 0.0, 0.0, 0.0, 0.0, 0.0, 0.0, 0.0, 0.0, 0.0, 0.0, 0.0, 0.0, 0.0, 0.0, 0.0, 0.0, 0.0], [0.40880170464515686, 0.11223533749580383, 0.061949532479047775, 0.08138208091259003, 0.06888710707426071, 0.04759939759969711, 0.05779566243290901, 0.06300585716962814, 0.09834322333335876, 0.0, 0.0, 0.0, 0.0, 0.0, 0.0, 0.0, 0.0, 0.0, 0.0, 0.0, 0.0, 0.0, 0.0, 0.0, 0.0, 0.0, 0.0, 0.0, 0.0, 0.0, 0.0, 0.0, 0.0, 0.0, 0.0, 0.0, 0.0, 0.0, 0.0, 0.0, 0.0, 0.0, 0.0, 0.0, 0.0], [0.3377854824066162, 0.07768955826759338, 0.06164025142788887, 0.08030418306589127, 0.09243480116128922, 0.12569792568683624, 0.04310277849435806, 0.080065056681633, 0.08753131330013275, 0.013748610392212868, 0.0, 0.0, 0.0, 0.0, 0.0, 0.0, 0.0, 0.0, 0.0, 0.0, 0.0, 0.0, 0.0, 0.0, 0.0, 0.0, 0.0, 0.0, 0.0, 0.0, 0.0, 0.0, 0.0, 0.0, 0.0, 0.0, 0.0, 0.0, 0.0, 0.0, 0.0, 0.0, 0.0, 0.0, 0.0], [0.40844565629959106, 0.07972611486911774, 0.05943278223276138, 0.0709897056221962, 0.06258387863636017, 0.0729871541261673, 0.05290916562080383, 0.06663116812705994, 0.08486582338809967, 0.030785230919718742, 0.010643374174833298, 0.0, 0.0, 0.0, 0.0, 0.0, 0.0, 0.0, 0.0, 0.0, 0.0, 0.0, 0.0, 0.0, 0.0, 0.0, 0.0, 0.0, 0.0, 0.0, 0.0, 0.0, 0.0, 0.0, 0.0, 0.0, 0.0, 0.0, 0.0, 0.0, 0.0, 0.0, 0.0, 0.0, 0.0], [0.328408807516098, 0.08126059174537659, 0.05222117155790329, 0.0667019858956337, 0.06221218407154083, 0.04688328877091408, 0.04748228192329407, 0.04943712800741196, 0.08644366264343262, 0.051085103303194046, 0.046604081988334656, 0.08125965297222137, 0.0, 0.0, 0.0, 0.0, 0.0, 0.0, 0.0, 0.0, 0.0, 0.0, 0.0, 0.0, 0.0, 0.0, 0.0, 0.0, 0.0, 0.0, 0.0, 0.0, 0.0, 0.0, 0.0, 0.0, 0.0, 0.0, 0.0, 0.0, 0.0, 0.0, 0.0, 0.0, 0.0], [0.28456372022628784, 0.07334225624799728, 0.05956627428531647, 0.05995684117078781, 0.0626126304268837, 0.04492250829935074, 0.053548891097307205, 0.055395230650901794, 0.07605051249265671, 0.054391518235206604, 0.05521009862422943, 0.0848141461610794, 0.03562537953257561, 0.0, 0.0, 0.0, 0.0, 0.0, 0.0, 0.0, 0.0, 0.0, 0.0, 0.0, 0.0, 0.0, 0.0, 0.0, 0.0, 0.0, 0.0, 0.0, 0.0, 0.0, 0.0, 0.0, 0.0, 0.0, 0.0, 0.0, 0.0, 0.0, 0.0, 0.0, 0.0], [0.29869240522384644, 0.08053489029407501, 0.04630003497004509, 0.058416109532117844, 0.05245251581072807, 0.035896752029657364, 0.0431300550699234, 0.04816411808133125, 0.07179585844278336, 0.035882290452718735, 0.034986358135938644, 0.06638611108064651, 0.04749889299273491, 0.07986355572938919, 0.0, 0.0, 0.0, 0.0, 0.0, 0.0, 0.0, 0.0, 0.0, 0.0, 0.0, 0.0, 0.0, 0.0, 0.0, 0.0, 0.0, 0.0, 0.0, 0.0, 0.0, 0.0, 0.0, 0.0, 0.0, 0.0, 0.0, 0.0, 0.0, 0.0, 0.0], [0.2618486285209656, 0.06895224004983902, 0.04662094637751579, 0.058604609221220016, 0.0469287745654583, 0.055680133402347565, 0.04915207251906395, 0.041177816689014435, 0.074907585978508, 0.03198425471782684, 0.032572243362665176, 0.07257072627544403, 0.03739878535270691, 0.08542975038290024, 0.036171406507492065, 0.0, 0.0, 0.0, 0.0, 0.0, 0.0, 0.0, 0.0, 0.0, 0.0, 0.0, 0.0, 0.0, 0.0, 0.0, 0.0, 0.0, 0.0, 0.0, 0.0, 0.0, 0.0, 0.0, 0.0, 0.0, 0.0, 0.0, 0.0, 0.0, 0.0], [0.29417479038238525, 0.053609199821949005, 0.038608770817518234, 0.04952675849199295, 0.04060915485024452, 0.04149328172206879, 0.029716264456510544, 0.04536983370780945, 0.060249291360378265, 0.041599687188863754, 0.06637393683195114, 0.05982465296983719, 0.040502920746803284, 0.06734268367290497, 0.06095736473798752, 0.010041488334536552, 0.0, 0.0, 0.0, 0.0, 0.0, 0.0, 0.0, 0.0, 0.0, 0.0, 0.0, 0.0, 0.0, 0.0, 0.0, 0.0, 0.0, 0.0, 0.0, 0.0, 0.0, 0.0, 0.0, 0.0, 0.0, 0.0, 0.0, 0.0, 0.0], [0.24078039824962616, 0.05731503292918205, 0.03812979906797409, 0.04762375354766846, 0.04672613739967346, 0.035154759883880615, 0.034621819853782654, 0.037472426891326904, 0.06234782189130783, 0.0395454466342926, 0.035744305700063705, 0.05874500051140785, 0.034078434109687805, 0.07071568071842194, 0.05439116060733795, 0.039451491087675095, 0.06715651601552963, 0.0, 0.0, 0.0, 0.0, 0.0, 0.0, 0.0, 0.0, 0.0, 0.0, 0.0, 0.0, 0.0, 0.0, 0.0, 0.0, 0.0, 0.0, 0.0, 0.0, 0.0, 0.0, 0.0, 0.0, 0.0, 0.0, 0.0, 0.0], [0.19008122384548187, 0.05546913668513298, 0.038249868899583817, 0.04468470811843872, 0.0434919148683548, 0.03729136660695076, 0.03500031679868698, 0.03413338586688042, 0.05614839866757393, 0.029018186032772064, 0.026478586718440056, 0.06265049427747726, 0.03502202033996582, 0.06568855792284012, 0.057141952216625214, 0.04781633988022804, 0.07356444746255875, 0.06806915998458862, 0.0, 0.0, 0.0, 0.0, 0.0, 0.0, 0.0, 0.0, 0.0, 0.0, 0.0, 0.0, 0.0, 0.0, 0.0, 0.0, 0.0, 0.0, 0.0, 0.0, 0.0, 0.0, 0.0, 0.0, 0.0, 0.0, 0.0], [0.23406481742858887, 0.04765680432319641, 0.036266375333070755, 0.04350152611732483, 0.044823307543992996, 0.030926167964935303, 0.02414553239941597, 0.030471043661236763, 0.05100264400243759, 0.0385214202105999, 0.04128360003232956, 0.05289096012711525, 0.027892805635929108, 0.057388786226511, 0.06066998839378357, 0.043871037662029266, 0.05933021754026413, 0.05117019638419151, 0.024122701957821846, 0.0, 0.0, 0.0, 0.0, 0.0, 0.0, 0.0, 0.0, 0.0, 0.0, 0.0, 0.0, 0.0, 0.0, 0.0, 0.0, 0.0, 0.0, 0.0, 0.0, 0.0, 0.0, 0.0, 0.0, 0.0, 0.0], [0.3121168911457062, 0.043056998401880264, 0.030739210546016693, 0.03990123048424721, 0.04073917493224144, 0.03397355228662491, 0.013991202227771282, 0.032501693814992905, 0.04214293137192726, 0.03136739507317543, 0.05722318962216377, 0.042099729180336, 0.032853297889232635, 0.04662720859050751, 0.048747751861810684, 0.02173060178756714, 0.0472237728536129, 0.02985757775604725, 0.045303910970687866, 0.007802657317370176, 0.0, 0.0, 0.0, 0.0, 0.0, 0.0, 0.0, 0.0, 0.0, 0.0, 0.0, 0.0, 0.0, 0.0, 0.0, 0.0, 0.0, 0.0, 0.0, 0.0, 0.0, 0.0, 0.0, 0.0, 0.0], [0.19583052396774292, 0.05227474868297577, 0.032512083649635315, 0.037058889865875244, 0.04335429146885872, 0.027641311287879944, 0.027452077716588974, 0.03308155760169029, 0.04532439634203911, 0.02540675178170204, 0.02478163316845894, 0.03888050466775894, 0.030247299000620842, 0.05089510977268219, 0.04128776490688324, 0.037492118775844574, 0.04425322636961937, 0.04428721219301224, 0.045193951576948166, 0.05072398856282234, 0.07202056050300598, 0.0, 0.0, 0.0, 0.0, 0.0, 0.0, 0.0, 0.0, 0.0, 0.0, 0.0, 0.0, 0.0, 0.0, 0.0, 0.0, 0.0, 0.0, 0.0, 0.0, 0.0, 0.0, 0.0, 0.0], [0.16079993546009064, 0.04841073974967003, 0.033020980656147, 0.03441707044839859, 0.035319793969392776, 0.02389703504741192, 0.026063481345772743, 0.02863970957696438, 0.044538743793964386, 0.02494947612285614, 0.02971615456044674, 0.040130000561475754, 0.024859072640538216, 0.05134395509958267, 0.05373542755842209, 0.04527630656957626, 0.046805962920188904, 0.034605979919433594, 0.04245501756668091, 0.05485454574227333, 0.06976334750652313, 0.04639732465147972, 0.0, 0.0, 0.0, 0.0, 0.0, 0.0, 0.0, 0.0, 0.0, 0.0, 0.0, 0.0, 0.0, 0.0, 0.0, 0.0, 0.0, 0.0, 0.0, 0.0, 0.0, 0.0, 0.0], [0.18932515382766724, 0.039103616029024124, 0.024852002039551735, 0.033450495451688766, 0.03860156983137131, 0.02410930022597313, 0.02050212025642395, 0.02430175058543682, 0.039764706045389175, 0.03418166935443878, 0.03484784811735153, 0.03619780391454697, 0.02366895042359829, 0.0450248196721077, 0.03498942404985428, 0.02682552859187126, 0.04153791069984436, 0.03736662492156029, 0.04202277585864067, 0.055910415947437286, 0.06404418498277664, 0.05618630722165108, 0.03318498283624649, 0.0, 0.0, 0.0, 0.0, 0.0, 0.0, 0.0, 0.0, 0.0, 0.0, 0.0, 0.0, 0.0, 0.0, 0.0, 0.0, 0.0, 0.0, 0.0, 0.0, 0.0, 0.0], [0.16596604883670807, 0.03388110175728798, 0.020657524466514587, 0.032127272337675095, 0.03747252747416496, 0.026519495993852615, 0.01988290436565876, 0.02560962736606598, 0.04091743379831314, 0.022610332816839218, 0.019720884039998055, 0.033765360713005066, 0.02350381202995777, 0.04644525423645973, 0.035414308309555054, 0.02736842818558216, 0.03876943141222, 0.03146073594689369, 0.04639926552772522, 0.04867471382021904, 0.06382154673337936, 0.06529749184846878, 0.046299081295728683, 0.04741539806127548, 0.0, 0.0, 0.0, 0.0, 0.0, 0.0, 0.0, 0.0, 0.0, 0.0, 0.0, 0.0, 0.0, 0.0, 0.0, 0.0, 0.0, 0.0, 0.0, 0.0, 0.0], [0.1551409214735031, 0.03631479665637016, 0.022236891090869904, 0.028097426518797874, 0.04015664383769035, 0.02405598573386669, 0.01740090921521187, 0.021498549729585648, 0.036750677973032, 0.017986761406064034, 0.019703907892107964, 0.02832779288291931, 0.022604601457715034, 0.04168051853775978, 0.030497957020998, 0.0255855992436409, 0.03248760104179382, 0.027014948427677155, 0.04112287983298302, 0.047384485602378845, 0.0638234093785286, 0.05655011162161827, 0.04119998216629028, 0.06263258308172226, 0.05974407121539116, 0.0, 0.0, 0.0, 0.0, 0.0, 0.0, 0.0, 0.0, 0.0, 0.0, 0.0, 0.0, 0.0, 0.0, 0.0, 0.0, 0.0, 0.0, 0.0, 0.0], [0.12975940108299255, 0.02733970619738102, 0.029957516118884087, 0.022702837362885475, 0.03781532496213913, 0.03144635260105133, 0.01713676005601883, 0.04656491056084633, 0.030618291348218918, 0.018781673163175583, 0.025273190811276436, 0.028721973299980164, 0.019090941175818443, 0.034810010343790054, 0.026170209050178528, 0.026817740872502327, 0.03296038880944252, 0.024960245937108994, 0.05474760755896568, 0.05780106037855148, 0.056176237761974335, 0.03305984288454056, 0.05767424404621124, 0.04667417332530022, 0.06228700280189514, 0.020652376115322113, 0.0, 0.0, 0.0, 0.0, 0.0, 0.0, 0.0, 0.0, 0.0, 0.0, 0.0, 0.0, 0.0, 0.0, 0.0, 0.0, 0.0, 0.0, 0.0], [0.18126998841762543, 0.027924928814172745, 0.028055915609002113, 0.029457412660121918, 0.02853275090456009, 0.020307771861553192, 0.019550161436200142, 0.03153109550476074, 0.029232850298285484, 0.021110517904162407, 0.014580837450921535, 0.022505315020680428, 0.016256747767329216, 0.03150883689522743, 0.02451970987021923, 0.03659055382013321, 0.02503451332449913, 0.020030668005347252, 0.047266121953725815, 0.12142348289489746, 0.0418962724506855, 0.03646090254187584, 0.03734692186117172, 0.037057459354400635, 0.035210929811000824, 0.024784505367279053, 0.010552848689258099, 0.0, 0.0, 0.0, 0.0, 0.0, 0.0, 0.0, 0.0, 0.0, 0.0, 0.0, 0.0, 0.0, 0.0, 0.0, 0.0, 0.0, 0.0], [0.1419323980808258, 0.02687341906130314, 0.023394420742988586, 0.024198882281780243, 0.03441089391708374, 0.03176819905638695, 0.01428282167762518, 0.027884995564818382, 0.02782326564192772, 0.02026795782148838, 0.02007533609867096, 0.026035428047180176, 0.01527105551213026, 0.03118356317281723, 0.02134445495903492, 0.030780896544456482, 0.02968648634850979, 0.024966172873973846, 0.03290621563792229, 0.0812656506896019, 0.047380201518535614, 0.039505019783973694, 0.038106054067611694, 0.03920022398233414, 0.04723040387034416, 0.03223777934908867, 0.04768495261669159, 0.022302815690636635, 0.0, 0.0, 0.0, 0.0, 0.0, 0.0, 0.0, 0.0, 0.0, 0.0, 0.0, 0.0, 0.0, 0.0, 0.0, 0.0, 0.0], [0.19361066818237305, 0.028910454362630844, 0.017410723492503166, 0.0249919593334198, 0.020412273705005646, 0.03692351281642914, 0.01856403797864914, 0.022491110488772392, 0.026469895616173744, 0.019851716235280037, 0.01670689322054386, 0.02012958750128746, 0.017302939668297768, 0.028877517208456993, 0.019370291382074356, 0.021512910723686218, 0.022604649886488914, 0.019465502351522446, 0.032185450196266174, 0.09415607154369354, 0.03964081034064293, 0.04692872613668442, 0.03296550363302231, 0.03432744741439819, 0.03549889847636223, 0.041524242609739304, 0.038008444011211395, 0.024193797260522842, 0.004963913932442665, 0.0, 0.0, 0.0, 0.0, 0.0, 0.0, 0.0, 0.0, 0.0, 0.0, 0.0, 0.0, 0.0, 0.0, 0.0, 0.0], [0.13062256574630737, 0.0292381402105093, 0.02056247368454933, 0.024924922734498978, 0.026433361694216728, 0.02088005654513836, 0.01689508743584156, 0.020366204902529716, 0.03079465962946415, 0.016811510547995567, 0.01435263641178608, 0.026399679481983185, 0.017968149855732918, 0.03419142961502075, 0.02579362876713276, 0.020880069583654404, 0.029983332380652428, 0.02257683500647545, 0.031984005123376846, 0.038775257766246796, 0.04729926213622093, 0.039518099278211594, 0.035695552825927734, 0.04647784307599068, 0.04560372605919838, 0.02769400365650654, 0.028376275673508644, 0.029506998136639595, 0.03388816490769386, 0.06550604104995728, 0.0, 0.0, 0.0, 0.0, 0.0, 0.0, 0.0, 0.0, 0.0, 0.0, 0.0, 0.0, 0.0, 0.0, 0.0], [0.10399015247821808, 0.021966131404042244, 0.01645117625594139, 0.022787993773818016, 0.0243571437895298, 0.019975418224930763, 0.013678604736924171, 0.02052462100982666, 0.026416651904582977, 0.015824994072318077, 0.018124746158719063, 0.02293805032968521, 0.01524983998388052, 0.02995176613330841, 0.019568655639886856, 0.017790069803595543, 0.026331380009651184, 0.020062372088432312, 0.03040565550327301, 0.05837804079055786, 0.04746948927640915, 0.03560006618499756, 0.03361857682466507, 0.0390515998005867, 0.04623459652066231, 0.03415835648775101, 0.050636325031518936, 0.033049557358026505, 0.04132761433720589, 0.06007478013634682, 0.03400559350848198, 0.0, 0.0, 0.0, 0.0, 0.0, 0.0, 0.0, 0.0, 0.0, 0.0, 0.0, 0.0, 0.0, 0.0], [0.10689453780651093, 0.023425215855240822, 0.018311120569705963, 0.02227620966732502, 0.019986256957054138, 0.0183456689119339, 0.01589350588619709, 0.019802751019597054, 0.025829346850514412, 0.016079489141702652, 0.016656847670674324, 0.02581820823252201, 0.012892838567495346, 0.02911144308745861, 0.020739195868372917, 0.017621522769331932, 0.029654445126652718, 0.02428114414215088, 0.028045883402228355, 0.05205395072698593, 0.04263105243444443, 0.03251810744404793, 0.037380315363407135, 0.038434360176324844, 0.039821214973926544, 0.026290137320756912, 0.0352063849568367, 0.03138631209731102, 0.03282344713807106, 0.06194699928164482, 0.03762544319033623, 0.040216587483882904, 0.0, 0.0, 0.0, 0.0, 0.0, 0.0, 0.0, 0.0, 0.0, 0.0, 0.0, 0.0, 0.0], [0.12229018658399582, 0.02516898885369301, 0.01671406626701355, 0.02203325740993023, 0.023000726476311684, 0.015408726409077644, 0.014958010986447334, 0.0186767615377903, 0.026191167533397675, 0.012370300479233265, 0.01071577426046133, 0.02163190394639969, 0.01398463360965252, 0.028899209573864937, 0.02320098504424095, 0.018216602504253387, 0.02428123541176319, 0.018235329538583755, 0.02165396325290203, 0.03633744269609451, 0.03855650871992111, 0.036919448524713516, 0.03379228338599205, 0.042588260024785995, 0.038391560316085815, 0.02329576574265957, 0.030805258080363274, 0.024493319913744926, 0.030105791985988617, 0.05652609094977379, 0.037566833198070526, 0.04159918799996376, 0.051390379667282104, 0.0, 0.0, 0.0, 0.0, 0.0, 0.0, 0.0, 0.0, 0.0, 0.0, 0.0, 0.0], [0.13871710002422333, 0.021967245265841484, 0.016682986170053482, 0.021551378071308136, 0.026049219071865082, 0.015379129908978939, 0.01252230815589428, 0.020025217905640602, 0.02187984809279442, 0.014553073793649673, 0.01562824472784996, 0.018288597464561462, 0.012421742081642151, 0.02363342046737671, 0.01722067967057228, 0.020091678947210312, 0.02015187218785286, 0.01853018067777157, 0.024212496355175972, 0.07234082370996475, 0.03423937037587166, 0.030147047713398933, 0.03145884722471237, 0.0302029550075531, 0.03094874881207943, 0.024833209812641144, 0.030743278563022614, 0.022636573761701584, 0.044566910713911057, 0.04173137620091438, 0.028924647718667984, 0.029865317046642303, 0.04288142919540405, 0.02497304044663906, 0.0, 0.0, 0.0, 0.0, 0.0, 0.0, 0.0, 0.0, 0.0, 0.0, 0.0], [0.12327973544597626, 0.02670745551586151, 0.014834703877568245, 0.018021514639258385, 0.017764991149306297, 0.01335165835916996, 0.01407379936426878, 0.018723025918006897, 0.023980090394616127, 0.021256310865283012, 0.017004812136292458, 0.020616665482521057, 0.012905538082122803, 0.026097441092133522, 0.021554267033934593, 0.015845784917473793, 0.022780921310186386, 0.023595377802848816, 0.019861746579408646, 0.021922390908002853, 0.03597114235162735, 0.033696819096803665, 0.021171674132347107, 0.03536052629351616, 0.03450925275683403, 0.021897660568356514, 0.03512426093220711, 0.024112926796078682, 0.03299054130911827, 0.04677635058760643, 0.03042444959282875, 0.03270317241549492, 0.03790725767612457, 0.04262495040893555, 0.04055078700184822, 0.0, 0.0, 0.0, 0.0, 0.0, 0.0, 0.0, 0.0, 0.0, 0.0], [0.10203342884778976, 0.019017841666936874, 0.011865654960274696, 0.018183430656790733, 0.021882491186261177, 0.01590711437165737, 0.011691669933497906, 0.01570742391049862, 0.023152662441134453, 0.013809398747980595, 0.011613133363425732, 0.018508434295654297, 0.01313953846693039, 0.02540241926908493, 0.0198031198233366, 0.01551006454974413, 0.020748071372509003, 0.016987178474664688, 0.02643902227282524, 0.03045015223324299, 0.03514567390084267, 0.035953424870967865, 0.02468688413500786, 0.025053570047020912, 0.027205102145671844, 0.0208998154848814, 0.02592535875737667, 0.022635621950030327, 0.029776332899928093, 0.045989736914634705, 0.0317622534930706, 0.03104367107152939, 0.04329837113618851, 0.03804692625999451, 0.07208844274282455, 0.03863658010959625, 0.0, 0.0, 0.0, 0.0, 0.0, 0.0, 0.0, 0.0, 0.0], [0.09772196412086487, 0.018238823860883713, 0.008561098016798496, 0.01882202923297882, 0.01829298958182335, 0.021508291363716125, 0.013311951421201229, 0.01367134414613247, 0.023141030222177505, 0.014742184430360794, 0.015579127706587315, 0.019459057599306107, 0.013574611395597458, 0.02552441507577896, 0.02291146293282509, 0.013809011317789555, 0.021804088726639748, 0.016263462603092194, 0.020714715123176575, 0.02827504836022854, 0.03421672433614731, 0.03347548469901085, 0.022673124447464943, 0.02603936940431595, 0.02631481923162937, 0.027165265753865242, 0.035643190145492554, 0.02069251984357834, 0.028640536591410637, 0.04366127401590347, 0.03212832286953926, 0.03210354223847389, 0.04561321809887886, 0.03289620578289032, 0.056144118309020996, 0.0404810756444931, 0.016184499487280846, 0.0, 0.0, 0.0, 0.0, 0.0, 0.0, 0.0, 0.0], [0.09105470776557922, 0.01895413175225258, 0.011814978905022144, 0.017863284796476364, 0.0181095153093338, 0.012416318990290165, 0.01136317290365696, 0.015259455889463425, 0.0211664866656065, 0.010330624878406525, 0.009327219799160957, 0.01903485879302025, 0.011164908297359943, 0.023154854774475098, 0.018694495782256126, 0.01323497761040926, 0.021192142739892006, 0.015944844111800194, 0.017254579812288284, 0.02575761266052723, 0.030862459912896156, 0.029608285054564476, 0.02560516633093357, 0.029343992471694946, 0.027330663055181503, 0.01851891353726387, 0.02875823713839054, 0.02005866728723049, 0.027977049350738525, 0.04568162560462952, 0.029621411114931107, 0.03487120196223259, 0.042461641132831573, 0.03795265778899193, 0.050448015332221985, 0.045957256108522415, 0.02366870455443859, 0.04818087816238403, 0.0, 0.0, 0.0, 0.0, 0.0, 0.0, 0.0], [0.09109042584896088, 0.01646416261792183, 0.011742385104298592, 0.01822592504322529, 0.017743561416864395, 0.012591374106705189, 0.010080252774059772, 0.014241814613342285, 0.018381793051958084, 0.011184515431523323, 0.00984176341444254, 0.015554235316812992, 0.011593002825975418, 0.020298516377806664, 0.01349613443017006, 0.010897538624703884, 0.017467964440584183, 0.013183465227484703, 0.024082818999886513, 0.023195024579763412, 0.02964635193347931, 0.026672272011637688, 0.024982253089547157, 0.027987303212285042, 0.027523014694452286, 0.02095622569322586, 0.03118000365793705, 0.02611476369202137, 0.020922843366861343, 0.037957120686769485, 0.02982909604907036, 0.030272306874394417, 0.04106499254703522, 0.03353127837181091, 0.055547382682561874, 0.043858617544174194, 0.025074638426303864, 0.05059976875782013, 0.03492315486073494, 0.0, 0.0, 0.0, 0.0, 0.0, 0.0], [0.10756739228963852, 0.018402311950922012, 0.015481697395443916, 0.016169769689440727, 0.015241773799061775, 0.00939162913709879, 0.009342378005385399, 0.018078813329339027, 0.015816960483789444, 0.015452860854566097, 0.013011832721531391, 0.013408251106739044, 0.010026799514889717, 0.016749199479818344, 0.01802271232008934, 0.025078844279050827, 0.014644996263086796, 0.012167003005743027, 0.014745556749403477, 0.044972483068704605, 0.025490127503871918, 0.02331436052918434, 0.01865633949637413, 0.0243721604347229, 0.02263636328279972, 0.029345527291297913, 0.03679220750927925, 0.018877947703003883, 0.05136602744460106, 0.02901785634458065, 0.02113417349755764, 0.017931979149580002, 0.02821972221136093, 0.03651244938373566, 0.04374893009662628, 0.03631333261728287, 0.03026103973388672, 0.033818017691373825, 0.02987886592745781, 0.01853925921022892, 0.0, 0.0, 0.0, 0.0, 0.0], [0.08511599153280258, 0.017925100401043892, 0.012676967307925224, 0.015171536244452, 0.01646648533642292, 0.013441570103168488, 0.010748391039669514, 0.013262108899652958, 0.018808217719197273, 0.010726992972195148, 0.00891298707574606, 0.01561043318361044, 0.01075667329132557, 0.020117832347750664, 0.01531483419239521, 0.012995845638215542, 0.017168326303362846, 0.012960869818925858, 0.018944505602121353, 0.02506275288760662, 0.027414297685027122, 0.02271207794547081, 0.020220976322889328, 0.025906486436724663, 0.025714583694934845, 0.016403822228312492, 0.016741937026381493, 0.016665533185005188, 0.020414279773831367, 0.03646475076675415, 0.02684519626200199, 0.026567090302705765, 0.03315019980072975, 0.025408651679754257, 0.05188259482383728, 0.04038462042808533, 0.024824343621730804, 0.03891945630311966, 0.0337127186357975, 0.04185836762189865, 0.05559959635138512, 0.0, 0.0, 0.0, 0.0], [0.10333327203989029, 0.01748528704047203, 0.014684172347187996, 0.015339688397943974, 0.01448883954435587, 0.009003214538097382, 0.008914916776120663, 0.0173035915941, 0.015036742202937603, 0.014836005866527557, 0.012435229495167732, 0.01268710196018219, 0.00948390457779169, 0.01581123098731041, 0.017014333978295326, 0.02366628684103489, 0.013764885254204273, 0.011426050215959549, 0.013903148472309113, 0.04282991588115692, 0.023889152333140373, 0.021772416308522224, 0.01736471801996231, 0.022694991901516914, 0.021208450198173523, 0.027571864426136017, 0.03468863293528557, 0.017602190375328064, 0.048834968358278275, 0.026968495920300484, 0.019764481112360954, 0.016622519120573997, 0.02611500583589077, 0.03439591825008392, 0.04068940505385399, 0.033744364976882935, 0.028132721781730652, 0.0313614159822464, 0.027718232944607735, 0.01733090542256832, 0.03980051726102829, 0.01828075386583805, 0.0, 0.0, 0.0], [0.08264569193124771, 0.013857216574251652, 0.01212768442928791, 0.01217666920274496, 0.01645328663289547, 0.01572493463754654, 0.009489561431109905, 0.016755057498812675, 0.014770197682082653, 0.011415869928896427, 0.013655442744493484, 0.011158865876495838, 0.00864511076360941, 0.015630735084414482, 0.012293752282857895, 0.01334717869758606, 0.01215720921754837, 0.009649837389588356, 0.019259391352534294, 0.04163872450590134, 0.022906335070729256, 0.01935611478984356, 0.017400048673152924, 0.017970573157072067, 0.02122461423277855, 0.013186374679207802, 0.021893728524446487, 0.014897520653903484, 0.03577680140733719, 0.02718835324048996, 0.023345336318016052, 0.018103769049048424, 0.024671945720911026, 0.03438634052872658, 0.03804539516568184, 0.027269301936030388, 0.024021657183766365, 0.03090568445622921, 0.02928885631263256, 0.05400503799319267, 0.04086620360612869, 0.057193152606487274, 0.023244356736540794, 0.0, 0.0], [0.08332957327365875, 0.018453190103173256, 0.011361652053892612, 0.013572612777352333, 0.013677623122930527, 0.009802761487662792, 0.011218409985303879, 0.01389719732105732, 0.016894744709134102, 0.010505560785531998, 0.009426761418581009, 0.014642665162682533, 0.010859626345336437, 0.017748719081282616, 0.014773220755159855, 0.01303489413112402, 0.01585923507809639, 0.01477186381816864, 0.014513962902128696, 0.02167086862027645, 0.024548055604100227, 0.023188093677163124, 0.017144756391644478, 0.02340540662407875, 0.021004466339945793, 0.015302044339478016, 0.014369443990290165, 0.014084544032812119, 0.020433614030480385, 0.03306477516889572, 0.022176304832100868, 0.022985003888607025, 0.027219481766223907, 0.020650727674365044, 0.043620798736810684, 0.03595533221960068, 0.020737674087285995, 0.032196689397096634, 0.028464356437325478, 0.029110558331012726, 0.050036340951919556, 0.03098866529762745, 0.033450815826654434, 0.045846905559301376, 0.0], [0.07307448238134384, 0.01532001607120037, 0.01081359013915062, 0.012936139479279518, 0.014199584722518921, 0.011587917804718018, 0.009348819963634014, 0.011499271728098392, 0.016052717342972755, 0.009205072186887264, 0.007758134976029396, 0.01322091557085514, 0.009154756553471088, 0.01691247895359993, 0.01294088363647461, 0.010998295620083809, 0.014322840608656406, 0.010810278356075287, 0.015789393335580826, 0.02159539982676506, 0.022736800834536552, 0.018704406917095184, 0.01660795882344246, 0.02110658958554268, 0.020939281210303307, 0.013762829825282097, 0.013736295513808727, 0.013576386496424675, 0.01672070100903511, 0.02948181889951229, 0.02189130336046219, 0.02151232585310936, 0.026769394055008888, 0.020870007574558258, 0.04292353242635727, 0.032674260437488556, 0.020244374871253967, 0.03146076574921608, 0.027314750477671623, 0.034132786095142365, 0.04511212557554245, 0.036397721618413925, 0.03702714294195175, 0.04420170933008194, 0.05255373939871788]], [[1.0, 0.0, 0.0, 0.0, 0.0, 0.0, 0.0, 0.0, 0.0, 0.0, 0.0, 0.0, 0.0, 0.0, 0.0, 0.0, 0.0, 0.0, 0.0, 0.0, 0.0, 0.0, 0.0, 0.0, 0.0, 0.0, 0.0, 0.0, 0.0, 0.0, 0.0, 0.0, 0.0, 0.0, 0.0, 0.0, 0.0, 0.0, 0.0, 0.0, 0.0, 0.0, 0.0, 0.0, 0.0], [0.6533870697021484, 0.3466128706932068, 0.0, 0.0, 0.0, 0.0, 0.0, 0.0, 0.0, 0.0, 0.0, 0.0, 0.0, 0.0, 0.0, 0.0, 0.0, 0.0, 0.0, 0.0, 0.0, 0.0, 0.0, 0.0, 0.0, 0.0, 0.0, 0.0, 0.0, 0.0, 0.0, 0.0, 0.0, 0.0, 0.0, 0.0, 0.0, 0.0, 0.0, 0.0, 0.0, 0.0, 0.0, 0.0, 0.0], [0.44511184096336365, 0.33376824855804443, 0.22111999988555908, 0.0, 0.0, 0.0, 0.0, 0.0, 0.0, 0.0, 0.0, 0.0, 0.0, 0.0, 0.0, 0.0, 0.0, 0.0, 0.0, 0.0, 0.0, 0.0, 0.0, 0.0, 0.0, 0.0, 0.0, 0.0, 0.0, 0.0, 0.0, 0.0, 0.0, 0.0, 0.0, 0.0, 0.0, 0.0, 0.0, 0.0, 0.0, 0.0, 0.0, 0.0, 0.0], [0.54598069190979, 0.15291079878807068, 0.07645456492900848, 0.2246539443731308, 0.0, 0.0, 0.0, 0.0, 0.0, 0.0, 0.0, 0.0, 0.0, 0.0, 0.0, 0.0, 0.0, 0.0, 0.0, 0.0, 0.0, 0.0, 0.0, 0.0, 0.0, 0.0, 0.0, 0.0, 0.0, 0.0, 0.0, 0.0, 0.0, 0.0, 0.0, 0.0, 0.0, 0.0, 0.0, 0.0, 0.0, 0.0, 0.0, 0.0, 0.0], [0.42720267176628113, 0.1412525475025177, 0.06143974885344505, 0.11979997158050537, 0.2503049969673157, 0.0, 0.0, 0.0, 0.0, 0.0, 0.0, 0.0, 0.0, 0.0, 0.0, 0.0, 0.0, 0.0, 0.0, 0.0, 0.0, 0.0, 0.0, 0.0, 0.0, 0.0, 0.0, 0.0, 0.0, 0.0, 0.0, 0.0, 0.0, 0.0, 0.0, 0.0, 0.0, 0.0, 0.0, 0.0, 0.0, 0.0, 0.0, 0.0, 0.0], [0.40979304909706116, 0.11732905358076096, 0.06548822671175003, 0.12367464601993561, 0.04222371056675911, 0.24149125814437866, 0.0, 0.0, 0.0, 0.0, 0.0, 0.0, 0.0, 0.0, 0.0, 0.0, 0.0, 0.0, 0.0, 0.0, 0.0, 0.0, 0.0, 0.0, 0.0, 0.0, 0.0, 0.0, 0.0, 0.0, 0.0, 0.0, 0.0, 0.0, 0.0, 0.0, 0.0, 0.0, 0.0, 0.0, 0.0, 0.0, 0.0, 0.0, 0.0], [0.3643514811992645, 0.15547122061252594, 0.08527877181768417, 0.0883261039853096, 0.049937326461076736, 0.03409622609615326, 0.22253884375095367, 0.0, 0.0, 0.0, 0.0, 0.0, 0.0, 0.0, 0.0, 0.0, 0.0, 0.0, 0.0, 0.0, 0.0, 0.0, 0.0, 0.0, 0.0, 0.0, 0.0, 0.0, 0.0, 0.0, 0.0, 0.0, 0.0, 0.0, 0.0, 0.0, 0.0, 0.0, 0.0, 0.0, 0.0, 0.0, 0.0, 0.0, 0.0], [0.3562684953212738, 0.09063341468572617, 0.050068147480487823, 0.10755759477615356, 0.06895480304956436, 0.046696096658706665, 0.04097531735897064, 0.23884615302085876, 0.0, 0.0, 0.0, 0.0, 0.0, 0.0, 0.0, 0.0, 0.0, 0.0, 0.0, 0.0, 0.0, 0.0, 0.0, 0.0, 0.0, 0.0, 0.0, 0.0, 0.0, 0.0, 0.0, 0.0, 0.0, 0.0, 0.0, 0.0, 0.0, 0.0, 0.0, 0.0, 0.0, 0.0, 0.0, 0.0, 0.0], [0.3461388349533081, 0.1456225961446762, 0.09470636397600174, 0.1049964502453804, 0.06400175392627716, 0.04047239571809769, 0.037579212337732315, 0.044482164084911346, 0.12200020998716354, 0.0, 0.0, 0.0, 0.0, 0.0, 0.0, 0.0, 0.0, 0.0, 0.0, 0.0, 0.0, 0.0, 0.0, 0.0, 0.0, 0.0, 0.0, 0.0, 0.0, 0.0, 0.0, 0.0, 0.0, 0.0, 0.0, 0.0, 0.0, 0.0, 0.0, 0.0, 0.0, 0.0, 0.0, 0.0, 0.0], [0.20510224997997284, 0.048243165016174316, 0.05157081410288811, 0.09953971207141876, 0.06673122197389603, 0.04558688402175903, 0.03648392856121063, 0.08169861137866974, 0.08583586663007736, 0.2792075276374817, 0.0, 0.0, 0.0, 0.0, 0.0, 0.0, 0.0, 0.0, 0.0, 0.0, 0.0, 0.0, 0.0, 0.0, 0.0, 0.0, 0.0, 0.0, 0.0, 0.0, 0.0, 0.0, 0.0, 0.0, 0.0, 0.0, 0.0, 0.0, 0.0, 0.0, 0.0, 0.0, 0.0, 0.0, 0.0], [0.23016957938671112, 0.07576317340135574, 0.062430281192064285, 0.0619683712720871, 0.05024825409054756, 0.03796260803937912, 0.05770514905452728, 0.05617326498031616, 0.06585753709077835, 0.041665587574243546, 0.2600562274456024, 0.0, 0.0, 0.0, 0.0, 0.0, 0.0, 0.0, 0.0, 0.0, 0.0, 0.0, 0.0, 0.0, 0.0, 0.0, 0.0, 0.0, 0.0, 0.0, 0.0, 0.0, 0.0, 0.0, 0.0, 0.0, 0.0, 0.0, 0.0, 0.0, 0.0, 0.0, 0.0, 0.0, 0.0], [0.2668822407722473, 0.0996926873922348, 0.06880500167608261, 0.10110107809305191, 0.036257676780223846, 0.048760294914245605, 0.031795430928468704, 0.03426745906472206, 0.09192277491092682, 0.04406016319990158, 0.024279993027448654, 0.152175173163414, 0.0, 0.0, 0.0, 0.0, 0.0, 0.0, 0.0, 0.0, 0.0, 0.0, 0.0, 0.0, 0.0, 0.0, 0.0, 0.0, 0.0, 0.0, 0.0, 0.0, 0.0, 0.0, 0.0, 0.0, 0.0, 0.0, 0.0, 0.0, 0.0, 0.0, 0.0, 0.0, 0.0], [0.24808596074581146, 0.059437572956085205, 0.03645307198166847, 0.09643886983394623, 0.04665256291627884, 0.043580617755651474, 0.026409676298499107, 0.038718484342098236, 0.06937099248170853, 0.0355321541428566, 0.02358422242105007, 0.05824920907616615, 0.21748660504817963, 0.0, 0.0, 0.0, 0.0, 0.0, 0.0, 0.0, 0.0, 0.0, 0.0, 0.0, 0.0, 0.0, 0.0, 0.0, 0.0, 0.0, 0.0, 0.0, 0.0, 0.0, 0.0, 0.0, 0.0, 0.0, 0.0, 0.0, 0.0, 0.0, 0.0, 0.0, 0.0], [0.22227585315704346, 0.08784300833940506, 0.06428328156471252, 0.07245951145887375, 0.05153007432818413, 0.033541664481163025, 0.03151148557662964, 0.04395980015397072, 0.10531803220510483, 0.03629285842180252, 0.03349635377526283, 0.07923727482557297, 0.034966111183166504, 0.10328467935323715, 0.0, 0.0, 0.0, 0.0, 0.0, 0.0, 0.0, 0.0, 0.0, 0.0, 0.0, 0.0, 0.0, 0.0, 0.0, 0.0, 0.0, 0.0, 0.0, 0.0, 0.0, 0.0, 0.0, 0.0, 0.0, 0.0, 0.0, 0.0, 0.0, 0.0, 0.0], [0.2625540494918823, 0.07451014965772629, 0.04962189123034477, 0.0651395246386528, 0.022182416170835495, 0.03923411667346954, 0.021433904767036438, 0.02829248644411564, 0.06496230512857437, 0.022169630974531174, 0.018070966005325317, 0.057965535670518875, 0.01818801276385784, 0.061765071004629135, 0.1939098834991455, 0.0, 0.0, 0.0, 0.0, 0.0, 0.0, 0.0, 0.0, 0.0, 0.0, 0.0, 0.0, 0.0, 0.0, 0.0, 0.0, 0.0, 0.0, 0.0, 0.0, 0.0, 0.0, 0.0, 0.0, 0.0, 0.0, 0.0, 0.0, 0.0, 0.0], [0.2145461142063141, 0.052079539746046066, 0.04338602349162102, 0.05108675733208656, 0.023057060316205025, 0.039872970432043076, 0.021457547321915627, 0.043103158473968506, 0.057124003767967224, 0.04732410982251167, 0.020076345652341843, 0.04863850399851799, 0.03173768147826195, 0.05389070883393288, 0.03922811895608902, 0.21339133381843567, 0.0, 0.0, 0.0, 0.0, 0.0, 0.0, 0.0, 0.0, 0.0, 0.0, 0.0, 0.0, 0.0, 0.0, 0.0, 0.0, 0.0, 0.0, 0.0, 0.0, 0.0, 0.0, 0.0, 0.0, 0.0, 0.0, 0.0, 0.0, 0.0], [0.1693463772535324, 0.0575847402215004, 0.04318230226635933, 0.06501621752977371, 0.025769710540771484, 0.035840604454278946, 0.023403935134410858, 0.02863307297229767, 0.06884392350912094, 0.03735613822937012, 0.021079324185848236, 0.12265527248382568, 0.02518490143120289, 0.07096563279628754, 0.04923553392291069, 0.02845790982246399, 0.12744443118572235, 0.0, 0.0, 0.0, 0.0, 0.0, 0.0, 0.0, 0.0, 0.0, 0.0, 0.0, 0.0, 0.0, 0.0, 0.0, 0.0, 0.0, 0.0, 0.0, 0.0, 0.0, 0.0, 0.0, 0.0, 0.0, 0.0, 0.0, 0.0], [0.1294490396976471, 0.04351517930626869, 0.028707355260849, 0.04557256028056145, 0.02128218673169613, 0.019885344430804253, 0.028857694938778877, 0.03478112816810608, 0.05532592162489891, 0.030885061249136925, 0.02108754962682724, 0.06504064798355103, 0.040431588888168335, 0.05797604098916054, 0.04136981442570686, 0.028544064611196518, 0.06784920394420624, 0.23943956196308136, 0.0, 0.0, 0.0, 0.0, 0.0, 0.0, 0.0, 0.0, 0.0, 0.0, 0.0, 0.0, 0.0, 0.0, 0.0, 0.0, 0.0, 0.0, 0.0, 0.0, 0.0, 0.0, 0.0, 0.0, 0.0, 0.0, 0.0], [0.14163608849048615, 0.03578965738415718, 0.028365233913064003, 0.04538756608963013, 0.04637840762734413, 0.03978872299194336, 0.014343788847327232, 0.049597982317209244, 0.04732619225978851, 0.03078244812786579, 0.018412167206406593, 0.048710379749536514, 0.023401638492941856, 0.04745563492178917, 0.03751209005713463, 0.02378270961344242, 0.048940643668174744, 0.03379067778587341, 0.2385980486869812, 0.0, 0.0, 0.0, 0.0, 0.0, 0.0, 0.0, 0.0, 0.0, 0.0, 0.0, 0.0, 0.0, 0.0, 0.0, 0.0, 0.0, 0.0, 0.0, 0.0, 0.0, 0.0, 0.0, 0.0, 0.0, 0.0], [0.13350321352481842, 0.03222054988145828, 0.02058890461921692, 0.037802182137966156, 0.041080113500356674, 0.03671092540025711, 0.02595442347228527, 0.04136638343334198, 0.043265700340270996, 0.030096476897597313, 0.026812909170985222, 0.04010695219039917, 0.024385901167988777, 0.04430920258164406, 0.0337374173104763, 0.020710919052362442, 0.040797438472509384, 0.032650176435709, 0.035062436014413834, 0.2588377892971039, 0.0, 0.0, 0.0, 0.0, 0.0, 0.0, 0.0, 0.0, 0.0, 0.0, 0.0, 0.0, 0.0, 0.0, 0.0, 0.0, 0.0, 0.0, 0.0, 0.0, 0.0, 0.0, 0.0, 0.0, 0.0], [0.11974351108074188, 0.03914883732795715, 0.028956567868590355, 0.03342708200216293, 0.037695929408073425, 0.0205438993871212, 0.017558956518769264, 0.0326584167778492, 0.06372418999671936, 0.03310193121433258, 0.029867948964238167, 0.053869184106588364, 0.022512977942824364, 0.07236675918102264, 0.041434258222579956, 0.03790143132209778, 0.06002623587846756, 0.04586021602153778, 0.05091096833348274, 0.031955890357494354, 0.1267348974943161, 0.0, 0.0, 0.0, 0.0, 0.0, 0.0, 0.0, 0.0, 0.0, 0.0, 0.0, 0.0, 0.0, 0.0, 0.0, 0.0, 0.0, 0.0, 0.0, 0.0, 0.0, 0.0, 0.0, 0.0], [0.11878615617752075, 0.039572037756443024, 0.023222969844937325, 0.05364081263542175, 0.032616790384054184, 0.01737094856798649, 0.011663907207548618, 0.016273826360702515, 0.05014302581548691, 0.013260256499052048, 0.010486905463039875, 0.03813209757208824, 0.041936684399843216, 0.05336224287748337, 0.03097999282181263, 0.019617723301053047, 0.040241554379463196, 0.032441604882478714, 0.020540127530694008, 0.02684551477432251, 0.05771109461784363, 0.2511536777019501, 0.0, 0.0, 0.0, 0.0, 0.0, 0.0, 0.0, 0.0, 0.0, 0.0, 0.0, 0.0, 0.0, 0.0, 0.0, 0.0, 0.0, 0.0, 0.0, 0.0, 0.0, 0.0, 0.0], [0.10596498847007751, 0.03639822080731392, 0.023730654269456863, 0.027703462168574333, 0.02952033467590809, 0.016958510503172874, 0.0092772226780653, 0.019281182438135147, 0.04353449121117592, 0.025435717776417732, 0.015441062860190868, 0.0416172556579113, 0.018472319468855858, 0.04617343470454216, 0.026975225657224655, 0.016877299174666405, 0.0436592735350132, 0.020190218463540077, 0.018645789474248886, 0.016359709203243256, 0.05703482776880264, 0.06433957070112228, 0.27640917897224426, 0.0, 0.0, 0.0, 0.0, 0.0, 0.0, 0.0, 0.0, 0.0, 0.0, 0.0, 0.0, 0.0, 0.0, 0.0, 0.0, 0.0, 0.0, 0.0, 0.0, 0.0, 0.0], [0.08669394254684448, 0.14005149900913239, 0.054043423384428024, 0.026910439133644104, 0.026933515444397926, 0.01693662256002426, 0.01752723753452301, 0.011132635176181793, 0.03316716477274895, 0.009116586297750473, 0.014021697454154491, 0.028125261887907982, 0.012107601389288902, 0.03627435863018036, 0.030991649255156517, 0.015099081210792065, 0.03022145852446556, 0.02081548608839512, 0.018955033272504807, 0.021182602271437645, 0.043649882078170776, 0.043773483484983444, 0.025040635839104652, 0.23722870647907257, 0.0, 0.0, 0.0, 0.0, 0.0, 0.0, 0.0, 0.0, 0.0, 0.0, 0.0, 0.0, 0.0, 0.0, 0.0, 0.0, 0.0, 0.0, 0.0, 0.0, 0.0], [0.105054572224617, 0.024722851812839508, 0.0234385896474123, 0.024256452918052673, 0.0214777123183012, 0.014111100696027279, 0.012018012814223766, 0.01570730097591877, 0.04219583794474602, 0.01680336706340313, 0.011159351095557213, 0.031271811574697495, 0.020320691168308258, 0.047023359686136246, 0.039886780083179474, 0.025853373110294342, 0.03450959175825119, 0.024522604420781136, 0.017594212666153908, 0.021597160026431084, 0.06303170323371887, 0.05036986991763115, 0.02654913254082203, 0.04091528803110123, 0.24560925364494324, 0.0, 0.0, 0.0, 0.0, 0.0, 0.0, 0.0, 0.0, 0.0, 0.0, 0.0, 0.0, 0.0, 0.0, 0.0, 0.0, 0.0, 0.0, 0.0, 0.0], [0.07146885991096497, 0.015683097764849663, 0.019199563190340996, 0.02765510603785515, 0.025888735428452492, 0.0114957420155406, 0.013834547251462936, 0.025006253272294998, 0.0328575074672699, 0.040690407156944275, 0.01940706931054592, 0.03628277778625488, 0.026671357452869415, 0.03698844090104103, 0.02539134956896305, 0.012203284539282322, 0.04081624373793602, 0.022441433742642403, 0.018680058419704437, 0.03714069724082947, 0.052913520485162735, 0.033748988062143326, 0.03600705787539482, 0.027396060526371002, 0.04157791659235954, 0.24855391681194305, 0.0, 0.0, 0.0, 0.0, 0.0, 0.0, 0.0, 0.0, 0.0, 0.0, 0.0, 0.0, 0.0, 0.0, 0.0, 0.0, 0.0, 0.0, 0.0], [0.09520063549280167, 0.023399099707603455, 0.016249950975179672, 0.03728702291846275, 0.027069469913840294, 0.024426205083727837, 0.016916710883378983, 0.020519254729151726, 0.03561446815729141, 0.01724678836762905, 0.01696518249809742, 0.03067062981426716, 0.014761794358491898, 0.037838954478502274, 0.025590209290385246, 0.013281548395752907, 0.03275727853178978, 0.01698147878050804, 0.012912829406559467, 0.04096675664186478, 0.04452374577522278, 0.03288854658603668, 0.021862013265490532, 0.028905069455504417, 0.02522219903767109, 0.015681952238082886, 0.2742602825164795, 0.0, 0.0, 0.0, 0.0, 0.0, 0.0, 0.0, 0.0, 0.0, 0.0, 0.0, 0.0, 0.0, 0.0, 0.0, 0.0, 0.0, 0.0], [0.07106206566095352, 0.02223450317978859, 0.015442519448697567, 0.028806833550333977, 0.02491171285510063, 0.014096677303314209, 0.010925301350653172, 0.02235645428299904, 0.028251027688384056, 0.02592524327337742, 0.012314548715949059, 0.03621361404657364, 0.01766277477145195, 0.031407058238983154, 0.01859504170715809, 0.01817140355706215, 0.04006665572524071, 0.022728297859430313, 0.025000538676977158, 0.04014963656663895, 0.042498037219047546, 0.02628159523010254, 0.023634903132915497, 0.03034822829067707, 0.028446581214666367, 0.04931708797812462, 0.04533269628882408, 0.22781895101070404, 0.0, 0.0, 0.0, 0.0, 0.0, 0.0, 0.0, 0.0, 0.0, 0.0, 0.0, 0.0, 0.0, 0.0, 0.0, 0.0, 0.0], [0.1199868842959404, 0.03201314061880112, 0.020363762974739075, 0.03192230686545372, 0.020111484453082085, 0.017741898074746132, 0.014963146299123764, 0.014099692925810814, 0.032360270619392395, 0.012826553545892239, 0.01920423097908497, 0.024741897359490395, 0.014775936491787434, 0.03365083783864975, 0.03285077214241028, 0.01563302055001259, 0.02633098140358925, 0.009946918115019798, 0.010015266016125679, 0.023254677653312683, 0.03898429498076439, 0.03491940349340439, 0.011989145539700985, 0.03053087368607521, 0.02381373569369316, 0.018979020416736603, 0.06846079975366592, 0.019141532480716705, 0.22638756036758423, 0.0, 0.0, 0.0, 0.0, 0.0, 0.0, 0.0, 0.0, 0.0, 0.0, 0.0, 0.0, 0.0, 0.0, 0.0, 0.0], [0.0711139515042305, 0.023045016452670097, 0.017407836392521858, 0.02557774819433689, 0.01881728507578373, 0.014406668953597546, 0.011364496313035488, 0.019742920994758606, 0.0378037765622139, 0.017498359084129333, 0.012214534915983677, 0.0347118005156517, 0.016245106235146523, 0.044948264956474304, 0.03146103769540787, 0.017976265400648117, 0.040775004774332047, 0.026232004165649414, 0.02910454384982586, 0.032863158732652664, 0.06312329322099686, 0.03996739163994789, 0.03193744271993637, 0.05005761608481407, 0.05003983899950981, 0.02629847079515457, 0.04067576304078102, 0.03425349295139313, 0.03361441567540169, 0.0867224931716919, 0.0, 0.0, 0.0, 0.0, 0.0, 0.0, 0.0, 0.0, 0.0, 0.0, 0.0, 0.0, 0.0, 0.0, 0.0], [0.06342679262161255, 0.018928568810224533, 0.015915194526314735, 0.02297448180615902, 0.01581357792019844, 0.011996149085462093, 0.006959729827940464, 0.010440586134791374, 0.027604442089796066, 0.014203780330717564, 0.011755010113120079, 0.02697419933974743, 0.015696225687861443, 0.03244095668196678, 0.02146400883793831, 0.016300220042467117, 0.0315910205245018, 0.01829562894999981, 0.024074891582131386, 0.018299629911780357, 0.04905861243605614, 0.03294461593031883, 0.03169503062963486, 0.04070066660642624, 0.05526786670088768, 0.03228399157524109, 0.01833721622824669, 0.020621933043003082, 0.02061566896736622, 0.061421554535627365, 0.21189774572849274, 0.0, 0.0, 0.0, 0.0, 0.0, 0.0, 0.0, 0.0, 0.0, 0.0, 0.0, 0.0, 0.0, 0.0], [0.059031225740909576, 0.011650338768959045, 0.011906320229172707, 0.020305126905441284, 0.01582454703748226, 0.011342642828822136, 0.012165097519755363, 0.020514551550149918, 0.024635132402181625, 0.01787753216922283, 0.008976954966783524, 0.027097541838884354, 0.010151366703212261, 0.029500089585781097, 0.02296171896159649, 0.011527127586305141, 0.032491885125637054, 0.020219074562191963, 0.02027125656604767, 0.027604972943663597, 0.04230693727731705, 0.022920364513993263, 0.027398396283388138, 0.02483934909105301, 0.028419984504580498, 0.04172161966562271, 0.0314212292432785, 0.035203296691179276, 0.03063124418258667, 0.06006475165486336, 0.04537736997008324, 0.19364093244075775, 0.0, 0.0, 0.0, 0.0, 0.0, 0.0, 0.0, 0.0, 0.0, 0.0, 0.0, 0.0, 0.0], [0.08590573817491531, 0.014704101718962193, 0.010510568507015705, 0.028699841350317, 0.016654493287205696, 0.012795397080481052, 0.009235285222530365, 0.014819215051829815, 0.028232712298631668, 0.011867671273648739, 0.009268177673220634, 0.02304435521364212, 0.017553266137838364, 0.032954029738903046, 0.02501373365521431, 0.01224750466644764, 0.026799557730555534, 0.013326538726687431, 0.01647983305156231, 0.03472821041941643, 0.039808016270399094, 0.05067337676882744, 0.030861176550388336, 0.027551842853426933, 0.03616422787308693, 0.01740611530840397, 0.04716058447957039, 0.025891844183206558, 0.02839728258550167, 0.060471367090940475, 0.03584858775138855, 0.03886668011546135, 0.11605866253376007, 0.0, 0.0, 0.0, 0.0, 0.0, 0.0, 0.0, 0.0, 0.0, 0.0, 0.0, 0.0], [0.056707706302404404, 0.015243272297084332, 0.009892582893371582, 0.017495427280664444, 0.03529244288802147, 0.015370240435004234, 0.010747749358415604, 0.01709159091114998, 0.02124500647187233, 0.013064500875771046, 0.006394116207957268, 0.021768178790807724, 0.011015363037586212, 0.02329084649682045, 0.020971018821001053, 0.012346649542450905, 0.024119649082422256, 0.013815038837492466, 0.016820495948195457, 0.0345151424407959, 0.030974801629781723, 0.032177556306123734, 0.03227025642991066, 0.02327035740017891, 0.027259422466158867, 0.01785033382475376, 0.05776430666446686, 0.024271579459309578, 0.02524302899837494, 0.03774581849575043, 0.015895815566182137, 0.026596596464514732, 0.04215160384774208, 0.20932146906852722, 0.0, 0.0, 0.0, 0.0, 0.0, 0.0, 0.0, 0.0, 0.0, 0.0, 0.0], [0.04736969992518425, 0.013491556979715824, 0.00860119704157114, 0.011534372344613075, 0.03260952979326248, 0.008750016801059246, 0.010495416820049286, 0.015973463654518127, 0.024224914610385895, 0.01395974587649107, 0.01158416923135519, 0.020906995981931686, 0.01231019850820303, 0.028499390929937363, 0.01440322957932949, 0.011428194120526314, 0.024424536153674126, 0.021284054964780807, 0.027576273307204247, 0.025762228295207024, 0.04914955422282219, 0.02154945395886898, 0.02072589099407196, 0.030232444405555725, 0.04683733358979225, 0.021722476929426193, 0.02025720849633217, 0.019149543717503548, 0.010533900931477547, 0.05002592131495476, 0.030405575409531593, 0.02281223051249981, 0.029462484642863274, 0.03996318206191063, 0.20198363065719604, 0.0, 0.0, 0.0, 0.0, 0.0, 0.0, 0.0, 0.0, 0.0, 0.0], [0.04563016816973686, 0.06593412160873413, 0.026407303288578987, 0.012498156167566776, 0.01392649207264185, 0.00914741400629282, 0.009653141722083092, 0.006426929030567408, 0.01673625223338604, 0.005181725602596998, 0.008504251018166542, 0.014668403193354607, 0.00657521840184927, 0.01926976628601551, 0.016755176708102226, 0.009360406547784805, 0.01673033833503723, 0.012052920646965504, 0.011530307121574879, 0.014896096661686897, 0.026453379541635513, 0.02648627571761608, 0.015232977457344532, 0.14536389708518982, 0.01789756678044796, 0.009280373342335224, 0.016563108190894127, 0.01376302633434534, 0.020767759531736374, 0.03292509540915489, 0.023967454209923744, 0.016106367111206055, 0.026906510815024376, 0.018389517441391945, 0.037347469478845596, 0.21066458523273468, 0.0, 0.0, 0.0, 0.0, 0.0, 0.0, 0.0, 0.0, 0.0], [0.04643550515174866, 0.04438929259777069, 0.05781406909227371, 0.013254030607640743, 0.009637309238314629, 0.007936556823551655, 0.008436714299023151, 0.006185639183968306, 0.016259802505373955, 0.00575633579865098, 0.008890802040696144, 0.015093744732439518, 0.004696929827332497, 0.018567653372883797, 0.017475685104727745, 0.008323482237756252, 0.01723574846982956, 0.009712982922792435, 0.009612745605409145, 0.010426996275782585, 0.024193085730075836, 0.0196754802018404, 0.01413596048951149, 0.09441779553890228, 0.021121133118867874, 0.01405425276607275, 0.01595751941204071, 0.01047326810657978, 0.02027912065386772, 0.030407698825001717, 0.022403445094823837, 0.01608290523290634, 0.022298984229564667, 0.01199396513402462, 0.02569519355893135, 0.13587690889835358, 0.16479121148586273, 0.0, 0.0, 0.0, 0.0, 0.0, 0.0, 0.0, 0.0], [0.055677130818367004, 0.012090013362467289, 0.010284448973834515, 0.03273462504148483, 0.012931395322084427, 0.011614120565354824, 0.005881369113922119, 0.00888479221612215, 0.019441522657871246, 0.009745798073709011, 0.005558485630899668, 0.02111140452325344, 0.015068970620632172, 0.02322481758892536, 0.014605374075472355, 0.008680312894284725, 0.025260820984840393, 0.013360895216464996, 0.013116355985403061, 0.016281742602586746, 0.030567405745387077, 0.04635931923985481, 0.019001459702849388, 0.02682347781956196, 0.021335192024707794, 0.014719154685735703, 0.029222194105386734, 0.02487858012318611, 0.01886226236820221, 0.049059636890888214, 0.03213667869567871, 0.03144893795251846, 0.06192556396126747, 0.02892872877418995, 0.03235461935400963, 0.04000336304306984, 0.02996853180229664, 0.12685054540634155, 0.0, 0.0, 0.0, 0.0, 0.0, 0.0, 0.0], [0.048803456127643585, 0.01236282754689455, 0.008245015516877174, 0.015415109694004059, 0.02180866152048111, 0.00884227268397808, 0.0050710528157651424, 0.007571921683847904, 0.014347433112561703, 0.013002363033592701, 0.00529100326821208, 0.014694173820316792, 0.01727844960987568, 0.01665123924612999, 0.009893843904137611, 0.00844239816069603, 0.017133496701717377, 0.013747305609285831, 0.017200632020831108, 0.016037333756685257, 0.025774747133255005, 0.02358393184840679, 0.0214566420763731, 0.025296496227383614, 0.015839414671063423, 0.016340667381882668, 0.02626206912100315, 0.03538719192147255, 0.016833951696753502, 0.03424868732690811, 0.014495919458568096, 0.01864168606698513, 0.0398658886551857, 0.038403868675231934, 0.035998888313770294, 0.03678490221500397, 0.019975390285253525, 0.05532322824001312, 0.207646444439888, 0.0, 0.0, 0.0, 0.0, 0.0, 0.0], [0.055007729679346085, 0.00981942005455494, 0.007216264959424734, 0.015898115932941437, 0.025301886722445488, 0.009314699098467827, 0.0072885723784565926, 0.016341159120202065, 0.015477032400667667, 0.009304861538112164, 0.011697515845298767, 0.013040641322731972, 0.008563955314457417, 0.01653013378381729, 0.015324052423238754, 0.009027639403939247, 0.014173896983265877, 0.008271390572190285, 0.012675544247031212, 0.016193974763154984, 0.024663900956511497, 0.016353467479348183, 0.007980162277817726, 0.012677764520049095, 0.016979658976197243, 0.012110510841012001, 0.03234463185071945, 0.018448567017912865, 0.040992576628923416, 0.026982231065630913, 0.013341435231268406, 0.013718359172344208, 0.025257714092731476, 0.026755299419164658, 0.029895372688770294, 0.016706010326743126, 0.012358435429632664, 0.027731437236070633, 0.026678236201405525, 0.3015557527542114, 0.0, 0.0, 0.0, 0.0, 0.0], [0.03892098367214203, 0.011535314843058586, 0.008962206542491913, 0.012587510049343109, 0.009884541854262352, 0.007868574000895023, 0.0063253892585635185, 0.011156193912029266, 0.019227949902415276, 0.009705242700874805, 0.007018685340881348, 0.017922192811965942, 0.00865771621465683, 0.023207738995552063, 0.016250479966402054, 0.010413963347673416, 0.02158219926059246, 0.014330156147480011, 0.016424687579274178, 0.020879007875919342, 0.03509741649031639, 0.022013813257217407, 0.017803026363253593, 0.027367552742362022, 0.028144948184490204, 0.016260933130979538, 0.024074561893939972, 0.02021767944097519, 0.020797263830900192, 0.05039975047111511, 0.03209197148680687, 0.03421742469072342, 0.04365096986293793, 0.026223458349704742, 0.04548567906022072, 0.041995517909526825, 0.02867320366203785, 0.04906455799937248, 0.030981412157416344, 0.04033810272812843, 0.07224002480506897, 0.0, 0.0, 0.0, 0.0], [0.04050153121352196, 0.0071436744183301926, 0.005279241129755974, 0.011495966464281082, 0.018576646223664284, 0.006829995196312666, 0.005437122192233801, 0.012058233842253685, 0.0112101249396801, 0.006778333801776171, 0.008660443127155304, 0.009400872513651848, 0.0062314597889781, 0.011948933824896812, 0.011040709912776947, 0.006665813270956278, 0.010212261229753494, 0.005977567285299301, 0.009237796068191528, 0.01200399175286293, 0.01791096106171608, 0.011877259239554405, 0.005785898771136999, 0.009173363447189331, 0.012352265417575836, 0.008891629986464977, 0.023686585947871208, 0.013543002307415009, 0.030391555279493332, 0.01959507167339325, 0.009679839946329594, 0.0100307771936059, 0.01847776211798191, 0.019763508811593056, 0.022081367671489716, 0.012264322489500046, 0.009177275002002716, 0.02036667987704277, 0.019829390570521355, 0.22688981890678406, 0.025359999388456345, 0.23618097603321075, 0.0, 0.0, 0.0], [0.03766772523522377, 0.012866741046309471, 0.009242206811904907, 0.012379788793623447, 0.007162543945014477, 0.009801993146538734, 0.0040755788795650005, 0.0061813173815608025, 0.013439757749438286, 0.005154119338840246, 0.007530272006988525, 0.01394827663898468, 0.009007939137518406, 0.015286320820450783, 0.008756181225180626, 0.007484552450478077, 0.015953749418258667, 0.009384013712406158, 0.007617231458425522, 0.012599054723978043, 0.02326766774058342, 0.027872933074831963, 0.019491834565997124, 0.02236630581319332, 0.015662258490920067, 0.009683879092335701, 0.047963690012693405, 0.01379936933517456, 0.02384924329817295, 0.028306875377893448, 0.017953436821699142, 0.013615378178656101, 0.027010759338736534, 0.023011356592178345, 0.02263135090470314, 0.032166678458452225, 0.023156948387622833, 0.034630004316568375, 0.023497672751545906, 0.03366079926490784, 0.038858529180288315, 0.03497118502855301, 0.21703244745731354, 0.0, 0.0], [0.03774449601769447, 0.010434053838253021, 0.008971604518592358, 0.009596660733222961, 0.009224728681147099, 0.006644385866820812, 0.006611859425902367, 0.011875531636178493, 0.018857061862945557, 0.009466225281357765, 0.009793859906494617, 0.015915969386696815, 0.008047213777899742, 0.022265275940299034, 0.01398224476724863, 0.0117324935272336, 0.018852291628718376, 0.011691607534885406, 0.012758818455040455, 0.016111569479107857, 0.035254012793302536, 0.018851082772016525, 0.01942579634487629, 0.02305026166141033, 0.026100026443600655, 0.015499777160584927, 0.020618796348571777, 0.013826479203999043, 0.021098800003528595, 0.039401695132255554, 0.022940142080187798, 0.023761235177516937, 0.030739676207304, 0.023117171600461006, 0.04957810044288635, 0.035420309752225876, 0.027560200542211533, 0.0345219261944294, 0.02208556979894638, 0.03462168574333191, 0.056591738015413284, 0.036463167518377304, 0.03683491796255112, 0.06205945834517479, 0.0], [0.03188570588827133, 0.009339462965726852, 0.007248399313539267, 0.010058124549686909, 0.008003954775631428, 0.006455444730818272, 0.005242766346782446, 0.009277294389903545, 0.015415983274579048, 0.007941771298646927, 0.005738477222621441, 0.014278323389589787, 0.006899065338075161, 0.01843901164829731, 0.012871939688920975, 0.00849870778620243, 0.017105095088481903, 0.011357213370501995, 0.013261111453175545, 0.01740637794137001, 0.028042662888765335, 0.01734224706888199, 0.014138213358819485, 0.02141460031270981, 0.022266864776611328, 0.013298792764544487, 0.019356371834874153, 0.016191180795431137, 0.016884075477719307, 0.04012002795934677, 0.02589309588074684, 0.02763110026717186, 0.034911081194877625, 0.021360591053962708, 0.03748709708452225, 0.03367998078465462, 0.02333717793226242, 0.03963615000247955, 0.025097737088799477, 0.033424459397792816, 0.05929511785507202, 0.035191718488931656, 0.03511568903923035, 0.054357513785362244, 0.06780221313238144]], [[1.0, 0.0, 0.0, 0.0, 0.0, 0.0, 0.0, 0.0, 0.0, 0.0, 0.0, 0.0, 0.0, 0.0, 0.0, 0.0, 0.0, 0.0, 0.0, 0.0, 0.0, 0.0, 0.0, 0.0, 0.0, 0.0, 0.0, 0.0, 0.0, 0.0, 0.0, 0.0, 0.0, 0.0, 0.0, 0.0, 0.0, 0.0, 0.0, 0.0, 0.0, 0.0, 0.0, 0.0, 0.0], [0.8253123164176941, 0.1746877133846283, 0.0, 0.0, 0.0, 0.0, 0.0, 0.0, 0.0, 0.0, 0.0, 0.0, 0.0, 0.0, 0.0, 0.0, 0.0, 0.0, 0.0, 0.0, 0.0, 0.0, 0.0, 0.0, 0.0, 0.0, 0.0, 0.0, 0.0, 0.0, 0.0, 0.0, 0.0, 0.0, 0.0, 0.0, 0.0, 0.0, 0.0, 0.0, 0.0, 0.0, 0.0, 0.0, 0.0], [0.758050262928009, 0.13029678165912628, 0.1116529181599617, 0.0, 0.0, 0.0, 0.0, 0.0, 0.0, 0.0, 0.0, 0.0, 0.0, 0.0, 0.0, 0.0, 0.0, 0.0, 0.0, 0.0, 0.0, 0.0, 0.0, 0.0, 0.0, 0.0, 0.0, 0.0, 0.0, 0.0, 0.0, 0.0, 0.0, 0.0, 0.0, 0.0, 0.0, 0.0, 0.0, 0.0, 0.0, 0.0, 0.0, 0.0, 0.0], [0.7232240438461304, 0.0827442929148674, 0.07870825380086899, 0.11532339453697205, 0.0, 0.0, 0.0, 0.0, 0.0, 0.0, 0.0, 0.0, 0.0, 0.0, 0.0, 0.0, 0.0, 0.0, 0.0, 0.0, 0.0, 0.0, 0.0, 0.0, 0.0, 0.0, 0.0, 0.0, 0.0, 0.0, 0.0, 0.0, 0.0, 0.0, 0.0, 0.0, 0.0, 0.0, 0.0, 0.0, 0.0, 0.0, 0.0, 0.0, 0.0], [0.5594541430473328, 0.08694439381361008, 0.09115547686815262, 0.09393440932035446, 0.16851156949996948, 0.0, 0.0, 0.0, 0.0, 0.0, 0.0, 0.0, 0.0, 0.0, 0.0, 0.0, 0.0, 0.0, 0.0, 0.0, 0.0, 0.0, 0.0, 0.0, 0.0, 0.0, 0.0, 0.0, 0.0, 0.0, 0.0, 0.0, 0.0, 0.0, 0.0, 0.0, 0.0, 0.0, 0.0, 0.0, 0.0, 0.0, 0.0, 0.0, 0.0], [0.5031396746635437, 0.08192653954029083, 0.058723144233226776, 0.10480904579162598, 0.15214204788208008, 0.09925953298807144, 0.0, 0.0, 0.0, 0.0, 0.0, 0.0, 0.0, 0.0, 0.0, 0.0, 0.0, 0.0, 0.0, 0.0, 0.0, 0.0, 0.0, 0.0, 0.0, 0.0, 0.0, 0.0, 0.0, 0.0, 0.0, 0.0, 0.0, 0.0, 0.0, 0.0, 0.0, 0.0, 0.0, 0.0, 0.0, 0.0, 0.0, 0.0, 0.0], [0.527961015701294, 0.05825979635119438, 0.06836588680744171, 0.11652134358882904, 0.11039456725120544, 0.06918037682771683, 0.04931703582406044, 0.0, 0.0, 0.0, 0.0, 0.0, 0.0, 0.0, 0.0, 0.0, 0.0, 0.0, 0.0, 0.0, 0.0, 0.0, 0.0, 0.0, 0.0, 0.0, 0.0, 0.0, 0.0, 0.0, 0.0, 0.0, 0.0, 0.0, 0.0, 0.0, 0.0, 0.0, 0.0, 0.0, 0.0, 0.0, 0.0, 0.0, 0.0], [0.30010077357292175, 0.08826000988483429, 0.05834929645061493, 0.10984239727258682, 0.1686263084411621, 0.1289690136909485, 0.023227617144584656, 0.12262453883886337, 0.0, 0.0, 0.0, 0.0, 0.0, 0.0, 0.0, 0.0, 0.0, 0.0, 0.0, 0.0, 0.0, 0.0, 0.0, 0.0, 0.0, 0.0, 0.0, 0.0, 0.0, 0.0, 0.0, 0.0, 0.0, 0.0, 0.0, 0.0, 0.0, 0.0, 0.0, 0.0, 0.0, 0.0, 0.0, 0.0, 0.0], [0.3934404253959656, 0.04758616164326668, 0.05194966867566109, 0.07471578568220139, 0.11950993537902832, 0.05938037484884262, 0.023368611931800842, 0.10266401618719101, 0.1273850053548813, 0.0, 0.0, 0.0, 0.0, 0.0, 0.0, 0.0, 0.0, 0.0, 0.0, 0.0, 0.0, 0.0, 0.0, 0.0, 0.0, 0.0, 0.0, 0.0, 0.0, 0.0, 0.0, 0.0, 0.0, 0.0, 0.0, 0.0, 0.0, 0.0, 0.0, 0.0, 0.0, 0.0, 0.0, 0.0, 0.0], [0.3446025550365448, 0.05032900720834732, 0.0599132664501667, 0.044831283390522, 0.1573815941810608, 0.06782461702823639, 0.03229011967778206, 0.07052531093358994, 0.0895390659570694, 0.08276323974132538, 0.0, 0.0, 0.0, 0.0, 0.0, 0.0, 0.0, 0.0, 0.0, 0.0, 0.0, 0.0, 0.0, 0.0, 0.0, 0.0, 0.0, 0.0, 0.0, 0.0, 0.0, 0.0, 0.0, 0.0, 0.0, 0.0, 0.0, 0.0, 0.0, 0.0, 0.0, 0.0, 0.0, 0.0, 0.0], [0.33508485555648804, 0.046269990503787994, 0.047857653349637985, 0.10917431861162186, 0.044352345168590546, 0.04490724205970764, 0.028443867340683937, 0.0792061984539032, 0.10731324553489685, 0.06832480430603027, 0.08906551450490952, 0.0, 0.0, 0.0, 0.0, 0.0, 0.0, 0.0, 0.0, 0.0, 0.0, 0.0, 0.0, 0.0, 0.0, 0.0, 0.0, 0.0, 0.0, 0.0, 0.0, 0.0, 0.0, 0.0, 0.0, 0.0, 0.0, 0.0, 0.0, 0.0, 0.0, 0.0, 0.0, 0.0, 0.0], [0.31157219409942627, 0.03927762061357498, 0.03521272912621498, 0.0755099207162857, 0.08078576624393463, 0.04503687098622322, 0.028806498274207115, 0.10218670964241028, 0.08797679841518402, 0.05585261061787605, 0.08571922779083252, 0.052062999457120895, 0.0, 0.0, 0.0, 0.0, 0.0, 0.0, 0.0, 0.0, 0.0, 0.0, 0.0, 0.0, 0.0, 0.0, 0.0, 0.0, 0.0, 0.0, 0.0, 0.0, 0.0, 0.0, 0.0, 0.0, 0.0, 0.0, 0.0, 0.0, 0.0, 0.0, 0.0, 0.0, 0.0], [0.36146947741508484, 0.06311222910881042, 0.026989925652742386, 0.0709579735994339, 0.03985174745321274, 0.02944651059806347, 0.022796371951699257, 0.07072696834802628, 0.11304391175508499, 0.033355195075273514, 0.037144195288419724, 0.047639425843954086, 0.08346596360206604, 0.0, 0.0, 0.0, 0.0, 0.0, 0.0, 0.0, 0.0, 0.0, 0.0, 0.0, 0.0, 0.0, 0.0, 0.0, 0.0, 0.0, 0.0, 0.0, 0.0, 0.0, 0.0, 0.0, 0.0, 0.0, 0.0, 0.0, 0.0, 0.0, 0.0, 0.0, 0.0], [0.26885923743247986, 0.03265073895454407, 0.03938186541199684, 0.05081143602728844, 0.08684232831001282, 0.043101973831653595, 0.017922362312674522, 0.06655362248420715, 0.07785408943891525, 0.04528900980949402, 0.06586871296167374, 0.0460660383105278, 0.07721766084432602, 0.08158089220523834, 0.0, 0.0, 0.0, 0.0, 0.0, 0.0, 0.0, 0.0, 0.0, 0.0, 0.0, 0.0, 0.0, 0.0, 0.0, 0.0, 0.0, 0.0, 0.0, 0.0, 0.0, 0.0, 0.0, 0.0, 0.0, 0.0, 0.0, 0.0, 0.0, 0.0, 0.0], [0.2079053372144699, 0.03081468865275383, 0.02946295589208603, 0.0506742000579834, 0.0874347910284996, 0.047705844044685364, 0.02733319066464901, 0.09152111411094666, 0.052141424268484116, 0.04708247259259224, 0.08081996440887451, 0.0545327328145504, 0.12074842303991318, 0.05516168102622032, 0.016661208122968674, 0.0, 0.0, 0.0, 0.0, 0.0, 0.0, 0.0, 0.0, 0.0, 0.0, 0.0, 0.0, 0.0, 0.0, 0.0, 0.0, 0.0, 0.0, 0.0, 0.0, 0.0, 0.0, 0.0, 0.0, 0.0, 0.0, 0.0, 0.0, 0.0, 0.0], [0.19932860136032104, 0.04206707701086998, 0.05715767294168472, 0.07193326205015182, 0.050658829510211945, 0.031524572521448135, 0.027136798948049545, 0.04140906035900116, 0.0932227149605751, 0.052022065967321396, 0.025422831997275352, 0.059279125183820724, 0.06613776832818985, 0.0958227664232254, 0.03163215517997742, 0.055244673043489456, 0.0, 0.0, 0.0, 0.0, 0.0, 0.0, 0.0, 0.0, 0.0, 0.0, 0.0, 0.0, 0.0, 0.0, 0.0, 0.0, 0.0, 0.0, 0.0, 0.0, 0.0, 0.0, 0.0, 0.0, 0.0, 0.0, 0.0, 0.0, 0.0], [0.23719795048236847, 0.030675794929265976, 0.029208479449152946, 0.058212388306856155, 0.06082988902926445, 0.03495609015226364, 0.024440519511699677, 0.0708492174744606, 0.05983859300613403, 0.039703454822301865, 0.05932590365409851, 0.03675239160656929, 0.07694026082754135, 0.061716437339782715, 0.014049733988940716, 0.06745625287294388, 0.03784665837883949, 0.0, 0.0, 0.0, 0.0, 0.0, 0.0, 0.0, 0.0, 0.0, 0.0, 0.0, 0.0, 0.0, 0.0, 0.0, 0.0, 0.0, 0.0, 0.0, 0.0, 0.0, 0.0, 0.0, 0.0, 0.0, 0.0, 0.0, 0.0], [0.2499532252550125, 0.0266294963657856, 0.03931759297847748, 0.044632140547037125, 0.07087577134370804, 0.034094199538230896, 0.02126503549516201, 0.05726421996951103, 0.05179664492607117, 0.03503985330462456, 0.0439227856695652, 0.03922875225543976, 0.061559129506349564, 0.051224205642938614, 0.015611978247761726, 0.08278116583824158, 0.038917429745197296, 0.03588636592030525, 0.0, 0.0, 0.0, 0.0, 0.0, 0.0, 0.0, 0.0, 0.0, 0.0, 0.0, 0.0, 0.0, 0.0, 0.0, 0.0, 0.0, 0.0, 0.0, 0.0, 0.0, 0.0, 0.0, 0.0, 0.0, 0.0, 0.0], [0.22269803285598755, 0.02651812694966793, 0.03978951647877693, 0.027604004368185997, 0.08196065574884415, 0.03582964465022087, 0.015378961339592934, 0.06874661892652512, 0.05343084782361984, 0.054698195308446884, 0.05721570551395416, 0.03161526471376419, 0.03717071935534477, 0.05228295922279358, 0.011851186864078045, 0.07206094264984131, 0.03087828867137432, 0.02441115863621235, 0.055859144777059555, 0.0, 0.0, 0.0, 0.0, 0.0, 0.0, 0.0, 0.0, 0.0, 0.0, 0.0, 0.0, 0.0, 0.0, 0.0, 0.0, 0.0, 0.0, 0.0, 0.0, 0.0, 0.0, 0.0, 0.0, 0.0, 0.0], [0.07419288903474808, 0.050926998257637024, 0.028230953961610794, 0.03420005366206169, 0.033614274114370346, 0.05182219296693802, 0.00965837948024273, 0.04940611869096756, 0.09883321821689606, 0.05356482416391373, 0.024581870064139366, 0.05879183113574982, 0.013026786968111992, 0.10889019817113876, 0.015677116811275482, 0.04766634479165077, 0.06507278978824615, 0.0388617068529129, 0.039842620491981506, 0.10313887894153595, 0.0, 0.0, 0.0, 0.0, 0.0, 0.0, 0.0, 0.0, 0.0, 0.0, 0.0, 0.0, 0.0, 0.0, 0.0, 0.0, 0.0, 0.0, 0.0, 0.0, 0.0, 0.0, 0.0, 0.0, 0.0], [0.22614894807338715, 0.025769870728254318, 0.033361684530973434, 0.04034487530589104, 0.06116844341158867, 0.03166024759411812, 0.023036977276206017, 0.04815826192498207, 0.049641307443380356, 0.02570328302681446, 0.051324233412742615, 0.029225802049040794, 0.04627235233783722, 0.046795476227998734, 0.010471493937075138, 0.04346738010644913, 0.027977747842669487, 0.03356107696890831, 0.03209924325346947, 0.055624041706323624, 0.058187272399663925, 0.0, 0.0, 0.0, 0.0, 0.0, 0.0, 0.0, 0.0, 0.0, 0.0, 0.0, 0.0, 0.0, 0.0, 0.0, 0.0, 0.0, 0.0, 0.0, 0.0, 0.0, 0.0, 0.0, 0.0], [0.1944299191236496, 0.02000579982995987, 0.025669969618320465, 0.027610057964920998, 0.07351993024349213, 0.025118574500083923, 0.016428446397185326, 0.05443365499377251, 0.044502682983875275, 0.022272856906056404, 0.029331279918551445, 0.030642615631222725, 0.06286598742008209, 0.0433916337788105, 0.010215996764600277, 0.09763481467962265, 0.02960142306983471, 0.028080467134714127, 0.03757163882255554, 0.05037403106689453, 0.06089741364121437, 0.015400816686451435, 0.0, 0.0, 0.0, 0.0, 0.0, 0.0, 0.0, 0.0, 0.0, 0.0, 0.0, 0.0, 0.0, 0.0, 0.0, 0.0, 0.0, 0.0, 0.0, 0.0, 0.0, 0.0, 0.0], [0.19766588509082794, 0.041157498955726624, 0.033601194620132446, 0.02387016825377941, 0.06633447110652924, 0.028016990050673485, 0.019582943990826607, 0.0517856664955616, 0.031591467559337616, 0.02653614990413189, 0.04164314642548561, 0.025757960975170135, 0.04328407719731331, 0.0299394428730011, 0.01275030616670847, 0.05606915056705475, 0.0246773399412632, 0.02150592766702175, 0.04559293016791344, 0.07480885088443756, 0.044334061443805695, 0.021997367963194847, 0.03749702498316765, 0.0, 0.0, 0.0, 0.0, 0.0, 0.0, 0.0, 0.0, 0.0, 0.0, 0.0, 0.0, 0.0, 0.0, 0.0, 0.0, 0.0, 0.0, 0.0, 0.0, 0.0, 0.0], [0.18043571710586548, 0.0233498252928257, 0.023929748684167862, 0.04454165697097778, 0.040705934166908264, 0.03654098138213158, 0.016616573557257652, 0.05323561653494835, 0.05028393864631653, 0.025846892967820168, 0.04605169594287872, 0.024920538067817688, 0.03976091742515564, 0.04893423989415169, 0.012390011921525002, 0.06191657483577728, 0.023965341970324516, 0.028754496946930885, 0.02509540505707264, 0.06865919381380081, 0.0735766813158989, 0.018046909943223, 0.022800737991929054, 0.009640373289585114, 0.0, 0.0, 0.0, 0.0, 0.0, 0.0, 0.0, 0.0, 0.0, 0.0, 0.0, 0.0, 0.0, 0.0, 0.0, 0.0, 0.0, 0.0, 0.0, 0.0, 0.0], [0.242463618516922, 0.024696452543139458, 0.03868827223777771, 0.03357229754328728, 0.054766152054071426, 0.03380468487739563, 0.020721614360809326, 0.032754626125097275, 0.04349981248378754, 0.01856265403330326, 0.03646848723292351, 0.031002484261989594, 0.03862547129392624, 0.03993180766701698, 0.010727157816290855, 0.03831769526004791, 0.02928031049668789, 0.02467813715338707, 0.02788931131362915, 0.045021601021289825, 0.04307599738240242, 0.016905827447772026, 0.023586295545101166, 0.007298628333956003, 0.04366061091423035, 0.0, 0.0, 0.0, 0.0, 0.0, 0.0, 0.0, 0.0, 0.0, 0.0, 0.0, 0.0, 0.0, 0.0, 0.0, 0.0, 0.0, 0.0, 0.0, 0.0], [0.11111285537481308, 0.02945876307785511, 0.024559464305639267, 0.03090250864624977, 0.033864814788103104, 0.03363063931465149, 0.012831446714699268, 0.030669283121824265, 0.06390535086393356, 0.023481519892811775, 0.025704607367515564, 0.03766978532075882, 0.016167862340807915, 0.06660737097263336, 0.017231754958629608, 0.030658669769763947, 0.03924047574400902, 0.02429523505270481, 0.02638879418373108, 0.0586402527987957, 0.10666141659021378, 0.017623893916606903, 0.02424544282257557, 0.018279599025845528, 0.036750201135873795, 0.05941800773143768, 0.0, 0.0, 0.0, 0.0, 0.0, 0.0, 0.0, 0.0, 0.0, 0.0, 0.0, 0.0, 0.0, 0.0, 0.0, 0.0, 0.0, 0.0, 0.0], [0.1785520762205124, 0.04373873397707939, 0.027772290632128716, 0.03288249671459198, 0.08083149045705795, 0.03614853322505951, 0.01943814754486084, 0.03604714572429657, 0.031540632247924805, 0.022283831611275673, 0.02674207091331482, 0.020272957161068916, 0.04929490014910698, 0.028057046234607697, 0.010035550221800804, 0.028219012543559074, 0.01852661557495594, 0.025377945974469185, 0.039212290197610855, 0.05273988097906113, 0.02473510056734085, 0.0286747757345438, 0.029405998066067696, 0.013893155381083488, 0.01760646142065525, 0.056487347930669785, 0.02148348279297352, 0.0, 0.0, 0.0, 0.0, 0.0, 0.0, 0.0, 0.0, 0.0, 0.0, 0.0, 0.0, 0.0, 0.0, 0.0, 0.0, 0.0, 0.0], [0.15546517074108124, 0.04916936904191971, 0.02451593615114689, 0.025700515136122704, 0.05483131483197212, 0.042092714458703995, 0.011645041406154633, 0.06493961811065674, 0.031219732016324997, 0.026562785729765892, 0.02832685597240925, 0.018289048224687576, 0.03490861505270004, 0.029660996049642563, 0.008558589965105057, 0.0466504842042923, 0.01766982115805149, 0.023724373430013657, 0.019038736820220947, 0.07715766876935959, 0.027307385578751564, 0.019747745245695114, 0.02436411753296852, 0.014429942704737186, 0.01892835646867752, 0.058505620807409286, 0.024364048615098, 0.02222544513642788, 0.0, 0.0, 0.0, 0.0, 0.0, 0.0, 0.0, 0.0, 0.0, 0.0, 0.0, 0.0, 0.0, 0.0, 0.0, 0.0, 0.0], [0.19332922995090485, 0.02629835158586502, 0.030392469838261604, 0.02961188741028309, 0.045201629400253296, 0.03307906910777092, 0.02184077724814415, 0.026594169437885284, 0.04538281634449959, 0.03843946009874344, 0.026915399357676506, 0.02453509345650673, 0.015795717015862465, 0.04036761075258255, 0.010634268634021282, 0.02634548395872116, 0.022409798577427864, 0.01994604431092739, 0.04401850327849388, 0.06709348410367966, 0.03345474228262901, 0.0160849466919899, 0.025615882128477097, 0.011409514583647251, 0.013623228296637535, 0.040554922074079514, 0.016662970185279846, 0.03589888662099838, 0.018463708460330963, 0.0, 0.0, 0.0, 0.0, 0.0, 0.0, 0.0, 0.0, 0.0, 0.0, 0.0, 0.0, 0.0, 0.0, 0.0, 0.0], [0.1596519500017166, 0.018642351031303406, 0.026677709072828293, 0.02804783545434475, 0.04907772317528725, 0.026045678183436394, 0.01780770905315876, 0.03679424896836281, 0.045969415456056595, 0.01911088638007641, 0.03796319663524628, 0.027620619162917137, 0.028341028839349747, 0.04296436533331871, 0.008847582153975964, 0.032530203461647034, 0.02565998025238514, 0.024485120549798012, 0.029966210946440697, 0.04054071381688118, 0.042335040867328644, 0.017694558948278427, 0.02121768146753311, 0.006380945444107056, 0.031033920124173164, 0.035579703748226166, 0.025066174566745758, 0.02660749852657318, 0.024308428168296814, 0.04303152114152908, 0.0, 0.0, 0.0, 0.0, 0.0, 0.0, 0.0, 0.0, 0.0, 0.0, 0.0, 0.0, 0.0, 0.0, 0.0], [0.1966170221567154, 0.01979137770831585, 0.033033326268196106, 0.0256870798766613, 0.0422060564160347, 0.031375814229249954, 0.01624363847076893, 0.030698416754603386, 0.03629425913095474, 0.02683933824300766, 0.026712192222476006, 0.023046299815177917, 0.02195010706782341, 0.033448364585638046, 0.010305729694664478, 0.022743647918105125, 0.021480796858668327, 0.02109474129974842, 0.03149039298295975, 0.03692729026079178, 0.037232112139463425, 0.015422003343701363, 0.019252343103289604, 0.007320488337427378, 0.02476692572236061, 0.04439167678356171, 0.019850732758641243, 0.026133665814995766, 0.018124466761946678, 0.04270908981561661, 0.036810580641031265, 0.0, 0.0, 0.0, 0.0, 0.0, 0.0, 0.0, 0.0, 0.0, 0.0, 0.0, 0.0, 0.0, 0.0], [0.16313210129737854, 0.02293248474597931, 0.029583673924207687, 0.02861548587679863, 0.037784647196531296, 0.026518695056438446, 0.026229005306959152, 0.03103414550423622, 0.03483205288648605, 0.01897561363875866, 0.03320293873548508, 0.026435943320393562, 0.03230736404657364, 0.031329188495874405, 0.011727879755198956, 0.027169132605195045, 0.024106504395604134, 0.02262031100690365, 0.025755560025572777, 0.038014139980077744, 0.03207404166460037, 0.017354251816868782, 0.01798720844089985, 0.009293690323829651, 0.042471371591091156, 0.03121584840118885, 0.01900656707584858, 0.02152346260845661, 0.0175411868840456, 0.04014518857002258, 0.018160760402679443, 0.04091949760913849, 0.0, 0.0, 0.0, 0.0, 0.0, 0.0, 0.0, 0.0, 0.0, 0.0, 0.0, 0.0, 0.0], [0.15803851187229156, 0.016828814521431923, 0.02064238302409649, 0.04538251832127571, 0.046641722321510315, 0.027835220098495483, 0.020206503570079803, 0.04211509972810745, 0.03703448176383972, 0.017744598910212517, 0.030353335663676262, 0.024713635444641113, 0.03428487479686737, 0.033413708209991455, 0.009082167409360409, 0.03521376848220825, 0.022280123084783554, 0.020850004628300667, 0.02739020437002182, 0.03231463208794594, 0.0376492440700531, 0.014920789748430252, 0.01655367948114872, 0.0063090757466852665, 0.023218728601932526, 0.027949873358011246, 0.023832235485315323, 0.015323556028306484, 0.017670487985014915, 0.0268152616918087, 0.022188855335116386, 0.028694553300738335, 0.03650736063718796, 0.0, 0.0, 0.0, 0.0, 0.0, 0.0, 0.0, 0.0, 0.0, 0.0, 0.0, 0.0], [0.1701940894126892, 0.03212590143084526, 0.029870105907320976, 0.019615579396486282, 0.054893795400857925, 0.03622060641646385, 0.017152218148112297, 0.0323265977203846, 0.031500671058893204, 0.029624542221426964, 0.029094278812408447, 0.01662425696849823, 0.02998979762196541, 0.02761412411928177, 0.010949764400720596, 0.034366536885499954, 0.01483010221272707, 0.015176073648035526, 0.030502915382385254, 0.04159746691584587, 0.02064122073352337, 0.017041224986314774, 0.026175450533628464, 0.010538811795413494, 0.007441799622029066, 0.03439135104417801, 0.02607710286974907, 0.02961565926671028, 0.013693024404346943, 0.018074296414852142, 0.03374851122498512, 0.029002610594034195, 0.013117280788719654, 0.016172276809811592, 0.0, 0.0, 0.0, 0.0, 0.0, 0.0, 0.0, 0.0, 0.0, 0.0, 0.0], [0.11417394131422043, 0.016700688749551773, 0.023576246574521065, 0.03235282748937607, 0.055113617330789566, 0.029616650193929672, 0.01717638038098812, 0.059527862817049026, 0.038434237241744995, 0.020421098917722702, 0.03235999494791031, 0.019217438995838165, 0.019135111942887306, 0.03519751876592636, 0.010996290482580662, 0.044014450162649155, 0.016835959628224373, 0.01621248386800289, 0.02384052611887455, 0.04231659695506096, 0.037168391048908234, 0.009007311426103115, 0.01597953960299492, 0.0058287871070206165, 0.02082640677690506, 0.028255822136998177, 0.03160589188337326, 0.02425202541053295, 0.0232852790504694, 0.01991748996078968, 0.024559784680604935, 0.021957367658615112, 0.01319314818829298, 0.020208805799484253, 0.03673402965068817, 0.0, 0.0, 0.0, 0.0, 0.0, 0.0, 0.0, 0.0, 0.0, 0.0], [0.1271829754114151, 0.01931704208254814, 0.02025029994547367, 0.03599649295210838, 0.031999241560697556, 0.02968633733689785, 0.015925118699669838, 0.04117819294333458, 0.0374164804816246, 0.02043604478240013, 0.03342404589056969, 0.01955888792872429, 0.02679922990500927, 0.03394655883312225, 0.011193308047950268, 0.04101584479212761, 0.017341796308755875, 0.01964024268090725, 0.017403477802872658, 0.04548262059688568, 0.047256775200366974, 0.013047989457845688, 0.014759338460862637, 0.006188489962369204, 0.023948995396494865, 0.03871852904558182, 0.02528057061135769, 0.014928012154996395, 0.019246002659201622, 0.025049401447176933, 0.021528422832489014, 0.02807491645216942, 0.017504189163446426, 0.012978516519069672, 0.039358172565698624, 0.006937401834875345, 0.0, 0.0, 0.0, 0.0, 0.0, 0.0, 0.0, 0.0, 0.0], [0.13201098144054413, 0.021207282319664955, 0.031187323853373528, 0.03000062145292759, 0.027162441983819008, 0.0202203206717968, 0.02168300375342369, 0.0464426688849926, 0.028660494834184647, 0.019968518987298012, 0.02189723402261734, 0.024283448234200478, 0.033797621726989746, 0.02567475102841854, 0.011915265582501888, 0.03079172782599926, 0.02157747559249401, 0.01743139699101448, 0.016908133402466774, 0.044469140470027924, 0.02669343911111355, 0.012164110317826271, 0.017750781029462814, 0.004568374715745449, 0.03376955911517143, 0.03569978475570679, 0.02143256552517414, 0.01950201205909252, 0.018931109458208084, 0.028850093483924866, 0.030202612280845642, 0.03347492590546608, 0.016720041632652283, 0.015611338429152966, 0.030357522889971733, 0.004983869381248951, 0.02199801802635193, 0.0, 0.0, 0.0, 0.0, 0.0, 0.0, 0.0, 0.0], [0.15892218053340912, 0.017972011119127274, 0.027517376467585564, 0.03523299843072891, 0.04459014907479286, 0.025763217359781265, 0.019290050491690636, 0.03855009749531746, 0.03486591950058937, 0.02031932957470417, 0.025861337780952454, 0.022859327495098114, 0.02398085966706276, 0.03035658411681652, 0.008569848723709583, 0.02670408971607685, 0.019805025309324265, 0.015052186325192451, 0.025568455457687378, 0.033825185149908066, 0.030820131301879883, 0.011750258505344391, 0.01642332226037979, 0.005749325733631849, 0.025641951709985733, 0.025975201278924942, 0.018560707569122314, 0.017699003219604492, 0.015102440491318703, 0.02270675078034401, 0.01749931089580059, 0.024008862674236298, 0.01682380959391594, 0.014190007001161575, 0.03475967422127724, 0.006336250342428684, 0.01655365154147148, 0.023793183267116547, 0.0, 0.0, 0.0, 0.0, 0.0, 0.0, 0.0], [0.19086068868637085, 0.024317549541592598, 0.029351824894547462, 0.024278203025460243, 0.046513091772794724, 0.027261709794402122, 0.020443005487322807, 0.028457801789045334, 0.03219018504023552, 0.01665583811700344, 0.027080392464995384, 0.02189389057457447, 0.03711908310651779, 0.02733757346868515, 0.00956460740417242, 0.027450887486338615, 0.018762938678264618, 0.017613353207707405, 0.019864292815327644, 0.029852213338017464, 0.03046603314578533, 0.018007662147283554, 0.015214124694466591, 0.0056318966671824455, 0.012020248919725418, 0.027826132252812386, 0.01376249734312296, 0.015285040251910686, 0.010317367501556873, 0.01967390440404415, 0.01819460280239582, 0.02624664455652237, 0.009479179978370667, 0.01090461015701294, 0.026206403970718384, 0.005909064784646034, 0.015469290316104889, 0.011670284904539585, 0.030845889821648598, 0.0, 0.0, 0.0, 0.0, 0.0, 0.0], [0.06869380176067352, 0.017686067149043083, 0.021483812481164932, 0.026063071563839912, 0.04117164388298988, 0.037108708173036575, 0.01291682105511427, 0.014148086309432983, 0.04149089381098747, 0.02290935069322586, 0.01391612272709608, 0.03137241303920746, 0.011734135448932648, 0.038900844752788544, 0.012486487627029419, 0.019700612872838974, 0.02964872121810913, 0.018178245052695274, 0.027882404625415802, 0.02944828011095524, 0.05184751749038696, 0.018354756757616997, 0.012412345968186855, 0.010546499863266945, 0.018436742946505547, 0.0263199619948864, 0.0164193045347929, 0.014724080450832844, 0.015869837254285812, 0.02744082361459732, 0.02628365345299244, 0.03602691367268562, 0.016341906040906906, 0.012734831310808659, 0.046321507543325424, 0.011939332820475101, 0.01788579858839512, 0.024406572803854942, 0.03753972053527832, 0.021207371726632118, 0.0, 0.0, 0.0, 0.0, 0.0], [0.11797577142715454, 0.0167684443295002, 0.0236359816044569, 0.02509588934481144, 0.042236294597387314, 0.02276664599776268, 0.01834856905043125, 0.03215045854449272, 0.0397973470389843, 0.01681259647011757, 0.03102976083755493, 0.024914246052503586, 0.022105328738689423, 0.035451650619506836, 0.00884923804551363, 0.024332832545042038, 0.021679868921637535, 0.019682127982378006, 0.02390759065747261, 0.030665716156363487, 0.03241182118654251, 0.014994688332080841, 0.01575685665011406, 0.0048297736793756485, 0.022298354655504227, 0.021911028772592545, 0.018026739358901978, 0.018344741314649582, 0.015505951829254627, 0.029061391949653625, 0.018902642652392387, 0.026768125593662262, 0.011022547259926796, 0.01255830004811287, 0.02734638750553131, 0.005154161714017391, 0.014772724360227585, 0.015888378024101257, 0.02074507810175419, 0.021636905148625374, 0.03385703265666962, 0.0, 0.0, 0.0, 0.0], [0.06489019840955734, 0.017196370288729668, 0.02094951458275318, 0.02550189197063446, 0.03983481228351593, 0.035768184810876846, 0.01285172626376152, 0.013735543005168438, 0.040706194937229156, 0.022278685122728348, 0.013215957209467888, 0.030695263296365738, 0.011094783432781696, 0.03794560953974724, 0.012381164357066154, 0.018601765856146812, 0.028749750927090645, 0.017261415719985962, 0.02657514065504074, 0.02806495502591133, 0.049988653510808945, 0.017633840441703796, 0.011646325699985027, 0.010028819553554058, 0.01731955073773861, 0.024261942133307457, 0.015573473647236824, 0.013732923194766045, 0.014792157337069511, 0.025592533871531487, 0.024416448548436165, 0.03351622074842453, 0.015308018773794174, 0.01184469647705555, 0.04337937384843826, 0.011030368506908417, 0.01658998802304268, 0.022572603076696396, 0.033926934003829956, 0.019283585250377655, 0.02937968634068966, 0.01988285407423973, 0.0, 0.0, 0.0], [0.13174942135810852, 0.013366371393203735, 0.03074582852423191, 0.02081037126481533, 0.04353681951761246, 0.024336405098438263, 0.022649286314845085, 0.023291772231459618, 0.025339776650071144, 0.01837286911904812, 0.03612343594431877, 0.018791867420077324, 0.02335369773209095, 0.02174035646021366, 0.00900765135884285, 0.026434408500790596, 0.01605457253754139, 0.015954935923218727, 0.023323874920606613, 0.044084519147872925, 0.027156397700309753, 0.010971365496516228, 0.01819080300629139, 0.0035179550759494305, 0.01635819301009178, 0.028305837884545326, 0.01622157357633114, 0.027349743992090225, 0.015213862992823124, 0.015202651731669903, 0.021283293142914772, 0.024389123544096947, 0.007823481224477291, 0.015800219029188156, 0.024864932522177696, 0.0034770460333675146, 0.01706658862531185, 0.009799585677683353, 0.020928725600242615, 0.021784260869026184, 0.016582081094384193, 0.022534774616360664, 0.02610926516354084, 0.0, 0.0], [0.10386338084936142, 0.017994169145822525, 0.02347620390355587, 0.027957625687122345, 0.04135160520672798, 0.022544771432876587, 0.015013834461569786, 0.029023336246609688, 0.03188680112361908, 0.019671255722641945, 0.0253919530659914, 0.021872203797101974, 0.025811687111854553, 0.028283942490816116, 0.010141031816601753, 0.022068941965699196, 0.01889020949602127, 0.018204981461167336, 0.022029200568795204, 0.030686428770422935, 0.022175172343850136, 0.016417695209383965, 0.015569137409329414, 0.005466073751449585, 0.026327045634388924, 0.022606799378991127, 0.01990547776222229, 0.014550778083503246, 0.012735593132674694, 0.023476792499423027, 0.017300724983215332, 0.023637179285287857, 0.013338337652385235, 0.010861197486519814, 0.023861432448029518, 0.005585307255387306, 0.014447592198848724, 0.016887672245502472, 0.017390605062246323, 0.02112027443945408, 0.026023536920547485, 0.0217148344963789, 0.027132589370012283, 0.02530459500849247, 0.0], [0.10316623002290726, 0.015830915421247482, 0.021593591198325157, 0.02300845831632614, 0.03818091005086899, 0.020878996700048447, 0.017974650487303734, 0.029957838356494904, 0.038057535886764526, 0.015610989183187485, 0.028120221570134163, 0.02393932081758976, 0.02024952322244644, 0.03374610096216202, 0.008696855045855045, 0.021769238635897636, 0.020526276901364326, 0.018119974061846733, 0.022247664630413055, 0.02785656601190567, 0.029953043907880783, 0.014138080179691315, 0.014189817942678928, 0.004532634746283293, 0.019713543355464935, 0.01851671002805233, 0.015826568007469177, 0.016093648970127106, 0.01306765154004097, 0.025643806904554367, 0.016272516921162605, 0.023369980975985527, 0.009496120736002922, 0.010887213051319122, 0.02432010881602764, 0.004560186993330717, 0.012467825785279274, 0.013248537667095661, 0.0168591421097517, 0.017970168963074684, 0.028366317972540855, 0.0185445174574852, 0.022429175674915314, 0.02965877205133438, 0.030342020094394684]]]}\n",
              "    )\n",
              "    </script>"
            ]
          },
          "metadata": {}
        }
      ],
      "source": [
        "import circuitsvis as cv\n",
        "from IPython.display import display\n",
        "\n",
        "html = cv.attention.attention_patterns(\n",
        "    tokens=reference_gpt2.to_str_tokens(reference_text),\n",
        "    attention=cache[\"pattern\", 0][0]\n",
        ")\n",
        "display(html)"
      ]
    },
    {
      "cell_type": "markdown",
      "metadata": {
        "id": "vcT1uWPGfHN2"
      },
      "source": [
        "You can also use the `attention_heads` function, which has similar syntax but presents the information in a different (sometimes more helpful) way.\n"
      ]
    },
    {
      "cell_type": "markdown",
      "metadata": {
        "id": "yMqCi5OYfHN2"
      },
      "source": [
        "<details>\n",
        "<summary>Help - my <code>attention_heads</code> plots are behaving weirdly.</summary>\n",
        "\n",
        "This seems to be a bug in `circuitsvis` - on VSCode, the attention head plots continually shrink in size.\n",
        "\n",
        "Until this is fixed, one way to get around it is to open the plots in your browser. You can do this inline with the `webbrowser` library:\n",
        "\n",
        "```python\n",
        "attn_heads = cv.attention.attention_heads(\n",
        "    tokens=reference_gpt2.to_str_tokens(reference_text),\n",
        "    attention=cache[\"pattern\", 0][0]\n",
        ")\n",
        "\n",
        "path = \"attn_heads.html\"\n",
        "\n",
        "with open(path, \"w\") as f:\n",
        "    f.write(str(attn_heads))\n",
        "\n",
        "webbrowser.open(path)\n",
        "```\n",
        "\n",
        "To check exactly where this is getting saved, you can print your current working directory with `os.getcwd()`.\n",
        "</details>\n"
      ]
    },
    {
      "cell_type": "markdown",
      "metadata": {
        "id": "972Ltv3vtDOH"
      },
      "source": [
        "---\n",
        "\n",
        "Note - don't worry if you don't get 100% accuracy here; the tests are pretty stringent. Even things like having your `einsum` input arguments in a different order might result in the output being very slightly different. You should be getting at least 99% accuracy though, so if the value is lower then this it probably means you've made a mistake somewhere.\n",
        "\n",
        "Also, this implementation will probably be the most challenging exercise on this page, so don't worry if it takes you some time! You should look at parts of the solution if you're stuck.\n"
      ]
    },
    {
      "cell_type": "markdown",
      "metadata": {
        "id": "CeWonT0afHN2"
      },
      "source": [
        "Note: The `\"IGNORE\"` buffer is a very large negative number. This is the value you should mask your attention scores with (i.e. set them to this number wherever you want the probabilities to be zero).\n",
        "\n",
        "<details>\n",
        "<summary>Question - why do you think we mask the attention scores by setting them to a large negative number, rather than the attention probabilities by setting them to zero?</summary>\n",
        "\n",
        "If we masked the attention probabilities, then the probabilities would no longer sum to 1.\n",
        "\n",
        "We want to mask the scores and *then* take softmax, so that the probabilities are still valid probabilities (i.e. they sum to 1), and the values in the masked positions have no influence on the model's output.\n",
        "</details>\n"
      ]
    },
    {
      "cell_type": "code",
      "execution_count": null,
      "metadata": {
        "id": "wNOKYkvom4R_"
      },
      "outputs": [],
      "source": [
        "class Attention(nn.Module):\n",
        "    IGNORE: Float[Tensor, \"\"]\n",
        "\n",
        "    def __init__(self, cfg: Config):\n",
        "        super().__init__()\n",
        "        self.cfg = cfg\n",
        "        self.W_Q = nn.Parameter(t.empty((cfg.n_heads, cfg.d_model, cfg.d_head)))\n",
        "        self.W_K = nn.Parameter(t.empty((cfg.n_heads, cfg.d_model, cfg.d_head)))\n",
        "        self.W_V = nn.Parameter(t.empty((cfg.n_heads, cfg.d_model, cfg.d_head)))\n",
        "        self.W_O = nn.Parameter(t.empty((cfg.n_heads, cfg.d_head, cfg.d_model)))\n",
        "        self.b_Q = nn.Parameter(t.zeros((cfg.n_heads, cfg.d_head)))\n",
        "        self.b_K = nn.Parameter(t.zeros((cfg.n_heads, cfg.d_head)))\n",
        "        self.b_V = nn.Parameter(t.zeros((cfg.n_heads, cfg.d_head)))\n",
        "        self.b_O = nn.Parameter(t.zeros((cfg.d_model)))\n",
        "        nn.init.normal_(self.W_Q, std=self.cfg.init_range)\n",
        "        nn.init.normal_(self.W_K, std=self.cfg.init_range)\n",
        "        nn.init.normal_(self.W_V, std=self.cfg.init_range)\n",
        "        nn.init.normal_(self.W_O, std=self.cfg.init_range)\n",
        "        self.register_buffer(\"IGNORE\", t.tensor(-1e5, dtype=t.float32, device=device))\n",
        "\n",
        "    def forward(\n",
        "        self, normalized_resid_pre: Float[Tensor, \"batch posn d_model\"]\n",
        "    ) -> Float[Tensor, \"batch posn d_model\"]:\n",
        "        # Use einops!\n",
        "        # And to help us understand your code quickly, try to use only the following names for dimensions:\n",
        "        # batch nheads posn_Q posn_K d_model d_head -> batch posn nheads d_head\n",
        "\n",
        "        # Calculate query, key and value vectors\n",
        "        q = einops.einsum(\n",
        "            normalized_resid_pre, self.W_Q,\n",
        "            \"batch posn d_model, nheads d_model d_head -> ???\",\n",
        "        ) + self.b_Q\n",
        "\n",
        "        k = ...\n",
        "\n",
        "        v = ...\n",
        "\n",
        "\n",
        "        # Calculate attention scores\n",
        "        attn_scores = einops.einsum(\n",
        "            q, k,\n",
        "            \"???,??? -> batch nheads posn_Q posn_K\",\n",
        "        )\n",
        "\n",
        "        # then scale and apply mask and apply softmax on the correct dimension to get probabilities\n",
        "        attn_scores_masked = self.apply_causal_mask(attn_scores / self.cfg.d_head ** 0.5)\n",
        "        attn_pattern = attn_scores_masked.softmax(dim=...)\n",
        "\n",
        "        # Take weighted sum of value vectors, according to attention probabilities\n",
        "        z = einops.einsum(\n",
        "            v, attn_pattern,\n",
        "            \"???,??? -> batch posn_Q nheads d_head\",\n",
        "        )\n",
        "\n",
        "        # Calculate output (by applying matrix W_O and summing over heads, then adding bias b_O)\n",
        "        attn_out = einops.einsum(\n",
        "            z, self.W_O,\n",
        "            \"batch posn_Q nheads d_head, nheads d_head d_model -> batch posn_Q d_model\",\n",
        "        ) + self.b_O\n",
        "        return attn_out\n",
        "\n",
        "\n",
        "    def apply_causal_mask(\n",
        "        self, attn_scores: Float[Tensor, \"batch n_heads query_pos key_pos\"]\n",
        "    ) -> Float[Tensor, \"batch n_heads query_pos key_pos\"]:\n",
        "        '''\n",
        "        Applies a causal mask to attention scores, and returns masked scores.\n",
        "        '''\n",
        "        # Define a mask that is True for all positions we want to set probabilities to zero for\n",
        "        all_ones = t.ones(attn_scores.size(-2), attn_scores.size(-1), device=attn_scores.device)\n",
        "        mask = t.triu(all_ones, diagonal=1).bool()\n",
        "        # Apply the mask to attention scores, then return the masked scores\n",
        "        attn_scores.masked_fill_(mask, self.IGNORE)\n",
        "        return attn_scores\n",
        "\n",
        "rand_float_test(Attention, [2, 4, 768])\n",
        "load_gpt2_test(Attention, reference_gpt2.blocks[0].attn, cache[\"normalized\", 0, \"ln1\"])"
      ]
    },
    {
      "cell_type": "markdown",
      "metadata": {
        "id": "Cn0_PpeKt3UT"
      },
      "source": [
        "\n",
        "\n",
        "<details>\n",
        "<summary>Solution</summary>\n",
        "\n",
        "\n",
        "```python\n",
        "class Attention(nn.Module):\n",
        "    IGNORE: Float[Tensor, \"\"]\n",
        "\n",
        "    def __init__(self, cfg: Config):\n",
        "        super().__init__()\n",
        "        self.cfg = cfg\n",
        "        self.W_Q = nn.Parameter(t.empty((cfg.n_heads, cfg.d_model, cfg.d_head)))\n",
        "        self.W_K = nn.Parameter(t.empty((cfg.n_heads, cfg.d_model, cfg.d_head)))\n",
        "        self.W_V = nn.Parameter(t.empty((cfg.n_heads, cfg.d_model, cfg.d_head)))\n",
        "        self.W_O = nn.Parameter(t.empty((cfg.n_heads, cfg.d_head, cfg.d_model)))\n",
        "        self.b_Q = nn.Parameter(t.zeros((cfg.n_heads, cfg.d_head)))\n",
        "        self.b_K = nn.Parameter(t.zeros((cfg.n_heads, cfg.d_head)))\n",
        "        self.b_V = nn.Parameter(t.zeros((cfg.n_heads, cfg.d_head)))\n",
        "        self.b_O = nn.Parameter(t.zeros((cfg.d_model)))\n",
        "        nn.init.normal_(self.W_Q, std=self.cfg.init_range)\n",
        "        nn.init.normal_(self.W_K, std=self.cfg.init_range)\n",
        "        nn.init.normal_(self.W_V, std=self.cfg.init_range)\n",
        "        nn.init.normal_(self.W_O, std=self.cfg.init_range)\n",
        "        self.register_buffer(\"IGNORE\", t.tensor(-1e5, dtype=t.float32, device=device))\n",
        "\n",
        "    def forward(\n",
        "        self, normalized_resid_pre: Float[Tensor, \"batch posn d_model\"]\n",
        "    ) -> Float[Tensor, \"batch posn d_model\"]:\n",
        "        # SOLUTION\n",
        "        # Calculate query, key and value vectors\n",
        "        q = einops.einsum(\n",
        "            normalized_resid_pre, self.W_Q,\n",
        "            \"batch posn d_model, nheads d_model d_head -> batch posn nheads d_head\",\n",
        "        ) + self.b_Q\n",
        "        k = einops.einsum(\n",
        "            normalized_resid_pre, self.W_K,\n",
        "            \"batch posn d_model, nheads d_model d_head -> batch posn nheads d_head\",\n",
        "        ) + self.b_K\n",
        "        v = einops.einsum(\n",
        "            normalized_resid_pre, self.W_V,\n",
        "            \"batch posn d_model, nheads d_model d_head -> batch posn nheads d_head\",\n",
        "        ) + self.b_V\n",
        "\n",
        "        # Calculate attention scores, then scale and mask, and apply softmax to get probabilities\n",
        "        attn_scores = einops.einsum(\n",
        "            q, k,\n",
        "            \"batch posn_Q nheads d_head, batch posn_K nheads d_head -> batch nheads posn_Q posn_K\",\n",
        "        )\n",
        "        attn_scores_masked = self.apply_causal_mask(attn_scores / self.cfg.d_head ** 0.5)\n",
        "        attn_pattern = attn_scores_masked.softmax(-1)\n",
        "\n",
        "        # Take weighted sum of value vectors, according to attention probabilities\n",
        "        z = einops.einsum(\n",
        "            v, attn_pattern,\n",
        "            \"batch posn_K nheads d_head, batch nheads posn_Q posn_K -> batch posn_Q nheads d_head\",\n",
        "        )\n",
        "\n",
        "        # Calculate output (by applying matrix W_O and summing over heads, then adding bias b_O)\n",
        "        attn_out = einops.einsum(\n",
        "            z, self.W_O,\n",
        "            \"batch posn_Q nheads d_head, nheads d_head d_model -> batch posn_Q d_model\",\n",
        "        ) + self.b_O\n",
        "\n",
        "        return attn_out\n",
        "\n",
        "    def apply_causal_mask(\n",
        "        self, attn_scores: Float[Tensor, \"batch n_heads query_pos key_pos\"]\n",
        "    ) -> Float[Tensor, \"batch n_heads query_pos key_pos\"]:\n",
        "        '''\n",
        "        Applies a causal mask to attention scores, and returns masked scores.\n",
        "        '''\n",
        "        # SOLUTION\n",
        "        # Define a mask that is True for all positions we want to set probabilities to zero for\n",
        "        all_ones = t.ones(attn_scores.size(-2), attn_scores.size(-1), device=attn_scores.device)\n",
        "        mask = t.triu(all_ones, diagonal=1).bool()\n",
        "        # Apply the mask to attention scores, then return the masked scores\n",
        "        attn_scores.masked_fill_(mask, self.IGNORE)\n",
        "        return attn_scores\n",
        "```\n",
        "</details>\n"
      ]
    },
    {
      "cell_type": "markdown",
      "metadata": {
        "id": "5phgYX4Um4SA"
      },
      "source": [
        "## MLP\n",
        "\n",
        "```c\n",
        "Difficulty: 🟠🟠⚪⚪⚪\n",
        "Importance: 🟠🟠🟠🟠⚪\n",
        "\n",
        "You should spend up to 10-15 minutes on this exercise.\n",
        "```\n",
        "\n",
        "Next, you should implement the MLP layer, which consists of:\n",
        "\n",
        "* A linear layer, with weight `W_in`, bias `b_in`\n",
        "* A nonlinear functino (we usually use GELU; the function `gelu_new` has been imported for this purpose)\n",
        "* A linear layer, with weight `W_out`, bias `b_out`\n"
      ]
    },
    {
      "cell_type": "code",
      "execution_count": null,
      "metadata": {
        "id": "5ByI-Sj2m4SA"
      },
      "outputs": [],
      "source": [
        "class MLP(nn.Module):\n",
        "    def __init__(self, cfg: Config):\n",
        "        super().__init__()\n",
        "        self.cfg = cfg\n",
        "        self.W_in = nn.Parameter(t.empty((cfg.d_model, cfg.d_mlp)))\n",
        "        self.W_out = nn.Parameter(t.empty((cfg.d_mlp, cfg.d_model)))\n",
        "        self.b_in = nn.Parameter(t.zeros((cfg.d_mlp)))\n",
        "        self.b_out = nn.Parameter(t.zeros((cfg.d_model)))\n",
        "        nn.init.normal_(self.W_in, std=self.cfg.init_range)\n",
        "        nn.init.normal_(self.W_out, std=self.cfg.init_range)\n",
        "\n",
        "    def forward(\n",
        "        self, normalized_resid_mid: Float[Tensor, \"batch posn d_model\"]\n",
        "    ) -> Float[Tensor, \"batch posn d_model\"]:\n",
        "        pass\n",
        "\n",
        "rand_float_test(MLP, [2, 4, 768])\n",
        "load_gpt2_test(MLP, reference_gpt2.blocks[0].mlp, cache[\"normalized\", 0, \"ln2\"])"
      ]
    },
    {
      "cell_type": "markdown",
      "metadata": {
        "id": "V213jUezuk9y"
      },
      "source": [
        "<details>\n",
        "<summary>Solution</summary>\n",
        "\n",
        "\n",
        "```python\n",
        "class MLP(nn.Module):\n",
        "    def __init__(self, cfg: Config):\n",
        "        super().__init__()\n",
        "        self.cfg = cfg\n",
        "        self.W_in = nn.Parameter(t.empty((cfg.d_model, cfg.d_mlp)))\n",
        "        self.W_out = nn.Parameter(t.empty((cfg.d_mlp, cfg.d_model)))\n",
        "        self.b_in = nn.Parameter(t.zeros((cfg.d_mlp)))\n",
        "        self.b_out = nn.Parameter(t.zeros((cfg.d_model)))\n",
        "        nn.init.normal_(self.W_in, std=self.cfg.init_range)\n",
        "        nn.init.normal_(self.W_out, std=self.cfg.init_range)\n",
        "\n",
        "    def forward(\n",
        "        self, normalized_resid_mid: Float[Tensor, \"batch posn d_model\"]\n",
        "    ) -> Float[Tensor, \"batch posn d_model\"]:\n",
        "        # SOLUTION\n",
        "        pre = einops.einsum(\n",
        "            normalized_resid_mid, self.W_in,\n",
        "            \"batch position d_model, d_model d_mlp -> batch position d_mlp\",\n",
        "        ) + self.b_in\n",
        "        post = gelu_new(pre)\n",
        "        mlp_out = einops.einsum(\n",
        "            post, self.W_out,\n",
        "            \"batch position d_mlp, d_mlp d_model -> batch position d_model\",\n",
        "        ) + self.b_out\n",
        "        return mlp_out\n",
        "```\n",
        "</details>\n"
      ]
    },
    {
      "cell_type": "markdown",
      "metadata": {
        "id": "Vo4pVDvim4R8"
      },
      "source": [
        "## (Bonus) LayerNorm\n",
        "\n",
        "```c\n",
        "Difficulty: 🟠🟠🟠⚪⚪\n",
        "Importance: 🟠🟠🟠⚪⚪\n",
        "\n",
        "You should spend up to 10-15 minutes on this exercise.\n",
        "```\n",
        "\n",
        "You should fill in the code below, and then run the tests to verify that your layer is working correctly.\n",
        "\n",
        "Your LayerNorm should do the following:\n",
        "\n",
        "* Make mean 0\n",
        "* Normalize to have variance 1\n",
        "* Scale with learned weights\n",
        "* Translate with learned bias\n",
        "\n",
        "You can use the PyTorch [LayerNorm documentation](https://pytorch.org/docs/stable/generated/torch.nn.LayerNorm.html) as a reference. A few more notes:\n",
        "\n",
        "* Your layernorm implementation always has `affine=True`, i.e. you do learn parameters `w` and `b` (which are represented as $\\gamma$ and $\\beta$ respectively in the PyTorch documentation).\n",
        "* Remember that, after the centering and normalization, each vector of length `d_model` in your input should have mean 0 and variance 1.\n",
        "* As the PyTorch documentation page says, your variance should be computed using `unbiased=False`.\n",
        "* The `layer_norm_eps` argument in your config object corresponds to the $\\epsilon$ term in the PyTorch documentation (it is included to avoid division-by-zero errors).\n",
        "* We've given you a `debug` argument in your config. If `debug=True`, then you can print output like the shape of objects in your `forward` function to help you debug (this is a very useful trick to improve your coding speed).\n",
        "\n",
        "Fill in the function, where it says `pass` (this will be the basic pattern for most other exercises in this section).\n"
      ]
    },
    {
      "cell_type": "code",
      "execution_count": null,
      "metadata": {
        "id": "OlU317NRm4R9"
      },
      "outputs": [],
      "source": [
        "class LayerNorm(nn.Module):\n",
        "    def __init__(self, cfg: Config):\n",
        "        super().__init__()\n",
        "        self.cfg = cfg\n",
        "        self.w = nn.Parameter(t.ones(cfg.d_model))\n",
        "        self.b = nn.Parameter(t.zeros(cfg.d_model))\n",
        "\n",
        "    def forward(self, residual: Float[Tensor, \"batch posn d_model\"]) -> Float[Tensor, \"batch posn d_model\"]:\n",
        "        pass\n",
        "\n",
        "rand_float_test(LayerNorm, [2, 4, 768])\n",
        "load_gpt2_test(LayerNorm, reference_gpt2.ln_final, cache[\"resid_post\", 11])"
      ]
    },
    {
      "cell_type": "markdown",
      "metadata": {
        "id": "guuK9nPZqFO7"
      },
      "source": [
        "<details>\n",
        "<summary>Solution</summary>\n",
        "\n",
        "\n",
        "```python\n",
        "class LayerNorm(nn.Module):\n",
        "    def __init__(self, cfg: Config):\n",
        "        super().__init__()\n",
        "        self.cfg = cfg\n",
        "        self.w = nn.Parameter(t.ones(cfg.d_model))\n",
        "        self.b = nn.Parameter(t.zeros(cfg.d_model))\n",
        "\n",
        "    def forward(self, residual: Float[Tensor, \"batch posn d_model\"]) -> Float[Tensor, \"batch posn d_model\"]:\n",
        "        # SOLUTION\n",
        "        residual_mean = residual.mean(dim=-1, keepdim=True)\n",
        "        residual_std = (residual.var(dim=-1, keepdim=True, unbiased=False) + self.cfg.layer_norm_eps).sqrt()\n",
        "\n",
        "        residual = (residual - residual_mean) / residual_std\n",
        "        return residual * self.w + self.b\n",
        "```\n",
        "</details>\n"
      ]
    },
    {
      "cell_type": "markdown",
      "metadata": {
        "id": "wZWuD4I4m4SA"
      },
      "source": [
        "## Transformer Block\n",
        "\n",
        "```c\n",
        "Difficulty: 🟠🟠⚪⚪⚪\n",
        "Importance: 🟠🟠🟠⚪⚪\n",
        "\n",
        "You should spend up to ~10 minutes on this exercise.\n",
        "```\n",
        "\n",
        "Now, we can put together the attention, MLP and layernorms into a single transformer block. Remember to implement the residual connections correctly!\n"
      ]
    },
    {
      "cell_type": "code",
      "execution_count": null,
      "metadata": {
        "id": "ffiFxAJzm4SA"
      },
      "outputs": [],
      "source": [
        "class TransformerBlock(nn.Module):\n",
        "    def __init__(self, cfg: Config):\n",
        "        super().__init__()\n",
        "        self.cfg = cfg\n",
        "        self.ln1 = LayerNorm(cfg)\n",
        "        self.attn = Attention(cfg)\n",
        "        self.ln2 = LayerNorm(cfg)\n",
        "        self.mlp = MLP(cfg)\n",
        "\n",
        "    def forward(\n",
        "        self, resid_pre: Float[Tensor, \"batch position d_model\"]\n",
        "    ) -> Float[Tensor, \"batch position d_model\"]:\n",
        "        # First, we compute the attention, but the residual stream needs to be normalized beforehand\n",
        "        resid_mid = resid_pre + ...\n",
        "\n",
        "        # Then, we compute the MLP, again, the input of the MLP needs to be normalized beforehand\n",
        "        resid_post = resid_mid + ...\n",
        "\n",
        "        return resid_post\n",
        "\n",
        "rand_float_test(TransformerBlock, [2, 4, 768])\n",
        "load_gpt2_test(TransformerBlock, reference_gpt2.blocks[0], cache[\"resid_pre\", 0])"
      ]
    },
    {
      "cell_type": "markdown",
      "metadata": {
        "id": "ekxozAr1fHN3"
      },
      "source": [
        "<details>\n",
        "<summary>Solution</summary>\n",
        "\n",
        "\n",
        "```python\n",
        "class TransformerBlock(nn.Module):\n",
        "    def __init__(self, cfg: Config):\n",
        "        super().__init__()\n",
        "        self.cfg = cfg\n",
        "        self.ln1 = LayerNorm(cfg)\n",
        "        self.attn = Attention(cfg)\n",
        "        self.ln2 = LayerNorm(cfg)\n",
        "        self.mlp = MLP(cfg)\n",
        "\n",
        "    def forward(\n",
        "        self, resid_pre: Float[Tensor, \"batch position d_model\"]\n",
        "    ) -> Float[Tensor, \"batch position d_model\"]:\n",
        "        # SOLUTION\n",
        "        resid_mid = self.attn(self.ln1(resid_pre)) + resid_pre\n",
        "        resid_post = self.mlp(self.ln2(resid_mid)) + resid_mid\n",
        "        return resid_post\n",
        "```\n",
        "</details>\n"
      ]
    },
    {
      "cell_type": "markdown",
      "metadata": {
        "id": "mgzAM-VQm4SA"
      },
      "source": [
        "## Unembedding\n",
        "\n",
        "```c\n",
        "Difficulty: 🟠🟠⚪⚪⚪\n",
        "Importance: 🟠🟠🟠⚪⚪\n",
        "\n",
        "You should spend up to ~10 minutes on this exercise.\n",
        "```\n",
        "\n",
        "The unembedding is jus a linear layer (with weight `W_U` and bias `b_U`).\n"
      ]
    },
    {
      "cell_type": "code",
      "execution_count": null,
      "metadata": {
        "id": "XEMB7p_Vm4SA"
      },
      "outputs": [],
      "source": [
        "class Unembed(nn.Module):\n",
        "    def __init__(self, cfg):\n",
        "        super().__init__()\n",
        "        self.cfg = cfg\n",
        "        self.W_U = nn.Parameter(t.empty((cfg.d_model, cfg.d_vocab)))\n",
        "        nn.init.normal_(self.W_U, std=self.cfg.init_range)\n",
        "        self.b_U = nn.Parameter(t.zeros((cfg.d_vocab), requires_grad=False))\n",
        "\n",
        "    def forward(\n",
        "        self, normalized_resid_final: Float[Tensor, \"batch position d_model\"]\n",
        "    ) -> Float[Tensor, \"batch position d_vocab\"]:\n",
        "        pass\n",
        "\n",
        "rand_float_test(Unembed, [2, 4, 768])\n",
        "load_gpt2_test(Unembed, reference_gpt2.unembed, cache[\"ln_final.hook_normalized\"])"
      ]
    },
    {
      "cell_type": "markdown",
      "metadata": {
        "id": "zWIIxu5sfHN4"
      },
      "source": [
        "<details>\n",
        "<summary>Solution</summary>\n",
        "\n",
        "\n",
        "```python\n",
        "class Unembed(nn.Module):\n",
        "    def __init__(self, cfg):\n",
        "        super().__init__()\n",
        "        self.cfg = cfg\n",
        "        self.W_U = nn.Parameter(t.empty((cfg.d_model, cfg.d_vocab)))\n",
        "        nn.init.normal_(self.W_U, std=self.cfg.init_range)\n",
        "        self.b_U = nn.Parameter(t.zeros((cfg.d_vocab), requires_grad=False))\n",
        "\n",
        "    def forward(\n",
        "        self, normalized_resid_final: Float[Tensor, \"batch position d_model\"]\n",
        "    ) -> Float[Tensor, \"batch position d_vocab\"]:\n",
        "        # SOLUTION\n",
        "        return einops.einsum(\n",
        "            normalized_resid_final, self.W_U,\n",
        "            \"batch posn d_model, d_model d_vocab -> batch posn d_vocab\",\n",
        "        ) + self.b_U\n",
        "        # Or, could just do `normalized_resid_final @ self.W_U + self.b_U`\n",
        "```\n",
        "</details>\n"
      ]
    },
    {
      "cell_type": "markdown",
      "metadata": {
        "id": "_eRyuDxLm4SB"
      },
      "source": [
        "## Full Transformer\n",
        "\n",
        "```c\n",
        "Difficulty: 🟠🟠⚪⚪⚪\n",
        "Importance: 🟠🟠🟠⚪⚪\n",
        "\n",
        "You should spend up to ~10 minutes on this exercise.\n",
        "```\n"
      ]
    },
    {
      "cell_type": "code",
      "execution_count": null,
      "metadata": {
        "id": "KCCrXlzYm4SB"
      },
      "outputs": [],
      "source": [
        "class DemoTransformer(nn.Module):\n",
        "    def __init__(self, cfg: Config):\n",
        "        super().__init__()\n",
        "        self.cfg = cfg\n",
        "        self.embed = Embed(cfg)\n",
        "        self.pos_embed = PosEmbed(cfg)\n",
        "        self.blocks = nn.ModuleList([TransformerBlock(cfg) for _ in range(cfg.n_layers)])\n",
        "        self.ln_final = LayerNorm(cfg)\n",
        "        self.unembed = Unembed(cfg)\n",
        "\n",
        "    def forward(self, tokens: Int[Tensor, \"batch position\"]) -> Float[Tensor, \"batch position d_vocab\"]:\n",
        "        # Hint: modules are defined in the order they should be used\n",
        "        ...\n",
        "\n",
        "\n",
        "rand_int_test(DemoTransformer, [2, 4])\n",
        "load_gpt2_test(DemoTransformer, reference_gpt2, tokens)"
      ]
    },
    {
      "cell_type": "markdown",
      "metadata": {
        "id": "o4HYNvIyfHN4"
      },
      "source": [
        "<details>\n",
        "<summary>Solution</summary>\n",
        "\n",
        "\n",
        "```python\n",
        "class DemoTransformer(nn.Module):\n",
        "    def __init__(self, cfg: Config):\n",
        "        super().__init__()\n",
        "        self.cfg = cfg\n",
        "        self.embed = Embed(cfg)\n",
        "        self.pos_embed = PosEmbed(cfg)\n",
        "        self.blocks = nn.ModuleList([TransformerBlock(cfg) for _ in range(cfg.n_layers)])\n",
        "        self.ln_final = LayerNorm(cfg)\n",
        "        self.unembed = Unembed(cfg)\n",
        "\n",
        "    def forward(self, tokens: Int[Tensor, \"batch position\"]) -> Float[Tensor, \"batch position d_vocab\"]:\n",
        "        # SOLUTION\n",
        "        residual = self.embed(tokens) + self.pos_embed(tokens)\n",
        "        for block in self.blocks:\n",
        "            residual = block(residual)\n",
        "        logits = self.unembed(self.ln_final(residual))\n",
        "        return logits\n",
        "```\n",
        "</details>\n"
      ]
    },
    {
      "cell_type": "markdown",
      "metadata": {
        "id": "yNwh7R1em4SB"
      },
      "source": [
        "**Try it out!**\n"
      ]
    },
    {
      "cell_type": "code",
      "execution_count": null,
      "metadata": {
        "id": "deE6uPlxm4SB"
      },
      "outputs": [],
      "source": [
        "demo_gpt2 = DemoTransformer(Config(debug=False)).to(device)\n",
        "demo_gpt2.load_state_dict(reference_gpt2.state_dict(), strict=False)\n",
        "\n",
        "demo_logits = demo_gpt2(tokens)"
      ]
    },
    {
      "cell_type": "markdown",
      "metadata": {
        "id": "gAhstai4m4SB"
      },
      "source": [
        "Let's take a test string, and calculate the loss!\n",
        "\n",
        "We're using the formula for **cross-entropy loss**. The cross entropy loss between a modelled distribution $Q$ and target distribution $P$ is:\n",
        "\n",
        "$$\n",
        "-\\sum_x P(x) \\log Q(x)\n",
        "$$\n",
        "\n",
        "In the case where $P$ is just the empirical distribution from target classes (i.e. $P(x^*) = 1$ for the correct class $x^*$) then this becomes:\n",
        "\n",
        "$$\n",
        "-\\log Q(x^*)\n",
        "$$\n",
        "\n",
        "in other words, the negative log prob of the true classification.\n"
      ]
    },
    {
      "cell_type": "code",
      "execution_count": null,
      "metadata": {
        "id": "UtO9ZsL6m4SB"
      },
      "outputs": [],
      "source": [
        "def get_log_probs(\n",
        "    logits: Float[Tensor, \"batch posn d_vocab\"],\n",
        "    tokens: Int[Tensor, \"batch posn\"]\n",
        ") -> Float[Tensor, \"batch posn-1\"]:\n",
        "\n",
        "    log_probs = logits.log_softmax(dim=-1)\n",
        "    # Get logprobs the first seq_len-1 predictions (so we can compare them with the actual next tokens)\n",
        "    log_probs_for_tokens = log_probs[:, :-1].gather(dim=-1, index=tokens[:, 1:].unsqueeze(-1)).squeeze(-1)\n",
        "\n",
        "    return log_probs_for_tokens\n",
        "\n",
        "\n",
        "pred_log_probs = get_log_probs(demo_logits, tokens)\n",
        "print(f\"Avg cross entropy loss: {-pred_log_probs.mean():.4f}\")\n",
        "print(f\"Avg cross entropy loss for uniform distribution: {math.log(demo_gpt2.cfg.d_vocab):4f}\")\n",
        "print(f\"Avg probability assigned to correct token: {pred_log_probs.exp().mean():4f}\")"
      ]
    },
    {
      "cell_type": "markdown",
      "metadata": {
        "id": "cOChhr71m4SC"
      },
      "source": [
        "We can also greedily generate text, by taking the most likely next token and continually appending it to our prompt before feeding it back into the model:\n"
      ]
    },
    {
      "cell_type": "code",
      "execution_count": null,
      "metadata": {
        "id": "IPEmKN1Bm4SC"
      },
      "outputs": [],
      "source": [
        "test_string = '''The Total Perspective Vortex derives its picture of the whole Universe on the principle of'''\n",
        "for i in tqdm(range(100)):\n",
        "    test_tokens = reference_gpt2.to_tokens(test_string).to(device)\n",
        "    demo_logits = demo_gpt2(test_tokens)\n",
        "    test_string += reference_gpt2.tokenizer.decode(demo_logits[-1, -1].argmax())\n",
        "\n",
        "print(test_string)"
      ]
    },
    {
      "cell_type": "markdown",
      "metadata": {
        "id": "tGrShZtp0O0E"
      },
      "source": [
        "In later sections, we'll learn to generate text in slightly more interesting ways than just argmaxing the output.\n"
      ]
    },
    {
      "cell_type": "markdown",
      "metadata": {
        "id": "QfeyG6NZm4SC"
      },
      "source": [
        "# 3️⃣ (Bonus) Training a Transformer\n"
      ]
    },
    {
      "cell_type": "markdown",
      "metadata": {
        "id": "RGFuGCKtnNy3"
      },
      "source": [
        "> ##### Learning objectives\n",
        ">\n",
        "> * Understand how to train a transformer from scratch\n",
        "> * Write a basic transformer training loop\n",
        "> * Interpret the transformer's falling cross entropy loss with reference to features of the training data (e.g. bigram frequencies)\n"
      ]
    },
    {
      "cell_type": "markdown",
      "metadata": {
        "id": "K6oZKflnnXgj"
      },
      "source": [
        "Now that we've built our transformer, and verified that it performs as expected when we load in weights, let's try training it from scratch!\n",
        "\n",
        "This is a lightweight demonstration of how you can actually train your own GPT-2 with this code! Here we train a tiny model on a tiny dataset, but it's fundamentally the same code for training a larger/more real model (though you'll need beefier GPUs and data parallelism to do it remotely efficiently, and fancier parallelism for much bigger ones).\n",
        "\n",
        "For our purposes, we'll train 2L 4 heads per layer model, with context length 256, for 10*200 steps of batch size 16, just to show what it looks like (and so the notebook doesn't melt your colab / machine!)."
      ]
    },
    {
      "cell_type": "markdown",
      "metadata": {
        "id": "-VB5ELjInZzj"
      },
      "source": [
        "## Create Model"
      ]
    },
    {
      "cell_type": "code",
      "execution_count": null,
      "metadata": {
        "id": "4TMr-rMQnayL"
      },
      "outputs": [],
      "source": [
        "model_cfg = Config(\n",
        "    debug=False,\n",
        "    d_model=256,\n",
        "    n_heads=4,\n",
        "    d_head=64,\n",
        "    d_mlp=1024,\n",
        "    n_layers=2,\n",
        "    n_ctx=256,\n",
        "    d_vocab=reference_gpt2.cfg.d_vocab\n",
        ")\n",
        "model = DemoTransformer(model_cfg)"
      ]
    },
    {
      "cell_type": "markdown",
      "metadata": {
        "id": "ggSGeTT_nb5Z"
      },
      "source": [
        "## Training Args\n",
        "\n",
        "\n",
        "Note, for this optimization we'll be using **weight decay**."
      ]
    },
    {
      "cell_type": "code",
      "execution_count": null,
      "metadata": {
        "id": "95hodhD_ndRy"
      },
      "outputs": [],
      "source": [
        "@dataclass\n",
        "class TransformerTrainingArgs():\n",
        "    batch_size = 16\n",
        "    epochs = 10\n",
        "    max_steps_per_epoch = 200\n",
        "\tlr = 1e-3\n",
        "\tweight_decay = 1e-2\n",
        "\twandb_project: Optional[str] = \"day1-demotransformer\"\n",
        "\twandb_name: Optional[str] = None\n",
        "\n",
        "\n",
        "args = TransformerTrainingArgs()"
      ]
    },
    {
      "cell_type": "markdown",
      "metadata": {
        "id": "lR8gVegcnfW2"
      },
      "source": [
        "## Create Data\n",
        "\n",
        "We load in a tiny dataset made by Neel Nanda, with the first 10K entries in the Pile (inspired by Stas' version for OpenWebText!)"
      ]
    },
    {
      "cell_type": "code",
      "execution_count": null,
      "metadata": {
        "id": "9udsnznsnik8"
      },
      "outputs": [],
      "source": [
        "dataset = datasets.load_dataset(\"NeelNanda/pile-10k\", split=\"train\").remove_columns(\"meta\")\n",
        "print(dataset)\n",
        "print(dataset[0]['text'][:100])"
      ]
    },
    {
      "cell_type": "markdown",
      "metadata": {
        "id": "chj2r8J-njhC"
      },
      "source": [
        "`tokenize_and_concatenate` is a useful function which takes our dataset of strings, and returns a dataset of token IDs ready to feed into the model. We then create a dataloader from this tokenized dataset. The useful method `train_test_split` can give us a training and testing set.\n"
      ]
    },
    {
      "cell_type": "code",
      "execution_count": null,
      "metadata": {
        "id": "mgogWcLUnk0U"
      },
      "outputs": [],
      "source": [
        "tokenized_dataset = tokenize_and_concatenate(dataset, reference_gpt2.tokenizer, streaming=False, max_length=model.cfg.n_ctx, column_name=\"text\", add_bos_token=True, num_proc=4)\n",
        "\n",
        "dataset_dict = tokenized_dataset.train_test_split(test_size=1000)\n",
        "train_loader = DataLoader(dataset_dict[\"train\"], batch_size=args.batch_size, shuffle=True, num_workers=4, pin_memory=True)\n",
        "test_loader = DataLoader(dataset_dict[\"test\"], batch_size=args.batch_size, shuffle=False, num_workers=4, pin_memory=True)"
      ]
    },
    {
      "cell_type": "markdown",
      "metadata": {
        "id": "Fcx4oMaInlpi"
      },
      "source": [
        "When we iterate through these dataloaders, we will find dictionaries with the single key `'tokens'`, which maps to a tensor of token IDs with shape `(batch, seq_len)`."
      ]
    },
    {
      "cell_type": "code",
      "execution_count": null,
      "metadata": {
        "id": "Y_Y7vD8BnqK-"
      },
      "outputs": [],
      "source": [
        "first_batch = train_loader.dataset[:args.batch_size]\n",
        "\n",
        "print(first_batch.keys())\n",
        "print(first_batch['tokens'].shape)"
      ]
    },
    {
      "cell_type": "markdown",
      "metadata": {
        "id": "hyjlKG-AnrZc"
      },
      "source": [
        "## Training Loop\n",
        "\n",
        "If you did the material on [training loops](https://arena-ch0-fundamentals.streamlit.app/[0.3]_ResNets#training-loop) during the first week, this should all be familiar to you. If not, you can skim that section for an overview of the key concepts. The start of the **Training loop** section is most important, and the subsections on [Modularisation](https://arena-ch0-fundamentals.streamlit.app/[0.3]_ResNets#modularisation) and [dataclasses](https://arena-ch0-fundamentals.streamlit.app/[0.3]_ResNets#aside-dataclasses) are also very useful. Lastly, we'll also be using Weights and Biases to train our model - you can read about how to use it [here](https://arena-ch0-fundamentals.streamlit.app/[0.4]_Optimization#what-is-weights-and-biases). Here are (roughly) all the things you should know for the following exercises:\n",
        "                \n",
        "* The key parts of a gradient update step are:\n",
        "    * Calculating the (cross-entropy) loss between a model's output and the true labels,\n",
        "    * `loss.backward()` - calculate gradients of the loss with respect to the model parameters,\n",
        "    * `optimizer.step()` - update the model parameters using the gradients,\n",
        "    * `optimizer.zero_grad()` - zero the gradients so they don't accumulate.\n",
        "* We can nicely package up training loops into a class, which includes methods for training and validation steps among other things. This helps with writing code that can be reused in different contexts.\n",
        "* We can use dataclasses to store all the arguments relevant to training in one place, and then pass them to our trainer class. Autocompletion is one nice bonus of this!\n",
        "    * Be careful of scope here, you want to make sure you're referring to `self.args` within the trainer class, rather than the global `args`.\n",
        "* You can use Weights and Biases to track experiments and log relevant variables. The three essential functions are:\n",
        "    * `wandb.init()` - initialize a new run, takes arguments `project`, `name` and `config` (among others).\n",
        "    * `wandb.log()` - log a dictionary of variables, e.g. `{\"loss\": loss}`. Also takes a `step` argument.\n",
        "    * `wandb.finish()` - called at the end of training (no arguments)."
      ]
    },
    {
      "cell_type": "markdown",
      "metadata": {
        "id": "tvM-W_TGnuoN"
      },
      "source": [
        "### Exercise - write training loop\n",
        "\n",
        "```c\n",
        "Difficulty: 🟠🟠🟠⚪⚪\n",
        "Importance: 🟠🟠🟠🟠⚪\n",
        "\n",
        "You should spend up to 10-20 minutes on this exercise.\n",
        "```"
      ]
    },
    {
      "cell_type": "markdown",
      "metadata": {
        "id": "2qbuJ4winvyY"
      },
      "source": [
        "You should fill in the methods below. Some guidance:\n",
        "\n",
        "* Remember we were able to calculate cross entropy loss using the `get_log_probs` function in the previous section.\n",
        "* You should use the optimizer `t.optim.AdamW` (Adam with weight decay), and with hyperparameters `lr` and `weight_decay` taken from your `TransformerTrainingArgs` dataclass instance.\n",
        "* The easiest way to compute accuracy is to have the `validation_step` method return a 1D boolean tensor indicating the positions where the model's prediction was correct. Then you can concatenate all these tensors together and take the mean to get the overall accuracy for the epoch.\n",
        "* We've given you the argument `max_steps_per_epoch`, a hacky way of making sure the training phase in each epoch doesn't go on for too long. You can terminate each training phase after this many steps.\n",
        "* Remember to move tokens to your device, via `tokens.to(device)` (this should be a global variable, defined at the top of your notebook).\n",
        "* You can refer back to the training loops from the [previous chapter of the course](https://arena-ch0-fundamentals.streamlit.app/[0.3]_ResNets#training-loop) if you'd like.\n"
      ]
    },
    {
      "cell_type": "code",
      "execution_count": null,
      "metadata": {
        "id": "zVBEDTGMnxSk"
      },
      "outputs": [],
      "source": [
        "class TransformerTrainer:\n",
        "\tdef __init__(self, args: TransformerTrainingArgs, model: DemoTransformer):\n",
        "\t\tsuper().__init__()\n",
        "\t\tself.model = model\n",
        "\t\tself.args = args\n",
        "\t\tself.optimizer = t.optim.AdamW(self.model.parameters(), lr=args.lr, weight_decay=args.weight_decay)\n",
        "\t\tself.step = 0\n",
        "\n",
        "\n",
        "\tdef training_step(self, batch: Dict[str, Int[Tensor, \"batch seq\"]]) -> Float[Tensor, \"\"]:\n",
        "\t\t'''\n",
        "\t\tCalculates the loss on the tokens in the batch, performs a gradient update step, and logs the loss.\n",
        "\n",
        "\t\tRemember that `batch` is a dictionary with the single key 'tokens'.\n",
        "\t\t'''\n",
        "        # YOUR CODE HERE\n",
        "\t\tpass\n",
        "\n",
        "\n",
        "\tdef validation_step(self, batch: Dict[str, Int[Tensor, \"batch seq\"]]):\n",
        "\t\t'''\n",
        "\t\tCalculates & returns the accuracy on the tokens in the batch (i.e. how often the model's prediction\n",
        "\t\tis correct). Logging should happen in the `train` function (after we've computed the accuracy for\n",
        "\t\tthe whole validation set).\n",
        "\t\t'''\n",
        "        # YOUR CODE HERE\n",
        "\t\tpass\n",
        "\n",
        "\n",
        "\tdef train(self):\n",
        "\t\t'''\n",
        "\t\tTrains the model, for `self.args.epochs` epochs. Also handles wandb initialisation, and early stopping\n",
        "\t\tfor each epoch at `self.args.max_steps_per_epoch` steps.\n",
        "\t\t'''\n",
        "        # YOUR CODE HERE\n",
        "\t\tpass\n",
        "\n",
        "\n",
        "\tdef train_loader(self) -> DataLoader:\n",
        "\t\t'''Returns train loader (as in code above).'''\n",
        "\t\treturn DataLoader(dataset_dict[\"train\"], batch_size=self.args.batch_size, shuffle=True, num_workers=4, pin_memory=True)\n",
        "\n",
        "\n",
        "\tdef test_loader(self) -> DataLoader:\n",
        "\t\t'''Returns test loader (as in code above).'''\n",
        "\t\treturn DataLoader(dataset_dict[\"test\"], batch_size=self.args.batch_size, shuffle=False, num_workers=4, pin_memory=True)"
      ]
    },
    {
      "cell_type": "markdown",
      "metadata": {
        "id": "Gmhxv4U8nzFL"
      },
      "source": [
        "\n",
        "<details>\n",
        "<summary>Solution (one implementation)</summary>\n",
        "\n",
        "\n",
        "```python\n",
        "class TransformerTrainer:\n",
        "\tdef __init__(self, args: TransformerTrainingArgs, model: DemoTransformer):\n",
        "\t\tsuper().__init__()\n",
        "\t\tself.model = model\n",
        "\t\tself.args = args\n",
        "\t\tself.optimizer = t.optim.AdamW(self.model.parameters(), lr=args.lr, weight_decay=args.weight_decay)\n",
        "\t\tself.step = 0\n",
        "\n",
        "\n",
        "\tdef training_step(self, batch: Dict[str, Int[Tensor, \"batch seq\"]]) -> Float[Tensor, \"\"]:\n",
        "\t\t'''\n",
        "\t\tCalculates the loss on the tokens in the batch, performs a gradient update step, and logs the loss.\n",
        "\n",
        "\t\tRemember that `batch` is a dictionary with the single key 'tokens'.\n",
        "\t\t'''\n",
        "        # SOLUTION\n",
        "\t\ttokens = batch[\"tokens\"].to(device)\n",
        "\t\tlogits = self.model(tokens)\n",
        "\t\tloss = -get_log_probs(logits, tokens).mean()\n",
        "\t\tloss.backward()\n",
        "\t\tself.optimizer.step()\n",
        "\t\tself.optimizer.zero_grad()\n",
        "\t\tself.step += 1\n",
        "\t\twandb.log({\"train_loss\": loss}, step=self.step)\n",
        "\t\treturn loss\n",
        "\n",
        "\n",
        "\tdef validation_step(self, batch: Dict[str, Int[Tensor, \"batch seq\"]]):\n",
        "\t\t'''\n",
        "\t\tCalculates & returns the accuracy on the tokens in the batch (i.e. how often the model's prediction\n",
        "\t\tis correct). Logging should happen in the `train` function (after we've computed the accuracy for\n",
        "\t\tthe whole validation set).\n",
        "\t\t'''\n",
        "        # SOLUTION\n",
        "\t\ttokens = batch[\"tokens\"].to(device)\n",
        "\t\tlogits: Tensor = self.model(tokens)[:, :-1]\n",
        "\t\tpredicted_tokens = logits.argmax(dim=-1)\n",
        "\t\tcorrect_predictions = (predicted_tokens == tokens[:, 1:]).flatten()\n",
        "\t\treturn correct_predictions\n",
        "\n",
        "\n",
        "\tdef train(self):\n",
        "\t\t'''\n",
        "\t\tTrains the model, for `self.args.epochs` epochs. Also handles wandb initialisation, and early stopping\n",
        "\t\tfor each epoch at `self.args.max_steps_per_epoch` steps.\n",
        "\t\t'''\n",
        "        # SOLUTION\n",
        "\t\twandb.init(project=self.args.wandb_project, name=self.args.wandb_name, config=self.args)\n",
        "\t\taccuracy = np.nan\n",
        "\n",
        "\t\tprogress_bar = tqdm(total = self.args.max_steps_per_epoch * self.args.epochs)\n",
        "\n",
        "\t\tfor epoch in range(self.args.epochs):\n",
        "\t\t\tfor i, batch in enumerate(self.train_loader()):\n",
        "\t\t\t\tloss = self.training_step(batch)\n",
        "\t\t\t\tprogress_bar.update()\n",
        "\t\t\t\tprogress_bar.set_description(f\"Epoch {epoch+1}, loss: {loss:.3f}, accuracy: {accuracy:.2f}\")\n",
        "\t\t\t\tif i >= self.args.max_steps_per_epoch:\n",
        "\t\t\t\t\tbreak\n",
        "\n",
        "\t\t\tcorrect_predictions = t.concat([self.validation_step(batch) for batch in self.test_loader()])\n",
        "\t\t\taccuracy = correct_predictions.float().mean().item()\n",
        "\t\t\twandb.log({\"accuracy\": accuracy}, step=self.step)\n",
        "\n",
        "\t\twandb.finish()\n",
        "\n",
        "\n",
        "\tdef train_loader(self) -> DataLoader:\n",
        "\t\t'''Returns train loader (as in code above).'''\n",
        "\t\treturn DataLoader(dataset_dict[\"train\"], batch_size=self.args.batch_size, shuffle=True, num_workers=4, pin_memory=True)\n",
        "\n",
        "\n",
        "\tdef test_loader(self) -> DataLoader:\n",
        "\t\t'''Returns test loader (as in code above).'''\n",
        "\t\treturn DataLoader(dataset_dict[\"test\"], batch_size=self.args.batch_size, shuffle=False, num_workers=4, pin_memory=True)\n",
        "```\n",
        "</details>"
      ]
    },
    {
      "cell_type": "markdown",
      "metadata": {
        "id": "yvyAODwP3D8K"
      },
      "source": [
        "Note - this section of the course used to use PyTorch Lightning, but this has now been taken out. You can see the old version of the training code which used PyTorch Lightning in the dropdown below.\n",
        "\n",
        "<details>\n",
        "<summary>PyTorch Lighting training loop</summary>\n",
        "\n",
        "```python\n",
        "class LitTransformer(pl.LightningModule):\n",
        "\tdef __init__(self, args: TransformerTrainingArgs, model: DemoTransformer, data_loader: DataLoader):\n",
        "\t\tsuper().__init__()\n",
        "\t\tself.model = model\n",
        "\t\tself.cfg = model.cfg\n",
        "\t\tself.args = args\n",
        "\t\tself.data_loader = data_loader\n",
        "\n",
        "\tdef forward(self, tokens: Int[Tensor, \"batch position\"]) -> Float[Tensor, \"batch position d_vocab\"]:\n",
        "\t\tlogits = self.model(tokens)\n",
        "\t\treturn logits\n",
        "\n",
        "\tdef training_step(self, batch: Dict[str, Tensor], batch_idx: int) -> Float[Tensor, \"\"]:\n",
        "\t\t'''\n",
        "\t\tHere you compute and return the training loss and some additional metrics for e.g.\n",
        "\t\tthe progress bar or logger.\n",
        "\t\t'''\n",
        "\t\ttokens = batch[\"tokens\"].to(device)\n",
        "\t\tlogits = self.model(tokens)\n",
        "\t\tloss = -get_log_probs(logits, tokens).mean()\n",
        "\t\tself.log(\"train_loss\", loss)\n",
        "\t\treturn loss\n",
        "\n",
        "\tdef configure_optimizers(self):\n",
        "\t\t'''\n",
        "\t\tChoose what optimizers and learning-rate schedulers to use in your optimization.\n",
        "\t\t'''\n",
        "\t\toptimizer = t.optim.AdamW(self.model.parameters(), lr=self.args.lr, weight_decay=self.args.weight_decay)\n",
        "\t\treturn optimizer\n",
        "\n",
        "\tdef train_dataloader(self):\n",
        "\t\treturn self.data_loader\n",
        "\n",
        "\n",
        "litmodel = LitTransformer(args, model, data_loader)\n",
        "logger = WandbLogger(save_dir=args.log_dir, project=args.log_name, name=args.run_name)\n",
        "\n",
        "trainer = pl.Trainer(\n",
        "    max_epochs=args.max_epochs,\n",
        "    logger=logger,\n",
        "    log_every_n_steps=args.log_every_n_steps\n",
        ")\n",
        "trainer.fit(model=litmodel, train_dataloaders=litmodel.data_loader)\n",
        "wandb.finish()\n",
        "```\n",
        "\n",
        "</details>"
      ]
    },
    {
      "cell_type": "code",
      "execution_count": null,
      "metadata": {
        "id": "nWJyh1lon0IH"
      },
      "outputs": [],
      "source": [
        "model = DemoTransformer(model_cfg).to(device)\n",
        "args = TransformerTrainingArgs()\n",
        "trainer = TransformerTrainer(args, model)\n",
        "trainer.train()"
      ]
    },
    {
      "cell_type": "markdown",
      "metadata": {
        "id": "bypGwSMYn2Bl"
      },
      "source": [
        "When you run the code for the first time, you'll have to login to Weights and Biases, and paste an API key into VSCode. After this is done, your Weights and Biases training run will start. It'll give you a lot of output text, one line of which will look like:\n",
        "\n",
        "```\n",
        "View run at https://wandb.ai/<USERNAME>/<PROJECT-NAME>/runs/<RUN-NAME>\n",
        "```\n",
        "\n",
        "which you can click on to visit the run page.\n",
        "\n",
        "> Note - to see the plots more clearly in Weights and Biases, you can click on the **edit panel** of your plot (the small pencil symbol at the top-right), then move the **smoothing** slider to the right."
      ]
    },
    {
      "cell_type": "markdown",
      "metadata": {
        "id": "VLJL82W0oWzF"
      },
      "source": [
        "### A note on this loss curve (optional)\n",
        "\n",
        "\n",
        "What's up with the shape of our loss curve? It seems like we start at around 10-11, drops down very fast, but then levels out. It turns out, this is all to do with the kinds of algorithms the model learns during training.\n",
        "\n",
        "When it starts out, your model will be outputting random noise, which might look a lot like \"predict each token with approximately uniform probability\", i.e. $Q(x) = 1/d_\\text{vocab}$ for all $x$. This gives us a cross entropy loss of $\\log (d_\\text{vocab})$.\n",
        "\n"
      ]
    },
    {
      "cell_type": "code",
      "execution_count": null,
      "metadata": {
        "id": "n0_NVezboOHw"
      },
      "outputs": [],
      "source": [
        "d_vocab = model.cfg.d_vocab\n",
        "\n",
        "print(f\"d_vocab = {d_vocab}\")\n",
        "print(f\"Cross entropy loss on uniform distribution = {math.log(d_vocab)}\")"
      ]
    },
    {
      "cell_type": "markdown",
      "metadata": {
        "id": "oLbVtVOYoQp5"
      },
      "source": [
        "The next thing we might expect the model to learn is the frequencies of words in the english language. After all, small common tokens like `\" and\"` or `\" the\"` might appear much more frequently than others. This would give us an average cross entropy loss of:\n",
        "\n",
        "$$\n",
        "- \\sum_x p_x \\log p_x\n",
        "$$\n",
        "\n",
        "where $p_x$ is the actual frequency of the word in our training data.\n",
        "\n",
        "We can evaluate this quantity as follows:"
      ]
    },
    {
      "cell_type": "code",
      "execution_count": null,
      "metadata": {
        "id": "PYLIco76oSeX"
      },
      "outputs": [],
      "source": [
        "toks = tokenized_dataset[:][\"tokens\"].flatten()\n",
        "\n",
        "d_vocab = model.cfg.d_vocab\n",
        "freqs = t.bincount(toks, minlength=d_vocab)\n",
        "probs = freqs.float() / freqs.sum()\n",
        "\n",
        "distn = t.distributions.categorical.Categorical(probs=probs)\n",
        "entropy = distn.entropy()\n",
        "\n",
        "print(f\"Entropy of training data = {entropy}\")"
      ]
    },
    {
      "cell_type": "markdown",
      "metadata": {
        "id": "cQwiLxr6oUUq"
      },
      "source": [
        "After unigram frequencies, the next thing our model usually learns is **bigram frequencies** (i.e. the frequency of pairs of adjacent tokens in the training data). For instance, `\"I\"` and `\" am\"` are common tokens, but their bigram frequency is much higher than it would be if they occurred independently. Bigram frequencies actually take you pretty far, since they also help with:\n",
        "\n",
        "* Some simple grammatical rules (e.g. a full stop being followed by a capitalized word)\n",
        "* Weird quirks of tokenization (e.g. `\" manip\"` being followed by `\"ulative\"`)\n",
        "* Common names (e.g. `\"Barack\"` being followed by `\" Obama\"`)\n",
        "\n",
        "\n",
        "After approximating bigram frequencies, we need to start using smarter techniques, like trigrams (which can only be implemented using attention heads), **induction heads** (which we'll learn a lot more about in the next set of exercises!), and fact memorization or more basic grammar and syntax rules. Marginal improvement starts getting a lot harder around here, leading to a flattening of our loss curve."
      ]
    },
    {
      "cell_type": "markdown",
      "metadata": {
        "id": "hrSd3-YnfHN9"
      },
      "source": [
        "# 4️⃣ (Bonus) Sampling from a Transformer\n"
      ]
    },
    {
      "cell_type": "markdown",
      "metadata": {
        "id": "LdezwBEFfHN9"
      },
      "source": [
        "> ##### Learning objectives\n",
        ">\n",
        "> * Learn how to sample from a transformer\n",
        ">     * This includes basic methods like greedy search or top-k, and more advanced methods like beam search\n",
        "> * Learn how to cache the output of a transformer, so that it can be used to generate text more efficiently\n",
        ">     * Optionally, rewrite your sampling functions to make use of your caching methods\n"
      ]
    },
    {
      "cell_type": "markdown",
      "metadata": {
        "id": "c7C6E0bFfHN9"
      },
      "source": [
        "One obvious method to sample tokens from a distribution would be to always take the token assigned the highest probability. But this can lead to some boring and repetitive outcomes, and at worst it can lock our transformer's output into a loop.\n",
        "\n",
        "First, you should read HuggingFace's blog post [How to generate text: using different decoding methods for language generation with Transformers](https://huggingface.co/blog/how-to-generate).\n",
        "\n",
        "Once you've done that, you can work through the `TransformerSampler` class below, and implement the different sampling methods. Each method will come with its own tests, and demo code for you to run.\n"
      ]
    },
    {
      "cell_type": "code",
      "execution_count": null,
      "metadata": {
        "id": "aviyrTWefHN9"
      },
      "outputs": [],
      "source": [
        "model_cfg = Config()\n",
        "model = DemoTransformer(model_cfg).to(device)\n",
        "model.load_state_dict(reference_gpt2.state_dict(), strict=False)\n",
        "\n",
        "tokenizer = reference_gpt2.tokenizer"
      ]
    },
    {
      "cell_type": "code",
      "execution_count": null,
      "metadata": {
        "id": "4p1szCj1fHN9"
      },
      "outputs": [],
      "source": [
        "class TransformerSampler:\n",
        "\n",
        "    def __init__(self, model: DemoTransformer, tokenizer: GPT2TokenizerFast):\n",
        "        self.model = model\n",
        "        self.cfg = model.cfg\n",
        "        self.tokenizer = tokenizer\n",
        "\n",
        "    @t.inference_mode()\n",
        "    def sample(self, prompt: str, max_tokens_generated=100, verbose=False, **kwargs):\n",
        "        '''\n",
        "        Returns a string of autoregressively generated text, starting from the prompt.\n",
        "\n",
        "        Sampling terminates at max_tokens_generated, or when the model generates an\n",
        "        end-of-sequence token.\n",
        "\n",
        "        kwargs are passed to sample_next_token, to give detailed instructions on how\n",
        "        new tokens are chosen.\n",
        "        '''\n",
        "        pass\n",
        "\n",
        "    @t.inference_mode()\n",
        "    def beam_search(\n",
        "        self,\n",
        "        prompt: str,\n",
        "        num_return_sequences: int,\n",
        "        num_beams: int,\n",
        "        max_new_tokens: int,\n",
        "        no_repeat_ngram_size: int = 0,\n",
        "        verbose=False\n",
        "    ) -> List[Tuple[float, t.Tensor]]:\n",
        "        '''\n",
        "        Returns a string of autoregressively generated text, starting from the prompt.\n",
        "\n",
        "        Sampling terminates at max_tokens_generated, or when the model generates an\n",
        "        end-of-sequence token.\n",
        "\n",
        "        kwargs are passed to sample_next_token, to give detailed instructions on how\n",
        "        new tokens are chosen.\n",
        "        '''\n",
        "        pass\n",
        "\n",
        "\n",
        "    @staticmethod\n",
        "    def sample_next_token(\n",
        "        input_ids: Int[Tensor, \"seq_len\"],\n",
        "        logits: Float[Tensor, \"seq_len d_vocab\"],\n",
        "        temperature=1.0,\n",
        "        top_k=0,\n",
        "        top_p=0.0,\n",
        "        frequency_penalty=0.0,\n",
        "        seed=None\n",
        "    ):\n",
        "        assert input_ids.ndim == 1, \"input_ids should be a 1D sequence of token ids\"\n",
        "        assert temperature >= 0, \"Temperature should be non-negative\"\n",
        "        assert 0 <= top_p <= 1.0, \"Top-p must be a probability\"\n",
        "        assert 0 <= top_k, \"Top-k must be non-negative\"\n",
        "        assert not (top_p != 0 and top_k != 0), \"At most one of top-p and top-k supported\"\n",
        "\n",
        "        # Set random seeds for reproducibility\n",
        "        if seed is not None:\n",
        "            t.manual_seed(seed)\n",
        "            np.random.seed(seed)\n",
        "\n",
        "        # Apply all the specialized sampling methods\n",
        "        if temperature == 0:\n",
        "            return TransformerSampler.greedy_search(logits)\n",
        "        elif temperature != 1.0:\n",
        "            logits = TransformerSampler.apply_temperature(logits, temperature)\n",
        "        if frequency_penalty != 0.0:\n",
        "            logits = TransformerSampler.apply_frequency_penalty(input_ids, logits, frequency_penalty)\n",
        "        if top_k > 0:\n",
        "            return TransformerSampler.sample_top_k(logits, top_k)\n",
        "        if top_p > 0.0:\n",
        "            return TransformerSampler.sample_top_p(logits, top_p)\n",
        "        return TransformerSampler.sample_basic(logits)\n",
        "\n",
        "\n",
        "    @staticmethod\n",
        "    def greedy_search(logits: Float[Tensor, \"d_vocab\"]) -> int:\n",
        "        '''\n",
        "        Returns the most likely token (as an int).\n",
        "        '''\n",
        "        out = logits.argmax().item()\n",
        "        return out\n",
        "\n",
        "\n",
        "    @staticmethod\n",
        "    def apply_temperature(logits: Float[Tensor, \"d_vocab\"], temperature: float) -> Float[Tensor, \"d_vocab\"]:\n",
        "        '''\n",
        "        Applies temperature scaling to the logits.\n",
        "        '''\n",
        "        pass\n",
        "\n",
        "    @staticmethod\n",
        "    def apply_frequency_penalty(input_ids: Int[Tensor, \"seq_len\"], logits: Float[Tensor, \"d_vocab\"], freq_penalty: float) -> Float[Tensor, \"d_vocab\"]:\n",
        "        '''\n",
        "        Applies a frequency penalty to the logits.\n",
        "        '''\n",
        "        pass\n",
        "\n",
        "    @staticmethod\n",
        "    def sample_basic(logits: Float[Tensor, \"d_vocab\"]) -> int:\n",
        "        '''\n",
        "        Samples from the distribution defined by the logits.\n",
        "        '''\n",
        "        pass\n",
        "\n",
        "    @staticmethod\n",
        "    def sample_top_k(logits: Float[Tensor, \"d_vocab\"], k: int) -> int:\n",
        "        '''\n",
        "        Samples from the top k most likely tokens.\n",
        "        '''\n",
        "        pass\n",
        "\n",
        "    @staticmethod\n",
        "    def sample_top_p(logits: Float[Tensor, \"d_vocab\"], top_p: float, min_tokens_to_keep: int = 1) -> int:\n",
        "        '''\n",
        "        Samples from the most likely tokens which make up at least p cumulative probability.\n",
        "        '''\n",
        "        pass"
      ]
    },
    {
      "cell_type": "markdown",
      "metadata": {
        "id": "lwA5ge9KfHN9"
      },
      "source": [
        "## Main Sampling Function\n",
        "\n",
        "The first thing you should do is implement the `sample` method.\n",
        "\n",
        "### Exercise - implement `sample`\n",
        "\n",
        "```c\n",
        "Difficulty: 🟠🟠🟠⚪⚪\n",
        "Importance: 🟠🟠🟠⚪⚪\n",
        "\n",
        "You should spend up to 20-25 minutes on this exercise.\n",
        "```\n",
        "\n",
        "This function takes in a prompt (in the form of a string), encodes it as a sequence of token ids using `self.tokenizer.encode`, and then continually generates new tokens by repeating the following steps:\n",
        "\n",
        "1. Passing the tokenized prompt through the model to get logits,\n",
        "2. Taking the logit vector corresponding to the last token in the prompt (i.e. the prediction for the *next* token),\n",
        "3. Sampling from this distribution to get a new token, using `self.sample_next_token(input_ids, logits, **kwargs)` (here, `kwargs` contains all the sampling-specific arguments, e.g. temperature, top-k, etc.),\n",
        "4. Appending this new token to the input tokens, and repeating the process until we meet one of two termination critera:\n",
        "    * We generate `max_tokens_generated` new tokens, or\n",
        "    * We generate the end-of-sequence token (which we can access via `self.tokenizer.eos_token_id`).\n",
        "\n",
        "Finally, we use `self.tokenizer.decode` to convert the generated token ids back into a string, and return this string.\n",
        "\n",
        "We also have a `verbose` argument - when this is true you can print your output while it's being sampled.\n",
        "\n",
        "Below is some code which tests your sampling function by performing greedy sampling (which means always choosing the most likely next token at each step).\n",
        "\n",
        "<details>\n",
        "<summary>Why does <code>temperature=0.0</code> correspond to greedy sampling?</summary>\n",
        "\n",
        "To apply a temperature to our sampling (as we'll see later) means to scale all logits by `(1 / temperature)`. The basic intuition here is:\n",
        "\n",
        "* A higher temperature means a smaller scale factor, so the logits all approach zero, i.e. uniform distribution, and the sampling process is a lot more random (producing more diverse and varied outputs)\n",
        "* A lower temperature means a larger scale factor, so the logits all approach infinity, i.e. a dirac delta function, and the sampling process is a lot more deterministic (producing less varied output)\n",
        "\n",
        "As temperature gets close to zero, the difference between the largest logit and second largest logit becomes very large, so the distribution tends to \"probability of 1 on the highest-likelihood token\", i.e. greedy sampling. You can derive this formally if you prefer.\n",
        "</details>\n",
        "\n",
        "A few hints:\n",
        "\n",
        "* Don't forget about tensor shapes! Your model's input should always have a batch dimension, i.e. it should be shape `(1, seq_len)`.\n",
        "* Also remember to have your tensors be on the same device (we have a global `device` variable).\n",
        "* Remember to put your model in evaluation mode, using `model.eval()`.\n"
      ]
    },
    {
      "cell_type": "code",
      "execution_count": null,
      "metadata": {
        "id": "loDmpBfmfHN9"
      },
      "outputs": [],
      "source": [
        "sampler = TransformerSampler(model, tokenizer)\n",
        "\n",
        "prompt = \"Jingle bells, jingle bells, jingle all the way\"\n",
        "print(f\"Greedy decoding with prompt: {prompt!r}\\n\")\n",
        "\n",
        "output = sampler.sample(prompt, max_tokens_generated=8, temperature=0.0)\n",
        "print(f\"Your model said: {output!r}\\n\")\n",
        "\n",
        "expected = \"Jingle bells, jingle bells, jingle all the way up to the top of the mountain.\"\n",
        "assert output == expected\n",
        "\n",
        "print(\"Tests passed!\")"
      ]
    },
    {
      "cell_type": "markdown",
      "metadata": {
        "id": "OBqvX5B_fHN-"
      },
      "source": [
        "<details>\n",
        "<summary>Solution</summary>\n",
        "\n",
        "```python\n",
        "@t.inference_mode()\n",
        "def sample(self, prompt, max_tokens_generated=100, verbose=False, **kwargs):\n",
        "    # SOLUTION\n",
        "    self.model.eval()\n",
        "    input_ids = self.tokenizer.encode(prompt, return_tensors=\"pt\").to(device)[0]\n",
        "\n",
        "    for i in range(max_tokens_generated):\n",
        "        # Get new logits (make sure we don't pass in more tokens than the model's context length)\n",
        "        logits = self.model(input_ids[None, -self.cfg.n_ctx:])\n",
        "        # We only take logits for the last token, because this is what we're sampling\n",
        "        logits = logits[0, -1]\n",
        "        # Get next token (as a tensor of size (1, 1) so we can concat it to input_ids)\n",
        "        next_token = t.tensor([self.sample_next_token(input_ids, logits, **kwargs)], device=device)\n",
        "        # Create new input ids string, with shape (1, old_seq_len + 1)\n",
        "        input_ids = t.cat([input_ids, next_token], dim=-1)\n",
        "        # Print out results, if required\n",
        "        if verbose:\n",
        "            print(self.tokenizer.decode(input_ids), end=\"\\r\")\n",
        "        # If our new token was the end-of-text token, stop\n",
        "        if next_token == getattr(self.tokenizer, \"eos_token_id\", None):\n",
        "            break\n",
        "    \n",
        "    return self.tokenizer.decode(input_ids)\n",
        "```\n",
        "```python\n",
        "class TransformerSampler:\n",
        "\n",
        "    def __init__(self, model: DemoTransformer, tokenizer: GPT2TokenizerFast):\n",
        "        self.model = model\n",
        "        self.cfg = model.cfg\n",
        "        self.tokenizer = tokenizer\n",
        "\n",
        "    @t.inference_mode()\n",
        "    def sample(self, prompt: str, max_tokens_generated=100, verbose=False, **kwargs):\n",
        "        '''\n",
        "        Returns a string of autoregressively generated text, starting from the prompt.\n",
        "\n",
        "        Sampling terminates at max_tokens_generated, or when the model generates an\n",
        "        end-of-sequence token.\n",
        "\n",
        "        kwargs are passed to sample_next_token, to give detailed instructions on how\n",
        "        new tokens are chosen.\n",
        "        '''\n",
        "        # SOLUTION\n",
        "        self.model.eval()\n",
        "        input_ids = self.tokenizer.encode(prompt, return_tensors=\"pt\").to(device)[0]\n",
        "\n",
        "        for i in range(max_tokens_generated):\n",
        "            # Get new logits (make sure we don't pass in more tokens than the model's context length)\n",
        "            logits = self.model(input_ids[None, -self.cfg.n_ctx:])\n",
        "            # We only take logits for the last token, because this is what we're sampling\n",
        "            logits = logits[0, -1]\n",
        "            # Get next token (as a tensor of size (1, 1) so we can concat it to input_ids)\n",
        "            next_token = t.tensor([TransformerSampler.sample_next_token(input_ids, logits, **kwargs)], device=device)\n",
        "            # Create new input ids string, with shape (1, old_seq_len + 1)\n",
        "            input_ids = t.cat([input_ids, next_token], dim=-1)\n",
        "            # Print out results, if required\n",
        "            if verbose:\n",
        "                print(self.tokenizer.decode(input_ids), end=\"\\r\")\n",
        "            # If our new token was the end-of-text token, stop\n",
        "            if next_token == getattr(self.tokenizer, \"eos_token_id\", None):\n",
        "                break\n",
        "        \n",
        "        return self.tokenizer.decode(input_ids)\n",
        "    \n",
        "    \n",
        "    \n",
        "    @t.inference_mode()\n",
        "    def beam_search(\n",
        "        self,\n",
        "        prompt: str,\n",
        "        num_return_sequences: int,\n",
        "        num_beams: int,\n",
        "        max_new_tokens: int,\n",
        "        no_repeat_ngram_size: int = 0,\n",
        "        verbose=False\n",
        "    ) -> List[Tuple[float, t.Tensor]]:\n",
        "        '''\n",
        "        Returns a string of autoregressively generated text, starting from the prompt.\n",
        "\n",
        "        Sampling terminates at max_tokens_generated, or when the model generates an\n",
        "        end-of-sequence token.\n",
        "\n",
        "        kwargs are passed to sample_next_token, to give detailed instructions on how\n",
        "        new tokens are chosen.\n",
        "        '''\n",
        "        pass\n",
        "    \n",
        "\n",
        "    @staticmethod\n",
        "    def sample_next_token(\n",
        "        input_ids: Int[Tensor, \"seq_len\"],\n",
        "        logits: Float[Tensor, \"seq_len d_vocab\"],\n",
        "        temperature=1.0,\n",
        "        top_k=0,\n",
        "        top_p=0.0,\n",
        "        frequency_penalty=0.0,\n",
        "        seed=None\n",
        "    ):\n",
        "        assert input_ids.ndim == 1, \"input_ids should be a 1D sequence of token ids\"\n",
        "        assert temperature >= 0, \"Temperature should be non-negative\"\n",
        "        assert 0 <= top_p <= 1.0, \"Top-p must be a probability\"\n",
        "        assert 0 <= top_k, \"Top-k must be non-negative\"\n",
        "        assert not (top_p != 0 and top_k != 0), \"At most one of top-p and top-k supported\"\n",
        "\n",
        "        # Set random seeds for reproducibility\n",
        "        if seed is not None:\n",
        "            t.manual_seed(seed)\n",
        "            np.random.seed(seed)\n",
        "\n",
        "        # Apply all the specialized sampling methods\n",
        "        if temperature == 0:\n",
        "            return TransformerSampler.greedy_search(logits)\n",
        "        elif temperature != 1.0:\n",
        "            logits = TransformerSampler.apply_temperature(logits, temperature)\n",
        "        if frequency_penalty != 0.0:\n",
        "            logits = TransformerSampler.apply_frequency_penalty(input_ids, logits, frequency_penalty)\n",
        "        if top_k > 0:\n",
        "            return TransformerSampler.sample_top_k(logits, top_k)\n",
        "        if top_p > 0.0:\n",
        "            return TransformerSampler.sample_top_p(logits, top_p)\n",
        "        return TransformerSampler.sample_basic(logits)\n",
        "\n",
        "\n",
        "    @staticmethod\n",
        "    def greedy_search(logits: Float[Tensor, \"d_vocab\"]) -> int:\n",
        "        '''\n",
        "        Returns the most likely token (as an int).\n",
        "        '''\n",
        "        out = logits.argmax().item()\n",
        "        return out\n",
        "    \n",
        "\n",
        "    @staticmethod\n",
        "    def apply_temperature(logits: Float[Tensor, \"d_vocab\"], temperature: float) -> Float[Tensor, \"d_vocab\"]:\n",
        "        '''\n",
        "        Applies temperature scaling to the logits.\n",
        "        '''\n",
        "        # SOLUTION\n",
        "        return logits / temperature\n",
        "    \n",
        "\n",
        "\n",
        "    @staticmethod\n",
        "    def apply_frequency_penalty(input_ids: Int[Tensor, \"seq_len\"], logits: Float[Tensor, \"d_vocab\"], freq_penalty: float) -> Float[Tensor, \"d_vocab\"]:\n",
        "        '''\n",
        "        Applies a frequency penalty to the logits.\n",
        "        '''\n",
        "        # SOLUTION\n",
        "        d_vocab = logits.size(0)\n",
        "        id_freqs = t.bincount(input_ids, minlength=d_vocab)\n",
        "        return logits - freq_penalty * id_freqs\n",
        "    \n",
        "\n",
        "    \n",
        "    @staticmethod\n",
        "    def sample_basic(logits: Float[Tensor, \"d_vocab\"]) -> int:\n",
        "        '''\n",
        "        Samples from the distribution defined by the logits.\n",
        "        '''\n",
        "        # SOLUTION\n",
        "        sampled_token = t.distributions.categorical.Categorical(logits=logits).sample()\n",
        "        return sampled_token.item()\n",
        "    \n",
        "\n",
        "\n",
        "    @staticmethod\n",
        "    def sample_top_k(logits: Float[Tensor, \"d_vocab\"], k: int) -> int:\n",
        "        '''\n",
        "        Samples from the top k most likely tokens.\n",
        "        '''\n",
        "        # SOLUTION\n",
        "        top_k_logits, top_k_token_ids = logits.topk(k)\n",
        "        # Get sampled token (which is an index corresponding to the list of top-k tokens)\n",
        "        sampled_token_idx = t.distributions.categorical.Categorical(logits=top_k_logits).sample()\n",
        "        # Get the actual token id, as an int\n",
        "        return top_k_token_ids[sampled_token_idx].item()\n",
        "    \n",
        "\n",
        "\n",
        "    @staticmethod\n",
        "    def sample_top_p(logits: Float[Tensor, \"d_vocab\"], top_p: float, min_tokens_to_keep: int = 1) -> int:\n",
        "        '''\n",
        "        Samples from the most likely tokens which make up at least p cumulative probability.\n",
        "        '''\n",
        "        # SOLUTION\n",
        "        # Sort logits, and get cumulative probabilities\n",
        "        logits_sorted, indices = logits.sort(descending=True, stable=True)\n",
        "        cumul_probs = logits_sorted.softmax(-1).cumsum(-1)\n",
        "        # Choose which tokens to keep, in the set we sample from\n",
        "        n_keep = t.searchsorted(cumul_probs, top_p, side=\"left\").item() + 1\n",
        "        n_keep = max(n_keep, min_tokens_to_keep)\n",
        "        keep_idx = indices[:n_keep]\n",
        "        keep_logits = logits[keep_idx]\n",
        "        # Perform the sampling\n",
        "        sample = t.distributions.categorical.Categorical(logits=keep_logits).sample()\n",
        "        return keep_idx[sample].item()\n",
        "```\n",
        "</details>\n"
      ]
    },
    {
      "cell_type": "markdown",
      "metadata": {
        "id": "aIx0p0MlfHN-"
      },
      "source": [
        "## Sampling with Categorical\n",
        "\n",
        "Now, we'll move into implementing specific sampling methods.\n",
        "\n",
        "PyTorch provides a [`distributions` package](https://pytorch.org/docs/stable/distributions.html#distribution) with a number of convenient methods for sampling from various distributions.\n",
        "\n",
        "For now, we just need [`t.distributions.categorical.Categorical`](https://pytorch.org/docs/stable/distributions.html#categorical). Use this to implement `sample_basic`, which just samples from the provided logits (which may have already been modified by the temperature and frequency penalties).\n",
        "\n",
        "Note that this will be slow since we aren't batching the samples, but don't worry about speed for now.\n"
      ]
    },
    {
      "cell_type": "markdown",
      "metadata": {
        "id": "DLjEUGqZfHN-"
      },
      "source": [
        "### Exercise - Basic Sampling\n",
        "\n",
        "```c\n",
        "Difficulty: 🟠🟠⚪⚪⚪\n",
        "Importance: 🟠🟠⚪⚪⚪\n",
        "\n",
        "You should spend up to 5-10 minutes on this exercise.\n",
        "```\n",
        "\n",
        "Implement basic sampling in the `TransformerSampler` class above, then run the code below to verify your solution works.\n"
      ]
    },
    {
      "cell_type": "code",
      "execution_count": null,
      "metadata": {
        "id": "cSA2Sr0FfHN-"
      },
      "outputs": [],
      "source": [
        "prompt = \"John and Mary went to the\"\n",
        "input_ids = tokenizer.encode(prompt, return_tensors=\"pt\").to(device)\n",
        "logits = model(input_ids)[0, -1]\n",
        "\n",
        "expected_top_5 = {\n",
        "    \" church\": 0.0648,\n",
        "    \" house\": 0.0367,\n",
        "    \" temple\": 0.0145,\n",
        "    \" same\": 0.0104,\n",
        "    \" Church\": 0.0097\n",
        "}\n",
        "frequency_of_top_5 = defaultdict(int)\n",
        "\n",
        "N = 10_000\n",
        "for _ in tqdm(range(N)):\n",
        "    token = TransformerSampler.sample_next_token(input_ids.squeeze(), logits)\n",
        "    frequency_of_top_5[tokenizer.decode(token)] += 1\n",
        "\n",
        "for word in expected_top_5:\n",
        "    expected_freq = expected_top_5[word]\n",
        "    observed_freq = frequency_of_top_5[word] / N\n",
        "    print(f\"Word: {word!r:<9}. Expected freq {expected_freq:.4f}, observed freq {observed_freq:.4f}\")\n",
        "    assert abs(observed_freq - expected_freq) < 0.01, \"Try increasing N if this fails by a small amount.\"\n",
        "\n",
        "print(\"Tests passed!\")"
      ]
    },
    {
      "cell_type": "markdown",
      "metadata": {
        "id": "up_8JOclfHN-"
      },
      "source": [
        "<details>\n",
        "<summary>Solution</summary>\n",
        "\n",
        "```python\n",
        "def sample_basic(logits: t.Tensor) -> int:\n",
        "    '''\n",
        "    logits: shape (vocab_size, ) - unnormalized log-probabilities\n",
        "\n",
        "    Return: a sampled token\n",
        "    '''\n",
        "    distribution = t.distributions.categorical.Categorical(logits=logits)\n",
        "    out = distribution.sample().item()\n",
        "    assert isinstance(out, int)\n",
        "    return out\n",
        "```\n",
        "</details>\n"
      ]
    },
    {
      "cell_type": "markdown",
      "metadata": {
        "id": "lXLHfTYzfHN-"
      },
      "source": [
        "### Exercise - Temperature\n",
        "\n",
        "```c\n",
        "Difficulty: 🟠⚪⚪⚪⚪\n",
        "Importance: 🟠🟠⚪⚪⚪\n",
        "\n",
        "You should spend up to 5-10 minutes on this exercise.\n",
        "```\n",
        "\n",
        "Temperature sounds fancy, but it's literally just dividing the logits by the temperature. You should implement this in your `TransformerSampler` class now.\n"
      ]
    },
    {
      "cell_type": "code",
      "execution_count": null,
      "metadata": {
        "id": "wph7hgyMfHN-"
      },
      "outputs": [],
      "source": [
        "logits = t.tensor([1, 2]).log()\n",
        "\n",
        "cold_logits = TransformerSampler.apply_temperature(logits, temperature=0.001)\n",
        "print('A low temperature \"sharpens\" or \"peaks\" the distribution: ', cold_logits)\n",
        "t.testing.assert_close(cold_logits, 1000.0 * logits)\n",
        "\n",
        "hot_logits = TransformerSampler.apply_temperature(logits, temperature=1000.0)\n",
        "print(\"A high temperature flattens the distribution: \", hot_logits)\n",
        "t.testing.assert_close(hot_logits, 0.001 * logits)\n",
        "\n",
        "print(\"Tests passed!\")"
      ]
    },
    {
      "cell_type": "markdown",
      "metadata": {
        "id": "aSf7Ipi1fHN-"
      },
      "source": [
        "<details>\n",
        "<summary>Solution</summary>\n",
        "\n",
        "```python\n",
        "def apply_temperature(logits: t.Tensor, temperature: float) -> t.Tensor:\n",
        "    '''\n",
        "    logits: shape (vocab_size, )\n",
        "\n",
        "    Return: shape (vocab_size, )\n",
        "    '''\n",
        "    assert temperature > 0\n",
        "    return logits / temperature\n",
        "```\n",
        "</details>\n",
        "\n",
        "<details>\n",
        "<summary>Question - what is the limit of applying 'sample_basic' after adjusting with temperature, when temperature goes to zero? How about when temperature goes to infinity?</summary>\n",
        "\n",
        "The limit when temperature goes to zero is greedy search (because dividing by a small number makes the logits very big, in other words the difference between the maximum logit one and all the others will grow).\n",
        "\n",
        "The limit when temperature goes to infinity is uniform random sampling over all words (because all logits will be pushed towards zero).\")\n",
        "</details>\n"
      ]
    },
    {
      "cell_type": "markdown",
      "metadata": {
        "id": "t8H7_bF-fHN_"
      },
      "source": [
        "### Exercise - Frequency Penalty\n",
        "\n",
        "```c\n",
        "Difficulty: 🟠🟠⚪⚪⚪\n",
        "Importance: 🟠⚪⚪⚪⚪\n",
        "\n",
        "You should spend up to 10-15 minutes on this exercise.\n",
        "```\n",
        "\n",
        "The frequency penalty is simple as well: count the number of occurrences of each token, then subtract `freq_penalty` for each occurrence. Hint: use `t.bincount` (documentation [here](https://pytorch.org/docs/stable/generated/torch.bincount.html)) to do this in a vectorized way.\n",
        "\n",
        "You should implement the `apply_frequency_penalty` method in your `TransformerSampler` class now, then run the cell below to check your solution.\n"
      ]
    },
    {
      "cell_type": "markdown",
      "metadata": {
        "id": "6i5tF4StfHN_"
      },
      "source": [
        "<details>\n",
        "<summary>Help - I'm getting a <code>RuntimeError</code>; my tensor sizes don't match.</summary>\n",
        "\n",
        "Look at the documentation page for `t.bincount`. You might need to use the `minlength` argument - why?\n",
        "</details>\n"
      ]
    },
    {
      "cell_type": "code",
      "execution_count": null,
      "metadata": {
        "id": "y9A7LdixfHN_"
      },
      "outputs": [],
      "source": [
        "bieber_prompt = \"And I was like Baby, baby, baby, oh Like, Baby, baby, baby, no Like, Baby, baby, baby, oh I thought you'd always be mine, mine\"\n",
        "input_ids = tokenizer.encode(bieber_prompt, return_tensors=\"pt\")\n",
        "logits = t.ones(tokenizer.vocab_size)\n",
        "penalized_logits = TransformerSampler.apply_frequency_penalty(input_ids.squeeze(), logits, 2.0)\n",
        "\n",
        "assert penalized_logits[5156].item() == -11, \"Expected 6 occurrences of ' baby' with leading space, 1-2*6=-11\"\n",
        "assert penalized_logits[14801].item() == -5, \"Expected 3 occurrences of ' Baby' with leading space, 1-2*3=-5\"\n",
        "\n",
        "print(\"Tests passed!\")"
      ]
    },
    {
      "cell_type": "markdown",
      "metadata": {
        "id": "BvmGa7tkfHN_"
      },
      "source": [
        "<details>\n",
        "<summary>Solution</summary>\n",
        "\n",
        "```python\n",
        "def apply_freq_penalty(input_ids: t.Tensor, logits: t.Tensor, freq_penalty: float) -> t.Tensor:\n",
        "    '''\n",
        "    input_ids: shape (seq, )\n",
        "    logits: shape (vocab_size, )\n",
        "    Return: shape (vocab_size, )\n",
        "    '''\n",
        "    (vocab_size,) = logits.shape\n",
        "    id_freqs = t.bincount(input_ids, minlength=vocab_size)\n",
        "    return logits - freq_penalty * id_freqs\n",
        "```\n",
        "</details>\n"
      ]
    },
    {
      "cell_type": "markdown",
      "metadata": {
        "id": "PuNpoR3CfHN_"
      },
      "source": [
        "### Sampling - Manual Testing\n",
        "\n",
        "Run the below cell to get a sense for the `temperature` and `freq_penalty` arguments. Play with your own prompt and try other values.\n",
        "\n",
        "Note: your model can generate newlines or non-printing characters, so calling `print` on generated text sometimes looks awkward on screen. You can call `repr` on the string before printing to have the string escaped nicely.\n"
      ]
    },
    {
      "cell_type": "code",
      "execution_count": null,
      "metadata": {
        "id": "owibsBUjfHN_"
      },
      "outputs": [],
      "source": [
        "sampler = TransformerSampler(model, tokenizer)\n",
        "\n",
        "N_RUNS = 1\n",
        "your_prompt = \"Jingle bells, jingle bells, jingle all the way\"\n",
        "cases = [\n",
        "    (\"High freq penalty\", dict(frequency_penalty=100.0)),\n",
        "    (\"Negative freq penalty\", dict(frequency_penalty=-3.0)),\n",
        "    (\"Too hot!\", dict(temperature=2.0)),\n",
        "    (\"Pleasantly cool\", dict(temperature=0.7)),\n",
        "    (\"Pleasantly warm\", dict(temperature=0.9)),\n",
        "    (\"Too cold!\", dict(temperature=0.01)),\n",
        "]\n",
        "\n",
        "table = Table(\"Name\", \"Kwargs\", \"Output\", title=\"Sampling - Manual Testing\")\n",
        "\n",
        "for (name, kwargs) in cases:\n",
        "    for i in range(N_RUNS):\n",
        "        output = sampler.sample(your_prompt, max_tokens_generated=24, **kwargs)\n",
        "        table.add_row(name, repr(kwargs), repr(output) + \"\\n\")\n",
        "\n",
        "rprint(table)"
      ]
    },
    {
      "cell_type": "markdown",
      "metadata": {
        "id": "v9fFSMW7fHN_"
      },
      "source": [
        "## Top-K Sampling\n",
        "\n",
        "Conceptually, the steps in top-k sampling are:\n",
        "- Find the `top_k` largest probabilities (you can use [`torch.topk`](https://pytorch.org/docs/stable/generated/torch.topk.html))\n",
        "- Set all other probabilities to zero\n",
        "- Normalize and sample\n"
      ]
    },
    {
      "cell_type": "markdown",
      "metadata": {
        "id": "R0hBDuz4fHN_"
      },
      "source": [
        "### Exercise - implement `sample_top_k`\n",
        "\n",
        "```c\n",
        "Difficulty: 🟠🟠⚪⚪⚪\n",
        "Importance: 🟠⚪⚪⚪⚪\n",
        "\n",
        "You should spend up to 5-10 minutes on this exercise.\n",
        "```\n",
        "\n",
        "Implement the method `sample_top_k` now. Your implementation should stay in log-space throughout (don't exponentiate to obtain probabilities). This means you don't actually need to worry about normalizing, because `Categorical` accepts unnormalised logits.\n"
      ]
    },
    {
      "cell_type": "code",
      "execution_count": null,
      "metadata": {
        "id": "HocllGE0fHN_"
      },
      "outputs": [],
      "source": [
        "prompt = \"John and Mary went to the\"\n",
        "input_ids = tokenizer.encode(prompt, return_tensors=\"pt\").to(device)\n",
        "logits = model(input_ids)[0, -1]\n",
        "\n",
        "expected_top_5 = {\n",
        "    \" church\": 0.0648,\n",
        "    \" house\": 0.0367,\n",
        "    \" temple\": 0.0145,\n",
        "    \" same\": 0.0104,\n",
        "    \" Church\": 0.0097\n",
        "}\n",
        "topk_5_sum = sum(expected_top_5.values())\n",
        "\n",
        "observed_freqs = defaultdict(int)\n",
        "\n",
        "N = 10000\n",
        "for _ in tqdm(range(N)):\n",
        "    token = TransformerSampler.sample_next_token(input_ids.squeeze(), logits, top_k=5)\n",
        "    observed_freqs[tokenizer.decode(token)] += 1\n",
        "\n",
        "for word in expected_top_5:\n",
        "    expected_freq = expected_top_5[word] / topk_5_sum\n",
        "    observed_freq = observed_freqs[word] / N\n",
        "    print(f\"Word: {word!r:<9}. Expected freq = {expected_freq:.4f}, observed freq = {observed_freq:.4f}\")\n",
        "    assert abs(observed_freq - expected_freq) < 0.015, \"Try increasing N if this fails by a small amount.\""
      ]
    },
    {
      "cell_type": "markdown",
      "metadata": {
        "id": "Av9U35cSfHOA"
      },
      "source": [
        "<details>\n",
        "<summary>Solution</summary>\n",
        "\n",
        "```python\n",
        "def sample_top_k(logits: t.Tensor, top_k: int) -> int:\n",
        "    '''\n",
        "    logits: shape (vocab_size, ) - unnormalized log-probabilities\n",
        "    top_k: only consider this many of the most likely tokens for sampling\n",
        "\n",
        "    Return: a sampled token\n",
        "    '''\n",
        "    top_logits, top_idx = t.topk(logits, top_k)\n",
        "    idx = t.distributions.categorical.Categorical(logits=top_logits).sample()\n",
        "    return top_idx[idx].item()\n",
        "```\n",
        "</details>\n"
      ]
    },
    {
      "cell_type": "markdown",
      "metadata": {
        "id": "3HElusTNfHOA"
      },
      "source": [
        "### Top-K Sampling - Example\n",
        "\n",
        "The [GPT-2 paper](https://d4mucfpksywv.cloudfront.net/better-language-models/language_models_are_unsupervised_multitask_learners.pdf) famously included an example prompt about unicorns. Now it's your turn to see just how cherry picked this example was.\n",
        "\n",
        "The paper claims they used `top_k=40` and best of 10 samples.\n"
      ]
    },
    {
      "cell_type": "code",
      "execution_count": null,
      "metadata": {
        "id": "24dChHZ1fHOA"
      },
      "outputs": [],
      "source": [
        "sampler = TransformerSampler(model, tokenizer)\n",
        "\n",
        "your_prompt = \"In a shocking finding, scientist discovered a herd of unicorns living in a remote, previously unexplored valley, in the Andes Mountains. Even more surprising to the researchers was the fact that the unicorns spoke perfect English.\"\n",
        "output = sampler.sample(your_prompt, temperature=0.7, top_k=40, max_tokens_generated=64)\n",
        "rprint(f\"Your model said:\\n\\n[bold dark_orange]{output}\")"
      ]
    },
    {
      "cell_type": "markdown",
      "metadata": {
        "id": "kEmLBEn9fHOA"
      },
      "source": [
        "## Top-p aka Nucleus Sampling\n",
        "\n",
        "The basic idea is that we choose the most likely words, up until the total probability of words we've chosen crosses some threshold. Then we sample from those chosen words based on their logits.\n",
        "\n",
        "The steps are:\n",
        "\n",
        "- Sort the probabilities from largest to smallest\n",
        "- Find the cutoff point where the cumulative probability first equals or exceeds `top_p`. We do the cutoff inclusively, keeping the first probability above the threshold.\n",
        "- If the number of kept probabilities is less than `min_tokens_to_keep`, keep that many tokens instead.\n",
        "- Set all other probabilities to zero\n",
        "- Normalize and sample\n",
        "\n",
        "Optionally, refer to the paper [The Curious Case of Neural Text Degeneration](https://arxiv.org/pdf/1904.09751.pdf) for some comparison of different methods.\n"
      ]
    },
    {
      "cell_type": "markdown",
      "metadata": {
        "id": "fAJaTvcefHOA"
      },
      "source": [
        "### Exercise - implement `sample_top_p`\n",
        "\n",
        "```c\n",
        "Difficulty: 🟠🟠🟠⚪⚪\n",
        "Importance: 🟠⚪⚪⚪⚪\n",
        "\n",
        "You should spend up to 15-20 minutes on this exercise.\n",
        "```\n",
        "\n",
        "<details>\n",
        "<summary>Example of top-p sampling (if you're confused)</summary>\n",
        "\n",
        "If our probabilities were `(0.4, 0.3, 0.2, 0.1)` and our cutoff was `top_p=0.8`, then we'd sample from the first three elements (because their total probability is `0.9` which is over the threshold, but the first two only have a total prob of `0.7` which is under the threshold). Once we've chosen to sample from those three, we would renormalise them by dividing by their sum (so the probabilities we use when sampling are `(4/9, 3/9, 2/9)`.\n",
        "</details>\n",
        "\n",
        "<details>\n",
        "<summary>Help - I'm stuck on how to implement this function.</summary>\n",
        "\n",
        "First, sort the logits using the `sort(descending=True)` method (this returns values and indices). Then you can get `cumulative_probs` by applying softmax to these logits and taking the cumsum. Then, you can decide how many probabilities to keep by using the `t.searchsorted` function.\n",
        "    \n",
        "Once you've decided which probabilities to keep, it's easiest to sample from them using the original logits (you should have preserved the indices when you called `logits.sort`). This way, you don't need to worry about renormalising like you would if you were using probabilities.\n",
        "</details>\n"
      ]
    },
    {
      "cell_type": "code",
      "execution_count": null,
      "metadata": {
        "id": "ndUIZuRJfHOA"
      },
      "outputs": [],
      "source": [
        "prompt = \"John and Mary went to the\"\n",
        "input_ids = tokenizer.encode(prompt, return_tensors=\"pt\").to(device)\n",
        "logits = model(input_ids)[0, -1]\n",
        "\n",
        "expected_top_10pct = {\n",
        "    \" church\": 0.0648,\n",
        "    \" house\": 0.0367, # These are the two most likely tokens, and add up to >10%\n",
        "}\n",
        "top_10pct_sum = sum(expected_top_10pct.values())\n",
        "\n",
        "observed_freqs = defaultdict(int)\n",
        "\n",
        "N = 10000\n",
        "for _ in tqdm(range(N)):\n",
        "    token = TransformerSampler.sample_next_token(input_ids.squeeze(), logits, top_p=0.1)\n",
        "    observed_freqs[tokenizer.decode(token)] += 1\n",
        "\n",
        "for word in expected_top_10pct:\n",
        "    expected_freq = expected_top_10pct[word] / top_10pct_sum\n",
        "    observed_freq = observed_freqs[word] / N\n",
        "    print(f\"Word: {word!r:<9}. Expected freq {expected_freq:.4f}, observed freq {observed_freq:.4f}\")\n",
        "    assert abs(observed_freq - expected_freq) < 0.01, \"Try increasing N if this fails by a small amount.\""
      ]
    },
    {
      "cell_type": "markdown",
      "metadata": {
        "id": "M8IRcmg2fHOA"
      },
      "source": [
        "<details>\n",
        "<summary>Solution</summary>\n",
        "\n",
        "```python\n",
        "def sample_top_p(logits: t.Tensor, top_p: float, min_tokens_to_keep: int = 1) -> int:\n",
        "    '''\n",
        "    logits: shape (vocab_size, ) - unnormalized log-probabilities\n",
        "    Return: a sampled token\n",
        "    '''\n",
        "    logits_sorted, indices = logits.sort(descending=True, stable=True)\n",
        "    cumul_probs = logits_sorted.softmax(-1).cumsum(-1)\n",
        "    n_keep = t.searchsorted(cumul_probs, top_p, side=\"right\").item() + 1\n",
        "    n_keep = max(n_keep, min_tokens_to_keep)\n",
        "    keep_idx = indices[:n_keep]\n",
        "    keep_logits = logits[keep_idx]\n",
        "    sample = t.distributions.categorical.Categorical(logits=keep_logits).sample()\n",
        "    return keep_idx[sample].item()\n",
        "```\n",
        "</details>\n"
      ]
    },
    {
      "cell_type": "markdown",
      "metadata": {
        "id": "qhrTvZp6fHOA"
      },
      "source": [
        "### Top-p Sampling - Example\n"
      ]
    },
    {
      "cell_type": "code",
      "execution_count": null,
      "metadata": {
        "id": "vCBMUxzufHOE"
      },
      "outputs": [],
      "source": [
        "sampler = TransformerSampler(model, tokenizer)\n",
        "\n",
        "your_prompt = \"Eliezer Shlomo Yudkowsky (born September 11, 1979) is an American decision and artificial intelligence (AI) theorist and writer, best known for\"\n",
        "output = sampler.sample(your_prompt, temperature=0.7, top_p=0.95, max_tokens_generated=64)\n",
        "rprint(f\"Your model said:\\n\\n[bold dark_orange]{output}\")"
      ]
    },
    {
      "cell_type": "markdown",
      "metadata": {
        "id": "a6PVv6PHfHOE"
      },
      "source": [
        "## Beam search\n",
        "\n",
        "Finally, we'll implement a more advanced way of searching over output: **beam search**. You should read the [HuggingFace page](https://huggingface.co/blog/how-to-generate#beam-search) on beam search before moving on.\n",
        "\n",
        "In beam search, we maintain a list of size `num_beams` completions which are the most likely completions so far as measured by the product of their probabilities. Since this product can become very small, we use the sum of log probabilities instead. Note - log probabilities are *not* the same as your model's output. We get log probabilities by first taking softmax of our output and then taking log. You can do this with the [`log_softmax`](https://pytorch.org/docs/stable/generated/torch.nn.functional.log_softmax.html) function / tensor method.\n"
      ]
    },
    {
      "cell_type": "markdown",
      "metadata": {
        "id": "jsRXQwecfHOE"
      },
      "source": [
        "<details>\n",
        "<summary>Log probabilities are equal to the logit output after being translated by some amount X (where X is a function of the original logit output). Can you prove this?</summary>\n",
        "\n",
        "Suppose our vector of logits is $x$, and we take softmax to get a vector of probabilities $p$, then log again to get a vector of log probabilities $l$. Then the $i$-th element of this vector of logprobs is:\n",
        "\n",
        "$$\n",
        "\\begin{align}\n",
        "l_i &= \\log p_i \\\\\n",
        "&= \\log \\frac{\\exp(x_i)}{\\sum_j \\exp(x_j)} \\\\\n",
        "&= x_i - \\log \\sum_j \\exp(x_j) \\\\\n",
        "&= x_i - C\n",
        "\\end{align}\n",
        "$$\n",
        "\n",
        "where $C = \\log \\sum_j \\exp(x_j)$ is the same for all elements. So we can see that $l_i$ is equal to the logit output $x_i$ after being translated by $C$.\n",
        "\n",
        "It's important not to mix up logits and logprobs!\n",
        "</details>\n",
        "\n",
        "<details>\n",
        "<summary>Why do you think we use log softmax rather than logit output?</summary>\n",
        "\n",
        "Logit output is translation invariant. If we had two different beams and we were generating the next tokens in those beams, there would be no reasonable way to compare the two beams to each other, because we could shift the logit vector for one beam by a constant amount without changing the distribution.\n",
        "\n",
        "</details>\n"
      ]
    },
    {
      "cell_type": "markdown",
      "metadata": {
        "id": "-dQFaVpFfHOE"
      },
      "source": [
        "At each iteration, we run the batch of completions through the model and take the log-softmax to obtain `d_vocab` log-probs for each completion, or `num_beams * d_vocab` possible next completions in total.\n",
        "\n",
        "If we kept all of these, then we would have `num_beams * d_vocab * d_vocab` completions after the next iteration which is way too many, so instead we sort them by their score and loop through from best (highest) log probability to worst (lowest).\n",
        "\n",
        "The illustration below might help (based on real results from this method). Here, we have the following hyperparameters:\n",
        "\n",
        "```python\n",
        "num_beams = 3\n",
        "max_new_tokens = 3\n",
        "num_return_sequences = 2\n",
        "```\n"
      ]
    },
    {
      "cell_type": "markdown",
      "metadata": {
        "id": "JhmYgrg4fHOE"
      },
      "source": [
        "<img src=\"https://raw.githubusercontent.com/callummcdougall/computational-thread-art/master/example_images/misc/beam-search.png\" width=\"1000\">\n"
      ]
    },
    {
      "cell_type": "markdown",
      "metadata": {
        "id": "ZnZQieUBfHOF"
      },
      "source": [
        "Note how after each \"generate\" stage, we have `num_beams ** 2` possible completions, which we then filter down to `num_beams`. Can you see why we need to generate this many (and what might happen if we generated fewer)?\n"
      ]
    },
    {
      "cell_type": "markdown",
      "metadata": {
        "id": "Jn-kjeh8fHOF"
      },
      "source": [
        "How do we deal with sequences that terminate early (i.e. by generating an EOS token)? Answer - we append them to the list of completions which we'll return at the end, and remove them from the generation tree. Our algorithm terminates when either all our sequences have length `max_new_tokens` larger than the initial prompt length, or we've generated `num_returns_sequences` terminating sequences.\n"
      ]
    },
    {
      "cell_type": "markdown",
      "metadata": {
        "id": "ZFiBucEHfHOF"
      },
      "source": [
        "### Exercise - implement `beam_search`\n",
        "\n",
        "```c\n",
        "Difficulty: 🟠🟠🟠🟠⚪\n",
        "Importance: 🟠⚪⚪⚪⚪\n",
        "\n",
        "You should spend up to 30-40 minutes on this exercise.\n",
        "```\n",
        "\n",
        "You should now complete the `beam_search` method in your `TransformerSampler` class.\n",
        "\n",
        "We've provided one possible template for you to use: the class `Beams`, with important methods `generate` and `filter` for you to fit in (which correspond to the two stages in the diagram above). There are also a few of helper functions in this class:\n",
        "\n",
        "* `new_beams`, which creates a new `Beams` object from an old one.\n",
        "* `__getitem__`, which allows you to index into a `Beams` object to get a specific batch of beams.\n",
        "* `logprobs_and_completions`, which turns a `Beams` object into a list of (logprob sum, string completion) tuples (useful for getting your final output).\n",
        "* `print`, which prints out the current state of the beams (useful for debugging, if you run `beam_search` with `verbose=True`).\n",
        "\n",
        "You can then fill in the `beam_search` function, using this class and its methods.\n",
        "\n",
        "We've provided unit tests for the `generate` and `filter` functions, so you can verify that these are correct before moving on to the full `beam_search` function.\n",
        "\n",
        "**Note that using the `Beams` class is not strictly necessary, you could fill in the `beam_search` function directly if you prefer.** The `Beams` class is just meant to provide one example way you might implement this function. Often, modular code like this is easier to write and debug, and easier to extend to cover new use cases (e.g. when we use caching in the bonus exercises).\n",
        "\n",
        "#### Why all the n-gram repetition?\n",
        "\n",
        "You should observe that, while the output of beam search is sometimes more fluent than some of the other sampling methods you implement, it also has an unfortunate tendency to repeat sentences or sequences. This makes sense - if the model produces a sentence with a relatively high logit sum, then it will want to produce the same sentence again even if it doesn't make a lot of sense in context.\n",
        "\n",
        "A common solution is to ban repetition of n-grams. We've provided the argument `no_repeat_ngram_size` in the `generate` method for this purpose. Using this argument should prevent the model from repeating any n-grams of that size. Good values of this parameter to try are 2 or 3.\n",
        "\n",
        "However, first you should focus on getting a working version of beam search *without* using this argument.\n",
        "\n",
        "<details>\n",
        "<summary>Hint (for <code>no_repeat_ngram_size</code>)</summary>\n",
        "\n",
        "It might be helpful to implement the following method first. You can use this rather than `torch.topk` in your `generate` method.\n",
        "\n",
        "```python\n",
        "def get_topk_non_repeating(\n",
        "    self,\n",
        "    logprobs: Float[Tensor, \"batch d_vocab\"],\n",
        "    no_repeat_ngram_size: int,\n",
        "    k: int,\n",
        ") -> Tuple[Float[Tensor, \"k\"], Int[Tensor, \"k\"]]:\n",
        "    '''\n",
        "    logprobs:\n",
        "        tensor of the log-probs for the next token\n",
        "    no_repeat_ngram_size:\n",
        "        size of ngram to avoid repeating\n",
        "    k:\n",
        "        number of top logits to return, for each beam in our collection\n",
        "\n",
        "    Returns:\n",
        "        equivalent to the output of `logprobs.topk(dim=-1)`, but makes sure\n",
        "        that no returned tokens would produce an ngram of size  `no_repeat_ngram_size`\n",
        "        which has already appeared in `self.tokens`.\n",
        "    '''\n",
        "    pass\n",
        "```\n",
        "</details>\n"
      ]
    },
    {
      "cell_type": "code",
      "execution_count": null,
      "metadata": {
        "id": "-RhHI8AyfHOF"
      },
      "outputs": [],
      "source": [
        "@dataclass\n",
        "class Beams:\n",
        "    '''Class to store beams during beam search.'''\n",
        "    model: DemoTransformer\n",
        "    tokenizer: GPT2TokenizerFast\n",
        "    logprob_sums: Float[Tensor, \"batch\"]\n",
        "    tokens: Int[Tensor, \"batch seq\"]\n",
        "\n",
        "    def new_beams(self, logprob_sums, tokens) -> \"Beams\":\n",
        "        '''Creates a new Beams object with the same model and tokenizer.'''\n",
        "        return Beams(self.model, self.tokenizer, logprob_sums, tokens)\n",
        "\n",
        "    def __getitem__(self, idx) -> \"Beams\":\n",
        "        '''Allows you to take a slice of the beams object along the batch dimension.'''\n",
        "        return self.new_beams(self.logprob_sums[idx], self.tokens[idx])\n",
        "\n",
        "    @property\n",
        "    def logprobs_and_completions(self) -> List[Tuple[float, str]]:\n",
        "        '''Returns self as a list of logprob sums and completions (useful for getting final output).'''\n",
        "        return [\n",
        "            (logprob_sum.item(), self.tokenizer.decode(tokens))\n",
        "            for (logprob_sum, tokens) in zip(self.logprob_sums, self.tokens)\n",
        "        ]\n",
        "\n",
        "\n",
        "    def generate(self, toks_per_beam: int, no_repeat_ngram_size: Optional[int] = None) -> \"Beams\":\n",
        "        '''\n",
        "        Starting from the current set of beams (which has length `num_beams`), returns a new\n",
        "        set of `num_beams * toks_per_beam`, containing the best `toks_per_beam` continuations for each\n",
        "        of the original beams.\n",
        "\n",
        "        Optional argument `no_repeat_ngram_size` means your model won't generate any sequences with\n",
        "        a repeating n-gram of this length.\n",
        "        '''\n",
        "        pass\n",
        "\n",
        "    def filter(self, num_beams: int) -> Tuple[\"Beams\", \"Beams\"]:\n",
        "        '''\n",
        "        Returns:\n",
        "            best_beams: Beams\n",
        "                filtered version of self, containing all best `num_beams` which are also not terminated.\n",
        "\n",
        "            early_terminations: Beams\n",
        "                filtered version of self, containing all best `num_beams` which are also terminated.\n",
        "                i.e. the sum of lengths of these two should equal `num_beams`.\n",
        "        '''\n",
        "        pass\n",
        "\n",
        "    def print(self, title=\"Best completions\", max_print_chars=80) -> None:\n",
        "        '''\n",
        "        Prints out a set of sequences with their corresponding logitsums.\n",
        "        '''\n",
        "        if len(self.tokens) == 0:\n",
        "            return\n",
        "        table = Table(\"logitsum\", \"completion\", title=title)\n",
        "        for logprob_sum, tokens in zip(self.logprob_sums, self.tokens):\n",
        "            text = self.tokenizer.decode(tokens)\n",
        "            if len(repr(text)) > max_print_chars:\n",
        "                text = text[:int(0.3 * max_print_chars)] + \" ... \" + text[-int(0.7 * max_print_chars):]\n",
        "            table.add_row(f\"{logprob_sum:>8.3f}\", repr(text))\n",
        "        rprint(table)\n",
        "\n",
        "\n",
        "    def get_topk_non_repeating(\n",
        "        self,\n",
        "        logprobs: Float[Tensor, \"batch d_vocab\"],\n",
        "        no_repeat_ngram_size: Optional[int],\n",
        "        k: int,\n",
        "    ) -> Tuple[Float[Tensor, \"k\"], Int[Tensor, \"k\"]]:\n",
        "        '''\n",
        "        logprobs:\n",
        "            tensor of the log-probs for the next token\n",
        "        no_repeat_ngram_size:\n",
        "            size of ngram to avoid repeating\n",
        "        k:\n",
        "            number of top logits to return, for each beam in our collection\n",
        "\n",
        "        Returns:\n",
        "            equivalent to the output of `logprobs.topk(dim=-1)`, but makes sure\n",
        "            that no returned tokens would produce an ngram of size  `no_repeat_ngram_size`\n",
        "            which has already appeared in `self.tokens`.\n",
        "        '''\n",
        "        batch, seq_len = self.tokens.shape\n",
        "        neg_inf = t.tensor(-1.0e4).to(device)\n",
        "\n",
        "        # If completion isn't long enough for a repetition, or we have no restructions, just return topk\n",
        "        if (no_repeat_ngram_size is not None) and (seq_len > no_repeat_ngram_size-1):\n",
        "            # Otherwise, we need to check for ngram repetitions\n",
        "            # First, get the most recent `no_repeat_ngram_size-1` tokens\n",
        "            last_ngram_prefix = self.tokens[:, seq_len - (no_repeat_ngram_size-1):]\n",
        "            # Next, find all the tokens we're not allowed to generate (by going iterating through past ngrams and seeing if those ngram prefixes match the last one)\n",
        "            for i in range(seq_len - (no_repeat_ngram_size-1)):\n",
        "                ngrams = self.tokens[:, i:i+no_repeat_ngram_size] # (batch, ngram)\n",
        "                ngrams_are_repeated = (ngrams[:, :-1] == last_ngram_prefix).all(-1) # (batch,)\n",
        "                ngram_end_tokens = ngrams[:, [-1]] # (batch, 1)\n",
        "                # Fill logprobs with neginf wherever the ngrams are repeated\n",
        "                logprobs[range(batch), ngram_end_tokens] = t.where(\n",
        "                    ngrams_are_repeated,\n",
        "                    neg_inf,\n",
        "                    logprobs[range(batch), ngram_end_tokens],\n",
        "            )\n",
        "\n",
        "        # Finally, get our actual tokens\n",
        "        return logprobs.topk(k=k, dim=-1)\n",
        "\n",
        "\n",
        "@t.inference_mode()\n",
        "def beam_search(\n",
        "    self: TransformerSampler,\n",
        "    prompt: str,\n",
        "    num_return_sequences: int,\n",
        "    num_beams: int,\n",
        "    max_new_tokens: int,\n",
        "    no_repeat_ngram_size: Optional[int] = None,\n",
        "    verbose=False\n",
        ") -> List[Tuple[float, Tensor]]:\n",
        "    '''\n",
        "    Implements a beam search, by repeatedly performing the `generate` and `filter` steps (starting\n",
        "    from the initial prompt) until either of the two stopping criteria are met:\n",
        "\n",
        "        (1) we've generated `max_new_tokens` tokens, or\n",
        "        (2) we've generated `num_returns_sequences` terminating sequences.\n",
        "\n",
        "    To modularize this function, most of the actual complexity is in the Beams class,\n",
        "    in the `generate` and `filter` methods.\n",
        "    '''\n",
        "\n",
        "    assert num_return_sequences <= num_beams\n",
        "    self.model.eval()\n",
        "\n",
        "        pass"
      ]
    },
    {
      "cell_type": "markdown",
      "metadata": {
        "id": "EYDnDhhAfHOF"
      },
      "source": [
        "Example usage of the `Beams` class, and the `print` method (not the logitsums aren't necessarily accurate, this example is just an illustration):\n"
      ]
    },
    {
      "cell_type": "code",
      "execution_count": null,
      "metadata": {
        "id": "_dIOf4f9fHOF"
      },
      "outputs": [],
      "source": [
        "beams = Beams(\n",
        "    model,\n",
        "    tokenizer,\n",
        "    logprob_sums = t.tensor([-10.0, -15.0, -20.0]).to(device),\n",
        "    tokens = t.tensor([\n",
        "        [5661, 318, 262, 2368],\n",
        "        [5661, 318, 262, 1218],\n",
        "        [5661, 318, 262, 717],\n",
        "    ]).to(device)\n",
        ")\n",
        "\n",
        "beams.print()"
      ]
    },
    {
      "cell_type": "markdown",
      "metadata": {
        "id": "O7ndBImyfHOF"
      },
      "source": [
        "And here are some unit tests for your `generate` and `filter` methods:\n"
      ]
    },
    {
      "cell_type": "code",
      "execution_count": null,
      "metadata": {
        "id": "BxrABZUzfHOF"
      },
      "outputs": [],
      "source": [
        "print(\"Testing generate, without no_repeat_ngram_size argument:\")\n",
        "new_beams = beams.generate(toks_per_beam=2)\n",
        "new_beams.print()\n",
        "assert new_beams.logprobs_and_completions[0][1] == \"this is the third time\""
      ]
    },
    {
      "cell_type": "code",
      "execution_count": null,
      "metadata": {
        "id": "QD1Q7u74fHOG"
      },
      "outputs": [],
      "source": [
        "print(\"Testing generate, with no_repeat_ngram_size argument:\")\n",
        "\n",
        "bigram_beams = Beams(\n",
        "    model,\n",
        "    tokenizer,\n",
        "    logprob_sums = t.tensor([-0.0]).to(device),\n",
        "    tokens = t.tensor([[530, 734, 530, 734]]).to(device)\n",
        "    # tokens are \" one two one two\"\n",
        ")\n",
        "\n",
        "# With no_repeat_ngram_size=1, should not generate the token \" one\" or \" two\"\n",
        "new_bigram_beams = bigram_beams.generate(toks_per_beam=3, no_repeat_ngram_size=1)\n",
        "new_bigram_beams.print()\n",
        "assert all([not (completion[1].endswith(\" one\") or completion[1].endswith(\" two\")) for completion in new_bigram_beams.logprobs_and_completions])\n",
        "\n",
        "# With no_repeat_ngram_size=2, it can generate \" two\" (which it should), but not \" one\"\n",
        "new_bigram_beams = bigram_beams.generate(toks_per_beam=3, no_repeat_ngram_size=2)\n",
        "new_bigram_beams.print()\n",
        "assert all([not completion[1].endswith(\" one\") for completion in new_bigram_beams.logprobs_and_completions])\n",
        "assert any([not completion[1].endswith(\" two\") for completion in new_bigram_beams.logprobs_and_completions])\n",
        "\n",
        "print(\"All tests for `generate` passed!\")"
      ]
    },
    {
      "cell_type": "code",
      "execution_count": null,
      "metadata": {
        "id": "U0NG1ZaqfHOG"
      },
      "outputs": [],
      "source": [
        "logprob_sums = t.tensor([-1.0, -2.0]).to(device)\n",
        "tokens = t.tensor([\n",
        "    [19485, 13],\n",
        "    [19485, tokenizer.eos_token_id]\n",
        "]).to(device)\n",
        "\n",
        "beams_with_eos = Beams(model, tokenizer, logprob_sums, tokens)\n",
        "best_beams, early_terminations = beams_with_eos.filter(2)\n",
        "\n",
        "t.testing.assert_close(best_beams.logprob_sums, logprob_sums[[0]])\n",
        "t.testing.assert_close(best_beams.tokens, tokens[[0]])\n",
        "\n",
        "assert early_terminations.logprobs_and_completions == [(-2.0, \"Stop\" + tokenizer.eos_token)]\n",
        "\n",
        "print(\"All tests for `filter` passed!\")"
      ]
    },
    {
      "cell_type": "markdown",
      "metadata": {
        "id": "Shua7jeTfHOG"
      },
      "source": [
        "<details>\n",
        "<summary>Solutions (for <code>generate</code> and <code>filter</code>)</summary>\n",
        "\n",
        "```python\n",
        "def generate(self, toks_per_beam: int, no_repeat_ngram_size: Optional[int] = None) -> \"Beams\":\n",
        "    '''\n",
        "    Starting from the current set of beams (which has length `num_beams`), returns a new\n",
        "    set of `num_beams * toks_per_beam`, containing the best `toks_per_beam` continuations for each\n",
        "    of the original beams.\n",
        "\n",
        "    Optional argument `no_repeat_ngram_size` means your model won't generate any sequences with\n",
        "    a repeating n-gram of this length (don't worry about implementing this until later).\n",
        "    '''\n",
        "    # SOLUTION\n",
        "\n",
        "    # Get the output logprobs for the next token (for every sequence in current beams)\n",
        "    logprobs: Tensor = self.model(self.tokens)[:, -1, :].log_softmax(-1)\n",
        "\n",
        "    # Get the top `toks_per_beam` tokens for each sequence\n",
        "    topk_logprobs, topk_tokenIDs = logprobs.topk(k=toks_per_beam)\n",
        "\n",
        "    # Get all of the new possible beams, via einops operations\n",
        "    #   Here, we're effectively flattening out the batch dimension and k dimension, to give us tensors\n",
        "    #   with every possible combination of (original sequence, new token) pairs.)\n",
        "    new_logprob_sums = sum([\n",
        "        einops.repeat(self.logprob_sums, \"batch -> batch k\", k=toks_per_beam),\n",
        "        einops.rearrange(topk_logprobs, \"batch k -> (batch k)\")\n",
        "    ])\n",
        "    new_tokens = t.concat([\n",
        "        einops.repeat(self.tokens, \"batch seq -> (batch k) seq\", k=toks_per_beam),\n",
        "        einops.rearrange(topk_tokenIDs, \"batch k -> (batch k) 1\")\n",
        "    ], dim=-1)\n",
        "    return self.new_beams(new_logprob_sums, new_tokens)\n",
        "\n",
        "\n",
        "def filter(self, num_beams: int) -> Tuple[\"Beams\", \"Beams\"]:\n",
        "    '''\n",
        "    Returns:\n",
        "        best_beams: Beams\n",
        "            filtered version of self, containing all best `num_beams` which are also not terminated.\n",
        "\n",
        "        early_terminations: Beams\n",
        "            filtered version of self, containing all best `num_beams` which are also terminated.\n",
        "            i.e. the sum of lengths of these two should equal `num_beams`.\n",
        "    '''\n",
        "    # SOLUTION\n",
        "\n",
        "    # Get the indices of top `num_beams` beams\n",
        "    top_beam_indices = self.logprob_sums.topk(k=num_beams, dim=0).indices.tolist()\n",
        "    # Get the indices of terminated sequences\n",
        "    new_tokens = self.tokens[:, -1]\n",
        "    terminated_indices = t.nonzero(new_tokens == self.tokenizer.eos_token_id)\n",
        "\n",
        "    # Get the indices of the `num_beams` best sequences (some terminated, some not terminated)\n",
        "    best_continuing = [i for i in top_beam_indices if i not in terminated_indices]\n",
        "    best_terminated = [i for i in top_beam_indices if i in terminated_indices]\n",
        "\n",
        "    # Return the beam objects from these indices\n",
        "    best_beams_continuing = self.new_beams(self.logprob_sums[best_continuing], self.tokens[best_continuing])\n",
        "    best_beams_terminated = self.new_beams(self.logprob_sums[best_terminated], self.tokens[best_terminated])\n",
        "    return best_beams_continuing, best_beams_terminated\n",
        "```\n",
        "\n",
        "</details>\n"
      ]
    },
    {
      "cell_type": "markdown",
      "metadata": {
        "id": "jrXHl0GsfHOG"
      },
      "source": [
        "Once you've passed both these unit tests, you can try implementing the full beam search function. It should create a `Beams` object from the initial prompt, and then repeatedly call `generate` and `filter` until the stopping criteria are met.\n"
      ]
    },
    {
      "cell_type": "code",
      "execution_count": null,
      "metadata": {
        "id": "2Uno10GRfHOG"
      },
      "outputs": [],
      "source": [
        "TransformerSampler.beam_search = beam_search\n",
        "\n",
        "sampler = TransformerSampler(model, tokenizer)\n",
        "\n",
        "prompt = \"The ships hung in the sky in much the same way that\"\n",
        "orig_len = len(tokenizer.encode(prompt))\n",
        "\n",
        "final_logitsums_and_completions = sampler.beam_search(\n",
        "    prompt=prompt,\n",
        "    num_return_sequences=3,\n",
        "    num_beams=40,\n",
        "    max_new_tokens=60,\n",
        "    no_repeat_ngram_size=2,\n",
        "    verbose=False\n",
        ")\n",
        "\n",
        "# Print all the best output\n",
        "for logprob_sum, text in final_logitsums_and_completions:\n",
        "    avg_logprob_as_prob = t.tensor(logprob_sum / (len(tokenizer.encode(text)) - orig_len)).exp().item()\n",
        "    print(\"=\" * 25 + f\" Avg logprob (as probability) = {avg_logprob_as_prob:.3f} \" + \"=\" * 25)\n",
        "    rprint(\"Best output:\\n\\n[bold dark_orange]\" + text)"
      ]
    },
    {
      "cell_type": "markdown",
      "metadata": {
        "id": "THgjSPShfHOG"
      },
      "source": [
        "<details>\n",
        "<summary>Solution (full)</summary>\n",
        "\n",
        "A solution for the class method `get_topk_non_repeating`:\n",
        "\n",
        "```python\n",
        "def get_topk_non_repeating(\n",
        "    self,\n",
        "    logprobs: Float[Tensor, \"batch d_vocab\"],\n",
        "    no_repeat_ngram_size: Optional[int],\n",
        "    k: int,\n",
        ") -> Tuple[Float[Tensor, \"k\"], Int[Tensor, \"k\"]]:\n",
        "    '''\n",
        "    logprobs:\n",
        "        tensor of the log-probs for the next token\n",
        "    no_repeat_ngram_size:\n",
        "        size of ngram to avoid repeating\n",
        "    k:\n",
        "        number of top logits to return, for each beam in our collection\n",
        "\n",
        "    Returns:\n",
        "        equivalent to the output of `logprobs.topk(dim=-1)`, but makes sure\n",
        "        that no returned tokens would produce an ngram of size  `no_repeat_ngram_size`\n",
        "        which has already appeared in `self.tokens`.\n",
        "    '''\n",
        "    batch, seq_len = self.tokens.shape\n",
        "    neg_inf = t.tensor(-1.0e4).to(device)\n",
        "\n",
        "    # If completion isn't long enough for a repetition, or we have no restructions, just return topk\n",
        "    if (no_repeat_ngram_size is not None) and (seq_len > no_repeat_ngram_size-1):\n",
        "        # Otherwise, we need to check for ngram repetitions\n",
        "        # First, get the most recent `no_repeat_ngram_size-1` tokens\n",
        "        last_ngram_prefix = self.tokens[:, seq_len - (no_repeat_ngram_size-1):]\n",
        "        # Next, find all the tokens we're not allowed to generate (by going iterating through past ngrams and seeing if those ngram prefixes match the last one)\n",
        "        for i in range(seq_len - (no_repeat_ngram_size-1)):\n",
        "            ngrams = self.tokens[:, i:i+no_repeat_ngram_size] # (batch, ngram)\n",
        "            ngrams_are_repeated = (ngrams[:, :-1] == last_ngram_prefix).all(-1) # (batch,)\n",
        "            ngram_end_tokens = ngrams[:, [-1]] # (batch, 1)\n",
        "            # Fill logprobs with neginf wherever the ngrams are repeated\n",
        "            logprobs[range(batch), ngram_end_tokens] = t.where(\n",
        "                ngrams_are_repeated,\n",
        "                neg_inf,\n",
        "                logprobs[range(batch), ngram_end_tokens],\n",
        "        )\n",
        "\n",
        "    # Finally, get our actual tokens\n",
        "    return logprobs.topk(k=k, dim=-1)\n",
        "```\n",
        "\n",
        "and for the main function:\n",
        "\n",
        "```python\n",
        "@t.inference_mode()\n",
        "def beam_search(\n",
        "    self: TransformerSampler,\n",
        "    prompt: str,\n",
        "    num_return_sequences: int,\n",
        "    num_beams: int,\n",
        "    max_new_tokens: int,\n",
        "    no_repeat_ngram_size: Optional[int] = None,\n",
        "    verbose=False\n",
        ") -> List[Tuple[float, Tensor]]:\n",
        "    '''\n",
        "    Implements a beam search, by repeatedly performing the `generate` and `filter` steps (starting\n",
        "    from the initial prompt) until either of the two stopping criteria are met:\n",
        "\n",
        "        (1) we've generated `max_new_tokens` tokens, or\n",
        "        (2) we've generated `num_returns_sequences` terminating sequences.\n",
        "\n",
        "    To modularize this function, most of the actual complexity is in the Beams class,\n",
        "    in the `generate` and `filter` methods.\n",
        "    '''\n",
        "\n",
        "    assert num_return_sequences <= num_beams\n",
        "    self.model.eval()\n",
        "\n",
        "    # SOLUTION\n",
        "    tokens = self.tokenizer.encode(prompt, return_tensors=\"pt\").to(device)\n",
        "\n",
        "    # List for final beams to return (and early terminations)\n",
        "    final_logprobs_and_completions: List[Tuple[float, str]] = []\n",
        "    # Keep track of all best beams after each step\n",
        "    best_beams = Beams(self.model, self.tokenizer, t.tensor([0.0]).to(device), tokens)\n",
        "\n",
        "    for n in tqdm(range(max_new_tokens)):\n",
        "\n",
        "        # Generation step\n",
        "        best_beams = best_beams.generate(toks_per_beam=num_beams, no_repeat_ngram_size=no_repeat_ngram_size)\n",
        "\n",
        "        # Filtering step\n",
        "        best_beams, best_beams_terminated = best_beams.filter(num_beams=num_beams)\n",
        "        final_logprobs_and_completions.extend(best_beams_terminated.logprobs_and_completions)\n",
        "\n",
        "        # Print output\n",
        "        if verbose:\n",
        "            best_beams.print()\n",
        "\n",
        "        # Check stopping condition\n",
        "        if len(final_logprobs_and_completions) >= num_return_sequences:\n",
        "            return final_logprobs_and_completions[:num_return_sequences]\n",
        "\n",
        "    final_logprobs_and_completions.extend(best_beams.logprobs_and_completions)\n",
        "    final_logprobs_and_completions = final_logprobs_and_completions[:num_return_sequences]\n",
        "    return final_logprobs_and_completions\n",
        "```\n",
        "\n",
        "</details>\n"
      ]
    },
    {
      "cell_type": "markdown",
      "metadata": {
        "id": "J8FpquaGfHOH"
      },
      "source": [
        "## Caching\n"
      ]
    },
    {
      "cell_type": "markdown",
      "metadata": {
        "id": "_myyOt5hfHOH"
      },
      "source": [
        "*This section is also designed to be challenging, and take quite some time. There are many different ways to solve it, and you're expected to try and find your own way (you should think about this for a while before looking at the suggestions in the dropdowns). Additionally, you might not find it as interesting as some of the other sections. In this case, and if you have a lot of extra time, you might want to start on the \"building BERT\" exercises from this chapter.*\n"
      ]
    },
    {
      "cell_type": "markdown",
      "metadata": {
        "id": "vu83LC_4fHOH"
      },
      "source": [
        "### How can caching help us?\n",
        "\n",
        "The text generation we've done so far is needlessly re-computing certain values, which is very noticeable when you try to generate longer sequences.\n",
        "\n",
        "Suppose you're generating text, and you've already run GPT on the sentence \"My life motto:\". Now you want to run the model on the sentence \"My life motto: Always\". Which computations from the first sentence can you reuse?\n",
        "\n",
        "<details>\n",
        "<summary>Answer</summary>\n",
        "\n",
        "At each attention layer, the only things the attention layer needs from the previous sequence positions are the key and value vectors. This is explained in the following diagram:\n",
        "\n",
        "<img src=\"https://raw.githubusercontent.com/callummcdougall/computational-thread-art/master/example_images/misc/tl-cache.png\" width=\"600\">\n",
        "\n",
        "</details>\n"
      ]
    },
    {
      "cell_type": "markdown",
      "metadata": {
        "id": "f7xGpbbZfHOH"
      },
      "source": [
        "### Exercise - implement caching\n",
        "\n",
        "```c\n",
        "Difficulty: 🟠🟠🟠🟠🟠\n",
        "Importance: 🟠⚪⚪⚪⚪\n",
        "\n",
        "You are expected to spend well over an hour on this exercise, if you choose to do it.\n",
        "```\n",
        "\n",
        "Modify your GPT-2 to optionally use a cache. When you run your GPT on `\"My life motto:\"`, it should store the necessary values in the cache. Then in the next forward pass with just `\" Always\"` as input, it should load the cached values instead of recomputing them (and update the cache). This only needs to work with a single input sequence (batch size of 1), and you can assume that after the first forward pass, the input will be just one token.\n",
        "\n",
        "The design of the cache is completely up to you - discuss possible designs with your partner before writing code. It should be possible to have only one GPT2 instance and many different cache instances at one time. Imagine that you want to use one instance to serve multiple users submitting requests for text generation like in [AI Dungeon](https://aidungeon.io/).\n",
        "\n",
        "You'll also need to rewrite parts of your `DemoTransformer` code, in order to get this to work. The tests have been built to accommodate modules which return their output as the first element in a tuple (i.e. `(output, cache)`) rather than just returning the output, so you should use the tests to verify that your modules still work as expected.\n",
        "\n",
        "Some example considerations:\n",
        "\n",
        "* Which GPT-2 classes need to interact with the cache?\n",
        "    * Will you need to change the positional embedding, and if so then how?\n",
        "* Should the cache be mutable and be updated in place, or does updating actually just create a separate instance?\n",
        "    * *(Hint here - think about how you might use the cache during beam search.)*\n",
        "* Is it possible for other programmers to incorrectly use your cache? Is there a way to prevent this failure mode or at least detect this and complain loudly?\n"
      ]
    },
    {
      "cell_type": "markdown",
      "metadata": {
        "id": "vq-Sx8apfHOH"
      },
      "source": [
        "<details>\n",
        "<summary>Cache implentation (example)</summary>\n",
        "\n",
        "This KeyValueCache object is structured as just a fancy tensor (it inherits all the methods from Tensor). The main difference is that it has a few extra helper methods, e.g. constructing an empty cache from a Config object.\n",
        "\n",
        "There are other ways you could do this, e.g. having your `KeyValueCache` class contain list of `KeyValueCacheEntry` objects (where each of these corresponds to a different layer).\n",
        "\n",
        "```python\n",
        "# Define a type for a single layer's cache entry (useful for type checking in later functions)\n",
        "KeyValueCacheTensor = Float[Tensor, \"2 batch seq_len n_heads d_head\"]\n",
        "\n",
        "class KeyValueCache(Tensor):\n",
        "    '''\n",
        "    This class holds tensors of key and value vectors, to be used for caching.\n",
        "\n",
        "    If we define it using cfg and batch then it's initialized as empty, but\n",
        "    we can also define it from kv_cache_entries.\n",
        "    '''\n",
        "    @classmethod\n",
        "    def new_empty(cls, cfg: Config, batch: int = 1) -> \"KeyValueCache\":\n",
        "        '''\n",
        "        Doing a forward pass on a cache created in this way indicates \"we don't\n",
        "        yet have a cache, but we want this forward pass to return a cache\".\n",
        "        Whereas using cache=None in a forward pass indicates we don't want to\n",
        "        return a cache.\n",
        "        '''\n",
        "        shape = (cfg.n_layers, 2, batch, 0, cfg.n_heads, cfg.d_head)\n",
        "        return cls(*shape).to(device)\n",
        "\n",
        "    # Define a handful of properties, so they can be referenced directly rather than\n",
        "    # indexing (which is more likely to lead to mistakes)\n",
        "\n",
        "    @property\n",
        "    def k(self) -> Tensor:\n",
        "        return self[:, 0]\n",
        "\n",
        "    @property\n",
        "    def v(self) -> Tensor:\n",
        "        return self[:, 1]\n",
        "\n",
        "    @property\n",
        "    def batch(self) -> int:\n",
        "        return self.shape[2]\n",
        "    \n",
        "    @property\n",
        "    def seq_len(self) -> int:\n",
        "        return self.shape[3]\n",
        "\n",
        "\n",
        "# Example implementation:\n",
        "cfg = model.cfg\n",
        "batch = 6\n",
        "kv_cache = KeyValueCache.new_empty(cfg, batch)\n",
        "\n",
        "print(f\"Shape of all kv-cache = {tuple(kv_cache.shape)}\")\n",
        "print(f\"Shape of just k-cache = {tuple(kv_cache.k.shape)}\")\n",
        "for kv_cache_entry in kv_cache:\n",
        "    print(f\"Shape of cache entry for one layer = {tuple(kv_cache_entry.shape)}\")\n",
        "    break\n",
        "print(f\"Batch size = {kv_cache.batch}\")\n",
        "print(f\"Current sequence length = {kv_cache.seq_len}\")\n",
        "```\n",
        "\n",
        "</details>\n",
        "\n",
        "<details>\n",
        "<summary>New <code>DemoTransformer</code> components (and testing)</summary>\n",
        "\n",
        "```python\n",
        "# Define new model parts where necessary, and create a new model & test it\n",
        "# Note that sometimes our modules return a tuple of (tensor output, cache) rather than just output. The\n",
        "# tests have been built to accommodate this.\n",
        "\n",
        "\n",
        "class PosEmbed(nn.Module):\n",
        "    def __init__(self, cfg: Config):\n",
        "        super().__init__()\n",
        "        self.cfg = cfg\n",
        "        self.W_pos = nn.Parameter(t.empty((cfg.n_ctx, cfg.d_model)))\n",
        "        nn.init.normal_(self.W_pos, std=self.cfg.init_range)\n",
        "\n",
        "    def forward(\n",
        "        self,\n",
        "        tokens: Int[Tensor, \"batch position\"],\n",
        "        past_kv_pos_offset: int = 0\n",
        "    ) -> Float[Tensor, \"batch position d_model\"]:\n",
        "        \n",
        "        # SOLUTION\n",
        "        batch, seq_len = tokens.shape\n",
        "        return einops.repeat(\n",
        "            self.W_pos[past_kv_pos_offset: seq_len+past_kv_pos_offset],\n",
        "            \"seq d_model -> batch seq d_model\",\n",
        "            batch=batch\n",
        "        )\n",
        "\n",
        "\n",
        "class Attention(nn.Module):\n",
        "    IGNORE: Float[Tensor, \"\"]\n",
        "\n",
        "    def __init__(self, cfg: Config):\n",
        "        super().__init__()\n",
        "        self.cfg = cfg\n",
        "        self.W_Q = nn.Parameter(t.empty((cfg.n_heads, cfg.d_model, cfg.d_head)))\n",
        "        self.W_K = nn.Parameter(t.empty((cfg.n_heads, cfg.d_model, cfg.d_head)))\n",
        "        self.W_V = nn.Parameter(t.empty((cfg.n_heads, cfg.d_model, cfg.d_head)))\n",
        "        self.W_O = nn.Parameter(t.empty((cfg.n_heads, cfg.d_head, cfg.d_model)))\n",
        "        self.b_Q = nn.Parameter(t.zeros((cfg.n_heads, cfg.d_head)))\n",
        "        self.b_K = nn.Parameter(t.zeros((cfg.n_heads, cfg.d_head)))\n",
        "        self.b_V = nn.Parameter(t.zeros((cfg.n_heads, cfg.d_head)))\n",
        "        self.b_O = nn.Parameter(t.zeros((cfg.d_model)))\n",
        "        nn.init.normal_(self.W_Q, std=self.cfg.init_range)\n",
        "        nn.init.normal_(self.W_K, std=self.cfg.init_range)\n",
        "        nn.init.normal_(self.W_V, std=self.cfg.init_range)\n",
        "        nn.init.normal_(self.W_O, std=self.cfg.init_range)\n",
        "        self.register_buffer(\"IGNORE\", t.tensor(-1e5, dtype=t.float32, device=device))\n",
        "\n",
        "    def forward(\n",
        "        self,\n",
        "        normalized_resid_pre: Float[Tensor, \"batch posn d_model\"],\n",
        "        kv_cache_entry: Optional[KeyValueCacheTensor] = None,\n",
        "    ) -> Tuple[\n",
        "        Float[Tensor, \"batch posn d_model\"],\n",
        "        Optional[KeyValueCacheTensor]\n",
        "    ]:\n",
        "        '''\n",
        "        Returns the result of applying attention layer to normlized_resid_pre, as well as\n",
        "        the new cached key and value vectors (which we get from concatenating the old cached\n",
        "        ones with the new key and value vectors).\n",
        "        '''\n",
        "        \n",
        "        # SOLUTION\n",
        "\n",
        "        # Calculate the new query, key and value vectors\n",
        "        q = einops.einsum(\n",
        "            normalized_resid_pre, self.W_Q,\n",
        "            \"batch posn d_model, nheads d_model d_head -> batch posn nheads d_head\"\n",
        "        ) + self.b_Q\n",
        "        k = einops.einsum(\n",
        "            normalized_resid_pre, self.W_K,\n",
        "            \"batch posn d_model, nheads d_model d_head -> batch posn nheads d_head\"\n",
        "        ) + self.b_K\n",
        "        v = einops.einsum(\n",
        "            normalized_resid_pre, self.W_V,\n",
        "            \"batch posn d_model, nheads d_model d_head -> batch posn nheads d_head\"\n",
        "        ) + self.b_V\n",
        "\n",
        "        # If cache_entry is not None, this means we use the previous key and value vectors\n",
        "        # Also we'll need to get a new cache entry which will be used later to construct a new cache\n",
        "        if kv_cache_entry is not None:\n",
        "            k = t.concat([kv_cache_entry[0], k], dim=1)\n",
        "            v = t.concat([kv_cache_entry[1], v], dim=1)\n",
        "            kv_cache_entry = t.stack([k, v])\n",
        "\n",
        "        # Calculate attention scores, then scale and mask, and apply softmax to get probabilities\n",
        "        attn_scores = einops.einsum(\n",
        "            q, k,\n",
        "            \"batch posn_Q nheads d_head, batch posn_K nheads d_head -> batch nheads posn_Q posn_K\"\n",
        "        )\n",
        "        attn_scores_masked = self.apply_causal_mask(attn_scores / self.cfg.d_head ** 0.5)\n",
        "        attn_pattern = attn_scores_masked.softmax(-1)\n",
        "\n",
        "        # Take weighted sum of value vectors, according to attention probabilities\n",
        "        z = einops.einsum(\n",
        "            v, attn_pattern,\n",
        "            \"batch posn_K nheads d_head, batch nheads posn_Q posn_K -> batch posn_Q nheads d_head\"\n",
        "        )\n",
        "\n",
        "        # Calculate output (by applying matrix W_O and summing over heads, then adding bias b_O)\n",
        "        out = einops.einsum(\n",
        "            z, self.W_O,\n",
        "            \"batch posn_Q nheads d_head, nheads d_head d_model -> batch posn_Q d_model\"\n",
        "        ) + self.b_O\n",
        "\n",
        "        return out, kv_cache_entry\n",
        "\n",
        "    def apply_causal_mask(\n",
        "        self, attn_scores: Float[Tensor, \"batch n_heads query_pos key_pos\"]\n",
        "    ) -> Float[Tensor, \"batch n_heads query_pos key_pos\"]:\n",
        "        '''\n",
        "        Here, attn_scores have shape (batch, n_heads, query_pos, key_pos), where query_pos represents the\n",
        "        new (non-cached) positions, and key_pos represent all the positions (cached and non-cached).\n",
        "\n",
        "        So when we create our mask, the query indices and key indices will both go up to the same value\n",
        "        (the full sequence length), but the query indices will start at >0.\n",
        "        '''\n",
        "        new_seq_len, full_seq_len = attn_scores.shape[-2:]\n",
        "        assert new_seq_len <= full_seq_len\n",
        "        q_posn = einops.repeat(attn_scores.new_tensor(range(full_seq_len-new_seq_len, full_seq_len)), \"q -> q k\", k=full_seq_len)\n",
        "        k_posn = einops.repeat(attn_scores.new_tensor(range(full_seq_len)), \"k -> q k\", q=new_seq_len)\n",
        "        mask = q_posn < k_posn\n",
        "        attn_scores = attn_scores.masked_fill(mask, self.IGNORE)\n",
        "        return attn_scores\n",
        "\n",
        "\n",
        "class TransformerBlock(nn.Module):\n",
        "    def __init__(self, cfg: Config):\n",
        "        super().__init__()\n",
        "        self.cfg = cfg\n",
        "        self.ln1 = LayerNorm(cfg)\n",
        "        self.attn = Attention(cfg)\n",
        "        self.ln2 = LayerNorm(cfg)\n",
        "        self.mlp = MLP(cfg)\n",
        "\n",
        "    def forward(\n",
        "        self,\n",
        "        resid_pre: Float[Tensor, \"batch position d_model\"],\n",
        "        kv_cache_entry: Optional[KeyValueCacheTensor] = None,\n",
        "    ) -> Float[Tensor, \"batch position d_model\"]:\n",
        "\n",
        "        # SOLUTION\n",
        "        attn_out, kv_cache_entry = self.attn(self.ln1(resid_pre), kv_cache_entry)\n",
        "        resid_mid = attn_out + resid_pre\n",
        "        resid_post = self.mlp(self.ln2(resid_mid)) + resid_mid\n",
        "        return resid_post, kv_cache_entry\n",
        "\n",
        "\n",
        "\n",
        "class DemoTransformer(nn.Module):\n",
        "    def __init__(self, cfg: Config):\n",
        "        super().__init__()\n",
        "        self.cfg = cfg\n",
        "        self.embed = Embed(cfg)\n",
        "        self.pos_embed = PosEmbed(cfg)\n",
        "        self.blocks = nn.ModuleList([TransformerBlock(cfg) for _ in range(cfg.n_layers)])\n",
        "        self.ln_final = LayerNorm(cfg)\n",
        "        self.unembed = Unembed(cfg)\n",
        "\n",
        "    def forward(\n",
        "        self,\n",
        "        tokens: Int[Tensor, \"batch seq_pos\"],\n",
        "        kv_cache: Optional[KeyValueCache] = None\n",
        "    ) -> Float[Tensor, \"batch position d_vocab\"]:\n",
        "        \n",
        "        using_kv_cache = kv_cache is not None\n",
        "\n",
        "        if using_kv_cache:\n",
        "            # If using kv_cache, then we only need to pass forward the newest tokens\n",
        "            # Remember to add positional offset!\n",
        "            n_cached_tokens = kv_cache.seq_len\n",
        "            tokens = tokens[:, n_cached_tokens:]\n",
        "            residual = self.embed(tokens) + self.pos_embed(tokens, n_cached_tokens)\n",
        "        else:\n",
        "            # If not using cache, turn it into a list of None's (so we can iterate through it)\n",
        "            kv_cache = [None for _ in range(self.cfg.n_layers)]\n",
        "            residual = self.embed(tokens) + self.pos_embed(tokens)\n",
        "        \n",
        "        # Apply all layers, and create a (new) kv_cache from the key & value vectors\n",
        "        new_kv_cache_entries: List[KeyValueCacheTensor] = []\n",
        "        for block, kv_cache_entry in zip(self.blocks, kv_cache):\n",
        "            residual, kv_cache_entry = block(residual, kv_cache_entry)\n",
        "            if using_kv_cache: new_kv_cache_entries.append(kv_cache_entry)\n",
        "        \n",
        "        logits = self.unembed(self.ln_final(residual))\n",
        "        \n",
        "        if using_kv_cache:\n",
        "            return logits, KeyValueCache(t.stack(new_kv_cache_entries))\n",
        "        else:\n",
        "            return logits, None\n",
        "\n",
        "\n",
        "tokens = reference_gpt2.to_tokens(reference_text).to(device)\n",
        "logits, cache = reference_gpt2.run_with_cache(tokens)\n",
        "\n",
        "rand_int_test(PosEmbed, [2, 4])\n",
        "load_gpt2_test(PosEmbed, reference_gpt2.pos_embed, tokens)\n",
        "rand_float_test(Attention, [2, 4, 768])\n",
        "load_gpt2_test(Attention, reference_gpt2.blocks[0].attn, cache[\"normalized\", 0, \"ln1\"])\n",
        "rand_float_test(TransformerBlock, [2, 4, 768])\n",
        "load_gpt2_test(TransformerBlock, reference_gpt2.blocks[0], cache[\"resid_pre\", 0])\n",
        "rand_int_test(DemoTransformer, [2, 4])\n",
        "load_gpt2_test(DemoTransformer, reference_gpt2, tokens)\n",
        "```\n",
        "\n",
        "</details>\n",
        "\n",
        "<details>\n",
        "<summary>New sampling function</summary>\n",
        "\n",
        "```python\n",
        "@t.inference_mode()\n",
        "def sample_with_cache(\n",
        "    self: TransformerSampler,\n",
        "    prompt: str,\n",
        "    max_tokens_generated=100,\n",
        "    kv_cache: Optional[KeyValueCache] = None,\n",
        "    verbose=False,\n",
        "    seed: Optional[int] = None,\n",
        "    **kwargs\n",
        ") -> str:\n",
        "    \n",
        "    # SOLUTION\n",
        "    self.model.eval()\n",
        "    input_ids = self.tokenizer.encode(prompt, return_tensors=\"pt\").to(device)[0]\n",
        "    if seed is not None:\n",
        "        np.random.seed(seed)\n",
        "        t.manual_seed(seed)\n",
        "\n",
        "    for i in tqdm(range(max_tokens_generated)):\n",
        "        # Get new logits (make sure we don't pass in more tokens than the model's context length)\n",
        "        logits, kv_cache = self.model(input_ids[None, -self.cfg.n_ctx:], kv_cache)\n",
        "        # We only take logits for the last token, because this is what we're sampling\n",
        "        logits = logits[0, -1]\n",
        "        # Get next token (as a tensor of size (1, 1) so we can concat it to input_ids)\n",
        "        next_token = t.tensor([TransformerSampler.sample_next_token(input_ids, logits, **kwargs)], device=device)\n",
        "        # Create new input ids string, with shape (1, old_seq_len + 1)\n",
        "        input_ids = t.cat([input_ids, next_token], dim=-1)\n",
        "        # Print out results, if required\n",
        "        if verbose:\n",
        "            print(self.tokenizer.decode(input_ids), end=\"\\r\")\n",
        "        # If our new token was the end-of-text token, stop\n",
        "        if next_token == getattr(self.tokenizer, \"eos_token_id\", None):\n",
        "            break\n",
        "    \n",
        "    return self.tokenizer.decode(input_ids)\n",
        "\n",
        "\n",
        "TransformerSampler.sample = sample_with_cache\n",
        "```\n",
        "</details>\n",
        "\n",
        "<details>\n",
        "<summary>Code to verify that the same output is being produced by cache and no-cache versions (and to compare speeds)</summary>\n",
        "\n",
        "```python\n",
        "device = t.device(\"cuda\") # can also try \"cpu\"\n",
        "\n",
        "model = DemoTransformer(Config()).to(device)\n",
        "model.load_state_dict(reference_gpt2.state_dict(), strict=False);\n",
        "\n",
        "initial_text = \"Eliezer Shlomo Yudkowsky (born September 11, 1979) is an American decision and artificial intelligence (AI) theorist and writer, best known for\"\n",
        "# input_ids = tokenizer.encode(initial_text, return_tensors=\"pt\").squeeze()\n",
        "\n",
        "sampler = TransformerSampler(model, tokenizer)\n",
        "\n",
        "# Run the noncached version\n",
        "t0 = time.time()\n",
        "text = sampler.sample(\n",
        "    initial_text,\n",
        "    temperature=0.7,\n",
        "    top_p=0.95,\n",
        "    seed=0,\n",
        ")\n",
        "print(f\"Time taken (without cache): {time.time() - t0:.2f} seconds\")\n",
        "rprint(f\"Model output:\\n\\n[bold dark_orange]{text}[/]\")\n",
        "\n",
        "# Run the cached version\n",
        "t0 = time.time()\n",
        "text_with_cache = sampler.sample(\n",
        "    initial_text,\n",
        "    temperature=0.7,\n",
        "    top_p=0.95,\n",
        "    seed=0,\n",
        "    kv_cache=KeyValueCache.new_empty(sampler.cfg)\n",
        ")\n",
        "print(f\"Time taken (with cache): {time.time() - t0:.2f} seconds\")\n",
        "rprint(f\"Model output:\\n\\n[bold dark_orange]{text_with_cache}[/]\")\n",
        "\n",
        "# # Check they are the same\n",
        "assert text == text_with_cache, \"Your outputs are different, meaning you've probably made a mistake in your cache implementation (or failed to use random seeds).\"\n",
        "print(\"Tests passed!\")\n",
        "```\n",
        "\n",
        "</details>\n"
      ]
    },
    {
      "cell_type": "markdown",
      "metadata": {
        "id": "FhYU3O6sfHOH"
      },
      "source": [
        "You may find that your cache implementation provides a modest speedup, but probably not close to the `seq_len`-factor speedup you'd expect from the fact that you only compute one additional token at each step rather than all of them. Why is this? The answer is that, much like everything to do with computational and memory costs in deep learning, it's not so simple. There are a host of different factors which might be bottlenecking our model's forward pass speed. If you try this on the CPU, you should get a much more noticeable speedup.\n",
        "\n",
        "For a bit more on these topics, see [here](https://kipp.ly/blog/transformer-inference-arithmetic/#kv-cache).\n"
      ]
    },
    {
      "cell_type": "markdown",
      "metadata": {
        "id": "0S_uxUzRfHOH"
      },
      "source": [
        "## Bonus - cached beam search\n",
        "\n",
        "Can you modify your beam search function to use caching?\n",
        "\n",
        "Depending on how you implemented your cache earlier, you might find that a different form of caching is better suited to beam search.\n",
        "\n",
        "Again, we've provided an example implementation in a dropdown below, which is based on the cache implementation above and the previous solution for `beam_search`.\n",
        "\n",
        "<details>\n",
        "<summary>Cached beam search function</summary>\n",
        "\n",
        "As we touched on earlier, thanks to our modular code, not a lot needs to be changed when adding cache support.\n",
        "\n",
        "```python\n",
        "@dataclass\n",
        "class Beams:\n",
        "    '''Class to store beams during beam search.'''\n",
        "    model: DemoTransformer\n",
        "    tokenizer: GPT2TokenizerFast\n",
        "    logprob_sums: Float[Tensor, \"batch\"]\n",
        "    tokens: Int[Tensor, \"batch seq\"]\n",
        "    kv_cache: Optional[KeyValueCache] = None\n",
        "\n",
        "    def new_beams(self, logprob_sums, tokens, kv_cache) -> \"Beams\":\n",
        "        '''Creates a new Beams object with the same model and tokenizer.'''\n",
        "        return Beams(self.model, self.tokenizer, logprob_sums, tokens, kv_cache)\n",
        "\n",
        "    def __getitem__(self, idx) -> \"Beams\":\n",
        "        '''Helpful function allowing you to take a slice of the beams object along the batch dimension.'''\n",
        "        return self.new_beams(\n",
        "            self.logprob_sums[idx],\n",
        "            self.tokens[idx],\n",
        "            self.kv_cache[:, :, idx] if self.kv_cache is not None else None\n",
        "        )\n",
        "\n",
        "    @property\n",
        "    def logprobs_and_completions(self) -> List[Tuple[float, str]]:\n",
        "        '''Returns self as a list of logprob sums and completions (useful for getting final output).'''\n",
        "        return [\n",
        "            (logprob_sum.item(), self.tokenizer.decode(tokens))\n",
        "            for (logprob_sum, tokens) in zip(self.logprob_sums, self.tokens)\n",
        "        ]\n",
        "    \n",
        "\n",
        "    def generate(self, new_beams: int, no_repeat_ngram_size: Optional[int] = None) -> \"Beams\":\n",
        "        '''\n",
        "        Starting from the current set of beams (which has length `num_beams`), returns a new\n",
        "        set of `num_beams * new_beams`, containing the best `new_beams` continuations for each\n",
        "        of the original beams.\n",
        "\n",
        "        Optional argument `no_repeat_ngram_size` means your model won't generate any sequences with\n",
        "        a repeating n-gram of this length (don't worry about implementing this until later).\n",
        "        '''\n",
        "        # SOLUTION\n",
        "\n",
        "        # Get the output logprobs for the next token (for every sequence in current beams)\n",
        "        logprobs, kv_cache = self.model(self.tokens, self.kv_cache)\n",
        "        logprobs = logprobs[:, -1, :].log_softmax(-1)\n",
        "\n",
        "        # Get the top `new_beams` tokens for each sequence\n",
        "        topk_logprobs, topk_tokenIDs = self.get_topk_non_repeating(logprobs, no_repeat_ngram_size, k=new_beams)\n",
        "\n",
        "        # Get all of the new possible beams, via einops operations\n",
        "        #   Here, we're effectively flattening out the batch dimension and k dimension, to give us tensors\n",
        "        #   with every possible combination of (original sequence, new token) pairs.)\n",
        "        new_logprob_sums = sum([\n",
        "            einops.repeat(self.logprob_sums, \"batch -> (batch k)\", k=new_beams),\n",
        "            einops.rearrange(topk_logprobs, \"batch k -> (batch k)\")\n",
        "        ])\n",
        "        new_tokens = t.concat([\n",
        "            einops.repeat(self.tokens, \"batch seq -> (batch k) seq\", k=new_beams),\n",
        "            einops.rearrange(topk_tokenIDs, \"batch k -> (batch k) 1\")\n",
        "        ], dim=-1)\n",
        "        new_kv_cache = None if (self.kv_cache is None) else einops.repeat(\n",
        "            kv_cache, \"layer k_and_v batch ... -> layer k_and_v (batch k) ...\", k=new_beams\n",
        "        )\n",
        "        return self.new_beams(new_logprob_sums, new_tokens, new_kv_cache)\n",
        "\n",
        "\n",
        "    def filter(self, num_beams: int) -> Tuple[\"Beams\", \"Beams\"]:\n",
        "        '''\n",
        "        Returns:\n",
        "            best_beams: Beams\n",
        "                filtered version of self, containing all best `num_beams` which are also not terminated.\n",
        "\n",
        "            early_terminations: Beams\n",
        "                filtered version of self, containing all best `num_beams` which are also terminated.\n",
        "                i.e. the sum of lengths of these two should equal `num_beams`.\n",
        "        '''\n",
        "        # SOLUTION\n",
        "\n",
        "        # Get the indices of top `num_beams` beams\n",
        "        top_beam_indices = self.logprob_sums.topk(k=num_beams, dim=0).indices.tolist()\n",
        "        # Get the indices of terminated sequences\n",
        "        new_tokens = self.tokens[:, -1]\n",
        "        terminated_indices = t.nonzero(new_tokens == self.tokenizer.eos_token_id)\n",
        "\n",
        "        # Get the indices of the `num_beams` best sequences (some terminated, some not terminated)\n",
        "        best_continuing = [i for i in top_beam_indices if i not in terminated_indices]\n",
        "        best_terminated = [i for i in top_beam_indices if i in terminated_indices]\n",
        "\n",
        "        # Return the beam objects from these indices\n",
        "        return self[best_continuing], self[best_terminated]\n",
        "\n",
        "            \n",
        "    def get_topk_non_repeating(\n",
        "        self,\n",
        "        logprobs: Float[Tensor, \"batch d_vocab\"],\n",
        "        no_repeat_ngram_size: Optional[int],\n",
        "        k: int,\n",
        "    ) -> Tuple[Float[Tensor, \"k\"], Int[Tensor, \"k\"]]:\n",
        "        '''\n",
        "        logprobs:\n",
        "            tensor of the log-probs for the next token\n",
        "        no_repeat_ngram_size:\n",
        "            size of ngram to avoid repeating\n",
        "        k:\n",
        "            number of top logits to return, for each beam in our collection\n",
        "\n",
        "        Returns:\n",
        "            equivalent to the output of `logprobs.topk(dim=-1)`, but makes sure\n",
        "            that no returned tokens would produce an ngram of size  `no_repeat_ngram_size`\n",
        "            which has already appeared in `self.tokens`.\n",
        "        '''\n",
        "        batch, seq_len = self.tokens.shape\n",
        "        neg_inf = t.tensor(-1.0e4).to(device)\n",
        "\n",
        "        # If completion isn't long enough for a repetition, or we have no restructions, just return topk\n",
        "        if (no_repeat_ngram_size is not None) and (seq_len > no_repeat_ngram_size-1):\n",
        "            # Otherwise, we need to check for ngram repetitions\n",
        "            # First, get the most recent `no_repeat_ngram_size-1` tokens\n",
        "            last_ngram_prefix = self.tokens[:, seq_len - (no_repeat_ngram_size-1):]\n",
        "            # Next, find all the tokens we're not allowed to generate (by going iterating through past ngrams and seeing if those ngram prefixes match the last one)\n",
        "            for i in range(seq_len - (no_repeat_ngram_size-1)):\n",
        "                ngrams = self.tokens[:, i:i+no_repeat_ngram_size] # (batch, ngram)\n",
        "                ngrams_are_repeated = (ngrams[:, :-1] == last_ngram_prefix).all(-1) # (batch,)\n",
        "                ngram_end_tokens = ngrams[:, [-1]] # (batch, 1)\n",
        "                # Fill logprobs with neginf wherever the ngrams are repeated\n",
        "                logprobs[range(batch), ngram_end_tokens] = t.where(\n",
        "                    ngrams_are_repeated,\n",
        "                    neg_inf,\n",
        "                    logprobs[range(batch), ngram_end_tokens],\n",
        "            )\n",
        "\n",
        "        # Finally, get our actual tokens\n",
        "        return logprobs.topk(k=k, dim=-1)\n",
        "\n",
        "    def print(self, title=\"Best completions\", max_print_chars=80) -> None:\n",
        "        '''\n",
        "        Prints out a set of sequences with their corresponding logitsums.\n",
        "        '''\n",
        "        if len(self.tokens) == 0:\n",
        "            return\n",
        "        table = Table(\"logitsum\", \"completion\", title=title)\n",
        "        for logprob_sum, tokens in zip(self.logprob_sums, self.tokens):\n",
        "            text = self.tokenizer.decode(tokens)\n",
        "            if len(repr(text)) > max_print_chars:\n",
        "                text = text[:int(0.3 * max_print_chars)] + \" ... \" + text[-int(0.7 * max_print_chars):]\n",
        "            table.add_row(f\"{logprob_sum:>8.3f}\", repr(text))\n",
        "        rprint(table)\n",
        "\n",
        "\n",
        "@t.inference_mode()\n",
        "def beam_search(\n",
        "    self: TransformerSampler,\n",
        "    prompt: str,\n",
        "    num_return_sequences: int,\n",
        "    num_beams: int,\n",
        "    max_new_tokens: int,\n",
        "    no_repeat_ngram_size: Optional[int] = None,\n",
        "    kv_cache: Optional[KeyValueCache] = None,\n",
        "    verbose=False\n",
        ") -> List[Tuple[float, Tensor]]:\n",
        "    '''\n",
        "    Implements a beam search, by repeatedly performing the `generate` and `filter` steps (starting\n",
        "    from the initial prompt) until either of the two stopping criteria are met:\n",
        "\n",
        "        (1) we've generated `max_new_tokens` tokens, or\n",
        "        (2) we've generated `num_returns_sequences` terminating sequences.\n",
        "\n",
        "    To modularize this function, most of the actual complexity is in the Beams class,\n",
        "    in the `generate` and `filter` methods.\n",
        "    '''\n",
        "\n",
        "    assert num_return_sequences <= num_beams\n",
        "    self.model.eval()\n",
        "\n",
        "    # SOLUTION\n",
        "    tokens = self.tokenizer.encode(prompt, return_tensors=\"pt\").to(device)\n",
        "\n",
        "    # List for final beams to return (and early terminations)\n",
        "    final_logprobs_and_completions: List[Tuple[float, str]] = []\n",
        "    # Keep track of all best beams after each step\n",
        "    best_beams = Beams(self.model, self.tokenizer, t.tensor([0.0]).to(device), tokens, kv_cache)\n",
        "\n",
        "    for n in tqdm(range(max_new_tokens)):\n",
        "\n",
        "        # Generation step\n",
        "        best_beams = best_beams.generate(num_beams, no_repeat_ngram_size)\n",
        "\n",
        "        # Filtering step\n",
        "        best_beams, best_beams_terminated = best_beams.filter(num_beams)\n",
        "        final_logprobs_and_completions.extend(best_beams_terminated.logprobs_and_completions)\n",
        "\n",
        "        # Print output\n",
        "        if verbose:\n",
        "            best_beams.print()\n",
        "\n",
        "        # Check stopping condition\n",
        "        if len(final_logprobs_and_completions) >= num_return_sequences:\n",
        "            return final_logprobs_and_completions[:num_return_sequences]\n",
        "\n",
        "    final_logprobs_and_completions.extend(best_beams.logprobs_and_completions)\n",
        "    final_logprobs_and_completions = final_logprobs_and_completions[:num_return_sequences]\n",
        "    return final_logprobs_and_completions\n",
        "\n",
        "\n",
        "TransformerSampler.beam_search = beam_search\n",
        "```\n",
        "\n",
        "</details>\n",
        "\n",
        "<details>\n",
        "<summary>Code to verify that the same output is being produced by cache and no-cache versions (and to compare speeds)</summary>\n",
        "\n",
        "```python\n",
        "prompt = \"For you, the day Bison graced your village was the most important day of your life. But for me, it was\"\n",
        "orig_len = len(tokenizer.encode(prompt))\n",
        "\n",
        "beam_search_kwargs = dict(\n",
        "    prompt=prompt,\n",
        "    num_return_sequences=3,\n",
        "    num_beams=20,\n",
        "    max_new_tokens=60,\n",
        "    no_repeat_ngram_size=2,\n",
        "    verbose=False\n",
        ")\n",
        "\n",
        "sampler = TransformerSampler(model, tokenizer)\n",
        "\n",
        "# Run the noncached version\n",
        "t0 = time.time()\n",
        "final_logitsums_and_completions = sampler.beam_search(**beam_search_kwargs)\n",
        "logprob_sum, text = final_logitsums_and_completions[0]\n",
        "avg_logprob_as_prob = t.tensor(logprob_sum / (len(tokenizer.encode(text)) - orig_len)).exp().item()\n",
        "print(f\"Time (without cache): {time.time() - t0:.2f} seconds\")\n",
        "print(f\"Avg logprob (expressed as a probability) = {avg_logprob_as_prob:.3f}\")\n",
        "rprint(f\"Output:\\n\\n[bold dark_orange]{text}[/]\\n\\n\")\n",
        "\n",
        "# Run the cached version\n",
        "t0 = time.time()\n",
        "beam_search_kwargs[\"kv_cache\"] = KeyValueCache.new_empty(model.cfg)\n",
        "final_logitsums_and_completions = sampler.beam_search(**beam_search_kwargs)\n",
        "logprob_sum, text_with_cache = final_logitsums_and_completions[0]\n",
        "avg_logprob_as_prob = t.tensor(logprob_sum / (len(tokenizer.encode(text)) - orig_len)).exp().item()\n",
        "print(f\"Time (with cache): {time.time() - t0:.2f} seconds\")\n",
        "print(f\"Avg logprob (as probability) = {avg_logprob_as_prob:.3f}\", end=\"\")\n",
        "rprint(f\"Output:\\n\\n[bold dark_orange]{text_with_cache}[/]\\n\\n\")\n",
        "\n",
        "# Check they are the same\n",
        "assert text == text_with_cache, \"Your outputs are different, meaning you've probably made a mistake in your cache implementation.\"\n",
        "print(\"Tests passed!\")\n",
        "```\n",
        "\n",
        "</details>\n"
      ]
    }
  ],
  "metadata": {
    "accelerator": "GPU",
    "colab": {
      "collapsed_sections": [
        "VLJL82W0oWzF"
      ],
      "gpuClass": "premium",
      "gpuType": "V100",
      "provenance": [],
      "toc_visible": true
    },
    "kernelspec": {
      "display_name": "arena",
      "language": "python",
      "name": "python3"
    },
    "language_info": {
      "codemirror_mode": {
        "name": "ipython",
        "version": 3
      },
      "file_extension": ".py",
      "mimetype": "text/x-python",
      "name": "python",
      "nbconvert_exporter": "python",
      "pygments_lexer": "ipython3",
      "version": "3.9.13"
    },
    "orig_nbformat": 4,
    "vscode": {
      "interpreter": {
        "hash": "0575d7a87c0e74eddddcbc1a627da1d71db6b89a3121c036174dfb29a1bf0df3"
      }
    }
  },
  "nbformat": 4,
  "nbformat_minor": 0
}